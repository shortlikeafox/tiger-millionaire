{
 "cells": [
  {
   "cell_type": "code",
   "execution_count": 1,
   "id": "692ee30b",
   "metadata": {},
   "outputs": [],
   "source": [
    "import pandas as pd"
   ]
  },
  {
   "cell_type": "code",
   "execution_count": 2,
   "id": "527fcf37",
   "metadata": {},
   "outputs": [],
   "source": [
    "models= pd.read_csv('../../data/models_mov.csv').columns"
   ]
  },
  {
   "cell_type": "code",
   "execution_count": 3,
   "id": "d7fa14a7",
   "metadata": {},
   "outputs": [
    {
     "data": {
      "text/plain": [
       "Index(['model_0', 'model_1', 'model_2', 'model_3', 'model_4', 'model_5',\n",
       "       'model_6', 'model_7', 'model_8', 'model_9', 'model_10', 'model_11',\n",
       "       'model_12', 'model_13', 'model_14', 'model_15', 'model_16'],\n",
       "      dtype='object')"
      ]
     },
     "execution_count": 3,
     "metadata": {},
     "output_type": "execute_result"
    }
   ],
   "source": [
    "models"
   ]
  },
  {
   "cell_type": "code",
   "execution_count": 4,
   "id": "500bc6d0",
   "metadata": {},
   "outputs": [],
   "source": [
    "number_of_models = len(models)"
   ]
  },
  {
   "cell_type": "code",
   "execution_count": 5,
   "id": "e885238c",
   "metadata": {},
   "outputs": [
    {
     "name": "stdout",
     "output_type": "stream",
     "text": [
      "\n",
      "\n",
      "OPTIMIZING MODEL 0\n",
      "\n",
      "\n",
      "model_0\n",
      "LogisticRegression(max_iter=50000, random_state=75, solver='newton-cg',\n",
      "                   tol=0.00012)\n",
      "['total_title_bout_dif', 'B_Lightweight_rank', 'R_Bantamweight_rank', 'B_avg_TD_pct', 'B_Light Heavyweight_rank', 'R_Welterweight_rank', 'R_avg_SUB_ATT', \"B_Women's Flyweight_rank\", 'R_Lightweight_rank', 'R_total_rounds_fought', 'R_Light Heavyweight_rank', 'B_win_by_Decision_Split', 'R_Flyweight_rank', 'B_Welterweight_rank', 'no_of_rounds', 'R_total_title_bouts', 'gender', 'R_win_by_Decision_Split', 'Blue - SUB', 'B_Bantamweight_rank', 'R_odds', 'Red - SUB', 'Blue - DEC', \"R_Women's Featherweight_rank\", 'B_draw', 'R_Middleweight_rank', 'B_avg_SIG_STR_pct', \"B_Women's Strawweight_rank\", 'age_dif', 'B_Middleweight_rank', 'avg_sub_att_dif', 'B_avg_SUB_ATT', 'R_Reach_cms', 'R_wins', 'B_ev', 'R_Weight_lbs', 'sub_dif', 'R_ev', 'B_avg_TD_landed']\n",
      "23\n",
      "Current best score is: 27307.203487520128\n",
      "Feature: B_odds Score: 27704.8701541868\n",
      "Feature: B_longest_win_streak Score: 27816.246965781\n",
      "Feature: B_losses Score: 28138.203487520128\n",
      "Feature: R_Women's Flyweight_rank Score: 28799.203487520128\n",
      "The best feature was R_Women's Flyweight_rank.  It scored 28799.203487520128\n",
      "Current best score is: 28799.203487520128\n",
      "Feature: B_longest_win_streak Score: 29470.246965781\n",
      "Feature: R_longest_win_streak Score: 29915.203487520128\n",
      "Feature: R_age Score: 30855.160009259256\n",
      "The best feature was R_age.  It scored 30855.160009259256\n",
      "Current best score is: 30855.160009259256\n",
      "NO IMPROVEMENT\n",
      "FINAL BEST SCORE: 30855.160009259256\n",
      "\n",
      "model_0\n",
      "LogisticRegression(max_iter=50000, random_state=75, solver='newton-cg',\n",
      "                   tol=0.00012)\n",
      "['R_age', \"R_Women's Flyweight_rank\", 'total_title_bout_dif', 'B_Lightweight_rank', 'R_Bantamweight_rank', 'B_avg_TD_pct', 'B_Light Heavyweight_rank', 'R_Welterweight_rank', 'R_avg_SUB_ATT', \"B_Women's Flyweight_rank\", 'R_Lightweight_rank', 'R_total_rounds_fought', 'R_Light Heavyweight_rank', 'B_win_by_Decision_Split', 'R_Flyweight_rank', 'B_Welterweight_rank', 'no_of_rounds', 'R_total_title_bouts', 'gender', 'R_win_by_Decision_Split', 'Blue - SUB', 'B_Bantamweight_rank', 'R_odds', 'Red - SUB', 'Blue - DEC', \"R_Women's Featherweight_rank\", 'B_draw', 'R_Middleweight_rank', 'B_avg_SIG_STR_pct', \"B_Women's Strawweight_rank\", 'age_dif', 'B_Middleweight_rank', 'avg_sub_att_dif', 'B_avg_SUB_ATT', 'R_Reach_cms', 'R_wins', 'B_ev', 'R_Weight_lbs', 'sub_dif', 'R_ev', 'B_avg_TD_landed']\n",
      "23\n",
      "\n"
     ]
    },
    {
     "data": {
      "text/plain": [
       "(2738, 42)"
      ]
     },
     "metadata": {},
     "output_type": "display_data"
    },
    {
     "data": {
      "text/plain": [
       "(2738,)"
      ]
     },
     "metadata": {},
     "output_type": "display_data"
    },
    {
     "data": {
      "text/plain": [
       "(2738, 6)"
      ]
     },
     "metadata": {},
     "output_type": "display_data"
    },
    {
     "data": {
      "text/plain": [
       "(241, 42)"
      ]
     },
     "metadata": {},
     "output_type": "display_data"
    },
    {
     "data": {
      "text/plain": [
       "(241,)"
      ]
     },
     "metadata": {},
     "output_type": "display_data"
    },
    {
     "data": {
      "text/plain": [
       "(241, 6)"
      ]
     },
     "metadata": {},
     "output_type": "display_data"
    },
    {
     "name": "stdout",
     "output_type": "stream",
     "text": [
      "250     3\n",
      "251     3\n",
      "252     4\n",
      "253     3\n",
      "254     0\n",
      "       ..\n",
      "4192    0\n",
      "4200    1\n",
      "4201    3\n",
      "4202    5\n",
      "4203    5\n",
      "Name: label, Length: 2738, dtype: int64\n",
      "Real Score: 1530.0\n",
      "HI\n",
      "HI\n",
      "HI\n",
      "HI\n",
      "HI\n",
      "\n",
      "\n",
      "Starting New Run for LogisticRegression\n",
      "\n",
      "\n",
      "Previous Best Score: 30855.160009259256\n",
      "solver: newton-cg penalty: l2 tol: 0.00012 Score: 30855.160009259256\n",
      "solver: newton-cg penalty: l2 tol: 0.000144 Score: 30855.160009259256\n",
      "solver: newton-cg penalty: l2 tol: 9.6e-05 Score: 30855.160009259256\n",
      "solver: newton-cg penalty: l2 tol: 3.0732479410439595 Score: 29135.92191402116\n",
      "solver: newton-cg penalty: none tol: 0.00012 Score: 29231.160009259256\n",
      "solver: newton-cg penalty: none tol: 0.000144 Score: 29231.160009259256\n",
      "solver: newton-cg penalty: none tol: 9.6e-05 Score: 29231.160009259256\n",
      "solver: newton-cg penalty: none tol: 3.0732479410439595 Score: 29118.92191402116\n",
      "solver: lbfgs penalty: l2 tol: 0.00012 Score: 30755.160009259256\n",
      "solver: lbfgs penalty: l2 tol: 0.000144 Score: 30755.160009259256\n",
      "solver: lbfgs penalty: l2 tol: 9.6e-05 Score: 30755.160009259256\n",
      "solver: lbfgs penalty: l2 tol: 3.0732479410439595 Score: 28129.92191402116\n",
      "solver: lbfgs penalty: none tol: 0.00012 Score: 28756.160009259256\n",
      "solver: lbfgs penalty: none tol: 0.000144 Score: 28756.160009259256\n",
      "solver: lbfgs penalty: none tol: 9.6e-05 Score: 28756.160009259256\n",
      "solver: lbfgs penalty: none tol: 3.0732479410439595 Score: 27278.975968075218\n",
      "\n",
      "NEW BEST SCORE\n",
      "solver: sag penalty: l2 tol: 0.00012 Best Score: 30955.160009259256\n",
      "\n",
      "\n",
      "solver: sag penalty: l2 tol: 0.000144 Score: 30955.160009259256\n",
      "solver: sag penalty: l2 tol: 9.6e-05 Score: 30855.160009259256\n",
      "solver: sag penalty: l2 tol: 3.0732479410439595 Score: -9373.140480339971\n",
      "solver: sag penalty: none tol: 0.00012 Score: 29131.160009259256\n",
      "solver: sag penalty: none tol: 0.000144 Score: 29131.160009259256\n",
      "solver: sag penalty: none tol: 9.6e-05 Score: 29131.160009259256\n",
      "solver: sag penalty: none tol: 3.0732479410439595 Score: -9453.140480339971\n",
      "\n",
      "\n",
      "Starting New Run for LogisticRegression\n",
      "\n",
      "\n",
      "Previous Best Score: 30955.160009259256\n",
      "solver: newton-cg penalty: l2 tol: 0.00012 Score: 30855.160009259256\n",
      "solver: newton-cg penalty: l2 tol: 0.000144 Score: 30855.160009259256\n",
      "solver: newton-cg penalty: l2 tol: 9.6e-05 Score: 30855.160009259256\n",
      "solver: newton-cg penalty: l2 tol: 2.786480633273486 Score: 29135.92191402116\n",
      "solver: newton-cg penalty: none tol: 0.00012 Score: 29231.160009259256\n",
      "solver: newton-cg penalty: none tol: 0.000144 Score: 29231.160009259256\n",
      "solver: newton-cg penalty: none tol: 9.6e-05 Score: 29231.160009259256\n",
      "solver: newton-cg penalty: none tol: 2.786480633273486 Score: 28443.160009259256\n",
      "solver: lbfgs penalty: l2 tol: 0.00012 Score: 30755.160009259256\n",
      "solver: lbfgs penalty: l2 tol: 0.000144 Score: 30755.160009259256\n",
      "solver: lbfgs penalty: l2 tol: 9.6e-05 Score: 30755.160009259256\n",
      "solver: lbfgs penalty: l2 tol: 2.786480633273486 Score: 27714.92191402116\n",
      "solver: lbfgs penalty: none tol: 0.00012 Score: 28756.160009259256\n",
      "solver: lbfgs penalty: none tol: 0.000144 Score: 28756.160009259256\n",
      "solver: lbfgs penalty: none tol: 9.6e-05 Score: 28756.160009259256\n",
      "solver: lbfgs penalty: none tol: 2.786480633273486 Score: 27278.975968075218\n",
      "solver: sag penalty: l2 tol: 0.00012 Score: 30955.160009259256\n",
      "solver: sag penalty: l2 tol: 0.000144 Score: 30955.160009259256\n",
      "solver: sag penalty: l2 tol: 9.6e-05 Score: 30855.160009259256\n",
      "solver: sag penalty: l2 tol: 2.786480633273486 Score: -9373.140480339971\n",
      "solver: sag penalty: none tol: 0.00012 Score: 29131.160009259256\n",
      "solver: sag penalty: none tol: 0.000144 Score: 29131.160009259256\n",
      "solver: sag penalty: none tol: 9.6e-05 Score: 29131.160009259256\n",
      "solver: sag penalty: none tol: 2.786480633273486 Score: -9453.140480339971\n",
      "Real output model: LogisticRegression(max_iter=50000, random_state=75, solver='sag', tol=0.00012)\n",
      "\n",
      "model_0\n",
      "LogisticRegression(max_iter=50000, random_state=75, solver='sag', tol=0.00012)\n",
      "['R_age', \"R_Women's Flyweight_rank\", 'total_title_bout_dif', 'B_Lightweight_rank', 'R_Bantamweight_rank', 'B_avg_TD_pct', 'B_Light Heavyweight_rank', 'R_Welterweight_rank', 'R_avg_SUB_ATT', \"B_Women's Flyweight_rank\", 'R_Lightweight_rank', 'R_total_rounds_fought', 'R_Light Heavyweight_rank', 'B_win_by_Decision_Split', 'R_Flyweight_rank', 'B_Welterweight_rank', 'no_of_rounds', 'R_total_title_bouts', 'gender', 'R_win_by_Decision_Split', 'Blue - SUB', 'B_Bantamweight_rank', 'R_odds', 'Red - SUB', 'Blue - DEC', \"R_Women's Featherweight_rank\", 'B_draw', 'R_Middleweight_rank', 'B_avg_SIG_STR_pct', \"B_Women's Strawweight_rank\", 'age_dif', 'B_Middleweight_rank', 'avg_sub_att_dif', 'B_avg_SUB_ATT', 'R_Reach_cms', 'R_wins', 'B_ev', 'R_Weight_lbs', 'sub_dif', 'R_ev', 'B_avg_TD_landed']\n",
      "23\n",
      "\n"
     ]
    },
    {
     "data": {
      "text/plain": [
       "(2738, 42)"
      ]
     },
     "metadata": {},
     "output_type": "display_data"
    },
    {
     "data": {
      "text/plain": [
       "(2738,)"
      ]
     },
     "metadata": {},
     "output_type": "display_data"
    },
    {
     "data": {
      "text/plain": [
       "(2738, 6)"
      ]
     },
     "metadata": {},
     "output_type": "display_data"
    },
    {
     "data": {
      "text/plain": [
       "(241, 42)"
      ]
     },
     "metadata": {},
     "output_type": "display_data"
    },
    {
     "data": {
      "text/plain": [
       "(241,)"
      ]
     },
     "metadata": {},
     "output_type": "display_data"
    },
    {
     "data": {
      "text/plain": [
       "(241, 6)"
      ]
     },
     "metadata": {},
     "output_type": "display_data"
    },
    {
     "name": "stdout",
     "output_type": "stream",
     "text": [
      "250     3\n",
      "251     3\n",
      "252     4\n",
      "253     3\n",
      "254     0\n",
      "       ..\n",
      "4192    0\n",
      "4200    1\n",
      "4201    3\n",
      "4202    5\n",
      "4203    5\n",
      "Name: label, Length: 2738, dtype: int64\n",
      "Real Score: 1530.0\n",
      "HI\n",
      "HI\n",
      "HI\n",
      "HI\n",
      "HI\n",
      "0 -2545.162080551714\n",
      "1 2654.555868166235\n",
      "2 2592.5593986163685\n",
      "3 1181.8927319497025\n",
      "4 2320.3716591527664\n",
      "5 3942.92704217554\n",
      "6 6633.367157615652\n",
      "7 7952.25678972268\n",
      "8 11318.246888732581\n",
      "9 13032.466837581684\n",
      "10 19069.466837581687\n",
      "11 21632.466837581687\n",
      "12 24262.18466155338\n",
      "13 26626.18466155338\n",
      "14 25039.219144311995\n",
      "15 25741.83317939972\n",
      "16 25844.910102476642\n",
      "17 27452.672007238547\n",
      "18 27624.672007238547\n",
      "19 30295.214063313313\n",
      "20 29945.214063313313\n",
      "21 30502.214063313313\n",
      "22 29345.160009259256\n",
      "23 30955.160009259256\n",
      "24 28911.392502256454\n",
      "25 28491.435980517326\n",
      "26 24329.435980517326\n",
      "27 25854.435980517326\n",
      "28 24231.479458778198\n",
      "29 22808.405384704125\n",
      "30 22781.405384704125\n",
      "31 24621.889255671867\n",
      "32 23536.96617874879\n",
      "33 21888.96617874879\n",
      "34 23145.360118142726\n",
      "35 20526.026784809397\n",
      "36 21656.026784809397\n",
      "37 18112.10370788632\n",
      "38 18607.10370788632\n",
      "39 16317.10370788632\n",
      "40 16738.10370788632\n",
      "41 13060.103707886316\n",
      "42 12124.147186147187\n",
      "43 13699.147186147187\n",
      "44 16579.147186147187\n",
      "45 16327.909090909092\n",
      "46 17677.909090909092\n",
      "47 17508.909090909092\n",
      "48 18127.0\n",
      "49 17134.0\n",
      "50 15570.0\n",
      "51 15804.0\n",
      "52 16899.0\n",
      "53 17459.0\n",
      "54 17794.0\n",
      "55 16203.0\n",
      "56 17168.0\n",
      "57 18468.0\n",
      "58 18836.0\n",
      "59 17936.0\n",
      "60 17536.0\n",
      "61 18263.0\n",
      "62 16748.0\n",
      "63 17073.0\n",
      "64 16989.0\n",
      "65 13077.0\n",
      "66 12242.0\n",
      "67 12110.0\n",
      "68 12086.0\n",
      "69 12915.0\n",
      "70 13110.0\n",
      "71 13460.0\n",
      "72 13919.0\n",
      "73 12309.0\n",
      "74 11341.0\n",
      "75 9711.0\n",
      "76 8867.0\n",
      "77 8096.0\n",
      "78 6986.0\n",
      "79 6201.0\n",
      "80 6117.0\n",
      "81 7317.0\n",
      "82 7582.0\n",
      "83 7637.0\n",
      "84 5827.0\n",
      "85 5393.0\n",
      "86 5075.0\n",
      "87 5025.0\n",
      "88 5225.0\n",
      "89 5425.0\n",
      "90 5415.0\n",
      "91 6115.0\n",
      "92 4544.0\n",
      "93 5159.0\n",
      "94 3848.0\n",
      "95 4648.0\n",
      "96 3803.0\n",
      "97 2993.0\n",
      "98 3253.0\n",
      "99 3733.0\n",
      "100 3683.0\n",
      "101 1568.0\n",
      "102 2568.0\n",
      "103 2968.0\n",
      "104 3468.0\n",
      "105 4068.0\n",
      "106 4868.0\n",
      "107 4968.0\n",
      "108 4523.0\n",
      "109 4723.0\n",
      "110 3945.0\n",
      "111 3500.0\n",
      "112 4000.0\n",
      "113 4410.0\n",
      "114 4810.0\n",
      "115 3590.0\n",
      "116 3890.0\n",
      "117 3340.0\n",
      "118 3740.0\n",
      "119 4140.0\n",
      "120 3823.0\n",
      "121 4023.0\n",
      "122 4323.0\n",
      "123 3829.0\n",
      "124 2529.0\n",
      "125 1054.0\n",
      "126 534.0\n",
      "127 234.0\n",
      "128 -166.0\n",
      "129 134.0\n",
      "130 534.0\n",
      "131 -535.0\n",
      "132 -435.0\n",
      "133 -235.0\n",
      "134 -35.0\n",
      "135 165.0\n",
      "136 40.0\n",
      "137 -60.0\n",
      "138 740.0\n",
      "139 465.0\n",
      "140 115.0\n",
      "141 215.0\n",
      "142 65.0\n",
      "143 165.0\n",
      "144 -285.0\n",
      "145 15.0\n",
      "146 -85.0\n",
      "147 -435.0\n",
      "148 -735.0\n",
      "149 -635.0\n",
      "150 -480.0\n",
      "151 -80.0\n",
      "152 -80.0\n",
      "153 -505.0\n",
      "154 -505.0\n",
      "155 -305.0\n",
      "156 -205.0\n",
      "157 -105.0\n",
      "158 95.0\n",
      "159 395.0\n",
      "160 695.0\n",
      "161 995.0\n",
      "162 1095.0\n",
      "163 1095.0\n",
      "164 1495.0\n",
      "165 1895.0\n",
      "166 2195.0\n",
      "167 2195.0\n",
      "168 2295.0\n",
      "169 1830.0\n",
      "170 2030.0\n",
      "171 2230.0\n",
      "172 2330.0\n",
      "173 2430.0\n",
      "174 2430.0\n",
      "175 1930.0\n",
      "176 2130.0\n",
      "177 2230.0\n",
      "178 2430.0\n",
      "179 2530.0\n",
      "180 2180.0\n",
      "181 780.0\n",
      "182 980.0\n",
      "183 1080.0\n",
      "184 1080.0\n",
      "185 1280.0\n",
      "186 1280.0\n",
      "187 1380.0\n",
      "188 1380.0\n",
      "189 1380.0\n",
      "190 1480.0\n",
      "191 1580.0\n",
      "192 1580.0\n",
      "193 1320.0\n",
      "194 1320.0\n",
      "195 1420.0\n",
      "196 1420.0\n",
      "197 1520.0\n",
      "198 1520.0\n",
      "199 1520.0\n",
      "200 1620.0\n",
      "201 1515.0\n",
      "202 1615.0\n",
      "203 1615.0\n",
      "204 1615.0\n",
      "205 1615.0\n",
      "206 1615.0\n",
      "207 1815.0\n",
      "208 1815.0\n",
      "209 1915.0\n",
      "210 1915.0\n",
      "211 2015.0\n",
      "212 2115.0\n",
      "213 2215.0\n",
      "214 2215.0\n",
      "215 2315.0\n",
      "216 2415.0\n",
      "217 2415.0\n",
      "218 1915.0\n",
      "219 2015.0\n",
      "220 2215.0\n",
      "221 2315.0\n",
      "222 2315.0\n",
      "223 2315.0\n",
      "224 2415.0\n",
      "225 2415.0\n",
      "226 2415.0\n",
      "227 2415.0\n",
      "228 1365.0\n",
      "229 1365.0\n",
      "230 1365.0\n",
      "231 1365.0\n",
      "232 1465.0\n",
      "233 1565.0\n",
      "234 1565.0\n",
      "235 1565.0\n",
      "236 1565.0\n",
      "237 1565.0\n",
      "238 1565.0\n",
      "239 1565.0\n",
      "240 1765.0\n",
      "241 1865.0\n",
      "242 1865.0\n",
      "243 1865.0\n",
      "244 1865.0\n",
      "245 1865.0\n",
      "246 1865.0\n",
      "247 1965.0\n",
      "248 2165.0\n",
      "249 2165.0\n",
      "\n",
      "model_0\n",
      "LogisticRegression(max_iter=50000, random_state=75, solver='sag', tol=0.00012)\n",
      "['R_age', \"R_Women's Flyweight_rank\", 'total_title_bout_dif', 'B_Lightweight_rank', 'R_Bantamweight_rank', 'B_avg_TD_pct', 'B_Light Heavyweight_rank', 'R_Welterweight_rank', 'R_avg_SUB_ATT', \"B_Women's Flyweight_rank\", 'R_Lightweight_rank', 'R_total_rounds_fought', 'R_Light Heavyweight_rank', 'B_win_by_Decision_Split', 'R_Flyweight_rank', 'B_Welterweight_rank', 'no_of_rounds', 'R_total_title_bouts', 'gender', 'R_win_by_Decision_Split', 'Blue - SUB', 'B_Bantamweight_rank', 'R_odds', 'Red - SUB', 'Blue - DEC', \"R_Women's Featherweight_rank\", 'B_draw', 'R_Middleweight_rank', 'B_avg_SIG_STR_pct', \"B_Women's Strawweight_rank\", 'age_dif', 'B_Middleweight_rank', 'avg_sub_att_dif', 'B_avg_SUB_ATT', 'R_Reach_cms', 'R_wins', 'B_ev', 'R_Weight_lbs', 'sub_dif', 'R_ev', 'B_avg_TD_landed']\n",
      "23\n",
      "\n"
     ]
    },
    {
     "data": {
      "text/plain": [
       "(2738, 42)"
      ]
     },
     "metadata": {},
     "output_type": "display_data"
    },
    {
     "data": {
      "text/plain": [
       "(2738,)"
      ]
     },
     "metadata": {},
     "output_type": "display_data"
    },
    {
     "data": {
      "text/plain": [
       "(2738, 6)"
      ]
     },
     "metadata": {},
     "output_type": "display_data"
    },
    {
     "data": {
      "text/plain": [
       "(241, 42)"
      ]
     },
     "metadata": {},
     "output_type": "display_data"
    },
    {
     "data": {
      "text/plain": [
       "(241,)"
      ]
     },
     "metadata": {},
     "output_type": "display_data"
    },
    {
     "data": {
      "text/plain": [
       "(241, 6)"
      ]
     },
     "metadata": {},
     "output_type": "display_data"
    },
    {
     "name": "stdout",
     "output_type": "stream",
     "text": [
      "250     3\n",
      "251     3\n",
      "252     4\n",
      "253     3\n",
      "254     0\n",
      "       ..\n",
      "4192    0\n",
      "4200    1\n",
      "4201    3\n",
      "4202    5\n",
      "4203    5\n",
      "Name: label, Length: 2738, dtype: int64\n",
      "Real Score: 1530.0\n",
      "HI\n",
      "HI\n",
      "HI\n",
      "HI\n",
      "HI\n",
      "The original score is 30955.160009259256\n",
      "NEW BEST FEATURE SET WITH: R_ev REMOVED 33052.160009259256\n",
      "NEW BEST FEATURE SET WITH: no_of_rounds REMOVED 33345.63059749455\n",
      "The original score is 33345.63059749455\n",
      "NEW BEST FEATURE SET WITH: R_ev REMOVED 33967.63059749455\n",
      "NEW BEST FEATURE SET WITH: no_of_rounds REMOVED 35427.63059749455\n",
      "The original score is 35427.63059749455\n",
      "NEW BEST FEATURE SET WITH: B_win_by_TKO_Doctor_Stoppage REMOVED 35527.63059749455\n",
      "The original score is 35527.63059749455\n",
      "\n",
      "model_0\n",
      "LogisticRegression(max_iter=50000, random_state=75, solver='sag', tol=0.00012)\n",
      "['R_age', \"R_Women's Flyweight_rank\", 'total_title_bout_dif', 'B_Lightweight_rank', 'R_Bantamweight_rank', 'B_avg_TD_pct', 'B_Light Heavyweight_rank', 'R_Welterweight_rank', 'R_avg_SUB_ATT', \"B_Women's Flyweight_rank\", 'R_Lightweight_rank', 'R_total_rounds_fought', 'R_Light Heavyweight_rank', 'B_Welterweight_rank', 'no_of_rounds', 'R_total_title_bouts', 'gender', 'R_win_by_Decision_Split', 'Blue - SUB', 'B_Bantamweight_rank', 'R_odds', 'Red - SUB', 'Blue - DEC', \"R_Women's Featherweight_rank\", 'B_draw', 'R_Middleweight_rank', 'B_avg_SIG_STR_pct', \"B_Women's Strawweight_rank\", 'age_dif', 'B_Middleweight_rank', 'avg_sub_att_dif', 'R_Reach_cms', 'R_wins', 'B_ev', 'R_Weight_lbs', 'sub_dif', 'R_ev', 'B_avg_TD_landed']\n",
      "23\n",
      "\n"
     ]
    },
    {
     "data": {
      "text/plain": [
       "(2738, 39)"
      ]
     },
     "metadata": {},
     "output_type": "display_data"
    },
    {
     "data": {
      "text/plain": [
       "(2738,)"
      ]
     },
     "metadata": {},
     "output_type": "display_data"
    },
    {
     "data": {
      "text/plain": [
       "(2738, 6)"
      ]
     },
     "metadata": {},
     "output_type": "display_data"
    },
    {
     "data": {
      "text/plain": [
       "(241, 39)"
      ]
     },
     "metadata": {},
     "output_type": "display_data"
    },
    {
     "data": {
      "text/plain": [
       "(241,)"
      ]
     },
     "metadata": {},
     "output_type": "display_data"
    },
    {
     "data": {
      "text/plain": [
       "(241, 6)"
      ]
     },
     "metadata": {},
     "output_type": "display_data"
    },
    {
     "name": "stdout",
     "output_type": "stream",
     "text": [
      "250     3\n",
      "251     3\n",
      "252     4\n",
      "253     3\n",
      "254     0\n",
      "       ..\n",
      "4192    0\n",
      "4200    1\n",
      "4201    3\n",
      "4202    5\n",
      "4203    5\n",
      "Name: label, Length: 2738, dtype: int64\n",
      "Real Score: 2650.0\n",
      "HI\n",
      "HI\n",
      "HI\n",
      "HI\n",
      "HI\n",
      "The hyperparameters are different\n",
      "OLD:\n",
      "LogisticRegression(max_iter=50000, random_state=75, solver='newton-cg',\n",
      "                   tol=0.00012)\n",
      "NEW:\n",
      "LogisticRegression(max_iter=50000, random_state=75, solver='sag', tol=0.00012)\n",
      "The features are different\n",
      "OLD:\n",
      "['R_age', \"R_Women's Flyweight_rank\", 'total_title_bout_dif', 'B_Lightweight_rank', 'R_Bantamweight_rank', 'B_avg_TD_pct', 'B_Light Heavyweight_rank', 'R_Welterweight_rank', 'R_avg_SUB_ATT', \"B_Women's Flyweight_rank\", 'R_Lightweight_rank', 'R_total_rounds_fought', 'R_Light Heavyweight_rank', 'B_win_by_Decision_Split', 'R_Flyweight_rank', 'B_Welterweight_rank', 'no_of_rounds', 'R_total_title_bouts', 'gender', 'R_win_by_Decision_Split', 'Blue - SUB', 'B_Bantamweight_rank', 'R_odds', 'Red - SUB', 'Blue - DEC', \"R_Women's Featherweight_rank\", 'B_draw', 'R_Middleweight_rank', 'B_avg_SIG_STR_pct', \"B_Women's Strawweight_rank\", 'age_dif', 'B_Middleweight_rank', 'avg_sub_att_dif', 'B_avg_SUB_ATT', 'R_Reach_cms', 'R_wins', 'B_ev', 'R_Weight_lbs', 'sub_dif', 'R_ev', 'B_avg_TD_landed']\n",
      "NEW:\n",
      "['R_age', \"R_Women's Flyweight_rank\", 'total_title_bout_dif', 'B_Lightweight_rank', 'R_Bantamweight_rank', 'B_avg_TD_pct', 'B_Light Heavyweight_rank', 'R_Welterweight_rank', 'R_avg_SUB_ATT', \"B_Women's Flyweight_rank\", 'R_Lightweight_rank', 'R_total_rounds_fought', 'R_Light Heavyweight_rank', 'B_Welterweight_rank', 'no_of_rounds', 'R_total_title_bouts', 'gender', 'R_win_by_Decision_Split', 'Blue - SUB', 'B_Bantamweight_rank', 'R_odds', 'Red - SUB', 'Blue - DEC', \"R_Women's Featherweight_rank\", 'B_draw', 'R_Middleweight_rank', 'B_avg_SIG_STR_pct', \"B_Women's Strawweight_rank\", 'age_dif', 'B_Middleweight_rank', 'avg_sub_att_dif', 'R_Reach_cms', 'R_wins', 'B_ev', 'R_Weight_lbs', 'sub_dif', 'R_ev', 'B_avg_TD_landed']\n",
      "Current best score is: 35527.63059749455\n",
      "Feature: R_draw Score: 38362.63059749455\n",
      "The best feature was R_draw.  It scored 38362.63059749455\n",
      "Current best score is: 38362.63059749455\n",
      "NO IMPROVEMENT\n",
      "FINAL BEST SCORE: 38362.63059749455\n",
      "\n",
      "model_0\n",
      "LogisticRegression(max_iter=50000, random_state=75, solver='sag', tol=0.00012)\n",
      "['R_draw', 'R_age', \"R_Women's Flyweight_rank\", 'total_title_bout_dif', 'B_Lightweight_rank', 'R_Bantamweight_rank', 'B_avg_TD_pct', 'B_Light Heavyweight_rank', 'R_Welterweight_rank', 'R_avg_SUB_ATT', \"B_Women's Flyweight_rank\", 'R_Lightweight_rank', 'R_total_rounds_fought', 'R_Light Heavyweight_rank', 'B_Welterweight_rank', 'no_of_rounds', 'R_total_title_bouts', 'gender', 'R_win_by_Decision_Split', 'Blue - SUB', 'B_Bantamweight_rank', 'R_odds', 'Red - SUB', 'Blue - DEC', \"R_Women's Featherweight_rank\", 'B_draw', 'R_Middleweight_rank', 'B_avg_SIG_STR_pct', \"B_Women's Strawweight_rank\", 'age_dif', 'B_Middleweight_rank', 'avg_sub_att_dif', 'R_Reach_cms', 'R_wins', 'B_ev', 'R_Weight_lbs', 'sub_dif', 'R_ev', 'B_avg_TD_landed']\n",
      "23\n",
      "\n"
     ]
    },
    {
     "data": {
      "text/plain": [
       "(2738, 40)"
      ]
     },
     "metadata": {},
     "output_type": "display_data"
    },
    {
     "data": {
      "text/plain": [
       "(2738,)"
      ]
     },
     "metadata": {},
     "output_type": "display_data"
    },
    {
     "data": {
      "text/plain": [
       "(2738, 6)"
      ]
     },
     "metadata": {},
     "output_type": "display_data"
    },
    {
     "data": {
      "text/plain": [
       "(241, 40)"
      ]
     },
     "metadata": {},
     "output_type": "display_data"
    },
    {
     "data": {
      "text/plain": [
       "(241,)"
      ]
     },
     "metadata": {},
     "output_type": "display_data"
    },
    {
     "data": {
      "text/plain": [
       "(241, 6)"
      ]
     },
     "metadata": {},
     "output_type": "display_data"
    },
    {
     "name": "stdout",
     "output_type": "stream",
     "text": [
      "250     3\n",
      "251     3\n",
      "252     4\n",
      "253     3\n",
      "254     0\n",
      "       ..\n",
      "4192    0\n",
      "4200    1\n",
      "4201    3\n",
      "4202    5\n",
      "4203    5\n",
      "Name: label, Length: 2738, dtype: int64\n",
      "Real Score: 3135.0\n",
      "HI\n",
      "HI\n",
      "HI\n",
      "HI\n",
      "HI\n",
      "\n",
      "\n",
      "Starting New Run for LogisticRegression\n",
      "\n",
      "\n",
      "Previous Best Score: 38362.63059749455\n",
      "\n",
      "NEW BEST SCORE\n",
      "solver: newton-cg penalty: l2 tol: 0.00012 Best Score: 38612.63059749455\n",
      "\n",
      "\n",
      "solver: newton-cg penalty: l2 tol: 0.000144 Score: 38612.63059749455\n",
      "solver: newton-cg penalty: l2 tol: 9.6e-05 Score: 38612.63059749455\n",
      "solver: newton-cg penalty: l2 tol: 2.145575820930862 Score: 31702.435980517326\n",
      "solver: newton-cg penalty: none tol: 0.00012 Score: 33927.63059749455\n",
      "solver: newton-cg penalty: none tol: 0.000144 Score: 33927.63059749455\n",
      "solver: newton-cg penalty: none tol: 9.6e-05 Score: 33927.63059749455\n",
      "solver: newton-cg penalty: none tol: 2.145575820930862 Score: 32948.63059749455\n",
      "solver: lbfgs penalty: l2 tol: 0.00012 Score: 38512.63059749455\n",
      "solver: lbfgs penalty: l2 tol: 0.000144 Score: 38512.63059749455\n",
      "solver: lbfgs penalty: l2 tol: 9.6e-05 Score: 38512.63059749455\n",
      "solver: lbfgs penalty: l2 tol: 2.145575820930862 Score: 30242.392502256454\n",
      "solver: lbfgs penalty: none tol: 0.00012 Score: 33727.63059749455\n",
      "solver: lbfgs penalty: none tol: 0.000144 Score: 33727.63059749455\n",
      "solver: lbfgs penalty: none tol: 9.6e-05 Score: 33727.63059749455\n",
      "solver: lbfgs penalty: none tol: 2.145575820930862 Score: 29397.392502256454\n",
      "solver: sag penalty: l2 tol: 0.00012 Score: 38362.63059749455\n",
      "solver: sag penalty: l2 tol: 0.000144 Score: 38462.63059749455\n",
      "solver: sag penalty: l2 tol: 9.6e-05 Score: 38362.63059749455\n",
      "solver: sag penalty: l2 tol: 2.145575820930862 Score: -13833.18395860084\n",
      "solver: sag penalty: none tol: 0.00012 Score: 34027.63059749455\n",
      "solver: sag penalty: none tol: 0.000144 Score: 34027.63059749455\n",
      "solver: sag penalty: none tol: 9.6e-05 Score: 33927.63059749455\n",
      "solver: sag penalty: none tol: 2.145575820930862 Score: -13428.18395860084\n",
      "\n",
      "\n",
      "Starting New Run for LogisticRegression\n",
      "\n",
      "\n",
      "Previous Best Score: 38612.63059749455\n",
      "solver: newton-cg penalty: l2 tol: 0.00012 Score: 38612.63059749455\n",
      "solver: newton-cg penalty: l2 tol: 0.000144 Score: 38612.63059749455\n",
      "solver: newton-cg penalty: l2 tol: 9.6e-05 Score: 38612.63059749455\n",
      "solver: newton-cg penalty: l2 tol: 6.543783050446993 Score: 28860.67407575542\n",
      "solver: newton-cg penalty: none tol: 0.00012 Score: 33927.63059749455\n",
      "solver: newton-cg penalty: none tol: 0.000144 Score: 33927.63059749455\n",
      "solver: newton-cg penalty: none tol: 9.6e-05 Score: 33927.63059749455\n",
      "solver: newton-cg penalty: none tol: 6.543783050446993 Score: 34802.6846515486\n",
      "solver: lbfgs penalty: l2 tol: 0.00012 Score: 38512.63059749455\n",
      "solver: lbfgs penalty: l2 tol: 0.000144 Score: 38512.63059749455\n",
      "solver: lbfgs penalty: l2 tol: 9.6e-05 Score: 38512.63059749455\n",
      "solver: lbfgs penalty: l2 tol: 6.543783050446993 Score: 22090.643880227\n",
      "solver: lbfgs penalty: none tol: 0.00012 Score: 33727.63059749455\n",
      "solver: lbfgs penalty: none tol: 0.000144 Score: 33727.63059749455\n",
      "solver: lbfgs penalty: none tol: 9.6e-05 Score: 33727.63059749455\n",
      "solver: lbfgs penalty: none tol: 6.543783050446993 Score: 22124.92191402116\n",
      "solver: sag penalty: l2 tol: 0.00012 Score: 38362.63059749455\n",
      "solver: sag penalty: l2 tol: 0.000144 Score: 38462.63059749455\n",
      "solver: sag penalty: l2 tol: 9.6e-05 Score: 38362.63059749455\n",
      "solver: sag penalty: l2 tol: 6.543783050446993 Score: -13833.18395860084\n",
      "solver: sag penalty: none tol: 0.00012 Score: 34027.63059749455\n",
      "solver: sag penalty: none tol: 0.000144 Score: 34027.63059749455\n",
      "solver: sag penalty: none tol: 9.6e-05 Score: 33927.63059749455\n",
      "solver: sag penalty: none tol: 6.543783050446993 Score: -13428.18395860084\n",
      "Real output model: LogisticRegression(max_iter=50000, random_state=75, solver='newton-cg',\n",
      "                   tol=0.00012)\n",
      "\n",
      "model_0\n",
      "LogisticRegression(max_iter=50000, random_state=75, solver='newton-cg',\n",
      "                   tol=0.00012)\n",
      "['R_draw', 'R_age', \"R_Women's Flyweight_rank\", 'total_title_bout_dif', 'B_Lightweight_rank', 'R_Bantamweight_rank', 'B_avg_TD_pct', 'B_Light Heavyweight_rank', 'R_Welterweight_rank', 'R_avg_SUB_ATT', \"B_Women's Flyweight_rank\", 'R_Lightweight_rank', 'R_total_rounds_fought', 'R_Light Heavyweight_rank', 'B_Welterweight_rank', 'no_of_rounds', 'R_total_title_bouts', 'gender', 'R_win_by_Decision_Split', 'Blue - SUB', 'B_Bantamweight_rank', 'R_odds', 'Red - SUB', 'Blue - DEC', \"R_Women's Featherweight_rank\", 'B_draw', 'R_Middleweight_rank', 'B_avg_SIG_STR_pct', \"B_Women's Strawweight_rank\", 'age_dif', 'B_Middleweight_rank', 'avg_sub_att_dif', 'R_Reach_cms', 'R_wins', 'B_ev', 'R_Weight_lbs', 'sub_dif', 'R_ev', 'B_avg_TD_landed']\n",
      "23\n",
      "\n"
     ]
    },
    {
     "data": {
      "text/plain": [
       "(2738, 40)"
      ]
     },
     "metadata": {},
     "output_type": "display_data"
    },
    {
     "data": {
      "text/plain": [
       "(2738,)"
      ]
     },
     "metadata": {},
     "output_type": "display_data"
    },
    {
     "data": {
      "text/plain": [
       "(2738, 6)"
      ]
     },
     "metadata": {},
     "output_type": "display_data"
    },
    {
     "data": {
      "text/plain": [
       "(241, 40)"
      ]
     },
     "metadata": {},
     "output_type": "display_data"
    },
    {
     "data": {
      "text/plain": [
       "(241,)"
      ]
     },
     "metadata": {},
     "output_type": "display_data"
    },
    {
     "data": {
      "text/plain": [
       "(241, 6)"
      ]
     },
     "metadata": {},
     "output_type": "display_data"
    },
    {
     "name": "stdout",
     "output_type": "stream",
     "text": [
      "250     3\n",
      "251     3\n",
      "252     4\n",
      "253     3\n",
      "254     0\n",
      "       ..\n",
      "4192    0\n",
      "4200    1\n",
      "4201    3\n",
      "4202    5\n",
      "4203    5\n",
      "Name: label, Length: 2738, dtype: int64\n",
      "Real Score: 3035.0\n",
      "HI\n",
      "HI\n",
      "HI\n",
      "HI\n",
      "HI\n",
      "0 6895.305004641039\n",
      "1 5425.307853643886\n",
      "2 4566.113236666662\n",
      "3 6410.392309666671\n",
      "4 8361.469232743595\n",
      "5 7884.651050925411\n",
      "6 8181.148950085078\n",
      "7 9200.98881586647\n",
      "8 12750.466837581687\n",
      "9 14537.466837581684\n",
      "10 15942.466837581687\n",
      "11 20106.466837581687\n",
      "12 23131.78115278145\n",
      "13 28987.78115278145\n",
      "14 25699.04190214115\n",
      "15 28779.375235474487\n",
      "16 33131.21406331331\n",
      "17 32702.214063313313\n",
      "18 31215.214063313313\n",
      "19 33320.21406331331\n",
      "20 33499.21406331331\n",
      "21 34950.6846515486\n",
      "22 36493.63059749455\n",
      "23 38612.63059749455\n",
      "24 35559.43598051732\n",
      "25 30009.435980517326\n",
      "26 24504.435980517326\n",
      "27 25077.91985148507\n",
      "28 23536.889255671867\n",
      "29 23453.96617874879\n",
      "30 23076.96617874879\n",
      "31 21347.96617874879\n",
      "32 22691.96617874879\n",
      "33 23536.360118142726\n",
      "34 21717.10370788632\n",
      "35 17857.10370788632\n",
      "36 16207.10370788632\n",
      "37 16088.10370788632\n",
      "38 15773.10370788632\n",
      "39 14330.10370788632\n",
      "40 12695.103707886316\n",
      "41 10250.103707886316\n",
      "42 10729.103707886316\n",
      "43 12382.147186147187\n",
      "44 13333.147186147187\n",
      "45 12481.147186147187\n",
      "46 13313.147186147187\n",
      "47 11647.909090909092\n",
      "48 13326.909090909092\n",
      "49 13350.909090909092\n",
      "50 13695.0\n",
      "51 15176.0\n",
      "52 16265.0\n",
      "53 17365.0\n",
      "54 15844.0\n",
      "55 15234.0\n",
      "56 17039.0\n",
      "57 15932.0\n",
      "58 15348.0\n",
      "59 14948.0\n",
      "60 15643.0\n",
      "61 14452.0\n",
      "62 13302.0\n",
      "63 11368.0\n",
      "64 11368.0\n",
      "65 12097.0\n",
      "66 12677.0\n",
      "67 11797.0\n",
      "68 12672.0\n",
      "69 11880.0\n",
      "70 10930.0\n",
      "71 10883.0\n",
      "72 9813.0\n",
      "73 9020.0\n",
      "74 9325.0\n",
      "75 9275.0\n",
      "76 9472.0\n",
      "77 10272.0\n",
      "78 11172.0\n",
      "79 11144.0\n",
      "80 10860.0\n",
      "81 11176.0\n",
      "82 11526.0\n",
      "83 11651.0\n",
      "84 10341.0\n",
      "85 7833.0\n",
      "86 8358.0\n",
      "87 8513.0\n",
      "88 6943.0\n",
      "89 7034.0\n",
      "90 7959.0\n",
      "91 7689.0\n",
      "92 8139.0\n",
      "93 6003.0\n",
      "94 4503.0\n",
      "95 3843.0\n",
      "96 4418.0\n",
      "97 4553.0\n",
      "98 5023.0\n",
      "99 4773.0\n",
      "100 4733.0\n",
      "101 5233.0\n",
      "102 5133.0\n",
      "103 4883.0\n",
      "104 3543.0\n",
      "105 2693.0\n",
      "106 1658.0\n",
      "107 2558.0\n",
      "108 1880.0\n",
      "109 2380.0\n",
      "110 2580.0\n",
      "111 2960.0\n",
      "112 1585.0\n",
      "113 -240.0\n",
      "114 -340.0\n",
      "115 -140.0\n",
      "116 -157.0\n",
      "117 143.0\n",
      "118 843.0\n",
      "119 758.0\n",
      "120 958.0\n",
      "121 1358.0\n",
      "122 1558.0\n",
      "123 2058.0\n",
      "124 1558.0\n",
      "125 989.0\n",
      "126 1489.0\n",
      "127 1489.0\n",
      "128 1469.0\n",
      "129 1569.0\n",
      "130 1969.0\n",
      "131 2369.0\n",
      "132 2469.0\n",
      "133 1169.0\n",
      "134 375.0\n",
      "135 775.0\n",
      "136 1175.0\n",
      "137 1275.0\n",
      "138 1425.0\n",
      "139 1050.0\n",
      "140 1250.0\n",
      "141 700.0\n",
      "142 250.0\n",
      "143 5.0\n",
      "144 405.0\n",
      "145 405.0\n",
      "146 705.0\n",
      "147 1105.0\n",
      "148 -20.0\n",
      "149 180.0\n",
      "150 180.0\n",
      "151 280.0\n",
      "152 -120.0\n",
      "153 -20.0\n",
      "154 180.0\n",
      "155 180.0\n",
      "156 280.0\n",
      "157 -170.0\n",
      "158 -70.0\n",
      "159 30.0\n",
      "160 130.0\n",
      "161 630.0\n",
      "162 830.0\n",
      "163 1130.0\n",
      "164 1130.0\n",
      "165 1230.0\n",
      "166 1230.0\n",
      "167 1230.0\n",
      "168 1330.0\n",
      "169 1330.0\n",
      "170 1430.0\n",
      "171 1830.0\n",
      "172 2030.0\n",
      "173 2230.0\n",
      "174 2330.0\n",
      "175 2530.0\n",
      "176 2730.0\n",
      "177 3030.0\n",
      "178 3130.0\n",
      "179 2880.0\n",
      "180 3080.0\n",
      "181 3180.0\n",
      "182 3180.0\n",
      "183 3280.0\n",
      "184 1780.0\n",
      "185 1980.0\n",
      "186 2080.0\n",
      "187 2180.0\n",
      "188 2280.0\n",
      "189 2280.0\n",
      "190 1320.0\n",
      "191 1320.0\n",
      "192 1520.0\n",
      "193 1520.0\n",
      "194 1720.0\n",
      "195 1720.0\n",
      "196 1820.0\n",
      "197 1920.0\n",
      "198 1920.0\n",
      "199 2020.0\n",
      "200 1915.0\n",
      "201 1915.0\n",
      "202 2115.0\n",
      "203 2115.0\n",
      "204 2115.0\n",
      "205 2115.0\n",
      "206 2115.0\n",
      "207 2115.0\n",
      "208 2215.0\n",
      "209 2215.0\n",
      "210 2215.0\n",
      "211 2215.0\n",
      "212 2315.0\n",
      "213 2315.0\n",
      "214 2415.0\n",
      "215 2615.0\n",
      "216 2615.0\n",
      "217 2215.0\n",
      "218 2215.0\n",
      "219 2315.0\n",
      "220 2315.0\n",
      "221 2415.0\n",
      "222 2415.0\n",
      "223 2615.0\n",
      "224 2615.0\n",
      "225 2615.0\n",
      "226 2615.0\n",
      "227 2715.0\n",
      "228 2715.0\n",
      "229 1665.0\n",
      "230 1665.0\n",
      "231 1765.0\n",
      "232 1765.0\n",
      "233 1765.0\n",
      "234 2065.0\n",
      "235 2065.0\n",
      "236 2065.0\n",
      "237 2065.0\n",
      "238 2165.0\n",
      "239 2165.0\n",
      "240 2265.0\n",
      "241 2265.0\n",
      "242 2365.0\n",
      "243 2365.0\n",
      "244 2465.0\n",
      "245 2465.0\n",
      "246 2665.0\n",
      "247 2765.0\n",
      "248 2765.0\n",
      "249 2765.0\n",
      "\n",
      "model_0\n",
      "LogisticRegression(max_iter=50000, random_state=75, solver='newton-cg',\n",
      "                   tol=0.00012)\n",
      "['R_draw', 'R_age', \"R_Women's Flyweight_rank\", 'total_title_bout_dif', 'B_Lightweight_rank', 'R_Bantamweight_rank', 'B_avg_TD_pct', 'B_Light Heavyweight_rank', 'R_Welterweight_rank', 'R_avg_SUB_ATT', \"B_Women's Flyweight_rank\", 'R_Lightweight_rank', 'R_total_rounds_fought', 'R_Light Heavyweight_rank', 'B_Welterweight_rank', 'no_of_rounds', 'R_total_title_bouts', 'gender', 'R_win_by_Decision_Split', 'Blue - SUB', 'B_Bantamweight_rank', 'R_odds', 'Red - SUB', 'Blue - DEC', \"R_Women's Featherweight_rank\", 'B_draw', 'R_Middleweight_rank', 'B_avg_SIG_STR_pct', \"B_Women's Strawweight_rank\", 'age_dif', 'B_Middleweight_rank', 'avg_sub_att_dif', 'R_Reach_cms', 'R_wins', 'B_ev', 'R_Weight_lbs', 'sub_dif', 'R_ev', 'B_avg_TD_landed']\n",
      "23\n",
      "\n"
     ]
    },
    {
     "data": {
      "text/plain": [
       "(2738, 40)"
      ]
     },
     "metadata": {},
     "output_type": "display_data"
    },
    {
     "data": {
      "text/plain": [
       "(2738,)"
      ]
     },
     "metadata": {},
     "output_type": "display_data"
    },
    {
     "data": {
      "text/plain": [
       "(2738, 6)"
      ]
     },
     "metadata": {},
     "output_type": "display_data"
    },
    {
     "data": {
      "text/plain": [
       "(241, 40)"
      ]
     },
     "metadata": {},
     "output_type": "display_data"
    },
    {
     "data": {
      "text/plain": [
       "(241,)"
      ]
     },
     "metadata": {},
     "output_type": "display_data"
    },
    {
     "data": {
      "text/plain": [
       "(241, 6)"
      ]
     },
     "metadata": {},
     "output_type": "display_data"
    },
    {
     "name": "stdout",
     "output_type": "stream",
     "text": [
      "250     3\n",
      "251     3\n",
      "252     4\n",
      "253     3\n",
      "254     0\n",
      "       ..\n",
      "4192    0\n",
      "4200    1\n",
      "4201    3\n",
      "4202    5\n",
      "4203    5\n",
      "Name: label, Length: 2738, dtype: int64\n",
      "Real Score: 3035.0\n",
      "HI\n",
      "HI\n",
      "HI\n",
      "HI\n",
      "HI\n",
      "The original score is 38612.63059749455\n",
      "NEW BEST FEATURE SET WITH: B_ev REMOVED 39449.63059749455\n",
      "The original score is 39449.63059749455\n",
      "\n",
      "model_0\n",
      "LogisticRegression(max_iter=50000, random_state=75, solver='newton-cg',\n",
      "                   tol=0.00012)\n",
      "['R_draw', 'R_age', \"R_Women's Flyweight_rank\", 'total_title_bout_dif', 'B_Lightweight_rank', 'B_avg_TD_pct', 'B_Light Heavyweight_rank', 'R_Welterweight_rank', 'R_avg_SUB_ATT', \"B_Women's Flyweight_rank\", 'R_Lightweight_rank', 'R_total_rounds_fought', 'R_Light Heavyweight_rank', 'B_Welterweight_rank', 'no_of_rounds', 'R_total_title_bouts', 'gender', 'R_win_by_Decision_Split', 'Blue - SUB', 'B_Bantamweight_rank', 'R_odds', 'Red - SUB', 'Blue - DEC', \"R_Women's Featherweight_rank\", 'B_draw', 'R_Middleweight_rank', 'B_avg_SIG_STR_pct', \"B_Women's Strawweight_rank\", 'age_dif', 'B_Middleweight_rank', 'avg_sub_att_dif', 'R_Reach_cms', 'R_wins', 'B_ev', 'R_Weight_lbs', 'sub_dif', 'R_ev', 'B_avg_TD_landed']\n",
      "23\n",
      "\n"
     ]
    },
    {
     "data": {
      "text/plain": [
       "(2738, 39)"
      ]
     },
     "metadata": {},
     "output_type": "display_data"
    },
    {
     "data": {
      "text/plain": [
       "(2738,)"
      ]
     },
     "metadata": {},
     "output_type": "display_data"
    },
    {
     "data": {
      "text/plain": [
       "(2738, 6)"
      ]
     },
     "metadata": {},
     "output_type": "display_data"
    },
    {
     "data": {
      "text/plain": [
       "(241, 39)"
      ]
     },
     "metadata": {},
     "output_type": "display_data"
    },
    {
     "data": {
      "text/plain": [
       "(241,)"
      ]
     },
     "metadata": {},
     "output_type": "display_data"
    },
    {
     "data": {
      "text/plain": [
       "(241, 6)"
      ]
     },
     "metadata": {},
     "output_type": "display_data"
    },
    {
     "name": "stdout",
     "output_type": "stream",
     "text": [
      "250     3\n",
      "251     3\n",
      "252     4\n",
      "253     3\n",
      "254     0\n",
      "       ..\n",
      "4192    0\n",
      "4200    1\n",
      "4201    3\n",
      "4202    5\n",
      "4203    5\n",
      "Name: label, Length: 2738, dtype: int64\n",
      "Real Score: 2785.0\n",
      "HI\n",
      "HI\n",
      "HI\n",
      "HI\n",
      "HI\n",
      "The hyperparameters are different\n",
      "OLD:\n",
      "LogisticRegression(max_iter=50000, random_state=75, solver='sag', tol=0.00012)\n",
      "NEW:\n",
      "LogisticRegression(max_iter=50000, random_state=75, solver='newton-cg',\n",
      "                   tol=0.00012)\n",
      "The features are different\n",
      "OLD:\n",
      "['R_draw', 'R_age', \"R_Women's Flyweight_rank\", 'total_title_bout_dif', 'B_Lightweight_rank', 'R_Bantamweight_rank', 'B_avg_TD_pct', 'B_Light Heavyweight_rank', 'R_Welterweight_rank', 'R_avg_SUB_ATT', \"B_Women's Flyweight_rank\", 'R_Lightweight_rank', 'R_total_rounds_fought', 'R_Light Heavyweight_rank', 'B_Welterweight_rank', 'no_of_rounds', 'R_total_title_bouts', 'gender', 'R_win_by_Decision_Split', 'Blue - SUB', 'B_Bantamweight_rank', 'R_odds', 'Red - SUB', 'Blue - DEC', \"R_Women's Featherweight_rank\", 'B_draw', 'R_Middleweight_rank', 'B_avg_SIG_STR_pct', \"B_Women's Strawweight_rank\", 'age_dif', 'B_Middleweight_rank', 'avg_sub_att_dif', 'R_Reach_cms', 'R_wins', 'B_ev', 'R_Weight_lbs', 'sub_dif', 'R_ev', 'B_avg_TD_landed']\n",
      "NEW:\n",
      "['R_draw', 'R_age', \"R_Women's Flyweight_rank\", 'total_title_bout_dif', 'B_Lightweight_rank', 'B_avg_TD_pct', 'B_Light Heavyweight_rank', 'R_Welterweight_rank', 'R_avg_SUB_ATT', \"B_Women's Flyweight_rank\", 'R_Lightweight_rank', 'R_total_rounds_fought', 'R_Light Heavyweight_rank', 'B_Welterweight_rank', 'no_of_rounds', 'R_total_title_bouts', 'gender', 'R_win_by_Decision_Split', 'Blue - SUB', 'B_Bantamweight_rank', 'R_odds', 'Red - SUB', 'Blue - DEC', \"R_Women's Featherweight_rank\", 'B_draw', 'R_Middleweight_rank', 'B_avg_SIG_STR_pct', \"B_Women's Strawweight_rank\", 'age_dif', 'B_Middleweight_rank', 'avg_sub_att_dif', 'R_Reach_cms', 'R_wins', 'B_ev', 'R_Weight_lbs', 'sub_dif', 'R_ev', 'B_avg_TD_landed']\n",
      "Current best score is: 39449.63059749455\n",
      "Feature: B_total_title_bouts Score: 39637.63059749455\n",
      "The best feature was B_total_title_bouts.  It scored 39637.63059749455\n",
      "Current best score is: 39637.63059749455\n",
      "NO IMPROVEMENT\n",
      "FINAL BEST SCORE: 39637.63059749455\n",
      "\n",
      "model_0\n",
      "LogisticRegression(max_iter=50000, random_state=75, solver='newton-cg',\n",
      "                   tol=0.00012)\n",
      "['B_total_title_bouts', 'R_draw', 'R_age', \"R_Women's Flyweight_rank\", 'total_title_bout_dif', 'B_Lightweight_rank', 'B_avg_TD_pct', 'B_Light Heavyweight_rank', 'R_Welterweight_rank', 'R_avg_SUB_ATT', \"B_Women's Flyweight_rank\", 'R_Lightweight_rank', 'R_total_rounds_fought', 'R_Light Heavyweight_rank', 'B_Welterweight_rank', 'no_of_rounds', 'R_total_title_bouts', 'gender', 'R_win_by_Decision_Split', 'Blue - SUB', 'B_Bantamweight_rank', 'R_odds', 'Red - SUB', 'Blue - DEC', \"R_Women's Featherweight_rank\", 'B_draw', 'R_Middleweight_rank', 'B_avg_SIG_STR_pct', \"B_Women's Strawweight_rank\", 'age_dif', 'B_Middleweight_rank', 'avg_sub_att_dif', 'R_Reach_cms', 'R_wins', 'B_ev', 'R_Weight_lbs', 'sub_dif', 'R_ev', 'B_avg_TD_landed']\n",
      "23\n",
      "\n"
     ]
    },
    {
     "data": {
      "text/plain": [
       "(2738, 40)"
      ]
     },
     "metadata": {},
     "output_type": "display_data"
    },
    {
     "data": {
      "text/plain": [
       "(2738,)"
      ]
     },
     "metadata": {},
     "output_type": "display_data"
    },
    {
     "data": {
      "text/plain": [
       "(2738, 6)"
      ]
     },
     "metadata": {},
     "output_type": "display_data"
    },
    {
     "data": {
      "text/plain": [
       "(241, 40)"
      ]
     },
     "metadata": {},
     "output_type": "display_data"
    },
    {
     "data": {
      "text/plain": [
       "(241,)"
      ]
     },
     "metadata": {},
     "output_type": "display_data"
    },
    {
     "data": {
      "text/plain": [
       "(241, 6)"
      ]
     },
     "metadata": {},
     "output_type": "display_data"
    },
    {
     "name": "stdout",
     "output_type": "stream",
     "text": [
      "250     3\n",
      "251     3\n",
      "252     4\n",
      "253     3\n",
      "254     0\n",
      "       ..\n",
      "4192    0\n",
      "4200    1\n",
      "4201    3\n",
      "4202    5\n",
      "4203    5\n",
      "Name: label, Length: 2738, dtype: int64\n",
      "Real Score: 2785.0\n",
      "HI\n",
      "HI\n",
      "HI\n",
      "HI\n",
      "HI\n",
      "\n",
      "\n",
      "Starting New Run for LogisticRegression\n",
      "\n",
      "\n",
      "Previous Best Score: 39637.63059749455\n",
      "solver: newton-cg penalty: l2 tol: 0.00012 Score: 39637.63059749455\n",
      "solver: newton-cg penalty: l2 tol: 0.000144 Score: 39637.63059749455\n",
      "solver: newton-cg penalty: l2 tol: 9.6e-05 Score: 39637.63059749455\n",
      "solver: newton-cg penalty: l2 tol: 0.0697594223940956 Score: 39449.63059749455\n",
      "solver: newton-cg penalty: none tol: 0.00012 Score: 37103.63059749455\n",
      "solver: newton-cg penalty: none tol: 0.000144 Score: 37103.63059749455\n",
      "solver: newton-cg penalty: none tol: 9.6e-05 Score: 37103.63059749455\n",
      "solver: newton-cg penalty: none tol: 0.0697594223940956 Score: 38403.63059749455\n",
      "solver: lbfgs penalty: l2 tol: 0.00012 Score: 39437.63059749455\n",
      "solver: lbfgs penalty: l2 tol: 0.000144 Score: 39437.63059749455\n",
      "solver: lbfgs penalty: l2 tol: 9.6e-05 Score: 39437.63059749455\n",
      "solver: lbfgs penalty: l2 tol: 0.0697594223940956 Score: 39349.63059749455\n",
      "solver: lbfgs penalty: none tol: 0.00012 Score: 37203.63059749455\n",
      "solver: lbfgs penalty: none tol: 0.000144 Score: 37203.63059749455\n",
      "solver: lbfgs penalty: none tol: 9.6e-05 Score: 37203.63059749455\n",
      "solver: lbfgs penalty: none tol: 0.0697594223940956 Score: 38553.63059749455\n",
      "solver: sag penalty: l2 tol: 0.00012 Score: 39349.63059749455\n",
      "solver: sag penalty: l2 tol: 0.000144 Score: 39449.63059749455\n",
      "solver: sag penalty: l2 tol: 9.6e-05 Score: 39537.63059749455\n",
      "solver: sag penalty: l2 tol: 0.0697594223940956 Score: 18562.750998832344\n",
      "solver: sag penalty: none tol: 0.00012 Score: 37553.63059749455\n",
      "solver: sag penalty: none tol: 0.000144 Score: 37553.63059749455\n",
      "solver: sag penalty: none tol: 9.6e-05 Score: 37553.63059749455\n",
      "solver: sag penalty: none tol: 0.0697594223940956 Score: 17951.750998832344\n",
      "Real output model: LogisticRegression(max_iter=50000, random_state=75, solver='newton-cg',\n",
      "                   tol=0.00012)\n",
      "\n",
      "model_0\n",
      "LogisticRegression(max_iter=50000, random_state=75, solver='newton-cg',\n",
      "                   tol=0.00012)\n",
      "['B_total_title_bouts', 'R_draw', 'R_age', \"R_Women's Flyweight_rank\", 'total_title_bout_dif', 'B_Lightweight_rank', 'B_avg_TD_pct', 'B_Light Heavyweight_rank', 'R_Welterweight_rank', 'R_avg_SUB_ATT', \"B_Women's Flyweight_rank\", 'R_Lightweight_rank', 'R_total_rounds_fought', 'R_Light Heavyweight_rank', 'B_Welterweight_rank', 'no_of_rounds', 'R_total_title_bouts', 'gender', 'R_win_by_Decision_Split', 'Blue - SUB', 'B_Bantamweight_rank', 'R_odds', 'Red - SUB', 'Blue - DEC', \"R_Women's Featherweight_rank\", 'B_draw', 'R_Middleweight_rank', 'B_avg_SIG_STR_pct', \"B_Women's Strawweight_rank\", 'age_dif', 'B_Middleweight_rank', 'avg_sub_att_dif', 'R_Reach_cms', 'R_wins', 'B_ev', 'R_Weight_lbs', 'sub_dif', 'R_ev', 'B_avg_TD_landed']\n",
      "23\n",
      "\n"
     ]
    },
    {
     "data": {
      "text/plain": [
       "(2738, 40)"
      ]
     },
     "metadata": {},
     "output_type": "display_data"
    },
    {
     "data": {
      "text/plain": [
       "(2738,)"
      ]
     },
     "metadata": {},
     "output_type": "display_data"
    },
    {
     "data": {
      "text/plain": [
       "(2738, 6)"
      ]
     },
     "metadata": {},
     "output_type": "display_data"
    },
    {
     "data": {
      "text/plain": [
       "(241, 40)"
      ]
     },
     "metadata": {},
     "output_type": "display_data"
    },
    {
     "data": {
      "text/plain": [
       "(241,)"
      ]
     },
     "metadata": {},
     "output_type": "display_data"
    },
    {
     "data": {
      "text/plain": [
       "(241, 6)"
      ]
     },
     "metadata": {},
     "output_type": "display_data"
    },
    {
     "name": "stdout",
     "output_type": "stream",
     "text": [
      "250     3\n",
      "251     3\n",
      "252     4\n",
      "253     3\n",
      "254     0\n",
      "       ..\n",
      "4192    0\n",
      "4200    1\n",
      "4201    3\n",
      "4202    5\n",
      "4203    5\n",
      "Name: label, Length: 2738, dtype: int64\n",
      "Real Score: 2785.0\n",
      "HI\n",
      "HI\n",
      "HI\n",
      "HI\n",
      "HI\n",
      "0 7274.881927717962\n",
      "1 8883.654007490037\n",
      "2 4843.035243863004\n",
      "3 7439.48321875758\n",
      "4 6864.560141834503\n",
      "5 8046.827521513647\n",
      "6 8121.192428345947\n",
      "7 8053.988815866472\n",
      "8 12675.466837581685\n",
      "9 16627.466837581684\n",
      "10 18037.466837581687\n",
      "11 19946.466837581687\n",
      "12 21635.958492682927\n",
      "13 25885.499846066385\n",
      "14 26695.04190214115\n",
      "15 26668.375235474487\n",
      "16 26623.375235474487\n",
      "17 29163.375235474487\n",
      "18 30490.45215855141\n",
      "19 33887.21406331331\n",
      "20 37181.160009259256\n",
      "21 37395.63059749455\n",
      "22 39188.63059749455\n",
      "23 39637.63059749455\n",
      "24 35173.43598051732\n",
      "25 33189.43598051732\n",
      "26 25981.435980517326\n",
      "27 25147.91985148507\n",
      "28 25368.845777410996\n",
      "29 24523.96617874879\n",
      "30 22166.96617874879\n",
      "31 22912.96617874879\n",
      "32 22206.96617874879\n",
      "33 21764.437041219648\n",
      "34 22076.10370788632\n",
      "35 21877.10370788632\n",
      "36 21172.10370788632\n",
      "37 19438.10370788632\n",
      "38 18253.10370788632\n",
      "39 18830.10370788632\n",
      "40 15380.10370788632\n",
      "41 15800.10370788632\n",
      "42 15553.147186147187\n",
      "43 17018.147186147187\n",
      "44 14832.147186147187\n",
      "45 14331.147186147187\n",
      "46 14768.147186147187\n",
      "47 14013.147186147187\n",
      "48 15357.909090909092\n",
      "49 15876.909090909092\n",
      "50 15524.0\n",
      "51 17369.0\n",
      "52 16915.0\n",
      "53 18625.0\n",
      "54 16485.0\n",
      "55 15439.0\n",
      "56 15514.0\n",
      "57 14546.0\n",
      "58 15197.0\n",
      "59 15647.0\n",
      "60 17047.0\n",
      "61 16367.0\n",
      "62 15427.0\n",
      "63 13987.0\n",
      "64 14442.0\n",
      "65 14592.0\n",
      "66 14312.0\n",
      "67 13725.0\n",
      "68 14900.0\n",
      "69 14530.0\n",
      "70 13875.0\n",
      "71 13915.0\n",
      "72 13118.0\n",
      "73 12918.0\n",
      "74 9945.0\n",
      "75 9867.0\n",
      "76 9872.0\n",
      "77 11072.0\n",
      "78 12127.0\n",
      "79 11160.0\n",
      "80 11410.0\n",
      "81 11076.0\n",
      "82 11601.0\n",
      "83 11091.0\n",
      "84 11891.0\n",
      "85 12791.0\n",
      "86 11783.0\n",
      "87 9143.0\n",
      "88 6743.0\n",
      "89 7123.0\n",
      "90 7224.0\n",
      "91 7323.0\n",
      "92 7048.0\n",
      "93 6062.0\n",
      "94 3953.0\n",
      "95 3703.0\n",
      "96 4503.0\n",
      "97 5303.0\n",
      "98 4443.0\n",
      "99 5043.0\n",
      "100 5183.0\n",
      "101 5083.0\n",
      "102 5333.0\n",
      "103 5383.0\n",
      "104 4648.0\n",
      "105 4458.0\n",
      "106 4533.0\n",
      "107 3983.0\n",
      "108 2633.0\n",
      "109 2833.0\n",
      "110 3333.0\n",
      "111 3638.0\n",
      "112 3738.0\n",
      "113 2418.0\n",
      "114 1813.0\n",
      "115 421.0\n",
      "116 1021.0\n",
      "117 1321.0\n",
      "118 1436.0\n",
      "119 2036.0\n",
      "120 2136.0\n",
      "121 1608.0\n",
      "122 1708.0\n",
      "123 2308.0\n",
      "124 1239.0\n",
      "125 1739.0\n",
      "126 1939.0\n",
      "127 1839.0\n",
      "128 1619.0\n",
      "129 2019.0\n",
      "130 2519.0\n",
      "131 2819.0\n",
      "132 2919.0\n",
      "133 2225.0\n",
      "134 2425.0\n",
      "135 2525.0\n",
      "136 3025.0\n",
      "137 3425.0\n",
      "138 3425.0\n",
      "139 2300.0\n",
      "140 2150.0\n",
      "141 1055.0\n",
      "142 -245.0\n",
      "143 55.0\n",
      "144 255.0\n",
      "145 555.0\n",
      "146 230.0\n",
      "147 630.0\n",
      "148 730.0\n",
      "149 1030.0\n",
      "150 130.0\n",
      "151 230.0\n",
      "152 -170.0\n",
      "153 30.0\n",
      "154 230.0\n",
      "155 230.0\n",
      "156 -220.0\n",
      "157 -120.0\n",
      "158 -120.0\n",
      "159 80.0\n",
      "160 380.0\n",
      "161 480.0\n",
      "162 580.0\n",
      "163 780.0\n",
      "164 880.0\n",
      "165 980.0\n",
      "166 980.0\n",
      "167 1080.0\n",
      "168 1180.0\n",
      "169 1280.0\n",
      "170 1280.0\n",
      "171 1580.0\n",
      "172 1680.0\n",
      "173 1980.0\n",
      "174 2180.0\n",
      "175 2280.0\n",
      "176 2580.0\n",
      "177 2780.0\n",
      "178 2880.0\n",
      "179 2980.0\n",
      "180 3180.0\n",
      "181 3180.0\n",
      "182 3180.0\n",
      "183 3380.0\n",
      "184 2980.0\n",
      "185 2980.0\n",
      "186 2980.0\n",
      "187 2980.0\n",
      "188 3280.0\n",
      "189 3280.0\n",
      "190 3020.0\n",
      "191 3220.0\n",
      "192 3320.0\n",
      "193 3320.0\n",
      "194 1720.0\n",
      "195 1920.0\n",
      "196 1920.0\n",
      "197 1920.0\n",
      "198 2220.0\n",
      "199 2015.0\n",
      "200 2015.0\n",
      "201 2215.0\n",
      "202 2215.0\n",
      "203 2215.0\n",
      "204 2215.0\n",
      "205 2215.0\n",
      "206 2215.0\n",
      "207 2215.0\n",
      "208 2215.0\n",
      "209 2315.0\n",
      "210 2315.0\n",
      "211 2315.0\n",
      "212 2315.0\n",
      "213 2615.0\n",
      "214 2715.0\n",
      "215 2115.0\n",
      "216 2115.0\n",
      "217 2315.0\n",
      "218 2515.0\n",
      "219 2515.0\n",
      "220 2615.0\n",
      "221 2615.0\n",
      "222 2615.0\n",
      "223 2715.0\n",
      "224 2715.0\n",
      "225 2715.0\n",
      "226 2815.0\n",
      "227 2815.0\n",
      "228 2815.0\n",
      "229 1765.0\n",
      "230 1765.0\n",
      "231 1765.0\n",
      "232 1865.0\n",
      "233 1865.0\n",
      "234 2065.0\n",
      "235 2165.0\n",
      "236 2165.0\n",
      "237 2165.0\n",
      "238 2265.0\n",
      "239 2265.0\n",
      "240 2465.0\n",
      "241 2465.0\n",
      "242 2465.0\n",
      "243 2465.0\n",
      "244 2665.0\n",
      "245 2765.0\n",
      "246 2765.0\n",
      "247 2765.0\n",
      "248 2765.0\n",
      "249 2865.0\n",
      "\n",
      "model_0\n",
      "LogisticRegression(max_iter=50000, random_state=75, solver='newton-cg',\n",
      "                   tol=0.00012)\n",
      "['B_total_title_bouts', 'R_draw', 'R_age', \"R_Women's Flyweight_rank\", 'total_title_bout_dif', 'B_Lightweight_rank', 'B_avg_TD_pct', 'B_Light Heavyweight_rank', 'R_Welterweight_rank', 'R_avg_SUB_ATT', \"B_Women's Flyweight_rank\", 'R_Lightweight_rank', 'R_total_rounds_fought', 'R_Light Heavyweight_rank', 'B_Welterweight_rank', 'no_of_rounds', 'R_total_title_bouts', 'gender', 'R_win_by_Decision_Split', 'Blue - SUB', 'B_Bantamweight_rank', 'R_odds', 'Red - SUB', 'Blue - DEC', \"R_Women's Featherweight_rank\", 'B_draw', 'R_Middleweight_rank', 'B_avg_SIG_STR_pct', \"B_Women's Strawweight_rank\", 'age_dif', 'B_Middleweight_rank', 'avg_sub_att_dif', 'R_Reach_cms', 'R_wins', 'B_ev', 'R_Weight_lbs', 'sub_dif', 'R_ev', 'B_avg_TD_landed']\n",
      "23\n",
      "\n"
     ]
    },
    {
     "data": {
      "text/plain": [
       "(2738, 40)"
      ]
     },
     "metadata": {},
     "output_type": "display_data"
    },
    {
     "data": {
      "text/plain": [
       "(2738,)"
      ]
     },
     "metadata": {},
     "output_type": "display_data"
    },
    {
     "data": {
      "text/plain": [
       "(2738, 6)"
      ]
     },
     "metadata": {},
     "output_type": "display_data"
    },
    {
     "data": {
      "text/plain": [
       "(241, 40)"
      ]
     },
     "metadata": {},
     "output_type": "display_data"
    },
    {
     "data": {
      "text/plain": [
       "(241,)"
      ]
     },
     "metadata": {},
     "output_type": "display_data"
    },
    {
     "data": {
      "text/plain": [
       "(241, 6)"
      ]
     },
     "metadata": {},
     "output_type": "display_data"
    },
    {
     "name": "stdout",
     "output_type": "stream",
     "text": [
      "250     3\n",
      "251     3\n",
      "252     4\n",
      "253     3\n",
      "254     0\n",
      "       ..\n",
      "4192    0\n",
      "4200    1\n",
      "4201    3\n",
      "4202    5\n",
      "4203    5\n",
      "Name: label, Length: 2738, dtype: int64\n",
      "Real Score: 2785.0\n",
      "HI\n",
      "HI\n",
      "HI\n",
      "HI\n",
      "HI\n",
      "The original score is 39637.63059749455\n",
      "NEW BEST FEATURE SET WITH: B_total_rounds_fought REMOVED 40154.63059749455\n",
      "The original score is 40154.63059749455\n",
      "NEW BEST FEATURE SET WITH: B_draw REMOVED 40454.63059749455\n",
      "The original score is 40454.63059749455\n",
      "\n",
      "model_0\n",
      "LogisticRegression(max_iter=50000, random_state=75, solver='newton-cg',\n",
      "                   tol=0.00012)\n",
      "['B_total_title_bouts', 'R_draw', 'R_age', \"R_Women's Flyweight_rank\", 'total_title_bout_dif', 'B_Lightweight_rank', 'B_avg_TD_pct', 'B_Light Heavyweight_rank', 'R_Welterweight_rank', 'R_avg_SUB_ATT', \"B_Women's Flyweight_rank\", 'R_Lightweight_rank', 'R_total_rounds_fought', 'R_Light Heavyweight_rank', 'B_Welterweight_rank', 'no_of_rounds', 'gender', 'R_win_by_Decision_Split', 'Blue - SUB', 'B_Bantamweight_rank', 'R_odds', 'Red - SUB', 'Blue - DEC', 'B_draw', 'R_Middleweight_rank', 'B_avg_SIG_STR_pct', \"B_Women's Strawweight_rank\", 'age_dif', 'B_Middleweight_rank', 'avg_sub_att_dif', 'R_Reach_cms', 'R_wins', 'B_ev', 'R_Weight_lbs', 'sub_dif', 'R_ev', 'B_avg_TD_landed']\n",
      "23\n",
      "\n"
     ]
    },
    {
     "data": {
      "text/plain": [
       "(2738, 38)"
      ]
     },
     "metadata": {},
     "output_type": "display_data"
    },
    {
     "data": {
      "text/plain": [
       "(2738,)"
      ]
     },
     "metadata": {},
     "output_type": "display_data"
    },
    {
     "data": {
      "text/plain": [
       "(2738, 6)"
      ]
     },
     "metadata": {},
     "output_type": "display_data"
    },
    {
     "data": {
      "text/plain": [
       "(241, 38)"
      ]
     },
     "metadata": {},
     "output_type": "display_data"
    },
    {
     "data": {
      "text/plain": [
       "(241,)"
      ]
     },
     "metadata": {},
     "output_type": "display_data"
    },
    {
     "data": {
      "text/plain": [
       "(241, 6)"
      ]
     },
     "metadata": {},
     "output_type": "display_data"
    },
    {
     "name": "stdout",
     "output_type": "stream",
     "text": [
      "250     3\n",
      "251     3\n",
      "252     4\n",
      "253     3\n",
      "254     0\n",
      "       ..\n",
      "4192    0\n",
      "4200    1\n",
      "4201    3\n",
      "4202    5\n",
      "4203    5\n",
      "Name: label, Length: 2738, dtype: int64\n",
      "Real Score: 2885.0\n",
      "HI\n",
      "HI\n",
      "HI\n",
      "HI\n",
      "HI\n",
      "The features are different\n",
      "OLD:\n",
      "['B_total_title_bouts', 'R_draw', 'R_age', \"R_Women's Flyweight_rank\", 'total_title_bout_dif', 'B_Lightweight_rank', 'B_avg_TD_pct', 'B_Light Heavyweight_rank', 'R_Welterweight_rank', 'R_avg_SUB_ATT', \"B_Women's Flyweight_rank\", 'R_Lightweight_rank', 'R_total_rounds_fought', 'R_Light Heavyweight_rank', 'B_Welterweight_rank', 'no_of_rounds', 'R_total_title_bouts', 'gender', 'R_win_by_Decision_Split', 'Blue - SUB', 'B_Bantamweight_rank', 'R_odds', 'Red - SUB', 'Blue - DEC', \"R_Women's Featherweight_rank\", 'B_draw', 'R_Middleweight_rank', 'B_avg_SIG_STR_pct', \"B_Women's Strawweight_rank\", 'age_dif', 'B_Middleweight_rank', 'avg_sub_att_dif', 'R_Reach_cms', 'R_wins', 'B_ev', 'R_Weight_lbs', 'sub_dif', 'R_ev', 'B_avg_TD_landed']\n",
      "NEW:\n",
      "['B_total_title_bouts', 'R_draw', 'R_age', \"R_Women's Flyweight_rank\", 'total_title_bout_dif', 'B_Lightweight_rank', 'B_avg_TD_pct', 'B_Light Heavyweight_rank', 'R_Welterweight_rank', 'R_avg_SUB_ATT', \"B_Women's Flyweight_rank\", 'R_Lightweight_rank', 'R_total_rounds_fought', 'R_Light Heavyweight_rank', 'B_Welterweight_rank', 'no_of_rounds', 'gender', 'R_win_by_Decision_Split', 'Blue - SUB', 'B_Bantamweight_rank', 'R_odds', 'Red - SUB', 'Blue - DEC', 'B_draw', 'R_Middleweight_rank', 'B_avg_SIG_STR_pct', \"B_Women's Strawweight_rank\", 'age_dif', 'B_Middleweight_rank', 'avg_sub_att_dif', 'R_Reach_cms', 'R_wins', 'B_ev', 'R_Weight_lbs', 'sub_dif', 'R_ev', 'B_avg_TD_landed']\n",
      "Current best score is: 40454.63059749455\n",
      "NO IMPROVEMENT\n",
      "FINAL BEST SCORE: 40454.63059749455\n",
      "\n",
      "model_0\n",
      "LogisticRegression(max_iter=50000, random_state=75, solver='newton-cg',\n",
      "                   tol=0.00012)\n",
      "['B_total_title_bouts', 'R_draw', 'R_age', \"R_Women's Flyweight_rank\", 'total_title_bout_dif', 'B_Lightweight_rank', 'B_avg_TD_pct', 'B_Light Heavyweight_rank', 'R_Welterweight_rank', 'R_avg_SUB_ATT', \"B_Women's Flyweight_rank\", 'R_Lightweight_rank', 'R_total_rounds_fought', 'R_Light Heavyweight_rank', 'B_Welterweight_rank', 'no_of_rounds', 'gender', 'R_win_by_Decision_Split', 'Blue - SUB', 'B_Bantamweight_rank', 'R_odds', 'Red - SUB', 'Blue - DEC', 'B_draw', 'R_Middleweight_rank', 'B_avg_SIG_STR_pct', \"B_Women's Strawweight_rank\", 'age_dif', 'B_Middleweight_rank', 'avg_sub_att_dif', 'R_Reach_cms', 'R_wins', 'B_ev', 'R_Weight_lbs', 'sub_dif', 'R_ev', 'B_avg_TD_landed']\n",
      "23\n",
      "\n"
     ]
    },
    {
     "data": {
      "text/plain": [
       "(2738, 38)"
      ]
     },
     "metadata": {},
     "output_type": "display_data"
    },
    {
     "data": {
      "text/plain": [
       "(2738,)"
      ]
     },
     "metadata": {},
     "output_type": "display_data"
    },
    {
     "data": {
      "text/plain": [
       "(2738, 6)"
      ]
     },
     "metadata": {},
     "output_type": "display_data"
    },
    {
     "data": {
      "text/plain": [
       "(241, 38)"
      ]
     },
     "metadata": {},
     "output_type": "display_data"
    },
    {
     "data": {
      "text/plain": [
       "(241,)"
      ]
     },
     "metadata": {},
     "output_type": "display_data"
    },
    {
     "data": {
      "text/plain": [
       "(241, 6)"
      ]
     },
     "metadata": {},
     "output_type": "display_data"
    },
    {
     "name": "stdout",
     "output_type": "stream",
     "text": [
      "250     3\n",
      "251     3\n",
      "252     4\n",
      "253     3\n",
      "254     0\n",
      "       ..\n",
      "4192    0\n",
      "4200    1\n",
      "4201    3\n",
      "4202    5\n",
      "4203    5\n",
      "Name: label, Length: 2738, dtype: int64\n",
      "Real Score: 2885.0\n",
      "HI\n",
      "HI\n",
      "HI\n",
      "HI\n",
      "HI\n",
      "\n",
      "\n",
      "Starting New Run for LogisticRegression\n",
      "\n",
      "\n",
      "Previous Best Score: 40454.63059749455\n",
      "solver: newton-cg penalty: l2 tol: 0.00012 Score: 40454.63059749455\n",
      "solver: newton-cg penalty: l2 tol: 0.000144 Score: 40454.63059749455\n",
      "solver: newton-cg penalty: l2 tol: 9.6e-05 Score: 40454.63059749455\n",
      "solver: newton-cg penalty: l2 tol: 8.858316311009382 Score: 25929.67407575542\n",
      "solver: newton-cg penalty: none tol: 0.00012 Score: 36373.63059749455\n",
      "solver: newton-cg penalty: none tol: 0.000144 Score: 36373.63059749455\n",
      "solver: newton-cg penalty: none tol: 9.6e-05 Score: 36373.63059749455\n",
      "solver: newton-cg penalty: none tol: 8.858316311009382 Score: 23636.392502256454\n",
      "solver: lbfgs penalty: l2 tol: 0.00012 Score: 40354.63059749455\n",
      "solver: lbfgs penalty: l2 tol: 0.000144 Score: 40354.63059749455\n",
      "solver: lbfgs penalty: l2 tol: 9.6e-05 Score: 40354.63059749455\n",
      "solver: lbfgs penalty: l2 tol: 8.858316311009382 Score: 17287.157946723164\n",
      "solver: lbfgs penalty: none tol: 0.00012 Score: 36473.63059749455\n",
      "solver: lbfgs penalty: none tol: 0.000144 Score: 36473.63059749455\n",
      "solver: lbfgs penalty: none tol: 9.6e-05 Score: 36473.63059749455\n",
      "solver: lbfgs penalty: none tol: 8.858316311009382 Score: 18116.157946723164\n",
      "solver: sag penalty: l2 tol: 0.00012 Score: 40454.63059749455\n",
      "solver: sag penalty: l2 tol: 0.000144 Score: 40454.63059749455\n",
      "solver: sag penalty: l2 tol: 9.6e-05 Score: 40454.63059749455\n",
      "solver: sag penalty: l2 tol: 8.858316311009382 Score: -6009.735965115372\n",
      "solver: sag penalty: none tol: 0.00012 Score: 36473.63059749455\n",
      "solver: sag penalty: none tol: 0.000144 Score: 36473.63059749455\n",
      "solver: sag penalty: none tol: 9.6e-05 Score: 36473.63059749455\n",
      "solver: sag penalty: none tol: 8.858316311009382 Score: -5854.735965115372\n",
      "Real output model: LogisticRegression(max_iter=50000, random_state=75, solver='newton-cg',\n",
      "                   tol=0.00012)\n",
      "\n",
      "model_0\n",
      "LogisticRegression(max_iter=50000, random_state=75, solver='newton-cg',\n",
      "                   tol=0.00012)\n",
      "['B_total_title_bouts', 'R_draw', 'R_age', \"R_Women's Flyweight_rank\", 'total_title_bout_dif', 'B_Lightweight_rank', 'B_avg_TD_pct', 'B_Light Heavyweight_rank', 'R_Welterweight_rank', 'R_avg_SUB_ATT', \"B_Women's Flyweight_rank\", 'R_Lightweight_rank', 'R_total_rounds_fought', 'R_Light Heavyweight_rank', 'B_Welterweight_rank', 'no_of_rounds', 'gender', 'R_win_by_Decision_Split', 'Blue - SUB', 'B_Bantamweight_rank', 'R_odds', 'Red - SUB', 'Blue - DEC', 'B_draw', 'R_Middleweight_rank', 'B_avg_SIG_STR_pct', \"B_Women's Strawweight_rank\", 'age_dif', 'B_Middleweight_rank', 'avg_sub_att_dif', 'R_Reach_cms', 'R_wins', 'B_ev', 'R_Weight_lbs', 'sub_dif', 'R_ev', 'B_avg_TD_landed']\n",
      "23\n",
      "\n"
     ]
    },
    {
     "data": {
      "text/plain": [
       "(2738, 38)"
      ]
     },
     "metadata": {},
     "output_type": "display_data"
    },
    {
     "data": {
      "text/plain": [
       "(2738,)"
      ]
     },
     "metadata": {},
     "output_type": "display_data"
    },
    {
     "data": {
      "text/plain": [
       "(2738, 6)"
      ]
     },
     "metadata": {},
     "output_type": "display_data"
    },
    {
     "data": {
      "text/plain": [
       "(241, 38)"
      ]
     },
     "metadata": {},
     "output_type": "display_data"
    },
    {
     "data": {
      "text/plain": [
       "(241,)"
      ]
     },
     "metadata": {},
     "output_type": "display_data"
    },
    {
     "data": {
      "text/plain": [
       "(241, 6)"
      ]
     },
     "metadata": {},
     "output_type": "display_data"
    },
    {
     "name": "stdout",
     "output_type": "stream",
     "text": [
      "250     3\n",
      "251     3\n",
      "252     4\n",
      "253     3\n",
      "254     0\n",
      "       ..\n",
      "4192    0\n",
      "4200    1\n",
      "4201    3\n",
      "4202    5\n",
      "4203    5\n",
      "Name: label, Length: 2738, dtype: int64\n",
      "Real Score: 2885.0\n",
      "HI\n",
      "HI\n",
      "HI\n",
      "HI\n",
      "HI\n",
      "0 7369.881927717962\n",
      "1 8592.1584322688\n",
      "2 5309.0352438630025\n",
      "3 7865.48321875758\n",
      "4 6098.560141834503\n",
      "5 8931.827521513647\n",
      "6 9847.382904536422\n",
      "7 7893.433260310914\n",
      "8 12075.466837581687\n",
      "9 17157.466837581687\n",
      "10 18954.466837581687\n",
      "11 21196.466837581687\n",
      "12 22707.81563554007\n",
      "13 25920.499846066385\n",
      "14 25327.04190214115\n",
      "15 26144.04190214115\n",
      "16 26649.375235474487\n",
      "17 28178.375235474487\n",
      "18 31284.375235474487\n",
      "19 34022.21406331331\n",
      "20 36969.160009259256\n",
      "21 36498.63059749455\n",
      "22 38765.63059749455\n",
      "23 40454.63059749455\n",
      "24 36673.43598051732\n",
      "25 32019.435980517326\n",
      "26 26868.435980517326\n",
      "27 24860.91985148507\n",
      "28 25263.845777410996\n",
      "29 24574.96617874879\n",
      "30 21723.96617874879\n",
      "31 23563.96617874879\n",
      "32 23607.96617874879\n",
      "33 21764.437041219648\n",
      "34 21376.10370788632\n",
      "35 22482.10370788632\n",
      "36 19422.10370788632\n",
      "37 19938.10370788632\n",
      "38 20080.10370788632\n",
      "39 18655.10370788632\n",
      "40 16430.10370788632\n",
      "41 16795.10370788632\n",
      "42 16213.147186147187\n",
      "43 18353.147186147187\n",
      "44 15583.147186147187\n",
      "45 14674.147186147187\n",
      "46 15618.147186147187\n",
      "47 14863.147186147187\n",
      "48 15957.909090909092\n",
      "49 15986.0\n",
      "50 16865.0\n",
      "51 18014.0\n",
      "52 17935.0\n",
      "53 18840.0\n",
      "54 17604.0\n",
      "55 16704.0\n",
      "56 15864.0\n",
      "57 15156.0\n",
      "58 15397.0\n",
      "59 16247.0\n",
      "60 14947.0\n",
      "61 16222.0\n",
      "62 14302.0\n",
      "63 13713.0\n",
      "64 13957.0\n",
      "65 13672.0\n",
      "66 13087.0\n",
      "67 12750.0\n",
      "68 14350.0\n",
      "69 14380.0\n",
      "70 13875.0\n",
      "71 13915.0\n",
      "72 13168.0\n",
      "73 12448.0\n",
      "74 10095.0\n",
      "75 10217.0\n",
      "76 10247.0\n",
      "77 10697.0\n",
      "78 11652.0\n",
      "79 9826.0\n",
      "80 10266.0\n",
      "81 11666.0\n",
      "82 12466.0\n",
      "83 10756.0\n",
      "84 8791.0\n",
      "85 9661.0\n",
      "86 9518.0\n",
      "87 10318.0\n",
      "88 7443.0\n",
      "89 7128.0\n",
      "90 7519.0\n",
      "91 7698.0\n",
      "92 7418.0\n",
      "93 6202.0\n",
      "94 6342.0\n",
      "95 3943.0\n",
      "96 4443.0\n",
      "97 5043.0\n",
      "98 5843.0\n",
      "99 4353.0\n",
      "100 4523.0\n",
      "101 4373.0\n",
      "102 4873.0\n",
      "103 5023.0\n",
      "104 4188.0\n",
      "105 4488.0\n",
      "106 4788.0\n",
      "107 3848.0\n",
      "108 2273.0\n",
      "109 2673.0\n",
      "110 2878.0\n",
      "111 3278.0\n",
      "112 3678.0\n",
      "113 2473.0\n",
      "114 2673.0\n",
      "115 1181.0\n",
      "116 1461.0\n",
      "117 1761.0\n",
      "118 1976.0\n",
      "119 2376.0\n",
      "120 2676.0\n",
      "121 1948.0\n",
      "122 2348.0\n",
      "123 2748.0\n",
      "124 2248.0\n",
      "125 2848.0\n",
      "126 2848.0\n",
      "127 2548.0\n",
      "128 1979.0\n",
      "129 1559.0\n",
      "130 1859.0\n",
      "131 2559.0\n",
      "132 2659.0\n",
      "133 1965.0\n",
      "134 2265.0\n",
      "135 2365.0\n",
      "136 2765.0\n",
      "137 3065.0\n",
      "138 2415.0\n",
      "139 2615.0\n",
      "140 2265.0\n",
      "141 1270.0\n",
      "142 -405.0\n",
      "143 -305.0\n",
      "144 -5.0\n",
      "145 295.0\n",
      "146 -30.0\n",
      "147 270.0\n",
      "148 570.0\n",
      "149 -430.0\n",
      "150 -1030.0\n",
      "151 -730.0\n",
      "152 -430.0\n",
      "153 -130.0\n",
      "154 -30.0\n",
      "155 -480.0\n",
      "156 -480.0\n",
      "157 -380.0\n",
      "158 -280.0\n",
      "159 -180.0\n",
      "160 20.0\n",
      "161 220.0\n",
      "162 520.0\n",
      "163 520.0\n",
      "164 620.0\n",
      "165 720.0\n",
      "166 820.0\n",
      "167 920.0\n",
      "168 1020.0\n",
      "169 1020.0\n",
      "170 1020.0\n",
      "171 1220.0\n",
      "172 1520.0\n",
      "173 1720.0\n",
      "174 1820.0\n",
      "175 1920.0\n",
      "176 2120.0\n",
      "177 2320.0\n",
      "178 2420.0\n",
      "179 2720.0\n",
      "180 2720.0\n",
      "181 2820.0\n",
      "182 2920.0\n",
      "183 3120.0\n",
      "184 3320.0\n",
      "185 3320.0\n",
      "186 3320.0\n",
      "187 3320.0\n",
      "188 3320.0\n",
      "189 3520.0\n",
      "190 3120.0\n",
      "191 3120.0\n",
      "192 3220.0\n",
      "193 3320.0\n",
      "194 3320.0\n",
      "195 1820.0\n",
      "196 1920.0\n",
      "197 2120.0\n",
      "198 2220.0\n",
      "199 2220.0\n",
      "200 2115.0\n",
      "201 2215.0\n",
      "202 2315.0\n",
      "203 2315.0\n",
      "204 2315.0\n",
      "205 2315.0\n",
      "206 2415.0\n",
      "207 2415.0\n",
      "208 2415.0\n",
      "209 2515.0\n",
      "210 2515.0\n",
      "211 2515.0\n",
      "212 2715.0\n",
      "213 2815.0\n",
      "214 2815.0\n",
      "215 2215.0\n",
      "216 2215.0\n",
      "217 2615.0\n",
      "218 2715.0\n",
      "219 2715.0\n",
      "220 2715.0\n",
      "221 2715.0\n",
      "222 2715.0\n",
      "223 2815.0\n",
      "224 2815.0\n",
      "225 2815.0\n",
      "226 2915.0\n",
      "227 2915.0\n",
      "228 1865.0\n",
      "229 1965.0\n",
      "230 1965.0\n",
      "231 1965.0\n",
      "232 1965.0\n",
      "233 2065.0\n",
      "234 2165.0\n",
      "235 2165.0\n",
      "236 2165.0\n",
      "237 2365.0\n",
      "238 2465.0\n",
      "239 2565.0\n",
      "240 2565.0\n",
      "241 2565.0\n",
      "242 2565.0\n",
      "243 2665.0\n",
      "244 2765.0\n",
      "245 2765.0\n",
      "246 2765.0\n",
      "247 2765.0\n",
      "248 2765.0\n",
      "249 2865.0\n",
      "\n",
      "model_0\n",
      "LogisticRegression(max_iter=50000, random_state=75, solver='newton-cg',\n",
      "                   tol=0.00012)\n",
      "['B_total_title_bouts', 'R_draw', 'R_age', \"R_Women's Flyweight_rank\", 'total_title_bout_dif', 'B_Lightweight_rank', 'B_avg_TD_pct', 'B_Light Heavyweight_rank', 'R_Welterweight_rank', 'R_avg_SUB_ATT', \"B_Women's Flyweight_rank\", 'R_Lightweight_rank', 'R_total_rounds_fought', 'R_Light Heavyweight_rank', 'B_Welterweight_rank', 'no_of_rounds', 'gender', 'R_win_by_Decision_Split', 'Blue - SUB', 'B_Bantamweight_rank', 'R_odds', 'Red - SUB', 'Blue - DEC', 'B_draw', 'R_Middleweight_rank', 'B_avg_SIG_STR_pct', \"B_Women's Strawweight_rank\", 'age_dif', 'B_Middleweight_rank', 'avg_sub_att_dif', 'R_Reach_cms', 'R_wins', 'B_ev', 'R_Weight_lbs', 'sub_dif', 'R_ev', 'B_avg_TD_landed']\n",
      "23\n",
      "\n"
     ]
    },
    {
     "data": {
      "text/plain": [
       "(2738, 38)"
      ]
     },
     "metadata": {},
     "output_type": "display_data"
    },
    {
     "data": {
      "text/plain": [
       "(2738,)"
      ]
     },
     "metadata": {},
     "output_type": "display_data"
    },
    {
     "data": {
      "text/plain": [
       "(2738, 6)"
      ]
     },
     "metadata": {},
     "output_type": "display_data"
    },
    {
     "data": {
      "text/plain": [
       "(241, 38)"
      ]
     },
     "metadata": {},
     "output_type": "display_data"
    },
    {
     "data": {
      "text/plain": [
       "(241,)"
      ]
     },
     "metadata": {},
     "output_type": "display_data"
    },
    {
     "data": {
      "text/plain": [
       "(241, 6)"
      ]
     },
     "metadata": {},
     "output_type": "display_data"
    },
    {
     "name": "stdout",
     "output_type": "stream",
     "text": [
      "250     3\n",
      "251     3\n",
      "252     4\n",
      "253     3\n",
      "254     0\n",
      "       ..\n",
      "4192    0\n",
      "4200    1\n",
      "4201    3\n",
      "4202    5\n",
      "4203    5\n",
      "Name: label, Length: 2738, dtype: int64\n",
      "Real Score: 2885.0\n",
      "HI\n",
      "HI\n",
      "HI\n",
      "HI\n",
      "HI\n",
      "The original score is 40454.63059749455\n",
      "\n",
      "model_0\n",
      "LogisticRegression(max_iter=50000, random_state=75, solver='newton-cg',\n",
      "                   tol=0.00012)\n",
      "['B_total_title_bouts', 'R_draw', 'R_age', \"R_Women's Flyweight_rank\", 'total_title_bout_dif', 'B_Lightweight_rank', 'B_avg_TD_pct', 'B_Light Heavyweight_rank', 'R_Welterweight_rank', 'R_avg_SUB_ATT', \"B_Women's Flyweight_rank\", 'R_Lightweight_rank', 'R_total_rounds_fought', 'R_Light Heavyweight_rank', 'B_Welterweight_rank', 'no_of_rounds', 'gender', 'R_win_by_Decision_Split', 'Blue - SUB', 'B_Bantamweight_rank', 'R_odds', 'Red - SUB', 'Blue - DEC', 'B_draw', 'R_Middleweight_rank', 'B_avg_SIG_STR_pct', \"B_Women's Strawweight_rank\", 'age_dif', 'B_Middleweight_rank', 'avg_sub_att_dif', 'R_Reach_cms', 'R_wins', 'B_ev', 'R_Weight_lbs', 'sub_dif', 'R_ev', 'B_avg_TD_landed']\n",
      "23\n",
      "\n"
     ]
    },
    {
     "data": {
      "text/plain": [
       "(2738, 38)"
      ]
     },
     "metadata": {},
     "output_type": "display_data"
    },
    {
     "data": {
      "text/plain": [
       "(2738,)"
      ]
     },
     "metadata": {},
     "output_type": "display_data"
    },
    {
     "data": {
      "text/plain": [
       "(2738, 6)"
      ]
     },
     "metadata": {},
     "output_type": "display_data"
    },
    {
     "data": {
      "text/plain": [
       "(241, 38)"
      ]
     },
     "metadata": {},
     "output_type": "display_data"
    },
    {
     "data": {
      "text/plain": [
       "(241,)"
      ]
     },
     "metadata": {},
     "output_type": "display_data"
    },
    {
     "data": {
      "text/plain": [
       "(241, 6)"
      ]
     },
     "metadata": {},
     "output_type": "display_data"
    },
    {
     "name": "stdout",
     "output_type": "stream",
     "text": [
      "250     3\n",
      "251     3\n",
      "252     4\n",
      "253     3\n",
      "254     0\n",
      "       ..\n",
      "4192    0\n",
      "4200    1\n",
      "4201    3\n",
      "4202    5\n",
      "4203    5\n",
      "Name: label, Length: 2738, dtype: int64\n",
      "Real Score: 2885.0\n",
      "HI\n",
      "HI\n",
      "HI\n",
      "HI\n",
      "HI\n",
      "\n",
      "\n",
      "OPTIMIZING MODEL 1\n",
      "\n",
      "\n",
      "model_1\n",
      "DecisionTreeClassifier(max_depth=31, max_leaf_nodes=336,\n",
      "                       min_samples_leaf=0.009801, random_state=75,\n",
      "                       splitter='random')\n",
      "['B_Heavyweight_rank', \"R_Women's Bantamweight_rank\", 'B_Pound-for-Pound_rank', 'total_title_bout_dif', \"B_Women's Strawweight_rank\", 'R_losses', 'R_win_by_KO/TKO', 'avg_sub_att_dif', 'age_dif', 'B_avg_TD_landed', 'R_win_by_Decision_Split', 'win_dif', 'weight_class', 'R_odds', 'location', 'empty_arena']\n",
      "216\n",
      "Current best score is: -3366.0\n",
      "Feature: country Score: 2264.0\n",
      "Feature: B_Reach_cms Score: 4215.0\n",
      "Feature: B_Women's Featherweight_rank Score: 6119.0\n",
      "The best feature was B_Women's Featherweight_rank.  It scored 6119.0\n",
      "Current best score is: 6119.0\n",
      "Feature: Blue - SUB Score: 6405.0\n",
      "The best feature was Blue - SUB.  It scored 6405.0\n",
      "Current best score is: 6405.0\n",
      "Feature: B_current_lose_streak Score: 6811.0\n",
      "Feature: B_age Score: 9406.0\n",
      "The best feature was B_age.  It scored 9406.0\n",
      "Current best score is: 9406.0\n",
      "Feature: no_of_rounds Score: 9588.0\n",
      "The best feature was no_of_rounds.  It scored 9588.0\n",
      "Current best score is: 9588.0\n",
      "Feature: gender Score: 12061.0\n",
      "The best feature was gender.  It scored 12061.0\n",
      "Current best score is: 12061.0\n",
      "Feature: B_win_by_Decision_Majority Score: 12546.0\n",
      "The best feature was B_win_by_Decision_Majority.  It scored 12546.0\n",
      "Current best score is: 12546.0\n",
      "NO IMPROVEMENT\n",
      "FINAL BEST SCORE: 12546.0\n",
      "\n",
      "model_1\n",
      "DecisionTreeClassifier(max_depth=31, max_leaf_nodes=336,\n",
      "                       min_samples_leaf=0.009801, random_state=75,\n",
      "                       splitter='random')\n",
      "['B_win_by_Decision_Majority', 'gender', 'no_of_rounds', 'B_age', 'Blue - SUB', \"B_Women's Featherweight_rank\", 'B_Heavyweight_rank', \"R_Women's Bantamweight_rank\", 'B_Pound-for-Pound_rank', 'total_title_bout_dif', \"B_Women's Strawweight_rank\", 'R_losses', 'R_win_by_KO/TKO', 'avg_sub_att_dif', 'age_dif', 'B_avg_TD_landed', 'R_win_by_Decision_Split', 'win_dif', 'weight_class', 'R_odds', 'location', 'empty_arena']\n",
      "216\n",
      "\n"
     ]
    },
    {
     "data": {
      "text/plain": [
       "(2810, 169)"
      ]
     },
     "metadata": {},
     "output_type": "display_data"
    },
    {
     "data": {
      "text/plain": [
       "(2810,)"
      ]
     },
     "metadata": {},
     "output_type": "display_data"
    },
    {
     "data": {
      "text/plain": [
       "(2810, 6)"
      ]
     },
     "metadata": {},
     "output_type": "display_data"
    },
    {
     "data": {
      "text/plain": [
       "(241, 169)"
      ]
     },
     "metadata": {},
     "output_type": "display_data"
    },
    {
     "data": {
      "text/plain": [
       "(241,)"
      ]
     },
     "metadata": {},
     "output_type": "display_data"
    },
    {
     "data": {
      "text/plain": [
       "(241, 6)"
      ]
     },
     "metadata": {},
     "output_type": "display_data"
    },
    {
     "name": "stdout",
     "output_type": "stream",
     "text": [
      "250     3\n",
      "251     3\n",
      "252     4\n",
      "253     3\n",
      "254     0\n",
      "       ..\n",
      "4192    0\n",
      "4200    1\n",
      "4201    3\n",
      "4202    5\n",
      "4203    5\n",
      "Name: label, Length: 2810, dtype: int64\n",
      "Real Score: 0.0\n",
      "HI\n",
      "HI\n",
      "HI\n",
      "HI\n",
      "HI\n",
      "\n",
      "\n",
      "Starting New Run for DecisionTree\n",
      "\n",
      "\n",
      "Previous Best Score: 12546.0\n",
      "Criterion: gini splitter: random max_depth: 31 min_samples_leaf: 0.009801 max_leaf_nodes: 336 12546.0\n",
      "Criterion: gini splitter: best max_depth: 31 min_samples_leaf: 0.009801 max_leaf_nodes: 336 -1228.0\n",
      "Criterion: entropy splitter: random max_depth: 31 min_samples_leaf: 0.009801 max_leaf_nodes: 336 4836.0\n",
      "Criterion: entropy splitter: best max_depth: 31 min_samples_leaf: 0.009801 max_leaf_nodes: 336 9494.0\n",
      "Criterion: gini splitter: random max_depth: 30 min_samples_leaf: 0.009801 max_leaf_nodes: 336 12546.0\n",
      "Criterion: gini splitter: best max_depth: 30 min_samples_leaf: 0.009801 max_leaf_nodes: 336 -1228.0\n",
      "Criterion: entropy splitter: random max_depth: 30 min_samples_leaf: 0.009801 max_leaf_nodes: 336 4836.0\n",
      "Criterion: entropy splitter: best max_depth: 30 min_samples_leaf: 0.009801 max_leaf_nodes: 336 9494.0\n",
      "Criterion: gini splitter: random max_depth: 32 min_samples_leaf: 0.009801 max_leaf_nodes: 336 12546.0\n",
      "Criterion: gini splitter: best max_depth: 32 min_samples_leaf: 0.009801 max_leaf_nodes: 336 -1228.0\n",
      "Criterion: entropy splitter: random max_depth: 32 min_samples_leaf: 0.009801 max_leaf_nodes: 336 4836.0\n",
      "Criterion: entropy splitter: best max_depth: 32 min_samples_leaf: 0.009801 max_leaf_nodes: 336 9494.0\n",
      "Criterion: gini splitter: random max_depth: 91 min_samples_leaf: 0.009801 max_leaf_nodes: 336 12546.0\n",
      "Criterion: gini splitter: best max_depth: 91 min_samples_leaf: 0.009801 max_leaf_nodes: 336 -1228.0\n",
      "Criterion: entropy splitter: random max_depth: 91 min_samples_leaf: 0.009801 max_leaf_nodes: 336 4836.0\n",
      "Criterion: entropy splitter: best max_depth: 91 min_samples_leaf: 0.009801 max_leaf_nodes: 336 9494.0\n",
      "Criterion: gini splitter: random max_depth: 31 min_samples_leaf: 0.009899010000000001 max_leaf_nodes: 336 12546.0\n",
      "Criterion: gini splitter: best max_depth: 31 min_samples_leaf: 0.009899010000000001 max_leaf_nodes: 336 -1228.0\n",
      "Criterion: entropy splitter: random max_depth: 31 min_samples_leaf: 0.009899010000000001 max_leaf_nodes: 336 4836.0\n",
      "Criterion: entropy splitter: best max_depth: 31 min_samples_leaf: 0.009899010000000001 max_leaf_nodes: 336 9494.0\n",
      "Criterion: gini splitter: random max_depth: 30 min_samples_leaf: 0.009899010000000001 max_leaf_nodes: 336 12546.0\n",
      "Criterion: gini splitter: best max_depth: 30 min_samples_leaf: 0.009899010000000001 max_leaf_nodes: 336 -1228.0\n",
      "Criterion: entropy splitter: random max_depth: 30 min_samples_leaf: 0.009899010000000001 max_leaf_nodes: 336 4836.0\n",
      "Criterion: entropy splitter: best max_depth: 30 min_samples_leaf: 0.009899010000000001 max_leaf_nodes: 336 9494.0\n",
      "Criterion: gini splitter: random max_depth: 32 min_samples_leaf: 0.009899010000000001 max_leaf_nodes: 336 12546.0\n",
      "Criterion: gini splitter: best max_depth: 32 min_samples_leaf: 0.009899010000000001 max_leaf_nodes: 336 -1228.0\n",
      "Criterion: entropy splitter: random max_depth: 32 min_samples_leaf: 0.009899010000000001 max_leaf_nodes: 336 4836.0\n",
      "Criterion: entropy splitter: best max_depth: 32 min_samples_leaf: 0.009899010000000001 max_leaf_nodes: 336 9494.0\n",
      "Criterion: gini splitter: random max_depth: 91 min_samples_leaf: 0.009899010000000001 max_leaf_nodes: 336 12546.0\n",
      "Criterion: gini splitter: best max_depth: 91 min_samples_leaf: 0.009899010000000001 max_leaf_nodes: 336 -1228.0\n",
      "Criterion: entropy splitter: random max_depth: 91 min_samples_leaf: 0.009899010000000001 max_leaf_nodes: 336 4836.0\n",
      "Criterion: entropy splitter: best max_depth: 91 min_samples_leaf: 0.009899010000000001 max_leaf_nodes: 336 9494.0\n",
      "Criterion: gini splitter: random max_depth: 31 min_samples_leaf: 0.00970299 max_leaf_nodes: 336 12546.0\n",
      "Criterion: gini splitter: best max_depth: 31 min_samples_leaf: 0.00970299 max_leaf_nodes: 336 -1228.0\n",
      "Criterion: entropy splitter: random max_depth: 31 min_samples_leaf: 0.00970299 max_leaf_nodes: 336 4836.0\n",
      "Criterion: entropy splitter: best max_depth: 31 min_samples_leaf: 0.00970299 max_leaf_nodes: 336 9494.0\n",
      "Criterion: gini splitter: random max_depth: 30 min_samples_leaf: 0.00970299 max_leaf_nodes: 336 12546.0\n",
      "Criterion: gini splitter: best max_depth: 30 min_samples_leaf: 0.00970299 max_leaf_nodes: 336 -1228.0\n",
      "Criterion: entropy splitter: random max_depth: 30 min_samples_leaf: 0.00970299 max_leaf_nodes: 336 4836.0\n",
      "Criterion: entropy splitter: best max_depth: 30 min_samples_leaf: 0.00970299 max_leaf_nodes: 336 9494.0\n",
      "Criterion: gini splitter: random max_depth: 32 min_samples_leaf: 0.00970299 max_leaf_nodes: 336 12546.0\n",
      "Criterion: gini splitter: best max_depth: 32 min_samples_leaf: 0.00970299 max_leaf_nodes: 336 -1228.0\n",
      "Criterion: entropy splitter: random max_depth: 32 min_samples_leaf: 0.00970299 max_leaf_nodes: 336 4836.0\n",
      "Criterion: entropy splitter: best max_depth: 32 min_samples_leaf: 0.00970299 max_leaf_nodes: 336 9494.0\n",
      "Criterion: gini splitter: random max_depth: 91 min_samples_leaf: 0.00970299 max_leaf_nodes: 336 12546.0\n",
      "Criterion: gini splitter: best max_depth: 91 min_samples_leaf: 0.00970299 max_leaf_nodes: 336 -1228.0\n",
      "Criterion: entropy splitter: random max_depth: 91 min_samples_leaf: 0.00970299 max_leaf_nodes: 336 4836.0\n",
      "Criterion: entropy splitter: best max_depth: 91 min_samples_leaf: 0.00970299 max_leaf_nodes: 336 9494.0\n",
      "Criterion: gini splitter: random max_depth: 31 min_samples_leaf: 0.009801 max_leaf_nodes: 335 12546.0\n",
      "Criterion: gini splitter: best max_depth: 31 min_samples_leaf: 0.009801 max_leaf_nodes: 335 -1228.0\n",
      "Criterion: entropy splitter: random max_depth: 31 min_samples_leaf: 0.009801 max_leaf_nodes: 335 4836.0\n",
      "Criterion: entropy splitter: best max_depth: 31 min_samples_leaf: 0.009801 max_leaf_nodes: 335 9494.0\n",
      "Criterion: gini splitter: random max_depth: 30 min_samples_leaf: 0.009801 max_leaf_nodes: 335 12546.0\n",
      "Criterion: gini splitter: best max_depth: 30 min_samples_leaf: 0.009801 max_leaf_nodes: 335 -1228.0\n",
      "Criterion: entropy splitter: random max_depth: 30 min_samples_leaf: 0.009801 max_leaf_nodes: 335 4836.0\n",
      "Criterion: entropy splitter: best max_depth: 30 min_samples_leaf: 0.009801 max_leaf_nodes: 335 9494.0\n",
      "Criterion: gini splitter: random max_depth: 32 min_samples_leaf: 0.009801 max_leaf_nodes: 335 12546.0\n",
      "Criterion: gini splitter: best max_depth: 32 min_samples_leaf: 0.009801 max_leaf_nodes: 335 -1228.0\n",
      "Criterion: entropy splitter: random max_depth: 32 min_samples_leaf: 0.009801 max_leaf_nodes: 335 4836.0\n",
      "Criterion: entropy splitter: best max_depth: 32 min_samples_leaf: 0.009801 max_leaf_nodes: 335 9494.0\n",
      "Criterion: gini splitter: random max_depth: 91 min_samples_leaf: 0.009801 max_leaf_nodes: 335 12546.0\n",
      "Criterion: gini splitter: best max_depth: 91 min_samples_leaf: 0.009801 max_leaf_nodes: 335 -1228.0\n",
      "Criterion: entropy splitter: random max_depth: 91 min_samples_leaf: 0.009801 max_leaf_nodes: 335 4836.0\n",
      "Criterion: entropy splitter: best max_depth: 91 min_samples_leaf: 0.009801 max_leaf_nodes: 335 9494.0\n",
      "Criterion: gini splitter: random max_depth: 31 min_samples_leaf: 0.009899010000000001 max_leaf_nodes: 335 12546.0\n",
      "Criterion: gini splitter: best max_depth: 31 min_samples_leaf: 0.009899010000000001 max_leaf_nodes: 335 -1228.0\n",
      "Criterion: entropy splitter: random max_depth: 31 min_samples_leaf: 0.009899010000000001 max_leaf_nodes: 335 4836.0\n",
      "Criterion: entropy splitter: best max_depth: 31 min_samples_leaf: 0.009899010000000001 max_leaf_nodes: 335 9494.0\n",
      "Criterion: gini splitter: random max_depth: 30 min_samples_leaf: 0.009899010000000001 max_leaf_nodes: 335 12546.0\n",
      "Criterion: gini splitter: best max_depth: 30 min_samples_leaf: 0.009899010000000001 max_leaf_nodes: 335 -1228.0\n",
      "Criterion: entropy splitter: random max_depth: 30 min_samples_leaf: 0.009899010000000001 max_leaf_nodes: 335 4836.0\n",
      "Criterion: entropy splitter: best max_depth: 30 min_samples_leaf: 0.009899010000000001 max_leaf_nodes: 335 9494.0\n",
      "Criterion: gini splitter: random max_depth: 32 min_samples_leaf: 0.009899010000000001 max_leaf_nodes: 335 12546.0\n",
      "Criterion: gini splitter: best max_depth: 32 min_samples_leaf: 0.009899010000000001 max_leaf_nodes: 335 -1228.0\n",
      "Criterion: entropy splitter: random max_depth: 32 min_samples_leaf: 0.009899010000000001 max_leaf_nodes: 335 4836.0\n"
     ]
    },
    {
     "name": "stdout",
     "output_type": "stream",
     "text": [
      "Criterion: entropy splitter: best max_depth: 32 min_samples_leaf: 0.009899010000000001 max_leaf_nodes: 335 9494.0\n",
      "Criterion: gini splitter: random max_depth: 91 min_samples_leaf: 0.009899010000000001 max_leaf_nodes: 335 12546.0\n",
      "Criterion: gini splitter: best max_depth: 91 min_samples_leaf: 0.009899010000000001 max_leaf_nodes: 335 -1228.0\n",
      "Criterion: entropy splitter: random max_depth: 91 min_samples_leaf: 0.009899010000000001 max_leaf_nodes: 335 4836.0\n",
      "Criterion: entropy splitter: best max_depth: 91 min_samples_leaf: 0.009899010000000001 max_leaf_nodes: 335 9494.0\n",
      "Criterion: gini splitter: random max_depth: 31 min_samples_leaf: 0.00970299 max_leaf_nodes: 335 12546.0\n",
      "Criterion: gini splitter: best max_depth: 31 min_samples_leaf: 0.00970299 max_leaf_nodes: 335 -1228.0\n",
      "Criterion: entropy splitter: random max_depth: 31 min_samples_leaf: 0.00970299 max_leaf_nodes: 335 4836.0\n",
      "Criterion: entropy splitter: best max_depth: 31 min_samples_leaf: 0.00970299 max_leaf_nodes: 335 9494.0\n",
      "Criterion: gini splitter: random max_depth: 30 min_samples_leaf: 0.00970299 max_leaf_nodes: 335 12546.0\n",
      "Criterion: gini splitter: best max_depth: 30 min_samples_leaf: 0.00970299 max_leaf_nodes: 335 -1228.0\n",
      "Criterion: entropy splitter: random max_depth: 30 min_samples_leaf: 0.00970299 max_leaf_nodes: 335 4836.0\n",
      "Criterion: entropy splitter: best max_depth: 30 min_samples_leaf: 0.00970299 max_leaf_nodes: 335 9494.0\n",
      "Criterion: gini splitter: random max_depth: 32 min_samples_leaf: 0.00970299 max_leaf_nodes: 335 12546.0\n",
      "Criterion: gini splitter: best max_depth: 32 min_samples_leaf: 0.00970299 max_leaf_nodes: 335 -1228.0\n",
      "Criterion: entropy splitter: random max_depth: 32 min_samples_leaf: 0.00970299 max_leaf_nodes: 335 4836.0\n",
      "Criterion: entropy splitter: best max_depth: 32 min_samples_leaf: 0.00970299 max_leaf_nodes: 335 9494.0\n",
      "Criterion: gini splitter: random max_depth: 91 min_samples_leaf: 0.00970299 max_leaf_nodes: 335 12546.0\n",
      "Criterion: gini splitter: best max_depth: 91 min_samples_leaf: 0.00970299 max_leaf_nodes: 335 -1228.0\n",
      "Criterion: entropy splitter: random max_depth: 91 min_samples_leaf: 0.00970299 max_leaf_nodes: 335 4836.0\n",
      "Criterion: entropy splitter: best max_depth: 91 min_samples_leaf: 0.00970299 max_leaf_nodes: 335 9494.0\n",
      "Criterion: gini splitter: random max_depth: 31 min_samples_leaf: 0.009801 max_leaf_nodes: 337 12546.0\n",
      "Criterion: gini splitter: best max_depth: 31 min_samples_leaf: 0.009801 max_leaf_nodes: 337 -1228.0\n",
      "Criterion: entropy splitter: random max_depth: 31 min_samples_leaf: 0.009801 max_leaf_nodes: 337 4836.0\n",
      "Criterion: entropy splitter: best max_depth: 31 min_samples_leaf: 0.009801 max_leaf_nodes: 337 9494.0\n",
      "Criterion: gini splitter: random max_depth: 30 min_samples_leaf: 0.009801 max_leaf_nodes: 337 12546.0\n",
      "Criterion: gini splitter: best max_depth: 30 min_samples_leaf: 0.009801 max_leaf_nodes: 337 -1228.0\n",
      "Criterion: entropy splitter: random max_depth: 30 min_samples_leaf: 0.009801 max_leaf_nodes: 337 4836.0\n",
      "Criterion: entropy splitter: best max_depth: 30 min_samples_leaf: 0.009801 max_leaf_nodes: 337 9494.0\n",
      "Criterion: gini splitter: random max_depth: 32 min_samples_leaf: 0.009801 max_leaf_nodes: 337 12546.0\n",
      "Criterion: gini splitter: best max_depth: 32 min_samples_leaf: 0.009801 max_leaf_nodes: 337 -1228.0\n",
      "Criterion: entropy splitter: random max_depth: 32 min_samples_leaf: 0.009801 max_leaf_nodes: 337 4836.0\n",
      "Criterion: entropy splitter: best max_depth: 32 min_samples_leaf: 0.009801 max_leaf_nodes: 337 9494.0\n",
      "Criterion: gini splitter: random max_depth: 91 min_samples_leaf: 0.009801 max_leaf_nodes: 337 12546.0\n",
      "Criterion: gini splitter: best max_depth: 91 min_samples_leaf: 0.009801 max_leaf_nodes: 337 -1228.0\n",
      "Criterion: entropy splitter: random max_depth: 91 min_samples_leaf: 0.009801 max_leaf_nodes: 337 4836.0\n",
      "Criterion: entropy splitter: best max_depth: 91 min_samples_leaf: 0.009801 max_leaf_nodes: 337 9494.0\n",
      "Criterion: gini splitter: random max_depth: 31 min_samples_leaf: 0.009899010000000001 max_leaf_nodes: 337 12546.0\n",
      "Criterion: gini splitter: best max_depth: 31 min_samples_leaf: 0.009899010000000001 max_leaf_nodes: 337 -1228.0\n",
      "Criterion: entropy splitter: random max_depth: 31 min_samples_leaf: 0.009899010000000001 max_leaf_nodes: 337 4836.0\n",
      "Criterion: entropy splitter: best max_depth: 31 min_samples_leaf: 0.009899010000000001 max_leaf_nodes: 337 9494.0\n",
      "Criterion: gini splitter: random max_depth: 30 min_samples_leaf: 0.009899010000000001 max_leaf_nodes: 337 12546.0\n",
      "Criterion: gini splitter: best max_depth: 30 min_samples_leaf: 0.009899010000000001 max_leaf_nodes: 337 -1228.0\n",
      "Criterion: entropy splitter: random max_depth: 30 min_samples_leaf: 0.009899010000000001 max_leaf_nodes: 337 4836.0\n",
      "Criterion: entropy splitter: best max_depth: 30 min_samples_leaf: 0.009899010000000001 max_leaf_nodes: 337 9494.0\n",
      "Criterion: gini splitter: random max_depth: 32 min_samples_leaf: 0.009899010000000001 max_leaf_nodes: 337 12546.0\n",
      "Criterion: gini splitter: best max_depth: 32 min_samples_leaf: 0.009899010000000001 max_leaf_nodes: 337 -1228.0\n",
      "Criterion: entropy splitter: random max_depth: 32 min_samples_leaf: 0.009899010000000001 max_leaf_nodes: 337 4836.0\n",
      "Criterion: entropy splitter: best max_depth: 32 min_samples_leaf: 0.009899010000000001 max_leaf_nodes: 337 9494.0\n",
      "Criterion: gini splitter: random max_depth: 91 min_samples_leaf: 0.009899010000000001 max_leaf_nodes: 337 12546.0\n",
      "Criterion: gini splitter: best max_depth: 91 min_samples_leaf: 0.009899010000000001 max_leaf_nodes: 337 -1228.0\n",
      "Criterion: entropy splitter: random max_depth: 91 min_samples_leaf: 0.009899010000000001 max_leaf_nodes: 337 4836.0\n",
      "Criterion: entropy splitter: best max_depth: 91 min_samples_leaf: 0.009899010000000001 max_leaf_nodes: 337 9494.0\n",
      "Criterion: gini splitter: random max_depth: 31 min_samples_leaf: 0.00970299 max_leaf_nodes: 337 12546.0\n",
      "Criterion: gini splitter: best max_depth: 31 min_samples_leaf: 0.00970299 max_leaf_nodes: 337 -1228.0\n",
      "Criterion: entropy splitter: random max_depth: 31 min_samples_leaf: 0.00970299 max_leaf_nodes: 337 4836.0\n",
      "Criterion: entropy splitter: best max_depth: 31 min_samples_leaf: 0.00970299 max_leaf_nodes: 337 9494.0\n",
      "Criterion: gini splitter: random max_depth: 30 min_samples_leaf: 0.00970299 max_leaf_nodes: 337 12546.0\n",
      "Criterion: gini splitter: best max_depth: 30 min_samples_leaf: 0.00970299 max_leaf_nodes: 337 -1228.0\n",
      "Criterion: entropy splitter: random max_depth: 30 min_samples_leaf: 0.00970299 max_leaf_nodes: 337 4836.0\n",
      "Criterion: entropy splitter: best max_depth: 30 min_samples_leaf: 0.00970299 max_leaf_nodes: 337 9494.0\n",
      "Criterion: gini splitter: random max_depth: 32 min_samples_leaf: 0.00970299 max_leaf_nodes: 337 12546.0\n",
      "Criterion: gini splitter: best max_depth: 32 min_samples_leaf: 0.00970299 max_leaf_nodes: 337 -1228.0\n",
      "Criterion: entropy splitter: random max_depth: 32 min_samples_leaf: 0.00970299 max_leaf_nodes: 337 4836.0\n",
      "Criterion: entropy splitter: best max_depth: 32 min_samples_leaf: 0.00970299 max_leaf_nodes: 337 9494.0\n",
      "Criterion: gini splitter: random max_depth: 91 min_samples_leaf: 0.00970299 max_leaf_nodes: 337 12546.0\n",
      "Criterion: gini splitter: best max_depth: 91 min_samples_leaf: 0.00970299 max_leaf_nodes: 337 -1228.0\n",
      "Criterion: entropy splitter: random max_depth: 91 min_samples_leaf: 0.00970299 max_leaf_nodes: 337 4836.0\n",
      "Criterion: entropy splitter: best max_depth: 91 min_samples_leaf: 0.00970299 max_leaf_nodes: 337 9494.0\n",
      "Criterion: gini splitter: random max_depth: 31 min_samples_leaf: 0.009801 max_leaf_nodes: 933 12546.0\n",
      "Criterion: gini splitter: best max_depth: 31 min_samples_leaf: 0.009801 max_leaf_nodes: 933 -1228.0\n",
      "Criterion: entropy splitter: random max_depth: 31 min_samples_leaf: 0.009801 max_leaf_nodes: 933 4836.0\n",
      "Criterion: entropy splitter: best max_depth: 31 min_samples_leaf: 0.009801 max_leaf_nodes: 933 9494.0\n",
      "Criterion: gini splitter: random max_depth: 30 min_samples_leaf: 0.009801 max_leaf_nodes: 933 12546.0\n",
      "Criterion: gini splitter: best max_depth: 30 min_samples_leaf: 0.009801 max_leaf_nodes: 933 -1228.0\n",
      "Criterion: entropy splitter: random max_depth: 30 min_samples_leaf: 0.009801 max_leaf_nodes: 933 4836.0\n",
      "Criterion: entropy splitter: best max_depth: 30 min_samples_leaf: 0.009801 max_leaf_nodes: 933 9494.0\n",
      "Criterion: gini splitter: random max_depth: 32 min_samples_leaf: 0.009801 max_leaf_nodes: 933 12546.0\n"
     ]
    },
    {
     "name": "stdout",
     "output_type": "stream",
     "text": [
      "Criterion: gini splitter: best max_depth: 32 min_samples_leaf: 0.009801 max_leaf_nodes: 933 -1228.0\n",
      "Criterion: entropy splitter: random max_depth: 32 min_samples_leaf: 0.009801 max_leaf_nodes: 933 4836.0\n",
      "Criterion: entropy splitter: best max_depth: 32 min_samples_leaf: 0.009801 max_leaf_nodes: 933 9494.0\n",
      "Criterion: gini splitter: random max_depth: 91 min_samples_leaf: 0.009801 max_leaf_nodes: 933 12546.0\n",
      "Criterion: gini splitter: best max_depth: 91 min_samples_leaf: 0.009801 max_leaf_nodes: 933 -1228.0\n",
      "Criterion: entropy splitter: random max_depth: 91 min_samples_leaf: 0.009801 max_leaf_nodes: 933 4836.0\n",
      "Criterion: entropy splitter: best max_depth: 91 min_samples_leaf: 0.009801 max_leaf_nodes: 933 9494.0\n",
      "Criterion: gini splitter: random max_depth: 31 min_samples_leaf: 0.009899010000000001 max_leaf_nodes: 933 12546.0\n",
      "Criterion: gini splitter: best max_depth: 31 min_samples_leaf: 0.009899010000000001 max_leaf_nodes: 933 -1228.0\n",
      "Criterion: entropy splitter: random max_depth: 31 min_samples_leaf: 0.009899010000000001 max_leaf_nodes: 933 4836.0\n",
      "Criterion: entropy splitter: best max_depth: 31 min_samples_leaf: 0.009899010000000001 max_leaf_nodes: 933 9494.0\n",
      "Criterion: gini splitter: random max_depth: 30 min_samples_leaf: 0.009899010000000001 max_leaf_nodes: 933 12546.0\n",
      "Criterion: gini splitter: best max_depth: 30 min_samples_leaf: 0.009899010000000001 max_leaf_nodes: 933 -1228.0\n",
      "Criterion: entropy splitter: random max_depth: 30 min_samples_leaf: 0.009899010000000001 max_leaf_nodes: 933 4836.0\n",
      "Criterion: entropy splitter: best max_depth: 30 min_samples_leaf: 0.009899010000000001 max_leaf_nodes: 933 9494.0\n",
      "Criterion: gini splitter: random max_depth: 32 min_samples_leaf: 0.009899010000000001 max_leaf_nodes: 933 12546.0\n",
      "Criterion: gini splitter: best max_depth: 32 min_samples_leaf: 0.009899010000000001 max_leaf_nodes: 933 -1228.0\n",
      "Criterion: entropy splitter: random max_depth: 32 min_samples_leaf: 0.009899010000000001 max_leaf_nodes: 933 4836.0\n",
      "Criterion: entropy splitter: best max_depth: 32 min_samples_leaf: 0.009899010000000001 max_leaf_nodes: 933 9494.0\n",
      "Criterion: gini splitter: random max_depth: 91 min_samples_leaf: 0.009899010000000001 max_leaf_nodes: 933 12546.0\n",
      "Criterion: gini splitter: best max_depth: 91 min_samples_leaf: 0.009899010000000001 max_leaf_nodes: 933 -1228.0\n",
      "Criterion: entropy splitter: random max_depth: 91 min_samples_leaf: 0.009899010000000001 max_leaf_nodes: 933 4836.0\n",
      "Criterion: entropy splitter: best max_depth: 91 min_samples_leaf: 0.009899010000000001 max_leaf_nodes: 933 9494.0\n",
      "Criterion: gini splitter: random max_depth: 31 min_samples_leaf: 0.00970299 max_leaf_nodes: 933 12546.0\n",
      "Criterion: gini splitter: best max_depth: 31 min_samples_leaf: 0.00970299 max_leaf_nodes: 933 -1228.0\n",
      "Criterion: entropy splitter: random max_depth: 31 min_samples_leaf: 0.00970299 max_leaf_nodes: 933 4836.0\n",
      "Criterion: entropy splitter: best max_depth: 31 min_samples_leaf: 0.00970299 max_leaf_nodes: 933 9494.0\n",
      "Criterion: gini splitter: random max_depth: 30 min_samples_leaf: 0.00970299 max_leaf_nodes: 933 12546.0\n",
      "Criterion: gini splitter: best max_depth: 30 min_samples_leaf: 0.00970299 max_leaf_nodes: 933 -1228.0\n",
      "Criterion: entropy splitter: random max_depth: 30 min_samples_leaf: 0.00970299 max_leaf_nodes: 933 4836.0\n",
      "Criterion: entropy splitter: best max_depth: 30 min_samples_leaf: 0.00970299 max_leaf_nodes: 933 9494.0\n",
      "Criterion: gini splitter: random max_depth: 32 min_samples_leaf: 0.00970299 max_leaf_nodes: 933 12546.0\n",
      "Criterion: gini splitter: best max_depth: 32 min_samples_leaf: 0.00970299 max_leaf_nodes: 933 -1228.0\n",
      "Criterion: entropy splitter: random max_depth: 32 min_samples_leaf: 0.00970299 max_leaf_nodes: 933 4836.0\n",
      "Criterion: entropy splitter: best max_depth: 32 min_samples_leaf: 0.00970299 max_leaf_nodes: 933 9494.0\n",
      "Criterion: gini splitter: random max_depth: 91 min_samples_leaf: 0.00970299 max_leaf_nodes: 933 12546.0\n",
      "Criterion: gini splitter: best max_depth: 91 min_samples_leaf: 0.00970299 max_leaf_nodes: 933 -1228.0\n",
      "Criterion: entropy splitter: random max_depth: 91 min_samples_leaf: 0.00970299 max_leaf_nodes: 933 4836.0\n",
      "Criterion: entropy splitter: best max_depth: 91 min_samples_leaf: 0.00970299 max_leaf_nodes: 933 9494.0\n",
      "Real output model: DecisionTreeClassifier(max_depth=31, max_leaf_nodes=336,\n",
      "                       min_samples_leaf=0.009801, random_state=75,\n",
      "                       splitter='random')\n",
      "\n",
      "model_1\n",
      "DecisionTreeClassifier(max_depth=31, max_leaf_nodes=336,\n",
      "                       min_samples_leaf=0.009801, random_state=75,\n",
      "                       splitter='random')\n",
      "['B_win_by_Decision_Majority', 'gender', 'no_of_rounds', 'B_age', 'Blue - SUB', \"B_Women's Featherweight_rank\", 'B_Heavyweight_rank', \"R_Women's Bantamweight_rank\", 'B_Pound-for-Pound_rank', 'total_title_bout_dif', \"B_Women's Strawweight_rank\", 'R_losses', 'R_win_by_KO/TKO', 'avg_sub_att_dif', 'age_dif', 'B_avg_TD_landed', 'R_win_by_Decision_Split', 'win_dif', 'weight_class', 'R_odds', 'location', 'empty_arena']\n",
      "216\n",
      "\n"
     ]
    },
    {
     "data": {
      "text/plain": [
       "(2810, 169)"
      ]
     },
     "metadata": {},
     "output_type": "display_data"
    },
    {
     "data": {
      "text/plain": [
       "(2810,)"
      ]
     },
     "metadata": {},
     "output_type": "display_data"
    },
    {
     "data": {
      "text/plain": [
       "(2810, 6)"
      ]
     },
     "metadata": {},
     "output_type": "display_data"
    },
    {
     "data": {
      "text/plain": [
       "(241, 169)"
      ]
     },
     "metadata": {},
     "output_type": "display_data"
    },
    {
     "data": {
      "text/plain": [
       "(241,)"
      ]
     },
     "metadata": {},
     "output_type": "display_data"
    },
    {
     "data": {
      "text/plain": [
       "(241, 6)"
      ]
     },
     "metadata": {},
     "output_type": "display_data"
    },
    {
     "name": "stdout",
     "output_type": "stream",
     "text": [
      "250     3\n",
      "251     3\n",
      "252     4\n",
      "253     3\n",
      "254     0\n",
      "       ..\n",
      "4192    0\n",
      "4200    1\n",
      "4201    3\n",
      "4202    5\n",
      "4203    5\n",
      "Name: label, Length: 2810, dtype: int64\n",
      "Real Score: 0.0\n",
      "HI\n",
      "HI\n",
      "HI\n",
      "HI\n",
      "HI\n",
      "0 -118759.4959549877\n",
      "1 -116374.4959549877\n",
      "2 -114696.4959549877\n",
      "3 -111600.99153020892\n",
      "4 -106663.49321371061\n",
      "5 -103523.49321371061\n",
      "6 -103764.80538302277\n",
      "7 -100482.80538302277\n",
      "8 -95454.80538302277\n",
      "9 -94142.80538302277\n",
      "10 -92007.80538302277\n",
      "11 -89578.80538302277\n",
      "12 -87589.80538302277\n",
      "13 -84518.80538302277\n",
      "14 -83103.76190476191\n",
      "15 -82820.76190476191\n",
      "16 -84108.76190476191\n",
      "17 -83405.76190476191\n",
      "18 -82296.0\n",
      "19 -79704.0\n",
      "20 -83179.0\n",
      "21 -84321.0\n",
      "22 -82251.0\n",
      "23 -80037.0\n",
      "24 -77573.0\n",
      "25 -76474.0\n",
      "26 -74377.0\n",
      "27 -71891.0\n",
      "28 -69849.0\n",
      "29 -70074.0\n",
      "30 -68906.0\n",
      "31 -66166.0\n",
      "32 -62741.0\n",
      "33 -62960.0\n",
      "34 -61070.0\n",
      "35 -58978.0\n",
      "36 -56775.0\n",
      "37 -59000.0\n",
      "38 -54750.0\n",
      "39 -54501.0\n",
      "40 -55471.0\n",
      "41 -53741.0\n",
      "42 -56025.0\n",
      "43 -53498.0\n",
      "44 -52961.0\n",
      "45 -49921.0\n",
      "46 -48136.0\n",
      "47 -45497.0\n",
      "48 -43694.0\n",
      "49 -45274.0\n",
      "50 -44305.0\n",
      "51 -44493.0\n",
      "52 -41818.0\n",
      "53 -41489.0\n",
      "54 -38939.0\n",
      "55 -40231.0\n",
      "56 -43574.0\n",
      "57 -41259.0\n",
      "58 -38720.0\n",
      "59 -36971.0\n",
      "60 -34831.0\n",
      "61 -33036.0\n",
      "62 -29921.0\n",
      "63 -29666.0\n",
      "64 -28077.0\n",
      "65 -27087.0\n",
      "66 -26357.0\n",
      "67 -25291.0\n",
      "68 -24571.0\n",
      "69 -25331.0\n",
      "70 -27176.0\n",
      "71 -27047.0\n",
      "72 -28231.0\n",
      "73 -27386.0\n",
      "74 -26656.0\n",
      "75 -25781.0\n",
      "76 -25228.0\n",
      "77 -24303.0\n",
      "78 -23108.0\n",
      "79 -22923.0\n",
      "80 -23958.0\n",
      "81 -24461.0\n",
      "82 -24021.0\n",
      "83 -23738.0\n",
      "84 -22528.0\n",
      "85 -23418.0\n",
      "86 -23528.0\n",
      "87 -23802.0\n",
      "88 -23107.0\n",
      "89 -23182.0\n",
      "90 -21907.0\n",
      "91 -21672.0\n",
      "92 -21545.0\n",
      "93 -19745.0\n",
      "94 -17868.0\n",
      "95 -18917.0\n",
      "96 -18017.0\n",
      "97 -18922.0\n",
      "98 -17922.0\n",
      "99 -16637.0\n",
      "100 -14441.0\n",
      "101 -13593.0\n",
      "102 -15193.0\n",
      "103 -17048.0\n",
      "104 -18100.0\n",
      "105 -17190.0\n",
      "106 -16090.0\n",
      "107 -15840.0\n",
      "108 -15215.0\n",
      "109 -14415.0\n",
      "110 -15047.0\n",
      "111 -14904.0\n",
      "112 -13097.0\n",
      "113 -12497.0\n",
      "114 -11297.0\n",
      "115 -9597.0\n",
      "116 -11011.0\n",
      "117 -9611.0\n",
      "118 -8311.0\n",
      "119 -6811.0\n",
      "120 -4711.0\n",
      "121 -4511.0\n",
      "122 -4031.0\n",
      "123 -3501.0\n",
      "124 -2901.0\n",
      "125 -1875.0\n",
      "126 -675.0\n",
      "127 -384.0\n",
      "128 116.0\n",
      "129 454.0\n",
      "130 1254.0\n",
      "131 2054.0\n",
      "132 2151.0\n",
      "133 2651.0\n",
      "134 3151.0\n",
      "135 2990.0\n",
      "136 2965.0\n",
      "137 3565.0\n",
      "138 4365.0\n",
      "139 5018.0\n",
      "140 5168.0\n",
      "141 6068.0\n",
      "142 6268.0\n",
      "143 6622.0\n",
      "144 7272.0\n",
      "145 7347.0\n",
      "146 8047.0\n",
      "147 6564.0\n",
      "148 7264.0\n",
      "149 6864.0\n",
      "150 6364.0\n",
      "151 5409.0\n",
      "152 5359.0\n",
      "153 6159.0\n",
      "154 6559.0\n",
      "155 7459.0\n",
      "156 7725.0\n",
      "157 8025.0\n",
      "158 8775.0\n",
      "159 9275.0\n",
      "160 9275.0\n",
      "161 9875.0\n",
      "162 9475.0\n",
      "163 9206.0\n",
      "164 9306.0\n",
      "165 9806.0\n",
      "166 9726.0\n",
      "167 10026.0\n",
      "168 9521.0\n",
      "169 9921.0\n",
      "170 10121.0\n",
      "171 9371.0\n",
      "172 9321.0\n",
      "173 10021.0\n",
      "174 10221.0\n",
      "175 9641.0\n",
      "176 10241.0\n",
      "177 10741.0\n",
      "178 11341.0\n",
      "179 11141.0\n",
      "180 10925.0\n",
      "181 9500.0\n",
      "182 9800.0\n",
      "183 8975.0\n",
      "184 8775.0\n",
      "185 9075.0\n",
      "186 9675.0\n",
      "187 9225.0\n",
      "188 9725.0\n",
      "189 10425.0\n",
      "190 10625.0\n",
      "191 11325.0\n",
      "192 11525.0\n",
      "193 11625.0\n",
      "194 10825.0\n",
      "195 11025.0\n",
      "196 11325.0\n",
      "197 11925.0\n",
      "198 12325.0\n",
      "199 12725.0\n",
      "200 13125.0\n",
      "201 13125.0\n",
      "202 13325.0\n",
      "203 11925.0\n",
      "204 10855.0\n",
      "205 11055.0\n",
      "206 11455.0\n",
      "207 11755.0\n",
      "208 11955.0\n",
      "209 12355.0\n",
      "210 12455.0\n",
      "211 12755.0\n",
      "212 12955.0\n",
      "213 12846.0\n",
      "214 13046.0\n",
      "215 13246.0\n",
      "216 12546.0\n",
      "217 12946.0\n",
      "218 12946.0\n",
      "219 11846.0\n",
      "220 10496.0\n",
      "221 10696.0\n",
      "222 10146.0\n",
      "223 10146.0\n",
      "224 9146.0\n",
      "225 7606.0\n",
      "226 6906.0\n",
      "227 7006.0\n",
      "228 7206.0\n",
      "229 6756.0\n",
      "230 6306.0\n",
      "231 3676.0\n",
      "232 3976.0\n",
      "233 4076.0\n",
      "234 4176.0\n",
      "235 4276.0\n",
      "236 4976.0\n",
      "237 5276.0\n",
      "238 4296.0\n",
      "239 4296.0\n",
      "240 4496.0\n",
      "241 4496.0\n",
      "242 4796.0\n",
      "243 4121.0\n",
      "244 3046.0\n",
      "245 3246.0\n",
      "246 3246.0\n",
      "247 3446.0\n",
      "248 3646.0\n",
      "249 3646.0\n",
      "\n",
      "model_1\n",
      "DecisionTreeClassifier(max_depth=31, max_leaf_nodes=336,\n",
      "                       min_samples_leaf=0.009801, random_state=75,\n",
      "                       splitter='random')\n",
      "['B_win_by_Decision_Majority', 'gender', 'no_of_rounds', 'B_age', 'Blue - SUB', \"B_Women's Featherweight_rank\", 'B_Heavyweight_rank', \"R_Women's Bantamweight_rank\", 'B_Pound-for-Pound_rank', 'total_title_bout_dif', \"B_Women's Strawweight_rank\", 'R_losses', 'R_win_by_KO/TKO', 'avg_sub_att_dif', 'age_dif', 'B_avg_TD_landed', 'R_win_by_Decision_Split', 'win_dif', 'weight_class', 'R_odds', 'location', 'empty_arena']\n",
      "202\n",
      "\n"
     ]
    },
    {
     "data": {
      "text/plain": [
       "(2810, 169)"
      ]
     },
     "metadata": {},
     "output_type": "display_data"
    },
    {
     "data": {
      "text/plain": [
       "(2810,)"
      ]
     },
     "metadata": {},
     "output_type": "display_data"
    },
    {
     "data": {
      "text/plain": [
       "(2810, 6)"
      ]
     },
     "metadata": {},
     "output_type": "display_data"
    },
    {
     "data": {
      "text/plain": [
       "(241, 169)"
      ]
     },
     "metadata": {},
     "output_type": "display_data"
    },
    {
     "data": {
      "text/plain": [
       "(241,)"
      ]
     },
     "metadata": {},
     "output_type": "display_data"
    },
    {
     "data": {
      "text/plain": [
       "(241, 6)"
      ]
     },
     "metadata": {},
     "output_type": "display_data"
    },
    {
     "name": "stdout",
     "output_type": "stream",
     "text": [
      "250     3\n",
      "251     3\n",
      "252     4\n",
      "253     3\n",
      "254     0\n",
      "       ..\n",
      "4192    0\n",
      "4200    1\n",
      "4201    3\n",
      "4202    5\n",
      "4203    5\n",
      "Name: label, Length: 2810, dtype: int64\n",
      "Real Score: 0.0\n",
      "HI\n",
      "HI\n",
      "HI\n",
      "HI\n",
      "HI\n",
      "The original score is 13325.0\n",
      "\n",
      "model_1\n",
      "DecisionTreeClassifier(max_depth=31, max_leaf_nodes=336,\n",
      "                       min_samples_leaf=0.009801, random_state=75,\n",
      "                       splitter='random')\n",
      "['B_win_by_Decision_Majority', 'gender', 'no_of_rounds', 'B_age', 'Blue - SUB', \"B_Women's Featherweight_rank\", 'B_Heavyweight_rank', \"R_Women's Bantamweight_rank\", 'B_Pound-for-Pound_rank', 'total_title_bout_dif', \"B_Women's Strawweight_rank\", 'R_losses', 'R_win_by_KO/TKO', 'avg_sub_att_dif', 'age_dif', 'B_avg_TD_landed', 'R_win_by_Decision_Split', 'win_dif', 'weight_class', 'R_odds', 'location', 'empty_arena']\n",
      "202\n",
      "\n"
     ]
    },
    {
     "data": {
      "text/plain": [
       "(2810, 169)"
      ]
     },
     "metadata": {},
     "output_type": "display_data"
    },
    {
     "data": {
      "text/plain": [
       "(2810,)"
      ]
     },
     "metadata": {},
     "output_type": "display_data"
    },
    {
     "data": {
      "text/plain": [
       "(2810, 6)"
      ]
     },
     "metadata": {},
     "output_type": "display_data"
    },
    {
     "data": {
      "text/plain": [
       "(241, 169)"
      ]
     },
     "metadata": {},
     "output_type": "display_data"
    },
    {
     "data": {
      "text/plain": [
       "(241,)"
      ]
     },
     "metadata": {},
     "output_type": "display_data"
    },
    {
     "data": {
      "text/plain": [
       "(241, 6)"
      ]
     },
     "metadata": {},
     "output_type": "display_data"
    },
    {
     "name": "stdout",
     "output_type": "stream",
     "text": [
      "250     3\n",
      "251     3\n",
      "252     4\n",
      "253     3\n",
      "254     0\n",
      "       ..\n",
      "4192    0\n",
      "4200    1\n",
      "4201    3\n",
      "4202    5\n",
      "4203    5\n",
      "Name: label, Length: 2810, dtype: int64\n",
      "Real Score: 0.0\n",
      "HI\n",
      "HI\n",
      "HI\n",
      "HI\n",
      "HI\n",
      "The EV is different\n",
      "OLD:\n",
      "216\n",
      "NEW:\n",
      "202\n",
      "Current best score is: 13325.0\n",
      "NO IMPROVEMENT\n",
      "FINAL BEST SCORE: 13325.0\n",
      "\n",
      "model_1\n",
      "DecisionTreeClassifier(max_depth=31, max_leaf_nodes=336,\n",
      "                       min_samples_leaf=0.009801, random_state=75,\n",
      "                       splitter='random')\n",
      "['B_win_by_Decision_Majority', 'gender', 'no_of_rounds', 'B_age', 'Blue - SUB', \"B_Women's Featherweight_rank\", 'B_Heavyweight_rank', \"R_Women's Bantamweight_rank\", 'B_Pound-for-Pound_rank', 'total_title_bout_dif', \"B_Women's Strawweight_rank\", 'R_losses', 'R_win_by_KO/TKO', 'avg_sub_att_dif', 'age_dif', 'B_avg_TD_landed', 'R_win_by_Decision_Split', 'win_dif', 'weight_class', 'R_odds', 'location', 'empty_arena']\n",
      "202\n",
      "\n"
     ]
    },
    {
     "data": {
      "text/plain": [
       "(2810, 169)"
      ]
     },
     "metadata": {},
     "output_type": "display_data"
    },
    {
     "data": {
      "text/plain": [
       "(2810,)"
      ]
     },
     "metadata": {},
     "output_type": "display_data"
    },
    {
     "data": {
      "text/plain": [
       "(2810, 6)"
      ]
     },
     "metadata": {},
     "output_type": "display_data"
    },
    {
     "data": {
      "text/plain": [
       "(241, 169)"
      ]
     },
     "metadata": {},
     "output_type": "display_data"
    },
    {
     "data": {
      "text/plain": [
       "(241,)"
      ]
     },
     "metadata": {},
     "output_type": "display_data"
    },
    {
     "data": {
      "text/plain": [
       "(241, 6)"
      ]
     },
     "metadata": {},
     "output_type": "display_data"
    },
    {
     "name": "stdout",
     "output_type": "stream",
     "text": [
      "250     3\n",
      "251     3\n",
      "252     4\n",
      "253     3\n",
      "254     0\n",
      "       ..\n",
      "4192    0\n",
      "4200    1\n",
      "4201    3\n",
      "4202    5\n",
      "4203    5\n",
      "Name: label, Length: 2810, dtype: int64\n",
      "Real Score: 0.0\n",
      "HI\n",
      "HI\n",
      "HI\n",
      "HI\n",
      "HI\n",
      "\n",
      "\n",
      "Starting New Run for DecisionTree\n",
      "\n",
      "\n",
      "Previous Best Score: 13325.0\n",
      "Criterion: gini splitter: random max_depth: 31 min_samples_leaf: 0.009801 max_leaf_nodes: 336 13325.0\n",
      "Criterion: gini splitter: best max_depth: 31 min_samples_leaf: 0.009801 max_leaf_nodes: 336 -3098.0\n",
      "Criterion: entropy splitter: random max_depth: 31 min_samples_leaf: 0.009801 max_leaf_nodes: 336 6438.0\n",
      "Criterion: entropy splitter: best max_depth: 31 min_samples_leaf: 0.009801 max_leaf_nodes: 336 9302.0\n",
      "Criterion: gini splitter: random max_depth: 30 min_samples_leaf: 0.009801 max_leaf_nodes: 336 13325.0\n",
      "Criterion: gini splitter: best max_depth: 30 min_samples_leaf: 0.009801 max_leaf_nodes: 336 -3098.0\n",
      "Criterion: entropy splitter: random max_depth: 30 min_samples_leaf: 0.009801 max_leaf_nodes: 336 6438.0\n",
      "Criterion: entropy splitter: best max_depth: 30 min_samples_leaf: 0.009801 max_leaf_nodes: 336 9302.0\n",
      "Criterion: gini splitter: random max_depth: 32 min_samples_leaf: 0.009801 max_leaf_nodes: 336 13325.0\n",
      "Criterion: gini splitter: best max_depth: 32 min_samples_leaf: 0.009801 max_leaf_nodes: 336 -3098.0\n",
      "Criterion: entropy splitter: random max_depth: 32 min_samples_leaf: 0.009801 max_leaf_nodes: 336 6438.0\n",
      "Criterion: entropy splitter: best max_depth: 32 min_samples_leaf: 0.009801 max_leaf_nodes: 336 9302.0\n",
      "Criterion: gini splitter: random max_depth: 85 min_samples_leaf: 0.009801 max_leaf_nodes: 336 13325.0\n",
      "Criterion: gini splitter: best max_depth: 85 min_samples_leaf: 0.009801 max_leaf_nodes: 336 -3098.0\n",
      "Criterion: entropy splitter: random max_depth: 85 min_samples_leaf: 0.009801 max_leaf_nodes: 336 6438.0\n",
      "Criterion: entropy splitter: best max_depth: 85 min_samples_leaf: 0.009801 max_leaf_nodes: 336 9302.0\n",
      "Criterion: gini splitter: random max_depth: 31 min_samples_leaf: 0.009899010000000001 max_leaf_nodes: 336 13325.0\n",
      "Criterion: gini splitter: best max_depth: 31 min_samples_leaf: 0.009899010000000001 max_leaf_nodes: 336 -3098.0\n",
      "Criterion: entropy splitter: random max_depth: 31 min_samples_leaf: 0.009899010000000001 max_leaf_nodes: 336 6438.0\n",
      "Criterion: entropy splitter: best max_depth: 31 min_samples_leaf: 0.009899010000000001 max_leaf_nodes: 336 9302.0\n",
      "Criterion: gini splitter: random max_depth: 30 min_samples_leaf: 0.009899010000000001 max_leaf_nodes: 336 13325.0\n",
      "Criterion: gini splitter: best max_depth: 30 min_samples_leaf: 0.009899010000000001 max_leaf_nodes: 336 -3098.0\n",
      "Criterion: entropy splitter: random max_depth: 30 min_samples_leaf: 0.009899010000000001 max_leaf_nodes: 336 6438.0\n",
      "Criterion: entropy splitter: best max_depth: 30 min_samples_leaf: 0.009899010000000001 max_leaf_nodes: 336 9302.0\n",
      "Criterion: gini splitter: random max_depth: 32 min_samples_leaf: 0.009899010000000001 max_leaf_nodes: 336 13325.0\n",
      "Criterion: gini splitter: best max_depth: 32 min_samples_leaf: 0.009899010000000001 max_leaf_nodes: 336 -3098.0\n",
      "Criterion: entropy splitter: random max_depth: 32 min_samples_leaf: 0.009899010000000001 max_leaf_nodes: 336 6438.0\n",
      "Criterion: entropy splitter: best max_depth: 32 min_samples_leaf: 0.009899010000000001 max_leaf_nodes: 336 9302.0\n",
      "Criterion: gini splitter: random max_depth: 85 min_samples_leaf: 0.009899010000000001 max_leaf_nodes: 336 13325.0\n",
      "Criterion: gini splitter: best max_depth: 85 min_samples_leaf: 0.009899010000000001 max_leaf_nodes: 336 -3098.0\n",
      "Criterion: entropy splitter: random max_depth: 85 min_samples_leaf: 0.009899010000000001 max_leaf_nodes: 336 6438.0\n",
      "Criterion: entropy splitter: best max_depth: 85 min_samples_leaf: 0.009899010000000001 max_leaf_nodes: 336 9302.0\n",
      "Criterion: gini splitter: random max_depth: 31 min_samples_leaf: 0.00970299 max_leaf_nodes: 336 13325.0\n",
      "Criterion: gini splitter: best max_depth: 31 min_samples_leaf: 0.00970299 max_leaf_nodes: 336 -3098.0\n",
      "Criterion: entropy splitter: random max_depth: 31 min_samples_leaf: 0.00970299 max_leaf_nodes: 336 6438.0\n",
      "Criterion: entropy splitter: best max_depth: 31 min_samples_leaf: 0.00970299 max_leaf_nodes: 336 9302.0\n",
      "Criterion: gini splitter: random max_depth: 30 min_samples_leaf: 0.00970299 max_leaf_nodes: 336 13325.0\n",
      "Criterion: gini splitter: best max_depth: 30 min_samples_leaf: 0.00970299 max_leaf_nodes: 336 -3098.0\n",
      "Criterion: entropy splitter: random max_depth: 30 min_samples_leaf: 0.00970299 max_leaf_nodes: 336 6438.0\n",
      "Criterion: entropy splitter: best max_depth: 30 min_samples_leaf: 0.00970299 max_leaf_nodes: 336 9302.0\n",
      "Criterion: gini splitter: random max_depth: 32 min_samples_leaf: 0.00970299 max_leaf_nodes: 336 13325.0\n",
      "Criterion: gini splitter: best max_depth: 32 min_samples_leaf: 0.00970299 max_leaf_nodes: 336 -3098.0\n",
      "Criterion: entropy splitter: random max_depth: 32 min_samples_leaf: 0.00970299 max_leaf_nodes: 336 6438.0\n",
      "Criterion: entropy splitter: best max_depth: 32 min_samples_leaf: 0.00970299 max_leaf_nodes: 336 9302.0\n",
      "Criterion: gini splitter: random max_depth: 85 min_samples_leaf: 0.00970299 max_leaf_nodes: 336 13325.0\n",
      "Criterion: gini splitter: best max_depth: 85 min_samples_leaf: 0.00970299 max_leaf_nodes: 336 -3098.0\n",
      "Criterion: entropy splitter: random max_depth: 85 min_samples_leaf: 0.00970299 max_leaf_nodes: 336 6438.0\n",
      "Criterion: entropy splitter: best max_depth: 85 min_samples_leaf: 0.00970299 max_leaf_nodes: 336 9302.0\n",
      "Criterion: gini splitter: random max_depth: 31 min_samples_leaf: 0.009801 max_leaf_nodes: 335 13325.0\n",
      "Criterion: gini splitter: best max_depth: 31 min_samples_leaf: 0.009801 max_leaf_nodes: 335 -3098.0\n",
      "Criterion: entropy splitter: random max_depth: 31 min_samples_leaf: 0.009801 max_leaf_nodes: 335 6438.0\n",
      "Criterion: entropy splitter: best max_depth: 31 min_samples_leaf: 0.009801 max_leaf_nodes: 335 9302.0\n",
      "Criterion: gini splitter: random max_depth: 30 min_samples_leaf: 0.009801 max_leaf_nodes: 335 13325.0\n",
      "Criterion: gini splitter: best max_depth: 30 min_samples_leaf: 0.009801 max_leaf_nodes: 335 -3098.0\n",
      "Criterion: entropy splitter: random max_depth: 30 min_samples_leaf: 0.009801 max_leaf_nodes: 335 6438.0\n",
      "Criterion: entropy splitter: best max_depth: 30 min_samples_leaf: 0.009801 max_leaf_nodes: 335 9302.0\n",
      "Criterion: gini splitter: random max_depth: 32 min_samples_leaf: 0.009801 max_leaf_nodes: 335 13325.0\n",
      "Criterion: gini splitter: best max_depth: 32 min_samples_leaf: 0.009801 max_leaf_nodes: 335 -3098.0\n",
      "Criterion: entropy splitter: random max_depth: 32 min_samples_leaf: 0.009801 max_leaf_nodes: 335 6438.0\n",
      "Criterion: entropy splitter: best max_depth: 32 min_samples_leaf: 0.009801 max_leaf_nodes: 335 9302.0\n",
      "Criterion: gini splitter: random max_depth: 85 min_samples_leaf: 0.009801 max_leaf_nodes: 335 13325.0\n",
      "Criterion: gini splitter: best max_depth: 85 min_samples_leaf: 0.009801 max_leaf_nodes: 335 -3098.0\n",
      "Criterion: entropy splitter: random max_depth: 85 min_samples_leaf: 0.009801 max_leaf_nodes: 335 6438.0\n",
      "Criterion: entropy splitter: best max_depth: 85 min_samples_leaf: 0.009801 max_leaf_nodes: 335 9302.0\n",
      "Criterion: gini splitter: random max_depth: 31 min_samples_leaf: 0.009899010000000001 max_leaf_nodes: 335 13325.0\n",
      "Criterion: gini splitter: best max_depth: 31 min_samples_leaf: 0.009899010000000001 max_leaf_nodes: 335 -3098.0\n",
      "Criterion: entropy splitter: random max_depth: 31 min_samples_leaf: 0.009899010000000001 max_leaf_nodes: 335 6438.0\n",
      "Criterion: entropy splitter: best max_depth: 31 min_samples_leaf: 0.009899010000000001 max_leaf_nodes: 335 9302.0\n",
      "Criterion: gini splitter: random max_depth: 30 min_samples_leaf: 0.009899010000000001 max_leaf_nodes: 335 13325.0\n",
      "Criterion: gini splitter: best max_depth: 30 min_samples_leaf: 0.009899010000000001 max_leaf_nodes: 335 -3098.0\n",
      "Criterion: entropy splitter: random max_depth: 30 min_samples_leaf: 0.009899010000000001 max_leaf_nodes: 335 6438.0\n",
      "Criterion: entropy splitter: best max_depth: 30 min_samples_leaf: 0.009899010000000001 max_leaf_nodes: 335 9302.0\n",
      "Criterion: gini splitter: random max_depth: 32 min_samples_leaf: 0.009899010000000001 max_leaf_nodes: 335 13325.0\n",
      "Criterion: gini splitter: best max_depth: 32 min_samples_leaf: 0.009899010000000001 max_leaf_nodes: 335 -3098.0\n",
      "Criterion: entropy splitter: random max_depth: 32 min_samples_leaf: 0.009899010000000001 max_leaf_nodes: 335 6438.0\n"
     ]
    },
    {
     "name": "stdout",
     "output_type": "stream",
     "text": [
      "Criterion: entropy splitter: best max_depth: 32 min_samples_leaf: 0.009899010000000001 max_leaf_nodes: 335 9302.0\n",
      "Criterion: gini splitter: random max_depth: 85 min_samples_leaf: 0.009899010000000001 max_leaf_nodes: 335 13325.0\n",
      "Criterion: gini splitter: best max_depth: 85 min_samples_leaf: 0.009899010000000001 max_leaf_nodes: 335 -3098.0\n",
      "Criterion: entropy splitter: random max_depth: 85 min_samples_leaf: 0.009899010000000001 max_leaf_nodes: 335 6438.0\n",
      "Criterion: entropy splitter: best max_depth: 85 min_samples_leaf: 0.009899010000000001 max_leaf_nodes: 335 9302.0\n",
      "Criterion: gini splitter: random max_depth: 31 min_samples_leaf: 0.00970299 max_leaf_nodes: 335 13325.0\n",
      "Criterion: gini splitter: best max_depth: 31 min_samples_leaf: 0.00970299 max_leaf_nodes: 335 -3098.0\n",
      "Criterion: entropy splitter: random max_depth: 31 min_samples_leaf: 0.00970299 max_leaf_nodes: 335 6438.0\n",
      "Criterion: entropy splitter: best max_depth: 31 min_samples_leaf: 0.00970299 max_leaf_nodes: 335 9302.0\n",
      "Criterion: gini splitter: random max_depth: 30 min_samples_leaf: 0.00970299 max_leaf_nodes: 335 13325.0\n",
      "Criterion: gini splitter: best max_depth: 30 min_samples_leaf: 0.00970299 max_leaf_nodes: 335 -3098.0\n",
      "Criterion: entropy splitter: random max_depth: 30 min_samples_leaf: 0.00970299 max_leaf_nodes: 335 6438.0\n",
      "Criterion: entropy splitter: best max_depth: 30 min_samples_leaf: 0.00970299 max_leaf_nodes: 335 9302.0\n",
      "Criterion: gini splitter: random max_depth: 32 min_samples_leaf: 0.00970299 max_leaf_nodes: 335 13325.0\n",
      "Criterion: gini splitter: best max_depth: 32 min_samples_leaf: 0.00970299 max_leaf_nodes: 335 -3098.0\n",
      "Criterion: entropy splitter: random max_depth: 32 min_samples_leaf: 0.00970299 max_leaf_nodes: 335 6438.0\n",
      "Criterion: entropy splitter: best max_depth: 32 min_samples_leaf: 0.00970299 max_leaf_nodes: 335 9302.0\n",
      "Criterion: gini splitter: random max_depth: 85 min_samples_leaf: 0.00970299 max_leaf_nodes: 335 13325.0\n",
      "Criterion: gini splitter: best max_depth: 85 min_samples_leaf: 0.00970299 max_leaf_nodes: 335 -3098.0\n",
      "Criterion: entropy splitter: random max_depth: 85 min_samples_leaf: 0.00970299 max_leaf_nodes: 335 6438.0\n",
      "Criterion: entropy splitter: best max_depth: 85 min_samples_leaf: 0.00970299 max_leaf_nodes: 335 9302.0\n",
      "Criterion: gini splitter: random max_depth: 31 min_samples_leaf: 0.009801 max_leaf_nodes: 337 13325.0\n",
      "Criterion: gini splitter: best max_depth: 31 min_samples_leaf: 0.009801 max_leaf_nodes: 337 -3098.0\n",
      "Criterion: entropy splitter: random max_depth: 31 min_samples_leaf: 0.009801 max_leaf_nodes: 337 6438.0\n",
      "Criterion: entropy splitter: best max_depth: 31 min_samples_leaf: 0.009801 max_leaf_nodes: 337 9302.0\n",
      "Criterion: gini splitter: random max_depth: 30 min_samples_leaf: 0.009801 max_leaf_nodes: 337 13325.0\n",
      "Criterion: gini splitter: best max_depth: 30 min_samples_leaf: 0.009801 max_leaf_nodes: 337 -3098.0\n",
      "Criterion: entropy splitter: random max_depth: 30 min_samples_leaf: 0.009801 max_leaf_nodes: 337 6438.0\n",
      "Criterion: entropy splitter: best max_depth: 30 min_samples_leaf: 0.009801 max_leaf_nodes: 337 9302.0\n",
      "Criterion: gini splitter: random max_depth: 32 min_samples_leaf: 0.009801 max_leaf_nodes: 337 13325.0\n",
      "Criterion: gini splitter: best max_depth: 32 min_samples_leaf: 0.009801 max_leaf_nodes: 337 -3098.0\n",
      "Criterion: entropy splitter: random max_depth: 32 min_samples_leaf: 0.009801 max_leaf_nodes: 337 6438.0\n",
      "Criterion: entropy splitter: best max_depth: 32 min_samples_leaf: 0.009801 max_leaf_nodes: 337 9302.0\n",
      "Criterion: gini splitter: random max_depth: 85 min_samples_leaf: 0.009801 max_leaf_nodes: 337 13325.0\n",
      "Criterion: gini splitter: best max_depth: 85 min_samples_leaf: 0.009801 max_leaf_nodes: 337 -3098.0\n",
      "Criterion: entropy splitter: random max_depth: 85 min_samples_leaf: 0.009801 max_leaf_nodes: 337 6438.0\n",
      "Criterion: entropy splitter: best max_depth: 85 min_samples_leaf: 0.009801 max_leaf_nodes: 337 9302.0\n",
      "Criterion: gini splitter: random max_depth: 31 min_samples_leaf: 0.009899010000000001 max_leaf_nodes: 337 13325.0\n",
      "Criterion: gini splitter: best max_depth: 31 min_samples_leaf: 0.009899010000000001 max_leaf_nodes: 337 -3098.0\n",
      "Criterion: entropy splitter: random max_depth: 31 min_samples_leaf: 0.009899010000000001 max_leaf_nodes: 337 6438.0\n",
      "Criterion: entropy splitter: best max_depth: 31 min_samples_leaf: 0.009899010000000001 max_leaf_nodes: 337 9302.0\n",
      "Criterion: gini splitter: random max_depth: 30 min_samples_leaf: 0.009899010000000001 max_leaf_nodes: 337 13325.0\n",
      "Criterion: gini splitter: best max_depth: 30 min_samples_leaf: 0.009899010000000001 max_leaf_nodes: 337 -3098.0\n",
      "Criterion: entropy splitter: random max_depth: 30 min_samples_leaf: 0.009899010000000001 max_leaf_nodes: 337 6438.0\n",
      "Criterion: entropy splitter: best max_depth: 30 min_samples_leaf: 0.009899010000000001 max_leaf_nodes: 337 9302.0\n",
      "Criterion: gini splitter: random max_depth: 32 min_samples_leaf: 0.009899010000000001 max_leaf_nodes: 337 13325.0\n",
      "Criterion: gini splitter: best max_depth: 32 min_samples_leaf: 0.009899010000000001 max_leaf_nodes: 337 -3098.0\n",
      "Criterion: entropy splitter: random max_depth: 32 min_samples_leaf: 0.009899010000000001 max_leaf_nodes: 337 6438.0\n",
      "Criterion: entropy splitter: best max_depth: 32 min_samples_leaf: 0.009899010000000001 max_leaf_nodes: 337 9302.0\n",
      "Criterion: gini splitter: random max_depth: 85 min_samples_leaf: 0.009899010000000001 max_leaf_nodes: 337 13325.0\n",
      "Criterion: gini splitter: best max_depth: 85 min_samples_leaf: 0.009899010000000001 max_leaf_nodes: 337 -3098.0\n",
      "Criterion: entropy splitter: random max_depth: 85 min_samples_leaf: 0.009899010000000001 max_leaf_nodes: 337 6438.0\n",
      "Criterion: entropy splitter: best max_depth: 85 min_samples_leaf: 0.009899010000000001 max_leaf_nodes: 337 9302.0\n",
      "Criterion: gini splitter: random max_depth: 31 min_samples_leaf: 0.00970299 max_leaf_nodes: 337 13325.0\n",
      "Criterion: gini splitter: best max_depth: 31 min_samples_leaf: 0.00970299 max_leaf_nodes: 337 -3098.0\n",
      "Criterion: entropy splitter: random max_depth: 31 min_samples_leaf: 0.00970299 max_leaf_nodes: 337 6438.0\n",
      "Criterion: entropy splitter: best max_depth: 31 min_samples_leaf: 0.00970299 max_leaf_nodes: 337 9302.0\n",
      "Criterion: gini splitter: random max_depth: 30 min_samples_leaf: 0.00970299 max_leaf_nodes: 337 13325.0\n",
      "Criterion: gini splitter: best max_depth: 30 min_samples_leaf: 0.00970299 max_leaf_nodes: 337 -3098.0\n",
      "Criterion: entropy splitter: random max_depth: 30 min_samples_leaf: 0.00970299 max_leaf_nodes: 337 6438.0\n",
      "Criterion: entropy splitter: best max_depth: 30 min_samples_leaf: 0.00970299 max_leaf_nodes: 337 9302.0\n",
      "Criterion: gini splitter: random max_depth: 32 min_samples_leaf: 0.00970299 max_leaf_nodes: 337 13325.0\n",
      "Criterion: gini splitter: best max_depth: 32 min_samples_leaf: 0.00970299 max_leaf_nodes: 337 -3098.0\n",
      "Criterion: entropy splitter: random max_depth: 32 min_samples_leaf: 0.00970299 max_leaf_nodes: 337 6438.0\n",
      "Criterion: entropy splitter: best max_depth: 32 min_samples_leaf: 0.00970299 max_leaf_nodes: 337 9302.0\n",
      "Criterion: gini splitter: random max_depth: 85 min_samples_leaf: 0.00970299 max_leaf_nodes: 337 13325.0\n",
      "Criterion: gini splitter: best max_depth: 85 min_samples_leaf: 0.00970299 max_leaf_nodes: 337 -3098.0\n",
      "Criterion: entropy splitter: random max_depth: 85 min_samples_leaf: 0.00970299 max_leaf_nodes: 337 6438.0\n",
      "Criterion: entropy splitter: best max_depth: 85 min_samples_leaf: 0.00970299 max_leaf_nodes: 337 9302.0\n",
      "Criterion: gini splitter: random max_depth: 31 min_samples_leaf: 0.009801 max_leaf_nodes: 694 13325.0\n",
      "Criterion: gini splitter: best max_depth: 31 min_samples_leaf: 0.009801 max_leaf_nodes: 694 -3098.0\n",
      "Criterion: entropy splitter: random max_depth: 31 min_samples_leaf: 0.009801 max_leaf_nodes: 694 6438.0\n",
      "Criterion: entropy splitter: best max_depth: 31 min_samples_leaf: 0.009801 max_leaf_nodes: 694 9302.0\n",
      "Criterion: gini splitter: random max_depth: 30 min_samples_leaf: 0.009801 max_leaf_nodes: 694 13325.0\n",
      "Criterion: gini splitter: best max_depth: 30 min_samples_leaf: 0.009801 max_leaf_nodes: 694 -3098.0\n",
      "Criterion: entropy splitter: random max_depth: 30 min_samples_leaf: 0.009801 max_leaf_nodes: 694 6438.0\n",
      "Criterion: entropy splitter: best max_depth: 30 min_samples_leaf: 0.009801 max_leaf_nodes: 694 9302.0\n",
      "Criterion: gini splitter: random max_depth: 32 min_samples_leaf: 0.009801 max_leaf_nodes: 694 13325.0\n"
     ]
    },
    {
     "name": "stdout",
     "output_type": "stream",
     "text": [
      "Criterion: gini splitter: best max_depth: 32 min_samples_leaf: 0.009801 max_leaf_nodes: 694 -3098.0\n",
      "Criterion: entropy splitter: random max_depth: 32 min_samples_leaf: 0.009801 max_leaf_nodes: 694 6438.0\n",
      "Criterion: entropy splitter: best max_depth: 32 min_samples_leaf: 0.009801 max_leaf_nodes: 694 9302.0\n",
      "Criterion: gini splitter: random max_depth: 85 min_samples_leaf: 0.009801 max_leaf_nodes: 694 13325.0\n",
      "Criterion: gini splitter: best max_depth: 85 min_samples_leaf: 0.009801 max_leaf_nodes: 694 -3098.0\n",
      "Criterion: entropy splitter: random max_depth: 85 min_samples_leaf: 0.009801 max_leaf_nodes: 694 6438.0\n",
      "Criterion: entropy splitter: best max_depth: 85 min_samples_leaf: 0.009801 max_leaf_nodes: 694 9302.0\n",
      "Criterion: gini splitter: random max_depth: 31 min_samples_leaf: 0.009899010000000001 max_leaf_nodes: 694 13325.0\n",
      "Criterion: gini splitter: best max_depth: 31 min_samples_leaf: 0.009899010000000001 max_leaf_nodes: 694 -3098.0\n",
      "Criterion: entropy splitter: random max_depth: 31 min_samples_leaf: 0.009899010000000001 max_leaf_nodes: 694 6438.0\n",
      "Criterion: entropy splitter: best max_depth: 31 min_samples_leaf: 0.009899010000000001 max_leaf_nodes: 694 9302.0\n",
      "Criterion: gini splitter: random max_depth: 30 min_samples_leaf: 0.009899010000000001 max_leaf_nodes: 694 13325.0\n",
      "Criterion: gini splitter: best max_depth: 30 min_samples_leaf: 0.009899010000000001 max_leaf_nodes: 694 -3098.0\n",
      "Criterion: entropy splitter: random max_depth: 30 min_samples_leaf: 0.009899010000000001 max_leaf_nodes: 694 6438.0\n",
      "Criterion: entropy splitter: best max_depth: 30 min_samples_leaf: 0.009899010000000001 max_leaf_nodes: 694 9302.0\n",
      "Criterion: gini splitter: random max_depth: 32 min_samples_leaf: 0.009899010000000001 max_leaf_nodes: 694 13325.0\n",
      "Criterion: gini splitter: best max_depth: 32 min_samples_leaf: 0.009899010000000001 max_leaf_nodes: 694 -3098.0\n",
      "Criterion: entropy splitter: random max_depth: 32 min_samples_leaf: 0.009899010000000001 max_leaf_nodes: 694 6438.0\n",
      "Criterion: entropy splitter: best max_depth: 32 min_samples_leaf: 0.009899010000000001 max_leaf_nodes: 694 9302.0\n",
      "Criterion: gini splitter: random max_depth: 85 min_samples_leaf: 0.009899010000000001 max_leaf_nodes: 694 13325.0\n",
      "Criterion: gini splitter: best max_depth: 85 min_samples_leaf: 0.009899010000000001 max_leaf_nodes: 694 -3098.0\n",
      "Criterion: entropy splitter: random max_depth: 85 min_samples_leaf: 0.009899010000000001 max_leaf_nodes: 694 6438.0\n",
      "Criterion: entropy splitter: best max_depth: 85 min_samples_leaf: 0.009899010000000001 max_leaf_nodes: 694 9302.0\n",
      "Criterion: gini splitter: random max_depth: 31 min_samples_leaf: 0.00970299 max_leaf_nodes: 694 13325.0\n",
      "Criterion: gini splitter: best max_depth: 31 min_samples_leaf: 0.00970299 max_leaf_nodes: 694 -3098.0\n",
      "Criterion: entropy splitter: random max_depth: 31 min_samples_leaf: 0.00970299 max_leaf_nodes: 694 6438.0\n",
      "Criterion: entropy splitter: best max_depth: 31 min_samples_leaf: 0.00970299 max_leaf_nodes: 694 9302.0\n",
      "Criterion: gini splitter: random max_depth: 30 min_samples_leaf: 0.00970299 max_leaf_nodes: 694 13325.0\n",
      "Criterion: gini splitter: best max_depth: 30 min_samples_leaf: 0.00970299 max_leaf_nodes: 694 -3098.0\n",
      "Criterion: entropy splitter: random max_depth: 30 min_samples_leaf: 0.00970299 max_leaf_nodes: 694 6438.0\n",
      "Criterion: entropy splitter: best max_depth: 30 min_samples_leaf: 0.00970299 max_leaf_nodes: 694 9302.0\n",
      "Criterion: gini splitter: random max_depth: 32 min_samples_leaf: 0.00970299 max_leaf_nodes: 694 13325.0\n",
      "Criterion: gini splitter: best max_depth: 32 min_samples_leaf: 0.00970299 max_leaf_nodes: 694 -3098.0\n",
      "Criterion: entropy splitter: random max_depth: 32 min_samples_leaf: 0.00970299 max_leaf_nodes: 694 6438.0\n",
      "Criterion: entropy splitter: best max_depth: 32 min_samples_leaf: 0.00970299 max_leaf_nodes: 694 9302.0\n",
      "Criterion: gini splitter: random max_depth: 85 min_samples_leaf: 0.00970299 max_leaf_nodes: 694 13325.0\n",
      "Criterion: gini splitter: best max_depth: 85 min_samples_leaf: 0.00970299 max_leaf_nodes: 694 -3098.0\n",
      "Criterion: entropy splitter: random max_depth: 85 min_samples_leaf: 0.00970299 max_leaf_nodes: 694 6438.0\n",
      "Criterion: entropy splitter: best max_depth: 85 min_samples_leaf: 0.00970299 max_leaf_nodes: 694 9302.0\n",
      "Real output model: DecisionTreeClassifier(max_depth=31, max_leaf_nodes=336,\n",
      "                       min_samples_leaf=0.009801, random_state=75,\n",
      "                       splitter='random')\n",
      "\n",
      "model_1\n",
      "DecisionTreeClassifier(max_depth=31, max_leaf_nodes=336,\n",
      "                       min_samples_leaf=0.009801, random_state=75,\n",
      "                       splitter='random')\n",
      "['B_win_by_Decision_Majority', 'gender', 'no_of_rounds', 'B_age', 'Blue - SUB', \"B_Women's Featherweight_rank\", 'B_Heavyweight_rank', \"R_Women's Bantamweight_rank\", 'B_Pound-for-Pound_rank', 'total_title_bout_dif', \"B_Women's Strawweight_rank\", 'R_losses', 'R_win_by_KO/TKO', 'avg_sub_att_dif', 'age_dif', 'B_avg_TD_landed', 'R_win_by_Decision_Split', 'win_dif', 'weight_class', 'R_odds', 'location', 'empty_arena']\n",
      "202\n",
      "\n"
     ]
    },
    {
     "data": {
      "text/plain": [
       "(2810, 169)"
      ]
     },
     "metadata": {},
     "output_type": "display_data"
    },
    {
     "data": {
      "text/plain": [
       "(2810,)"
      ]
     },
     "metadata": {},
     "output_type": "display_data"
    },
    {
     "data": {
      "text/plain": [
       "(2810, 6)"
      ]
     },
     "metadata": {},
     "output_type": "display_data"
    },
    {
     "data": {
      "text/plain": [
       "(241, 169)"
      ]
     },
     "metadata": {},
     "output_type": "display_data"
    },
    {
     "data": {
      "text/plain": [
       "(241,)"
      ]
     },
     "metadata": {},
     "output_type": "display_data"
    },
    {
     "data": {
      "text/plain": [
       "(241, 6)"
      ]
     },
     "metadata": {},
     "output_type": "display_data"
    },
    {
     "name": "stdout",
     "output_type": "stream",
     "text": [
      "250     3\n",
      "251     3\n",
      "252     4\n",
      "253     3\n",
      "254     0\n",
      "       ..\n",
      "4192    0\n",
      "4200    1\n",
      "4201    3\n",
      "4202    5\n",
      "4203    5\n",
      "Name: label, Length: 2810, dtype: int64\n",
      "Real Score: 0.0\n",
      "HI\n",
      "HI\n",
      "HI\n",
      "HI\n",
      "HI\n",
      "0 -118759.4959549877\n",
      "1 -116374.4959549877\n",
      "2 -114696.4959549877\n",
      "3 -111600.99153020892\n",
      "4 -106663.49321371061\n",
      "5 -103523.49321371061\n",
      "6 -103764.80538302277\n",
      "7 -100482.80538302277\n",
      "8 -95454.80538302277\n",
      "9 -94142.80538302277\n",
      "10 -92007.80538302277\n",
      "11 -89578.80538302277\n",
      "12 -87589.80538302277\n",
      "13 -84518.80538302277\n",
      "14 -83103.76190476191\n",
      "15 -82820.76190476191\n",
      "16 -84108.76190476191\n",
      "17 -83405.76190476191\n",
      "18 -82296.0\n",
      "19 -79704.0\n",
      "20 -83179.0\n",
      "21 -84321.0\n",
      "22 -82251.0\n",
      "23 -80037.0\n",
      "24 -77573.0\n",
      "25 -76474.0\n",
      "26 -74377.0\n",
      "27 -71891.0\n",
      "28 -69849.0\n",
      "29 -70074.0\n",
      "30 -68906.0\n",
      "31 -66166.0\n",
      "32 -62741.0\n",
      "33 -62960.0\n",
      "34 -61070.0\n",
      "35 -58978.0\n",
      "36 -56775.0\n",
      "37 -59000.0\n",
      "38 -54750.0\n",
      "39 -54501.0\n",
      "40 -55471.0\n",
      "41 -53741.0\n",
      "42 -56025.0\n",
      "43 -53498.0\n",
      "44 -52961.0\n",
      "45 -49921.0\n",
      "46 -48136.0\n",
      "47 -45497.0\n",
      "48 -43694.0\n",
      "49 -45274.0\n",
      "50 -44305.0\n",
      "51 -44493.0\n",
      "52 -41818.0\n",
      "53 -41489.0\n",
      "54 -38939.0\n",
      "55 -40231.0\n",
      "56 -43574.0\n",
      "57 -41259.0\n",
      "58 -38720.0\n",
      "59 -36971.0\n",
      "60 -34831.0\n",
      "61 -33036.0\n",
      "62 -29921.0\n",
      "63 -29666.0\n",
      "64 -28077.0\n",
      "65 -27087.0\n",
      "66 -26357.0\n",
      "67 -25291.0\n",
      "68 -24571.0\n",
      "69 -25331.0\n",
      "70 -27176.0\n",
      "71 -27047.0\n",
      "72 -28231.0\n",
      "73 -27386.0\n",
      "74 -26656.0\n",
      "75 -25781.0\n",
      "76 -25228.0\n",
      "77 -24303.0\n",
      "78 -23108.0\n",
      "79 -22923.0\n",
      "80 -23958.0\n",
      "81 -24461.0\n",
      "82 -24021.0\n",
      "83 -23738.0\n",
      "84 -22528.0\n",
      "85 -23418.0\n",
      "86 -23528.0\n",
      "87 -23802.0\n",
      "88 -23107.0\n",
      "89 -23182.0\n",
      "90 -21907.0\n",
      "91 -21672.0\n",
      "92 -21545.0\n",
      "93 -19745.0\n",
      "94 -17868.0\n",
      "95 -18917.0\n",
      "96 -18017.0\n",
      "97 -18922.0\n",
      "98 -17922.0\n",
      "99 -16637.0\n",
      "100 -14441.0\n",
      "101 -13593.0\n",
      "102 -15193.0\n",
      "103 -17048.0\n",
      "104 -18100.0\n",
      "105 -17190.0\n",
      "106 -16090.0\n",
      "107 -15840.0\n",
      "108 -15215.0\n",
      "109 -14415.0\n",
      "110 -15047.0\n",
      "111 -14904.0\n",
      "112 -13097.0\n",
      "113 -12497.0\n",
      "114 -11297.0\n",
      "115 -9597.0\n",
      "116 -11011.0\n",
      "117 -9611.0\n",
      "118 -8311.0\n",
      "119 -6811.0\n",
      "120 -4711.0\n",
      "121 -4511.0\n",
      "122 -4031.0\n",
      "123 -3501.0\n",
      "124 -2901.0\n",
      "125 -1875.0\n",
      "126 -675.0\n",
      "127 -384.0\n",
      "128 116.0\n",
      "129 454.0\n",
      "130 1254.0\n",
      "131 2054.0\n",
      "132 2151.0\n",
      "133 2651.0\n",
      "134 3151.0\n",
      "135 2990.0\n",
      "136 2965.0\n",
      "137 3565.0\n",
      "138 4365.0\n",
      "139 5018.0\n",
      "140 5168.0\n",
      "141 6068.0\n",
      "142 6268.0\n",
      "143 6622.0\n",
      "144 7272.0\n",
      "145 7347.0\n",
      "146 8047.0\n",
      "147 6564.0\n",
      "148 7264.0\n",
      "149 6864.0\n",
      "150 6364.0\n",
      "151 5409.0\n",
      "152 5359.0\n",
      "153 6159.0\n",
      "154 6559.0\n",
      "155 7459.0\n",
      "156 7725.0\n",
      "157 8025.0\n",
      "158 8775.0\n",
      "159 9275.0\n",
      "160 9275.0\n",
      "161 9875.0\n",
      "162 9475.0\n",
      "163 9206.0\n",
      "164 9306.0\n",
      "165 9806.0\n",
      "166 9726.0\n",
      "167 10026.0\n",
      "168 9521.0\n",
      "169 9921.0\n",
      "170 10121.0\n",
      "171 9371.0\n",
      "172 9321.0\n",
      "173 10021.0\n",
      "174 10221.0\n",
      "175 9641.0\n",
      "176 10241.0\n",
      "177 10741.0\n",
      "178 11341.0\n",
      "179 11141.0\n",
      "180 10925.0\n",
      "181 9500.0\n",
      "182 9800.0\n",
      "183 8975.0\n",
      "184 8775.0\n",
      "185 9075.0\n",
      "186 9675.0\n",
      "187 9225.0\n",
      "188 9725.0\n",
      "189 10425.0\n",
      "190 10625.0\n",
      "191 11325.0\n",
      "192 11525.0\n",
      "193 11625.0\n",
      "194 10825.0\n",
      "195 11025.0\n",
      "196 11325.0\n",
      "197 11925.0\n",
      "198 12325.0\n",
      "199 12725.0\n",
      "200 13125.0\n",
      "201 13125.0\n",
      "202 13325.0\n",
      "203 11925.0\n",
      "204 10855.0\n",
      "205 11055.0\n",
      "206 11455.0\n",
      "207 11755.0\n",
      "208 11955.0\n",
      "209 12355.0\n",
      "210 12455.0\n",
      "211 12755.0\n",
      "212 12955.0\n",
      "213 12846.0\n",
      "214 13046.0\n",
      "215 13246.0\n",
      "216 12546.0\n",
      "217 12946.0\n",
      "218 12946.0\n",
      "219 11846.0\n",
      "220 10496.0\n",
      "221 10696.0\n",
      "222 10146.0\n",
      "223 10146.0\n",
      "224 9146.0\n",
      "225 7606.0\n",
      "226 6906.0\n",
      "227 7006.0\n",
      "228 7206.0\n",
      "229 6756.0\n",
      "230 6306.0\n",
      "231 3676.0\n",
      "232 3976.0\n",
      "233 4076.0\n",
      "234 4176.0\n",
      "235 4276.0\n",
      "236 4976.0\n",
      "237 5276.0\n",
      "238 4296.0\n",
      "239 4296.0\n",
      "240 4496.0\n",
      "241 4496.0\n",
      "242 4796.0\n",
      "243 4121.0\n",
      "244 3046.0\n",
      "245 3246.0\n",
      "246 3246.0\n",
      "247 3446.0\n",
      "248 3646.0\n",
      "249 3646.0\n",
      "\n",
      "model_1\n",
      "DecisionTreeClassifier(max_depth=31, max_leaf_nodes=336,\n",
      "                       min_samples_leaf=0.009801, random_state=75,\n",
      "                       splitter='random')\n",
      "['B_win_by_Decision_Majority', 'gender', 'no_of_rounds', 'B_age', 'Blue - SUB', \"B_Women's Featherweight_rank\", 'B_Heavyweight_rank', \"R_Women's Bantamweight_rank\", 'B_Pound-for-Pound_rank', 'total_title_bout_dif', \"B_Women's Strawweight_rank\", 'R_losses', 'R_win_by_KO/TKO', 'avg_sub_att_dif', 'age_dif', 'B_avg_TD_landed', 'R_win_by_Decision_Split', 'win_dif', 'weight_class', 'R_odds', 'location', 'empty_arena']\n",
      "202\n",
      "\n"
     ]
    },
    {
     "data": {
      "text/plain": [
       "(2810, 169)"
      ]
     },
     "metadata": {},
     "output_type": "display_data"
    },
    {
     "data": {
      "text/plain": [
       "(2810,)"
      ]
     },
     "metadata": {},
     "output_type": "display_data"
    },
    {
     "data": {
      "text/plain": [
       "(2810, 6)"
      ]
     },
     "metadata": {},
     "output_type": "display_data"
    },
    {
     "data": {
      "text/plain": [
       "(241, 169)"
      ]
     },
     "metadata": {},
     "output_type": "display_data"
    },
    {
     "data": {
      "text/plain": [
       "(241,)"
      ]
     },
     "metadata": {},
     "output_type": "display_data"
    },
    {
     "data": {
      "text/plain": [
       "(241, 6)"
      ]
     },
     "metadata": {},
     "output_type": "display_data"
    },
    {
     "name": "stdout",
     "output_type": "stream",
     "text": [
      "250     3\n",
      "251     3\n",
      "252     4\n",
      "253     3\n",
      "254     0\n",
      "       ..\n",
      "4192    0\n",
      "4200    1\n",
      "4201    3\n",
      "4202    5\n",
      "4203    5\n",
      "Name: label, Length: 2810, dtype: int64\n",
      "Real Score: 0.0\n",
      "HI\n",
      "HI\n",
      "HI\n",
      "HI\n",
      "HI\n",
      "The original score is 13325.0\n",
      "\n",
      "model_1\n",
      "DecisionTreeClassifier(max_depth=31, max_leaf_nodes=336,\n",
      "                       min_samples_leaf=0.009801, random_state=75,\n",
      "                       splitter='random')\n",
      "['B_win_by_Decision_Majority', 'gender', 'no_of_rounds', 'B_age', 'Blue - SUB', \"B_Women's Featherweight_rank\", 'B_Heavyweight_rank', \"R_Women's Bantamweight_rank\", 'B_Pound-for-Pound_rank', 'total_title_bout_dif', \"B_Women's Strawweight_rank\", 'R_losses', 'R_win_by_KO/TKO', 'avg_sub_att_dif', 'age_dif', 'B_avg_TD_landed', 'R_win_by_Decision_Split', 'win_dif', 'weight_class', 'R_odds', 'location', 'empty_arena']\n",
      "202\n",
      "\n"
     ]
    },
    {
     "data": {
      "text/plain": [
       "(2810, 169)"
      ]
     },
     "metadata": {},
     "output_type": "display_data"
    },
    {
     "data": {
      "text/plain": [
       "(2810,)"
      ]
     },
     "metadata": {},
     "output_type": "display_data"
    },
    {
     "data": {
      "text/plain": [
       "(2810, 6)"
      ]
     },
     "metadata": {},
     "output_type": "display_data"
    },
    {
     "data": {
      "text/plain": [
       "(241, 169)"
      ]
     },
     "metadata": {},
     "output_type": "display_data"
    },
    {
     "data": {
      "text/plain": [
       "(241,)"
      ]
     },
     "metadata": {},
     "output_type": "display_data"
    },
    {
     "data": {
      "text/plain": [
       "(241, 6)"
      ]
     },
     "metadata": {},
     "output_type": "display_data"
    },
    {
     "name": "stdout",
     "output_type": "stream",
     "text": [
      "250     3\n",
      "251     3\n",
      "252     4\n",
      "253     3\n",
      "254     0\n",
      "       ..\n",
      "4192    0\n",
      "4200    1\n",
      "4201    3\n",
      "4202    5\n",
      "4203    5\n",
      "Name: label, Length: 2810, dtype: int64\n",
      "Real Score: 0.0\n",
      "HI\n",
      "HI\n",
      "HI\n",
      "HI\n",
      "HI\n",
      "\n",
      "\n",
      "OPTIMIZING MODEL 2\n",
      "\n",
      "\n",
      "model_2\n",
      "RandomForestClassifier(criterion='entropy', max_depth=83, max_features=None,\n",
      "                       max_leaf_nodes=825,\n",
      "                       min_samples_leaf=0.009999000000000001, n_estimators=70,\n",
      "                       n_jobs=-1, random_state=75)\n",
      "[\"R_Women's Featherweight_rank\", 'B_Lightweight_rank', 'R_Featherweight_rank', 'R_Light Heavyweight_rank', 'total_title_bout_dif', 'R_losses', 'B_win_by_Submission', 'Blue - DEC', 'B_draw', 'R_Middleweight_rank', 'B_avg_SIG_STR_pct', \"B_Women's Strawweight_rank\", 'age_dif', 'B_Middleweight_rank', 'avg_sub_att_dif', 'avg_td_dif', 'B_avg_SUB_ATT', \"R_Women's Flyweight_rank\", 'R_Pound-for-Pound_rank', 'R_Reach_cms', 'R_wins', 'B_ev', 'R_Weight_lbs', 'sub_dif', 'R_ev', 'B_avg_TD_landed']\n",
      "46\n",
      "Current best score is: -24818.0\n",
      "Feature: country Score: -23901.0\n",
      "Feature: weight_class Score: -23541.0\n",
      "Feature: gender Score: -22424.0\n",
      "Feature: B_avg_SIG_STR_landed Score: -21447.0\n",
      "Feature: B_total_rounds_fought Score: -14709.0\n",
      "Feature: Red - SUB Score: -13800.0\n",
      "Feature: Blue - SUB Score: -11278.0\n",
      "The best feature was Blue - SUB.  It scored -11278.0\n",
      "Current best score is: -11278.0\n",
      "Feature: B_odds Score: -10578.0\n",
      "Feature: country Score: -8247.0\n",
      "Feature: B_Reach_cms Score: -7809.0\n",
      "Feature: R_avg_SIG_STR_pct Score: -4187.0\n",
      "The best feature was R_avg_SIG_STR_pct.  It scored -4187.0\n",
      "Current best score is: -4187.0\n",
      "Feature: B_current_lose_streak Score: -4004.0\n",
      "Feature: B_total_title_bouts Score: -3727.0\n",
      "Feature: B_Reach_cms Score: -3613.0\n",
      "Feature: R_win_by_Decision_Split Score: -3299.0\n",
      "Feature: R_win_by_KO/TKO Score: 3170.0\n",
      "The best feature was R_win_by_KO/TKO.  It scored 3170.0\n",
      "Current best score is: 3170.0\n",
      "Feature: B_odds Score: 3570.0\n",
      "Feature: location Score: 5040.0\n",
      "Feature: gender Score: 6200.0\n",
      "The best feature was gender.  It scored 6200.0\n",
      "Current best score is: 6200.0\n",
      "Feature: B_odds Score: 6500.0\n",
      "Feature: location Score: 6605.0\n",
      "Feature: R_longest_win_streak Score: 6690.0\n",
      "Feature: empty_arena Score: 6800.0\n",
      "The best feature was empty_arena.  It scored 6800.0\n",
      "Current best score is: 6800.0\n",
      "Feature: B_odds Score: 6900.0\n",
      "Feature: location Score: 7005.0\n",
      "The best feature was location.  It scored 7005.0\n",
      "Current best score is: 7005.0\n",
      "Feature: B_current_lose_streak Score: 7060.0\n",
      "Feature: B_win_by_KO/TKO Score: 7090.0\n",
      "Feature: R_win_by_Decision_Split Score: 7295.0\n",
      "The best feature was R_win_by_Decision_Split.  It scored 7295.0\n",
      "Current best score is: 7295.0\n",
      "Feature: B_win_by_KO/TKO Score: 7851.0\n",
      "Feature: R_Height_cms Score: 7925.0\n",
      "The best feature was R_Height_cms.  It scored 7925.0\n",
      "Current best score is: 7925.0\n",
      "Feature: weight_class Score: 8110.0\n",
      "Feature: B_Weight_lbs Score: 8775.0\n",
      "The best feature was B_Weight_lbs.  It scored 8775.0\n",
      "Current best score is: 8775.0\n",
      "Feature: title_bout Score: 8875.0\n",
      "Feature: B_win_by_Decision_Majority Score: 8975.0\n",
      "Feature: R_Stance Score: 9075.0\n",
      "Feature: R_Lightweight_rank Score: 9195.0\n",
      "The best feature was R_Lightweight_rank.  It scored 9195.0\n",
      "Current best score is: 9195.0\n",
      "Feature: R_Stance Score: 9395.0\n",
      "Feature: sig_str_dif Score: 11001.0\n",
      "The best feature was sig_str_dif.  It scored 11001.0\n",
      "Current best score is: 11001.0\n",
      "Feature: B_odds Score: 11127.0\n",
      "Feature: lose_streak_dif Score: 13577.0\n",
      "The best feature was lose_streak_dif.  It scored 13577.0\n",
      "Current best score is: 13577.0\n",
      "Feature: B_win_by_Decision_Majority Score: 13677.0\n",
      "The best feature was B_win_by_Decision_Majority.  It scored 13677.0\n",
      "Current best score is: 13677.0\n",
      "Feature: B_Pound-for-Pound_rank Score: 13777.0\n",
      "The best feature was B_Pound-for-Pound_rank.  It scored 13777.0\n",
      "Current best score is: 13777.0\n",
      "NO IMPROVEMENT\n",
      "FINAL BEST SCORE: 13777.0\n",
      "\n",
      "model_2\n",
      "RandomForestClassifier(criterion='entropy', max_depth=83, max_features=None,\n",
      "                       max_leaf_nodes=825,\n",
      "                       min_samples_leaf=0.009999000000000001, n_estimators=70,\n",
      "                       n_jobs=-1, random_state=75)\n",
      "['B_Pound-for-Pound_rank', 'B_win_by_Decision_Majority', 'lose_streak_dif', 'sig_str_dif', 'R_Lightweight_rank', 'B_Weight_lbs', 'R_Height_cms', 'R_win_by_Decision_Split', 'location', 'empty_arena', 'gender', 'R_win_by_KO/TKO', 'R_avg_SIG_STR_pct', 'Blue - SUB', \"R_Women's Featherweight_rank\", 'B_Lightweight_rank', 'R_Featherweight_rank', 'R_Light Heavyweight_rank', 'total_title_bout_dif', 'R_losses', 'B_win_by_Submission', 'Blue - DEC', 'B_draw', 'R_Middleweight_rank', 'B_avg_SIG_STR_pct', \"B_Women's Strawweight_rank\", 'age_dif', 'B_Middleweight_rank', 'avg_sub_att_dif', 'avg_td_dif', 'B_avg_SUB_ATT', \"R_Women's Flyweight_rank\", 'R_Pound-for-Pound_rank', 'R_Reach_cms', 'R_wins', 'B_ev', 'R_Weight_lbs', 'sub_dif', 'R_ev', 'B_avg_TD_landed']\n",
      "46\n",
      "\n"
     ]
    },
    {
     "data": {
      "text/plain": [
       "(2747, 175)"
      ]
     },
     "metadata": {},
     "output_type": "display_data"
    },
    {
     "data": {
      "text/plain": [
       "(2747,)"
      ]
     },
     "metadata": {},
     "output_type": "display_data"
    },
    {
     "data": {
      "text/plain": [
       "(2747, 6)"
      ]
     },
     "metadata": {},
     "output_type": "display_data"
    },
    {
     "data": {
      "text/plain": [
       "(241, 175)"
      ]
     },
     "metadata": {},
     "output_type": "display_data"
    },
    {
     "data": {
      "text/plain": [
       "(241,)"
      ]
     },
     "metadata": {},
     "output_type": "display_data"
    },
    {
     "data": {
      "text/plain": [
       "(241, 6)"
      ]
     },
     "metadata": {},
     "output_type": "display_data"
    },
    {
     "name": "stdout",
     "output_type": "stream",
     "text": [
      "250     3\n",
      "251     3\n",
      "252     4\n",
      "253     3\n",
      "254     0\n",
      "       ..\n",
      "4192    0\n",
      "4200    1\n",
      "4201    3\n",
      "4202    5\n",
      "4203    5\n",
      "Name: label, Length: 2747, dtype: int64\n",
      "Real Score: -3025.0\n",
      "HI\n",
      "HI\n",
      "HI\n",
      "HI\n",
      "HI\n",
      "\n",
      "\n",
      "Starting New Run for RandomForestClassifier\n",
      "\n",
      "\n",
      "Previous Best Score: 13777.0\n",
      "Criterion: gini max_features: auto max_depth: 83 min_samples_leaf: 0.009999000000000001 max_leaf_nodes: 825 n_estimators 70 -21663.0\n",
      "Criterion: entropy max_features: auto max_depth: 83 min_samples_leaf: 0.009999000000000001 max_leaf_nodes: 825 n_estimators 70 -31946.0\n",
      "Criterion: gini max_features: log2 max_depth: 83 min_samples_leaf: 0.009999000000000001 max_leaf_nodes: 825 n_estimators 70 -52181.0\n",
      "Criterion: entropy max_features: log2 max_depth: 83 min_samples_leaf: 0.009999000000000001 max_leaf_nodes: 825 n_estimators 70 -55677.0\n",
      "Criterion: gini max_features: None max_depth: 83 min_samples_leaf: 0.009999000000000001 max_leaf_nodes: 825 n_estimators 70 -5482.0\n",
      "Criterion: entropy max_features: None max_depth: 83 min_samples_leaf: 0.009999000000000001 max_leaf_nodes: 825 n_estimators 70 13777.0\n",
      "Criterion: gini max_features: auto max_depth: 33 min_samples_leaf: 0.009999000000000001 max_leaf_nodes: 825 n_estimators 70 -21663.0\n",
      "Criterion: entropy max_features: auto max_depth: 33 min_samples_leaf: 0.009999000000000001 max_leaf_nodes: 825 n_estimators 70 -31946.0\n",
      "Criterion: gini max_features: log2 max_depth: 33 min_samples_leaf: 0.009999000000000001 max_leaf_nodes: 825 n_estimators 70 -52181.0\n",
      "Criterion: entropy max_features: log2 max_depth: 33 min_samples_leaf: 0.009999000000000001 max_leaf_nodes: 825 n_estimators 70 -55677.0\n",
      "Criterion: gini max_features: None max_depth: 33 min_samples_leaf: 0.009999000000000001 max_leaf_nodes: 825 n_estimators 70 -5482.0\n",
      "Criterion: entropy max_features: None max_depth: 33 min_samples_leaf: 0.009999000000000001 max_leaf_nodes: 825 n_estimators 70 13777.0\n",
      "Criterion: gini max_features: auto max_depth: 83 min_samples_leaf: 0.01009899 max_leaf_nodes: 825 n_estimators 70 -21663.0\n",
      "Criterion: entropy max_features: auto max_depth: 83 min_samples_leaf: 0.01009899 max_leaf_nodes: 825 n_estimators 70 -31946.0\n",
      "Criterion: gini max_features: log2 max_depth: 83 min_samples_leaf: 0.01009899 max_leaf_nodes: 825 n_estimators 70 -52181.0\n",
      "Criterion: entropy max_features: log2 max_depth: 83 min_samples_leaf: 0.01009899 max_leaf_nodes: 825 n_estimators 70 -55677.0\n",
      "Criterion: gini max_features: None max_depth: 83 min_samples_leaf: 0.01009899 max_leaf_nodes: 825 n_estimators 70 -5482.0\n",
      "Criterion: entropy max_features: None max_depth: 83 min_samples_leaf: 0.01009899 max_leaf_nodes: 825 n_estimators 70 13777.0\n",
      "Criterion: gini max_features: auto max_depth: 33 min_samples_leaf: 0.01009899 max_leaf_nodes: 825 n_estimators 70 -21663.0\n",
      "Criterion: entropy max_features: auto max_depth: 33 min_samples_leaf: 0.01009899 max_leaf_nodes: 825 n_estimators 70 -31946.0\n",
      "Criterion: gini max_features: log2 max_depth: 33 min_samples_leaf: 0.01009899 max_leaf_nodes: 825 n_estimators 70 -52181.0\n",
      "Criterion: entropy max_features: log2 max_depth: 33 min_samples_leaf: 0.01009899 max_leaf_nodes: 825 n_estimators 70 -55677.0\n",
      "Criterion: gini max_features: None max_depth: 33 min_samples_leaf: 0.01009899 max_leaf_nodes: 825 n_estimators 70 -5482.0\n",
      "Criterion: entropy max_features: None max_depth: 33 min_samples_leaf: 0.01009899 max_leaf_nodes: 825 n_estimators 70 13777.0\n",
      "Criterion: gini max_features: auto max_depth: 83 min_samples_leaf: 0.009899010000000001 max_leaf_nodes: 825 n_estimators 70 -25999.0\n",
      "Criterion: entropy max_features: auto max_depth: 83 min_samples_leaf: 0.009899010000000001 max_leaf_nodes: 825 n_estimators 70 -31469.0\n",
      "Criterion: gini max_features: log2 max_depth: 83 min_samples_leaf: 0.009899010000000001 max_leaf_nodes: 825 n_estimators 70 -54761.0\n",
      "Criterion: entropy max_features: log2 max_depth: 83 min_samples_leaf: 0.009899010000000001 max_leaf_nodes: 825 n_estimators 70 -53108.0\n",
      "Criterion: gini max_features: None max_depth: 83 min_samples_leaf: 0.009899010000000001 max_leaf_nodes: 825 n_estimators 70 -9552.0\n",
      "Criterion: entropy max_features: None max_depth: 83 min_samples_leaf: 0.009899010000000001 max_leaf_nodes: 825 n_estimators 70 11292.0\n",
      "Criterion: gini max_features: auto max_depth: 33 min_samples_leaf: 0.009899010000000001 max_leaf_nodes: 825 n_estimators 70 -25999.0\n",
      "Criterion: entropy max_features: auto max_depth: 33 min_samples_leaf: 0.009899010000000001 max_leaf_nodes: 825 n_estimators 70 -31469.0\n",
      "Criterion: gini max_features: log2 max_depth: 33 min_samples_leaf: 0.009899010000000001 max_leaf_nodes: 825 n_estimators 70 -54761.0\n",
      "Criterion: entropy max_features: log2 max_depth: 33 min_samples_leaf: 0.009899010000000001 max_leaf_nodes: 825 n_estimators 70 -53108.0\n",
      "Criterion: gini max_features: None max_depth: 33 min_samples_leaf: 0.009899010000000001 max_leaf_nodes: 825 n_estimators 70 -9552.0\n",
      "Criterion: entropy max_features: None max_depth: 33 min_samples_leaf: 0.009899010000000001 max_leaf_nodes: 825 n_estimators 70 11292.0\n",
      "Criterion: gini max_features: auto max_depth: 83 min_samples_leaf: 0.009999000000000001 max_leaf_nodes: 751 n_estimators 70 -21663.0\n",
      "Criterion: entropy max_features: auto max_depth: 83 min_samples_leaf: 0.009999000000000001 max_leaf_nodes: 751 n_estimators 70 -31946.0\n",
      "Criterion: gini max_features: log2 max_depth: 83 min_samples_leaf: 0.009999000000000001 max_leaf_nodes: 751 n_estimators 70 -52181.0\n",
      "Criterion: entropy max_features: log2 max_depth: 83 min_samples_leaf: 0.009999000000000001 max_leaf_nodes: 751 n_estimators 70 -55677.0\n",
      "Criterion: gini max_features: None max_depth: 83 min_samples_leaf: 0.009999000000000001 max_leaf_nodes: 751 n_estimators 70 -5482.0\n",
      "Criterion: entropy max_features: None max_depth: 83 min_samples_leaf: 0.009999000000000001 max_leaf_nodes: 751 n_estimators 70 13777.0\n",
      "Criterion: gini max_features: auto max_depth: 33 min_samples_leaf: 0.009999000000000001 max_leaf_nodes: 751 n_estimators 70 -21663.0\n",
      "Criterion: entropy max_features: auto max_depth: 33 min_samples_leaf: 0.009999000000000001 max_leaf_nodes: 751 n_estimators 70 -31946.0\n",
      "Criterion: gini max_features: log2 max_depth: 33 min_samples_leaf: 0.009999000000000001 max_leaf_nodes: 751 n_estimators 70 -52181.0\n",
      "Criterion: entropy max_features: log2 max_depth: 33 min_samples_leaf: 0.009999000000000001 max_leaf_nodes: 751 n_estimators 70 -55677.0\n",
      "Criterion: gini max_features: None max_depth: 33 min_samples_leaf: 0.009999000000000001 max_leaf_nodes: 751 n_estimators 70 -5482.0\n",
      "Criterion: entropy max_features: None max_depth: 33 min_samples_leaf: 0.009999000000000001 max_leaf_nodes: 751 n_estimators 70 13777.0\n",
      "Criterion: gini max_features: auto max_depth: 83 min_samples_leaf: 0.01009899 max_leaf_nodes: 751 n_estimators 70 -21663.0\n",
      "Criterion: entropy max_features: auto max_depth: 83 min_samples_leaf: 0.01009899 max_leaf_nodes: 751 n_estimators 70 -31946.0\n",
      "Criterion: gini max_features: log2 max_depth: 83 min_samples_leaf: 0.01009899 max_leaf_nodes: 751 n_estimators 70 -52181.0\n",
      "Criterion: entropy max_features: log2 max_depth: 83 min_samples_leaf: 0.01009899 max_leaf_nodes: 751 n_estimators 70 -55677.0\n",
      "Criterion: gini max_features: None max_depth: 83 min_samples_leaf: 0.01009899 max_leaf_nodes: 751 n_estimators 70 -5482.0\n",
      "Criterion: entropy max_features: None max_depth: 83 min_samples_leaf: 0.01009899 max_leaf_nodes: 751 n_estimators 70 13777.0\n",
      "Criterion: gini max_features: auto max_depth: 33 min_samples_leaf: 0.01009899 max_leaf_nodes: 751 n_estimators 70 -21663.0\n",
      "Criterion: entropy max_features: auto max_depth: 33 min_samples_leaf: 0.01009899 max_leaf_nodes: 751 n_estimators 70 -31946.0\n",
      "Criterion: gini max_features: log2 max_depth: 33 min_samples_leaf: 0.01009899 max_leaf_nodes: 751 n_estimators 70 -52181.0\n",
      "Criterion: entropy max_features: log2 max_depth: 33 min_samples_leaf: 0.01009899 max_leaf_nodes: 751 n_estimators 70 -55677.0\n",
      "Criterion: gini max_features: None max_depth: 33 min_samples_leaf: 0.01009899 max_leaf_nodes: 751 n_estimators 70 -5482.0\n",
      "Criterion: entropy max_features: None max_depth: 33 min_samples_leaf: 0.01009899 max_leaf_nodes: 751 n_estimators 70 13777.0\n",
      "Criterion: gini max_features: auto max_depth: 83 min_samples_leaf: 0.009899010000000001 max_leaf_nodes: 751 n_estimators 70 -25999.0\n"
     ]
    },
    {
     "name": "stdout",
     "output_type": "stream",
     "text": [
      "Criterion: entropy max_features: auto max_depth: 83 min_samples_leaf: 0.009899010000000001 max_leaf_nodes: 751 n_estimators 70 -31469.0\n",
      "Criterion: gini max_features: log2 max_depth: 83 min_samples_leaf: 0.009899010000000001 max_leaf_nodes: 751 n_estimators 70 -54761.0\n",
      "Criterion: entropy max_features: log2 max_depth: 83 min_samples_leaf: 0.009899010000000001 max_leaf_nodes: 751 n_estimators 70 -53108.0\n",
      "Criterion: gini max_features: None max_depth: 83 min_samples_leaf: 0.009899010000000001 max_leaf_nodes: 751 n_estimators 70 -9552.0\n",
      "Criterion: entropy max_features: None max_depth: 83 min_samples_leaf: 0.009899010000000001 max_leaf_nodes: 751 n_estimators 70 11292.0\n",
      "Criterion: gini max_features: auto max_depth: 33 min_samples_leaf: 0.009899010000000001 max_leaf_nodes: 751 n_estimators 70 -25999.0\n",
      "Criterion: entropy max_features: auto max_depth: 33 min_samples_leaf: 0.009899010000000001 max_leaf_nodes: 751 n_estimators 70 -31469.0\n",
      "Criterion: gini max_features: log2 max_depth: 33 min_samples_leaf: 0.009899010000000001 max_leaf_nodes: 751 n_estimators 70 -54761.0\n",
      "Criterion: entropy max_features: log2 max_depth: 33 min_samples_leaf: 0.009899010000000001 max_leaf_nodes: 751 n_estimators 70 -53108.0\n",
      "Criterion: gini max_features: None max_depth: 33 min_samples_leaf: 0.009899010000000001 max_leaf_nodes: 751 n_estimators 70 -9552.0\n",
      "Criterion: entropy max_features: None max_depth: 33 min_samples_leaf: 0.009899010000000001 max_leaf_nodes: 751 n_estimators 70 11292.0\n",
      "Criterion: gini max_features: auto max_depth: 83 min_samples_leaf: 0.009999000000000001 max_leaf_nodes: 825 n_estimators 6 -38687.0\n",
      "Criterion: entropy max_features: auto max_depth: 83 min_samples_leaf: 0.009999000000000001 max_leaf_nodes: 825 n_estimators 6 -49487.0\n",
      "Criterion: gini max_features: log2 max_depth: 83 min_samples_leaf: 0.009999000000000001 max_leaf_nodes: 825 n_estimators 6 -67547.0\n",
      "Criterion: entropy max_features: log2 max_depth: 83 min_samples_leaf: 0.009999000000000001 max_leaf_nodes: 825 n_estimators 6 -68597.0\n",
      "Criterion: gini max_features: None max_depth: 83 min_samples_leaf: 0.009999000000000001 max_leaf_nodes: 825 n_estimators 6 -33337.0\n",
      "Criterion: entropy max_features: None max_depth: 83 min_samples_leaf: 0.009999000000000001 max_leaf_nodes: 825 n_estimators 6 -21618.0\n",
      "Criterion: gini max_features: auto max_depth: 33 min_samples_leaf: 0.009999000000000001 max_leaf_nodes: 825 n_estimators 6 -38687.0\n",
      "Criterion: entropy max_features: auto max_depth: 33 min_samples_leaf: 0.009999000000000001 max_leaf_nodes: 825 n_estimators 6 -49487.0\n",
      "Criterion: gini max_features: log2 max_depth: 33 min_samples_leaf: 0.009999000000000001 max_leaf_nodes: 825 n_estimators 6 -67547.0\n",
      "Criterion: entropy max_features: log2 max_depth: 33 min_samples_leaf: 0.009999000000000001 max_leaf_nodes: 825 n_estimators 6 -68597.0\n",
      "Criterion: gini max_features: None max_depth: 33 min_samples_leaf: 0.009999000000000001 max_leaf_nodes: 825 n_estimators 6 -33337.0\n",
      "Criterion: entropy max_features: None max_depth: 33 min_samples_leaf: 0.009999000000000001 max_leaf_nodes: 825 n_estimators 6 -21618.0\n",
      "Criterion: gini max_features: auto max_depth: 83 min_samples_leaf: 0.01009899 max_leaf_nodes: 825 n_estimators 6 -38687.0\n",
      "Criterion: entropy max_features: auto max_depth: 83 min_samples_leaf: 0.01009899 max_leaf_nodes: 825 n_estimators 6 -49487.0\n",
      "Criterion: gini max_features: log2 max_depth: 83 min_samples_leaf: 0.01009899 max_leaf_nodes: 825 n_estimators 6 -67547.0\n",
      "Criterion: entropy max_features: log2 max_depth: 83 min_samples_leaf: 0.01009899 max_leaf_nodes: 825 n_estimators 6 -68597.0\n",
      "Criterion: gini max_features: None max_depth: 83 min_samples_leaf: 0.01009899 max_leaf_nodes: 825 n_estimators 6 -33337.0\n",
      "Criterion: entropy max_features: None max_depth: 83 min_samples_leaf: 0.01009899 max_leaf_nodes: 825 n_estimators 6 -21618.0\n",
      "Criterion: gini max_features: auto max_depth: 33 min_samples_leaf: 0.01009899 max_leaf_nodes: 825 n_estimators 6 -38687.0\n",
      "Criterion: entropy max_features: auto max_depth: 33 min_samples_leaf: 0.01009899 max_leaf_nodes: 825 n_estimators 6 -49487.0\n",
      "Criterion: gini max_features: log2 max_depth: 33 min_samples_leaf: 0.01009899 max_leaf_nodes: 825 n_estimators 6 -67547.0\n",
      "Criterion: entropy max_features: log2 max_depth: 33 min_samples_leaf: 0.01009899 max_leaf_nodes: 825 n_estimators 6 -68597.0\n",
      "Criterion: gini max_features: None max_depth: 33 min_samples_leaf: 0.01009899 max_leaf_nodes: 825 n_estimators 6 -33337.0\n",
      "Criterion: entropy max_features: None max_depth: 33 min_samples_leaf: 0.01009899 max_leaf_nodes: 825 n_estimators 6 -21618.0\n",
      "Criterion: gini max_features: auto max_depth: 83 min_samples_leaf: 0.009899010000000001 max_leaf_nodes: 825 n_estimators 6 -44266.0\n",
      "Criterion: entropy max_features: auto max_depth: 83 min_samples_leaf: 0.009899010000000001 max_leaf_nodes: 825 n_estimators 6 -43520.0\n",
      "Criterion: gini max_features: log2 max_depth: 83 min_samples_leaf: 0.009899010000000001 max_leaf_nodes: 825 n_estimators 6 -66613.0\n",
      "Criterion: entropy max_features: log2 max_depth: 83 min_samples_leaf: 0.009899010000000001 max_leaf_nodes: 825 n_estimators 6 -70536.0\n",
      "Criterion: gini max_features: None max_depth: 83 min_samples_leaf: 0.009899010000000001 max_leaf_nodes: 825 n_estimators 6 -38341.0\n",
      "Criterion: entropy max_features: None max_depth: 83 min_samples_leaf: 0.009899010000000001 max_leaf_nodes: 825 n_estimators 6 -25597.0\n",
      "Criterion: gini max_features: auto max_depth: 33 min_samples_leaf: 0.009899010000000001 max_leaf_nodes: 825 n_estimators 6 -44266.0\n",
      "Criterion: entropy max_features: auto max_depth: 33 min_samples_leaf: 0.009899010000000001 max_leaf_nodes: 825 n_estimators 6 -43520.0\n",
      "Criterion: gini max_features: log2 max_depth: 33 min_samples_leaf: 0.009899010000000001 max_leaf_nodes: 825 n_estimators 6 -66613.0\n",
      "Criterion: entropy max_features: log2 max_depth: 33 min_samples_leaf: 0.009899010000000001 max_leaf_nodes: 825 n_estimators 6 -70536.0\n",
      "Criterion: gini max_features: None max_depth: 33 min_samples_leaf: 0.009899010000000001 max_leaf_nodes: 825 n_estimators 6 -38341.0\n",
      "Criterion: entropy max_features: None max_depth: 33 min_samples_leaf: 0.009899010000000001 max_leaf_nodes: 825 n_estimators 6 -25597.0\n",
      "Criterion: gini max_features: auto max_depth: 83 min_samples_leaf: 0.009999000000000001 max_leaf_nodes: 751 n_estimators 6 -38687.0\n",
      "Criterion: entropy max_features: auto max_depth: 83 min_samples_leaf: 0.009999000000000001 max_leaf_nodes: 751 n_estimators 6 -49487.0\n",
      "Criterion: gini max_features: log2 max_depth: 83 min_samples_leaf: 0.009999000000000001 max_leaf_nodes: 751 n_estimators 6 -67547.0\n",
      "Criterion: entropy max_features: log2 max_depth: 83 min_samples_leaf: 0.009999000000000001 max_leaf_nodes: 751 n_estimators 6 -68597.0\n",
      "Criterion: gini max_features: None max_depth: 83 min_samples_leaf: 0.009999000000000001 max_leaf_nodes: 751 n_estimators 6 -33337.0\n",
      "Criterion: entropy max_features: None max_depth: 83 min_samples_leaf: 0.009999000000000001 max_leaf_nodes: 751 n_estimators 6 -21618.0\n",
      "Criterion: gini max_features: auto max_depth: 33 min_samples_leaf: 0.009999000000000001 max_leaf_nodes: 751 n_estimators 6 -38687.0\n",
      "Criterion: entropy max_features: auto max_depth: 33 min_samples_leaf: 0.009999000000000001 max_leaf_nodes: 751 n_estimators 6 -49487.0\n",
      "Criterion: gini max_features: log2 max_depth: 33 min_samples_leaf: 0.009999000000000001 max_leaf_nodes: 751 n_estimators 6 -67547.0\n",
      "Criterion: entropy max_features: log2 max_depth: 33 min_samples_leaf: 0.009999000000000001 max_leaf_nodes: 751 n_estimators 6 -68597.0\n",
      "Criterion: gini max_features: None max_depth: 33 min_samples_leaf: 0.009999000000000001 max_leaf_nodes: 751 n_estimators 6 -33337.0\n",
      "Criterion: entropy max_features: None max_depth: 33 min_samples_leaf: 0.009999000000000001 max_leaf_nodes: 751 n_estimators 6 -21618.0\n",
      "Criterion: gini max_features: auto max_depth: 83 min_samples_leaf: 0.01009899 max_leaf_nodes: 751 n_estimators 6 -38687.0\n",
      "Criterion: entropy max_features: auto max_depth: 83 min_samples_leaf: 0.01009899 max_leaf_nodes: 751 n_estimators 6 -49487.0\n",
      "Criterion: gini max_features: log2 max_depth: 83 min_samples_leaf: 0.01009899 max_leaf_nodes: 751 n_estimators 6 -67547.0\n",
      "Criterion: entropy max_features: log2 max_depth: 83 min_samples_leaf: 0.01009899 max_leaf_nodes: 751 n_estimators 6 -68597.0\n"
     ]
    },
    {
     "name": "stdout",
     "output_type": "stream",
     "text": [
      "Criterion: gini max_features: None max_depth: 83 min_samples_leaf: 0.01009899 max_leaf_nodes: 751 n_estimators 6 -33337.0\n",
      "Criterion: entropy max_features: None max_depth: 83 min_samples_leaf: 0.01009899 max_leaf_nodes: 751 n_estimators 6 -21618.0\n",
      "Criterion: gini max_features: auto max_depth: 33 min_samples_leaf: 0.01009899 max_leaf_nodes: 751 n_estimators 6 -38687.0\n",
      "Criterion: entropy max_features: auto max_depth: 33 min_samples_leaf: 0.01009899 max_leaf_nodes: 751 n_estimators 6 -49487.0\n",
      "Criterion: gini max_features: log2 max_depth: 33 min_samples_leaf: 0.01009899 max_leaf_nodes: 751 n_estimators 6 -67547.0\n",
      "Criterion: entropy max_features: log2 max_depth: 33 min_samples_leaf: 0.01009899 max_leaf_nodes: 751 n_estimators 6 -68597.0\n",
      "Criterion: gini max_features: None max_depth: 33 min_samples_leaf: 0.01009899 max_leaf_nodes: 751 n_estimators 6 -33337.0\n",
      "Criterion: entropy max_features: None max_depth: 33 min_samples_leaf: 0.01009899 max_leaf_nodes: 751 n_estimators 6 -21618.0\n",
      "Criterion: gini max_features: auto max_depth: 83 min_samples_leaf: 0.009899010000000001 max_leaf_nodes: 751 n_estimators 6 -44266.0\n",
      "Criterion: entropy max_features: auto max_depth: 83 min_samples_leaf: 0.009899010000000001 max_leaf_nodes: 751 n_estimators 6 -43520.0\n",
      "Criterion: gini max_features: log2 max_depth: 83 min_samples_leaf: 0.009899010000000001 max_leaf_nodes: 751 n_estimators 6 -66613.0\n",
      "Criterion: entropy max_features: log2 max_depth: 83 min_samples_leaf: 0.009899010000000001 max_leaf_nodes: 751 n_estimators 6 -70536.0\n",
      "Criterion: gini max_features: None max_depth: 83 min_samples_leaf: 0.009899010000000001 max_leaf_nodes: 751 n_estimators 6 -38341.0\n",
      "Criterion: entropy max_features: None max_depth: 83 min_samples_leaf: 0.009899010000000001 max_leaf_nodes: 751 n_estimators 6 -25597.0\n",
      "Criterion: gini max_features: auto max_depth: 33 min_samples_leaf: 0.009899010000000001 max_leaf_nodes: 751 n_estimators 6 -44266.0\n",
      "Criterion: entropy max_features: auto max_depth: 33 min_samples_leaf: 0.009899010000000001 max_leaf_nodes: 751 n_estimators 6 -43520.0\n",
      "Criterion: gini max_features: log2 max_depth: 33 min_samples_leaf: 0.009899010000000001 max_leaf_nodes: 751 n_estimators 6 -66613.0\n",
      "Criterion: entropy max_features: log2 max_depth: 33 min_samples_leaf: 0.009899010000000001 max_leaf_nodes: 751 n_estimators 6 -70536.0\n",
      "Criterion: gini max_features: None max_depth: 33 min_samples_leaf: 0.009899010000000001 max_leaf_nodes: 751 n_estimators 6 -38341.0\n",
      "Criterion: entropy max_features: None max_depth: 33 min_samples_leaf: 0.009899010000000001 max_leaf_nodes: 751 n_estimators 6 -25597.0\n",
      "[[70, 6], [825, 751], [0.009999000000000001, 0.01009899, 0.009899010000000001], [83, 33], ['auto', 'log2', None], ['gini', 'entropy']]\n",
      "6\n",
      "Real output model: RandomForestClassifier(criterion='entropy', max_depth=83, max_features=None,\n",
      "                       max_leaf_nodes=825,\n",
      "                       min_samples_leaf=0.009999000000000001, n_estimators=70,\n",
      "                       n_jobs=-1, random_state=75)\n",
      "\n",
      "model_2\n",
      "RandomForestClassifier(criterion='entropy', max_depth=83, max_features=None,\n",
      "                       max_leaf_nodes=825,\n",
      "                       min_samples_leaf=0.009999000000000001, n_estimators=70,\n",
      "                       n_jobs=-1, random_state=75)\n",
      "['B_Pound-for-Pound_rank', 'B_win_by_Decision_Majority', 'lose_streak_dif', 'sig_str_dif', 'R_Lightweight_rank', 'B_Weight_lbs', 'R_Height_cms', 'R_win_by_Decision_Split', 'location', 'empty_arena', 'gender', 'R_win_by_KO/TKO', 'R_avg_SIG_STR_pct', 'Blue - SUB', \"R_Women's Featherweight_rank\", 'B_Lightweight_rank', 'R_Featherweight_rank', 'R_Light Heavyweight_rank', 'total_title_bout_dif', 'R_losses', 'B_win_by_Submission', 'Blue - DEC', 'B_draw', 'R_Middleweight_rank', 'B_avg_SIG_STR_pct', \"B_Women's Strawweight_rank\", 'age_dif', 'B_Middleweight_rank', 'avg_sub_att_dif', 'avg_td_dif', 'B_avg_SUB_ATT', \"R_Women's Flyweight_rank\", 'R_Pound-for-Pound_rank', 'R_Reach_cms', 'R_wins', 'B_ev', 'R_Weight_lbs', 'sub_dif', 'R_ev', 'B_avg_TD_landed']\n",
      "46\n",
      "\n"
     ]
    },
    {
     "data": {
      "text/plain": [
       "(2747, 175)"
      ]
     },
     "metadata": {},
     "output_type": "display_data"
    },
    {
     "data": {
      "text/plain": [
       "(2747,)"
      ]
     },
     "metadata": {},
     "output_type": "display_data"
    },
    {
     "data": {
      "text/plain": [
       "(2747, 6)"
      ]
     },
     "metadata": {},
     "output_type": "display_data"
    },
    {
     "data": {
      "text/plain": [
       "(241, 175)"
      ]
     },
     "metadata": {},
     "output_type": "display_data"
    },
    {
     "data": {
      "text/plain": [
       "(241,)"
      ]
     },
     "metadata": {},
     "output_type": "display_data"
    },
    {
     "data": {
      "text/plain": [
       "(241, 6)"
      ]
     },
     "metadata": {},
     "output_type": "display_data"
    },
    {
     "name": "stdout",
     "output_type": "stream",
     "text": [
      "250     3\n",
      "251     3\n",
      "252     4\n",
      "253     3\n",
      "254     0\n",
      "       ..\n",
      "4192    0\n",
      "4200    1\n",
      "4201    3\n",
      "4202    5\n",
      "4203    5\n",
      "Name: label, Length: 2747, dtype: int64\n",
      "Real Score: -3025.0\n",
      "HI\n",
      "HI\n",
      "HI\n",
      "HI\n",
      "HI\n",
      "0 -67309.0\n",
      "1 -62326.0\n",
      "2 -61728.0\n",
      "3 -58390.0\n",
      "4 -55911.0\n",
      "5 -56987.0\n",
      "6 -56003.0\n",
      "7 -54077.0\n",
      "8 -49284.0\n",
      "9 -47560.0\n",
      "10 -46028.0\n",
      "11 -43693.0\n",
      "12 -46220.0\n",
      "13 -43648.0\n",
      "14 -38804.0\n",
      "15 -36857.0\n",
      "16 -33986.0\n",
      "17 -33888.0\n",
      "18 -34091.0\n",
      "19 -35598.0\n",
      "20 -34962.0\n",
      "21 -35610.0\n",
      "22 -33157.0\n",
      "23 -29111.0\n",
      "24 -25506.0\n",
      "25 -22324.0\n",
      "26 -21174.0\n",
      "27 -17885.0\n",
      "28 -14707.0\n",
      "29 -14093.0\n",
      "30 -13350.0\n",
      "31 -11211.0\n",
      "32 -9687.0\n",
      "33 -9661.0\n",
      "34 -8691.0\n",
      "35 -5323.0\n",
      "36 -2383.0\n",
      "37 -908.0\n",
      "38 -1676.0\n",
      "39 -86.0\n",
      "40 1264.0\n",
      "41 4464.0\n",
      "42 5479.0\n",
      "43 7136.0\n",
      "44 9316.0\n",
      "45 10977.0\n",
      "46 13777.0\n",
      "47 12807.0\n",
      "48 10753.0\n",
      "49 10230.0\n",
      "50 10588.0\n",
      "51 6309.0\n",
      "52 6119.0\n",
      "53 7794.0\n",
      "54 8129.0\n",
      "55 8829.0\n",
      "56 8466.0\n",
      "57 6596.0\n",
      "58 6226.0\n",
      "59 8038.0\n",
      "60 7177.0\n",
      "61 8977.0\n",
      "62 9527.0\n",
      "63 7797.0\n",
      "64 7829.0\n",
      "65 3797.0\n",
      "66 3653.0\n",
      "67 4353.0\n",
      "68 4853.0\n",
      "69 4878.0\n",
      "70 3203.0\n",
      "71 -305.0\n",
      "72 -772.0\n",
      "73 -472.0\n",
      "74 368.0\n",
      "75 993.0\n",
      "76 1093.0\n",
      "77 793.0\n",
      "78 -97.0\n",
      "79 91.0\n",
      "80 -779.0\n",
      "81 -1363.0\n",
      "82 -2097.0\n",
      "83 -4322.0\n",
      "84 -2522.0\n",
      "85 -1627.0\n",
      "86 -1772.0\n",
      "87 -572.0\n",
      "88 -927.0\n",
      "89 -127.0\n",
      "90 -402.0\n",
      "91 -1277.0\n",
      "92 -1377.0\n",
      "93 -177.0\n",
      "94 264.0\n",
      "95 309.0\n",
      "96 409.0\n",
      "97 1509.0\n",
      "98 1709.0\n",
      "99 194.0\n",
      "100 794.0\n",
      "101 594.0\n",
      "102 -306.0\n",
      "103 394.0\n",
      "104 994.0\n",
      "105 1794.0\n",
      "106 925.0\n",
      "107 1925.0\n",
      "108 1955.0\n",
      "109 855.0\n",
      "110 1061.0\n",
      "111 1261.0\n",
      "112 1461.0\n",
      "113 491.0\n",
      "114 691.0\n",
      "115 1691.0\n",
      "116 1991.0\n",
      "117 2391.0\n",
      "118 1991.0\n",
      "119 2491.0\n",
      "120 2891.0\n",
      "121 3591.0\n",
      "122 3791.0\n",
      "123 3131.0\n",
      "124 3631.0\n",
      "125 3271.0\n",
      "126 3971.0\n",
      "127 4271.0\n",
      "128 4571.0\n",
      "129 5271.0\n",
      "130 5371.0\n",
      "131 5346.0\n",
      "132 5746.0\n",
      "133 5596.0\n",
      "134 5996.0\n",
      "135 6096.0\n",
      "136 6196.0\n",
      "137 6296.0\n",
      "138 6396.0\n",
      "139 6996.0\n",
      "140 7296.0\n",
      "141 6246.0\n",
      "142 6346.0\n",
      "143 5346.0\n",
      "144 4366.0\n",
      "145 5066.0\n",
      "146 5366.0\n",
      "147 5766.0\n",
      "148 3790.0\n",
      "149 3890.0\n",
      "150 4290.0\n",
      "151 4390.0\n",
      "152 4690.0\n",
      "153 3310.0\n",
      "154 3410.0\n",
      "155 3610.0\n",
      "156 1810.0\n",
      "157 1910.0\n",
      "158 2410.0\n",
      "159 2710.0\n",
      "160 2360.0\n",
      "161 1910.0\n",
      "162 2110.0\n",
      "163 2210.0\n",
      "164 1835.0\n",
      "165 1935.0\n",
      "166 2035.0\n",
      "167 2035.0\n",
      "168 2035.0\n",
      "169 260.0\n",
      "170 260.0\n",
      "171 260.0\n",
      "172 460.0\n",
      "173 560.0\n",
      "174 860.0\n",
      "175 1160.0\n",
      "176 1260.0\n",
      "177 1260.0\n",
      "178 1660.0\n",
      "179 1860.0\n",
      "180 1960.0\n",
      "181 2160.0\n",
      "182 2360.0\n",
      "183 2360.0\n",
      "184 2660.0\n",
      "185 2660.0\n",
      "186 2760.0\n",
      "187 2960.0\n",
      "188 2960.0\n",
      "189 3060.0\n",
      "190 3060.0\n",
      "191 3160.0\n",
      "192 3260.0\n",
      "193 3360.0\n",
      "194 3660.0\n",
      "195 3760.0\n",
      "196 3860.0\n",
      "197 3960.0\n",
      "198 3960.0\n",
      "199 3960.0\n",
      "200 4060.0\n",
      "201 4060.0\n",
      "202 4160.0\n",
      "203 4360.0\n",
      "204 4460.0\n",
      "205 4460.0\n",
      "206 4460.0\n",
      "207 4660.0\n",
      "208 4760.0\n",
      "209 4860.0\n",
      "210 4960.0\n",
      "211 5060.0\n",
      "212 5060.0\n",
      "213 5060.0\n",
      "214 5260.0\n",
      "215 5260.0\n",
      "216 5360.0\n",
      "217 5360.0\n",
      "218 5560.0\n",
      "219 5560.0\n",
      "220 5660.0\n",
      "221 5660.0\n",
      "222 5660.0\n",
      "223 5760.0\n",
      "224 5760.0\n",
      "225 5760.0\n",
      "226 5860.0\n",
      "227 5860.0\n",
      "228 5860.0\n",
      "229 5860.0\n",
      "230 5960.0\n",
      "231 6160.0\n",
      "232 6260.0\n",
      "233 6360.0\n",
      "234 6360.0\n",
      "235 6360.0\n",
      "236 6460.0\n",
      "237 6460.0\n",
      "238 6460.0\n",
      "239 3795.0\n",
      "240 3795.0\n",
      "241 3795.0\n",
      "242 3795.0\n",
      "243 3895.0\n",
      "244 3895.0\n",
      "245 3995.0\n",
      "246 3995.0\n",
      "247 3995.0\n",
      "248 4095.0\n",
      "249 4095.0\n",
      "\n",
      "model_2\n",
      "RandomForestClassifier(criterion='entropy', max_depth=83, max_features=None,\n",
      "                       max_leaf_nodes=825,\n",
      "                       min_samples_leaf=0.009999000000000001, n_estimators=70,\n",
      "                       n_jobs=-1, random_state=75)\n",
      "['B_Pound-for-Pound_rank', 'B_win_by_Decision_Majority', 'lose_streak_dif', 'sig_str_dif', 'R_Lightweight_rank', 'B_Weight_lbs', 'R_Height_cms', 'R_win_by_Decision_Split', 'location', 'empty_arena', 'gender', 'R_win_by_KO/TKO', 'R_avg_SIG_STR_pct', 'Blue - SUB', \"R_Women's Featherweight_rank\", 'B_Lightweight_rank', 'R_Featherweight_rank', 'R_Light Heavyweight_rank', 'total_title_bout_dif', 'R_losses', 'B_win_by_Submission', 'Blue - DEC', 'B_draw', 'R_Middleweight_rank', 'B_avg_SIG_STR_pct', \"B_Women's Strawweight_rank\", 'age_dif', 'B_Middleweight_rank', 'avg_sub_att_dif', 'avg_td_dif', 'B_avg_SUB_ATT', \"R_Women's Flyweight_rank\", 'R_Pound-for-Pound_rank', 'R_Reach_cms', 'R_wins', 'B_ev', 'R_Weight_lbs', 'sub_dif', 'R_ev', 'B_avg_TD_landed']\n",
      "46\n",
      "\n"
     ]
    },
    {
     "data": {
      "text/plain": [
       "(2747, 175)"
      ]
     },
     "metadata": {},
     "output_type": "display_data"
    },
    {
     "data": {
      "text/plain": [
       "(2747,)"
      ]
     },
     "metadata": {},
     "output_type": "display_data"
    },
    {
     "data": {
      "text/plain": [
       "(2747, 6)"
      ]
     },
     "metadata": {},
     "output_type": "display_data"
    },
    {
     "data": {
      "text/plain": [
       "(241, 175)"
      ]
     },
     "metadata": {},
     "output_type": "display_data"
    },
    {
     "data": {
      "text/plain": [
       "(241,)"
      ]
     },
     "metadata": {},
     "output_type": "display_data"
    },
    {
     "data": {
      "text/plain": [
       "(241, 6)"
      ]
     },
     "metadata": {},
     "output_type": "display_data"
    },
    {
     "name": "stdout",
     "output_type": "stream",
     "text": [
      "250     3\n",
      "251     3\n",
      "252     4\n",
      "253     3\n",
      "254     0\n",
      "       ..\n",
      "4192    0\n",
      "4200    1\n",
      "4201    3\n",
      "4202    5\n",
      "4203    5\n",
      "Name: label, Length: 2747, dtype: int64\n",
      "Real Score: -3025.0\n",
      "HI\n",
      "HI\n",
      "HI\n",
      "HI\n",
      "HI\n",
      "The original score is 13777.0\n",
      "\n",
      "model_2\n",
      "RandomForestClassifier(criterion='entropy', max_depth=83, max_features=None,\n",
      "                       max_leaf_nodes=825,\n",
      "                       min_samples_leaf=0.009999000000000001, n_estimators=70,\n",
      "                       n_jobs=-1, random_state=75)\n",
      "['B_Pound-for-Pound_rank', 'B_win_by_Decision_Majority', 'lose_streak_dif', 'sig_str_dif', 'R_Lightweight_rank', 'B_Weight_lbs', 'R_Height_cms', 'R_win_by_Decision_Split', 'location', 'empty_arena', 'gender', 'R_win_by_KO/TKO', 'R_avg_SIG_STR_pct', 'Blue - SUB', \"R_Women's Featherweight_rank\", 'B_Lightweight_rank', 'R_Featherweight_rank', 'R_Light Heavyweight_rank', 'total_title_bout_dif', 'R_losses', 'B_win_by_Submission', 'Blue - DEC', 'B_draw', 'R_Middleweight_rank', 'B_avg_SIG_STR_pct', \"B_Women's Strawweight_rank\", 'age_dif', 'B_Middleweight_rank', 'avg_sub_att_dif', 'avg_td_dif', 'B_avg_SUB_ATT', \"R_Women's Flyweight_rank\", 'R_Pound-for-Pound_rank', 'R_Reach_cms', 'R_wins', 'B_ev', 'R_Weight_lbs', 'sub_dif', 'R_ev', 'B_avg_TD_landed']\n",
      "46\n",
      "\n"
     ]
    },
    {
     "data": {
      "text/plain": [
       "(2747, 175)"
      ]
     },
     "metadata": {},
     "output_type": "display_data"
    },
    {
     "data": {
      "text/plain": [
       "(2747,)"
      ]
     },
     "metadata": {},
     "output_type": "display_data"
    },
    {
     "data": {
      "text/plain": [
       "(2747, 6)"
      ]
     },
     "metadata": {},
     "output_type": "display_data"
    },
    {
     "data": {
      "text/plain": [
       "(241, 175)"
      ]
     },
     "metadata": {},
     "output_type": "display_data"
    },
    {
     "data": {
      "text/plain": [
       "(241,)"
      ]
     },
     "metadata": {},
     "output_type": "display_data"
    },
    {
     "data": {
      "text/plain": [
       "(241, 6)"
      ]
     },
     "metadata": {},
     "output_type": "display_data"
    },
    {
     "name": "stdout",
     "output_type": "stream",
     "text": [
      "250     3\n",
      "251     3\n",
      "252     4\n",
      "253     3\n",
      "254     0\n",
      "       ..\n",
      "4192    0\n",
      "4200    1\n",
      "4201    3\n",
      "4202    5\n",
      "4203    5\n",
      "Name: label, Length: 2747, dtype: int64\n",
      "Real Score: -3025.0\n",
      "HI\n",
      "HI\n",
      "HI\n",
      "HI\n",
      "HI\n",
      "\n",
      "\n",
      "OPTIMIZING MODEL 3\n",
      "\n",
      "\n",
      "model_3\n",
      "GradientBoostingClassifier(max_depth=36, max_features='sqrt',\n",
      "                           max_leaf_nodes=644, min_samples_leaf=0.0101,\n",
      "                           n_estimators=134, random_state=75)\n",
      "[\"R_Women's Featherweight_rank\", 'B_Lightweight_rank', 'R_Featherweight_rank', 'R_Light Heavyweight_rank', 'total_title_bout_dif', 'R_losses', 'B_win_by_Submission', 'Blue - DEC', 'B_draw', 'R_Middleweight_rank', 'B_avg_SIG_STR_pct', \"B_Women's Strawweight_rank\", 'age_dif', 'B_Middleweight_rank', 'avg_sub_att_dif', 'avg_td_dif', 'B_avg_SUB_ATT', \"R_Women's Flyweight_rank\", 'R_Pound-for-Pound_rank', 'R_Reach_cms', 'R_wins', 'B_ev', 'R_Weight_lbs', 'sub_dif', 'R_ev', 'B_avg_TD_landed']\n",
      "195\n",
      "Current best score is: 3414.0\n",
      "Feature: B_odds Score: 7804.0\n",
      "Feature: weight_class Score: 8177.0\n",
      "Feature: B_current_lose_streak Score: 10541.0\n",
      "Feature: B_avg_TD_pct Score: 14394.0\n",
      "Feature: R_Women's Bantamweight_rank Score: 15261.0\n",
      "The best feature was R_Women's Bantamweight_rank.  It scored 15261.0\n",
      "Current best score is: 15261.0\n",
      "NO IMPROVEMENT\n",
      "FINAL BEST SCORE: 15261.0\n",
      "\n",
      "model_3\n",
      "GradientBoostingClassifier(max_depth=36, max_features='sqrt',\n",
      "                           max_leaf_nodes=644, min_samples_leaf=0.0101,\n",
      "                           n_estimators=134, random_state=75)\n",
      "[\"R_Women's Bantamweight_rank\", \"R_Women's Featherweight_rank\", 'B_Lightweight_rank', 'R_Featherweight_rank', 'R_Light Heavyweight_rank', 'total_title_bout_dif', 'R_losses', 'B_win_by_Submission', 'Blue - DEC', 'B_draw', 'R_Middleweight_rank', 'B_avg_SIG_STR_pct', \"B_Women's Strawweight_rank\", 'age_dif', 'B_Middleweight_rank', 'avg_sub_att_dif', 'avg_td_dif', 'B_avg_SUB_ATT', \"R_Women's Flyweight_rank\", 'R_Pound-for-Pound_rank', 'R_Reach_cms', 'R_wins', 'B_ev', 'R_Weight_lbs', 'sub_dif', 'R_ev', 'B_avg_TD_landed']\n",
      "195\n",
      "\n"
     ]
    },
    {
     "data": {
      "text/plain": [
       "(2810, 27)"
      ]
     },
     "metadata": {},
     "output_type": "display_data"
    },
    {
     "data": {
      "text/plain": [
       "(2810,)"
      ]
     },
     "metadata": {},
     "output_type": "display_data"
    },
    {
     "data": {
      "text/plain": [
       "(2810, 6)"
      ]
     },
     "metadata": {},
     "output_type": "display_data"
    },
    {
     "data": {
      "text/plain": [
       "(241, 27)"
      ]
     },
     "metadata": {},
     "output_type": "display_data"
    },
    {
     "data": {
      "text/plain": [
       "(241,)"
      ]
     },
     "metadata": {},
     "output_type": "display_data"
    },
    {
     "data": {
      "text/plain": [
       "(241, 6)"
      ]
     },
     "metadata": {},
     "output_type": "display_data"
    },
    {
     "name": "stdout",
     "output_type": "stream",
     "text": [
      "250     3\n",
      "251     3\n",
      "252     4\n",
      "253     3\n",
      "254     0\n",
      "       ..\n",
      "4192    0\n",
      "4200    1\n",
      "4201    3\n",
      "4202    5\n",
      "4203    5\n",
      "Name: label, Length: 2810, dtype: int64\n",
      "Real Score: 3300.0\n",
      "HI\n",
      "HI\n",
      "HI\n",
      "HI\n",
      "HI\n",
      "HI\n",
      "\n",
      "\n",
      "Starting New Run\n",
      "\n",
      "\n",
      "Previous Best Score: 15261.0\n",
      "144\n",
      "Criterion: friedman_mse n_estimators: 134 Loss: deviance Learning Rate: 0.1 Min Samples/Leaf: 0.0101 Max Depth: 36 Max Features: sqrt Max Leaf Nodes: 644 tol: 0.0001 Score: 15261.0\n",
      "Criterion: friedman_mse n_estimators: 198 Loss: deviance Learning Rate: 0.1 Min Samples/Leaf: 0.0101 Max Depth: 36 Max Features: sqrt Max Leaf Nodes: 644 tol: 0.0001 Score: 6005.0\n",
      "Criterion: friedman_mse n_estimators: 134 Loss: deviance Learning Rate: 0.1 Min Samples/Leaf: 0.009999 Max Depth: 36 Max Features: sqrt Max Leaf Nodes: 644 tol: 0.0001 Score: -3203.0\n",
      "Criterion: friedman_mse n_estimators: 198 Loss: deviance Learning Rate: 0.1 Min Samples/Leaf: 0.009999 Max Depth: 36 Max Features: sqrt Max Leaf Nodes: 644 tol: 0.0001 Score: -1596.0\n",
      "Criterion: friedman_mse n_estimators: 134 Loss: deviance Learning Rate: 0.1 Min Samples/Leaf: 0.010201 Max Depth: 36 Max Features: sqrt Max Leaf Nodes: 644 tol: 0.0001 Score: 15261.0\n",
      "Criterion: friedman_mse n_estimators: 198 Loss: deviance Learning Rate: 0.1 Min Samples/Leaf: 0.010201 Max Depth: 36 Max Features: sqrt Max Leaf Nodes: 644 tol: 0.0001 Score: 6005.0\n",
      "Criterion: friedman_mse n_estimators: 134 Loss: deviance Learning Rate: 0.1 Min Samples/Leaf: 0.0101 Max Depth: 86 Max Features: sqrt Max Leaf Nodes: 644 tol: 0.0001 Score: 10677.0\n",
      "Criterion: friedman_mse n_estimators: 198 Loss: deviance Learning Rate: 0.1 Min Samples/Leaf: 0.0101 Max Depth: 86 Max Features: sqrt Max Leaf Nodes: 644 tol: 0.0001 Score: 13129.0\n",
      "Criterion: friedman_mse n_estimators: 134 Loss: deviance Learning Rate: 0.1 Min Samples/Leaf: 0.009999 Max Depth: 86 Max Features: sqrt Max Leaf Nodes: 644 tol: 0.0001 Score: -255.0\n",
      "Criterion: friedman_mse n_estimators: 198 Loss: deviance Learning Rate: 0.1 Min Samples/Leaf: 0.009999 Max Depth: 86 Max Features: sqrt Max Leaf Nodes: 644 tol: 0.0001 Score: -2999.0\n",
      "Criterion: friedman_mse n_estimators: 134 Loss: deviance Learning Rate: 0.1 Min Samples/Leaf: 0.010201 Max Depth: 86 Max Features: sqrt Max Leaf Nodes: 644 tol: 0.0001 Score: 10677.0\n",
      "Criterion: friedman_mse n_estimators: 198 Loss: deviance Learning Rate: 0.1 Min Samples/Leaf: 0.010201 Max Depth: 86 Max Features: sqrt Max Leaf Nodes: 644 tol: 0.0001 Score: 13129.0\n",
      "Criterion: friedman_mse n_estimators: 134 Loss: deviance Learning Rate: 0.1 Min Samples/Leaf: 0.0101 Max Depth: 36 Max Features: log2 Max Leaf Nodes: 644 tol: 0.0001 Score: 5166.0\n",
      "Criterion: friedman_mse n_estimators: 198 Loss: deviance Learning Rate: 0.1 Min Samples/Leaf: 0.0101 Max Depth: 36 Max Features: log2 Max Leaf Nodes: 644 tol: 0.0001 Score: -206.0\n",
      "Criterion: friedman_mse n_estimators: 134 Loss: deviance Learning Rate: 0.1 Min Samples/Leaf: 0.009999 Max Depth: 36 Max Features: log2 Max Leaf Nodes: 644 tol: 0.0001 Score: 2919.0\n",
      "Criterion: friedman_mse n_estimators: 198 Loss: deviance Learning Rate: 0.1 Min Samples/Leaf: 0.009999 Max Depth: 36 Max Features: log2 Max Leaf Nodes: 644 tol: 0.0001 Score: 1752.0\n",
      "Criterion: friedman_mse n_estimators: 134 Loss: deviance Learning Rate: 0.1 Min Samples/Leaf: 0.010201 Max Depth: 36 Max Features: log2 Max Leaf Nodes: 644 tol: 0.0001 Score: 5166.0\n",
      "Criterion: friedman_mse n_estimators: 198 Loss: deviance Learning Rate: 0.1 Min Samples/Leaf: 0.010201 Max Depth: 36 Max Features: log2 Max Leaf Nodes: 644 tol: 0.0001 Score: -206.0\n",
      "Criterion: friedman_mse n_estimators: 134 Loss: deviance Learning Rate: 0.1 Min Samples/Leaf: 0.0101 Max Depth: 86 Max Features: log2 Max Leaf Nodes: 644 tol: 0.0001 Score: 4282.0\n",
      "Criterion: friedman_mse n_estimators: 198 Loss: deviance Learning Rate: 0.1 Min Samples/Leaf: 0.0101 Max Depth: 86 Max Features: log2 Max Leaf Nodes: 644 tol: 0.0001 Score: 1303.0\n",
      "Criterion: friedman_mse n_estimators: 134 Loss: deviance Learning Rate: 0.1 Min Samples/Leaf: 0.009999 Max Depth: 86 Max Features: log2 Max Leaf Nodes: 644 tol: 0.0001 Score: 5096.0\n",
      "Criterion: friedman_mse n_estimators: 198 Loss: deviance Learning Rate: 0.1 Min Samples/Leaf: 0.009999 Max Depth: 86 Max Features: log2 Max Leaf Nodes: 644 tol: 0.0001 Score: 132.0\n",
      "Criterion: friedman_mse n_estimators: 134 Loss: deviance Learning Rate: 0.1 Min Samples/Leaf: 0.010201 Max Depth: 86 Max Features: log2 Max Leaf Nodes: 644 tol: 0.0001 Score: 4282.0\n",
      "Criterion: friedman_mse n_estimators: 198 Loss: deviance Learning Rate: 0.1 Min Samples/Leaf: 0.010201 Max Depth: 86 Max Features: log2 Max Leaf Nodes: 644 tol: 0.0001 Score: 1303.0\n",
      "Criterion: friedman_mse n_estimators: 134 Loss: deviance Learning Rate: 0.1 Min Samples/Leaf: 0.0101 Max Depth: 36 Max Features: None Max Leaf Nodes: 644 tol: 0.0001 Score: 7409.0\n",
      "Criterion: friedman_mse n_estimators: 198 Loss: deviance Learning Rate: 0.1 Min Samples/Leaf: 0.0101 Max Depth: 36 Max Features: None Max Leaf Nodes: 644 tol: 0.0001 Score: 1079.0\n",
      "Criterion: friedman_mse n_estimators: 134 Loss: deviance Learning Rate: 0.1 Min Samples/Leaf: 0.009999 Max Depth: 36 Max Features: None Max Leaf Nodes: 644 tol: 0.0001 Score: 8502.0\n",
      "Criterion: friedman_mse n_estimators: 198 Loss: deviance Learning Rate: 0.1 Min Samples/Leaf: 0.009999 Max Depth: 36 Max Features: None Max Leaf Nodes: 644 tol: 0.0001 Score: 661.0\n",
      "Criterion: friedman_mse n_estimators: 134 Loss: deviance Learning Rate: 0.1 Min Samples/Leaf: 0.010201 Max Depth: 36 Max Features: None Max Leaf Nodes: 644 tol: 0.0001 Score: 7409.0\n",
      "Criterion: friedman_mse n_estimators: 198 Loss: deviance Learning Rate: 0.1 Min Samples/Leaf: 0.010201 Max Depth: 36 Max Features: None Max Leaf Nodes: 644 tol: 0.0001 Score: 1079.0\n",
      "Criterion: friedman_mse n_estimators: 134 Loss: deviance Learning Rate: 0.1 Min Samples/Leaf: 0.0101 Max Depth: 86 Max Features: None Max Leaf Nodes: 644 tol: 0.0001 Score: 9704.0\n",
      "Criterion: friedman_mse n_estimators: 198 Loss: deviance Learning Rate: 0.1 Min Samples/Leaf: 0.0101 Max Depth: 86 Max Features: None Max Leaf Nodes: 644 tol: 0.0001 Score: 4239.0\n",
      "Criterion: friedman_mse n_estimators: 134 Loss: deviance Learning Rate: 0.1 Min Samples/Leaf: 0.009999 Max Depth: 86 Max Features: None Max Leaf Nodes: 644 tol: 0.0001 Score: 2917.0\n",
      "Criterion: friedman_mse n_estimators: 198 Loss: deviance Learning Rate: 0.1 Min Samples/Leaf: 0.009999 Max Depth: 86 Max Features: None Max Leaf Nodes: 644 tol: 0.0001 Score: 3812.0\n",
      "Criterion: friedman_mse n_estimators: 134 Loss: deviance Learning Rate: 0.1 Min Samples/Leaf: 0.010201 Max Depth: 86 Max Features: None Max Leaf Nodes: 644 tol: 0.0001 Score: 9704.0\n",
      "Criterion: friedman_mse n_estimators: 198 Loss: deviance Learning Rate: 0.1 Min Samples/Leaf: 0.010201 Max Depth: 86 Max Features: None Max Leaf Nodes: 644 tol: 0.0001 Score: 4239.0\n",
      "Criterion: friedman_mse n_estimators: 134 Loss: deviance Learning Rate: 0.1 Min Samples/Leaf: 0.0101 Max Depth: 36 Max Features: sqrt Max Leaf Nodes: 45 tol: 0.0001 Score: 838.0\n",
      "Criterion: friedman_mse n_estimators: 198 Loss: deviance Learning Rate: 0.1 Min Samples/Leaf: 0.0101 Max Depth: 36 Max Features: sqrt Max Leaf Nodes: 45 tol: 0.0001 Score: 5538.0\n",
      "Criterion: friedman_mse n_estimators: 134 Loss: deviance Learning Rate: 0.1 Min Samples/Leaf: 0.009999 Max Depth: 36 Max Features: sqrt Max Leaf Nodes: 45 tol: 0.0001 Score: 3576.0\n",
      "Criterion: friedman_mse n_estimators: 198 Loss: deviance Learning Rate: 0.1 Min Samples/Leaf: 0.009999 Max Depth: 36 Max Features: sqrt Max Leaf Nodes: 45 tol: 0.0001 Score: 2557.0\n",
      "Criterion: friedman_mse n_estimators: 134 Loss: deviance Learning Rate: 0.1 Min Samples/Leaf: 0.010201 Max Depth: 36 Max Features: sqrt Max Leaf Nodes: 45 tol: 0.0001 Score: 838.0\n",
      "Criterion: friedman_mse n_estimators: 198 Loss: deviance Learning Rate: 0.1 Min Samples/Leaf: 0.010201 Max Depth: 36 Max Features: sqrt Max Leaf Nodes: 45 tol: 0.0001 Score: 5538.0\n",
      "Criterion: friedman_mse n_estimators: 134 Loss: deviance Learning Rate: 0.1 Min Samples/Leaf: 0.0101 Max Depth: 86 Max Features: sqrt Max Leaf Nodes: 45 tol: 0.0001 Score: 838.0\n",
      "Criterion: friedman_mse n_estimators: 198 Loss: deviance Learning Rate: 0.1 Min Samples/Leaf: 0.0101 Max Depth: 86 Max Features: sqrt Max Leaf Nodes: 45 tol: 0.0001 Score: 5538.0\n"
     ]
    },
    {
     "name": "stdout",
     "output_type": "stream",
     "text": [
      "Criterion: friedman_mse n_estimators: 134 Loss: deviance Learning Rate: 0.1 Min Samples/Leaf: 0.009999 Max Depth: 86 Max Features: sqrt Max Leaf Nodes: 45 tol: 0.0001 Score: 3576.0\n",
      "Criterion: friedman_mse n_estimators: 198 Loss: deviance Learning Rate: 0.1 Min Samples/Leaf: 0.009999 Max Depth: 86 Max Features: sqrt Max Leaf Nodes: 45 tol: 0.0001 Score: 2557.0\n",
      "Criterion: friedman_mse n_estimators: 134 Loss: deviance Learning Rate: 0.1 Min Samples/Leaf: 0.010201 Max Depth: 86 Max Features: sqrt Max Leaf Nodes: 45 tol: 0.0001 Score: 838.0\n",
      "Criterion: friedman_mse n_estimators: 198 Loss: deviance Learning Rate: 0.1 Min Samples/Leaf: 0.010201 Max Depth: 86 Max Features: sqrt Max Leaf Nodes: 45 tol: 0.0001 Score: 5538.0\n",
      "Criterion: friedman_mse n_estimators: 134 Loss: deviance Learning Rate: 0.1 Min Samples/Leaf: 0.0101 Max Depth: 36 Max Features: log2 Max Leaf Nodes: 45 tol: 0.0001 Score: -658.0\n",
      "Criterion: friedman_mse n_estimators: 198 Loss: deviance Learning Rate: 0.1 Min Samples/Leaf: 0.0101 Max Depth: 36 Max Features: log2 Max Leaf Nodes: 45 tol: 0.0001 Score: -504.0\n",
      "Criterion: friedman_mse n_estimators: 134 Loss: deviance Learning Rate: 0.1 Min Samples/Leaf: 0.009999 Max Depth: 36 Max Features: log2 Max Leaf Nodes: 45 tol: 0.0001 Score: 1929.0\n",
      "Criterion: friedman_mse n_estimators: 198 Loss: deviance Learning Rate: 0.1 Min Samples/Leaf: 0.009999 Max Depth: 36 Max Features: log2 Max Leaf Nodes: 45 tol: 0.0001 Score: 4849.0\n",
      "Criterion: friedman_mse n_estimators: 134 Loss: deviance Learning Rate: 0.1 Min Samples/Leaf: 0.010201 Max Depth: 36 Max Features: log2 Max Leaf Nodes: 45 tol: 0.0001 Score: -658.0\n",
      "Criterion: friedman_mse n_estimators: 198 Loss: deviance Learning Rate: 0.1 Min Samples/Leaf: 0.010201 Max Depth: 36 Max Features: log2 Max Leaf Nodes: 45 tol: 0.0001 Score: -504.0\n",
      "Criterion: friedman_mse n_estimators: 134 Loss: deviance Learning Rate: 0.1 Min Samples/Leaf: 0.0101 Max Depth: 86 Max Features: log2 Max Leaf Nodes: 45 tol: 0.0001 Score: -658.0\n",
      "Criterion: friedman_mse n_estimators: 198 Loss: deviance Learning Rate: 0.1 Min Samples/Leaf: 0.0101 Max Depth: 86 Max Features: log2 Max Leaf Nodes: 45 tol: 0.0001 Score: -504.0\n",
      "Criterion: friedman_mse n_estimators: 134 Loss: deviance Learning Rate: 0.1 Min Samples/Leaf: 0.009999 Max Depth: 86 Max Features: log2 Max Leaf Nodes: 45 tol: 0.0001 Score: 1929.0\n",
      "Criterion: friedman_mse n_estimators: 198 Loss: deviance Learning Rate: 0.1 Min Samples/Leaf: 0.009999 Max Depth: 86 Max Features: log2 Max Leaf Nodes: 45 tol: 0.0001 Score: 4849.0\n",
      "Criterion: friedman_mse n_estimators: 134 Loss: deviance Learning Rate: 0.1 Min Samples/Leaf: 0.010201 Max Depth: 86 Max Features: log2 Max Leaf Nodes: 45 tol: 0.0001 Score: -658.0\n",
      "Criterion: friedman_mse n_estimators: 198 Loss: deviance Learning Rate: 0.1 Min Samples/Leaf: 0.010201 Max Depth: 86 Max Features: log2 Max Leaf Nodes: 45 tol: 0.0001 Score: -504.0\n",
      "Criterion: friedman_mse n_estimators: 134 Loss: deviance Learning Rate: 0.1 Min Samples/Leaf: 0.0101 Max Depth: 36 Max Features: None Max Leaf Nodes: 45 tol: 0.0001 Score: 6921.0\n",
      "Criterion: friedman_mse n_estimators: 198 Loss: deviance Learning Rate: 0.1 Min Samples/Leaf: 0.0101 Max Depth: 36 Max Features: None Max Leaf Nodes: 45 tol: 0.0001 Score: 4575.0\n",
      "Criterion: friedman_mse n_estimators: 134 Loss: deviance Learning Rate: 0.1 Min Samples/Leaf: 0.009999 Max Depth: 36 Max Features: None Max Leaf Nodes: 45 tol: 0.0001 Score: 2004.0\n",
      "Criterion: friedman_mse n_estimators: 198 Loss: deviance Learning Rate: 0.1 Min Samples/Leaf: 0.009999 Max Depth: 36 Max Features: None Max Leaf Nodes: 45 tol: 0.0001 Score: 1345.0\n",
      "Criterion: friedman_mse n_estimators: 134 Loss: deviance Learning Rate: 0.1 Min Samples/Leaf: 0.010201 Max Depth: 36 Max Features: None Max Leaf Nodes: 45 tol: 0.0001 Score: 6921.0\n",
      "Criterion: friedman_mse n_estimators: 198 Loss: deviance Learning Rate: 0.1 Min Samples/Leaf: 0.010201 Max Depth: 36 Max Features: None Max Leaf Nodes: 45 tol: 0.0001 Score: 4575.0\n",
      "Criterion: friedman_mse n_estimators: 134 Loss: deviance Learning Rate: 0.1 Min Samples/Leaf: 0.0101 Max Depth: 86 Max Features: None Max Leaf Nodes: 45 tol: 0.0001 Score: 4219.0\n",
      "Criterion: friedman_mse n_estimators: 198 Loss: deviance Learning Rate: 0.1 Min Samples/Leaf: 0.0101 Max Depth: 86 Max Features: None Max Leaf Nodes: 45 tol: 0.0001 Score: -1417.0\n",
      "Criterion: friedman_mse n_estimators: 134 Loss: deviance Learning Rate: 0.1 Min Samples/Leaf: 0.009999 Max Depth: 86 Max Features: None Max Leaf Nodes: 45 tol: 0.0001 Score: 2004.0\n",
      "Criterion: friedman_mse n_estimators: 198 Loss: deviance Learning Rate: 0.1 Min Samples/Leaf: 0.009999 Max Depth: 86 Max Features: None Max Leaf Nodes: 45 tol: 0.0001 Score: 1345.0\n",
      "Criterion: friedman_mse n_estimators: 134 Loss: deviance Learning Rate: 0.1 Min Samples/Leaf: 0.010201 Max Depth: 86 Max Features: None Max Leaf Nodes: 45 tol: 0.0001 Score: 4219.0\n",
      "Criterion: friedman_mse n_estimators: 198 Loss: deviance Learning Rate: 0.1 Min Samples/Leaf: 0.010201 Max Depth: 86 Max Features: None Max Leaf Nodes: 45 tol: 0.0001 Score: -1417.0\n",
      "Criterion: friedman_mse n_estimators: 134 Loss: deviance Learning Rate: 0.1 Min Samples/Leaf: 0.0101 Max Depth: 36 Max Features: sqrt Max Leaf Nodes: 644 tol: 0.1375814950889287 Score: 15261.0\n",
      "Criterion: friedman_mse n_estimators: 198 Loss: deviance Learning Rate: 0.1 Min Samples/Leaf: 0.0101 Max Depth: 36 Max Features: sqrt Max Leaf Nodes: 644 tol: 0.1375814950889287 Score: 6005.0\n",
      "Criterion: friedman_mse n_estimators: 134 Loss: deviance Learning Rate: 0.1 Min Samples/Leaf: 0.009999 Max Depth: 36 Max Features: sqrt Max Leaf Nodes: 644 tol: 0.1375814950889287 Score: -3203.0\n",
      "Criterion: friedman_mse n_estimators: 198 Loss: deviance Learning Rate: 0.1 Min Samples/Leaf: 0.009999 Max Depth: 36 Max Features: sqrt Max Leaf Nodes: 644 tol: 0.1375814950889287 Score: -1596.0\n",
      "Criterion: friedman_mse n_estimators: 134 Loss: deviance Learning Rate: 0.1 Min Samples/Leaf: 0.010201 Max Depth: 36 Max Features: sqrt Max Leaf Nodes: 644 tol: 0.1375814950889287 Score: 15261.0\n",
      "Criterion: friedman_mse n_estimators: 198 Loss: deviance Learning Rate: 0.1 Min Samples/Leaf: 0.010201 Max Depth: 36 Max Features: sqrt Max Leaf Nodes: 644 tol: 0.1375814950889287 Score: 6005.0\n",
      "Criterion: friedman_mse n_estimators: 134 Loss: deviance Learning Rate: 0.1 Min Samples/Leaf: 0.0101 Max Depth: 86 Max Features: sqrt Max Leaf Nodes: 644 tol: 0.1375814950889287 Score: 10677.0\n",
      "Criterion: friedman_mse n_estimators: 198 Loss: deviance Learning Rate: 0.1 Min Samples/Leaf: 0.0101 Max Depth: 86 Max Features: sqrt Max Leaf Nodes: 644 tol: 0.1375814950889287 Score: 13129.0\n",
      "Criterion: friedman_mse n_estimators: 134 Loss: deviance Learning Rate: 0.1 Min Samples/Leaf: 0.009999 Max Depth: 86 Max Features: sqrt Max Leaf Nodes: 644 tol: 0.1375814950889287 Score: -255.0\n",
      "Criterion: friedman_mse n_estimators: 198 Loss: deviance Learning Rate: 0.1 Min Samples/Leaf: 0.009999 Max Depth: 86 Max Features: sqrt Max Leaf Nodes: 644 tol: 0.1375814950889287 Score: -2999.0\n",
      "Criterion: friedman_mse n_estimators: 134 Loss: deviance Learning Rate: 0.1 Min Samples/Leaf: 0.010201 Max Depth: 86 Max Features: sqrt Max Leaf Nodes: 644 tol: 0.1375814950889287 Score: 10677.0\n",
      "Criterion: friedman_mse n_estimators: 198 Loss: deviance Learning Rate: 0.1 Min Samples/Leaf: 0.010201 Max Depth: 86 Max Features: sqrt Max Leaf Nodes: 644 tol: 0.1375814950889287 Score: 13129.0\n",
      "Criterion: friedman_mse n_estimators: 134 Loss: deviance Learning Rate: 0.1 Min Samples/Leaf: 0.0101 Max Depth: 36 Max Features: log2 Max Leaf Nodes: 644 tol: 0.1375814950889287 Score: 5166.0\n",
      "Criterion: friedman_mse n_estimators: 198 Loss: deviance Learning Rate: 0.1 Min Samples/Leaf: 0.0101 Max Depth: 36 Max Features: log2 Max Leaf Nodes: 644 tol: 0.1375814950889287 Score: -206.0\n",
      "Criterion: friedman_mse n_estimators: 134 Loss: deviance Learning Rate: 0.1 Min Samples/Leaf: 0.009999 Max Depth: 36 Max Features: log2 Max Leaf Nodes: 644 tol: 0.1375814950889287 Score: 2919.0\n",
      "Criterion: friedman_mse n_estimators: 198 Loss: deviance Learning Rate: 0.1 Min Samples/Leaf: 0.009999 Max Depth: 36 Max Features: log2 Max Leaf Nodes: 644 tol: 0.1375814950889287 Score: 1752.0\n",
      "Criterion: friedman_mse n_estimators: 134 Loss: deviance Learning Rate: 0.1 Min Samples/Leaf: 0.010201 Max Depth: 36 Max Features: log2 Max Leaf Nodes: 644 tol: 0.1375814950889287 Score: 5166.0\n"
     ]
    },
    {
     "name": "stdout",
     "output_type": "stream",
     "text": [
      "Criterion: friedman_mse n_estimators: 198 Loss: deviance Learning Rate: 0.1 Min Samples/Leaf: 0.010201 Max Depth: 36 Max Features: log2 Max Leaf Nodes: 644 tol: 0.1375814950889287 Score: -206.0\n",
      "Criterion: friedman_mse n_estimators: 134 Loss: deviance Learning Rate: 0.1 Min Samples/Leaf: 0.0101 Max Depth: 86 Max Features: log2 Max Leaf Nodes: 644 tol: 0.1375814950889287 Score: 4282.0\n",
      "Criterion: friedman_mse n_estimators: 198 Loss: deviance Learning Rate: 0.1 Min Samples/Leaf: 0.0101 Max Depth: 86 Max Features: log2 Max Leaf Nodes: 644 tol: 0.1375814950889287 Score: 1303.0\n",
      "Criterion: friedman_mse n_estimators: 134 Loss: deviance Learning Rate: 0.1 Min Samples/Leaf: 0.009999 Max Depth: 86 Max Features: log2 Max Leaf Nodes: 644 tol: 0.1375814950889287 Score: 5096.0\n",
      "Criterion: friedman_mse n_estimators: 198 Loss: deviance Learning Rate: 0.1 Min Samples/Leaf: 0.009999 Max Depth: 86 Max Features: log2 Max Leaf Nodes: 644 tol: 0.1375814950889287 Score: 132.0\n",
      "Criterion: friedman_mse n_estimators: 134 Loss: deviance Learning Rate: 0.1 Min Samples/Leaf: 0.010201 Max Depth: 86 Max Features: log2 Max Leaf Nodes: 644 tol: 0.1375814950889287 Score: 4282.0\n",
      "Criterion: friedman_mse n_estimators: 198 Loss: deviance Learning Rate: 0.1 Min Samples/Leaf: 0.010201 Max Depth: 86 Max Features: log2 Max Leaf Nodes: 644 tol: 0.1375814950889287 Score: 1303.0\n",
      "Criterion: friedman_mse n_estimators: 134 Loss: deviance Learning Rate: 0.1 Min Samples/Leaf: 0.0101 Max Depth: 36 Max Features: None Max Leaf Nodes: 644 tol: 0.1375814950889287 Score: 7409.0\n",
      "Criterion: friedman_mse n_estimators: 198 Loss: deviance Learning Rate: 0.1 Min Samples/Leaf: 0.0101 Max Depth: 36 Max Features: None Max Leaf Nodes: 644 tol: 0.1375814950889287 Score: 1079.0\n",
      "Criterion: friedman_mse n_estimators: 134 Loss: deviance Learning Rate: 0.1 Min Samples/Leaf: 0.009999 Max Depth: 36 Max Features: None Max Leaf Nodes: 644 tol: 0.1375814950889287 Score: 8502.0\n",
      "Criterion: friedman_mse n_estimators: 198 Loss: deviance Learning Rate: 0.1 Min Samples/Leaf: 0.009999 Max Depth: 36 Max Features: None Max Leaf Nodes: 644 tol: 0.1375814950889287 Score: 661.0\n",
      "Criterion: friedman_mse n_estimators: 134 Loss: deviance Learning Rate: 0.1 Min Samples/Leaf: 0.010201 Max Depth: 36 Max Features: None Max Leaf Nodes: 644 tol: 0.1375814950889287 Score: 7409.0\n",
      "Criterion: friedman_mse n_estimators: 198 Loss: deviance Learning Rate: 0.1 Min Samples/Leaf: 0.010201 Max Depth: 36 Max Features: None Max Leaf Nodes: 644 tol: 0.1375814950889287 Score: 1079.0\n",
      "Criterion: friedman_mse n_estimators: 134 Loss: deviance Learning Rate: 0.1 Min Samples/Leaf: 0.0101 Max Depth: 86 Max Features: None Max Leaf Nodes: 644 tol: 0.1375814950889287 Score: 9704.0\n",
      "Criterion: friedman_mse n_estimators: 198 Loss: deviance Learning Rate: 0.1 Min Samples/Leaf: 0.0101 Max Depth: 86 Max Features: None Max Leaf Nodes: 644 tol: 0.1375814950889287 Score: 4239.0\n",
      "Criterion: friedman_mse n_estimators: 134 Loss: deviance Learning Rate: 0.1 Min Samples/Leaf: 0.009999 Max Depth: 86 Max Features: None Max Leaf Nodes: 644 tol: 0.1375814950889287 Score: 2917.0\n",
      "Criterion: friedman_mse n_estimators: 198 Loss: deviance Learning Rate: 0.1 Min Samples/Leaf: 0.009999 Max Depth: 86 Max Features: None Max Leaf Nodes: 644 tol: 0.1375814950889287 Score: 3812.0\n",
      "Criterion: friedman_mse n_estimators: 134 Loss: deviance Learning Rate: 0.1 Min Samples/Leaf: 0.010201 Max Depth: 86 Max Features: None Max Leaf Nodes: 644 tol: 0.1375814950889287 Score: 9704.0\n",
      "Criterion: friedman_mse n_estimators: 198 Loss: deviance Learning Rate: 0.1 Min Samples/Leaf: 0.010201 Max Depth: 86 Max Features: None Max Leaf Nodes: 644 tol: 0.1375814950889287 Score: 4239.0\n",
      "Criterion: friedman_mse n_estimators: 134 Loss: deviance Learning Rate: 0.1 Min Samples/Leaf: 0.0101 Max Depth: 36 Max Features: sqrt Max Leaf Nodes: 45 tol: 0.1375814950889287 Score: 838.0\n",
      "Criterion: friedman_mse n_estimators: 198 Loss: deviance Learning Rate: 0.1 Min Samples/Leaf: 0.0101 Max Depth: 36 Max Features: sqrt Max Leaf Nodes: 45 tol: 0.1375814950889287 Score: 5538.0\n",
      "Criterion: friedman_mse n_estimators: 134 Loss: deviance Learning Rate: 0.1 Min Samples/Leaf: 0.009999 Max Depth: 36 Max Features: sqrt Max Leaf Nodes: 45 tol: 0.1375814950889287 Score: 3576.0\n",
      "Criterion: friedman_mse n_estimators: 198 Loss: deviance Learning Rate: 0.1 Min Samples/Leaf: 0.009999 Max Depth: 36 Max Features: sqrt Max Leaf Nodes: 45 tol: 0.1375814950889287 Score: 2557.0\n",
      "Criterion: friedman_mse n_estimators: 134 Loss: deviance Learning Rate: 0.1 Min Samples/Leaf: 0.010201 Max Depth: 36 Max Features: sqrt Max Leaf Nodes: 45 tol: 0.1375814950889287 Score: 838.0\n",
      "Criterion: friedman_mse n_estimators: 198 Loss: deviance Learning Rate: 0.1 Min Samples/Leaf: 0.010201 Max Depth: 36 Max Features: sqrt Max Leaf Nodes: 45 tol: 0.1375814950889287 Score: 5538.0\n",
      "Criterion: friedman_mse n_estimators: 134 Loss: deviance Learning Rate: 0.1 Min Samples/Leaf: 0.0101 Max Depth: 86 Max Features: sqrt Max Leaf Nodes: 45 tol: 0.1375814950889287 Score: 838.0\n",
      "Criterion: friedman_mse n_estimators: 198 Loss: deviance Learning Rate: 0.1 Min Samples/Leaf: 0.0101 Max Depth: 86 Max Features: sqrt Max Leaf Nodes: 45 tol: 0.1375814950889287 Score: 5538.0\n",
      "Criterion: friedman_mse n_estimators: 134 Loss: deviance Learning Rate: 0.1 Min Samples/Leaf: 0.009999 Max Depth: 86 Max Features: sqrt Max Leaf Nodes: 45 tol: 0.1375814950889287 Score: 3576.0\n",
      "Criterion: friedman_mse n_estimators: 198 Loss: deviance Learning Rate: 0.1 Min Samples/Leaf: 0.009999 Max Depth: 86 Max Features: sqrt Max Leaf Nodes: 45 tol: 0.1375814950889287 Score: 2557.0\n",
      "Criterion: friedman_mse n_estimators: 134 Loss: deviance Learning Rate: 0.1 Min Samples/Leaf: 0.010201 Max Depth: 86 Max Features: sqrt Max Leaf Nodes: 45 tol: 0.1375814950889287 Score: 838.0\n",
      "Criterion: friedman_mse n_estimators: 198 Loss: deviance Learning Rate: 0.1 Min Samples/Leaf: 0.010201 Max Depth: 86 Max Features: sqrt Max Leaf Nodes: 45 tol: 0.1375814950889287 Score: 5538.0\n",
      "Criterion: friedman_mse n_estimators: 134 Loss: deviance Learning Rate: 0.1 Min Samples/Leaf: 0.0101 Max Depth: 36 Max Features: log2 Max Leaf Nodes: 45 tol: 0.1375814950889287 Score: -658.0\n",
      "Criterion: friedman_mse n_estimators: 198 Loss: deviance Learning Rate: 0.1 Min Samples/Leaf: 0.0101 Max Depth: 36 Max Features: log2 Max Leaf Nodes: 45 tol: 0.1375814950889287 Score: -504.0\n",
      "Criterion: friedman_mse n_estimators: 134 Loss: deviance Learning Rate: 0.1 Min Samples/Leaf: 0.009999 Max Depth: 36 Max Features: log2 Max Leaf Nodes: 45 tol: 0.1375814950889287 Score: 1929.0\n",
      "Criterion: friedman_mse n_estimators: 198 Loss: deviance Learning Rate: 0.1 Min Samples/Leaf: 0.009999 Max Depth: 36 Max Features: log2 Max Leaf Nodes: 45 tol: 0.1375814950889287 Score: 4849.0\n",
      "Criterion: friedman_mse n_estimators: 134 Loss: deviance Learning Rate: 0.1 Min Samples/Leaf: 0.010201 Max Depth: 36 Max Features: log2 Max Leaf Nodes: 45 tol: 0.1375814950889287 Score: -658.0\n",
      "Criterion: friedman_mse n_estimators: 198 Loss: deviance Learning Rate: 0.1 Min Samples/Leaf: 0.010201 Max Depth: 36 Max Features: log2 Max Leaf Nodes: 45 tol: 0.1375814950889287 Score: -504.0\n",
      "Criterion: friedman_mse n_estimators: 134 Loss: deviance Learning Rate: 0.1 Min Samples/Leaf: 0.0101 Max Depth: 86 Max Features: log2 Max Leaf Nodes: 45 tol: 0.1375814950889287 Score: -658.0\n",
      "Criterion: friedman_mse n_estimators: 198 Loss: deviance Learning Rate: 0.1 Min Samples/Leaf: 0.0101 Max Depth: 86 Max Features: log2 Max Leaf Nodes: 45 tol: 0.1375814950889287 Score: -504.0\n",
      "Criterion: friedman_mse n_estimators: 134 Loss: deviance Learning Rate: 0.1 Min Samples/Leaf: 0.009999 Max Depth: 86 Max Features: log2 Max Leaf Nodes: 45 tol: 0.1375814950889287 Score: 1929.0\n",
      "Criterion: friedman_mse n_estimators: 198 Loss: deviance Learning Rate: 0.1 Min Samples/Leaf: 0.009999 Max Depth: 86 Max Features: log2 Max Leaf Nodes: 45 tol: 0.1375814950889287 Score: 4849.0\n",
      "Criterion: friedman_mse n_estimators: 134 Loss: deviance Learning Rate: 0.1 Min Samples/Leaf: 0.010201 Max Depth: 86 Max Features: log2 Max Leaf Nodes: 45 tol: 0.1375814950889287 Score: -658.0\n",
      "Criterion: friedman_mse n_estimators: 198 Loss: deviance Learning Rate: 0.1 Min Samples/Leaf: 0.010201 Max Depth: 86 Max Features: log2 Max Leaf Nodes: 45 tol: 0.1375814950889287 Score: -504.0\n"
     ]
    },
    {
     "name": "stdout",
     "output_type": "stream",
     "text": [
      "Criterion: friedman_mse n_estimators: 134 Loss: deviance Learning Rate: 0.1 Min Samples/Leaf: 0.0101 Max Depth: 36 Max Features: None Max Leaf Nodes: 45 tol: 0.1375814950889287 Score: 6921.0\n",
      "Criterion: friedman_mse n_estimators: 198 Loss: deviance Learning Rate: 0.1 Min Samples/Leaf: 0.0101 Max Depth: 36 Max Features: None Max Leaf Nodes: 45 tol: 0.1375814950889287 Score: 4575.0\n",
      "Criterion: friedman_mse n_estimators: 134 Loss: deviance Learning Rate: 0.1 Min Samples/Leaf: 0.009999 Max Depth: 36 Max Features: None Max Leaf Nodes: 45 tol: 0.1375814950889287 Score: 2004.0\n",
      "Criterion: friedman_mse n_estimators: 198 Loss: deviance Learning Rate: 0.1 Min Samples/Leaf: 0.009999 Max Depth: 36 Max Features: None Max Leaf Nodes: 45 tol: 0.1375814950889287 Score: 1345.0\n",
      "Criterion: friedman_mse n_estimators: 134 Loss: deviance Learning Rate: 0.1 Min Samples/Leaf: 0.010201 Max Depth: 36 Max Features: None Max Leaf Nodes: 45 tol: 0.1375814950889287 Score: 6921.0\n",
      "Criterion: friedman_mse n_estimators: 198 Loss: deviance Learning Rate: 0.1 Min Samples/Leaf: 0.010201 Max Depth: 36 Max Features: None Max Leaf Nodes: 45 tol: 0.1375814950889287 Score: 4575.0\n",
      "Criterion: friedman_mse n_estimators: 134 Loss: deviance Learning Rate: 0.1 Min Samples/Leaf: 0.0101 Max Depth: 86 Max Features: None Max Leaf Nodes: 45 tol: 0.1375814950889287 Score: 4219.0\n",
      "Criterion: friedman_mse n_estimators: 198 Loss: deviance Learning Rate: 0.1 Min Samples/Leaf: 0.0101 Max Depth: 86 Max Features: None Max Leaf Nodes: 45 tol: 0.1375814950889287 Score: -1417.0\n",
      "Criterion: friedman_mse n_estimators: 134 Loss: deviance Learning Rate: 0.1 Min Samples/Leaf: 0.009999 Max Depth: 86 Max Features: None Max Leaf Nodes: 45 tol: 0.1375814950889287 Score: 2004.0\n",
      "Criterion: friedman_mse n_estimators: 198 Loss: deviance Learning Rate: 0.1 Min Samples/Leaf: 0.009999 Max Depth: 86 Max Features: None Max Leaf Nodes: 45 tol: 0.1375814950889287 Score: 1345.0\n",
      "Criterion: friedman_mse n_estimators: 134 Loss: deviance Learning Rate: 0.1 Min Samples/Leaf: 0.010201 Max Depth: 86 Max Features: None Max Leaf Nodes: 45 tol: 0.1375814950889287 Score: 4219.0\n",
      "Criterion: friedman_mse n_estimators: 198 Loss: deviance Learning Rate: 0.1 Min Samples/Leaf: 0.010201 Max Depth: 86 Max Features: None Max Leaf Nodes: 45 tol: 0.1375814950889287 Score: -1417.0\n",
      "Real output model: GradientBoostingClassifier(max_depth=36, max_features='sqrt',\n",
      "                           max_leaf_nodes=644, min_samples_leaf=0.0101,\n",
      "                           n_estimators=134, random_state=75)\n",
      "\n",
      "model_3\n",
      "GradientBoostingClassifier(max_depth=36, max_features='sqrt',\n",
      "                           max_leaf_nodes=644, min_samples_leaf=0.0101,\n",
      "                           n_estimators=134, random_state=75)\n",
      "[\"R_Women's Bantamweight_rank\", \"R_Women's Featherweight_rank\", 'B_Lightweight_rank', 'R_Featherweight_rank', 'R_Light Heavyweight_rank', 'total_title_bout_dif', 'R_losses', 'B_win_by_Submission', 'Blue - DEC', 'B_draw', 'R_Middleweight_rank', 'B_avg_SIG_STR_pct', \"B_Women's Strawweight_rank\", 'age_dif', 'B_Middleweight_rank', 'avg_sub_att_dif', 'avg_td_dif', 'B_avg_SUB_ATT', \"R_Women's Flyweight_rank\", 'R_Pound-for-Pound_rank', 'R_Reach_cms', 'R_wins', 'B_ev', 'R_Weight_lbs', 'sub_dif', 'R_ev', 'B_avg_TD_landed']\n",
      "195\n",
      "\n"
     ]
    },
    {
     "data": {
      "text/plain": [
       "(2810, 27)"
      ]
     },
     "metadata": {},
     "output_type": "display_data"
    },
    {
     "data": {
      "text/plain": [
       "(2810,)"
      ]
     },
     "metadata": {},
     "output_type": "display_data"
    },
    {
     "data": {
      "text/plain": [
       "(2810, 6)"
      ]
     },
     "metadata": {},
     "output_type": "display_data"
    },
    {
     "data": {
      "text/plain": [
       "(241, 27)"
      ]
     },
     "metadata": {},
     "output_type": "display_data"
    },
    {
     "data": {
      "text/plain": [
       "(241,)"
      ]
     },
     "metadata": {},
     "output_type": "display_data"
    },
    {
     "data": {
      "text/plain": [
       "(241, 6)"
      ]
     },
     "metadata": {},
     "output_type": "display_data"
    },
    {
     "name": "stdout",
     "output_type": "stream",
     "text": [
      "250     3\n",
      "251     3\n",
      "252     4\n",
      "253     3\n",
      "254     0\n",
      "       ..\n",
      "4192    0\n",
      "4200    1\n",
      "4201    3\n",
      "4202    5\n",
      "4203    5\n",
      "Name: label, Length: 2810, dtype: int64\n",
      "Real Score: 3300.0\n",
      "HI\n",
      "HI\n",
      "HI\n",
      "HI\n",
      "HI\n",
      "0 -37314.35816790918\n",
      "1 -36121.977215528226\n",
      "2 -35118.376482927495\n",
      "3 -34315.376482927495\n",
      "4 -34561.376482927495\n",
      "5 -34481.80505435607\n",
      "6 -33400.76157609519\n",
      "7 -33742.718097834324\n",
      "8 -34292.88486156952\n",
      "9 -32874.71660111255\n",
      "10 -31494.71660111255\n",
      "11 -32193.430803576757\n",
      "12 -32969.95503033814\n",
      "13 -30849.294688782164\n",
      "14 -29769.25121052129\n",
      "15 -28596.648088434296\n",
      "16 -26950.314755100968\n",
      "17 -26424.615462145863\n",
      "18 -25704.300463419095\n",
      "19 -24075.656588775222\n",
      "20 -25695.385317792687\n",
      "21 -25525.718651126015\n",
      "22 -26578.718651126015\n",
      "23 -24443.98650826887\n",
      "24 -25559.224603506962\n",
      "25 -24964.224603506962\n",
      "26 -23320.981182454336\n",
      "27 -21967.94839556908\n",
      "28 -22896.74204636274\n",
      "29 -23472.027760648456\n",
      "30 -23094.33489279666\n",
      "31 -23721.962538299307\n",
      "32 -23798.295871632643\n",
      "33 -23130.0371303739\n",
      "34 -21426.002647615278\n",
      "35 -22824.93503957078\n",
      "36 -22300.019288655036\n",
      "37 -23374.887066038933\n",
      "38 -22655.632828750797\n",
      "39 -22561.555905673875\n",
      "40 -21382.506193481306\n",
      "41 -20846.471710722686\n",
      "42 -21244.50532416807\n",
      "43 -20156.50532416807\n",
      "44 -22113.428401091143\n",
      "45 -20781.95810327302\n",
      "46 -19186.032177347093\n",
      "47 -17110.54830637935\n",
      "48 -16570.54830637935\n",
      "49 -15004.790730621775\n",
      "50 -16542.829946308048\n",
      "51 -16310.436006914106\n",
      "52 -15754.068190822154\n",
      "53 -15218.584319854412\n",
      "54 -15406.540841593538\n",
      "55 -14754.540841593545\n",
      "56 -14479.789392395494\n",
      "57 -13881.712469318572\n",
      "58 -12931.379135985235\n",
      "59 -11889.379135985237\n",
      "60 -11036.54030814641\n",
      "61 -10013.868051199815\n",
      "62 -9345.272717330146\n",
      "63 -8886.753236810666\n",
      "64 -8699.676313733742\n",
      "65 -7431.205725498448\n",
      "66 -6016.205725498448\n",
      "67 -5016.20572549845\n",
      "68 -3820.1288024215264\n",
      "69 -2155.1288024215264\n",
      "70 -2554.2028764956012\n",
      "71 -2449.2028764956012\n",
      "72 -1897.5036895037301\n",
      "73 -2771.3528355702274\n",
      "74 -2464.506681724073\n",
      "75 -4264.506681724073\n",
      "76 -3806.705627705627\n",
      "77 -4421.705627705627\n",
      "78 -3654.614718614718\n",
      "79 -4353.614718614718\n",
      "80 -3957.614718614718\n",
      "81 -3283.614718614718\n",
      "82 -3209.8528138528136\n",
      "83 -1979.8528138528136\n",
      "84 -1009.8528138528136\n",
      "85 -1091.090909090909\n",
      "86 -369.0\n",
      "87 -522.0\n",
      "88 1068.0\n",
      "89 1361.0\n",
      "90 2181.0\n",
      "91 2913.0\n",
      "92 2352.0\n",
      "93 2977.0\n",
      "94 4077.0\n",
      "95 4142.0\n",
      "96 5268.0\n",
      "97 5818.0\n",
      "98 5353.0\n",
      "99 6348.0\n",
      "100 5934.0\n",
      "101 5244.0\n",
      "102 6224.0\n",
      "103 5919.0\n",
      "104 7019.0\n",
      "105 5795.0\n",
      "106 6670.0\n",
      "107 6971.0\n",
      "108 6796.0\n",
      "109 7521.0\n",
      "110 7061.0\n",
      "111 7771.0\n",
      "112 7356.0\n",
      "113 8062.0\n",
      "114 8760.0\n",
      "115 10060.0\n",
      "116 10010.0\n",
      "117 10520.0\n",
      "118 11320.0\n",
      "119 11295.0\n",
      "120 11048.0\n",
      "121 11156.0\n",
      "122 11763.0\n",
      "123 11343.0\n",
      "124 11773.0\n",
      "125 11793.0\n",
      "126 12294.0\n",
      "127 13394.0\n",
      "128 13014.0\n",
      "129 13482.0\n",
      "130 13813.0\n",
      "131 14303.0\n",
      "132 13028.0\n",
      "133 12610.0\n",
      "134 13135.0\n",
      "135 12503.0\n",
      "136 11982.0\n",
      "137 12150.0\n",
      "138 11941.0\n",
      "139 12390.0\n",
      "140 12794.0\n",
      "141 13033.0\n",
      "142 13090.0\n",
      "143 14043.0\n",
      "144 13990.0\n",
      "145 14420.0\n",
      "146 14295.0\n",
      "147 13282.0\n",
      "148 13178.0\n",
      "149 13848.0\n",
      "150 14306.0\n",
      "151 15096.0\n",
      "152 14272.0\n",
      "153 14672.0\n",
      "154 14897.0\n",
      "155 15135.0\n",
      "156 15089.0\n",
      "157 15339.0\n",
      "158 15691.0\n",
      "159 16206.0\n",
      "160 15656.0\n",
      "161 13889.0\n",
      "162 13964.0\n",
      "163 14664.0\n",
      "164 14714.0\n",
      "165 14529.0\n",
      "166 14426.0\n",
      "167 13691.0\n",
      "168 14186.0\n",
      "169 14986.0\n",
      "170 14835.0\n",
      "171 14651.0\n",
      "172 14601.0\n",
      "173 15301.0\n",
      "174 14844.0\n",
      "175 15144.0\n",
      "176 15584.0\n",
      "177 14676.0\n",
      "178 14651.0\n",
      "179 14851.0\n",
      "180 15391.0\n",
      "181 15176.0\n",
      "182 15173.0\n",
      "183 15473.0\n",
      "184 15748.0\n",
      "185 16298.0\n",
      "186 15803.0\n",
      "187 15263.0\n",
      "188 15313.0\n",
      "189 15513.0\n",
      "190 15888.0\n",
      "191 15800.0\n",
      "192 15826.0\n",
      "193 15076.0\n",
      "194 15476.0\n",
      "195 15261.0\n",
      "196 14412.0\n",
      "197 12397.0\n",
      "198 12188.0\n",
      "199 11963.0\n",
      "200 11463.0\n",
      "201 11963.0\n",
      "202 11247.0\n",
      "203 11547.0\n",
      "204 11637.0\n",
      "205 10692.0\n",
      "206 10807.0\n",
      "207 11007.0\n",
      "208 11098.0\n",
      "209 10915.0\n",
      "210 11215.0\n",
      "211 9540.0\n",
      "212 9640.0\n",
      "213 9840.0\n",
      "214 9060.0\n",
      "215 9260.0\n",
      "216 9160.0\n",
      "217 8973.0\n",
      "218 9373.0\n",
      "219 8358.0\n",
      "220 8658.0\n",
      "221 9025.0\n",
      "222 9125.0\n",
      "223 9415.0\n",
      "224 8765.0\n",
      "225 7034.0\n",
      "226 7334.0\n",
      "227 7834.0\n",
      "228 8034.0\n",
      "229 7695.0\n",
      "230 7995.0\n",
      "231 8195.0\n",
      "232 8095.0\n",
      "233 8295.0\n",
      "234 8695.0\n",
      "235 9195.0\n",
      "236 8814.0\n",
      "237 6614.0\n",
      "238 6714.0\n",
      "239 6489.0\n",
      "240 5834.0\n",
      "241 5934.0\n",
      "242 6034.0\n",
      "243 6234.0\n",
      "244 6434.0\n",
      "245 6634.0\n",
      "246 6934.0\n",
      "247 7134.0\n",
      "248 7334.0\n",
      "249 6774.0\n",
      "\n",
      "model_3\n",
      "GradientBoostingClassifier(max_depth=36, max_features='sqrt',\n",
      "                           max_leaf_nodes=644, min_samples_leaf=0.0101,\n",
      "                           n_estimators=134, random_state=75)\n",
      "[\"R_Women's Bantamweight_rank\", \"R_Women's Featherweight_rank\", 'B_Lightweight_rank', 'R_Featherweight_rank', 'R_Light Heavyweight_rank', 'total_title_bout_dif', 'R_losses', 'B_win_by_Submission', 'Blue - DEC', 'B_draw', 'R_Middleweight_rank', 'B_avg_SIG_STR_pct', \"B_Women's Strawweight_rank\", 'age_dif', 'B_Middleweight_rank', 'avg_sub_att_dif', 'avg_td_dif', 'B_avg_SUB_ATT', \"R_Women's Flyweight_rank\", 'R_Pound-for-Pound_rank', 'R_Reach_cms', 'R_wins', 'B_ev', 'R_Weight_lbs', 'sub_dif', 'R_ev', 'B_avg_TD_landed']\n",
      "185\n",
      "\n"
     ]
    },
    {
     "data": {
      "text/plain": [
       "(2810, 27)"
      ]
     },
     "metadata": {},
     "output_type": "display_data"
    },
    {
     "data": {
      "text/plain": [
       "(2810,)"
      ]
     },
     "metadata": {},
     "output_type": "display_data"
    },
    {
     "data": {
      "text/plain": [
       "(2810, 6)"
      ]
     },
     "metadata": {},
     "output_type": "display_data"
    },
    {
     "data": {
      "text/plain": [
       "(241, 27)"
      ]
     },
     "metadata": {},
     "output_type": "display_data"
    },
    {
     "data": {
      "text/plain": [
       "(241,)"
      ]
     },
     "metadata": {},
     "output_type": "display_data"
    },
    {
     "data": {
      "text/plain": [
       "(241, 6)"
      ]
     },
     "metadata": {},
     "output_type": "display_data"
    },
    {
     "name": "stdout",
     "output_type": "stream",
     "text": [
      "250     3\n",
      "251     3\n",
      "252     4\n",
      "253     3\n",
      "254     0\n",
      "       ..\n",
      "4192    0\n",
      "4200    1\n",
      "4201    3\n",
      "4202    5\n",
      "4203    5\n",
      "Name: label, Length: 2810, dtype: int64\n",
      "Real Score: 2800.0\n",
      "HI\n",
      "HI\n",
      "HI\n",
      "HI\n",
      "HI\n",
      "The original score is 16298.0\n",
      "\n",
      "model_3\n",
      "GradientBoostingClassifier(max_depth=36, max_features='sqrt',\n",
      "                           max_leaf_nodes=644, min_samples_leaf=0.0101,\n",
      "                           n_estimators=134, random_state=75)\n",
      "[\"R_Women's Bantamweight_rank\", \"R_Women's Featherweight_rank\", 'B_Lightweight_rank', 'R_Featherweight_rank', 'R_Light Heavyweight_rank', 'total_title_bout_dif', 'R_losses', 'B_win_by_Submission', 'Blue - DEC', 'B_draw', 'R_Middleweight_rank', 'B_avg_SIG_STR_pct', \"B_Women's Strawweight_rank\", 'age_dif', 'B_Middleweight_rank', 'avg_sub_att_dif', 'avg_td_dif', 'B_avg_SUB_ATT', \"R_Women's Flyweight_rank\", 'R_Pound-for-Pound_rank', 'R_Reach_cms', 'R_wins', 'B_ev', 'R_Weight_lbs', 'sub_dif', 'R_ev', 'B_avg_TD_landed']\n",
      "185\n",
      "\n"
     ]
    },
    {
     "data": {
      "text/plain": [
       "(2810, 27)"
      ]
     },
     "metadata": {},
     "output_type": "display_data"
    },
    {
     "data": {
      "text/plain": [
       "(2810,)"
      ]
     },
     "metadata": {},
     "output_type": "display_data"
    },
    {
     "data": {
      "text/plain": [
       "(2810, 6)"
      ]
     },
     "metadata": {},
     "output_type": "display_data"
    },
    {
     "data": {
      "text/plain": [
       "(241, 27)"
      ]
     },
     "metadata": {},
     "output_type": "display_data"
    },
    {
     "data": {
      "text/plain": [
       "(241,)"
      ]
     },
     "metadata": {},
     "output_type": "display_data"
    },
    {
     "data": {
      "text/plain": [
       "(241, 6)"
      ]
     },
     "metadata": {},
     "output_type": "display_data"
    },
    {
     "name": "stdout",
     "output_type": "stream",
     "text": [
      "250     3\n",
      "251     3\n",
      "252     4\n",
      "253     3\n",
      "254     0\n",
      "       ..\n",
      "4192    0\n",
      "4200    1\n",
      "4201    3\n",
      "4202    5\n",
      "4203    5\n",
      "Name: label, Length: 2810, dtype: int64\n",
      "Real Score: 2800.0\n",
      "HI\n",
      "HI\n",
      "HI\n",
      "HI\n",
      "HI\n",
      "The EV is different\n",
      "OLD:\n",
      "195\n",
      "NEW:\n",
      "185\n",
      "Current best score is: 16298.0\n",
      "NO IMPROVEMENT\n",
      "FINAL BEST SCORE: 16298.0\n",
      "\n",
      "model_3\n",
      "GradientBoostingClassifier(max_depth=36, max_features='sqrt',\n",
      "                           max_leaf_nodes=644, min_samples_leaf=0.0101,\n",
      "                           n_estimators=134, random_state=75)\n",
      "[\"R_Women's Bantamweight_rank\", \"R_Women's Featherweight_rank\", 'B_Lightweight_rank', 'R_Featherweight_rank', 'R_Light Heavyweight_rank', 'total_title_bout_dif', 'R_losses', 'B_win_by_Submission', 'Blue - DEC', 'B_draw', 'R_Middleweight_rank', 'B_avg_SIG_STR_pct', \"B_Women's Strawweight_rank\", 'age_dif', 'B_Middleweight_rank', 'avg_sub_att_dif', 'avg_td_dif', 'B_avg_SUB_ATT', \"R_Women's Flyweight_rank\", 'R_Pound-for-Pound_rank', 'R_Reach_cms', 'R_wins', 'B_ev', 'R_Weight_lbs', 'sub_dif', 'R_ev', 'B_avg_TD_landed']\n",
      "185\n",
      "\n"
     ]
    },
    {
     "data": {
      "text/plain": [
       "(2810, 27)"
      ]
     },
     "metadata": {},
     "output_type": "display_data"
    },
    {
     "data": {
      "text/plain": [
       "(2810,)"
      ]
     },
     "metadata": {},
     "output_type": "display_data"
    },
    {
     "data": {
      "text/plain": [
       "(2810, 6)"
      ]
     },
     "metadata": {},
     "output_type": "display_data"
    },
    {
     "data": {
      "text/plain": [
       "(241, 27)"
      ]
     },
     "metadata": {},
     "output_type": "display_data"
    },
    {
     "data": {
      "text/plain": [
       "(241,)"
      ]
     },
     "metadata": {},
     "output_type": "display_data"
    },
    {
     "data": {
      "text/plain": [
       "(241, 6)"
      ]
     },
     "metadata": {},
     "output_type": "display_data"
    },
    {
     "name": "stdout",
     "output_type": "stream",
     "text": [
      "250     3\n",
      "251     3\n",
      "252     4\n",
      "253     3\n",
      "254     0\n",
      "       ..\n",
      "4192    0\n",
      "4200    1\n",
      "4201    3\n",
      "4202    5\n",
      "4203    5\n",
      "Name: label, Length: 2810, dtype: int64\n",
      "Real Score: 2800.0\n",
      "HI\n",
      "HI\n",
      "HI\n",
      "HI\n",
      "HI\n",
      "HI\n",
      "\n",
      "\n",
      "Starting New Run\n",
      "\n",
      "\n",
      "Previous Best Score: 16298.0\n",
      "144\n",
      "Criterion: friedman_mse n_estimators: 134 Loss: deviance Learning Rate: 0.1 Min Samples/Leaf: 0.0101 Max Depth: 36 Max Features: sqrt Max Leaf Nodes: 644 tol: 0.0001 Score: 16298.0\n",
      "Criterion: friedman_mse n_estimators: 128 Loss: deviance Learning Rate: 0.1 Min Samples/Leaf: 0.0101 Max Depth: 36 Max Features: sqrt Max Leaf Nodes: 644 tol: 0.0001 Score: 11752.0\n",
      "Criterion: friedman_mse n_estimators: 134 Loss: deviance Learning Rate: 0.1 Min Samples/Leaf: 0.009999 Max Depth: 36 Max Features: sqrt Max Leaf Nodes: 644 tol: 0.0001 Score: -2844.0\n",
      "Criterion: friedman_mse n_estimators: 128 Loss: deviance Learning Rate: 0.1 Min Samples/Leaf: 0.009999 Max Depth: 36 Max Features: sqrt Max Leaf Nodes: 644 tol: 0.0001 Score: -2522.0\n",
      "Criterion: friedman_mse n_estimators: 134 Loss: deviance Learning Rate: 0.1 Min Samples/Leaf: 0.010201 Max Depth: 36 Max Features: sqrt Max Leaf Nodes: 644 tol: 0.0001 Score: 16298.0\n",
      "Criterion: friedman_mse n_estimators: 128 Loss: deviance Learning Rate: 0.1 Min Samples/Leaf: 0.010201 Max Depth: 36 Max Features: sqrt Max Leaf Nodes: 644 tol: 0.0001 Score: 11752.0\n",
      "Criterion: friedman_mse n_estimators: 134 Loss: deviance Learning Rate: 0.1 Min Samples/Leaf: 0.0101 Max Depth: 40 Max Features: sqrt Max Leaf Nodes: 644 tol: 0.0001 Score: 10327.0\n",
      "Criterion: friedman_mse n_estimators: 128 Loss: deviance Learning Rate: 0.1 Min Samples/Leaf: 0.0101 Max Depth: 40 Max Features: sqrt Max Leaf Nodes: 644 tol: 0.0001 Score: 10449.0\n",
      "Criterion: friedman_mse n_estimators: 134 Loss: deviance Learning Rate: 0.1 Min Samples/Leaf: 0.009999 Max Depth: 40 Max Features: sqrt Max Leaf Nodes: 644 tol: 0.0001 Score: -3661.0\n",
      "Criterion: friedman_mse n_estimators: 128 Loss: deviance Learning Rate: 0.1 Min Samples/Leaf: 0.009999 Max Depth: 40 Max Features: sqrt Max Leaf Nodes: 644 tol: 0.0001 Score: -1300.0\n",
      "Criterion: friedman_mse n_estimators: 134 Loss: deviance Learning Rate: 0.1 Min Samples/Leaf: 0.010201 Max Depth: 40 Max Features: sqrt Max Leaf Nodes: 644 tol: 0.0001 Score: 10327.0\n",
      "Criterion: friedman_mse n_estimators: 128 Loss: deviance Learning Rate: 0.1 Min Samples/Leaf: 0.010201 Max Depth: 40 Max Features: sqrt Max Leaf Nodes: 644 tol: 0.0001 Score: 10449.0\n",
      "Criterion: friedman_mse n_estimators: 134 Loss: deviance Learning Rate: 0.1 Min Samples/Leaf: 0.0101 Max Depth: 36 Max Features: log2 Max Leaf Nodes: 644 tol: 0.0001 Score: 4004.0\n",
      "Criterion: friedman_mse n_estimators: 128 Loss: deviance Learning Rate: 0.1 Min Samples/Leaf: 0.0101 Max Depth: 36 Max Features: log2 Max Leaf Nodes: 644 tol: 0.0001 Score: 4848.0\n",
      "Criterion: friedman_mse n_estimators: 134 Loss: deviance Learning Rate: 0.1 Min Samples/Leaf: 0.009999 Max Depth: 36 Max Features: log2 Max Leaf Nodes: 644 tol: 0.0001 Score: 3498.0\n",
      "Criterion: friedman_mse n_estimators: 128 Loss: deviance Learning Rate: 0.1 Min Samples/Leaf: 0.009999 Max Depth: 36 Max Features: log2 Max Leaf Nodes: 644 tol: 0.0001 Score: 2753.0\n",
      "Criterion: friedman_mse n_estimators: 134 Loss: deviance Learning Rate: 0.1 Min Samples/Leaf: 0.010201 Max Depth: 36 Max Features: log2 Max Leaf Nodes: 644 tol: 0.0001 Score: 4004.0\n",
      "Criterion: friedman_mse n_estimators: 128 Loss: deviance Learning Rate: 0.1 Min Samples/Leaf: 0.010201 Max Depth: 36 Max Features: log2 Max Leaf Nodes: 644 tol: 0.0001 Score: 4848.0\n",
      "Criterion: friedman_mse n_estimators: 134 Loss: deviance Learning Rate: 0.1 Min Samples/Leaf: 0.0101 Max Depth: 40 Max Features: log2 Max Leaf Nodes: 644 tol: 0.0001 Score: 4670.0\n",
      "Criterion: friedman_mse n_estimators: 128 Loss: deviance Learning Rate: 0.1 Min Samples/Leaf: 0.0101 Max Depth: 40 Max Features: log2 Max Leaf Nodes: 644 tol: 0.0001 Score: 7597.0\n",
      "Criterion: friedman_mse n_estimators: 134 Loss: deviance Learning Rate: 0.1 Min Samples/Leaf: 0.009999 Max Depth: 40 Max Features: log2 Max Leaf Nodes: 644 tol: 0.0001 Score: 2591.0\n",
      "Criterion: friedman_mse n_estimators: 128 Loss: deviance Learning Rate: 0.1 Min Samples/Leaf: 0.009999 Max Depth: 40 Max Features: log2 Max Leaf Nodes: 644 tol: 0.0001 Score: 6551.0\n",
      "Criterion: friedman_mse n_estimators: 134 Loss: deviance Learning Rate: 0.1 Min Samples/Leaf: 0.010201 Max Depth: 40 Max Features: log2 Max Leaf Nodes: 644 tol: 0.0001 Score: 4670.0\n",
      "Criterion: friedman_mse n_estimators: 128 Loss: deviance Learning Rate: 0.1 Min Samples/Leaf: 0.010201 Max Depth: 40 Max Features: log2 Max Leaf Nodes: 644 tol: 0.0001 Score: 7597.0\n",
      "Criterion: friedman_mse n_estimators: 134 Loss: deviance Learning Rate: 0.1 Min Samples/Leaf: 0.0101 Max Depth: 36 Max Features: None Max Leaf Nodes: 644 tol: 0.0001 Score: 8876.0\n",
      "Criterion: friedman_mse n_estimators: 128 Loss: deviance Learning Rate: 0.1 Min Samples/Leaf: 0.0101 Max Depth: 36 Max Features: None Max Leaf Nodes: 644 tol: 0.0001 Score: 10186.0\n",
      "Criterion: friedman_mse n_estimators: 134 Loss: deviance Learning Rate: 0.1 Min Samples/Leaf: 0.009999 Max Depth: 36 Max Features: None Max Leaf Nodes: 644 tol: 0.0001 Score: 8896.0\n",
      "Criterion: friedman_mse n_estimators: 128 Loss: deviance Learning Rate: 0.1 Min Samples/Leaf: 0.009999 Max Depth: 36 Max Features: None Max Leaf Nodes: 644 tol: 0.0001 Score: 8221.0\n",
      "Criterion: friedman_mse n_estimators: 134 Loss: deviance Learning Rate: 0.1 Min Samples/Leaf: 0.010201 Max Depth: 36 Max Features: None Max Leaf Nodes: 644 tol: 0.0001 Score: 8876.0\n",
      "Criterion: friedman_mse n_estimators: 128 Loss: deviance Learning Rate: 0.1 Min Samples/Leaf: 0.010201 Max Depth: 36 Max Features: None Max Leaf Nodes: 644 tol: 0.0001 Score: 10186.0\n",
      "Criterion: friedman_mse n_estimators: 134 Loss: deviance Learning Rate: 0.1 Min Samples/Leaf: 0.0101 Max Depth: 40 Max Features: None Max Leaf Nodes: 644 tol: 0.0001 Score: 6410.0\n",
      "Criterion: friedman_mse n_estimators: 128 Loss: deviance Learning Rate: 0.1 Min Samples/Leaf: 0.0101 Max Depth: 40 Max Features: None Max Leaf Nodes: 644 tol: 0.0001 Score: 5786.0\n",
      "Criterion: friedman_mse n_estimators: 134 Loss: deviance Learning Rate: 0.1 Min Samples/Leaf: 0.009999 Max Depth: 40 Max Features: None Max Leaf Nodes: 644 tol: 0.0001 Score: 6818.0\n",
      "Criterion: friedman_mse n_estimators: 128 Loss: deviance Learning Rate: 0.1 Min Samples/Leaf: 0.009999 Max Depth: 40 Max Features: None Max Leaf Nodes: 644 tol: 0.0001 Score: 3926.0\n",
      "Criterion: friedman_mse n_estimators: 134 Loss: deviance Learning Rate: 0.1 Min Samples/Leaf: 0.010201 Max Depth: 40 Max Features: None Max Leaf Nodes: 644 tol: 0.0001 Score: 6410.0\n",
      "Criterion: friedman_mse n_estimators: 128 Loss: deviance Learning Rate: 0.1 Min Samples/Leaf: 0.010201 Max Depth: 40 Max Features: None Max Leaf Nodes: 644 tol: 0.0001 Score: 5786.0\n",
      "Criterion: friedman_mse n_estimators: 134 Loss: deviance Learning Rate: 0.1 Min Samples/Leaf: 0.0101 Max Depth: 36 Max Features: sqrt Max Leaf Nodes: 827 tol: 0.0001 Score: 16298.0\n",
      "Criterion: friedman_mse n_estimators: 128 Loss: deviance Learning Rate: 0.1 Min Samples/Leaf: 0.0101 Max Depth: 36 Max Features: sqrt Max Leaf Nodes: 827 tol: 0.0001 Score: 11752.0\n",
      "Criterion: friedman_mse n_estimators: 134 Loss: deviance Learning Rate: 0.1 Min Samples/Leaf: 0.009999 Max Depth: 36 Max Features: sqrt Max Leaf Nodes: 827 tol: 0.0001 Score: -2844.0\n",
      "Criterion: friedman_mse n_estimators: 128 Loss: deviance Learning Rate: 0.1 Min Samples/Leaf: 0.009999 Max Depth: 36 Max Features: sqrt Max Leaf Nodes: 827 tol: 0.0001 Score: -2522.0\n",
      "Criterion: friedman_mse n_estimators: 134 Loss: deviance Learning Rate: 0.1 Min Samples/Leaf: 0.010201 Max Depth: 36 Max Features: sqrt Max Leaf Nodes: 827 tol: 0.0001 Score: 16298.0\n",
      "Criterion: friedman_mse n_estimators: 128 Loss: deviance Learning Rate: 0.1 Min Samples/Leaf: 0.010201 Max Depth: 36 Max Features: sqrt Max Leaf Nodes: 827 tol: 0.0001 Score: 11752.0\n",
      "Criterion: friedman_mse n_estimators: 134 Loss: deviance Learning Rate: 0.1 Min Samples/Leaf: 0.0101 Max Depth: 40 Max Features: sqrt Max Leaf Nodes: 827 tol: 0.0001 Score: 10327.0\n",
      "Criterion: friedman_mse n_estimators: 128 Loss: deviance Learning Rate: 0.1 Min Samples/Leaf: 0.0101 Max Depth: 40 Max Features: sqrt Max Leaf Nodes: 827 tol: 0.0001 Score: 10449.0\n"
     ]
    },
    {
     "name": "stdout",
     "output_type": "stream",
     "text": [
      "Criterion: friedman_mse n_estimators: 134 Loss: deviance Learning Rate: 0.1 Min Samples/Leaf: 0.009999 Max Depth: 40 Max Features: sqrt Max Leaf Nodes: 827 tol: 0.0001 Score: -3661.0\n",
      "Criterion: friedman_mse n_estimators: 128 Loss: deviance Learning Rate: 0.1 Min Samples/Leaf: 0.009999 Max Depth: 40 Max Features: sqrt Max Leaf Nodes: 827 tol: 0.0001 Score: -1300.0\n",
      "Criterion: friedman_mse n_estimators: 134 Loss: deviance Learning Rate: 0.1 Min Samples/Leaf: 0.010201 Max Depth: 40 Max Features: sqrt Max Leaf Nodes: 827 tol: 0.0001 Score: 10327.0\n",
      "Criterion: friedman_mse n_estimators: 128 Loss: deviance Learning Rate: 0.1 Min Samples/Leaf: 0.010201 Max Depth: 40 Max Features: sqrt Max Leaf Nodes: 827 tol: 0.0001 Score: 10449.0\n",
      "Criterion: friedman_mse n_estimators: 134 Loss: deviance Learning Rate: 0.1 Min Samples/Leaf: 0.0101 Max Depth: 36 Max Features: log2 Max Leaf Nodes: 827 tol: 0.0001 Score: 4004.0\n",
      "Criterion: friedman_mse n_estimators: 128 Loss: deviance Learning Rate: 0.1 Min Samples/Leaf: 0.0101 Max Depth: 36 Max Features: log2 Max Leaf Nodes: 827 tol: 0.0001 Score: 4848.0\n",
      "Criterion: friedman_mse n_estimators: 134 Loss: deviance Learning Rate: 0.1 Min Samples/Leaf: 0.009999 Max Depth: 36 Max Features: log2 Max Leaf Nodes: 827 tol: 0.0001 Score: 3498.0\n",
      "Criterion: friedman_mse n_estimators: 128 Loss: deviance Learning Rate: 0.1 Min Samples/Leaf: 0.009999 Max Depth: 36 Max Features: log2 Max Leaf Nodes: 827 tol: 0.0001 Score: 2753.0\n",
      "Criterion: friedman_mse n_estimators: 134 Loss: deviance Learning Rate: 0.1 Min Samples/Leaf: 0.010201 Max Depth: 36 Max Features: log2 Max Leaf Nodes: 827 tol: 0.0001 Score: 4004.0\n",
      "Criterion: friedman_mse n_estimators: 128 Loss: deviance Learning Rate: 0.1 Min Samples/Leaf: 0.010201 Max Depth: 36 Max Features: log2 Max Leaf Nodes: 827 tol: 0.0001 Score: 4848.0\n",
      "Criterion: friedman_mse n_estimators: 134 Loss: deviance Learning Rate: 0.1 Min Samples/Leaf: 0.0101 Max Depth: 40 Max Features: log2 Max Leaf Nodes: 827 tol: 0.0001 Score: 4670.0\n",
      "Criterion: friedman_mse n_estimators: 128 Loss: deviance Learning Rate: 0.1 Min Samples/Leaf: 0.0101 Max Depth: 40 Max Features: log2 Max Leaf Nodes: 827 tol: 0.0001 Score: 7597.0\n",
      "Criterion: friedman_mse n_estimators: 134 Loss: deviance Learning Rate: 0.1 Min Samples/Leaf: 0.009999 Max Depth: 40 Max Features: log2 Max Leaf Nodes: 827 tol: 0.0001 Score: 2591.0\n",
      "Criterion: friedman_mse n_estimators: 128 Loss: deviance Learning Rate: 0.1 Min Samples/Leaf: 0.009999 Max Depth: 40 Max Features: log2 Max Leaf Nodes: 827 tol: 0.0001 Score: 6551.0\n",
      "Criterion: friedman_mse n_estimators: 134 Loss: deviance Learning Rate: 0.1 Min Samples/Leaf: 0.010201 Max Depth: 40 Max Features: log2 Max Leaf Nodes: 827 tol: 0.0001 Score: 4670.0\n",
      "Criterion: friedman_mse n_estimators: 128 Loss: deviance Learning Rate: 0.1 Min Samples/Leaf: 0.010201 Max Depth: 40 Max Features: log2 Max Leaf Nodes: 827 tol: 0.0001 Score: 7597.0\n"
     ]
    },
    {
     "name": "stderr",
     "output_type": "stream",
     "text": [
      "ERROR:root:Internal Python error in the inspect module.\n",
      "Below is the traceback from this internal error.\n",
      "\n"
     ]
    },
    {
     "name": "stdout",
     "output_type": "stream",
     "text": [
      "Traceback (most recent call last):\n",
      "  File \"C:\\Users\\matth\\anaconda3\\lib\\site-packages\\IPython\\core\\interactiveshell.py\", line 3437, in run_code\n",
      "    exec(code_obj, self.user_global_ns, self.user_ns)\n",
      "  File \"<ipython-input-5-62928d7d1b5a>\", line 14, in <module>\n",
      "    test_model = tune_hyperparameters(test_model, test_model_features, df_train, label_train, odds_train,\n",
      "  File \"../../automated_model_creation\\functions.py\", line 1435, in tune_hyperparameters\n",
      "    pos_model = (tune_GradientBoostingClassifier(best_model, input_features, input_df, input_labels, odds_input, min_ev=min_ev))\n",
      "  File \"../../automated_model_creation\\functions.py\", line 836, in tune_GradientBoostingClassifier\n",
      "    score = get_ev(input_df, test_model, input_features, input_labels, odds_input, min_ev=min_ev)\n",
      "  File \"../../automated_model_creation\\functions.py\", line 38, in get_ev\n",
      "    best_score = custom_cv_eval_mov(df_sel, input_model, labels_sel, odds_sel, min_ev = min_ev, verbose=verbose,\n",
      "  File \"../../automated_model_creation\\functions.py\", line 338, in custom_cv_eval_mov\n",
      "    m.fit(scaled_train, y_train)\n",
      "  File \"C:\\Users\\matth\\anaconda3\\lib\\site-packages\\sklearn\\ensemble\\_gb.py\", line 504, in fit\n",
      "    n_stages = self._fit_stages(\n",
      "  File \"C:\\Users\\matth\\anaconda3\\lib\\site-packages\\sklearn\\ensemble\\_gb.py\", line 561, in _fit_stages\n",
      "    raw_predictions = self._fit_stage(\n",
      "  File \"C:\\Users\\matth\\anaconda3\\lib\\site-packages\\sklearn\\ensemble\\_gb.py\", line 214, in _fit_stage\n",
      "    tree.fit(X, residual, sample_weight=sample_weight,\n",
      "  File \"C:\\Users\\matth\\anaconda3\\lib\\site-packages\\sklearn\\tree\\_classes.py\", line 1247, in fit\n",
      "    super().fit(\n",
      "  File \"C:\\Users\\matth\\anaconda3\\lib\\site-packages\\sklearn\\tree\\_classes.py\", line 389, in fit\n",
      "    builder.build(self.tree_, X, y, sample_weight)\n",
      "KeyboardInterrupt\n",
      "\n",
      "During handling of the above exception, another exception occurred:\n",
      "\n",
      "Traceback (most recent call last):\n",
      "  File \"C:\\Users\\matth\\anaconda3\\lib\\site-packages\\IPython\\core\\interactiveshell.py\", line 2061, in showtraceback\n",
      "    stb = value._render_traceback_()\n",
      "AttributeError: 'KeyboardInterrupt' object has no attribute '_render_traceback_'\n",
      "\n",
      "During handling of the above exception, another exception occurred:\n",
      "\n",
      "Traceback (most recent call last):\n",
      "  File \"C:\\Users\\matth\\anaconda3\\lib\\site-packages\\IPython\\core\\ultratb.py\", line 1101, in get_records\n",
      "    return _fixed_getinnerframes(etb, number_of_lines_of_context, tb_offset)\n",
      "  File \"C:\\Users\\matth\\anaconda3\\lib\\site-packages\\IPython\\core\\ultratb.py\", line 248, in wrapped\n",
      "    return f(*args, **kwargs)\n",
      "  File \"C:\\Users\\matth\\anaconda3\\lib\\site-packages\\IPython\\core\\ultratb.py\", line 281, in _fixed_getinnerframes\n",
      "    records = fix_frame_records_filenames(inspect.getinnerframes(etb, context))\n",
      "  File \"C:\\Users\\matth\\anaconda3\\lib\\inspect.py\", line 1515, in getinnerframes\n",
      "    frameinfo = (tb.tb_frame,) + getframeinfo(tb, context)\n",
      "  File \"C:\\Users\\matth\\anaconda3\\lib\\inspect.py\", line 1473, in getframeinfo\n",
      "    filename = getsourcefile(frame) or getfile(frame)\n",
      "  File \"C:\\Users\\matth\\anaconda3\\lib\\inspect.py\", line 708, in getsourcefile\n",
      "    if getattr(getmodule(object, filename), '__loader__', None) is not None:\n",
      "  File \"C:\\Users\\matth\\anaconda3\\lib\\inspect.py\", line 754, in getmodule\n",
      "    os.path.realpath(f)] = module.__name__\n",
      "  File \"C:\\Users\\matth\\anaconda3\\lib\\ntpath.py\", line 664, in realpath\n",
      "    if _getfinalpathname(spath) == path:\n",
      "KeyboardInterrupt\n"
     ]
    },
    {
     "ename": "TypeError",
     "evalue": "object of type 'NoneType' has no len()",
     "output_type": "error",
     "traceback": [
      "\u001b[1;31m---------------------------------------------------------------------------\u001b[0m",
      "\u001b[1;31mKeyboardInterrupt\u001b[0m                         Traceback (most recent call last)",
      "    \u001b[1;31m[... skipping hidden 1 frame]\u001b[0m\n",
      "\u001b[1;32m~\\OneDrive\\github\\tiger-millionaire\\automated_model_creation\\mov\\TM-Optimize-Models MOV.ipynb\u001b[0m in \u001b[0;36m<module>\u001b[1;34m\u001b[0m\n\u001b[0;32m     13\u001b[0m     \u001b[1;31m#def tune_hyperparameters(input_model, input_features, input_df, input_labels, odds_input):\u001b[0m\u001b[1;33m\u001b[0m\u001b[1;33m\u001b[0m\u001b[1;33m\u001b[0m\u001b[0m\n\u001b[1;32m---> 14\u001b[1;33m     test_model = tune_hyperparameters(test_model, test_model_features, df_train, label_train, odds_train, \n\u001b[0m\u001b[0;32m     15\u001b[0m                                       min_ev=test_model_ev)\n",
      "\u001b[1;32m~\\OneDrive\\github\\tiger-millionaire\\automated_model_creation\\functions.py\u001b[0m in \u001b[0;36mtune_hyperparameters\u001b[1;34m(input_model, input_features, input_df, input_labels, odds_input, min_ev)\u001b[0m\n\u001b[0;32m   1434\u001b[0m         \u001b[1;32mwhile\u001b[0m\u001b[1;33m(\u001b[0m\u001b[0mkeep_going\u001b[0m\u001b[1;33m)\u001b[0m\u001b[1;33m:\u001b[0m\u001b[1;33m\u001b[0m\u001b[1;33m\u001b[0m\u001b[0m\n\u001b[1;32m-> 1435\u001b[1;33m             \u001b[0mpos_model\u001b[0m \u001b[1;33m=\u001b[0m \u001b[1;33m(\u001b[0m\u001b[0mtune_GradientBoostingClassifier\u001b[0m\u001b[1;33m(\u001b[0m\u001b[0mbest_model\u001b[0m\u001b[1;33m,\u001b[0m \u001b[0minput_features\u001b[0m\u001b[1;33m,\u001b[0m \u001b[0minput_df\u001b[0m\u001b[1;33m,\u001b[0m \u001b[0minput_labels\u001b[0m\u001b[1;33m,\u001b[0m \u001b[0modds_input\u001b[0m\u001b[1;33m,\u001b[0m \u001b[0mmin_ev\u001b[0m\u001b[1;33m=\u001b[0m\u001b[0mmin_ev\u001b[0m\u001b[1;33m)\u001b[0m\u001b[1;33m)\u001b[0m\u001b[1;33m\u001b[0m\u001b[1;33m\u001b[0m\u001b[0m\n\u001b[0m\u001b[0;32m   1436\u001b[0m             \u001b[1;32mif\u001b[0m \u001b[0mstr\u001b[0m\u001b[1;33m(\u001b[0m\u001b[0mpos_model\u001b[0m\u001b[1;33m)\u001b[0m \u001b[1;33m==\u001b[0m \u001b[0mstr\u001b[0m\u001b[1;33m(\u001b[0m\u001b[0mbest_model\u001b[0m\u001b[1;33m)\u001b[0m\u001b[1;33m:\u001b[0m  \u001b[1;31m#Direct comparisons don't seem to work....\u001b[0m\u001b[1;33m\u001b[0m\u001b[1;33m\u001b[0m\u001b[0m\n",
      "\u001b[1;32m~\\OneDrive\\github\\tiger-millionaire\\automated_model_creation\\functions.py\u001b[0m in \u001b[0;36mtune_GradientBoostingClassifier\u001b[1;34m(input_model, input_features, input_df, input_labels, odds_input, min_ev, tested_hps)\u001b[0m\n\u001b[0;32m    835\u001b[0m                                                                                 random_state=75)\n\u001b[1;32m--> 836\u001b[1;33m                                         \u001b[0mscore\u001b[0m \u001b[1;33m=\u001b[0m \u001b[0mget_ev\u001b[0m\u001b[1;33m(\u001b[0m\u001b[0minput_df\u001b[0m\u001b[1;33m,\u001b[0m \u001b[0mtest_model\u001b[0m\u001b[1;33m,\u001b[0m \u001b[0minput_features\u001b[0m\u001b[1;33m,\u001b[0m \u001b[0minput_labels\u001b[0m\u001b[1;33m,\u001b[0m \u001b[0modds_input\u001b[0m\u001b[1;33m,\u001b[0m \u001b[0mmin_ev\u001b[0m\u001b[1;33m=\u001b[0m\u001b[0mmin_ev\u001b[0m\u001b[1;33m)\u001b[0m\u001b[1;33m\u001b[0m\u001b[1;33m\u001b[0m\u001b[0m\n\u001b[0m\u001b[0;32m    837\u001b[0m \u001b[1;33m\u001b[0m\u001b[0m\n",
      "\u001b[1;32m~\\OneDrive\\github\\tiger-millionaire\\automated_model_creation\\functions.py\u001b[0m in \u001b[0;36mget_ev\u001b[1;34m(input_df, input_model, input_features, input_labels, odds_input, min_ev, verbose, get_total)\u001b[0m\n\u001b[0;32m     37\u001b[0m     \u001b[1;32mif\u001b[0m \u001b[0mlen\u001b[0m\u001b[1;33m(\u001b[0m\u001b[0modds_sel\u001b[0m\u001b[1;33m.\u001b[0m\u001b[0mcolumns\u001b[0m\u001b[1;33m)\u001b[0m \u001b[1;33m==\u001b[0m \u001b[1;36m6\u001b[0m\u001b[1;33m:\u001b[0m\u001b[1;33m\u001b[0m\u001b[1;33m\u001b[0m\u001b[0m\n\u001b[1;32m---> 38\u001b[1;33m         best_score = custom_cv_eval_mov(df_sel, input_model, labels_sel, odds_sel, min_ev = min_ev, verbose=verbose, \n\u001b[0m\u001b[0;32m     39\u001b[0m                                 get_total=get_total)        \n",
      "\u001b[1;32m~\\OneDrive\\github\\tiger-millionaire\\automated_model_creation\\functions.py\u001b[0m in \u001b[0;36mcustom_cv_eval_mov\u001b[1;34m(df, m, labels, odds, min_ev, verbose, get_total)\u001b[0m\n\u001b[0;32m    337\u001b[0m \u001b[1;33m\u001b[0m\u001b[0m\n\u001b[1;32m--> 338\u001b[1;33m         \u001b[0mm\u001b[0m\u001b[1;33m.\u001b[0m\u001b[0mfit\u001b[0m\u001b[1;33m(\u001b[0m\u001b[0mscaled_train\u001b[0m\u001b[1;33m,\u001b[0m \u001b[0my_train\u001b[0m\u001b[1;33m)\u001b[0m\u001b[1;33m\u001b[0m\u001b[1;33m\u001b[0m\u001b[0m\n\u001b[0m\u001b[0;32m    339\u001b[0m         \u001b[0mprobs\u001b[0m\u001b[1;33m=\u001b[0m\u001b[0mm\u001b[0m\u001b[1;33m.\u001b[0m\u001b[0mpredict_proba\u001b[0m\u001b[1;33m(\u001b[0m\u001b[0mscaled_test\u001b[0m\u001b[1;33m)\u001b[0m\u001b[1;33m\u001b[0m\u001b[1;33m\u001b[0m\u001b[0m\n",
      "\u001b[1;32m~\\anaconda3\\lib\\site-packages\\sklearn\\ensemble\\_gb.py\u001b[0m in \u001b[0;36mfit\u001b[1;34m(self, X, y, sample_weight, monitor)\u001b[0m\n\u001b[0;32m    503\u001b[0m         \u001b[1;31m# fit the boosting stages\u001b[0m\u001b[1;33m\u001b[0m\u001b[1;33m\u001b[0m\u001b[1;33m\u001b[0m\u001b[0m\n\u001b[1;32m--> 504\u001b[1;33m         n_stages = self._fit_stages(\n\u001b[0m\u001b[0;32m    505\u001b[0m             \u001b[0mX\u001b[0m\u001b[1;33m,\u001b[0m \u001b[0my\u001b[0m\u001b[1;33m,\u001b[0m \u001b[0mraw_predictions\u001b[0m\u001b[1;33m,\u001b[0m \u001b[0msample_weight\u001b[0m\u001b[1;33m,\u001b[0m \u001b[0mself\u001b[0m\u001b[1;33m.\u001b[0m\u001b[0m_rng\u001b[0m\u001b[1;33m,\u001b[0m \u001b[0mX_val\u001b[0m\u001b[1;33m,\u001b[0m \u001b[0my_val\u001b[0m\u001b[1;33m,\u001b[0m\u001b[1;33m\u001b[0m\u001b[1;33m\u001b[0m\u001b[0m\n",
      "\u001b[1;32m~\\anaconda3\\lib\\site-packages\\sklearn\\ensemble\\_gb.py\u001b[0m in \u001b[0;36m_fit_stages\u001b[1;34m(self, X, y, raw_predictions, sample_weight, random_state, X_val, y_val, sample_weight_val, begin_at_stage, monitor)\u001b[0m\n\u001b[0;32m    560\u001b[0m             \u001b[1;31m# fit next stage of trees\u001b[0m\u001b[1;33m\u001b[0m\u001b[1;33m\u001b[0m\u001b[1;33m\u001b[0m\u001b[0m\n\u001b[1;32m--> 561\u001b[1;33m             raw_predictions = self._fit_stage(\n\u001b[0m\u001b[0;32m    562\u001b[0m                 \u001b[0mi\u001b[0m\u001b[1;33m,\u001b[0m \u001b[0mX\u001b[0m\u001b[1;33m,\u001b[0m \u001b[0my\u001b[0m\u001b[1;33m,\u001b[0m \u001b[0mraw_predictions\u001b[0m\u001b[1;33m,\u001b[0m \u001b[0msample_weight\u001b[0m\u001b[1;33m,\u001b[0m \u001b[0msample_mask\u001b[0m\u001b[1;33m,\u001b[0m\u001b[1;33m\u001b[0m\u001b[1;33m\u001b[0m\u001b[0m\n",
      "\u001b[1;32m~\\anaconda3\\lib\\site-packages\\sklearn\\ensemble\\_gb.py\u001b[0m in \u001b[0;36m_fit_stage\u001b[1;34m(self, i, X, y, raw_predictions, sample_weight, sample_mask, random_state, X_csc, X_csr)\u001b[0m\n\u001b[0;32m    213\u001b[0m             \u001b[0mX\u001b[0m \u001b[1;33m=\u001b[0m \u001b[0mX_csr\u001b[0m \u001b[1;32mif\u001b[0m \u001b[0mX_csr\u001b[0m \u001b[1;32mis\u001b[0m \u001b[1;32mnot\u001b[0m \u001b[1;32mNone\u001b[0m \u001b[1;32melse\u001b[0m \u001b[0mX\u001b[0m\u001b[1;33m\u001b[0m\u001b[1;33m\u001b[0m\u001b[0m\n\u001b[1;32m--> 214\u001b[1;33m             tree.fit(X, residual, sample_weight=sample_weight,\n\u001b[0m\u001b[0;32m    215\u001b[0m                      check_input=False)\n",
      "\u001b[1;32m~\\anaconda3\\lib\\site-packages\\sklearn\\tree\\_classes.py\u001b[0m in \u001b[0;36mfit\u001b[1;34m(self, X, y, sample_weight, check_input, X_idx_sorted)\u001b[0m\n\u001b[0;32m   1246\u001b[0m \u001b[1;33m\u001b[0m\u001b[0m\n\u001b[1;32m-> 1247\u001b[1;33m         super().fit(\n\u001b[0m\u001b[0;32m   1248\u001b[0m             \u001b[0mX\u001b[0m\u001b[1;33m,\u001b[0m \u001b[0my\u001b[0m\u001b[1;33m,\u001b[0m\u001b[1;33m\u001b[0m\u001b[1;33m\u001b[0m\u001b[0m\n",
      "\u001b[1;32m~\\anaconda3\\lib\\site-packages\\sklearn\\tree\\_classes.py\u001b[0m in \u001b[0;36mfit\u001b[1;34m(self, X, y, sample_weight, check_input, X_idx_sorted)\u001b[0m\n\u001b[0;32m    388\u001b[0m \u001b[1;33m\u001b[0m\u001b[0m\n\u001b[1;32m--> 389\u001b[1;33m         \u001b[0mbuilder\u001b[0m\u001b[1;33m.\u001b[0m\u001b[0mbuild\u001b[0m\u001b[1;33m(\u001b[0m\u001b[0mself\u001b[0m\u001b[1;33m.\u001b[0m\u001b[0mtree_\u001b[0m\u001b[1;33m,\u001b[0m \u001b[0mX\u001b[0m\u001b[1;33m,\u001b[0m \u001b[0my\u001b[0m\u001b[1;33m,\u001b[0m \u001b[0msample_weight\u001b[0m\u001b[1;33m)\u001b[0m\u001b[1;33m\u001b[0m\u001b[1;33m\u001b[0m\u001b[0m\n\u001b[0m\u001b[0;32m    390\u001b[0m \u001b[1;33m\u001b[0m\u001b[0m\n",
      "\u001b[1;31mKeyboardInterrupt\u001b[0m: ",
      "\nDuring handling of the above exception, another exception occurred:\n",
      "\u001b[1;31mAttributeError\u001b[0m                            Traceback (most recent call last)",
      "\u001b[1;32m~\\anaconda3\\lib\\site-packages\\IPython\\core\\interactiveshell.py\u001b[0m in \u001b[0;36mshowtraceback\u001b[1;34m(self, exc_tuple, filename, tb_offset, exception_only, running_compiled_code)\u001b[0m\n\u001b[0;32m   2060\u001b[0m                         \u001b[1;31m# in the engines. This should return a list of strings.\u001b[0m\u001b[1;33m\u001b[0m\u001b[1;33m\u001b[0m\u001b[1;33m\u001b[0m\u001b[0m\n\u001b[1;32m-> 2061\u001b[1;33m                         \u001b[0mstb\u001b[0m \u001b[1;33m=\u001b[0m \u001b[0mvalue\u001b[0m\u001b[1;33m.\u001b[0m\u001b[0m_render_traceback_\u001b[0m\u001b[1;33m(\u001b[0m\u001b[1;33m)\u001b[0m\u001b[1;33m\u001b[0m\u001b[1;33m\u001b[0m\u001b[0m\n\u001b[0m\u001b[0;32m   2062\u001b[0m                     \u001b[1;32mexcept\u001b[0m \u001b[0mException\u001b[0m\u001b[1;33m:\u001b[0m\u001b[1;33m\u001b[0m\u001b[1;33m\u001b[0m\u001b[0m\n",
      "\u001b[1;31mAttributeError\u001b[0m: 'KeyboardInterrupt' object has no attribute '_render_traceback_'",
      "\nDuring handling of the above exception, another exception occurred:\n",
      "\u001b[1;31mTypeError\u001b[0m                                 Traceback (most recent call last)",
      "    \u001b[1;31m[... skipping hidden 1 frame]\u001b[0m\n",
      "\u001b[1;32m~\\anaconda3\\lib\\site-packages\\IPython\\core\\interactiveshell.py\u001b[0m in \u001b[0;36mshowtraceback\u001b[1;34m(self, exc_tuple, filename, tb_offset, exception_only, running_compiled_code)\u001b[0m\n\u001b[0;32m   2061\u001b[0m                         \u001b[0mstb\u001b[0m \u001b[1;33m=\u001b[0m \u001b[0mvalue\u001b[0m\u001b[1;33m.\u001b[0m\u001b[0m_render_traceback_\u001b[0m\u001b[1;33m(\u001b[0m\u001b[1;33m)\u001b[0m\u001b[1;33m\u001b[0m\u001b[1;33m\u001b[0m\u001b[0m\n\u001b[0;32m   2062\u001b[0m                     \u001b[1;32mexcept\u001b[0m \u001b[0mException\u001b[0m\u001b[1;33m:\u001b[0m\u001b[1;33m\u001b[0m\u001b[1;33m\u001b[0m\u001b[0m\n\u001b[1;32m-> 2063\u001b[1;33m                         stb = self.InteractiveTB.structured_traceback(etype,\n\u001b[0m\u001b[0;32m   2064\u001b[0m                                             value, tb, tb_offset=tb_offset)\n\u001b[0;32m   2065\u001b[0m \u001b[1;33m\u001b[0m\u001b[0m\n",
      "\u001b[1;32m~\\anaconda3\\lib\\site-packages\\IPython\\core\\ultratb.py\u001b[0m in \u001b[0;36mstructured_traceback\u001b[1;34m(self, etype, value, tb, tb_offset, number_of_lines_of_context)\u001b[0m\n\u001b[0;32m   1365\u001b[0m         \u001b[1;32melse\u001b[0m\u001b[1;33m:\u001b[0m\u001b[1;33m\u001b[0m\u001b[1;33m\u001b[0m\u001b[0m\n\u001b[0;32m   1366\u001b[0m             \u001b[0mself\u001b[0m\u001b[1;33m.\u001b[0m\u001b[0mtb\u001b[0m \u001b[1;33m=\u001b[0m \u001b[0mtb\u001b[0m\u001b[1;33m\u001b[0m\u001b[1;33m\u001b[0m\u001b[0m\n\u001b[1;32m-> 1367\u001b[1;33m         return FormattedTB.structured_traceback(\n\u001b[0m\u001b[0;32m   1368\u001b[0m             self, etype, value, tb, tb_offset, number_of_lines_of_context)\n\u001b[0;32m   1369\u001b[0m \u001b[1;33m\u001b[0m\u001b[0m\n",
      "\u001b[1;32m~\\anaconda3\\lib\\site-packages\\IPython\\core\\ultratb.py\u001b[0m in \u001b[0;36mstructured_traceback\u001b[1;34m(self, etype, value, tb, tb_offset, number_of_lines_of_context)\u001b[0m\n\u001b[0;32m   1265\u001b[0m         \u001b[1;32mif\u001b[0m \u001b[0mmode\u001b[0m \u001b[1;32min\u001b[0m \u001b[0mself\u001b[0m\u001b[1;33m.\u001b[0m\u001b[0mverbose_modes\u001b[0m\u001b[1;33m:\u001b[0m\u001b[1;33m\u001b[0m\u001b[1;33m\u001b[0m\u001b[0m\n\u001b[0;32m   1266\u001b[0m             \u001b[1;31m# Verbose modes need a full traceback\u001b[0m\u001b[1;33m\u001b[0m\u001b[1;33m\u001b[0m\u001b[1;33m\u001b[0m\u001b[0m\n\u001b[1;32m-> 1267\u001b[1;33m             return VerboseTB.structured_traceback(\n\u001b[0m\u001b[0;32m   1268\u001b[0m                 \u001b[0mself\u001b[0m\u001b[1;33m,\u001b[0m \u001b[0metype\u001b[0m\u001b[1;33m,\u001b[0m \u001b[0mvalue\u001b[0m\u001b[1;33m,\u001b[0m \u001b[0mtb\u001b[0m\u001b[1;33m,\u001b[0m \u001b[0mtb_offset\u001b[0m\u001b[1;33m,\u001b[0m \u001b[0mnumber_of_lines_of_context\u001b[0m\u001b[1;33m\u001b[0m\u001b[1;33m\u001b[0m\u001b[0m\n\u001b[0;32m   1269\u001b[0m             )\n",
      "\u001b[1;32m~\\anaconda3\\lib\\site-packages\\IPython\\core\\ultratb.py\u001b[0m in \u001b[0;36mstructured_traceback\u001b[1;34m(self, etype, evalue, etb, tb_offset, number_of_lines_of_context)\u001b[0m\n\u001b[0;32m   1122\u001b[0m         \u001b[1;34m\"\"\"Return a nice text document describing the traceback.\"\"\"\u001b[0m\u001b[1;33m\u001b[0m\u001b[1;33m\u001b[0m\u001b[0m\n\u001b[0;32m   1123\u001b[0m \u001b[1;33m\u001b[0m\u001b[0m\n\u001b[1;32m-> 1124\u001b[1;33m         formatted_exception = self.format_exception_as_a_whole(etype, evalue, etb, number_of_lines_of_context,\n\u001b[0m\u001b[0;32m   1125\u001b[0m                                                                tb_offset)\n\u001b[0;32m   1126\u001b[0m \u001b[1;33m\u001b[0m\u001b[0m\n",
      "\u001b[1;32m~\\anaconda3\\lib\\site-packages\\IPython\\core\\ultratb.py\u001b[0m in \u001b[0;36mformat_exception_as_a_whole\u001b[1;34m(self, etype, evalue, etb, number_of_lines_of_context, tb_offset)\u001b[0m\n\u001b[0;32m   1080\u001b[0m \u001b[1;33m\u001b[0m\u001b[0m\n\u001b[0;32m   1081\u001b[0m \u001b[1;33m\u001b[0m\u001b[0m\n\u001b[1;32m-> 1082\u001b[1;33m         \u001b[0mlast_unique\u001b[0m\u001b[1;33m,\u001b[0m \u001b[0mrecursion_repeat\u001b[0m \u001b[1;33m=\u001b[0m \u001b[0mfind_recursion\u001b[0m\u001b[1;33m(\u001b[0m\u001b[0morig_etype\u001b[0m\u001b[1;33m,\u001b[0m \u001b[0mevalue\u001b[0m\u001b[1;33m,\u001b[0m \u001b[0mrecords\u001b[0m\u001b[1;33m)\u001b[0m\u001b[1;33m\u001b[0m\u001b[1;33m\u001b[0m\u001b[0m\n\u001b[0m\u001b[0;32m   1083\u001b[0m \u001b[1;33m\u001b[0m\u001b[0m\n\u001b[0;32m   1084\u001b[0m         \u001b[0mframes\u001b[0m \u001b[1;33m=\u001b[0m \u001b[0mself\u001b[0m\u001b[1;33m.\u001b[0m\u001b[0mformat_records\u001b[0m\u001b[1;33m(\u001b[0m\u001b[0mrecords\u001b[0m\u001b[1;33m,\u001b[0m \u001b[0mlast_unique\u001b[0m\u001b[1;33m,\u001b[0m \u001b[0mrecursion_repeat\u001b[0m\u001b[1;33m)\u001b[0m\u001b[1;33m\u001b[0m\u001b[1;33m\u001b[0m\u001b[0m\n",
      "\u001b[1;32m~\\anaconda3\\lib\\site-packages\\IPython\\core\\ultratb.py\u001b[0m in \u001b[0;36mfind_recursion\u001b[1;34m(etype, value, records)\u001b[0m\n\u001b[0;32m    380\u001b[0m     \u001b[1;31m# first frame (from in to out) that looks different.\u001b[0m\u001b[1;33m\u001b[0m\u001b[1;33m\u001b[0m\u001b[1;33m\u001b[0m\u001b[0m\n\u001b[0;32m    381\u001b[0m     \u001b[1;32mif\u001b[0m \u001b[1;32mnot\u001b[0m \u001b[0mis_recursion_error\u001b[0m\u001b[1;33m(\u001b[0m\u001b[0metype\u001b[0m\u001b[1;33m,\u001b[0m \u001b[0mvalue\u001b[0m\u001b[1;33m,\u001b[0m \u001b[0mrecords\u001b[0m\u001b[1;33m)\u001b[0m\u001b[1;33m:\u001b[0m\u001b[1;33m\u001b[0m\u001b[1;33m\u001b[0m\u001b[0m\n\u001b[1;32m--> 382\u001b[1;33m         \u001b[1;32mreturn\u001b[0m \u001b[0mlen\u001b[0m\u001b[1;33m(\u001b[0m\u001b[0mrecords\u001b[0m\u001b[1;33m)\u001b[0m\u001b[1;33m,\u001b[0m \u001b[1;36m0\u001b[0m\u001b[1;33m\u001b[0m\u001b[1;33m\u001b[0m\u001b[0m\n\u001b[0m\u001b[0;32m    383\u001b[0m \u001b[1;33m\u001b[0m\u001b[0m\n\u001b[0;32m    384\u001b[0m     \u001b[1;31m# Select filename, lineno, func_name to track frames with\u001b[0m\u001b[1;33m\u001b[0m\u001b[1;33m\u001b[0m\u001b[1;33m\u001b[0m\u001b[0m\n",
      "\u001b[1;31mTypeError\u001b[0m: object of type 'NoneType' has no len()"
     ]
    },
    {
     "ename": "TypeError",
     "evalue": "object of type 'NoneType' has no len()",
     "output_type": "error",
     "traceback": [
      "\u001b[1;31m---------------------------------------------------------------------------\u001b[0m",
      "\u001b[1;31mKeyboardInterrupt\u001b[0m                         Traceback (most recent call last)",
      "    \u001b[1;31m[... skipping hidden 1 frame]\u001b[0m\n",
      "\u001b[1;32m<ipython-input-5-62928d7d1b5a>\u001b[0m in \u001b[0;36m<module>\u001b[1;34m\u001b[0m\n\u001b[0;32m     13\u001b[0m     \u001b[1;31m#def tune_hyperparameters(input_model, input_features, input_df, input_labels, odds_input):\u001b[0m\u001b[1;33m\u001b[0m\u001b[1;33m\u001b[0m\u001b[1;33m\u001b[0m\u001b[0m\n\u001b[1;32m---> 14\u001b[1;33m     test_model = tune_hyperparameters(test_model, test_model_features, df_train, label_train, odds_train, \n\u001b[0m\u001b[0;32m     15\u001b[0m                                       min_ev=test_model_ev)\n",
      "\u001b[1;32m~\\OneDrive\\github\\tiger-millionaire\\automated_model_creation\\functions.py\u001b[0m in \u001b[0;36mtune_hyperparameters\u001b[1;34m(input_model, input_features, input_df, input_labels, odds_input, min_ev)\u001b[0m\n\u001b[0;32m   1434\u001b[0m         \u001b[1;32mwhile\u001b[0m\u001b[1;33m(\u001b[0m\u001b[0mkeep_going\u001b[0m\u001b[1;33m)\u001b[0m\u001b[1;33m:\u001b[0m\u001b[1;33m\u001b[0m\u001b[1;33m\u001b[0m\u001b[0m\n\u001b[1;32m-> 1435\u001b[1;33m             \u001b[0mpos_model\u001b[0m \u001b[1;33m=\u001b[0m \u001b[1;33m(\u001b[0m\u001b[0mtune_GradientBoostingClassifier\u001b[0m\u001b[1;33m(\u001b[0m\u001b[0mbest_model\u001b[0m\u001b[1;33m,\u001b[0m \u001b[0minput_features\u001b[0m\u001b[1;33m,\u001b[0m \u001b[0minput_df\u001b[0m\u001b[1;33m,\u001b[0m \u001b[0minput_labels\u001b[0m\u001b[1;33m,\u001b[0m \u001b[0modds_input\u001b[0m\u001b[1;33m,\u001b[0m \u001b[0mmin_ev\u001b[0m\u001b[1;33m=\u001b[0m\u001b[0mmin_ev\u001b[0m\u001b[1;33m)\u001b[0m\u001b[1;33m)\u001b[0m\u001b[1;33m\u001b[0m\u001b[1;33m\u001b[0m\u001b[0m\n\u001b[0m\u001b[0;32m   1436\u001b[0m             \u001b[1;32mif\u001b[0m \u001b[0mstr\u001b[0m\u001b[1;33m(\u001b[0m\u001b[0mpos_model\u001b[0m\u001b[1;33m)\u001b[0m \u001b[1;33m==\u001b[0m \u001b[0mstr\u001b[0m\u001b[1;33m(\u001b[0m\u001b[0mbest_model\u001b[0m\u001b[1;33m)\u001b[0m\u001b[1;33m:\u001b[0m  \u001b[1;31m#Direct comparisons don't seem to work....\u001b[0m\u001b[1;33m\u001b[0m\u001b[1;33m\u001b[0m\u001b[0m\n",
      "\u001b[1;32m~\\OneDrive\\github\\tiger-millionaire\\automated_model_creation\\functions.py\u001b[0m in \u001b[0;36mtune_GradientBoostingClassifier\u001b[1;34m(input_model, input_features, input_df, input_labels, odds_input, min_ev, tested_hps)\u001b[0m\n\u001b[0;32m    835\u001b[0m                                                                                 random_state=75)\n\u001b[1;32m--> 836\u001b[1;33m                                         \u001b[0mscore\u001b[0m \u001b[1;33m=\u001b[0m \u001b[0mget_ev\u001b[0m\u001b[1;33m(\u001b[0m\u001b[0minput_df\u001b[0m\u001b[1;33m,\u001b[0m \u001b[0mtest_model\u001b[0m\u001b[1;33m,\u001b[0m \u001b[0minput_features\u001b[0m\u001b[1;33m,\u001b[0m \u001b[0minput_labels\u001b[0m\u001b[1;33m,\u001b[0m \u001b[0modds_input\u001b[0m\u001b[1;33m,\u001b[0m \u001b[0mmin_ev\u001b[0m\u001b[1;33m=\u001b[0m\u001b[0mmin_ev\u001b[0m\u001b[1;33m)\u001b[0m\u001b[1;33m\u001b[0m\u001b[1;33m\u001b[0m\u001b[0m\n\u001b[0m\u001b[0;32m    837\u001b[0m \u001b[1;33m\u001b[0m\u001b[0m\n",
      "\u001b[1;32m~\\OneDrive\\github\\tiger-millionaire\\automated_model_creation\\functions.py\u001b[0m in \u001b[0;36mget_ev\u001b[1;34m(input_df, input_model, input_features, input_labels, odds_input, min_ev, verbose, get_total)\u001b[0m\n\u001b[0;32m     37\u001b[0m     \u001b[1;32mif\u001b[0m \u001b[0mlen\u001b[0m\u001b[1;33m(\u001b[0m\u001b[0modds_sel\u001b[0m\u001b[1;33m.\u001b[0m\u001b[0mcolumns\u001b[0m\u001b[1;33m)\u001b[0m \u001b[1;33m==\u001b[0m \u001b[1;36m6\u001b[0m\u001b[1;33m:\u001b[0m\u001b[1;33m\u001b[0m\u001b[1;33m\u001b[0m\u001b[0m\n\u001b[1;32m---> 38\u001b[1;33m         best_score = custom_cv_eval_mov(df_sel, input_model, labels_sel, odds_sel, min_ev = min_ev, verbose=verbose, \n\u001b[0m\u001b[0;32m     39\u001b[0m                                 get_total=get_total)        \n",
      "\u001b[1;32m~\\OneDrive\\github\\tiger-millionaire\\automated_model_creation\\functions.py\u001b[0m in \u001b[0;36mcustom_cv_eval_mov\u001b[1;34m(df, m, labels, odds, min_ev, verbose, get_total)\u001b[0m\n\u001b[0;32m    337\u001b[0m \u001b[1;33m\u001b[0m\u001b[0m\n\u001b[1;32m--> 338\u001b[1;33m         \u001b[0mm\u001b[0m\u001b[1;33m.\u001b[0m\u001b[0mfit\u001b[0m\u001b[1;33m(\u001b[0m\u001b[0mscaled_train\u001b[0m\u001b[1;33m,\u001b[0m \u001b[0my_train\u001b[0m\u001b[1;33m)\u001b[0m\u001b[1;33m\u001b[0m\u001b[1;33m\u001b[0m\u001b[0m\n\u001b[0m\u001b[0;32m    339\u001b[0m         \u001b[0mprobs\u001b[0m\u001b[1;33m=\u001b[0m\u001b[0mm\u001b[0m\u001b[1;33m.\u001b[0m\u001b[0mpredict_proba\u001b[0m\u001b[1;33m(\u001b[0m\u001b[0mscaled_test\u001b[0m\u001b[1;33m)\u001b[0m\u001b[1;33m\u001b[0m\u001b[1;33m\u001b[0m\u001b[0m\n",
      "\u001b[1;32m~\\anaconda3\\lib\\site-packages\\sklearn\\ensemble\\_gb.py\u001b[0m in \u001b[0;36mfit\u001b[1;34m(self, X, y, sample_weight, monitor)\u001b[0m\n\u001b[0;32m    503\u001b[0m         \u001b[1;31m# fit the boosting stages\u001b[0m\u001b[1;33m\u001b[0m\u001b[1;33m\u001b[0m\u001b[1;33m\u001b[0m\u001b[0m\n\u001b[1;32m--> 504\u001b[1;33m         n_stages = self._fit_stages(\n\u001b[0m\u001b[0;32m    505\u001b[0m             \u001b[0mX\u001b[0m\u001b[1;33m,\u001b[0m \u001b[0my\u001b[0m\u001b[1;33m,\u001b[0m \u001b[0mraw_predictions\u001b[0m\u001b[1;33m,\u001b[0m \u001b[0msample_weight\u001b[0m\u001b[1;33m,\u001b[0m \u001b[0mself\u001b[0m\u001b[1;33m.\u001b[0m\u001b[0m_rng\u001b[0m\u001b[1;33m,\u001b[0m \u001b[0mX_val\u001b[0m\u001b[1;33m,\u001b[0m \u001b[0my_val\u001b[0m\u001b[1;33m,\u001b[0m\u001b[1;33m\u001b[0m\u001b[1;33m\u001b[0m\u001b[0m\n",
      "\u001b[1;32m~\\anaconda3\\lib\\site-packages\\sklearn\\ensemble\\_gb.py\u001b[0m in \u001b[0;36m_fit_stages\u001b[1;34m(self, X, y, raw_predictions, sample_weight, random_state, X_val, y_val, sample_weight_val, begin_at_stage, monitor)\u001b[0m\n\u001b[0;32m    560\u001b[0m             \u001b[1;31m# fit next stage of trees\u001b[0m\u001b[1;33m\u001b[0m\u001b[1;33m\u001b[0m\u001b[1;33m\u001b[0m\u001b[0m\n\u001b[1;32m--> 561\u001b[1;33m             raw_predictions = self._fit_stage(\n\u001b[0m\u001b[0;32m    562\u001b[0m                 \u001b[0mi\u001b[0m\u001b[1;33m,\u001b[0m \u001b[0mX\u001b[0m\u001b[1;33m,\u001b[0m \u001b[0my\u001b[0m\u001b[1;33m,\u001b[0m \u001b[0mraw_predictions\u001b[0m\u001b[1;33m,\u001b[0m \u001b[0msample_weight\u001b[0m\u001b[1;33m,\u001b[0m \u001b[0msample_mask\u001b[0m\u001b[1;33m,\u001b[0m\u001b[1;33m\u001b[0m\u001b[1;33m\u001b[0m\u001b[0m\n",
      "\u001b[1;32m~\\anaconda3\\lib\\site-packages\\sklearn\\ensemble\\_gb.py\u001b[0m in \u001b[0;36m_fit_stage\u001b[1;34m(self, i, X, y, raw_predictions, sample_weight, sample_mask, random_state, X_csc, X_csr)\u001b[0m\n\u001b[0;32m    213\u001b[0m             \u001b[0mX\u001b[0m \u001b[1;33m=\u001b[0m \u001b[0mX_csr\u001b[0m \u001b[1;32mif\u001b[0m \u001b[0mX_csr\u001b[0m \u001b[1;32mis\u001b[0m \u001b[1;32mnot\u001b[0m \u001b[1;32mNone\u001b[0m \u001b[1;32melse\u001b[0m \u001b[0mX\u001b[0m\u001b[1;33m\u001b[0m\u001b[1;33m\u001b[0m\u001b[0m\n\u001b[1;32m--> 214\u001b[1;33m             tree.fit(X, residual, sample_weight=sample_weight,\n\u001b[0m\u001b[0;32m    215\u001b[0m                      check_input=False)\n",
      "\u001b[1;32m~\\anaconda3\\lib\\site-packages\\sklearn\\tree\\_classes.py\u001b[0m in \u001b[0;36mfit\u001b[1;34m(self, X, y, sample_weight, check_input, X_idx_sorted)\u001b[0m\n\u001b[0;32m   1246\u001b[0m \u001b[1;33m\u001b[0m\u001b[0m\n\u001b[1;32m-> 1247\u001b[1;33m         super().fit(\n\u001b[0m\u001b[0;32m   1248\u001b[0m             \u001b[0mX\u001b[0m\u001b[1;33m,\u001b[0m \u001b[0my\u001b[0m\u001b[1;33m,\u001b[0m\u001b[1;33m\u001b[0m\u001b[1;33m\u001b[0m\u001b[0m\n",
      "\u001b[1;32m~\\anaconda3\\lib\\site-packages\\sklearn\\tree\\_classes.py\u001b[0m in \u001b[0;36mfit\u001b[1;34m(self, X, y, sample_weight, check_input, X_idx_sorted)\u001b[0m\n\u001b[0;32m    388\u001b[0m \u001b[1;33m\u001b[0m\u001b[0m\n\u001b[1;32m--> 389\u001b[1;33m         \u001b[0mbuilder\u001b[0m\u001b[1;33m.\u001b[0m\u001b[0mbuild\u001b[0m\u001b[1;33m(\u001b[0m\u001b[0mself\u001b[0m\u001b[1;33m.\u001b[0m\u001b[0mtree_\u001b[0m\u001b[1;33m,\u001b[0m \u001b[0mX\u001b[0m\u001b[1;33m,\u001b[0m \u001b[0my\u001b[0m\u001b[1;33m,\u001b[0m \u001b[0msample_weight\u001b[0m\u001b[1;33m)\u001b[0m\u001b[1;33m\u001b[0m\u001b[1;33m\u001b[0m\u001b[0m\n\u001b[0m\u001b[0;32m    390\u001b[0m \u001b[1;33m\u001b[0m\u001b[0m\n",
      "\u001b[1;31mKeyboardInterrupt\u001b[0m: ",
      "\nDuring handling of the above exception, another exception occurred:\n",
      "\u001b[1;31mAttributeError\u001b[0m                            Traceback (most recent call last)",
      "\u001b[1;32m~\\anaconda3\\lib\\site-packages\\IPython\\core\\interactiveshell.py\u001b[0m in \u001b[0;36mshowtraceback\u001b[1;34m(self, exc_tuple, filename, tb_offset, exception_only, running_compiled_code)\u001b[0m\n\u001b[0;32m   2060\u001b[0m                         \u001b[1;31m# in the engines. This should return a list of strings.\u001b[0m\u001b[1;33m\u001b[0m\u001b[1;33m\u001b[0m\u001b[1;33m\u001b[0m\u001b[0m\n\u001b[1;32m-> 2061\u001b[1;33m                         \u001b[0mstb\u001b[0m \u001b[1;33m=\u001b[0m \u001b[0mvalue\u001b[0m\u001b[1;33m.\u001b[0m\u001b[0m_render_traceback_\u001b[0m\u001b[1;33m(\u001b[0m\u001b[1;33m)\u001b[0m\u001b[1;33m\u001b[0m\u001b[1;33m\u001b[0m\u001b[0m\n\u001b[0m\u001b[0;32m   2062\u001b[0m                     \u001b[1;32mexcept\u001b[0m \u001b[0mException\u001b[0m\u001b[1;33m:\u001b[0m\u001b[1;33m\u001b[0m\u001b[1;33m\u001b[0m\u001b[0m\n",
      "\u001b[1;31mAttributeError\u001b[0m: 'KeyboardInterrupt' object has no attribute '_render_traceback_'",
      "\nDuring handling of the above exception, another exception occurred:\n",
      "\u001b[1;31mTypeError\u001b[0m                                 Traceback (most recent call last)",
      "\u001b[1;32m<ipython-input-5-377d65c76678>\u001b[0m in \u001b[0;36m<module>\u001b[1;34m\u001b[0m\n\u001b[0;32m      6\u001b[0m     \u001b[0mprint\u001b[0m\u001b[1;33m(\u001b[0m\u001b[1;33m)\u001b[0m\u001b[1;33m\u001b[0m\u001b[1;33m\u001b[0m\u001b[0m\n\u001b[0;32m      7\u001b[0m     \u001b[0mprint\u001b[0m\u001b[1;33m(\u001b[0m\u001b[1;33m)\u001b[0m\u001b[1;33m\u001b[0m\u001b[1;33m\u001b[0m\u001b[0m\n\u001b[1;32m----> 8\u001b[1;33m     \u001b[0mget_ipython\u001b[0m\u001b[1;33m(\u001b[0m\u001b[1;33m)\u001b[0m\u001b[1;33m.\u001b[0m\u001b[0mrun_line_magic\u001b[0m\u001b[1;33m(\u001b[0m\u001b[1;34m'run'\u001b[0m\u001b[1;33m,\u001b[0m \u001b[1;34m'\"TM-Optimize-Models MOV.ipynb\"'\u001b[0m\u001b[1;33m)\u001b[0m\u001b[1;33m\u001b[0m\u001b[1;33m\u001b[0m\u001b[0m\n\u001b[0m",
      "\u001b[1;32m~\\anaconda3\\lib\\site-packages\\IPython\\core\\interactiveshell.py\u001b[0m in \u001b[0;36mrun_line_magic\u001b[1;34m(self, magic_name, line, _stack_depth)\u001b[0m\n\u001b[0;32m   2342\u001b[0m                 \u001b[0mkwargs\u001b[0m\u001b[1;33m[\u001b[0m\u001b[1;34m'local_ns'\u001b[0m\u001b[1;33m]\u001b[0m \u001b[1;33m=\u001b[0m \u001b[0mself\u001b[0m\u001b[1;33m.\u001b[0m\u001b[0mget_local_scope\u001b[0m\u001b[1;33m(\u001b[0m\u001b[0mstack_depth\u001b[0m\u001b[1;33m)\u001b[0m\u001b[1;33m\u001b[0m\u001b[1;33m\u001b[0m\u001b[0m\n\u001b[0;32m   2343\u001b[0m             \u001b[1;32mwith\u001b[0m \u001b[0mself\u001b[0m\u001b[1;33m.\u001b[0m\u001b[0mbuiltin_trap\u001b[0m\u001b[1;33m:\u001b[0m\u001b[1;33m\u001b[0m\u001b[1;33m\u001b[0m\u001b[0m\n\u001b[1;32m-> 2344\u001b[1;33m                 \u001b[0mresult\u001b[0m \u001b[1;33m=\u001b[0m \u001b[0mfn\u001b[0m\u001b[1;33m(\u001b[0m\u001b[1;33m*\u001b[0m\u001b[0margs\u001b[0m\u001b[1;33m,\u001b[0m \u001b[1;33m**\u001b[0m\u001b[0mkwargs\u001b[0m\u001b[1;33m)\u001b[0m\u001b[1;33m\u001b[0m\u001b[1;33m\u001b[0m\u001b[0m\n\u001b[0m\u001b[0;32m   2345\u001b[0m             \u001b[1;32mreturn\u001b[0m \u001b[0mresult\u001b[0m\u001b[1;33m\u001b[0m\u001b[1;33m\u001b[0m\u001b[0m\n\u001b[0;32m   2346\u001b[0m \u001b[1;33m\u001b[0m\u001b[0m\n",
      "\u001b[1;32m~\\anaconda3\\lib\\site-packages\\decorator.py\u001b[0m in \u001b[0;36mfun\u001b[1;34m(*args, **kw)\u001b[0m\n\u001b[0;32m    229\u001b[0m             \u001b[1;32mif\u001b[0m \u001b[1;32mnot\u001b[0m \u001b[0mkwsyntax\u001b[0m\u001b[1;33m:\u001b[0m\u001b[1;33m\u001b[0m\u001b[1;33m\u001b[0m\u001b[0m\n\u001b[0;32m    230\u001b[0m                 \u001b[0margs\u001b[0m\u001b[1;33m,\u001b[0m \u001b[0mkw\u001b[0m \u001b[1;33m=\u001b[0m \u001b[0mfix\u001b[0m\u001b[1;33m(\u001b[0m\u001b[0margs\u001b[0m\u001b[1;33m,\u001b[0m \u001b[0mkw\u001b[0m\u001b[1;33m,\u001b[0m \u001b[0msig\u001b[0m\u001b[1;33m)\u001b[0m\u001b[1;33m\u001b[0m\u001b[1;33m\u001b[0m\u001b[0m\n\u001b[1;32m--> 231\u001b[1;33m             \u001b[1;32mreturn\u001b[0m \u001b[0mcaller\u001b[0m\u001b[1;33m(\u001b[0m\u001b[0mfunc\u001b[0m\u001b[1;33m,\u001b[0m \u001b[1;33m*\u001b[0m\u001b[1;33m(\u001b[0m\u001b[0mextras\u001b[0m \u001b[1;33m+\u001b[0m \u001b[0margs\u001b[0m\u001b[1;33m)\u001b[0m\u001b[1;33m,\u001b[0m \u001b[1;33m**\u001b[0m\u001b[0mkw\u001b[0m\u001b[1;33m)\u001b[0m\u001b[1;33m\u001b[0m\u001b[1;33m\u001b[0m\u001b[0m\n\u001b[0m\u001b[0;32m    232\u001b[0m     \u001b[0mfun\u001b[0m\u001b[1;33m.\u001b[0m\u001b[0m__name__\u001b[0m \u001b[1;33m=\u001b[0m \u001b[0mfunc\u001b[0m\u001b[1;33m.\u001b[0m\u001b[0m__name__\u001b[0m\u001b[1;33m\u001b[0m\u001b[1;33m\u001b[0m\u001b[0m\n\u001b[0;32m    233\u001b[0m     \u001b[0mfun\u001b[0m\u001b[1;33m.\u001b[0m\u001b[0m__doc__\u001b[0m \u001b[1;33m=\u001b[0m \u001b[0mfunc\u001b[0m\u001b[1;33m.\u001b[0m\u001b[0m__doc__\u001b[0m\u001b[1;33m\u001b[0m\u001b[1;33m\u001b[0m\u001b[0m\n",
      "\u001b[1;32m~\\anaconda3\\lib\\site-packages\\IPython\\core\\magic.py\u001b[0m in \u001b[0;36m<lambda>\u001b[1;34m(f, *a, **k)\u001b[0m\n\u001b[0;32m    185\u001b[0m     \u001b[1;31m# but it's overkill for just that one bit of state.\u001b[0m\u001b[1;33m\u001b[0m\u001b[1;33m\u001b[0m\u001b[1;33m\u001b[0m\u001b[0m\n\u001b[0;32m    186\u001b[0m     \u001b[1;32mdef\u001b[0m \u001b[0mmagic_deco\u001b[0m\u001b[1;33m(\u001b[0m\u001b[0marg\u001b[0m\u001b[1;33m)\u001b[0m\u001b[1;33m:\u001b[0m\u001b[1;33m\u001b[0m\u001b[1;33m\u001b[0m\u001b[0m\n\u001b[1;32m--> 187\u001b[1;33m         \u001b[0mcall\u001b[0m \u001b[1;33m=\u001b[0m \u001b[1;32mlambda\u001b[0m \u001b[0mf\u001b[0m\u001b[1;33m,\u001b[0m \u001b[1;33m*\u001b[0m\u001b[0ma\u001b[0m\u001b[1;33m,\u001b[0m \u001b[1;33m**\u001b[0m\u001b[0mk\u001b[0m\u001b[1;33m:\u001b[0m \u001b[0mf\u001b[0m\u001b[1;33m(\u001b[0m\u001b[1;33m*\u001b[0m\u001b[0ma\u001b[0m\u001b[1;33m,\u001b[0m \u001b[1;33m**\u001b[0m\u001b[0mk\u001b[0m\u001b[1;33m)\u001b[0m\u001b[1;33m\u001b[0m\u001b[1;33m\u001b[0m\u001b[0m\n\u001b[0m\u001b[0;32m    188\u001b[0m \u001b[1;33m\u001b[0m\u001b[0m\n\u001b[0;32m    189\u001b[0m         \u001b[1;32mif\u001b[0m \u001b[0mcallable\u001b[0m\u001b[1;33m(\u001b[0m\u001b[0marg\u001b[0m\u001b[1;33m)\u001b[0m\u001b[1;33m:\u001b[0m\u001b[1;33m\u001b[0m\u001b[1;33m\u001b[0m\u001b[0m\n",
      "\u001b[1;32m~\\anaconda3\\lib\\site-packages\\IPython\\core\\magics\\execution.py\u001b[0m in \u001b[0;36mrun\u001b[1;34m(self, parameter_s, runner, file_finder)\u001b[0m\n\u001b[0;32m    722\u001b[0m             \u001b[1;32mwith\u001b[0m \u001b[0mpreserve_keys\u001b[0m\u001b[1;33m(\u001b[0m\u001b[0mself\u001b[0m\u001b[1;33m.\u001b[0m\u001b[0mshell\u001b[0m\u001b[1;33m.\u001b[0m\u001b[0muser_ns\u001b[0m\u001b[1;33m,\u001b[0m \u001b[1;34m'__file__'\u001b[0m\u001b[1;33m)\u001b[0m\u001b[1;33m:\u001b[0m\u001b[1;33m\u001b[0m\u001b[1;33m\u001b[0m\u001b[0m\n\u001b[0;32m    723\u001b[0m                 \u001b[0mself\u001b[0m\u001b[1;33m.\u001b[0m\u001b[0mshell\u001b[0m\u001b[1;33m.\u001b[0m\u001b[0muser_ns\u001b[0m\u001b[1;33m[\u001b[0m\u001b[1;34m'__file__'\u001b[0m\u001b[1;33m]\u001b[0m \u001b[1;33m=\u001b[0m \u001b[0mfilename\u001b[0m\u001b[1;33m\u001b[0m\u001b[1;33m\u001b[0m\u001b[0m\n\u001b[1;32m--> 724\u001b[1;33m                 \u001b[0mself\u001b[0m\u001b[1;33m.\u001b[0m\u001b[0mshell\u001b[0m\u001b[1;33m.\u001b[0m\u001b[0msafe_execfile_ipy\u001b[0m\u001b[1;33m(\u001b[0m\u001b[0mfilename\u001b[0m\u001b[1;33m,\u001b[0m \u001b[0mraise_exceptions\u001b[0m\u001b[1;33m=\u001b[0m\u001b[1;32mTrue\u001b[0m\u001b[1;33m)\u001b[0m\u001b[1;33m\u001b[0m\u001b[1;33m\u001b[0m\u001b[0m\n\u001b[0m\u001b[0;32m    725\u001b[0m             \u001b[1;32mreturn\u001b[0m\u001b[1;33m\u001b[0m\u001b[1;33m\u001b[0m\u001b[0m\n\u001b[0;32m    726\u001b[0m \u001b[1;33m\u001b[0m\u001b[0m\n",
      "\u001b[1;32m~\\anaconda3\\lib\\site-packages\\IPython\\core\\interactiveshell.py\u001b[0m in \u001b[0;36msafe_execfile_ipy\u001b[1;34m(self, fname, shell_futures, raise_exceptions)\u001b[0m\n\u001b[0;32m   2829\u001b[0m                     \u001b[0mresult\u001b[0m \u001b[1;33m=\u001b[0m \u001b[0mself\u001b[0m\u001b[1;33m.\u001b[0m\u001b[0mrun_cell\u001b[0m\u001b[1;33m(\u001b[0m\u001b[0mcell\u001b[0m\u001b[1;33m,\u001b[0m \u001b[0msilent\u001b[0m\u001b[1;33m=\u001b[0m\u001b[1;32mTrue\u001b[0m\u001b[1;33m,\u001b[0m \u001b[0mshell_futures\u001b[0m\u001b[1;33m=\u001b[0m\u001b[0mshell_futures\u001b[0m\u001b[1;33m)\u001b[0m\u001b[1;33m\u001b[0m\u001b[1;33m\u001b[0m\u001b[0m\n\u001b[0;32m   2830\u001b[0m                     \u001b[1;32mif\u001b[0m \u001b[0mraise_exceptions\u001b[0m\u001b[1;33m:\u001b[0m\u001b[1;33m\u001b[0m\u001b[1;33m\u001b[0m\u001b[0m\n\u001b[1;32m-> 2831\u001b[1;33m                         \u001b[0mresult\u001b[0m\u001b[1;33m.\u001b[0m\u001b[0mraise_error\u001b[0m\u001b[1;33m(\u001b[0m\u001b[1;33m)\u001b[0m\u001b[1;33m\u001b[0m\u001b[1;33m\u001b[0m\u001b[0m\n\u001b[0m\u001b[0;32m   2832\u001b[0m                     \u001b[1;32melif\u001b[0m \u001b[1;32mnot\u001b[0m \u001b[0mresult\u001b[0m\u001b[1;33m.\u001b[0m\u001b[0msuccess\u001b[0m\u001b[1;33m:\u001b[0m\u001b[1;33m\u001b[0m\u001b[1;33m\u001b[0m\u001b[0m\n\u001b[0;32m   2833\u001b[0m                         \u001b[1;32mbreak\u001b[0m\u001b[1;33m\u001b[0m\u001b[1;33m\u001b[0m\u001b[0m\n",
      "\u001b[1;32m~\\anaconda3\\lib\\site-packages\\IPython\\core\\interactiveshell.py\u001b[0m in \u001b[0;36mraise_error\u001b[1;34m(self)\u001b[0m\n\u001b[0;32m    327\u001b[0m         \u001b[1;34m\"\"\"Reraises error if `success` is `False`, otherwise does nothing\"\"\"\u001b[0m\u001b[1;33m\u001b[0m\u001b[1;33m\u001b[0m\u001b[0m\n\u001b[0;32m    328\u001b[0m         \u001b[1;32mif\u001b[0m \u001b[0mself\u001b[0m\u001b[1;33m.\u001b[0m\u001b[0merror_before_exec\u001b[0m \u001b[1;32mis\u001b[0m \u001b[1;32mnot\u001b[0m \u001b[1;32mNone\u001b[0m\u001b[1;33m:\u001b[0m\u001b[1;33m\u001b[0m\u001b[1;33m\u001b[0m\u001b[0m\n\u001b[1;32m--> 329\u001b[1;33m             \u001b[1;32mraise\u001b[0m \u001b[0mself\u001b[0m\u001b[1;33m.\u001b[0m\u001b[0merror_before_exec\u001b[0m\u001b[1;33m\u001b[0m\u001b[1;33m\u001b[0m\u001b[0m\n\u001b[0m\u001b[0;32m    330\u001b[0m         \u001b[1;32mif\u001b[0m \u001b[0mself\u001b[0m\u001b[1;33m.\u001b[0m\u001b[0merror_in_exec\u001b[0m \u001b[1;32mis\u001b[0m \u001b[1;32mnot\u001b[0m \u001b[1;32mNone\u001b[0m\u001b[1;33m:\u001b[0m\u001b[1;33m\u001b[0m\u001b[1;33m\u001b[0m\u001b[0m\n\u001b[0;32m    331\u001b[0m             \u001b[1;32mraise\u001b[0m \u001b[0mself\u001b[0m\u001b[1;33m.\u001b[0m\u001b[0merror_in_exec\u001b[0m\u001b[1;33m\u001b[0m\u001b[1;33m\u001b[0m\u001b[0m\n",
      "\u001b[1;32m~\\anaconda3\\lib\\site-packages\\IPython\\core\\interactiveshell.py\u001b[0m in \u001b[0;36mrun_ast_nodes\u001b[1;34m(self, nodelist, cell_name, interactivity, compiler, result)\u001b[0m\n\u001b[0;32m   3355\u001b[0m                         \u001b[0mcode\u001b[0m \u001b[1;33m=\u001b[0m \u001b[0mcompiler\u001b[0m\u001b[1;33m(\u001b[0m\u001b[0mmod\u001b[0m\u001b[1;33m,\u001b[0m \u001b[0mcell_name\u001b[0m\u001b[1;33m,\u001b[0m \u001b[0mmode\u001b[0m\u001b[1;33m)\u001b[0m\u001b[1;33m\u001b[0m\u001b[1;33m\u001b[0m\u001b[0m\n\u001b[0;32m   3356\u001b[0m                         \u001b[0masy\u001b[0m \u001b[1;33m=\u001b[0m \u001b[0mcompare\u001b[0m\u001b[1;33m(\u001b[0m\u001b[0mcode\u001b[0m\u001b[1;33m)\u001b[0m\u001b[1;33m\u001b[0m\u001b[1;33m\u001b[0m\u001b[0m\n\u001b[1;32m-> 3357\u001b[1;33m                     \u001b[1;32mif\u001b[0m \u001b[1;33m(\u001b[0m\u001b[1;32mawait\u001b[0m \u001b[0mself\u001b[0m\u001b[1;33m.\u001b[0m\u001b[0mrun_code\u001b[0m\u001b[1;33m(\u001b[0m\u001b[0mcode\u001b[0m\u001b[1;33m,\u001b[0m \u001b[0mresult\u001b[0m\u001b[1;33m,\u001b[0m  \u001b[0masync_\u001b[0m\u001b[1;33m=\u001b[0m\u001b[0masy\u001b[0m\u001b[1;33m)\u001b[0m\u001b[1;33m)\u001b[0m\u001b[1;33m:\u001b[0m\u001b[1;33m\u001b[0m\u001b[1;33m\u001b[0m\u001b[0m\n\u001b[0m\u001b[0;32m   3358\u001b[0m                         \u001b[1;32mreturn\u001b[0m \u001b[1;32mTrue\u001b[0m\u001b[1;33m\u001b[0m\u001b[1;33m\u001b[0m\u001b[0m\n\u001b[0;32m   3359\u001b[0m \u001b[1;33m\u001b[0m\u001b[0m\n",
      "    \u001b[1;31m[... skipping hidden 1 frame]\u001b[0m\n",
      "\u001b[1;32m~\\anaconda3\\lib\\site-packages\\IPython\\core\\interactiveshell.py\u001b[0m in \u001b[0;36mshowtraceback\u001b[1;34m(self, exc_tuple, filename, tb_offset, exception_only, running_compiled_code)\u001b[0m\n\u001b[0;32m   2061\u001b[0m                         \u001b[0mstb\u001b[0m \u001b[1;33m=\u001b[0m \u001b[0mvalue\u001b[0m\u001b[1;33m.\u001b[0m\u001b[0m_render_traceback_\u001b[0m\u001b[1;33m(\u001b[0m\u001b[1;33m)\u001b[0m\u001b[1;33m\u001b[0m\u001b[1;33m\u001b[0m\u001b[0m\n\u001b[0;32m   2062\u001b[0m                     \u001b[1;32mexcept\u001b[0m \u001b[0mException\u001b[0m\u001b[1;33m:\u001b[0m\u001b[1;33m\u001b[0m\u001b[1;33m\u001b[0m\u001b[0m\n\u001b[1;32m-> 2063\u001b[1;33m                         stb = self.InteractiveTB.structured_traceback(etype,\n\u001b[0m\u001b[0;32m   2064\u001b[0m                                             value, tb, tb_offset=tb_offset)\n\u001b[0;32m   2065\u001b[0m \u001b[1;33m\u001b[0m\u001b[0m\n",
      "\u001b[1;32m~\\anaconda3\\lib\\site-packages\\IPython\\core\\ultratb.py\u001b[0m in \u001b[0;36mstructured_traceback\u001b[1;34m(self, etype, value, tb, tb_offset, number_of_lines_of_context)\u001b[0m\n\u001b[0;32m   1365\u001b[0m         \u001b[1;32melse\u001b[0m\u001b[1;33m:\u001b[0m\u001b[1;33m\u001b[0m\u001b[1;33m\u001b[0m\u001b[0m\n\u001b[0;32m   1366\u001b[0m             \u001b[0mself\u001b[0m\u001b[1;33m.\u001b[0m\u001b[0mtb\u001b[0m \u001b[1;33m=\u001b[0m \u001b[0mtb\u001b[0m\u001b[1;33m\u001b[0m\u001b[1;33m\u001b[0m\u001b[0m\n\u001b[1;32m-> 1367\u001b[1;33m         return FormattedTB.structured_traceback(\n\u001b[0m\u001b[0;32m   1368\u001b[0m             self, etype, value, tb, tb_offset, number_of_lines_of_context)\n\u001b[0;32m   1369\u001b[0m \u001b[1;33m\u001b[0m\u001b[0m\n",
      "\u001b[1;32m~\\anaconda3\\lib\\site-packages\\IPython\\core\\ultratb.py\u001b[0m in \u001b[0;36mstructured_traceback\u001b[1;34m(self, etype, value, tb, tb_offset, number_of_lines_of_context)\u001b[0m\n\u001b[0;32m   1265\u001b[0m         \u001b[1;32mif\u001b[0m \u001b[0mmode\u001b[0m \u001b[1;32min\u001b[0m \u001b[0mself\u001b[0m\u001b[1;33m.\u001b[0m\u001b[0mverbose_modes\u001b[0m\u001b[1;33m:\u001b[0m\u001b[1;33m\u001b[0m\u001b[1;33m\u001b[0m\u001b[0m\n\u001b[0;32m   1266\u001b[0m             \u001b[1;31m# Verbose modes need a full traceback\u001b[0m\u001b[1;33m\u001b[0m\u001b[1;33m\u001b[0m\u001b[1;33m\u001b[0m\u001b[0m\n\u001b[1;32m-> 1267\u001b[1;33m             return VerboseTB.structured_traceback(\n\u001b[0m\u001b[0;32m   1268\u001b[0m                 \u001b[0mself\u001b[0m\u001b[1;33m,\u001b[0m \u001b[0metype\u001b[0m\u001b[1;33m,\u001b[0m \u001b[0mvalue\u001b[0m\u001b[1;33m,\u001b[0m \u001b[0mtb\u001b[0m\u001b[1;33m,\u001b[0m \u001b[0mtb_offset\u001b[0m\u001b[1;33m,\u001b[0m \u001b[0mnumber_of_lines_of_context\u001b[0m\u001b[1;33m\u001b[0m\u001b[1;33m\u001b[0m\u001b[0m\n\u001b[0;32m   1269\u001b[0m             )\n",
      "\u001b[1;32m~\\anaconda3\\lib\\site-packages\\IPython\\core\\ultratb.py\u001b[0m in \u001b[0;36mstructured_traceback\u001b[1;34m(self, etype, evalue, etb, tb_offset, number_of_lines_of_context)\u001b[0m\n\u001b[0;32m   1122\u001b[0m         \u001b[1;34m\"\"\"Return a nice text document describing the traceback.\"\"\"\u001b[0m\u001b[1;33m\u001b[0m\u001b[1;33m\u001b[0m\u001b[0m\n\u001b[0;32m   1123\u001b[0m \u001b[1;33m\u001b[0m\u001b[0m\n\u001b[1;32m-> 1124\u001b[1;33m         formatted_exception = self.format_exception_as_a_whole(etype, evalue, etb, number_of_lines_of_context,\n\u001b[0m\u001b[0;32m   1125\u001b[0m                                                                tb_offset)\n\u001b[0;32m   1126\u001b[0m \u001b[1;33m\u001b[0m\u001b[0m\n",
      "\u001b[1;32m~\\anaconda3\\lib\\site-packages\\IPython\\core\\ultratb.py\u001b[0m in \u001b[0;36mformat_exception_as_a_whole\u001b[1;34m(self, etype, evalue, etb, number_of_lines_of_context, tb_offset)\u001b[0m\n\u001b[0;32m   1080\u001b[0m \u001b[1;33m\u001b[0m\u001b[0m\n\u001b[0;32m   1081\u001b[0m \u001b[1;33m\u001b[0m\u001b[0m\n\u001b[1;32m-> 1082\u001b[1;33m         \u001b[0mlast_unique\u001b[0m\u001b[1;33m,\u001b[0m \u001b[0mrecursion_repeat\u001b[0m \u001b[1;33m=\u001b[0m \u001b[0mfind_recursion\u001b[0m\u001b[1;33m(\u001b[0m\u001b[0morig_etype\u001b[0m\u001b[1;33m,\u001b[0m \u001b[0mevalue\u001b[0m\u001b[1;33m,\u001b[0m \u001b[0mrecords\u001b[0m\u001b[1;33m)\u001b[0m\u001b[1;33m\u001b[0m\u001b[1;33m\u001b[0m\u001b[0m\n\u001b[0m\u001b[0;32m   1083\u001b[0m \u001b[1;33m\u001b[0m\u001b[0m\n\u001b[0;32m   1084\u001b[0m         \u001b[0mframes\u001b[0m \u001b[1;33m=\u001b[0m \u001b[0mself\u001b[0m\u001b[1;33m.\u001b[0m\u001b[0mformat_records\u001b[0m\u001b[1;33m(\u001b[0m\u001b[0mrecords\u001b[0m\u001b[1;33m,\u001b[0m \u001b[0mlast_unique\u001b[0m\u001b[1;33m,\u001b[0m \u001b[0mrecursion_repeat\u001b[0m\u001b[1;33m)\u001b[0m\u001b[1;33m\u001b[0m\u001b[1;33m\u001b[0m\u001b[0m\n",
      "\u001b[1;32m~\\anaconda3\\lib\\site-packages\\IPython\\core\\ultratb.py\u001b[0m in \u001b[0;36mfind_recursion\u001b[1;34m(etype, value, records)\u001b[0m\n\u001b[0;32m    380\u001b[0m     \u001b[1;31m# first frame (from in to out) that looks different.\u001b[0m\u001b[1;33m\u001b[0m\u001b[1;33m\u001b[0m\u001b[1;33m\u001b[0m\u001b[0m\n\u001b[0;32m    381\u001b[0m     \u001b[1;32mif\u001b[0m \u001b[1;32mnot\u001b[0m \u001b[0mis_recursion_error\u001b[0m\u001b[1;33m(\u001b[0m\u001b[0metype\u001b[0m\u001b[1;33m,\u001b[0m \u001b[0mvalue\u001b[0m\u001b[1;33m,\u001b[0m \u001b[0mrecords\u001b[0m\u001b[1;33m)\u001b[0m\u001b[1;33m:\u001b[0m\u001b[1;33m\u001b[0m\u001b[1;33m\u001b[0m\u001b[0m\n\u001b[1;32m--> 382\u001b[1;33m         \u001b[1;32mreturn\u001b[0m \u001b[0mlen\u001b[0m\u001b[1;33m(\u001b[0m\u001b[0mrecords\u001b[0m\u001b[1;33m)\u001b[0m\u001b[1;33m,\u001b[0m \u001b[1;36m0\u001b[0m\u001b[1;33m\u001b[0m\u001b[1;33m\u001b[0m\u001b[0m\n\u001b[0m\u001b[0;32m    383\u001b[0m \u001b[1;33m\u001b[0m\u001b[0m\n\u001b[0;32m    384\u001b[0m     \u001b[1;31m# Select filename, lineno, func_name to track frames with\u001b[0m\u001b[1;33m\u001b[0m\u001b[1;33m\u001b[0m\u001b[1;33m\u001b[0m\u001b[0m\n",
      "\u001b[1;31mTypeError\u001b[0m: object of type 'NoneType' has no len()"
     ]
    }
   ],
   "source": [
    "for n in range(0,number_of_models):\n",
    "    model_num = n\n",
    "    print()\n",
    "    print()\n",
    "    print(\"OPTIMIZING MODEL \" + str(model_num))\n",
    "    print()\n",
    "    print()\n",
    "    %run \"TM-Optimize-Models MOV.ipynb\""
   ]
  },
  {
   "cell_type": "code",
   "execution_count": null,
   "id": "e5520471",
   "metadata": {},
   "outputs": [],
   "source": []
  }
 ],
 "metadata": {
  "kernelspec": {
   "display_name": "Python 3",
   "language": "python",
   "name": "python3"
  },
  "language_info": {
   "codemirror_mode": {
    "name": "ipython",
    "version": 3
   },
   "file_extension": ".py",
   "mimetype": "text/x-python",
   "name": "python",
   "nbconvert_exporter": "python",
   "pygments_lexer": "ipython3",
   "version": "3.8.8"
  }
 },
 "nbformat": 4,
 "nbformat_minor": 5
}
