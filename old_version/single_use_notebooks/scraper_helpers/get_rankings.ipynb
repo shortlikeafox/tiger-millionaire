{
 "cells": [
  {
   "cell_type": "markdown",
   "metadata": {},
   "source": [
    "### Purpose"
   ]
  },
  {
   "cell_type": "markdown",
   "metadata": {},
   "source": [
    "The goal of this notebook is to merge the wonderful rankings data compiled here: https://www.kaggle.com/martj42/ufc-rankings and my match data"
   ]
  },
  {
   "cell_type": "code",
   "execution_count": 47,
   "metadata": {},
   "outputs": [],
   "source": [
    "import pandas as pd\n",
    "from datetime import timedelta\n",
    "import numpy as np\n",
    "import os \n"
   ]
  },
  {
   "cell_type": "code",
   "execution_count": 51,
   "metadata": {},
   "outputs": [
    {
     "name": "stdout",
     "output_type": "stream",
     "text": [
      "C:\\Users\\matth\\OneDrive\\github\\tiger-millionaire\\event_scraper\\scraper_helpers\n"
     ]
    }
   ],
   "source": []
  },
  {
   "cell_type": "markdown",
   "metadata": {},
   "source": [
    "# 1. Load the Data"
   ]
  },
  {
   "cell_type": "markdown",
   "metadata": {},
   "source": [
    "### Load the match data"
   ]
  },
  {
   "cell_type": "code",
   "execution_count": 52,
   "metadata": {},
   "outputs": [],
   "source": [
    "dir_path = os.path.dirname(os.path.realpath('scraped_event.csv'))"
   ]
  },
  {
   "cell_type": "code",
   "execution_count": 54,
   "metadata": {},
   "outputs": [
    {
     "name": "stderr",
     "output_type": "stream",
     "text": [
      "<ipython-input-54-3df8a910c521>:9: SettingWithCopyWarning: \n",
      "A value is trying to be set on a copy of a slice from a DataFrame\n",
      "\n",
      "See the caveats in the documentation: https://pandas.pydata.org/pandas-docs/stable/user_guide/indexing.html#returning-a-view-versus-a-copy\n",
      "  match_df['label'][mask] = 0\n",
      "<ipython-input-54-3df8a910c521>:11: SettingWithCopyWarning: \n",
      "A value is trying to be set on a copy of a slice from a DataFrame\n",
      "\n",
      "See the caveats in the documentation: https://pandas.pydata.org/pandas-docs/stable/user_guide/indexing.html#returning-a-view-versus-a-copy\n",
      "  match_df['label'][mask] = 1\n"
     ]
    }
   ],
   "source": [
    "#match_df = pd.read_csv(\"../data/ufc-master.csv\")\n",
    "\n",
    "match_df = pd.read_csv('scraper_helpers/scraped_event.csv') #We want to add ranks to the scraped event right?\n",
    "\n",
    "#Let's put all the labels in a dataframe\n",
    "match_df['label'] = ''\n",
    "#If the winner is not Red or Blue we can remove it.\n",
    "mask = match_df['Winner'] == 'Red'\n",
    "match_df['label'][mask] = 0\n",
    "mask = match_df['Winner'] == 'Blue'\n",
    "match_df['label'][mask] = 1\n",
    "\n",
    "#df[\"Winner\"] = df[\"Winner\"].astype('category')\n",
    "match_df = match_df[(match_df['Winner'] == 'Blue') | (match_df['Winner'] == 'Red')]\n",
    "\n",
    "\n",
    "#Make sure label is numeric\n",
    "match_df['label'] = pd.to_numeric(match_df['label'], errors='coerce')\n",
    "\n",
    "#Let's fix the date\n",
    "match_df['date'] = pd.to_datetime(match_df['date'])"
   ]
  },
  {
   "cell_type": "markdown",
   "metadata": {},
   "source": [
    "### Load the rankings data"
   ]
  },
  {
   "cell_type": "code",
   "execution_count": 55,
   "metadata": {},
   "outputs": [],
   "source": [
    "rankings_df = pd.read_csv(\"../data/rankings_history.csv\")\n",
    "rankings_df['date'] = pd.to_datetime(rankings_df['date'])"
   ]
  },
  {
   "cell_type": "code",
   "execution_count": 4,
   "metadata": {},
   "outputs": [
    {
     "name": "stdout",
     "output_type": "stream",
     "text": [
      "['Pound-for-Pound' 'Flyweight' 'Bantamweight' 'Featherweight'\n",
      " 'Lightweight' 'Welterweight' 'Middleweight' 'Light Heavyweight'\n",
      " 'Heavyweight' \"Women's Bantamweight\" \"Women's Strawweight\"\n",
      " \"Women's Featherweight\" \"Women's Flyweight\"]\n"
     ]
    }
   ],
   "source": [
    "weightclass_list = rankings_df.weightclass.unique()\n",
    "print(weightclass_list)"
   ]
  },
  {
   "cell_type": "markdown",
   "metadata": {},
   "source": [
    "The merged dataframe will contain all of the columns for the match dataframe.  It will also contain the following new columns:\n",
    "\n",
    "* B_Pound-for-Pound_rank\n",
    "* B_Flyweight_rank\n",
    "* B_Bantamweight_rank\n",
    "* B_Featherweight_rank\n",
    "* B_Lightweight_rank\n",
    "* B_Welterweight_rank\n",
    "* B_Middleweight_rank\n",
    "* B_Light Heavyweight_rank\n",
    "* B_Heavyweight_rank\n",
    "* B_Women's Bantamweight_rank\n",
    "* B_Women's Strawweight_rank\n",
    "* B_Women's Featherweight_rank\n",
    "* B_Women's Flyweight_rank\n",
    "* R_Pound-for-Pound_rank\n",
    "* R_Flyweight_rank\n",
    "* R_Bantamweight_rank\n",
    "* R_Featherweight_rank\n",
    "* R_Lightweight_rank\n",
    "* R_Welterweight_rank\n",
    "* R_Middleweight_rank\n",
    "* R_Light Heavyweight_rank\n",
    "* R_Heavyweight_rank\n",
    "* R_Women's Bantamweight_rank\n",
    "* R_Women's Strawweight_rank\n",
    "* R_Women's Featherweight_rank\n",
    "* R_Women's Flyweight_rank\n",
    "\n",
    "* R_match_weightclass_rank\n",
    "* B_match_weightclass_rank\n",
    "\n",
    "* better_rank\n",
    "\n",
    "The first batch of columns are just the current rank of the fighter in each weightclass.  I decided to do it this way as opposed to just having a 'rank' column and matching that to the weightclass of the fight, because a fighter can be ranked in multiple weightclasses, and that might give them an advantage that should be discoverable.  THe 'R_' or 'B_' refers to the red or blue fighter.\n",
    "\n",
    "R_match_weightclass_rank and B_match_weightclass_rank are the rank of the fighter in the weightclass that the current match is taking place in.\n",
    "\n",
    "better_rank will be {blue, red, neither} denoting the higher ranked fighter.\n"
   ]
  },
  {
   "cell_type": "markdown",
   "metadata": {},
   "source": [
    "# 2. Now... How do we combine the two dataframes?"
   ]
  },
  {
   "cell_type": "markdown",
   "metadata": {},
   "source": [
    "We have date information in both dataframes so I will use that.  We will get a list of all dates in the rankings dataframe.  The match dataframe will look at the most recent rankings before the date of the match and see if either fighter's name is in the list."
   ]
  },
  {
   "cell_type": "markdown",
   "metadata": {},
   "source": [
    "First let's get a list of dates from which we have ranking data\n"
   ]
  },
  {
   "cell_type": "code",
   "execution_count": 5,
   "metadata": {},
   "outputs": [
    {
     "name": "stdout",
     "output_type": "stream",
     "text": [
      "Index(['date', 'weightclass', 'fighter', 'rank'], dtype='object')\n"
     ]
    }
   ],
   "source": [
    "print(rankings_df.columns)"
   ]
  },
  {
   "cell_type": "code",
   "execution_count": 6,
   "metadata": {},
   "outputs": [
    {
     "data": {
      "text/plain": [
       "array(['2013-02-04T00:00:00.000000000', '2013-02-11T00:00:00.000000000',\n",
       "       '2013-02-18T00:00:00.000000000', '2013-02-25T00:00:00.000000000',\n",
       "       '2013-03-04T00:00:00.000000000', '2013-03-18T00:00:00.000000000',\n",
       "       '2013-04-08T00:00:00.000000000', '2013-04-15T00:00:00.000000000',\n",
       "       '2013-04-22T00:00:00.000000000', '2013-04-29T00:00:00.000000000',\n",
       "       '2013-05-28T00:00:00.000000000', '2013-06-10T00:00:00.000000000',\n",
       "       '2013-06-18T00:00:00.000000000', '2013-07-08T00:00:00.000000000',\n",
       "       '2013-07-29T00:00:00.000000000', '2013-08-05T00:00:00.000000000',\n",
       "       '2013-08-19T00:00:00.000000000', '2013-08-30T00:00:00.000000000',\n",
       "       '2013-09-02T00:00:00.000000000', '2013-09-06T00:00:00.000000000',\n",
       "       '2013-09-23T00:00:00.000000000', '2013-10-11T00:00:00.000000000',\n",
       "       '2013-10-21T00:00:00.000000000', '2013-10-28T00:00:00.000000000',\n",
       "       '2013-11-08T00:00:00.000000000', '2013-11-11T00:00:00.000000000',\n",
       "       '2013-11-18T00:00:00.000000000', '2013-12-03T00:00:00.000000000',\n",
       "       '2013-12-09T00:00:00.000000000', '2013-12-16T00:00:00.000000000',\n",
       "       '2013-12-30T00:00:00.000000000', '2014-01-07T00:00:00.000000000',\n",
       "       '2014-01-17T00:00:00.000000000', '2014-01-27T00:00:00.000000000',\n",
       "       '2014-02-03T00:00:00.000000000', '2014-02-17T00:00:00.000000000',\n",
       "       '2014-02-18T00:00:00.000000000', '2014-02-24T00:00:00.000000000',\n",
       "       '2014-02-25T00:00:00.000000000', '2014-03-03T00:00:00.000000000',\n",
       "       '2014-03-04T00:00:00.000000000', '2014-03-10T00:00:00.000000000',\n",
       "       '2014-03-17T00:00:00.000000000', '2014-03-24T00:00:00.000000000',\n",
       "       '2014-03-25T00:00:00.000000000', '2014-04-14T00:00:00.000000000',\n",
       "       '2014-04-18T00:00:00.000000000', '2014-04-21T00:00:00.000000000',\n",
       "       '2014-04-28T00:00:00.000000000', '2014-05-05T00:00:00.000000000',\n",
       "       '2014-05-06T00:00:00.000000000', '2014-05-12T00:00:00.000000000',\n",
       "       '2014-05-26T00:00:00.000000000', '2014-05-28T00:00:00.000000000',\n",
       "       '2014-06-02T00:00:00.000000000', '2014-06-09T00:00:00.000000000',\n",
       "       '2014-06-16T00:00:00.000000000', '2014-06-30T00:00:00.000000000',\n",
       "       '2014-07-08T00:00:00.000000000', '2014-07-21T00:00:00.000000000',\n",
       "       '2014-07-28T00:00:00.000000000', '2014-08-18T00:00:00.000000000',\n",
       "       '2014-08-25T00:00:00.000000000', '2014-09-01T00:00:00.000000000',\n",
       "       '2014-09-08T00:00:00.000000000', '2014-09-09T00:00:00.000000000',\n",
       "       '2014-09-15T00:00:00.000000000', '2014-09-22T00:00:00.000000000',\n",
       "       '2014-09-29T00:00:00.000000000', '2014-10-06T00:00:00.000000000',\n",
       "       '2014-10-27T00:00:00.000000000', '2014-11-10T00:00:00.000000000',\n",
       "       '2014-11-17T00:00:00.000000000', '2014-11-24T00:00:00.000000000',\n",
       "       '2014-12-08T00:00:00.000000000', '2014-12-15T00:00:00.000000000',\n",
       "       '2014-12-22T00:00:00.000000000', '2015-01-05T00:00:00.000000000',\n",
       "       '2015-01-20T00:00:00.000000000', '2015-01-26T00:00:00.000000000',\n",
       "       '2015-02-02T00:00:00.000000000', '2015-02-16T00:00:00.000000000',\n",
       "       '2015-02-24T00:00:00.000000000', '2015-03-02T00:00:00.000000000',\n",
       "       '2015-03-16T00:00:00.000000000', '2015-03-23T00:00:00.000000000',\n",
       "       '2015-04-06T00:00:00.000000000', '2015-04-13T00:00:00.000000000',\n",
       "       '2015-04-20T00:00:00.000000000', '2015-04-27T00:00:00.000000000',\n",
       "       '2015-05-11T00:00:00.000000000', '2015-05-25T00:00:00.000000000',\n",
       "       '2015-06-01T00:00:00.000000000', '2015-06-08T00:00:00.000000000',\n",
       "       '2015-06-15T00:00:00.000000000', '2015-06-22T00:00:00.000000000',\n",
       "       '2015-06-29T00:00:00.000000000', '2015-07-13T00:00:00.000000000',\n",
       "       '2015-07-20T00:00:00.000000000', '2015-07-27T00:00:00.000000000',\n",
       "       '2015-08-03T00:00:00.000000000', '2015-08-10T00:00:00.000000000',\n",
       "       '2015-08-25T00:00:00.000000000', '2015-09-07T00:00:00.000000000',\n",
       "       '2015-09-28T00:00:00.000000000', '2015-10-05T00:00:00.000000000',\n",
       "       '2015-10-26T00:00:00.000000000', '2015-11-09T00:00:00.000000000',\n",
       "       '2015-11-16T00:00:00.000000000', '2015-11-23T00:00:00.000000000',\n",
       "       '2015-11-30T00:00:00.000000000', '2015-12-14T00:00:00.000000000',\n",
       "       '2015-12-21T00:00:00.000000000', '2016-01-04T00:00:00.000000000',\n",
       "       '2016-01-19T00:00:00.000000000', '2016-02-01T00:00:00.000000000',\n",
       "       '2016-02-08T00:00:00.000000000', '2016-02-23T00:00:00.000000000',\n",
       "       '2016-02-29T00:00:00.000000000', '2016-03-07T00:00:00.000000000',\n",
       "       '2016-03-21T00:00:00.000000000', '2016-04-12T00:00:00.000000000',\n",
       "       '2016-04-18T00:00:00.000000000', '2016-04-25T00:00:00.000000000',\n",
       "       '2016-05-10T00:00:00.000000000', '2016-05-16T00:00:00.000000000',\n",
       "       '2016-05-31T00:00:00.000000000', '2016-06-06T00:00:00.000000000',\n",
       "       '2016-06-20T00:00:00.000000000', '2016-07-11T00:00:00.000000000',\n",
       "       '2016-07-15T00:00:00.000000000', '2016-07-27T00:00:00.000000000',\n",
       "       '2016-08-03T00:00:00.000000000', '2016-08-09T00:00:00.000000000',\n",
       "       '2016-08-24T00:00:00.000000000', '2016-08-31T00:00:00.000000000',\n",
       "       '2016-09-05T00:00:00.000000000', '2016-09-14T00:00:00.000000000',\n",
       "       '2016-09-21T00:00:00.000000000', '2016-09-26T00:00:00.000000000',\n",
       "       '2016-10-05T00:00:00.000000000', '2016-10-12T00:00:00.000000000',\n",
       "       '2016-11-07T00:00:00.000000000', '2016-11-16T00:00:00.000000000',\n",
       "       '2016-11-21T00:00:00.000000000', '2016-11-30T00:00:00.000000000',\n",
       "       '2016-12-05T00:00:00.000000000', '2016-12-14T00:00:00.000000000',\n",
       "       '2016-12-19T00:00:00.000000000', '2017-01-02T00:00:00.000000000',\n",
       "       '2017-01-18T00:00:00.000000000', '2017-02-01T00:00:00.000000000',\n",
       "       '2017-02-08T00:00:00.000000000', '2017-02-13T00:00:00.000000000',\n",
       "       '2017-02-21T00:00:00.000000000', '2017-03-06T00:00:00.000000000',\n",
       "       '2017-03-15T00:00:00.000000000', '2017-03-22T00:00:00.000000000',\n",
       "       '2017-04-12T00:00:00.000000000', '2017-04-19T00:00:00.000000000',\n",
       "       '2017-04-26T00:00:00.000000000', '2017-05-17T00:00:00.000000000',\n",
       "       '2017-05-31T00:00:00.000000000', '2017-06-07T00:00:00.000000000',\n",
       "       '2017-06-14T00:00:00.000000000', '2017-06-21T00:00:00.000000000',\n",
       "       '2017-06-28T00:00:00.000000000', '2017-07-10T00:00:00.000000000',\n",
       "       '2017-07-18T00:00:00.000000000', '2017-07-26T00:00:00.000000000',\n",
       "       '2017-08-02T00:00:00.000000000', '2017-08-07T00:00:00.000000000',\n",
       "       '2017-09-04T00:00:00.000000000', '2017-09-13T00:00:00.000000000',\n",
       "       '2017-09-20T00:00:00.000000000', '2017-09-25T00:00:00.000000000',\n",
       "       '2017-10-09T00:00:00.000000000', '2017-10-23T00:00:00.000000000',\n",
       "       '2017-10-30T00:00:00.000000000', '2017-11-08T00:00:00.000000000',\n",
       "       '2017-11-13T00:00:00.000000000', '2017-11-20T00:00:00.000000000',\n",
       "       '2017-11-29T00:00:00.000000000', '2017-12-06T00:00:00.000000000',\n",
       "       '2017-12-13T00:00:00.000000000', '2017-12-18T00:00:00.000000000',\n",
       "       '2018-01-01T00:00:00.000000000', '2018-01-17T00:00:00.000000000',\n",
       "       '2018-01-24T00:00:00.000000000', '2018-01-29T00:00:00.000000000',\n",
       "       '2018-02-07T00:00:00.000000000', '2018-02-12T00:00:00.000000000',\n",
       "       '2018-02-21T00:00:00.000000000', '2018-02-26T00:00:00.000000000',\n",
       "       '2018-03-05T00:00:00.000000000', '2018-03-21T00:00:00.000000000',\n",
       "       '2018-04-11T00:00:00.000000000', '2018-04-18T00:00:00.000000000',\n",
       "       '2018-04-23T00:00:00.000000000', '2018-05-16T00:00:00.000000000',\n",
       "       '2018-05-23T00:00:00.000000000', '2018-05-30T00:00:00.000000000',\n",
       "       '2018-06-06T00:00:00.000000000', '2018-06-13T00:00:00.000000000',\n",
       "       '2018-06-26T00:00:00.000000000', '2018-07-11T00:00:00.000000000',\n",
       "       '2018-07-16T00:00:00.000000000', '2018-07-25T00:00:00.000000000',\n",
       "       '2018-08-01T00:00:00.000000000', '2018-08-06T00:00:00.000000000',\n",
       "       '2018-08-29T00:00:00.000000000', '2018-09-12T00:00:00.000000000',\n",
       "       '2018-09-19T00:00:00.000000000', '2018-09-24T00:00:00.000000000',\n",
       "       '2018-10-08T00:00:00.000000000', '2018-10-31T00:00:00.000000000',\n",
       "       '2018-11-07T00:00:00.000000000', '2018-11-12T00:00:00.000000000',\n",
       "       '2018-11-19T00:00:00.000000000', '2018-11-28T00:00:00.000000000',\n",
       "       '2018-12-03T00:00:00.000000000', '2018-12-12T00:00:00.000000000',\n",
       "       '2018-12-17T00:00:00.000000000', '2019-01-01T00:00:00.000000000',\n",
       "       '2019-01-21T00:00:00.000000000', '2019-02-04T00:00:00.000000000',\n",
       "       '2019-02-11T00:00:00.000000000', '2019-02-19T00:00:00.000000000',\n",
       "       '2019-02-25T00:00:00.000000000', '2019-03-05T00:00:00.000000000',\n",
       "       '2019-03-12T00:00:00.000000000', '2019-03-20T00:00:00.000000000',\n",
       "       '2019-03-26T00:00:00.000000000', '2019-04-01T00:00:00.000000000',\n",
       "       '2019-04-03T00:00:00.000000000', '2019-04-15T00:00:00.000000000',\n",
       "       '2019-04-22T00:00:00.000000000', '2019-04-30T00:00:00.000000000',\n",
       "       '2019-05-06T00:00:00.000000000', '2019-05-13T00:00:00.000000000',\n",
       "       '2019-05-21T00:00:00.000000000', '2019-06-03T00:00:00.000000000',\n",
       "       '2019-07-08T00:00:00.000000000', '2019-07-15T00:00:00.000000000',\n",
       "       '2019-07-22T00:00:00.000000000', '2019-07-29T00:00:00.000000000',\n",
       "       '2019-08-05T00:00:00.000000000', '2019-08-12T00:00:00.000000000',\n",
       "       '2019-08-19T00:00:00.000000000', '2019-09-02T00:00:00.000000000',\n",
       "       '2019-09-09T00:00:00.000000000', '2019-09-16T00:00:00.000000000',\n",
       "       '2019-09-23T00:00:00.000000000', '2019-09-30T00:00:00.000000000',\n",
       "       '2019-10-07T00:00:00.000000000', '2019-10-14T00:00:00.000000000',\n",
       "       '2019-10-21T00:00:00.000000000', '2019-10-28T00:00:00.000000000',\n",
       "       '2019-11-04T00:00:00.000000000', '2019-11-11T00:00:00.000000000',\n",
       "       '2019-11-18T00:00:00.000000000', '2019-12-10T00:00:00.000000000',\n",
       "       '2019-12-16T00:00:00.000000000', '2019-12-24T00:00:00.000000000',\n",
       "       '2020-01-20T00:00:00.000000000', '2020-01-27T00:00:00.000000000',\n",
       "       '2020-02-10T00:00:00.000000000', '2020-02-17T00:00:00.000000000',\n",
       "       '2020-02-24T00:00:00.000000000', '2020-03-02T00:00:00.000000000',\n",
       "       '2020-03-09T00:00:00.000000000', '2020-03-16T00:00:00.000000000',\n",
       "       '2020-05-11T00:00:00.000000000', '2020-05-19T00:00:00.000000000',\n",
       "       '2020-06-02T00:00:00.000000000', '2020-06-08T00:00:00.000000000',\n",
       "       '2020-06-15T00:00:00.000000000', '2020-06-22T00:00:00.000000000',\n",
       "       '2020-06-29T00:00:00.000000000', '2020-07-14T00:00:00.000000000',\n",
       "       '2020-07-27T00:00:00.000000000', '2020-08-03T00:00:00.000000000',\n",
       "       '2020-08-10T00:00:00.000000000', '2020-08-17T00:00:00.000000000',\n",
       "       '2020-08-24T00:00:00.000000000', '2020-08-31T00:00:00.000000000',\n",
       "       '2020-09-07T00:00:00.000000000', '2020-09-15T00:00:00.000000000',\n",
       "       '2020-09-21T00:00:00.000000000', '2020-09-28T00:00:00.000000000',\n",
       "       '2020-10-05T00:00:00.000000000', '2020-10-12T00:00:00.000000000',\n",
       "       '2020-10-19T00:00:00.000000000', '2020-10-26T00:00:00.000000000',\n",
       "       '2020-11-02T00:00:00.000000000', '2020-11-09T00:00:00.000000000',\n",
       "       '2020-11-16T00:00:00.000000000', '2020-11-23T00:00:00.000000000',\n",
       "       '2020-11-30T00:00:00.000000000', '2020-12-07T00:00:00.000000000',\n",
       "       '2020-12-14T00:00:00.000000000', '2020-12-21T00:00:00.000000000',\n",
       "       '2021-01-18T00:00:00.000000000', '2021-01-25T00:00:00.000000000',\n",
       "       '2021-02-08T00:00:00.000000000', '2021-02-15T00:00:00.000000000',\n",
       "       '2021-02-22T00:00:00.000000000', '2021-03-01T00:00:00.000000000',\n",
       "       '2021-03-08T00:00:00.000000000', '2021-03-15T00:00:00.000000000',\n",
       "       '2021-03-23T00:00:00.000000000', '2021-03-29T00:00:00.000000000',\n",
       "       '2021-04-12T00:00:00.000000000', '2021-04-19T00:00:00.000000000',\n",
       "       '2021-04-26T00:00:00.000000000'], dtype='datetime64[ns]')"
      ]
     },
     "metadata": {},
     "output_type": "display_data"
    }
   ],
   "source": [
    "date_list = rankings_df.date.unique()\n",
    "display(date_list)"
   ]
  },
  {
   "cell_type": "code",
   "execution_count": 7,
   "metadata": {},
   "outputs": [
    {
     "name": "stdout",
     "output_type": "stream",
     "text": [
      "2013-02-04T00:00:00.000000000\n"
     ]
    }
   ],
   "source": [
    "print(min(date_list))"
   ]
  },
  {
   "cell_type": "code",
   "execution_count": 8,
   "metadata": {},
   "outputs": [
    {
     "name": "stdout",
     "output_type": "stream",
     "text": [
      "2021-04-26T00:00:00.000000000\n"
     ]
    }
   ],
   "source": [
    "max_date = max(date_list)\n",
    "print(max_date)"
   ]
  },
  {
   "cell_type": "markdown",
   "metadata": {},
   "source": [
    "We have matchup data that goes back a few years earlier than the ranking data, but that isn't a big deal.  We just have to write code that won't return an error if it can't find appropriate ranking data"
   ]
  },
  {
   "cell_type": "markdown",
   "metadata": {},
   "source": [
    "Let's try to look smart and see if we can figure this out using a lambda function"
   ]
  },
  {
   "cell_type": "code",
   "execution_count": 9,
   "metadata": {},
   "outputs": [
    {
     "data": {
      "text/html": [
       "<div>\n",
       "<style scoped>\n",
       "    .dataframe tbody tr th:only-of-type {\n",
       "        vertical-align: middle;\n",
       "    }\n",
       "\n",
       "    .dataframe tbody tr th {\n",
       "        vertical-align: top;\n",
       "    }\n",
       "\n",
       "    .dataframe thead th {\n",
       "        text-align: right;\n",
       "    }\n",
       "</style>\n",
       "<table border=\"1\" class=\"dataframe\">\n",
       "  <thead>\n",
       "    <tr style=\"text-align: right;\">\n",
       "      <th></th>\n",
       "      <th>date</th>\n",
       "      <th>weightclass</th>\n",
       "      <th>fighter</th>\n",
       "      <th>rank</th>\n",
       "    </tr>\n",
       "  </thead>\n",
       "  <tbody>\n",
       "    <tr>\n",
       "      <th>0</th>\n",
       "      <td>2013-02-04</td>\n",
       "      <td>Pound-for-Pound</td>\n",
       "      <td>Anderson Silva</td>\n",
       "      <td>1</td>\n",
       "    </tr>\n",
       "    <tr>\n",
       "      <th>1</th>\n",
       "      <td>2013-02-04</td>\n",
       "      <td>Pound-for-Pound</td>\n",
       "      <td>Jon Jones</td>\n",
       "      <td>2</td>\n",
       "    </tr>\n",
       "    <tr>\n",
       "      <th>2</th>\n",
       "      <td>2013-02-04</td>\n",
       "      <td>Pound-for-Pound</td>\n",
       "      <td>Georges St-Pierre</td>\n",
       "      <td>3</td>\n",
       "    </tr>\n",
       "    <tr>\n",
       "      <th>3</th>\n",
       "      <td>2013-02-04</td>\n",
       "      <td>Pound-for-Pound</td>\n",
       "      <td>Jose Aldo</td>\n",
       "      <td>4</td>\n",
       "    </tr>\n",
       "    <tr>\n",
       "      <th>4</th>\n",
       "      <td>2013-02-04</td>\n",
       "      <td>Pound-for-Pound</td>\n",
       "      <td>Benson Henderson</td>\n",
       "      <td>5</td>\n",
       "    </tr>\n",
       "  </tbody>\n",
       "</table>\n",
       "</div>"
      ],
      "text/plain": [
       "        date      weightclass            fighter  rank\n",
       "0 2013-02-04  Pound-for-Pound     Anderson Silva     1\n",
       "1 2013-02-04  Pound-for-Pound          Jon Jones     2\n",
       "2 2013-02-04  Pound-for-Pound  Georges St-Pierre     3\n",
       "3 2013-02-04  Pound-for-Pound          Jose Aldo     4\n",
       "4 2013-02-04  Pound-for-Pound   Benson Henderson     5"
      ]
     },
     "metadata": {},
     "output_type": "display_data"
    }
   ],
   "source": [
    "display(rankings_df.head())"
   ]
  },
  {
   "cell_type": "code",
   "execution_count": 10,
   "metadata": {},
   "outputs": [
    {
     "data": {
      "text/plain": [
       "Index(['R_fighter', 'B_fighter', 'R_odds', 'B_odds', 'R_ev', 'B_ev', 'date',\n",
       "       'location', 'country', 'Winner',\n",
       "       ...\n",
       "       'B_td_attempted_bout', 'R_td_pct_bout', 'B_td_pct_bout',\n",
       "       'R_sub_attempts_bout', 'B_sub_attempts_bout', 'R_pass_bout',\n",
       "       'B_pass_bout', 'R_rev_bout', 'B_rev_bout', 'label'],\n",
       "      dtype='object', length=138)"
      ]
     },
     "metadata": {},
     "output_type": "display_data"
    }
   ],
   "source": [
    "display(match_df.columns)"
   ]
  },
  {
   "cell_type": "code",
   "execution_count": 11,
   "metadata": {},
   "outputs": [
    {
     "data": {
      "text/plain": [
       "array(['2021-06-26T00:00:00.000000000'], dtype='datetime64[ns]')"
      ]
     },
     "metadata": {},
     "output_type": "display_data"
    }
   ],
   "source": [
    "test_date_list = match_df.date.unique()\n",
    "display(test_date_list)\n"
   ]
  },
  {
   "cell_type": "code",
   "execution_count": 12,
   "metadata": {},
   "outputs": [],
   "source": [
    "def return_rank(fighter_name, date, wc):\n",
    "    rank = ''\n",
    "    keep_going = True;\n",
    "    previous_d = max_date\n",
    "    #We need to add something so this works for upcoming events\n",
    "    for d in date_list:\n",
    "        if keep_going:\n",
    "            time_dif =  (d - date).total_seconds()\n",
    "            print(time_dif)\n",
    "            if ((time_dif > -1) or ((max_date - date).total_seconds() < 0)):\n",
    "                \n",
    "                keep_going = False\n",
    "                #print(fighter_name, time_dif, date, wc, d)\n",
    "                temp_rankings_df = rankings_df[rankings_df['date']==previous_d].copy()\n",
    "                temp_rankings_df = temp_rankings_df[temp_rankings_df['weightclass']==wc]\n",
    "                temp_rankings_df = temp_rankings_df[temp_rankings_df['fighter']==fighter_name]\n",
    "                #This means we have a match.  We need to return the rank\n",
    "                if len(temp_rankings_df) > 0:\n",
    "                    rank = int(temp_rankings_df.iloc[0]['rank'])\n",
    "                    #display(rank)\n",
    "                    #print(fighter_name)\n",
    "                #print(len(temp_rankings_df))\n",
    "            else:\n",
    "                previous_d = d\n",
    "    if isinstance(rank, int):\n",
    "        print(rank)\n",
    "        return(rank)\n",
    "    else:\n",
    "        return('')"
   ]
  },
  {
   "cell_type": "markdown",
   "metadata": {},
   "source": [
    "better_rank"
   ]
  },
  {
   "cell_type": "code",
   "execution_count": 13,
   "metadata": {},
   "outputs": [
    {
     "name": "stdout",
     "output_type": "stream",
     "text": [
      "-264729600.0\n",
      "5\n",
      "-264729600.0\n",
      "-264729600.0\n",
      "-264729600.0\n",
      "-264729600.0\n",
      "-264729600.0\n",
      "-264729600.0\n",
      "-264729600.0\n",
      "-264729600.0\n",
      "-264729600.0\n",
      "-264729600.0\n",
      "-264729600.0\n",
      "-264729600.0\n"
     ]
    }
   ],
   "source": [
    "match_df['B_match_weightclass_rank'] = match_df.apply(lambda x: return_rank(x['B_fighter'],\n",
    "                                                                         x['date'],\n",
    "                                                                         x['weight_class']),axis=1)"
   ]
  },
  {
   "cell_type": "code",
   "execution_count": 14,
   "metadata": {},
   "outputs": [
    {
     "name": "stdout",
     "output_type": "stream",
     "text": [
      "-264729600.0\n",
      "4\n",
      "-264729600.0\n",
      "-264729600.0\n",
      "-264729600.0\n",
      "-264729600.0\n",
      "-264729600.0\n",
      "-264729600.0\n",
      "-264729600.0\n",
      "-264729600.0\n",
      "-264729600.0\n",
      "-264729600.0\n",
      "15\n",
      "-264729600.0\n",
      "-264729600.0\n"
     ]
    }
   ],
   "source": [
    "match_df['R_match_weightclass_rank'] = match_df.apply(lambda x: return_rank(x['R_fighter'],\n",
    "                                                                         x['date'],\n",
    "                                                                         x['weight_class']),axis=1)"
   ]
  },
  {
   "cell_type": "code",
   "execution_count": 15,
   "metadata": {},
   "outputs": [
    {
     "name": "stdout",
     "output_type": "stream",
     "text": [
      "-264729600.0\n",
      "-264729600.0\n",
      "-264729600.0\n",
      "-264729600.0\n",
      "-264729600.0\n",
      "-264729600.0\n",
      "-264729600.0\n",
      "-264729600.0\n",
      "-264729600.0\n",
      "-264729600.0\n",
      "-264729600.0\n",
      "-264729600.0\n",
      "-264729600.0\n"
     ]
    }
   ],
   "source": [
    "match_df['R_Women\\'s Flyweight_rank'] = match_df.apply(lambda x: return_rank(x['R_fighter'],\n",
    "                                                                         x['date'],\n",
    "                                                                         'Women\\'s Flyweight'),axis=1)"
   ]
  },
  {
   "cell_type": "code",
   "execution_count": 16,
   "metadata": {},
   "outputs": [
    {
     "name": "stdout",
     "output_type": "stream",
     "text": [
      "-264729600.0\n",
      "-264729600.0\n",
      "-264729600.0\n",
      "-264729600.0\n",
      "-264729600.0\n",
      "-264729600.0\n",
      "-264729600.0\n",
      "-264729600.0\n",
      "-264729600.0\n",
      "-264729600.0\n",
      "-264729600.0\n",
      "-264729600.0\n",
      "-264729600.0\n"
     ]
    }
   ],
   "source": [
    "match_df['R_Women\\'s Featherweight_rank'] = match_df.apply(lambda x: return_rank(x['R_fighter'],\n",
    "                                                                         x['date'],\n",
    "                                                                         'Women\\'s Featherweight'),axis=1)"
   ]
  },
  {
   "cell_type": "code",
   "execution_count": 17,
   "metadata": {},
   "outputs": [
    {
     "name": "stdout",
     "output_type": "stream",
     "text": [
      "-264729600.0\n",
      "-264729600.0\n",
      "-264729600.0\n",
      "-264729600.0\n",
      "-264729600.0\n",
      "-264729600.0\n",
      "-264729600.0\n",
      "-264729600.0\n",
      "-264729600.0\n",
      "-264729600.0\n",
      "-264729600.0\n",
      "-264729600.0\n",
      "-264729600.0\n"
     ]
    }
   ],
   "source": [
    "match_df['R_Women\\'s Strawweight_rank'] = match_df.apply(lambda x: return_rank(x['R_fighter'],\n",
    "                                                                         x['date'],\n",
    "                                                                         'Women\\'s Strawweight'),axis=1)"
   ]
  },
  {
   "cell_type": "code",
   "execution_count": 18,
   "metadata": {},
   "outputs": [
    {
     "name": "stdout",
     "output_type": "stream",
     "text": [
      "-264729600.0\n",
      "-264729600.0\n",
      "-264729600.0\n",
      "-264729600.0\n",
      "-264729600.0\n",
      "-264729600.0\n",
      "-264729600.0\n",
      "-264729600.0\n",
      "-264729600.0\n",
      "-264729600.0\n",
      "-264729600.0\n",
      "15\n",
      "-264729600.0\n",
      "-264729600.0\n"
     ]
    }
   ],
   "source": [
    "match_df['R_Women\\'s Bantamweight_rank'] = match_df.apply(lambda x: return_rank(x['R_fighter'],\n",
    "                                                                         x['date'],\n",
    "                                                                         'Women\\'s Bantamweight'),axis=1)"
   ]
  },
  {
   "cell_type": "code",
   "execution_count": 19,
   "metadata": {},
   "outputs": [
    {
     "name": "stdout",
     "output_type": "stream",
     "text": [
      "-264729600.0\n",
      "4\n",
      "-264729600.0\n",
      "-264729600.0\n",
      "-264729600.0\n",
      "-264729600.0\n",
      "-264729600.0\n",
      "-264729600.0\n",
      "-264729600.0\n",
      "-264729600.0\n",
      "-264729600.0\n",
      "-264729600.0\n",
      "-264729600.0\n",
      "-264729600.0\n"
     ]
    }
   ],
   "source": [
    "match_df['R_Heavyweight_rank'] = match_df.apply(lambda x: return_rank(x['R_fighter'],\n",
    "                                                                         x['date'],\n",
    "                                                                         'Heavyweight'),axis=1)"
   ]
  },
  {
   "cell_type": "code",
   "execution_count": 20,
   "metadata": {},
   "outputs": [
    {
     "name": "stdout",
     "output_type": "stream",
     "text": [
      "-264729600.0\n",
      "-264729600.0\n",
      "-264729600.0\n",
      "-264729600.0\n",
      "-264729600.0\n",
      "-264729600.0\n",
      "-264729600.0\n",
      "-264729600.0\n",
      "-264729600.0\n",
      "-264729600.0\n",
      "-264729600.0\n",
      "-264729600.0\n",
      "-264729600.0\n"
     ]
    }
   ],
   "source": [
    "match_df['R_Light Heavyweight_rank'] = match_df.apply(lambda x: return_rank(x['R_fighter'],\n",
    "                                                                         x['date'],\n",
    "                                                                         'Light Heavyweight'),axis=1)"
   ]
  },
  {
   "cell_type": "code",
   "execution_count": 21,
   "metadata": {},
   "outputs": [
    {
     "name": "stdout",
     "output_type": "stream",
     "text": [
      "-264729600.0\n",
      "-264729600.0\n",
      "-264729600.0\n",
      "-264729600.0\n",
      "-264729600.0\n",
      "-264729600.0\n",
      "-264729600.0\n",
      "-264729600.0\n",
      "-264729600.0\n",
      "-264729600.0\n",
      "-264729600.0\n",
      "-264729600.0\n",
      "-264729600.0\n"
     ]
    }
   ],
   "source": [
    "match_df['R_Middleweight_rank'] = match_df.apply(lambda x: return_rank(x['R_fighter'],\n",
    "                                                                         x['date'],\n",
    "                                                                         'Middleweight'),axis=1)"
   ]
  },
  {
   "cell_type": "code",
   "execution_count": 22,
   "metadata": {},
   "outputs": [
    {
     "name": "stdout",
     "output_type": "stream",
     "text": [
      "-264729600.0\n",
      "-264729600.0\n",
      "-264729600.0\n",
      "-264729600.0\n",
      "-264729600.0\n",
      "-264729600.0\n",
      "-264729600.0\n",
      "-264729600.0\n",
      "-264729600.0\n",
      "-264729600.0\n",
      "-264729600.0\n",
      "-264729600.0\n",
      "-264729600.0\n"
     ]
    }
   ],
   "source": [
    "match_df['R_Welterweight_rank'] = match_df.apply(lambda x: return_rank(x['R_fighter'],\n",
    "                                                                         x['date'],\n",
    "                                                                         'Welterweight'),axis=1)"
   ]
  },
  {
   "cell_type": "code",
   "execution_count": 23,
   "metadata": {},
   "outputs": [
    {
     "name": "stdout",
     "output_type": "stream",
     "text": [
      "-264729600.0\n",
      "-264729600.0\n",
      "-264729600.0\n",
      "-264729600.0\n",
      "-264729600.0\n",
      "-264729600.0\n",
      "-264729600.0\n",
      "-264729600.0\n",
      "-264729600.0\n",
      "-264729600.0\n",
      "-264729600.0\n",
      "-264729600.0\n",
      "-264729600.0\n"
     ]
    }
   ],
   "source": [
    "match_df['R_Lightweight_rank'] = match_df.apply(lambda x: return_rank(x['R_fighter'],\n",
    "                                                                         x['date'],\n",
    "                                                                         'Lightweight'),axis=1)"
   ]
  },
  {
   "cell_type": "code",
   "execution_count": 24,
   "metadata": {},
   "outputs": [
    {
     "name": "stdout",
     "output_type": "stream",
     "text": [
      "-264729600.0\n",
      "-264729600.0\n",
      "-264729600.0\n",
      "-264729600.0\n",
      "-264729600.0\n",
      "-264729600.0\n",
      "-264729600.0\n",
      "-264729600.0\n",
      "-264729600.0\n",
      "-264729600.0\n",
      "-264729600.0\n",
      "-264729600.0\n",
      "-264729600.0\n"
     ]
    }
   ],
   "source": [
    "match_df['R_Featherweight_rank'] = match_df.apply(lambda x: return_rank(x['R_fighter'],\n",
    "                                                                         x['date'],\n",
    "                                                                         'Featherweight'),axis=1)"
   ]
  },
  {
   "cell_type": "code",
   "execution_count": 25,
   "metadata": {},
   "outputs": [
    {
     "name": "stdout",
     "output_type": "stream",
     "text": [
      "-264729600.0\n",
      "-264729600.0\n",
      "-264729600.0\n",
      "-264729600.0\n",
      "-264729600.0\n",
      "-264729600.0\n",
      "-264729600.0\n",
      "-264729600.0\n",
      "-264729600.0\n",
      "-264729600.0\n",
      "-264729600.0\n",
      "-264729600.0\n",
      "-264729600.0\n"
     ]
    }
   ],
   "source": [
    "match_df['R_Bantamweight_rank'] = match_df.apply(lambda x: return_rank(x['R_fighter'],\n",
    "                                                                         x['date'],\n",
    "                                                                         'Bantamweight'),axis=1)"
   ]
  },
  {
   "cell_type": "code",
   "execution_count": 26,
   "metadata": {},
   "outputs": [
    {
     "name": "stdout",
     "output_type": "stream",
     "text": [
      "-264729600.0\n",
      "-264729600.0\n",
      "-264729600.0\n",
      "-264729600.0\n",
      "-264729600.0\n",
      "-264729600.0\n",
      "-264729600.0\n",
      "-264729600.0\n",
      "-264729600.0\n",
      "-264729600.0\n",
      "-264729600.0\n",
      "-264729600.0\n",
      "-264729600.0\n"
     ]
    }
   ],
   "source": [
    "match_df['R_Flyweight_rank'] = match_df.apply(lambda x: return_rank(x['R_fighter'],\n",
    "                                                                         x['date'],\n",
    "                                                                         'Flyweight'),axis=1)"
   ]
  },
  {
   "cell_type": "code",
   "execution_count": 27,
   "metadata": {},
   "outputs": [
    {
     "name": "stdout",
     "output_type": "stream",
     "text": [
      "-264729600.0\n",
      "-264729600.0\n",
      "-264729600.0\n",
      "-264729600.0\n",
      "-264729600.0\n",
      "-264729600.0\n",
      "-264729600.0\n",
      "-264729600.0\n",
      "-264729600.0\n",
      "-264729600.0\n",
      "-264729600.0\n",
      "-264729600.0\n",
      "-264729600.0\n"
     ]
    }
   ],
   "source": [
    "match_df['R_Pound-for-Pound_rank'] = match_df.apply(lambda x: return_rank(x['R_fighter'],\n",
    "                                                                         x['date'],\n",
    "                                                                         'Pound-for-Pound'),axis=1)"
   ]
  },
  {
   "cell_type": "code",
   "execution_count": 28,
   "metadata": {},
   "outputs": [
    {
     "name": "stdout",
     "output_type": "stream",
     "text": [
      "-264729600.0\n",
      "-264729600.0\n",
      "-264729600.0\n",
      "-264729600.0\n",
      "-264729600.0\n",
      "-264729600.0\n",
      "-264729600.0\n",
      "-264729600.0\n",
      "-264729600.0\n",
      "-264729600.0\n",
      "-264729600.0\n",
      "-264729600.0\n",
      "-264729600.0\n"
     ]
    }
   ],
   "source": [
    "match_df['B_Women\\'s Flyweight_rank'] = match_df.apply(lambda x: return_rank(x['B_fighter'],\n",
    "                                                                         x['date'],\n",
    "                                                                         'Women\\'s Flyweight'),axis=1)"
   ]
  },
  {
   "cell_type": "code",
   "execution_count": 29,
   "metadata": {},
   "outputs": [
    {
     "name": "stdout",
     "output_type": "stream",
     "text": [
      "-264729600.0\n",
      "-264729600.0\n",
      "-264729600.0\n",
      "-264729600.0\n",
      "-264729600.0\n",
      "-264729600.0\n",
      "-264729600.0\n",
      "-264729600.0\n",
      "-264729600.0\n",
      "-264729600.0\n",
      "-264729600.0\n",
      "-264729600.0\n",
      "-264729600.0\n"
     ]
    }
   ],
   "source": [
    "match_df['B_Women\\'s Featherweight_rank'] = match_df.apply(lambda x: return_rank(x['B_fighter'],\n",
    "                                                                         x['date'],\n",
    "                                                                         'Women\\'s Featherweight'),axis=1)"
   ]
  },
  {
   "cell_type": "code",
   "execution_count": 30,
   "metadata": {},
   "outputs": [
    {
     "name": "stdout",
     "output_type": "stream",
     "text": [
      "-264729600.0\n",
      "-264729600.0\n",
      "-264729600.0\n",
      "-264729600.0\n",
      "-264729600.0\n",
      "-264729600.0\n",
      "-264729600.0\n",
      "-264729600.0\n",
      "-264729600.0\n",
      "-264729600.0\n",
      "-264729600.0\n",
      "-264729600.0\n",
      "-264729600.0\n"
     ]
    }
   ],
   "source": [
    "match_df['B_Women\\'s Strawweight_rank'] = match_df.apply(lambda x: return_rank(x['B_fighter'],\n",
    "                                                                         x['date'],\n",
    "                                                                         'Women\\'s Strawweight'),axis=1)"
   ]
  },
  {
   "cell_type": "code",
   "execution_count": 31,
   "metadata": {},
   "outputs": [
    {
     "name": "stdout",
     "output_type": "stream",
     "text": [
      "-264729600.0\n",
      "-264729600.0\n",
      "-264729600.0\n",
      "-264729600.0\n",
      "-264729600.0\n",
      "-264729600.0\n",
      "-264729600.0\n",
      "-264729600.0\n",
      "-264729600.0\n",
      "-264729600.0\n",
      "-264729600.0\n",
      "-264729600.0\n",
      "-264729600.0\n"
     ]
    }
   ],
   "source": [
    "match_df['B_Women\\'s Bantamweight_rank'] = match_df.apply(lambda x: return_rank(x['B_fighter'],\n",
    "                                                                         x['date'],\n",
    "                                                                         'Women\\'s Bantamweight'),axis=1)"
   ]
  },
  {
   "cell_type": "code",
   "execution_count": 32,
   "metadata": {},
   "outputs": [
    {
     "name": "stdout",
     "output_type": "stream",
     "text": [
      "-264729600.0\n",
      "5\n",
      "-264729600.0\n",
      "-264729600.0\n",
      "-264729600.0\n",
      "-264729600.0\n",
      "-264729600.0\n",
      "-264729600.0\n",
      "-264729600.0\n",
      "-264729600.0\n",
      "-264729600.0\n",
      "-264729600.0\n",
      "-264729600.0\n",
      "-264729600.0\n"
     ]
    }
   ],
   "source": [
    "match_df['B_Heavyweight_rank'] = match_df.apply(lambda x: return_rank(x['B_fighter'],\n",
    "                                                                         x['date'],\n",
    "                                                                         'Heavyweight'),axis=1)"
   ]
  },
  {
   "cell_type": "code",
   "execution_count": 33,
   "metadata": {},
   "outputs": [
    {
     "name": "stdout",
     "output_type": "stream",
     "text": [
      "-264729600.0\n",
      "-264729600.0\n",
      "-264729600.0\n",
      "-264729600.0\n",
      "-264729600.0\n",
      "-264729600.0\n",
      "-264729600.0\n",
      "-264729600.0\n",
      "-264729600.0\n",
      "-264729600.0\n",
      "-264729600.0\n",
      "-264729600.0\n",
      "-264729600.0\n"
     ]
    }
   ],
   "source": [
    "match_df['B_Light Heavyweight_rank'] = match_df.apply(lambda x: return_rank(x['B_fighter'],\n",
    "                                                                         x['date'],\n",
    "                                                                         'Light Heavyweight'),axis=1)"
   ]
  },
  {
   "cell_type": "code",
   "execution_count": 34,
   "metadata": {},
   "outputs": [
    {
     "name": "stdout",
     "output_type": "stream",
     "text": [
      "-264729600.0\n",
      "-264729600.0\n",
      "-264729600.0\n",
      "-264729600.0\n",
      "-264729600.0\n",
      "-264729600.0\n",
      "-264729600.0\n",
      "-264729600.0\n",
      "-264729600.0\n",
      "-264729600.0\n",
      "-264729600.0\n",
      "-264729600.0\n",
      "-264729600.0\n"
     ]
    }
   ],
   "source": [
    "match_df['B_Middleweight_rank'] = match_df.apply(lambda x: return_rank(x['B_fighter'],\n",
    "                                                                         x['date'],\n",
    "                                                                         'Middleweight'),axis=1)"
   ]
  },
  {
   "cell_type": "code",
   "execution_count": 35,
   "metadata": {},
   "outputs": [
    {
     "name": "stdout",
     "output_type": "stream",
     "text": [
      "-264729600.0\n",
      "-264729600.0\n",
      "-264729600.0\n",
      "-264729600.0\n",
      "-264729600.0\n",
      "-264729600.0\n",
      "-264729600.0\n",
      "-264729600.0\n",
      "-264729600.0\n",
      "-264729600.0\n",
      "-264729600.0\n",
      "-264729600.0\n",
      "-264729600.0\n"
     ]
    }
   ],
   "source": [
    "match_df['B_Welterweight_rank'] = match_df.apply(lambda x: return_rank(x['B_fighter'],\n",
    "                                                                         x['date'],\n",
    "                                                                         'Welterweight'),axis=1)"
   ]
  },
  {
   "cell_type": "code",
   "execution_count": 36,
   "metadata": {},
   "outputs": [
    {
     "name": "stdout",
     "output_type": "stream",
     "text": [
      "-264729600.0\n",
      "-264729600.0\n",
      "-264729600.0\n",
      "-264729600.0\n",
      "-264729600.0\n",
      "-264729600.0\n",
      "-264729600.0\n",
      "-264729600.0\n",
      "-264729600.0\n",
      "-264729600.0\n",
      "-264729600.0\n",
      "-264729600.0\n",
      "-264729600.0\n"
     ]
    }
   ],
   "source": [
    "match_df['B_Lightweight_rank'] = match_df.apply(lambda x: return_rank(x['B_fighter'],\n",
    "                                                                         x['date'],\n",
    "                                                                         'Lightweight'),axis=1)"
   ]
  },
  {
   "cell_type": "code",
   "execution_count": 37,
   "metadata": {},
   "outputs": [
    {
     "name": "stdout",
     "output_type": "stream",
     "text": [
      "-264729600.0\n",
      "-264729600.0\n",
      "-264729600.0\n",
      "-264729600.0\n",
      "-264729600.0\n",
      "-264729600.0\n",
      "-264729600.0\n",
      "-264729600.0\n",
      "-264729600.0\n",
      "-264729600.0\n",
      "-264729600.0\n",
      "-264729600.0\n",
      "-264729600.0\n"
     ]
    }
   ],
   "source": [
    "match_df['B_Featherweight_rank'] = match_df.apply(lambda x: return_rank(x['B_fighter'],\n",
    "                                                                         x['date'],\n",
    "                                                                         'Featherweight'),axis=1)"
   ]
  },
  {
   "cell_type": "code",
   "execution_count": 38,
   "metadata": {},
   "outputs": [
    {
     "name": "stdout",
     "output_type": "stream",
     "text": [
      "-264729600.0\n",
      "-264729600.0\n",
      "-264729600.0\n",
      "-264729600.0\n",
      "-264729600.0\n",
      "-264729600.0\n",
      "-264729600.0\n",
      "-264729600.0\n",
      "-264729600.0\n",
      "-264729600.0\n",
      "-264729600.0\n",
      "-264729600.0\n",
      "-264729600.0\n"
     ]
    }
   ],
   "source": [
    "match_df['B_Bantamweight_rank'] = match_df.apply(lambda x: return_rank(x['B_fighter'],\n",
    "                                                                         x['date'],\n",
    "                                                                         'Bantamweight'),axis=1)"
   ]
  },
  {
   "cell_type": "code",
   "execution_count": 39,
   "metadata": {},
   "outputs": [
    {
     "name": "stdout",
     "output_type": "stream",
     "text": [
      "-264729600.0\n",
      "-264729600.0\n",
      "-264729600.0\n",
      "-264729600.0\n",
      "-264729600.0\n",
      "-264729600.0\n",
      "-264729600.0\n",
      "-264729600.0\n",
      "-264729600.0\n",
      "-264729600.0\n",
      "-264729600.0\n",
      "-264729600.0\n",
      "-264729600.0\n"
     ]
    }
   ],
   "source": [
    "match_df['B_Flyweight_rank'] = match_df.apply(lambda x: return_rank(x['B_fighter'],\n",
    "                                                                         x['date'],\n",
    "                                                                         'Flyweight'),axis=1)"
   ]
  },
  {
   "cell_type": "code",
   "execution_count": 40,
   "metadata": {},
   "outputs": [
    {
     "name": "stdout",
     "output_type": "stream",
     "text": [
      "-264729600.0\n",
      "-264729600.0\n",
      "-264729600.0\n",
      "-264729600.0\n",
      "-264729600.0\n",
      "-264729600.0\n",
      "-264729600.0\n",
      "-264729600.0\n",
      "-264729600.0\n",
      "-264729600.0\n",
      "-264729600.0\n",
      "-264729600.0\n",
      "-264729600.0\n"
     ]
    }
   ],
   "source": [
    "match_df['B_Pound-for-Pound_rank'] = match_df.apply(lambda x: return_rank(x['B_fighter'],\n",
    "                                                                         x['date'],\n",
    "                                                                         'Pound-for-Pound'),axis=1)\n",
    "\n"
   ]
  },
  {
   "cell_type": "code",
   "execution_count": 41,
   "metadata": {},
   "outputs": [],
   "source": [
    "def return_better_rank(r_rank, b_rank):\n",
    "    if (r_rank == ''):\n",
    "        if b_rank != '':\n",
    "            return('Blue')\n",
    "        else:\n",
    "            return('neither')\n",
    "    if (b_rank == ''):\n",
    "        return('Red')\n",
    "    r_rank = int(r_rank)\n",
    "    b_rank = int(b_rank)\n",
    "    if (r_rank < b_rank):\n",
    "        return('Red')\n",
    "    else:\n",
    "        return('Blue')\n",
    "    return('neither')"
   ]
  },
  {
   "cell_type": "code",
   "execution_count": 42,
   "metadata": {},
   "outputs": [],
   "source": [
    "match_df['better_rank'] = match_df.apply(lambda x: return_better_rank(x['R_match_weightclass_rank'],\n",
    "                                                                         x['B_match_weightclass_rank']),axis=1)"
   ]
  },
  {
   "cell_type": "code",
   "execution_count": 43,
   "metadata": {},
   "outputs": [
    {
     "data": {
      "text/html": [
       "<div>\n",
       "<style scoped>\n",
       "    .dataframe tbody tr th:only-of-type {\n",
       "        vertical-align: middle;\n",
       "    }\n",
       "\n",
       "    .dataframe tbody tr th {\n",
       "        vertical-align: top;\n",
       "    }\n",
       "\n",
       "    .dataframe thead th {\n",
       "        text-align: right;\n",
       "    }\n",
       "</style>\n",
       "<table border=\"1\" class=\"dataframe\">\n",
       "  <thead>\n",
       "    <tr style=\"text-align: right;\">\n",
       "      <th></th>\n",
       "      <th>R_fighter</th>\n",
       "      <th>B_fighter</th>\n",
       "      <th>R_odds</th>\n",
       "      <th>B_odds</th>\n",
       "      <th>R_ev</th>\n",
       "      <th>B_ev</th>\n",
       "      <th>date</th>\n",
       "      <th>location</th>\n",
       "      <th>country</th>\n",
       "      <th>Winner</th>\n",
       "      <th>...</th>\n",
       "      <th>B_td_attempted_bout</th>\n",
       "      <th>R_td_pct_bout</th>\n",
       "      <th>B_td_pct_bout</th>\n",
       "      <th>R_sub_attempts_bout</th>\n",
       "      <th>B_sub_attempts_bout</th>\n",
       "      <th>R_pass_bout</th>\n",
       "      <th>B_pass_bout</th>\n",
       "      <th>R_rev_bout</th>\n",
       "      <th>B_rev_bout</th>\n",
       "      <th>label</th>\n",
       "    </tr>\n",
       "  </thead>\n",
       "  <tbody>\n",
       "    <tr>\n",
       "      <th>0</th>\n",
       "      <td>Ciryl Gane</td>\n",
       "      <td>Alexander Volkov</td>\n",
       "      <td>NaN</td>\n",
       "      <td>NaN</td>\n",
       "      <td>NaN</td>\n",
       "      <td>NaN</td>\n",
       "      <td>2021-06-26</td>\n",
       "      <td>Las Vegas, Nevada, USA</td>\n",
       "      <td>USA</td>\n",
       "      <td>Blue</td>\n",
       "      <td>...</td>\n",
       "      <td>NaN</td>\n",
       "      <td>NaN</td>\n",
       "      <td>NaN</td>\n",
       "      <td>NaN</td>\n",
       "      <td>NaN</td>\n",
       "      <td>NaN</td>\n",
       "      <td>NaN</td>\n",
       "      <td>NaN</td>\n",
       "      <td>NaN</td>\n",
       "      <td>1</td>\n",
       "    </tr>\n",
       "    <tr>\n",
       "      <th>1</th>\n",
       "      <td>Tanner Boser</td>\n",
       "      <td>Ovince Saint Preux</td>\n",
       "      <td>NaN</td>\n",
       "      <td>NaN</td>\n",
       "      <td>NaN</td>\n",
       "      <td>NaN</td>\n",
       "      <td>2021-06-26</td>\n",
       "      <td>Las Vegas, Nevada, USA</td>\n",
       "      <td>USA</td>\n",
       "      <td>Blue</td>\n",
       "      <td>...</td>\n",
       "      <td>NaN</td>\n",
       "      <td>NaN</td>\n",
       "      <td>NaN</td>\n",
       "      <td>NaN</td>\n",
       "      <td>NaN</td>\n",
       "      <td>NaN</td>\n",
       "      <td>NaN</td>\n",
       "      <td>NaN</td>\n",
       "      <td>NaN</td>\n",
       "      <td>1</td>\n",
       "    </tr>\n",
       "    <tr>\n",
       "      <th>2</th>\n",
       "      <td>Raoni Barcelos</td>\n",
       "      <td>Timur Valiev</td>\n",
       "      <td>NaN</td>\n",
       "      <td>NaN</td>\n",
       "      <td>NaN</td>\n",
       "      <td>NaN</td>\n",
       "      <td>2021-06-26</td>\n",
       "      <td>Las Vegas, Nevada, USA</td>\n",
       "      <td>USA</td>\n",
       "      <td>Blue</td>\n",
       "      <td>...</td>\n",
       "      <td>NaN</td>\n",
       "      <td>NaN</td>\n",
       "      <td>NaN</td>\n",
       "      <td>NaN</td>\n",
       "      <td>NaN</td>\n",
       "      <td>NaN</td>\n",
       "      <td>NaN</td>\n",
       "      <td>NaN</td>\n",
       "      <td>NaN</td>\n",
       "      <td>1</td>\n",
       "    </tr>\n",
       "    <tr>\n",
       "      <th>3</th>\n",
       "      <td>Andre Fili</td>\n",
       "      <td>Daniel Pineda</td>\n",
       "      <td>NaN</td>\n",
       "      <td>NaN</td>\n",
       "      <td>NaN</td>\n",
       "      <td>NaN</td>\n",
       "      <td>2021-06-26</td>\n",
       "      <td>Las Vegas, Nevada, USA</td>\n",
       "      <td>USA</td>\n",
       "      <td>Blue</td>\n",
       "      <td>...</td>\n",
       "      <td>NaN</td>\n",
       "      <td>NaN</td>\n",
       "      <td>NaN</td>\n",
       "      <td>NaN</td>\n",
       "      <td>NaN</td>\n",
       "      <td>NaN</td>\n",
       "      <td>NaN</td>\n",
       "      <td>NaN</td>\n",
       "      <td>NaN</td>\n",
       "      <td>1</td>\n",
       "    </tr>\n",
       "    <tr>\n",
       "      <th>4</th>\n",
       "      <td>Tim Means</td>\n",
       "      <td>Nicolas Dalby</td>\n",
       "      <td>NaN</td>\n",
       "      <td>NaN</td>\n",
       "      <td>NaN</td>\n",
       "      <td>NaN</td>\n",
       "      <td>2021-06-26</td>\n",
       "      <td>Las Vegas, Nevada, USA</td>\n",
       "      <td>USA</td>\n",
       "      <td>Blue</td>\n",
       "      <td>...</td>\n",
       "      <td>NaN</td>\n",
       "      <td>NaN</td>\n",
       "      <td>NaN</td>\n",
       "      <td>NaN</td>\n",
       "      <td>NaN</td>\n",
       "      <td>NaN</td>\n",
       "      <td>NaN</td>\n",
       "      <td>NaN</td>\n",
       "      <td>NaN</td>\n",
       "      <td>1</td>\n",
       "    </tr>\n",
       "  </tbody>\n",
       "</table>\n",
       "<p>5 rows × 138 columns</p>\n",
       "</div>"
      ],
      "text/plain": [
       "        R_fighter           B_fighter  R_odds  B_odds  R_ev  B_ev       date  \\\n",
       "0      Ciryl Gane    Alexander Volkov     NaN     NaN   NaN   NaN 2021-06-26   \n",
       "1    Tanner Boser  Ovince Saint Preux     NaN     NaN   NaN   NaN 2021-06-26   \n",
       "2  Raoni Barcelos        Timur Valiev     NaN     NaN   NaN   NaN 2021-06-26   \n",
       "3      Andre Fili       Daniel Pineda     NaN     NaN   NaN   NaN 2021-06-26   \n",
       "4       Tim Means       Nicolas Dalby     NaN     NaN   NaN   NaN 2021-06-26   \n",
       "\n",
       "                 location country Winner  ...  B_td_attempted_bout  \\\n",
       "0  Las Vegas, Nevada, USA     USA   Blue  ...                  NaN   \n",
       "1  Las Vegas, Nevada, USA     USA   Blue  ...                  NaN   \n",
       "2  Las Vegas, Nevada, USA     USA   Blue  ...                  NaN   \n",
       "3  Las Vegas, Nevada, USA     USA   Blue  ...                  NaN   \n",
       "4  Las Vegas, Nevada, USA     USA   Blue  ...                  NaN   \n",
       "\n",
       "  R_td_pct_bout B_td_pct_bout  R_sub_attempts_bout  B_sub_attempts_bout  \\\n",
       "0           NaN           NaN                  NaN                  NaN   \n",
       "1           NaN           NaN                  NaN                  NaN   \n",
       "2           NaN           NaN                  NaN                  NaN   \n",
       "3           NaN           NaN                  NaN                  NaN   \n",
       "4           NaN           NaN                  NaN                  NaN   \n",
       "\n",
       "   R_pass_bout  B_pass_bout  R_rev_bout  B_rev_bout  label  \n",
       "0          NaN          NaN         NaN         NaN      1  \n",
       "1          NaN          NaN         NaN         NaN      1  \n",
       "2          NaN          NaN         NaN         NaN      1  \n",
       "3          NaN          NaN         NaN         NaN      1  \n",
       "4          NaN          NaN         NaN         NaN      1  \n",
       "\n",
       "[5 rows x 138 columns]"
      ]
     },
     "metadata": {},
     "output_type": "display_data"
    }
   ],
   "source": [
    "display(match_df.head())"
   ]
  },
  {
   "cell_type": "code",
   "execution_count": 44,
   "metadata": {},
   "outputs": [],
   "source": [
    "#test = (match_df.iloc[1384])"
   ]
  },
  {
   "cell_type": "code",
   "execution_count": 45,
   "metadata": {},
   "outputs": [],
   "source": [
    "#display(test[['R_fighter', 'R_match_weightclass_rank', 'B_fighter', 'B_match_weightclass_rank', 'date', 'better_rank']])\n"
   ]
  },
  {
   "cell_type": "code",
   "execution_count": 46,
   "metadata": {},
   "outputs": [],
   "source": [
    "match_df.drop(columns=['label'], inplace=True)\n",
    "match_df.to_csv('scraper_helpers/scraped_event_with_ranks.csv', index=False)"
   ]
  },
  {
   "cell_type": "markdown",
   "metadata": {},
   "source": [
    "### Take a quick look at how the better ranked fighter does:"
   ]
  },
  {
   "cell_type": "code",
   "execution_count": null,
   "metadata": {},
   "outputs": [],
   "source": [
    "\"\"\"temp_df = match_df[match_df['better_rank']=='Red'].copy()\n",
    "red_favorite_count = (len(temp_df))\n",
    "temp_df = temp_df[temp_df['Winner']=='Red']\n",
    "red_winner_count = len(temp_df)\n",
    "\n",
    "red_pct = (red_winner_count / red_favorite_count)\n",
    "\n",
    "temp_df = match_df[match_df['better_rank']=='Blue'].copy()\n",
    "blue_favorite_count = (len(temp_df))\n",
    "temp_df = temp_df[temp_df['Winner']=='Blue']\n",
    "blue_winner_count = len(temp_df)\n",
    "\n",
    "blue_pct = (blue_winner_count / blue_favorite_count)\n",
    "print('When Red has the better rank they win ', \"{:.2f}\".format(red_pct*100), '% of the time')\n",
    "print('When Blue has the better rank they win ', \"{:.2f}\".format(blue_pct*100), '% of the time')\n",
    "\"\"\""
   ]
  },
  {
   "cell_type": "code",
   "execution_count": null,
   "metadata": {},
   "outputs": [],
   "source": [
    "#print(blue_favorite_count)"
   ]
  },
  {
   "cell_type": "code",
   "execution_count": null,
   "metadata": {},
   "outputs": [],
   "source": []
  }
 ],
 "metadata": {
  "kernelspec": {
   "display_name": "Python 3",
   "language": "python",
   "name": "python3"
  },
  "language_info": {
   "codemirror_mode": {
    "name": "ipython",
    "version": 3
   },
   "file_extension": ".py",
   "mimetype": "text/x-python",
   "name": "python",
   "nbconvert_exporter": "python",
   "pygments_lexer": "ipython3",
   "version": "3.8.8"
  }
 },
 "nbformat": 4,
 "nbformat_minor": 4
}
