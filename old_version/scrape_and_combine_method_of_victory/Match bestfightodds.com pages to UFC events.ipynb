{
 "cells": [
  {
   "cell_type": "markdown",
   "id": "10fb07ae",
   "metadata": {},
   "source": [
    "# The goal here is to crawl around bestfightodds.com and match their pages to the events in the data source"
   ]
  },
  {
   "cell_type": "markdown",
   "id": "6e620373",
   "metadata": {},
   "source": [
    "## Get a list of dates"
   ]
  },
  {
   "cell_type": "code",
   "execution_count": 15,
   "id": "90542731",
   "metadata": {},
   "outputs": [],
   "source": [
    "import pandas as pd\n",
    "from urllib.request import urlopen\n",
    "from bs4 import BeautifulSoup\n",
    "from datetime import datetime\n",
    "from dateutil.parser import parse\n"
   ]
  },
  {
   "cell_type": "code",
   "execution_count": 2,
   "id": "9c72956a",
   "metadata": {},
   "outputs": [],
   "source": [
    "df = pd.read_csv('../data/kaggle_data/ufc-master.csv')"
   ]
  },
  {
   "cell_type": "code",
   "execution_count": 4,
   "id": "542c2913",
   "metadata": {},
   "outputs": [],
   "source": [
    "date_list = df.date.unique()"
   ]
  },
  {
   "cell_type": "code",
   "execution_count": 5,
   "id": "cf0f5158",
   "metadata": {},
   "outputs": [
    {
     "data": {
      "text/plain": [
       "array(['6/19/2021', '6/12/2021', '6/5/2021', '5/22/2021', '5/15/2021',\n",
       "       '5/8/2021', '5/1/2021', '4/24/2021', '4/17/2021', '4/10/2021',\n",
       "       '3/27/2021', '3/20/2021', '3/13/2021', '3/6/2021', '2/27/2021',\n",
       "       '2/20/2021', '2/13/2021', '2/6/2021', '1/23/2021', '1/20/2021',\n",
       "       '1/16/2021', '12/19/2020', '12/12/2020', '12/5/2020', '11/28/2020',\n",
       "       '11/21/2020', '11/14/2020', '11/7/2020', '10/31/2020',\n",
       "       '10/24/2020', '10/17/2020', '10/10/2020', '10/3/2020', '9/26/2020',\n",
       "       '9/19/2020', '9/12/2020', '9/5/2020', '8/29/2020', '8/22/2020',\n",
       "       '8/15/2020', '8/8/2020', '8/1/2020', '7/25/2020', '7/18/2020',\n",
       "       '7/15/2020', '7/11/2020', '6/27/2020', '6/20/2020', '6/13/2020',\n",
       "       '6/6/2020', '5/30/2020', '5/16/2020', '5/13/2020', '5/9/2020',\n",
       "       '3/14/2020', '3/7/2020', '2/29/2020', '2/22/2020', '6/29/2019',\n",
       "       '6/22/2019', '7/6/2019', '2/15/2020', '7/13/2019', '7/20/2019',\n",
       "       '7/27/2019', '8/3/2019', '2/8/2020', '8/10/2019', '8/17/2019',\n",
       "       '8/31/2019', '9/7/2019', '9/14/2019', '9/21/2019', '9/28/2019',\n",
       "       '10/5/2019', '1/25/2020', '10/12/2019', '10/18/2019', '10/26/2019',\n",
       "       '1/18/2020', '11/2/2019', '11/9/2019', '11/16/2019', '12/21/2019',\n",
       "       '12/14/2019', '12/7/2019', '6/8/2019', '6/1/2019', '5/18/2019',\n",
       "       '5/11/2019', '5/4/2019', '4/27/2019', '4/20/2019', '4/13/2019',\n",
       "       '3/30/2019', '3/23/2019', '3/16/2019', '3/9/2019', '3/2/2019',\n",
       "       '2/23/2019', '2/17/2019', '2/9/2019', '2/2/2019', '1/19/2019',\n",
       "       '12/29/2018', '12/15/2018', '12/8/2018', '12/1/2018', '11/30/2018',\n",
       "       '11/24/2018', '11/17/2018', '11/10/2018', '11/3/2018',\n",
       "       '10/27/2018', '10/6/2018', '9/22/2018', '9/15/2018', '9/8/2018',\n",
       "       '8/25/2018', '8/4/2018', '7/28/2018', '7/22/2018', '7/14/2018',\n",
       "       '7/7/2018', '7/6/2018', '6/23/2018', '6/9/2018', '6/1/2018',\n",
       "       '5/27/2018', '5/19/2018', '5/12/2018', '4/21/2018', '4/14/2018',\n",
       "       '4/7/2018', '3/17/2018', '3/3/2018', '2/24/2018', '2/18/2018',\n",
       "       '2/10/2018', '2/3/2018', '1/27/2018', '1/20/2018', '1/14/2018',\n",
       "       '12/30/2017', '12/16/2017', '12/9/2017', '12/2/2017', '12/1/2017',\n",
       "       '11/25/2017', '11/18/2017', '11/11/2017', '11/4/2017',\n",
       "       '10/28/2017', '10/21/2017', '10/7/2017', '9/22/2017', '9/16/2017',\n",
       "       '9/9/2017', '9/2/2017', '8/5/2017', '7/29/2017', '7/22/2017',\n",
       "       '7/16/2017', '7/8/2017', '7/7/2017', '6/25/2017', '6/17/2017',\n",
       "       '6/10/2017', '6/3/2017', '5/28/2017', '5/13/2017', '4/22/2017',\n",
       "       '4/15/2017', '4/8/2017', '3/18/2017', '3/11/2017', '3/4/2017',\n",
       "       '2/19/2017', '2/11/2017', '2/4/2017', '1/28/2017', '1/15/2017',\n",
       "       '12/30/2016', '12/17/2016', '12/10/2016', '12/9/2016', '12/3/2016',\n",
       "       '11/26/2016', '11/19/2016', '11/12/2016', '11/5/2016', '10/8/2016',\n",
       "       '10/1/2016', '9/24/2016', '9/17/2016', '9/10/2016', '9/3/2016',\n",
       "       '8/27/2016', '8/20/2016', '8/6/2016', '7/30/2016', '7/23/2016',\n",
       "       '7/13/2016', '7/9/2016', '7/8/2016', '7/7/2016', '6/18/2016',\n",
       "       '6/4/2016', '5/29/2016', '5/14/2016', '5/8/2016', '4/23/2016',\n",
       "       '4/16/2016', '4/10/2016', '3/19/2016', '3/5/2016', '2/27/2016',\n",
       "       '2/21/2016', '2/6/2016', '1/30/2016', '1/17/2016', '1/2/2016',\n",
       "       '12/19/2015', '12/12/2015', '12/11/2015', '12/10/2015',\n",
       "       '11/28/2015', '11/21/2015', '11/14/2015', '11/7/2015',\n",
       "       '10/24/2015', '10/3/2015', '9/26/2015', '9/5/2015', '8/23/2015',\n",
       "       '8/8/2015', '8/1/2015', '7/25/2015', '7/18/2015', '7/15/2015',\n",
       "       '7/12/2015', '7/11/2015', '6/27/2015', '6/20/2015', '6/13/2015',\n",
       "       '6/6/2015', '5/30/2015', '5/23/2015', '5/16/2015', '5/9/2015',\n",
       "       '4/25/2015', '4/18/2015', '4/11/2015', '4/4/2015', '3/21/2015',\n",
       "       '3/14/2015', '2/28/2015', '2/22/2015', '2/14/2015', '1/31/2015',\n",
       "       '1/24/2015', '1/18/2015', '1/3/2015', '12/20/2014', '12/13/2014',\n",
       "       '12/12/2014', '12/6/2014', '11/22/2014', '11/15/2014', '11/8/2014',\n",
       "       '11/7/2014', '10/25/2014', '10/4/2014', '9/27/2014', '9/20/2014',\n",
       "       '9/13/2014', '9/5/2014', '8/30/2014', '8/23/2014', '8/16/2014',\n",
       "       '7/26/2014', '7/19/2014', '7/16/2014', '7/6/2014', '7/5/2014',\n",
       "       '6/28/2014', '6/14/2014', '6/7/2014', '5/31/2014', '5/24/2014',\n",
       "       '5/10/2014', '4/26/2014', '4/19/2014', '4/16/2014', '4/11/2014',\n",
       "       '3/23/2014', '3/15/2014', '3/8/2014', '3/1/2014', '2/22/2014',\n",
       "       '2/15/2014', '2/1/2014', '1/25/2014', '1/15/2014', '1/4/2014',\n",
       "       '12/28/2013', '12/14/2013', '12/6/2013', '11/30/2013',\n",
       "       '11/16/2013', '11/9/2013', '11/6/2013', '10/26/2013', '10/19/2013',\n",
       "       '10/9/2013', '9/21/2013', '9/4/2013', '8/31/2013', '8/28/2013',\n",
       "       '8/17/2013', '8/3/2013', '7/27/2013', '7/6/2013', '6/15/2013',\n",
       "       '6/8/2013', '5/25/2013', '5/18/2013', '4/27/2013', '4/20/2013',\n",
       "       '4/13/2013', '4/6/2013', '3/16/2013', '3/2/2013', '2/23/2013',\n",
       "       '2/16/2013', '2/2/2013', '1/26/2013', '1/19/2013', '12/29/2012',\n",
       "       '12/15/2012', '12/14/2012', '12/8/2012', '11/17/2012',\n",
       "       '11/10/2012', '10/13/2012', '10/5/2012', '9/29/2012', '9/22/2012',\n",
       "       '8/11/2012', '8/4/2012', '7/21/2012', '7/11/2012', '7/7/2012',\n",
       "       '6/23/2012', '6/22/2012', '6/8/2012', '6/1/2012', '5/26/2012',\n",
       "       '5/15/2012', '5/5/2012', '4/21/2012', '4/14/2012', '3/2/2012',\n",
       "       '2/25/2012', '2/15/2012', '2/4/2012', '1/28/2012', '1/20/2012',\n",
       "       '1/14/2012', '12/30/2011', '12/10/2011', '12/3/2011', '11/19/2011',\n",
       "       '11/12/2011', '11/5/2011', '10/29/2011', '10/8/2011', '10/1/2011',\n",
       "       '9/24/2011', '9/17/2011', '8/27/2011', '8/14/2011', '8/6/2011',\n",
       "       '7/2/2011', '6/26/2011', '6/11/2011', '6/4/2011', '5/28/2011',\n",
       "       '4/30/2011', '3/26/2011', '3/19/2011', '3/3/2011', '2/26/2011',\n",
       "       '2/5/2011', '1/22/2011', '1/1/2011', '12/11/2010', '12/4/2010',\n",
       "       '11/20/2010', '11/13/2010', '10/23/2010', '10/16/2010',\n",
       "       '9/25/2010', '9/15/2010', '8/28/2010', '8/7/2010', '8/1/2010',\n",
       "       '7/3/2010', '6/19/2010', '6/12/2010', '5/29/2010', '5/8/2010',\n",
       "       '4/10/2010', '3/31/2010', '3/27/2010', '3/21/2010'], dtype=object)"
      ]
     },
     "execution_count": 5,
     "metadata": {},
     "output_type": "execute_result"
    }
   ],
   "source": [
    "date_list"
   ]
  },
  {
   "cell_type": "code",
   "execution_count": 87,
   "id": "4cbf4f4f",
   "metadata": {},
   "outputs": [],
   "source": [
    "formatted_date_list = []\n",
    "for d in date_list:\n",
    "    formatted_date_list.append(parse(d))"
   ]
  },
  {
   "cell_type": "code",
   "execution_count": 89,
   "id": "9e6083c1",
   "metadata": {},
   "outputs": [],
   "source": [
    "matched_date_list = []"
   ]
  },
  {
   "cell_type": "code",
   "execution_count": 9,
   "id": "f7d29bdd",
   "metadata": {},
   "outputs": [],
   "source": [
    "#OK.... Now we need to figure out how to crawl bestfightodds.com"
   ]
  },
  {
   "cell_type": "code",
   "execution_count": 10,
   "id": "62df8057",
   "metadata": {},
   "outputs": [],
   "source": [
    "cur_page = 'https://www.bestfightodds.com/events/ufc-fight-night-190-gane-vs-volkov-2109'"
   ]
  },
  {
   "cell_type": "code",
   "execution_count": 11,
   "id": "5b551644",
   "metadata": {},
   "outputs": [],
   "source": [
    "page_list = [None] * len(date_list)"
   ]
  },
  {
   "cell_type": "code",
   "execution_count": 25,
   "id": "f402a11d",
   "metadata": {},
   "outputs": [],
   "source": [
    "checked_fighter_list = []\n",
    "not_checked_fighter_list = []"
   ]
  },
  {
   "cell_type": "code",
   "execution_count": 16,
   "id": "86f32e99",
   "metadata": {},
   "outputs": [],
   "source": [
    "html = urlopen(cur_page)\n",
    "bs = BeautifulSoup(html, 'html.parser')"
   ]
  },
  {
   "cell_type": "code",
   "execution_count": 29,
   "id": "fdfd8c26",
   "metadata": {},
   "outputs": [],
   "source": [
    "possible_fighters = bs.find_all('a')"
   ]
  },
  {
   "cell_type": "code",
   "execution_count": 30,
   "id": "6613f75f",
   "metadata": {},
   "outputs": [
    {
     "data": {
      "text/plain": [
       "94"
      ]
     },
     "execution_count": 30,
     "metadata": {},
     "output_type": "execute_result"
    }
   ],
   "source": [
    "len(possible_fighters)"
   ]
  },
  {
   "cell_type": "code",
   "execution_count": 37,
   "id": "711e5cc4",
   "metadata": {},
   "outputs": [
    {
     "name": "stdout",
     "output_type": "stream",
     "text": [
      "/fighters/Alexander-Volkov-2439\n",
      "/fighters/Ciryl-Gane-9273\n",
      "/fighters/Ovince-St-Preux-1788\n",
      "/fighters/Tanner-Boser-7638\n",
      "/fighters/Raoni-Barcelos-4521\n",
      "/fighters/Timur-Valiev-4975\n",
      "/fighters/Andre-Fili-4466\n",
      "/fighters/Daniel-Pineda-1240\n",
      "/fighters/Nicolas-Dalby-3878\n",
      "/fighters/Tim-Means-3125\n",
      "/fighters/Jai-Herbert-6873\n",
      "/fighters/Renato-Moicano-5598\n",
      "/fighters/Danilo-Marques-7128\n",
      "/fighters/Kennedy-Nzechukwu-7454\n",
      "/fighters/Michel-Prazeres-4115\n",
      "/fighters/Shavkat-Rakhmonov-9925\n",
      "/fighters/Jeremiah-Wells-8059\n",
      "/fighters/Warlley-Alves-4924\n",
      "/fighters/Isaac-Villanueva-2722\n",
      "/fighters/Marcin-Prachnio-6346\n",
      "/fighters/Julia-Avila-8150\n",
      "/fighters/Julija-Stoliarenko-9926\n",
      "/fighters/Charles-Rosa-5175\n",
      "/fighters/Justin-Jaynes-4976\n",
      "/fighters/Damir-Hadzovic-4762\n",
      "/fighters/Yancy-Medeiros-1715\n"
     ]
    }
   ],
   "source": [
    "#See if it looks like a fighter.  If so \n",
    "for f in possible_fighters:\n",
    "    possible_link = (f.attrs['href'])\n",
    "    if \"/fighters/\" in possible_link:\n",
    "        #OK these are all good.\n",
    "        if possible_link not in checked_fighter_list:\n",
    "            if possible_link not in not_checked_fighter_list:\n",
    "                print(possible_link)\n",
    "                not_checked_fighter_list.append(possible_link)"
   ]
  },
  {
   "cell_type": "code",
   "execution_count": 38,
   "id": "d166c181",
   "metadata": {},
   "outputs": [
    {
     "data": {
      "text/plain": [
       "['/fighters/Alexander-Volkov-2439',\n",
       " '/fighters/Ciryl-Gane-9273',\n",
       " '/fighters/Ovince-St-Preux-1788',\n",
       " '/fighters/Tanner-Boser-7638',\n",
       " '/fighters/Raoni-Barcelos-4521',\n",
       " '/fighters/Timur-Valiev-4975',\n",
       " '/fighters/Andre-Fili-4466',\n",
       " '/fighters/Daniel-Pineda-1240',\n",
       " '/fighters/Nicolas-Dalby-3878',\n",
       " '/fighters/Tim-Means-3125',\n",
       " '/fighters/Jai-Herbert-6873',\n",
       " '/fighters/Renato-Moicano-5598',\n",
       " '/fighters/Danilo-Marques-7128',\n",
       " '/fighters/Kennedy-Nzechukwu-7454',\n",
       " '/fighters/Michel-Prazeres-4115',\n",
       " '/fighters/Shavkat-Rakhmonov-9925',\n",
       " '/fighters/Jeremiah-Wells-8059',\n",
       " '/fighters/Warlley-Alves-4924',\n",
       " '/fighters/Isaac-Villanueva-2722',\n",
       " '/fighters/Marcin-Prachnio-6346',\n",
       " '/fighters/Julia-Avila-8150',\n",
       " '/fighters/Julija-Stoliarenko-9926',\n",
       " '/fighters/Charles-Rosa-5175',\n",
       " '/fighters/Justin-Jaynes-4976',\n",
       " '/fighters/Damir-Hadzovic-4762',\n",
       " '/fighters/Yancy-Medeiros-1715']"
      ]
     },
     "execution_count": 38,
     "metadata": {},
     "output_type": "execute_result"
    }
   ],
   "source": [
    "not_checked_fighter_list"
   ]
  },
  {
   "cell_type": "code",
   "execution_count": 145,
   "id": "f8fe66ec",
   "metadata": {},
   "outputs": [
    {
     "name": "stdout",
     "output_type": "stream",
     "text": [
      "416\n",
      "409\n"
     ]
    }
   ],
   "source": [
    "num_of_events = len(date_list)\n",
    "num_of_matched = (sum(x is not None for x in page_list))\n",
    "print(num_of_events)\n",
    "print(num_of_matched)\n",
    "\n",
    "for _ in range(30):\n",
    "    f = not_checked_fighter_list.pop(0)\n",
    "    checked_fighter_list.append(f)\n",
    "    html = urlopen('https://www.bestfightodds.com' + f)\n",
    "    bs = BeautifulSoup(html, 'html.parser')\n",
    "    possible_fighters = bs.find_all('a')\n",
    "    #See if it looks like a fighter.  If so \n",
    "    for f in possible_fighters:\n",
    "        possible_link = (f.attrs['href'])\n",
    "        if \"/fighters/\" in possible_link:\n",
    "            #OK these are all good.\n",
    "            if possible_link not in checked_fighter_list:\n",
    "                if possible_link not in not_checked_fighter_list:\n",
    "                    #print(possible_link)\n",
    "                    not_checked_fighter_list.append(possible_link)    \n",
    "    possible_events = bs.find_all('tr', {'class':'event-header'})\n",
    "    for e in possible_events:\n",
    "        e_text = e.get_text()\n",
    "        if 'UFC' in e_text:\n",
    "            #print(e_text)\n",
    "            d = (' '.join(e_text.split(' ')[-3:]))\n",
    "            possible_link = e.find('a')\n",
    "            l = (possible_link.attrs['href'])\n",
    "            #print(e)\n",
    "            #print(d)\n",
    "            #print(l)\n",
    "            d_parsed = parse(d)\n",
    "            if (d_parsed not in matched_date_list):\n",
    "                #print(d_parsed)\n",
    "                if d_parsed in formatted_date_list:\n",
    "                    i = formatted_date_list.index(d_parsed)\n",
    "                    page_list[i] = l\n",
    "                    matched_date_list.append(d_parsed)\n",
    "            #print()"
   ]
  },
  {
   "cell_type": "code",
   "execution_count": 146,
   "id": "428d4cfe",
   "metadata": {},
   "outputs": [
    {
     "name": "stdout",
     "output_type": "stream",
     "text": [
      "Total Number of events: 416\n",
      "Number of Matched Events: 409\n",
      "Not Checked fighters: 1405\n",
      "checked fighters: 381\n"
     ]
    }
   ],
   "source": [
    "num_of_events = len(date_list)\n",
    "num_of_matched = (sum(x is not None for x in page_list))\n",
    "print(f\"Total Number of events: {num_of_events}\")\n",
    "print(f\"Number of Matched Events: {num_of_matched}\")\n",
    "print(f\"Not Checked fighters: {len(not_checked_fighter_list)}\")\n",
    "print(f\"checked fighters: {len(checked_fighter_list)}\")"
   ]
  },
  {
   "cell_type": "code",
   "execution_count": 149,
   "id": "34c4df8b",
   "metadata": {},
   "outputs": [],
   "source": [
    "df = pd.DataFrame(list(zip(date_list, page_list)), columns=['date', 'link'])"
   ]
  },
  {
   "cell_type": "code",
   "execution_count": 150,
   "id": "95e69c2c",
   "metadata": {},
   "outputs": [
    {
     "data": {
      "text/html": [
       "<div>\n",
       "<style scoped>\n",
       "    .dataframe tbody tr th:only-of-type {\n",
       "        vertical-align: middle;\n",
       "    }\n",
       "\n",
       "    .dataframe tbody tr th {\n",
       "        vertical-align: top;\n",
       "    }\n",
       "\n",
       "    .dataframe thead th {\n",
       "        text-align: right;\n",
       "    }\n",
       "</style>\n",
       "<table border=\"1\" class=\"dataframe\">\n",
       "  <thead>\n",
       "    <tr style=\"text-align: right;\">\n",
       "      <th></th>\n",
       "      <th>date</th>\n",
       "      <th>link</th>\n",
       "    </tr>\n",
       "  </thead>\n",
       "  <tbody>\n",
       "    <tr>\n",
       "      <th>0</th>\n",
       "      <td>6/19/2021</td>\n",
       "      <td>/events/ufc-on-espn-the-korean-zombie-vs-ige-2130</td>\n",
       "    </tr>\n",
       "    <tr>\n",
       "      <th>1</th>\n",
       "      <td>6/12/2021</td>\n",
       "      <td>/events/ufc-263-adesanya-vs-vettori-2-2115</td>\n",
       "    </tr>\n",
       "    <tr>\n",
       "      <th>2</th>\n",
       "      <td>6/5/2021</td>\n",
       "      <td>/events/ufc-fight-night-189-rozenstruik-vs-sak...</td>\n",
       "    </tr>\n",
       "    <tr>\n",
       "      <th>3</th>\n",
       "      <td>5/22/2021</td>\n",
       "      <td>/events/ufc-fight-night-188-font-vs-garbrandt-...</td>\n",
       "    </tr>\n",
       "    <tr>\n",
       "      <th>4</th>\n",
       "      <td>5/15/2021</td>\n",
       "      <td>/events/ufc-262-oliveira-vs-chandler-2086</td>\n",
       "    </tr>\n",
       "    <tr>\n",
       "      <th>...</th>\n",
       "      <td>...</td>\n",
       "      <td>...</td>\n",
       "    </tr>\n",
       "    <tr>\n",
       "      <th>411</th>\n",
       "      <td>5/8/2010</td>\n",
       "      <td>/events/ufc-113-machida-vs-shogun-ii-247</td>\n",
       "    </tr>\n",
       "    <tr>\n",
       "      <th>412</th>\n",
       "      <td>4/10/2010</td>\n",
       "      <td>/events/ufc-112-invincible-245</td>\n",
       "    </tr>\n",
       "    <tr>\n",
       "      <th>413</th>\n",
       "      <td>3/31/2010</td>\n",
       "      <td>/events/ufc-fight-night-21-florian-vs-gomi-246</td>\n",
       "    </tr>\n",
       "    <tr>\n",
       "      <th>414</th>\n",
       "      <td>3/27/2010</td>\n",
       "      <td>/events/ufc-111-st-pierre-vs-hardy-236</td>\n",
       "    </tr>\n",
       "    <tr>\n",
       "      <th>415</th>\n",
       "      <td>3/21/2010</td>\n",
       "      <td>/events/ufc-on-versus-1-vera-vs-jones-242</td>\n",
       "    </tr>\n",
       "  </tbody>\n",
       "</table>\n",
       "<p>416 rows × 2 columns</p>\n",
       "</div>"
      ],
      "text/plain": [
       "          date                                               link\n",
       "0    6/19/2021  /events/ufc-on-espn-the-korean-zombie-vs-ige-2130\n",
       "1    6/12/2021         /events/ufc-263-adesanya-vs-vettori-2-2115\n",
       "2     6/5/2021  /events/ufc-fight-night-189-rozenstruik-vs-sak...\n",
       "3    5/22/2021  /events/ufc-fight-night-188-font-vs-garbrandt-...\n",
       "4    5/15/2021          /events/ufc-262-oliveira-vs-chandler-2086\n",
       "..         ...                                                ...\n",
       "411   5/8/2010           /events/ufc-113-machida-vs-shogun-ii-247\n",
       "412  4/10/2010                     /events/ufc-112-invincible-245\n",
       "413  3/31/2010     /events/ufc-fight-night-21-florian-vs-gomi-246\n",
       "414  3/27/2010             /events/ufc-111-st-pierre-vs-hardy-236\n",
       "415  3/21/2010          /events/ufc-on-versus-1-vera-vs-jones-242\n",
       "\n",
       "[416 rows x 2 columns]"
      ]
     },
     "execution_count": 150,
     "metadata": {},
     "output_type": "execute_result"
    }
   ],
   "source": [
    "df"
   ]
  },
  {
   "cell_type": "code",
   "execution_count": 151,
   "id": "1cdd498e",
   "metadata": {},
   "outputs": [],
   "source": [
    "df.to_csv('date_link.csv', index=False)"
   ]
  },
  {
   "cell_type": "code",
   "execution_count": null,
   "id": "cad860c5",
   "metadata": {},
   "outputs": [],
   "source": []
  }
 ],
 "metadata": {
  "kernelspec": {
   "display_name": "Python 3",
   "language": "python",
   "name": "python3"
  },
  "language_info": {
   "codemirror_mode": {
    "name": "ipython",
    "version": 3
   },
   "file_extension": ".py",
   "mimetype": "text/x-python",
   "name": "python",
   "nbconvert_exporter": "python",
   "pygments_lexer": "ipython3",
   "version": "3.8.8"
  }
 },
 "nbformat": 4,
 "nbformat_minor": 5
}
