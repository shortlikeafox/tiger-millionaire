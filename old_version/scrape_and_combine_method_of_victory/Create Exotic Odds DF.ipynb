{
 "cells": [
  {
   "cell_type": "markdown",
   "id": "5b65ee59",
   "metadata": {},
   "source": [
    "# Goal here is to scrape the odds for the exotics (method of victory and over under?)\n",
    "\n",
    "Final DF will have:\n",
    "\n",
    "* r_fighter\n",
    "* b_fighter\n",
    "* date\n",
    "* r_fighter_by_decision_odds\n",
    "* r_fighter_by_KO_odds\n",
    "* r_fighter_by_submission_odds\n",
    "* b_figther_by_decision_odds\n",
    "* b_fighter_by_KO_odds\n",
    "* b_fighter_by_submission_odds"
   ]
  },
  {
   "cell_type": "code",
   "execution_count": 1,
   "id": "1ed71e52",
   "metadata": {},
   "outputs": [],
   "source": [
    "import pandas as pd\n",
    "from urllib.request import urlopen\n",
    "from bs4 import BeautifulSoup\n",
    "from datetime import datetime\n",
    "from dateutil.parser import parse\n"
   ]
  },
  {
   "cell_type": "code",
   "execution_count": 10,
   "id": "27a02829",
   "metadata": {},
   "outputs": [],
   "source": [
    "df_links = pd.read_csv('date_link.csv')\n",
    "df = pd.read_csv('../data/kaggle_data/ufc-master.csv')"
   ]
  },
  {
   "cell_type": "code",
   "execution_count": 3,
   "id": "5338be70",
   "metadata": {},
   "outputs": [],
   "source": [
    "event_date_list = df_links['date'].tolist()\n",
    "link_list = df_links['link'].tolist()\n"
   ]
  },
  {
   "cell_type": "code",
   "execution_count": 4,
   "id": "ddc4010e",
   "metadata": {},
   "outputs": [],
   "source": [
    "r_fighter_list = []\n",
    "b_fighter_list = []\n",
    "date_list = []\n",
    "r_dec_list = []\n",
    "r_ko_list = []\n",
    "r_sub_list = []\n",
    "b_dec_list = []\n",
    "b_ko_list = []\n",
    "b_sub_list = []"
   ]
  },
  {
   "cell_type": "code",
   "execution_count": 5,
   "id": "fc04dca1",
   "metadata": {},
   "outputs": [],
   "source": [
    "d = event_date_list[0]\n",
    "l = link_list[0]"
   ]
  },
  {
   "cell_type": "code",
   "execution_count": 6,
   "id": "c7569157",
   "metadata": {},
   "outputs": [
    {
     "data": {
      "text/plain": [
       "'/events/ufc-on-espn-the-korean-zombie-vs-ige-2130'"
      ]
     },
     "execution_count": 6,
     "metadata": {},
     "output_type": "execute_result"
    }
   ],
   "source": [
    "l"
   ]
  },
  {
   "cell_type": "code",
   "execution_count": 7,
   "id": "a5327b64",
   "metadata": {},
   "outputs": [],
   "source": [
    "html = urlopen('https://www.bestfightodds.com' + l)"
   ]
  },
  {
   "cell_type": "code",
   "execution_count": 8,
   "id": "0a0496f5",
   "metadata": {},
   "outputs": [],
   "source": [
    "bs = BeautifulSoup(html, 'html.parser')"
   ]
  },
  {
   "cell_type": "code",
   "execution_count": 11,
   "id": "bb2a4197",
   "metadata": {},
   "outputs": [],
   "source": [
    "###Hmmmm.... We have a date.  \n",
    "#We have something to parse\n",
    "df_event = df[df['date']==d]"
   ]
  },
  {
   "cell_type": "code",
   "execution_count": 13,
   "id": "d9ffa600",
   "metadata": {},
   "outputs": [],
   "source": [
    "event_b_fighter_list = df_event['B_fighter'].tolist()\n",
    "event_r_fighter_list = df_event['R_fighter'].tolist()"
   ]
  },
  {
   "cell_type": "code",
   "execution_count": 16,
   "id": "03ef7ea6",
   "metadata": {},
   "outputs": [],
   "source": [
    "last_name = event_b_fighter_list[0].split(' ')[-1]"
   ]
  },
  {
   "cell_type": "code",
   "execution_count": 17,
   "id": "49a3674c",
   "metadata": {},
   "outputs": [
    {
     "data": {
      "text/plain": [
       "'Ige'"
      ]
     },
     "execution_count": 17,
     "metadata": {},
     "output_type": "execute_result"
    }
   ],
   "source": [
    "last_name"
   ]
  },
  {
   "cell_type": "code",
   "execution_count": 21,
   "id": "dde7f0f2",
   "metadata": {},
   "outputs": [],
   "source": [
    "all_rows = bs.find_all('tr')"
   ]
  },
  {
   "cell_type": "code",
   "execution_count": 71,
   "id": "9ed513df",
   "metadata": {},
   "outputs": [],
   "source": [
    "def return_odds(l_name, rows, phrase):\n",
    "    for r in rows:\n",
    "        if str(r).find(l_name + ' ' + phrase) > -1:\n",
    "            #It's the 2nd one.  Who knows why?\n",
    "            all_cells = r.find_all('td')\n",
    "            if len(all_cells) > 0:\n",
    "                #2 is currently DraftKings,\n",
    "                #10 is Ref\n",
    "                if(len(all_cells[2].get_text().strip()))>2:\n",
    "                    return(all_cells[2].get_text().strip().encode(\"ascii\", \"ignore\").decode())\n",
    "                elif(len(all_cells[10].get_text().strip()))>2:\n",
    "                    return(all_cells[10].get_text().strip().encode(\"ascii\", \"ignore\").decode())\n",
    "                else:\n",
    "                    return(all_cells[9].get_text().strip().encode(\"ascii\", \"ignore\").decode())                           "
   ]
  },
  {
   "cell_type": "code",
   "execution_count": 65,
   "id": "71e55987",
   "metadata": {},
   "outputs": [
    {
     "data": {
      "text/plain": [
       "416"
      ]
     },
     "execution_count": 65,
     "metadata": {},
     "output_type": "execute_result"
    }
   ],
   "source": [
    "len(link_list)"
   ]
  },
  {
   "cell_type": "code",
   "execution_count": 82,
   "id": "8f1be570",
   "metadata": {},
   "outputs": [
    {
     "data": {
      "text/plain": [
       "'6/23/2018'"
      ]
     },
     "execution_count": 82,
     "metadata": {},
     "output_type": "execute_result"
    }
   ],
   "source": [
    "event_date_list[125]"
   ]
  },
  {
   "cell_type": "code",
   "execution_count": 83,
   "id": "7031e16f",
   "metadata": {},
   "outputs": [
    {
     "name": "stdout",
     "output_type": "stream",
     "text": [
      "6/9/2018\n",
      "6/1/2018\n",
      "5/27/2018\n",
      "5/19/2018\n",
      "5/12/2018\n",
      "4/21/2018\n",
      "4/14/2018\n",
      "4/7/2018\n",
      "3/17/2018\n",
      "3/3/2018\n",
      "2/24/2018\n",
      "2/18/2018\n",
      "2/10/2018\n",
      "2/3/2018\n",
      "1/27/2018\n",
      "1/20/2018\n",
      "1/14/2018\n",
      "12/30/2017\n",
      "12/16/2017\n",
      "12/9/2017\n",
      "12/2/2017\n",
      "12/1/2017\n",
      "11/25/2017\n",
      "11/18/2017\n",
      "11/11/2017\n",
      "11/4/2017\n",
      "10/28/2017\n",
      "10/21/2017\n",
      "10/7/2017\n",
      "9/22/2017\n",
      "9/16/2017\n",
      "9/9/2017\n",
      "9/2/2017\n",
      "8/5/2017\n",
      "7/29/2017\n",
      "7/22/2017\n",
      "7/16/2017\n",
      "7/8/2017\n",
      "7/7/2017\n",
      "6/25/2017\n",
      "6/17/2017\n",
      "6/10/2017\n",
      "6/3/2017\n",
      "5/28/2017\n",
      "5/13/2017\n",
      "4/22/2017\n",
      "4/15/2017\n",
      "4/8/2017\n",
      "3/18/2017\n",
      "3/11/2017\n",
      "3/4/2017\n",
      "2/19/2017\n",
      "2/11/2017\n",
      "2/4/2017\n",
      "1/28/2017\n",
      "1/15/2017\n",
      "12/30/2016\n",
      "12/17/2016\n",
      "12/10/2016\n",
      "12/9/2016\n",
      "12/3/2016\n",
      "11/26/2016\n",
      "11/19/2016\n",
      "11/12/2016\n",
      "11/5/2016\n",
      "10/8/2016\n",
      "10/1/2016\n",
      "9/24/2016\n",
      "9/17/2016\n",
      "9/10/2016\n",
      "9/3/2016\n",
      "8/27/2016\n",
      "8/20/2016\n",
      "8/6/2016\n",
      "7/30/2016\n",
      "7/23/2016\n",
      "7/13/2016\n",
      "7/9/2016\n",
      "7/8/2016\n",
      "7/7/2016\n",
      "6/18/2016\n",
      "6/4/2016\n",
      "5/29/2016\n",
      "5/14/2016\n",
      "5/8/2016\n",
      "4/23/2016\n",
      "4/16/2016\n",
      "4/10/2016\n",
      "3/19/2016\n",
      "3/5/2016\n",
      "2/27/2016\n",
      "2/21/2016\n",
      "2/6/2016\n",
      "1/30/2016\n",
      "1/17/2016\n",
      "1/2/2016\n",
      "12/19/2015\n",
      "12/12/2015\n",
      "12/11/2015\n",
      "12/10/2015\n",
      "11/28/2015\n",
      "11/21/2015\n",
      "11/14/2015\n",
      "11/7/2015\n",
      "10/24/2015\n",
      "10/3/2015\n",
      "9/26/2015\n",
      "9/5/2015\n",
      "8/23/2015\n",
      "8/8/2015\n",
      "8/1/2015\n",
      "7/25/2015\n",
      "7/18/2015\n",
      "7/15/2015\n",
      "7/12/2015\n",
      "7/11/2015\n",
      "6/27/2015\n",
      "6/20/2015\n",
      "6/13/2015\n",
      "6/6/2015\n",
      "5/30/2015\n",
      "5/23/2015\n",
      "5/16/2015\n",
      "5/9/2015\n",
      "4/25/2015\n",
      "4/18/2015\n",
      "4/11/2015\n",
      "4/4/2015\n",
      "3/21/2015\n",
      "3/14/2015\n",
      "2/28/2015\n",
      "2/22/2015\n",
      "2/14/2015\n",
      "1/31/2015\n",
      "1/24/2015\n",
      "1/18/2015\n",
      "1/3/2015\n",
      "12/20/2014\n",
      "12/13/2014\n",
      "12/12/2014\n",
      "12/6/2014\n",
      "11/22/2014\n",
      "11/15/2014\n",
      "11/8/2014\n",
      "11/7/2014\n",
      "10/25/2014\n",
      "10/4/2014\n",
      "9/27/2014\n",
      "9/20/2014\n",
      "9/13/2014\n",
      "9/5/2014\n",
      "8/30/2014\n",
      "8/23/2014\n",
      "8/16/2014\n",
      "7/26/2014\n",
      "7/19/2014\n",
      "7/16/2014\n",
      "7/6/2014\n",
      "7/5/2014\n",
      "6/28/2014\n",
      "6/14/2014\n",
      "6/7/2014\n",
      "5/31/2014\n",
      "5/24/2014\n",
      "5/10/2014\n",
      "4/26/2014\n",
      "4/19/2014\n",
      "4/16/2014\n",
      "4/11/2014\n",
      "3/23/2014\n",
      "3/15/2014\n",
      "3/8/2014\n",
      "3/1/2014\n",
      "2/22/2014\n",
      "2/15/2014\n",
      "2/1/2014\n",
      "1/25/2014\n",
      "1/15/2014\n",
      "1/4/2014\n",
      "12/28/2013\n",
      "12/14/2013\n",
      "12/6/2013\n",
      "11/30/2013\n",
      "11/16/2013\n",
      "11/9/2013\n",
      "11/6/2013\n",
      "10/26/2013\n",
      "10/19/2013\n",
      "10/9/2013\n",
      "9/21/2013\n",
      "9/4/2013\n",
      "8/31/2013\n",
      "8/28/2013\n",
      "8/17/2013\n",
      "8/3/2013\n",
      "7/27/2013\n",
      "7/6/2013\n",
      "6/15/2013\n",
      "6/8/2013\n",
      "5/25/2013\n",
      "5/18/2013\n",
      "4/27/2013\n",
      "4/20/2013\n",
      "4/13/2013\n",
      "4/6/2013\n",
      "3/16/2013\n",
      "3/2/2013\n",
      "2/23/2013\n",
      "2/16/2013\n",
      "2/2/2013\n",
      "1/26/2013\n",
      "1/19/2013\n",
      "12/29/2012\n",
      "12/15/2012\n",
      "12/14/2012\n",
      "12/8/2012\n",
      "11/17/2012\n",
      "11/10/2012\n",
      "10/13/2012\n",
      "10/5/2012\n",
      "9/29/2012\n",
      "9/22/2012\n",
      "8/11/2012\n",
      "8/4/2012\n",
      "7/21/2012\n",
      "7/11/2012\n",
      "7/7/2012\n",
      "6/23/2012\n",
      "6/22/2012\n",
      "6/8/2012\n",
      "6/1/2012\n",
      "5/26/2012\n",
      "5/15/2012\n",
      "5/5/2012\n",
      "4/21/2012\n",
      "4/14/2012\n",
      "3/2/2012\n",
      "2/25/2012\n",
      "2/15/2012\n",
      "2/4/2012\n",
      "1/28/2012\n",
      "1/20/2012\n",
      "1/14/2012\n",
      "12/30/2011\n",
      "12/10/2011\n",
      "12/3/2011\n",
      "11/19/2011\n",
      "11/12/2011\n",
      "11/5/2011\n",
      "10/29/2011\n",
      "10/8/2011\n",
      "10/1/2011\n",
      "9/24/2011\n",
      "9/17/2011\n",
      "8/27/2011\n",
      "8/14/2011\n",
      "8/6/2011\n",
      "7/2/2011\n",
      "6/26/2011\n",
      "6/11/2011\n",
      "6/4/2011\n",
      "5/28/2011\n",
      "4/30/2011\n",
      "3/26/2011\n",
      "3/19/2011\n",
      "3/3/2011\n",
      "2/26/2011\n",
      "2/5/2011\n",
      "1/22/2011\n",
      "1/1/2011\n",
      "12/11/2010\n",
      "12/4/2010\n",
      "11/20/2010\n",
      "11/13/2010\n",
      "10/23/2010\n",
      "10/16/2010\n",
      "9/25/2010\n",
      "9/15/2010\n",
      "8/28/2010\n",
      "8/7/2010\n",
      "8/1/2010\n",
      "7/3/2010\n",
      "6/19/2010\n",
      "6/12/2010\n",
      "5/29/2010\n",
      "5/8/2010\n",
      "4/10/2010\n",
      "3/31/2010\n",
      "3/27/2010\n",
      "3/21/2010\n"
     ]
    }
   ],
   "source": [
    "count = 126\n",
    "while count < len(link_list):\n",
    "    d = event_date_list[count]\n",
    "    l = link_list[count]\n",
    "    print(d)\n",
    "    html = urlopen('https://www.bestfightodds.com' + l)\n",
    "    bs = BeautifulSoup(html, 'html.parser')\n",
    "    df_event = df[df['date']==d]\n",
    "    \n",
    "    event_b_fighter_list = df_event['B_fighter'].tolist()\n",
    "    event_r_fighter_list = df_event['R_fighter'].tolist()\n",
    "    \n",
    "    all_rows = bs.find_all('tr')\n",
    "    \n",
    "    while len(event_b_fighter_list) > 0:\n",
    "        b_fighter = event_b_fighter_list.pop(0)\n",
    "        r_fighter = event_r_fighter_list.pop(0)\n",
    "    \n",
    "        b_last_name = b_fighter.split(' ')[-1]\n",
    "        r_last_name = r_fighter.split(' ')[-1]\n",
    "   \n",
    "        r_dec_odds = (return_odds(r_last_name, all_rows, 'wins by decision'))\n",
    "        r_ko_odds = (return_odds(r_last_name, all_rows, 'wins by TKO/KO'))\n",
    "        r_sub_odds = (return_odds(r_last_name, all_rows, 'wins by submission'))\n",
    "\n",
    "        b_dec_odds = (return_odds(b_last_name, all_rows, 'wins by decision'))\n",
    "        b_ko_odds = (return_odds(b_last_name, all_rows, 'wins by TKO/KO'))\n",
    "        b_sub_odds = (return_odds(b_last_name, all_rows, 'wins by submission'))\n",
    "\n",
    "    \n",
    "        r_fighter_list.append(r_fighter)\n",
    "        b_fighter_list.append(b_fighter)\n",
    "        date_list.append(d)\n",
    "        r_dec_list.append(r_dec_odds)\n",
    "        r_ko_list.append(r_ko_odds)\n",
    "        r_sub_list.append(r_sub_odds)\n",
    "        b_dec_list.append(b_dec_odds)\n",
    "        b_ko_list.append(b_ko_odds)\n",
    "        b_sub_list.append(b_sub_odds)\n",
    "    \n",
    "    count = count + 1"
   ]
  },
  {
   "cell_type": "code",
   "execution_count": 84,
   "id": "39a552dd",
   "metadata": {},
   "outputs": [],
   "source": [
    "export_df = pd.DataFrame(list(zip(r_fighter_list, b_fighter_list, date_list, r_dec_list, r_ko_list, r_sub_list,\n",
    "                                 b_dec_list, b_ko_list, b_sub_list)), columns=['r_fighter', 'b_fighter', 'date', \n",
    "                                                                              'r_dec_odds', 'r_ko_odds', 'r_sub_odds',\n",
    "                                                                              'b_dec_odds', 'b_ko_odds', 'b_sub_odds'])"
   ]
  },
  {
   "cell_type": "code",
   "execution_count": 85,
   "id": "e2982ca3",
   "metadata": {},
   "outputs": [],
   "source": [
    "export_df.to_csv('export_test.csv', index=False)"
   ]
  },
  {
   "cell_type": "code",
   "execution_count": null,
   "id": "ee2abd08",
   "metadata": {},
   "outputs": [],
   "source": []
  }
 ],
 "metadata": {
  "kernelspec": {
   "display_name": "Python 3",
   "language": "python",
   "name": "python3"
  },
  "language_info": {
   "codemirror_mode": {
    "name": "ipython",
    "version": 3
   },
   "file_extension": ".py",
   "mimetype": "text/x-python",
   "name": "python",
   "nbconvert_exporter": "python",
   "pygments_lexer": "ipython3",
   "version": "3.8.8"
  }
 },
 "nbformat": 4,
 "nbformat_minor": 5
}
