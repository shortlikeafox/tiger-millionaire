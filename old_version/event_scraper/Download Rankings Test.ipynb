{
 "cells": [
  {
   "cell_type": "code",
   "execution_count": 2,
   "id": "2c3ab365",
   "metadata": {},
   "outputs": [
    {
     "name": "stdout",
     "output_type": "stream",
     "text": [
      "rankings download start!\n",
      "download complete!\n",
      "download file location:  ../data/rankings_history.csv\n",
      "download headers:  Connection: close\n",
      "Content-Length: 2468505\n",
      "Cache-Control: max-age=300\n",
      "Content-Security-Policy: default-src 'none'; style-src 'unsafe-inline'; sandbox\n",
      "Content-Type: text/plain; charset=utf-8\n",
      "ETag: \"cbee2a61b5b77d7f725e79361f4250b7f24181482a008561748d10aa81495727\"\n",
      "Strict-Transport-Security: max-age=31536000\n",
      "X-Content-Type-Options: nosniff\n",
      "X-Frame-Options: deny\n",
      "X-XSS-Protection: 1; mode=block\n",
      "X-GitHub-Request-Id: 2C38:6038:304AE5:88C88E:610E6A74\n",
      "Accept-Ranges: bytes\n",
      "Date: Sat, 07 Aug 2021 11:12:34 GMT\n",
      "Via: 1.1 varnish\n",
      "X-Served-By: cache-chi21163-CHI\n",
      "X-Cache: HIT\n",
      "X-Cache-Hits: 1\n",
      "X-Timer: S1628334755.951989,VS0,VE3\n",
      "Vary: Authorization,Accept-Encoding\n",
      "Access-Control-Allow-Origin: *\n",
      "X-Fastly-Request-ID: 5f7d7e841aee7cae5ef0ef99ce818ca0e186df75\n",
      "Expires: Sat, 07 Aug 2021 11:17:34 GMT\n",
      "Source-Age: 45\n",
      "\n",
      "\n"
     ]
    }
   ],
   "source": [
    "import urllib.request\n",
    "url = \"https://raw.githubusercontent.com/martj42/ufc_rankings_history/master/rankings_history.csv\"\n",
    "print (\"rankings download start!\")\n",
    "filename, headers = urllib.request.urlretrieve(url, filename=\"../data/rankings_history.csv\")\n",
    "print (\"download complete!\")\n",
    "print (\"download file location: \", filename)\n",
    "print (\"download headers: \", headers)"
   ]
  },
  {
   "cell_type": "code",
   "execution_count": null,
   "id": "65465a17",
   "metadata": {},
   "outputs": [],
   "source": []
  }
 ],
 "metadata": {
  "kernelspec": {
   "display_name": "Python 3",
   "language": "python",
   "name": "python3"
  },
  "language_info": {
   "codemirror_mode": {
    "name": "ipython",
    "version": 3
   },
   "file_extension": ".py",
   "mimetype": "text/x-python",
   "name": "python",
   "nbconvert_exporter": "python",
   "pygments_lexer": "ipython3",
   "version": "3.8.8"
  }
 },
 "nbformat": 4,
 "nbformat_minor": 5
}
