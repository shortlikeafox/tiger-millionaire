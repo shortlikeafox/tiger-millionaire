{
 "cells": [
  {
   "cell_type": "code",
   "execution_count": 1,
   "metadata": {},
   "outputs": [],
   "source": [
    "import pandas as pd\n",
    "import numpy as np\n",
    "from functions import *\n",
    "import random\n",
    "import csv\n",
    "from sklearn.linear_model import LogisticRegression\n",
    "from sklearn.tree import DecisionTreeClassifier\n",
    "from sklearn.ensemble import GradientBoostingClassifier\n",
    "\n",
    "remove_fight_island = False"
   ]
  },
  {
   "cell_type": "code",
   "execution_count": 2,
   "metadata": {},
   "outputs": [
    {
     "name": "stdout",
     "output_type": "stream",
     "text": [
      "5\n"
     ]
    }
   ],
   "source": [
    "#Load models\n",
    "#REMINDER: We are going to need to use 'eval' to get the models usable\n",
    "with open('../data/production_models.csv', newline='') as f:\n",
    "    reader = csv.reader(f)\n",
    "    models = list(reader)\n",
    "    \n",
    "print(len(models))\n"
   ]
  },
  {
   "cell_type": "code",
   "execution_count": 3,
   "metadata": {},
   "outputs": [
    {
     "data": {
      "text/plain": [
       "[['model_06_13_20',\n",
       "  'model_06_20_20',\n",
       "  'model_6_27_20',\n",
       "  'model_7_18_20',\n",
       "  'model_7_25_20',\n",
       "  'model_9_2_20',\n",
       "  'model_9_10_20',\n",
       "  'model_10_23_20',\n",
       "  'model_10_27_20',\n",
       "  'model_10_28_20',\n",
       "  'model_2021_06_24',\n",
       "  'model_2021_06_30',\n",
       "  'model_2021_07_21',\n",
       "  'model_2021_08_07'],\n",
       " ['LogisticRegression(max_iter=50000, random_state=75, tol=5.993308915320019)',\n",
       "  'GaussianNB()',\n",
       "  'GaussianNB()',\n",
       "  'GradientBoostingClassifier(n_estimators=122, random_state=75)',\n",
       "  'GaussianNB()',\n",
       "  'GaussianNB(var_smoothing=1e-12)',\n",
       "  'GaussianNB(var_smoothing=1e-12)',\n",
       "  'GradientBoostingClassifier(max_depth=95, min_samples_leaf=6, n_estimators=195,\\n                           random_state=75)',\n",
       "  \"RandomForestClassifier(criterion='entropy', max_depth=10, n_estimators=197,\\n                       n_jobs=-1, random_state=75)\",\n",
       "  \"RandomForestClassifier(criterion='entropy', max_depth=10, n_estimators=22,\\n                       n_jobs=-1, random_state=75)\",\n",
       "  'GradientBoostingClassifier(max_depth=95, min_samples_leaf=0.0015,\\n                           n_estimators=195, random_state=75)',\n",
       "  'GradientBoostingClassifier(max_depth=95, min_samples_leaf=0.0015,\\n                           n_estimators=195, random_state=75)',\n",
       "  \"RadiusNeighborsClassifier(outlier_label='most_frequent')\",\n",
       "  'LinearDiscriminantAnalysis()'],\n",
       " [\"['B_win_by_Decision_Majority', 'B_win_by_TKO_Doctor_Stoppage', 'R_win_by_Decision_Majority', 'R_odds', 'R_current_lose_streak', 'R_Reach_cms', 'B_draw', 'total_round_dif', 'R_ev', 'B_ev']\",\n",
       "  '[\"R_Women\\'s Featherweight_rank\", \\'B_Lightweight_rank\\', \\'R_Featherweight_rank\\', \\'R_Light Heavyweight_rank\\', \\'total_title_bout_dif\\', \\'R_losses\\', \\'B_win_by_Submission\\', \\'Blue - DEC\\', \\'B_draw\\', \\'R_Middleweight_rank\\', \\'B_avg_SIG_STR_pct\\', \"B_Women\\'s Strawweight_rank\", \\'age_dif\\', \\'B_Middleweight_rank\\', \\'avg_sub_att_dif\\', \\'avg_td_dif\\', \\'B_avg_SUB_ATT\\', \"R_Women\\'s Flyweight_rank\", \\'R_Pound-for-Pound_rank\\', \\'R_Reach_cms\\', \\'R_wins\\', \\'B_ev\\', \\'R_Weight_lbs\\', \\'sub_dif\\', \\'R_ev\\', \\'B_avg_TD_landed\\']',\n",
       "  \"['R_longest_win_streak', 'longest_win_streak_dif', 'reach_dif', 'avg_sub_att_dif', 'R_win_by_Decision_Unanimous', 'B_win_by_Submission', 'R_Weight_lbs', 'sig_str_dif', 'B_Height_cms', 'B_avg_SUB_ATT', 'R_win_by_TKO_Doctor_Stoppage', 'height_dif', 'B_draw', 'avg_td_dif', 'R_win_by_Decision_Split', 'age_dif', 'B_current_win_streak', 'R_odds']\",\n",
       "  '[\"R_Women\\'s Featherweight_rank\", \\'B_Lightweight_rank\\', \\'R_Featherweight_rank\\', \\'R_Light Heavyweight_rank\\', \\'total_title_bout_dif\\', \\'R_losses\\', \\'B_win_by_Submission\\', \\'Blue - DEC\\', \\'B_draw\\', \\'R_Middleweight_rank\\', \\'B_avg_SIG_STR_pct\\', \"B_Women\\'s Strawweight_rank\", \\'age_dif\\', \\'B_Middleweight_rank\\', \\'avg_sub_att_dif\\', \\'avg_td_dif\\', \\'B_avg_SUB_ATT\\', \"R_Women\\'s Flyweight_rank\", \\'R_Pound-for-Pound_rank\\', \\'R_Reach_cms\\', \\'R_wins\\', \\'B_ev\\', \\'R_Weight_lbs\\', \\'sub_dif\\', \\'R_ev\\', \\'B_avg_TD_landed\\']',\n",
       "  '[\"R_Women\\'s Featherweight_rank\", \\'B_Lightweight_rank\\', \\'R_Featherweight_rank\\', \\'R_Light Heavyweight_rank\\', \\'total_title_bout_dif\\', \\'R_losses\\', \\'B_win_by_Submission\\', \\'Blue - DEC\\', \\'B_draw\\', \\'R_Middleweight_rank\\', \\'B_avg_SIG_STR_pct\\', \"B_Women\\'s Strawweight_rank\", \\'age_dif\\', \\'B_Middleweight_rank\\', \\'avg_sub_att_dif\\', \\'avg_td_dif\\', \\'B_avg_SUB_ATT\\', \"R_Women\\'s Flyweight_rank\", \\'R_Pound-for-Pound_rank\\', \\'R_Reach_cms\\', \\'R_wins\\', \\'B_ev\\', \\'R_Weight_lbs\\', \\'sub_dif\\', \\'R_ev\\', \\'B_avg_TD_landed\\']',\n",
       "  '[\"R_Women\\'s Featherweight_rank\", \\'B_Lightweight_rank\\', \\'R_Featherweight_rank\\', \\'R_Light Heavyweight_rank\\', \\'total_title_bout_dif\\', \\'R_losses\\', \\'B_win_by_Submission\\', \\'Blue - DEC\\', \\'B_draw\\', \\'R_Middleweight_rank\\', \\'B_avg_SIG_STR_pct\\', \"B_Women\\'s Strawweight_rank\", \\'age_dif\\', \\'B_Middleweight_rank\\', \\'avg_sub_att_dif\\', \\'avg_td_dif\\', \\'B_avg_SUB_ATT\\', \"R_Women\\'s Flyweight_rank\", \\'R_Pound-for-Pound_rank\\', \\'R_Reach_cms\\', \\'R_wins\\', \\'B_ev\\', \\'R_Weight_lbs\\', \\'sub_dif\\', \\'R_ev\\', \\'B_avg_TD_landed\\']',\n",
       "  '[\"R_Women\\'s Featherweight_rank\", \\'B_Lightweight_rank\\', \\'R_Featherweight_rank\\', \\'R_Light Heavyweight_rank\\', \\'total_title_bout_dif\\', \\'R_losses\\', \\'B_win_by_Submission\\', \\'Blue - DEC\\', \\'B_draw\\', \\'R_Middleweight_rank\\', \\'B_avg_SIG_STR_pct\\', \"B_Women\\'s Strawweight_rank\", \\'age_dif\\', \\'B_Middleweight_rank\\', \\'avg_sub_att_dif\\', \\'avg_td_dif\\', \\'B_avg_SUB_ATT\\', \"R_Women\\'s Flyweight_rank\", \\'R_Pound-for-Pound_rank\\', \\'R_Reach_cms\\', \\'R_wins\\', \\'B_ev\\', \\'R_Weight_lbs\\', \\'sub_dif\\', \\'R_ev\\', \\'B_avg_TD_landed\\']',\n",
       "  '[\"R_Women\\'s Featherweight_rank\", \\'B_Lightweight_rank\\', \\'R_Featherweight_rank\\', \\'R_Light Heavyweight_rank\\', \\'total_title_bout_dif\\', \\'R_losses\\', \\'B_win_by_Submission\\', \\'Blue - DEC\\', \\'B_draw\\', \\'R_Middleweight_rank\\', \\'B_avg_SIG_STR_pct\\', \"B_Women\\'s Strawweight_rank\", \\'age_dif\\', \\'B_Middleweight_rank\\', \\'avg_sub_att_dif\\', \\'avg_td_dif\\', \\'B_avg_SUB_ATT\\', \"R_Women\\'s Flyweight_rank\", \\'R_Pound-for-Pound_rank\\', \\'R_Reach_cms\\', \\'R_wins\\', \\'B_ev\\', \\'R_Weight_lbs\\', \\'sub_dif\\', \\'R_ev\\', \\'B_avg_TD_landed\\']',\n",
       "  '[\"R_Women\\'s Featherweight_rank\", \\'B_Lightweight_rank\\', \\'R_Featherweight_rank\\', \\'R_Light Heavyweight_rank\\', \\'total_title_bout_dif\\', \\'R_losses\\', \\'B_win_by_Submission\\', \\'Blue - DEC\\', \\'B_draw\\', \\'R_Middleweight_rank\\', \\'B_avg_SIG_STR_pct\\', \"B_Women\\'s Strawweight_rank\", \\'age_dif\\', \\'B_Middleweight_rank\\', \\'avg_sub_att_dif\\', \\'avg_td_dif\\', \\'B_avg_SUB_ATT\\', \"R_Women\\'s Flyweight_rank\", \\'R_Pound-for-Pound_rank\\', \\'R_Reach_cms\\', \\'R_wins\\', \\'B_ev\\', \\'R_Weight_lbs\\', \\'sub_dif\\', \\'R_ev\\', \\'B_avg_TD_landed\\']',\n",
       "  '[\\'B_Stance\\', \\'R_current_lose_streak\\', \\'loss_dif\\', \\'B_win_by_Decision_Split\\', \\'R_Height_cms\\', \\'R_Bantamweight_rank\\', \\'B_current_lose_streak\\', \\'avg_sub_att_dif\\', \\'B_Middleweight_rank\\', \\'R_current_win_streak\\', \\'total_round_dif\\', \\'B_avg_SUB_ATT\\', \\'B_avg_SIG_STR_landed\\', \\'age_dif\\', \\'B_Light Heavyweight_rank\\', \\'R_avg_TD_pct\\', \\'R_ev\\', \"B_Women\\'s Flyweight_rank\", \"B_Women\\'s Strawweight_rank\", \\'B_Bantamweight_rank\\', \\'R_Reach_cms\\', \\'B_win_by_Decision_Unanimous\\', \\'constant_1\\']',\n",
       "  '[\"R_Women\\'s Featherweight_rank\", \\'B_Featherweight_rank\\', \\'B_win_by_KO/TKO\\', \\'R_Pound-for-Pound_rank\\', \\'reach_dif\\', \"R_Women\\'s Bantamweight_rank\", \\'age_dif\\', \\'weight_class\\', \\'B_Reach_cms\\', \\'B_Welterweight_rank\\', \\'B_total_title_bouts\\', \\'R_avg_TD_pct\\', \\'B_Bantamweight_rank\\', \\'R_Featherweight_rank\\', \\'no_of_rounds\\', \\'B_draw\\', \\'B_Stance\\', \\'R_win_by_TKO_Doctor_Stoppage\\', \\'R_current_win_streak\\', \\'B_avg_SIG_STR_landed\\', \\'country\\']',\n",
       "  '[\"R_Women\\'s Featherweight_rank\", \\'B_Lightweight_rank\\', \\'R_Featherweight_rank\\', \\'R_Light Heavyweight_rank\\', \\'total_title_bout_dif\\', \\'R_losses\\', \\'B_win_by_Submission\\', \\'Blue - DEC\\', \\'B_draw\\', \\'R_Middleweight_rank\\', \\'B_avg_SIG_STR_pct\\', \"B_Women\\'s Strawweight_rank\", \\'age_dif\\', \\'B_Middleweight_rank\\', \\'avg_sub_att_dif\\', \\'avg_td_dif\\', \\'B_avg_SUB_ATT\\', \"R_Women\\'s Flyweight_rank\", \\'R_Pound-for-Pound_rank\\', \\'R_Reach_cms\\', \\'R_wins\\', \\'B_ev\\', \\'R_Weight_lbs\\', \\'sub_dif\\', \\'R_ev\\', \\'B_avg_TD_landed\\']',\n",
       "  '[\"R_Women\\'s Flyweight_rank\", \\'R_draw\\', \"B_Women\\'s Strawweight_rank\", \\'B_Heavyweight_rank\\', \\'R_Light Heavyweight_rank\\', \\'B_win_by_TKO_Doctor_Stoppage\\', \\'R_Pound-for-Pound_rank\\', \\'R_avg_SUB_ATT\\', \\'R_win_by_Decision_Split\\', \\'R_wins\\', \\'empty_arena\\', \\'sub_dif\\', \\'R_Flyweight_rank\\', \\'height_dif\\', \\'B_total_title_bouts\\', \\'B_Bantamweight_rank\\', \\'R_longest_win_streak\\', \\'R_avg_TD_landed\\', \\'B_avg_SIG_STR_landed\\']',\n",
       "  '[\"R_Women\\'s Featherweight_rank\", \\'B_Lightweight_rank\\', \\'R_Featherweight_rank\\', \\'R_Light Heavyweight_rank\\', \\'total_title_bout_dif\\', \\'R_losses\\', \\'B_win_by_Submission\\', \\'Blue - DEC\\', \\'B_draw\\', \\'R_Middleweight_rank\\', \\'B_avg_SIG_STR_pct\\', \"B_Women\\'s Strawweight_rank\", \\'age_dif\\', \\'B_Middleweight_rank\\', \\'avg_sub_att_dif\\', \\'avg_td_dif\\', \\'B_avg_SUB_ATT\\', \"R_Women\\'s Flyweight_rank\", \\'R_Pound-for-Pound_rank\\', \\'R_Reach_cms\\', \\'R_wins\\', \\'B_ev\\', \\'R_Weight_lbs\\', \\'sub_dif\\', \\'R_ev\\', \\'B_avg_TD_landed\\']'],\n",
       " ['0', '0', '0', '0', '1', '3', '2', '27', '1', '5', '33', '0', '5', '0'],\n",
       " ['951.5496528',\n",
       "  '-565.0992472',\n",
       "  '497.2359508',\n",
       "  '-364.2805639',\n",
       "  '-1098.850356',\n",
       "  '-1139.649213',\n",
       "  '-342.3312405',\n",
       "  '-1027.165162',\n",
       "  '-1639.549967',\n",
       "  '1497.060193',\n",
       "  '900.3856353',\n",
       "  '-80.32868471',\n",
       "  '1302.417593',\n",
       "  '9070']]"
      ]
     },
     "execution_count": 3,
     "metadata": {},
     "output_type": "execute_result"
    }
   ],
   "source": [
    "models"
   ]
  },
  {
   "cell_type": "code",
   "execution_count": 4,
   "metadata": {},
   "outputs": [],
   "source": [
    "df = pd.read_csv(\"../data/kaggle_data/ufc-master.csv\")"
   ]
  },
  {
   "cell_type": "code",
   "execution_count": 5,
   "metadata": {},
   "outputs": [
    {
     "name": "stdout",
     "output_type": "stream",
     "text": [
      "250\n",
      "250\n",
      "250\n",
      "4563\n",
      "4563\n",
      "4563\n"
     ]
    },
    {
     "name": "stderr",
     "output_type": "stream",
     "text": [
      "<ipython-input-5-d6c2a1ffdd58>:5: SettingWithCopyWarning: \n",
      "A value is trying to be set on a copy of a slice from a DataFrame\n",
      "\n",
      "See the caveats in the documentation: https://pandas.pydata.org/pandas-docs/stable/user_guide/indexing.html#returning-a-view-versus-a-copy\n",
      "  df['label'][mask] = 0\n",
      "<ipython-input-5-d6c2a1ffdd58>:7: SettingWithCopyWarning: \n",
      "A value is trying to be set on a copy of a slice from a DataFrame\n",
      "\n",
      "See the caveats in the documentation: https://pandas.pydata.org/pandas-docs/stable/user_guide/indexing.html#returning-a-view-versus-a-copy\n",
      "  df['label'][mask] = 1\n"
     ]
    }
   ],
   "source": [
    "#Let's put all the labels in a dataframe\n",
    "df['label'] = ''\n",
    "#If the winner is not Red or Blue we can remove it.\n",
    "mask = df['Winner'] == 'Red'\n",
    "df['label'][mask] = 0\n",
    "mask = df['Winner'] == 'Blue'\n",
    "df['label'][mask] = 1\n",
    "\n",
    "#df[\"Winner\"] = df[\"Winner\"].astype('category')\n",
    "df = df[(df['Winner'] == 'Blue') | (df['Winner'] == 'Red')]\n",
    "\n",
    "\n",
    "#Make sure lable is numeric\n",
    "df['label'] = pd.to_numeric(df['label'], errors='coerce')\n",
    "\n",
    "#Let's fix the date\n",
    "df['date'] = pd.to_datetime(df['date'])\n",
    "\n",
    "#Create a label df:\n",
    "label_df = df['label']\n",
    "\n",
    "#Let's create an odds df too:\n",
    "odds_df = df[['R_odds', 'B_odds']]\n",
    "\n",
    "#Split the test set.  We are always(?) going to use the last 200 matches as the test set, so we don't want those around\n",
    "#as we pick models\n",
    "\n",
    "df_train = df[250:]\n",
    "odds_train = odds_df[250:]\n",
    "label_train = label_df[250:]\n",
    "\n",
    "df_test = df[:250]\n",
    "odds_test = odds_df[:250]\n",
    "label_test = label_df[:250]\n",
    "\n",
    "print(len(df_test))\n",
    "print(len(odds_test))\n",
    "print(len(label_test))\n",
    "\n",
    "print(len(df_train))\n",
    "print(len(odds_train))\n",
    "print(len(label_train))"
   ]
  },
  {
   "cell_type": "code",
   "execution_count": 6,
   "metadata": {},
   "outputs": [
    {
     "name": "stdout",
     "output_type": "stream",
     "text": [
      "250\n",
      "4563\n"
     ]
    }
   ],
   "source": [
    "if remove_fight_island:\n",
    "    ##Let's remove the Fight island contests and see how that affects score\n",
    "    df_test_no_fight_island = df_test[(df_test['location'] != 'Abu Dhabi, Abu Dhabi, United Arab Emirates')]\n",
    "    df_train_no_fight_island = df_train[(df_train['location'] != 'Abu Dhabi, Abu Dhabi, United Arab Emirates')]\n",
    "    df_test = df_test_no_fight_island\n",
    "    df_train = df_train_no_fight_island\n",
    "\n",
    "\n",
    "\n",
    "print(len(df_test))\n",
    "print(len(df_train))\n"
   ]
  },
  {
   "cell_type": "code",
   "execution_count": 7,
   "metadata": {},
   "outputs": [
    {
     "name": "stderr",
     "output_type": "stream",
     "text": [
      "C:\\Users\\matth\\anaconda3\\lib\\site-packages\\pandas\\core\\frame.py:3191: SettingWithCopyWarning: \n",
      "A value is trying to be set on a copy of a slice from a DataFrame.\n",
      "Try using .loc[row_indexer,col_indexer] = value instead\n",
      "\n",
      "See the caveats in the documentation: https://pandas.pydata.org/pandas-docs/stable/user_guide/indexing.html#returning-a-view-versus-a-copy\n",
      "  self[k1] = value[k2]\n"
     ]
    }
   ],
   "source": [
    "#Set a value for the nulls in the ranks\n",
    "\n",
    "weightclass_list = ['B_match_weightclass_rank', 'R_match_weightclass_rank', \"R_Women's Flyweight_rank\", \"R_Women's Featherweight_rank\", \"R_Women's Strawweight_rank\", \"R_Women's Bantamweight_rank\", 'R_Heavyweight_rank', 'R_Light Heavyweight_rank', 'R_Middleweight_rank', 'R_Welterweight_rank', 'R_Lightweight_rank', 'R_Featherweight_rank', 'R_Bantamweight_rank', 'R_Flyweight_rank', 'R_Pound-for-Pound_rank', \"B_Women's Flyweight_rank\", \"B_Women's Featherweight_rank\", \"B_Women's Strawweight_rank\", \"B_Women's Bantamweight_rank\", 'B_Heavyweight_rank', 'B_Light Heavyweight_rank', 'B_Middleweight_rank', 'B_Welterweight_rank', 'B_Lightweight_rank', 'B_Featherweight_rank', 'B_Bantamweight_rank', 'B_Flyweight_rank', 'B_Pound-for-Pound_rank']\n",
    "df_train[weightclass_list] = df_train[weightclass_list].fillna(17)\n",
    "df_test[weightclass_list] = df_test[weightclass_list].fillna(17)"
   ]
  },
  {
   "cell_type": "code",
   "execution_count": 8,
   "metadata": {},
   "outputs": [
    {
     "data": {
      "text/plain": [
       "14"
      ]
     },
     "execution_count": 8,
     "metadata": {},
     "output_type": "execute_result"
    }
   ],
   "source": [
    "len(models[0])"
   ]
  },
  {
   "cell_type": "code",
   "execution_count": null,
   "metadata": {},
   "outputs": [],
   "source": []
  },
  {
   "cell_type": "code",
   "execution_count": 9,
   "metadata": {},
   "outputs": [
    {
     "data": {
      "text/plain": [
       "(4563, 10)"
      ]
     },
     "metadata": {},
     "output_type": "display_data"
    },
    {
     "data": {
      "text/plain": [
       "(4563,)"
      ]
     },
     "metadata": {},
     "output_type": "display_data"
    },
    {
     "data": {
      "text/plain": [
       "(4563, 2)"
      ]
     },
     "metadata": {},
     "output_type": "display_data"
    },
    {
     "data": {
      "text/plain": [
       "(250, 10)"
      ]
     },
     "metadata": {},
     "output_type": "display_data"
    },
    {
     "data": {
      "text/plain": [
       "(250,)"
      ]
     },
     "metadata": {},
     "output_type": "display_data"
    },
    {
     "data": {
      "text/plain": [
       "(250, 2)"
      ]
     },
     "metadata": {},
     "output_type": "display_data"
    },
    {
     "data": {
      "text/html": [
       "<div>\n",
       "<style scoped>\n",
       "    .dataframe tbody tr th:only-of-type {\n",
       "        vertical-align: middle;\n",
       "    }\n",
       "\n",
       "    .dataframe tbody tr th {\n",
       "        vertical-align: top;\n",
       "    }\n",
       "\n",
       "    .dataframe thead th {\n",
       "        text-align: right;\n",
       "    }\n",
       "</style>\n",
       "<table border=\"1\" class=\"dataframe\">\n",
       "  <thead>\n",
       "    <tr style=\"text-align: right;\">\n",
       "      <th></th>\n",
       "      <th>t1_odds</th>\n",
       "      <th>t2_odds</th>\n",
       "      <th>t1_prob</th>\n",
       "      <th>t2_prob</th>\n",
       "      <th>winner</th>\n",
       "    </tr>\n",
       "  </thead>\n",
       "  <tbody>\n",
       "    <tr>\n",
       "      <th>0</th>\n",
       "      <td>175</td>\n",
       "      <td>-210</td>\n",
       "      <td>0.411151</td>\n",
       "      <td>0.588849</td>\n",
       "      <td>1</td>\n",
       "    </tr>\n",
       "    <tr>\n",
       "      <th>1</th>\n",
       "      <td>-145</td>\n",
       "      <td>125</td>\n",
       "      <td>0.564933</td>\n",
       "      <td>0.435067</td>\n",
       "      <td>0</td>\n",
       "    </tr>\n",
       "    <tr>\n",
       "      <th>2</th>\n",
       "      <td>-180</td>\n",
       "      <td>155</td>\n",
       "      <td>0.625788</td>\n",
       "      <td>0.374212</td>\n",
       "      <td>1</td>\n",
       "    </tr>\n",
       "    <tr>\n",
       "      <th>3</th>\n",
       "      <td>135</td>\n",
       "      <td>-155</td>\n",
       "      <td>0.466395</td>\n",
       "      <td>0.533605</td>\n",
       "      <td>1</td>\n",
       "    </tr>\n",
       "    <tr>\n",
       "      <th>4</th>\n",
       "      <td>-265</td>\n",
       "      <td>215</td>\n",
       "      <td>0.695583</td>\n",
       "      <td>0.304417</td>\n",
       "      <td>1</td>\n",
       "    </tr>\n",
       "    <tr>\n",
       "      <th>...</th>\n",
       "      <td>...</td>\n",
       "      <td>...</td>\n",
       "      <td>...</td>\n",
       "      <td>...</td>\n",
       "      <td>...</td>\n",
       "    </tr>\n",
       "    <tr>\n",
       "      <th>245</th>\n",
       "      <td>112</td>\n",
       "      <td>-129</td>\n",
       "      <td>0.413333</td>\n",
       "      <td>0.586667</td>\n",
       "      <td>1</td>\n",
       "    </tr>\n",
       "    <tr>\n",
       "      <th>246</th>\n",
       "      <td>-138</td>\n",
       "      <td>120</td>\n",
       "      <td>0.566108</td>\n",
       "      <td>0.433892</td>\n",
       "      <td>0</td>\n",
       "    </tr>\n",
       "    <tr>\n",
       "      <th>247</th>\n",
       "      <td>150</td>\n",
       "      <td>-182</td>\n",
       "      <td>0.387383</td>\n",
       "      <td>0.612617</td>\n",
       "      <td>1</td>\n",
       "    </tr>\n",
       "    <tr>\n",
       "      <th>248</th>\n",
       "      <td>-400</td>\n",
       "      <td>300</td>\n",
       "      <td>0.724172</td>\n",
       "      <td>0.275828</td>\n",
       "      <td>0</td>\n",
       "    </tr>\n",
       "    <tr>\n",
       "      <th>249</th>\n",
       "      <td>-125</td>\n",
       "      <td>100</td>\n",
       "      <td>0.520781</td>\n",
       "      <td>0.479219</td>\n",
       "      <td>0</td>\n",
       "    </tr>\n",
       "  </tbody>\n",
       "</table>\n",
       "<p>250 rows × 5 columns</p>\n",
       "</div>"
      ],
      "text/plain": [
       "     t1_odds  t2_odds   t1_prob   t2_prob  winner\n",
       "0        175     -210  0.411151  0.588849       1\n",
       "1       -145      125  0.564933  0.435067       0\n",
       "2       -180      155  0.625788  0.374212       1\n",
       "3        135     -155  0.466395  0.533605       1\n",
       "4       -265      215  0.695583  0.304417       1\n",
       "..       ...      ...       ...       ...     ...\n",
       "245      112     -129  0.413333  0.586667       1\n",
       "246     -138      120  0.566108  0.433892       0\n",
       "247      150     -182  0.387383  0.612617       1\n",
       "248     -400      300  0.724172  0.275828       0\n",
       "249     -125      100  0.520781  0.479219       0\n",
       "\n",
       "[250 rows x 5 columns]"
      ]
     },
     "metadata": {},
     "output_type": "display_data"
    },
    {
     "name": "stdout",
     "output_type": "stream",
     "text": [
      "\n",
      "          Number of matches: 250\n",
      "          Number of bets: 116\n",
      "          Number of winning bets: 59\n",
      "          Number of losing bets: 58\n",
      "          Number of underdog bets: 96\n",
      "          Number of underdog wins: 41\n",
      "          Number of underdog losses: 55\n",
      "          Number of Favorite bets: 21\n",
      "          Number of favorite wins: 18\n",
      "          Number of favorite losses: 3\n",
      "          Number of even bets: 0\n",
      "          Number of even wins: 0\n",
      "          Number of even losses: 0\n",
      "          Profit: 934.1906784260498\n",
      "          Profit per bet: 8.053367917465946\n",
      "          Profit per match: 3.736762713704199\n",
      "          \n",
      "          \n"
     ]
    },
    {
     "ename": "KeyError",
     "evalue": "\"['Blue - DEC'] not in index\"",
     "output_type": "error",
     "traceback": [
      "\u001b[1;31m---------------------------------------------------------------------------\u001b[0m",
      "\u001b[1;31mKeyError\u001b[0m                                  Traceback (most recent call last)",
      "\u001b[1;32m<ipython-input-9-24ac9c2ccf76>\u001b[0m in \u001b[0;36m<module>\u001b[1;34m\u001b[0m\n\u001b[0;32m      6\u001b[0m     \u001b[0mtest_model_ev\u001b[0m \u001b[1;33m=\u001b[0m \u001b[0meval\u001b[0m\u001b[1;33m(\u001b[0m\u001b[0mmodels\u001b[0m\u001b[1;33m[\u001b[0m\u001b[1;36m3\u001b[0m\u001b[1;33m]\u001b[0m\u001b[1;33m[\u001b[0m\u001b[0mmodel_num\u001b[0m\u001b[1;33m]\u001b[0m\u001b[1;33m)\u001b[0m\u001b[1;33m\u001b[0m\u001b[1;33m\u001b[0m\u001b[0m\n\u001b[0;32m      7\u001b[0m \u001b[1;33m\u001b[0m\u001b[0m\n\u001b[1;32m----> 8\u001b[1;33m     score_list.append(evaluate_model(test_model, test_model_features, test_model_ev, df_train, label_train, odds_train, df_test, label_test,\n\u001b[0m\u001b[0;32m      9\u001b[0m                          odds_test, verbose = True))\n",
      "\u001b[1;32m~\\OneDrive\\github\\tiger-millionaire\\automated_model_creation\\functions.py\u001b[0m in \u001b[0;36mevaluate_model\u001b[1;34m(input_model, input_features, input_ev, train_df, train_labels, train_odds, test_df, test_labels, test_odds, verbose)\u001b[0m\n\u001b[0;32m   1594\u001b[0m     \u001b[0mmodel_score\u001b[0m \u001b[1;33m=\u001b[0m \u001b[1;36m0\u001b[0m\u001b[1;33m\u001b[0m\u001b[1;33m\u001b[0m\u001b[0m\n\u001b[0;32m   1595\u001b[0m \u001b[1;33m\u001b[0m\u001b[0m\n\u001b[1;32m-> 1596\u001b[1;33m     \u001b[0mdf_train\u001b[0m \u001b[1;33m=\u001b[0m \u001b[0mtrain_df\u001b[0m\u001b[1;33m[\u001b[0m\u001b[0minput_features\u001b[0m\u001b[1;33m]\u001b[0m\u001b[1;33m.\u001b[0m\u001b[0mcopy\u001b[0m\u001b[1;33m(\u001b[0m\u001b[1;33m)\u001b[0m\u001b[1;33m\u001b[0m\u001b[1;33m\u001b[0m\u001b[0m\n\u001b[0m\u001b[0;32m   1597\u001b[0m     \u001b[0mdf_test\u001b[0m \u001b[1;33m=\u001b[0m \u001b[0mtest_df\u001b[0m\u001b[1;33m[\u001b[0m\u001b[0minput_features\u001b[0m\u001b[1;33m]\u001b[0m\u001b[1;33m.\u001b[0m\u001b[0mcopy\u001b[0m\u001b[1;33m(\u001b[0m\u001b[1;33m)\u001b[0m\u001b[1;33m\u001b[0m\u001b[1;33m\u001b[0m\u001b[0m\n\u001b[0;32m   1598\u001b[0m     \u001b[0mdf_train\u001b[0m \u001b[1;33m=\u001b[0m \u001b[0mdf_train\u001b[0m\u001b[1;33m.\u001b[0m\u001b[0mdropna\u001b[0m\u001b[1;33m(\u001b[0m\u001b[1;33m)\u001b[0m\u001b[1;33m\u001b[0m\u001b[1;33m\u001b[0m\u001b[0m\n",
      "\u001b[1;32m~\\anaconda3\\lib\\site-packages\\pandas\\core\\frame.py\u001b[0m in \u001b[0;36m__getitem__\u001b[1;34m(self, key)\u001b[0m\n\u001b[0;32m   3028\u001b[0m             \u001b[1;32mif\u001b[0m \u001b[0mis_iterator\u001b[0m\u001b[1;33m(\u001b[0m\u001b[0mkey\u001b[0m\u001b[1;33m)\u001b[0m\u001b[1;33m:\u001b[0m\u001b[1;33m\u001b[0m\u001b[1;33m\u001b[0m\u001b[0m\n\u001b[0;32m   3029\u001b[0m                 \u001b[0mkey\u001b[0m \u001b[1;33m=\u001b[0m \u001b[0mlist\u001b[0m\u001b[1;33m(\u001b[0m\u001b[0mkey\u001b[0m\u001b[1;33m)\u001b[0m\u001b[1;33m\u001b[0m\u001b[1;33m\u001b[0m\u001b[0m\n\u001b[1;32m-> 3030\u001b[1;33m             \u001b[0mindexer\u001b[0m \u001b[1;33m=\u001b[0m \u001b[0mself\u001b[0m\u001b[1;33m.\u001b[0m\u001b[0mloc\u001b[0m\u001b[1;33m.\u001b[0m\u001b[0m_get_listlike_indexer\u001b[0m\u001b[1;33m(\u001b[0m\u001b[0mkey\u001b[0m\u001b[1;33m,\u001b[0m \u001b[0maxis\u001b[0m\u001b[1;33m=\u001b[0m\u001b[1;36m1\u001b[0m\u001b[1;33m,\u001b[0m \u001b[0mraise_missing\u001b[0m\u001b[1;33m=\u001b[0m\u001b[1;32mTrue\u001b[0m\u001b[1;33m)\u001b[0m\u001b[1;33m[\u001b[0m\u001b[1;36m1\u001b[0m\u001b[1;33m]\u001b[0m\u001b[1;33m\u001b[0m\u001b[1;33m\u001b[0m\u001b[0m\n\u001b[0m\u001b[0;32m   3031\u001b[0m \u001b[1;33m\u001b[0m\u001b[0m\n\u001b[0;32m   3032\u001b[0m         \u001b[1;31m# take() does not accept boolean indexers\u001b[0m\u001b[1;33m\u001b[0m\u001b[1;33m\u001b[0m\u001b[1;33m\u001b[0m\u001b[0m\n",
      "\u001b[1;32m~\\anaconda3\\lib\\site-packages\\pandas\\core\\indexing.py\u001b[0m in \u001b[0;36m_get_listlike_indexer\u001b[1;34m(self, key, axis, raise_missing)\u001b[0m\n\u001b[0;32m   1264\u001b[0m             \u001b[0mkeyarr\u001b[0m\u001b[1;33m,\u001b[0m \u001b[0mindexer\u001b[0m\u001b[1;33m,\u001b[0m \u001b[0mnew_indexer\u001b[0m \u001b[1;33m=\u001b[0m \u001b[0max\u001b[0m\u001b[1;33m.\u001b[0m\u001b[0m_reindex_non_unique\u001b[0m\u001b[1;33m(\u001b[0m\u001b[0mkeyarr\u001b[0m\u001b[1;33m)\u001b[0m\u001b[1;33m\u001b[0m\u001b[1;33m\u001b[0m\u001b[0m\n\u001b[0;32m   1265\u001b[0m \u001b[1;33m\u001b[0m\u001b[0m\n\u001b[1;32m-> 1266\u001b[1;33m         \u001b[0mself\u001b[0m\u001b[1;33m.\u001b[0m\u001b[0m_validate_read_indexer\u001b[0m\u001b[1;33m(\u001b[0m\u001b[0mkeyarr\u001b[0m\u001b[1;33m,\u001b[0m \u001b[0mindexer\u001b[0m\u001b[1;33m,\u001b[0m \u001b[0maxis\u001b[0m\u001b[1;33m,\u001b[0m \u001b[0mraise_missing\u001b[0m\u001b[1;33m=\u001b[0m\u001b[0mraise_missing\u001b[0m\u001b[1;33m)\u001b[0m\u001b[1;33m\u001b[0m\u001b[1;33m\u001b[0m\u001b[0m\n\u001b[0m\u001b[0;32m   1267\u001b[0m         \u001b[1;32mreturn\u001b[0m \u001b[0mkeyarr\u001b[0m\u001b[1;33m,\u001b[0m \u001b[0mindexer\u001b[0m\u001b[1;33m\u001b[0m\u001b[1;33m\u001b[0m\u001b[0m\n\u001b[0;32m   1268\u001b[0m \u001b[1;33m\u001b[0m\u001b[0m\n",
      "\u001b[1;32m~\\anaconda3\\lib\\site-packages\\pandas\\core\\indexing.py\u001b[0m in \u001b[0;36m_validate_read_indexer\u001b[1;34m(self, key, indexer, axis, raise_missing)\u001b[0m\n\u001b[0;32m   1314\u001b[0m             \u001b[1;32mif\u001b[0m \u001b[0mraise_missing\u001b[0m\u001b[1;33m:\u001b[0m\u001b[1;33m\u001b[0m\u001b[1;33m\u001b[0m\u001b[0m\n\u001b[0;32m   1315\u001b[0m                 \u001b[0mnot_found\u001b[0m \u001b[1;33m=\u001b[0m \u001b[0mlist\u001b[0m\u001b[1;33m(\u001b[0m\u001b[0mset\u001b[0m\u001b[1;33m(\u001b[0m\u001b[0mkey\u001b[0m\u001b[1;33m)\u001b[0m \u001b[1;33m-\u001b[0m \u001b[0mset\u001b[0m\u001b[1;33m(\u001b[0m\u001b[0max\u001b[0m\u001b[1;33m)\u001b[0m\u001b[1;33m)\u001b[0m\u001b[1;33m\u001b[0m\u001b[1;33m\u001b[0m\u001b[0m\n\u001b[1;32m-> 1316\u001b[1;33m                 \u001b[1;32mraise\u001b[0m \u001b[0mKeyError\u001b[0m\u001b[1;33m(\u001b[0m\u001b[1;34mf\"{not_found} not in index\"\u001b[0m\u001b[1;33m)\u001b[0m\u001b[1;33m\u001b[0m\u001b[1;33m\u001b[0m\u001b[0m\n\u001b[0m\u001b[0;32m   1317\u001b[0m \u001b[1;33m\u001b[0m\u001b[0m\n\u001b[0;32m   1318\u001b[0m             \u001b[0mnot_found\u001b[0m \u001b[1;33m=\u001b[0m \u001b[0mkey\u001b[0m\u001b[1;33m[\u001b[0m\u001b[0mmissing_mask\u001b[0m\u001b[1;33m]\u001b[0m\u001b[1;33m\u001b[0m\u001b[1;33m\u001b[0m\u001b[0m\n",
      "\u001b[1;31mKeyError\u001b[0m: \"['Blue - DEC'] not in index\""
     ]
    }
   ],
   "source": [
    "score_list = []\n",
    "for model_num in range(len(models[0])):\n",
    "    test_model_name = models[0][model_num]\n",
    "    test_model = eval(models[1][model_num])\n",
    "    test_model_features = eval(models[2][model_num])\n",
    "    test_model_ev = eval(models[3][model_num])\n",
    "    \n",
    "    score_list.append(evaluate_model(test_model, test_model_features, test_model_ev, df_train, label_train, odds_train, df_test, label_test,\n",
    "                         odds_test, verbose = True))"
   ]
  },
  {
   "cell_type": "code",
   "execution_count": null,
   "metadata": {},
   "outputs": [],
   "source": [
    "print(models[4])"
   ]
  },
  {
   "cell_type": "code",
   "execution_count": null,
   "metadata": {},
   "outputs": [],
   "source": [
    "print(score_list)"
   ]
  },
  {
   "cell_type": "code",
   "execution_count": null,
   "metadata": {},
   "outputs": [],
   "source": [
    "models[4] = score_list"
   ]
  },
  {
   "cell_type": "code",
   "execution_count": null,
   "metadata": {},
   "outputs": [],
   "source": [
    "models"
   ]
  },
  {
   "cell_type": "code",
   "execution_count": null,
   "metadata": {},
   "outputs": [],
   "source": [
    "with open('../data/production_models.csv', 'w' , newline='') as outfile:\n",
    "    writer = csv.writer(outfile)\n",
    "    for row in models:\n",
    "        print(\"HI\")\n",
    "        writer.writerow(row)\n",
    "    \n",
    "outfile.close()"
   ]
  },
  {
   "cell_type": "code",
   "execution_count": null,
   "metadata": {},
   "outputs": [],
   "source": []
  }
 ],
 "metadata": {
  "kernelspec": {
   "display_name": "Python 3",
   "language": "python",
   "name": "python3"
  },
  "language_info": {
   "codemirror_mode": {
    "name": "ipython",
    "version": 3
   },
   "file_extension": ".py",
   "mimetype": "text/x-python",
   "name": "python",
   "nbconvert_exporter": "python",
   "pygments_lexer": "ipython3",
   "version": "3.8.8"
  }
 },
 "nbformat": 4,
 "nbformat_minor": 4
}
