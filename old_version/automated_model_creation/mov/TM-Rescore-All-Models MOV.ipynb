{
 "cells": [
  {
   "cell_type": "code",
   "execution_count": 1,
   "id": "692ee30b",
   "metadata": {},
   "outputs": [],
   "source": [
    "import pandas as pd"
   ]
  },
  {
   "cell_type": "code",
   "execution_count": 2,
   "id": "527fcf37",
   "metadata": {},
   "outputs": [],
   "source": [
    "models= pd.read_csv('../../data/models_mov.csv').columns"
   ]
  },
  {
   "cell_type": "code",
   "execution_count": 3,
   "id": "d7fa14a7",
   "metadata": {},
   "outputs": [
    {
     "data": {
      "text/plain": [
       "Index(['model_0', 'model_1', 'model_2', 'model_3', 'model_4', 'model_5',\n",
       "       'model_6', 'model_7', 'model_8', 'model_9', 'model_10', 'model_11',\n",
       "       'model_12', 'model_13', 'model_14', 'model_15', 'model_16'],\n",
       "      dtype='object')"
      ]
     },
     "execution_count": 3,
     "metadata": {},
     "output_type": "execute_result"
    }
   ],
   "source": [
    "models"
   ]
  },
  {
   "cell_type": "code",
   "execution_count": 4,
   "id": "500bc6d0",
   "metadata": {},
   "outputs": [],
   "source": [
    "number_of_models = len(models)"
   ]
  },
  {
   "cell_type": "code",
   "execution_count": 5,
   "id": "e885238c",
   "metadata": {},
   "outputs": [
    {
     "name": "stdout",
     "output_type": "stream",
     "text": [
      "\n",
      "\n",
      "OPTIMIZING MODEL 0\n",
      "\n",
      "\n",
      "model_0\n",
      "LogisticRegression(max_iter=50000, random_state=75, solver='newton-cg',\n",
      "                   tol=0.00012)\n",
      "['avg_sub_att_dif', 'R_Flyweight_rank', 'B_current_lose_streak', 'better_rank', 'R_win_by_TKO_Doctor_Stoppage', 'R_win_by_Decision_Majority', \"B_Women's Flyweight_rank\", 'B_draw', 'R_avg_TD_landed', 'B_Flyweight_rank', 'B_Lightweight_rank', 'R_current_win_streak', 'B_win_by_Decision_Split', 'B_Height_cms', 'B_avg_SUB_ATT', 'B_Middleweight_rank', 'R_win_by_KO/TKO', 'R_Lightweight_rank', 'Red - KO/TKO', 'R_draw', 'R_age', 'total_title_bout_dif', 'B_avg_TD_pct', 'B_Light Heavyweight_rank', 'R_Welterweight_rank', 'R_avg_SUB_ATT', 'R_total_rounds_fought', 'R_Light Heavyweight_rank', 'B_Welterweight_rank', 'no_of_rounds', 'gender', 'R_win_by_Decision_Split', 'Blue - SUB', 'B_Bantamweight_rank', 'Red - SUB', 'Blue - DEC', 'R_Middleweight_rank', 'B_avg_SIG_STR_pct', \"B_Women's Strawweight_rank\", 'age_dif', 'R_Reach_cms', 'R_wins', 'B_ev', 'R_Weight_lbs', 'sub_dif', 'R_ev', 'B_avg_TD_landed']\n",
      "0\n",
      "Current best score is: 16934.565639815817\n",
      "NO IMPROVEMENT\n",
      "FINAL BEST SCORE: 16934.565639815817\n",
      "\n",
      "model_0\n",
      "LogisticRegression(max_iter=50000, random_state=75, solver='newton-cg',\n",
      "                   tol=0.00012)\n",
      "['avg_sub_att_dif', 'R_Flyweight_rank', 'B_current_lose_streak', 'better_rank', 'R_win_by_TKO_Doctor_Stoppage', 'R_win_by_Decision_Majority', \"B_Women's Flyweight_rank\", 'B_draw', 'R_avg_TD_landed', 'B_Flyweight_rank', 'B_Lightweight_rank', 'R_current_win_streak', 'B_win_by_Decision_Split', 'B_Height_cms', 'B_avg_SUB_ATT', 'B_Middleweight_rank', 'R_win_by_KO/TKO', 'R_Lightweight_rank', 'Red - KO/TKO', 'R_draw', 'R_age', 'total_title_bout_dif', 'B_avg_TD_pct', 'B_Light Heavyweight_rank', 'R_Welterweight_rank', 'R_avg_SUB_ATT', 'R_total_rounds_fought', 'R_Light Heavyweight_rank', 'B_Welterweight_rank', 'no_of_rounds', 'gender', 'R_win_by_Decision_Split', 'Blue - SUB', 'B_Bantamweight_rank', 'Red - SUB', 'Blue - DEC', 'R_Middleweight_rank', 'B_avg_SIG_STR_pct', \"B_Women's Strawweight_rank\", 'age_dif', 'R_Reach_cms', 'R_wins', 'B_ev', 'R_Weight_lbs', 'sub_dif', 'R_ev', 'B_avg_TD_landed']\n",
      "0\n",
      "\n"
     ]
    },
    {
     "data": {
      "text/plain": [
       "(2762, 50)"
      ]
     },
     "metadata": {},
     "output_type": "display_data"
    },
    {
     "data": {
      "text/plain": [
       "(2762,)"
      ]
     },
     "metadata": {},
     "output_type": "display_data"
    },
    {
     "data": {
      "text/plain": [
       "(2762, 6)"
      ]
     },
     "metadata": {},
     "output_type": "display_data"
    },
    {
     "data": {
      "text/plain": [
       "(242, 50)"
      ]
     },
     "metadata": {},
     "output_type": "display_data"
    },
    {
     "data": {
      "text/plain": [
       "(242,)"
      ]
     },
     "metadata": {},
     "output_type": "display_data"
    },
    {
     "data": {
      "text/plain": [
       "(242, 6)"
      ]
     },
     "metadata": {},
     "output_type": "display_data"
    },
    {
     "name": "stdout",
     "output_type": "stream",
     "text": [
      "250     5\n",
      "251     3\n",
      "252     3\n",
      "253     5\n",
      "254     0\n",
      "       ..\n",
      "4217    0\n",
      "4225    1\n",
      "4226    3\n",
      "4227    5\n",
      "4228    5\n",
      "Name: label, Length: 2762, dtype: int64\n",
      "Real Score: -183.83986578139502\n",
      "HI\n",
      "HI\n",
      "HI\n",
      "HI\n",
      "HI\n",
      "\n",
      "\n",
      "Starting New Run for LogisticRegression\n",
      "\n",
      "\n",
      "Previous Best Score: 16934.565639815817\n",
      "solver: newton-cg penalty: l2 tol: 0.00012 Score: 16934.565639815817\n",
      "solver: newton-cg penalty: l2 tol: 0.000144 Score: 16934.565639815817\n",
      "solver: newton-cg penalty: l2 tol: 9.6e-05 Score: 16934.565639815817\n",
      "solver: newton-cg penalty: l2 tol: 5.541145618844917 Score: 10506.64759643425\n",
      "solver: newton-cg penalty: none tol: 0.00012 Score: 12426.488716738895\n",
      "solver: newton-cg penalty: none tol: 0.000144 Score: 12426.488716738895\n",
      "solver: newton-cg penalty: none tol: 9.6e-05 Score: 12426.488716738895\n",
      "solver: newton-cg penalty: none tol: 5.541145618844917 Score: 6317.523242527288\n",
      "solver: lbfgs penalty: l2 tol: 0.00012 Score: 16734.565639815817\n",
      "solver: lbfgs penalty: l2 tol: 0.000144 Score: 16734.565639815817\n",
      "solver: lbfgs penalty: l2 tol: 9.6e-05 Score: 16734.565639815817\n",
      "solver: lbfgs penalty: l2 tol: 5.541145618844917 Score: 1189.2330110196663\n",
      "solver: lbfgs penalty: none tol: 0.00012 Score: 12426.488716738895\n",
      "solver: lbfgs penalty: none tol: 0.000144 Score: 12426.488716738895\n",
      "solver: lbfgs penalty: none tol: 9.6e-05 Score: 12426.488716738895\n",
      "solver: lbfgs penalty: none tol: 5.541145618844917 Score: 947.9297528743018\n",
      "solver: sag penalty: l2 tol: 0.00012 Score: 16934.565639815817\n",
      "solver: sag penalty: l2 tol: 0.000144 Score: 16934.565639815817\n",
      "solver: sag penalty: l2 tol: 9.6e-05 Score: 16934.565639815817\n",
      "solver: sag penalty: l2 tol: 5.541145618844917 Score: -21701.445237920474\n",
      "solver: sag penalty: none tol: 0.00012 Score: 12583.488716738895\n",
      "solver: sag penalty: none tol: 0.000144 Score: 12583.488716738895\n",
      "solver: sag penalty: none tol: 9.6e-05 Score: 12426.488716738895\n",
      "solver: sag penalty: none tol: 5.541145618844917 Score: -23076.445237920474\n",
      "Real output model: LogisticRegression(max_iter=50000, random_state=75, solver='newton-cg',\n",
      "                   tol=0.00012)\n",
      "\n",
      "model_0\n",
      "LogisticRegression(max_iter=50000, random_state=75, solver='newton-cg',\n",
      "                   tol=0.00012)\n",
      "['avg_sub_att_dif', 'R_Flyweight_rank', 'B_current_lose_streak', 'better_rank', 'R_win_by_TKO_Doctor_Stoppage', 'R_win_by_Decision_Majority', \"B_Women's Flyweight_rank\", 'B_draw', 'R_avg_TD_landed', 'B_Flyweight_rank', 'B_Lightweight_rank', 'R_current_win_streak', 'B_win_by_Decision_Split', 'B_Height_cms', 'B_avg_SUB_ATT', 'B_Middleweight_rank', 'R_win_by_KO/TKO', 'R_Lightweight_rank', 'Red - KO/TKO', 'R_draw', 'R_age', 'total_title_bout_dif', 'B_avg_TD_pct', 'B_Light Heavyweight_rank', 'R_Welterweight_rank', 'R_avg_SUB_ATT', 'R_total_rounds_fought', 'R_Light Heavyweight_rank', 'B_Welterweight_rank', 'no_of_rounds', 'gender', 'R_win_by_Decision_Split', 'Blue - SUB', 'B_Bantamweight_rank', 'Red - SUB', 'Blue - DEC', 'R_Middleweight_rank', 'B_avg_SIG_STR_pct', \"B_Women's Strawweight_rank\", 'age_dif', 'R_Reach_cms', 'R_wins', 'B_ev', 'R_Weight_lbs', 'sub_dif', 'R_ev', 'B_avg_TD_landed']\n",
      "0\n",
      "\n"
     ]
    },
    {
     "data": {
      "text/plain": [
       "(2762, 50)"
      ]
     },
     "metadata": {},
     "output_type": "display_data"
    },
    {
     "data": {
      "text/plain": [
       "(2762,)"
      ]
     },
     "metadata": {},
     "output_type": "display_data"
    },
    {
     "data": {
      "text/plain": [
       "(2762, 6)"
      ]
     },
     "metadata": {},
     "output_type": "display_data"
    },
    {
     "data": {
      "text/plain": [
       "(242, 50)"
      ]
     },
     "metadata": {},
     "output_type": "display_data"
    },
    {
     "data": {
      "text/plain": [
       "(242,)"
      ]
     },
     "metadata": {},
     "output_type": "display_data"
    },
    {
     "data": {
      "text/plain": [
       "(242, 6)"
      ]
     },
     "metadata": {},
     "output_type": "display_data"
    },
    {
     "name": "stdout",
     "output_type": "stream",
     "text": [
      "250     5\n",
      "251     3\n",
      "252     3\n",
      "253     5\n",
      "254     0\n",
      "       ..\n",
      "4217    0\n",
      "4225    1\n",
      "4226    3\n",
      "4227    5\n",
      "4228    5\n",
      "Name: label, Length: 2762, dtype: int64\n",
      "Real Score: -183.83986578139502\n",
      "HI\n",
      "HI\n",
      "HI\n",
      "HI\n",
      "HI\n",
      "\n",
      "model_0\n",
      "LogisticRegression(max_iter=50000, random_state=75, solver='newton-cg',\n",
      "                   tol=0.00012)\n",
      "['avg_sub_att_dif', 'R_Flyweight_rank', 'B_current_lose_streak', 'better_rank', 'R_win_by_TKO_Doctor_Stoppage', 'R_win_by_Decision_Majority', \"B_Women's Flyweight_rank\", 'B_draw', 'R_avg_TD_landed', 'B_Flyweight_rank', 'B_Lightweight_rank', 'R_current_win_streak', 'B_win_by_Decision_Split', 'B_Height_cms', 'B_avg_SUB_ATT', 'B_Middleweight_rank', 'R_win_by_KO/TKO', 'R_Lightweight_rank', 'Red - KO/TKO', 'R_draw', 'R_age', 'total_title_bout_dif', 'B_avg_TD_pct', 'B_Light Heavyweight_rank', 'R_Welterweight_rank', 'R_avg_SUB_ATT', 'R_total_rounds_fought', 'R_Light Heavyweight_rank', 'B_Welterweight_rank', 'no_of_rounds', 'gender', 'R_win_by_Decision_Split', 'Blue - SUB', 'B_Bantamweight_rank', 'Red - SUB', 'Blue - DEC', 'R_Middleweight_rank', 'B_avg_SIG_STR_pct', \"B_Women's Strawweight_rank\", 'age_dif', 'R_Reach_cms', 'R_wins', 'B_ev', 'R_Weight_lbs', 'sub_dif', 'R_ev', 'B_avg_TD_landed']\n",
      "0\n",
      "\n"
     ]
    },
    {
     "data": {
      "text/plain": [
       "(2762, 50)"
      ]
     },
     "metadata": {},
     "output_type": "display_data"
    },
    {
     "data": {
      "text/plain": [
       "(2762,)"
      ]
     },
     "metadata": {},
     "output_type": "display_data"
    },
    {
     "data": {
      "text/plain": [
       "(2762, 6)"
      ]
     },
     "metadata": {},
     "output_type": "display_data"
    },
    {
     "data": {
      "text/plain": [
       "(242, 50)"
      ]
     },
     "metadata": {},
     "output_type": "display_data"
    },
    {
     "data": {
      "text/plain": [
       "(242,)"
      ]
     },
     "metadata": {},
     "output_type": "display_data"
    },
    {
     "data": {
      "text/plain": [
       "(242, 6)"
      ]
     },
     "metadata": {},
     "output_type": "display_data"
    },
    {
     "name": "stdout",
     "output_type": "stream",
     "text": [
      "250     5\n",
      "251     3\n",
      "252     3\n",
      "253     5\n",
      "254     0\n",
      "       ..\n",
      "4217    0\n",
      "4225    1\n",
      "4226    3\n",
      "4227    5\n",
      "4228    5\n",
      "Name: label, Length: 2762, dtype: int64\n",
      "Real Score: -183.83986578139502\n",
      "HI\n",
      "HI\n",
      "HI\n",
      "HI\n",
      "HI\n",
      "The original score is 16934.565639815817\n",
      "\n",
      "model_0\n",
      "LogisticRegression(max_iter=50000, random_state=75, solver='newton-cg',\n",
      "                   tol=0.00012)\n",
      "['avg_sub_att_dif', 'R_Flyweight_rank', 'B_current_lose_streak', 'better_rank', 'R_win_by_TKO_Doctor_Stoppage', 'R_win_by_Decision_Majority', \"B_Women's Flyweight_rank\", 'B_draw', 'R_avg_TD_landed', 'B_Flyweight_rank', 'B_Lightweight_rank', 'R_current_win_streak', 'B_win_by_Decision_Split', 'B_Height_cms', 'B_avg_SUB_ATT', 'B_Middleweight_rank', 'R_win_by_KO/TKO', 'R_Lightweight_rank', 'Red - KO/TKO', 'R_draw', 'R_age', 'total_title_bout_dif', 'B_avg_TD_pct', 'B_Light Heavyweight_rank', 'R_Welterweight_rank', 'R_avg_SUB_ATT', 'R_total_rounds_fought', 'R_Light Heavyweight_rank', 'B_Welterweight_rank', 'no_of_rounds', 'gender', 'R_win_by_Decision_Split', 'Blue - SUB', 'B_Bantamweight_rank', 'Red - SUB', 'Blue - DEC', 'R_Middleweight_rank', 'B_avg_SIG_STR_pct', \"B_Women's Strawweight_rank\", 'age_dif', 'R_Reach_cms', 'R_wins', 'B_ev', 'R_Weight_lbs', 'sub_dif', 'R_ev', 'B_avg_TD_landed']\n",
      "0\n",
      "\n"
     ]
    },
    {
     "data": {
      "text/plain": [
       "(2762, 50)"
      ]
     },
     "metadata": {},
     "output_type": "display_data"
    },
    {
     "data": {
      "text/plain": [
       "(2762,)"
      ]
     },
     "metadata": {},
     "output_type": "display_data"
    },
    {
     "data": {
      "text/plain": [
       "(2762, 6)"
      ]
     },
     "metadata": {},
     "output_type": "display_data"
    },
    {
     "data": {
      "text/plain": [
       "(242, 50)"
      ]
     },
     "metadata": {},
     "output_type": "display_data"
    },
    {
     "data": {
      "text/plain": [
       "(242,)"
      ]
     },
     "metadata": {},
     "output_type": "display_data"
    },
    {
     "data": {
      "text/plain": [
       "(242, 6)"
      ]
     },
     "metadata": {},
     "output_type": "display_data"
    },
    {
     "name": "stdout",
     "output_type": "stream",
     "text": [
      "250     5\n",
      "251     3\n",
      "252     3\n",
      "253     5\n",
      "254     0\n",
      "       ..\n",
      "4217    0\n",
      "4225    1\n",
      "4226    3\n",
      "4227    5\n",
      "4228    5\n",
      "Name: label, Length: 2762, dtype: int64\n",
      "Real Score: -183.83986578139502\n",
      "HI\n",
      "HI\n",
      "HI\n",
      "HI\n",
      "HI\n",
      "\n",
      "\n",
      "OPTIMIZING MODEL 1\n",
      "\n",
      "\n",
      "model_1\n",
      "DecisionTreeClassifier(max_depth=31, max_leaf_nodes=336,\n",
      "                       min_samples_leaf=0.009801, random_state=75)\n",
      "['sub_dif', 'R_current_win_streak', 'R_Bantamweight_rank', 'B_current_lose_streak', 'B_win_by_Decision_Unanimous', 'B_total_rounds_fought', 'B_losses', 'B_longest_win_streak', 'longest_win_streak_dif', 'B_Stance', 'R_win_by_Submission', 'R_Lightweight_rank', 'R_current_lose_streak', 'country', 'B_match_weightclass_rank', 'B_Weight_lbs', 'gender', 'Blue - SUB', \"B_Women's Featherweight_rank\", 'B_Heavyweight_rank', 'R_win_by_KO/TKO', 'avg_sub_att_dif', 'age_dif', 'B_avg_TD_landed', 'win_dif', 'weight_class', 'R_odds', 'empty_arena']\n",
      "0\n",
      "Current best score is: -112252.6148558885\n",
      "Feature: R_ev Score: -105321.98627482686\n",
      "Feature: B_avg_SIG_STR_landed Score: -96785.35157833551\n",
      "The best feature was B_avg_SIG_STR_landed.  It scored -96785.35157833551\n",
      "Current best score is: -96785.35157833551\n",
      "Feature: R_ev Score: -82809.8515118821\n",
      "The best feature was R_ev.  It scored -82809.8515118821\n",
      "Current best score is: -82809.8515118821\n",
      "Feature: location Score: -80998.44684575177\n",
      "Feature: R_losses Score: -80851.64958880516\n",
      "Feature: R_total_title_bouts Score: -77003.55464998457\n",
      "Feature: win_streak_dif Score: -75822.52620628095\n",
      "The best feature was win_streak_dif.  It scored -75822.52620628095\n",
      "Current best score is: -75822.52620628095\n",
      "Feature: location Score: -73519.1215401506\n",
      "Feature: total_title_bout_dif Score: -73396.25070406238\n",
      "The best feature was total_title_bout_dif.  It scored -73396.25070406238\n",
      "Current best score is: -73396.25070406238\n",
      "Feature: location Score: -71728.34161315329\n",
      "The best feature was location.  It scored -71728.34161315329\n",
      "Current best score is: -71728.34161315329\n",
      "Feature: B_win_by_Submission Score: -71084.93135674302\n",
      "The best feature was B_win_by_Submission.  It scored -71084.93135674302\n",
      "Current best score is: -71084.93135674302\n",
      "Feature: R_Heavyweight_rank Score: -70684.93135674302\n",
      "Feature: R_Light Heavyweight_rank Score: -70169.11317492483\n",
      "The best feature was R_Light Heavyweight_rank.  It scored -70169.11317492483\n",
      "Current best score is: -70169.11317492483\n",
      "Feature: B_draw Score: -69325.02226583393\n",
      "Feature: B_win_by_Decision_Majority Score: -68860.02226583393\n",
      "The best feature was B_win_by_Decision_Majority.  It scored -68860.02226583393\n",
      "Current best score is: -68860.02226583393\n",
      "NO IMPROVEMENT\n",
      "FINAL BEST SCORE: -68860.02226583393\n",
      "\n",
      "model_1\n",
      "DecisionTreeClassifier(max_depth=31, max_leaf_nodes=336,\n",
      "                       min_samples_leaf=0.009801, random_state=75)\n",
      "['B_win_by_Decision_Majority', 'R_Light Heavyweight_rank', 'B_win_by_Submission', 'location', 'total_title_bout_dif', 'win_streak_dif', 'R_ev', 'B_avg_SIG_STR_landed', 'sub_dif', 'R_current_win_streak', 'R_Bantamweight_rank', 'B_current_lose_streak', 'B_win_by_Decision_Unanimous', 'B_total_rounds_fought', 'B_losses', 'B_longest_win_streak', 'longest_win_streak_dif', 'B_Stance', 'R_win_by_Submission', 'R_Lightweight_rank', 'R_current_lose_streak', 'country', 'B_match_weightclass_rank', 'B_Weight_lbs', 'gender', 'Blue - SUB', \"B_Women's Featherweight_rank\", 'B_Heavyweight_rank', 'R_win_by_KO/TKO', 'avg_sub_att_dif', 'age_dif', 'B_avg_TD_landed', 'win_dif', 'weight_class', 'R_odds', 'empty_arena']\n",
      "0\n",
      "\n"
     ]
    },
    {
     "data": {
      "text/plain": [
       "(2749, 209)"
      ]
     },
     "metadata": {},
     "output_type": "display_data"
    },
    {
     "data": {
      "text/plain": [
       "(2749,)"
      ]
     },
     "metadata": {},
     "output_type": "display_data"
    },
    {
     "data": {
      "text/plain": [
       "(2749, 6)"
      ]
     },
     "metadata": {},
     "output_type": "display_data"
    },
    {
     "data": {
      "text/plain": [
       "(240, 209)"
      ]
     },
     "metadata": {},
     "output_type": "display_data"
    },
    {
     "data": {
      "text/plain": [
       "(240,)"
      ]
     },
     "metadata": {},
     "output_type": "display_data"
    },
    {
     "data": {
      "text/plain": [
       "(240, 6)"
      ]
     },
     "metadata": {},
     "output_type": "display_data"
    },
    {
     "name": "stdout",
     "output_type": "stream",
     "text": [
      "250     5\n",
      "251     3\n",
      "252     3\n",
      "253     5\n",
      "254     0\n",
      "       ..\n",
      "4217    0\n",
      "4225    1\n",
      "4226    3\n",
      "4227    5\n",
      "4228    5\n",
      "Name: label, Length: 2749, dtype: int64\n",
      "Real Score: -5844.249827467219\n",
      "HI\n",
      "HI\n",
      "HI\n",
      "HI\n",
      "HI\n",
      "\n",
      "\n",
      "Starting New Run for DecisionTree\n",
      "\n",
      "\n",
      "Previous Best Score: -68860.02226583393\n",
      "Criterion: gini splitter: random max_depth: 31 min_samples_leaf: 0.009801 max_leaf_nodes: 336 -109477.1709248142\n",
      "Criterion: gini splitter: best max_depth: 31 min_samples_leaf: 0.009801 max_leaf_nodes: 336 -68860.02226583393\n",
      "Criterion: entropy splitter: random max_depth: 31 min_samples_leaf: 0.009801 max_leaf_nodes: 336 -104562.56244077983\n",
      "Criterion: entropy splitter: best max_depth: 31 min_samples_leaf: 0.009801 max_leaf_nodes: 336 -100254.4963132276\n",
      "Criterion: gini splitter: random max_depth: 30 min_samples_leaf: 0.009801 max_leaf_nodes: 336 -109477.1709248142\n",
      "Criterion: gini splitter: best max_depth: 30 min_samples_leaf: 0.009801 max_leaf_nodes: 336 -68860.02226583393\n",
      "Criterion: entropy splitter: random max_depth: 30 min_samples_leaf: 0.009801 max_leaf_nodes: 336 -104562.56244077983\n",
      "Criterion: entropy splitter: best max_depth: 30 min_samples_leaf: 0.009801 max_leaf_nodes: 336 -100254.4963132276\n",
      "Criterion: gini splitter: random max_depth: 32 min_samples_leaf: 0.009801 max_leaf_nodes: 336 -109477.1709248142\n",
      "Criterion: gini splitter: best max_depth: 32 min_samples_leaf: 0.009801 max_leaf_nodes: 336 -68860.02226583393\n",
      "Criterion: entropy splitter: random max_depth: 32 min_samples_leaf: 0.009801 max_leaf_nodes: 336 -104562.56244077983\n",
      "Criterion: entropy splitter: best max_depth: 32 min_samples_leaf: 0.009801 max_leaf_nodes: 336 -100254.4963132276\n",
      "Criterion: gini splitter: random max_depth: 66 min_samples_leaf: 0.009801 max_leaf_nodes: 336 -109477.1709248142\n",
      "Criterion: gini splitter: best max_depth: 66 min_samples_leaf: 0.009801 max_leaf_nodes: 336 -68860.02226583393\n",
      "Criterion: entropy splitter: random max_depth: 66 min_samples_leaf: 0.009801 max_leaf_nodes: 336 -104562.56244077983\n",
      "Criterion: entropy splitter: best max_depth: 66 min_samples_leaf: 0.009801 max_leaf_nodes: 336 -100254.4963132276\n",
      "Criterion: gini splitter: random max_depth: 31 min_samples_leaf: 0.009899010000000001 max_leaf_nodes: 336 -98244.97674979958\n",
      "Criterion: gini splitter: best max_depth: 31 min_samples_leaf: 0.009899010000000001 max_leaf_nodes: 336 -85151.45238445295\n",
      "Criterion: entropy splitter: random max_depth: 31 min_samples_leaf: 0.009899010000000001 max_leaf_nodes: 336 -113860.8214710191\n",
      "Criterion: entropy splitter: best max_depth: 31 min_samples_leaf: 0.009899010000000001 max_leaf_nodes: 336 -101169.82696429177\n",
      "Criterion: gini splitter: random max_depth: 30 min_samples_leaf: 0.009899010000000001 max_leaf_nodes: 336 -98244.97674979958\n",
      "Criterion: gini splitter: best max_depth: 30 min_samples_leaf: 0.009899010000000001 max_leaf_nodes: 336 -85151.45238445295\n",
      "Criterion: entropy splitter: random max_depth: 30 min_samples_leaf: 0.009899010000000001 max_leaf_nodes: 336 -113860.8214710191\n",
      "Criterion: entropy splitter: best max_depth: 30 min_samples_leaf: 0.009899010000000001 max_leaf_nodes: 336 -101169.82696429177\n",
      "Criterion: gini splitter: random max_depth: 32 min_samples_leaf: 0.009899010000000001 max_leaf_nodes: 336 -98244.97674979958\n",
      "Criterion: gini splitter: best max_depth: 32 min_samples_leaf: 0.009899010000000001 max_leaf_nodes: 336 -85151.45238445295\n",
      "Criterion: entropy splitter: random max_depth: 32 min_samples_leaf: 0.009899010000000001 max_leaf_nodes: 336 -113860.8214710191\n",
      "Criterion: entropy splitter: best max_depth: 32 min_samples_leaf: 0.009899010000000001 max_leaf_nodes: 336 -101169.82696429177\n",
      "Criterion: gini splitter: random max_depth: 66 min_samples_leaf: 0.009899010000000001 max_leaf_nodes: 336 -98244.97674979958\n",
      "Criterion: gini splitter: best max_depth: 66 min_samples_leaf: 0.009899010000000001 max_leaf_nodes: 336 -85151.45238445295\n",
      "Criterion: entropy splitter: random max_depth: 66 min_samples_leaf: 0.009899010000000001 max_leaf_nodes: 336 -113860.8214710191\n",
      "Criterion: entropy splitter: best max_depth: 66 min_samples_leaf: 0.009899010000000001 max_leaf_nodes: 336 -101169.82696429177\n",
      "Criterion: gini splitter: random max_depth: 31 min_samples_leaf: 0.00970299 max_leaf_nodes: 336 -109477.1709248142\n",
      "Criterion: gini splitter: best max_depth: 31 min_samples_leaf: 0.00970299 max_leaf_nodes: 336 -68860.02226583393\n",
      "Criterion: entropy splitter: random max_depth: 31 min_samples_leaf: 0.00970299 max_leaf_nodes: 336 -104562.56244077983\n",
      "Criterion: entropy splitter: best max_depth: 31 min_samples_leaf: 0.00970299 max_leaf_nodes: 336 -100254.4963132276\n",
      "Criterion: gini splitter: random max_depth: 30 min_samples_leaf: 0.00970299 max_leaf_nodes: 336 -109477.1709248142\n",
      "Criterion: gini splitter: best max_depth: 30 min_samples_leaf: 0.00970299 max_leaf_nodes: 336 -68860.02226583393\n",
      "Criterion: entropy splitter: random max_depth: 30 min_samples_leaf: 0.00970299 max_leaf_nodes: 336 -104562.56244077983\n",
      "Criterion: entropy splitter: best max_depth: 30 min_samples_leaf: 0.00970299 max_leaf_nodes: 336 -100254.4963132276\n",
      "Criterion: gini splitter: random max_depth: 32 min_samples_leaf: 0.00970299 max_leaf_nodes: 336 -109477.1709248142\n",
      "Criterion: gini splitter: best max_depth: 32 min_samples_leaf: 0.00970299 max_leaf_nodes: 336 -68860.02226583393\n",
      "Criterion: entropy splitter: random max_depth: 32 min_samples_leaf: 0.00970299 max_leaf_nodes: 336 -104562.56244077983\n",
      "Criterion: entropy splitter: best max_depth: 32 min_samples_leaf: 0.00970299 max_leaf_nodes: 336 -100254.4963132276\n",
      "Criterion: gini splitter: random max_depth: 66 min_samples_leaf: 0.00970299 max_leaf_nodes: 336 -109477.1709248142\n",
      "Criterion: gini splitter: best max_depth: 66 min_samples_leaf: 0.00970299 max_leaf_nodes: 336 -68860.02226583393\n",
      "Criterion: entropy splitter: random max_depth: 66 min_samples_leaf: 0.00970299 max_leaf_nodes: 336 -104562.56244077983\n",
      "Criterion: entropy splitter: best max_depth: 66 min_samples_leaf: 0.00970299 max_leaf_nodes: 336 -100254.4963132276\n",
      "Criterion: gini splitter: random max_depth: 31 min_samples_leaf: 0.009801 max_leaf_nodes: 335 -109477.1709248142\n",
      "Criterion: gini splitter: best max_depth: 31 min_samples_leaf: 0.009801 max_leaf_nodes: 335 -68860.02226583393\n",
      "Criterion: entropy splitter: random max_depth: 31 min_samples_leaf: 0.009801 max_leaf_nodes: 335 -104562.56244077983\n",
      "Criterion: entropy splitter: best max_depth: 31 min_samples_leaf: 0.009801 max_leaf_nodes: 335 -100254.4963132276\n",
      "Criterion: gini splitter: random max_depth: 30 min_samples_leaf: 0.009801 max_leaf_nodes: 335 -109477.1709248142\n",
      "Criterion: gini splitter: best max_depth: 30 min_samples_leaf: 0.009801 max_leaf_nodes: 335 -68860.02226583393\n",
      "Criterion: entropy splitter: random max_depth: 30 min_samples_leaf: 0.009801 max_leaf_nodes: 335 -104562.56244077983\n",
      "Criterion: entropy splitter: best max_depth: 30 min_samples_leaf: 0.009801 max_leaf_nodes: 335 -100254.4963132276\n",
      "Criterion: gini splitter: random max_depth: 32 min_samples_leaf: 0.009801 max_leaf_nodes: 335 -109477.1709248142\n",
      "Criterion: gini splitter: best max_depth: 32 min_samples_leaf: 0.009801 max_leaf_nodes: 335 -68860.02226583393\n",
      "Criterion: entropy splitter: random max_depth: 32 min_samples_leaf: 0.009801 max_leaf_nodes: 335 -104562.56244077983\n",
      "Criterion: entropy splitter: best max_depth: 32 min_samples_leaf: 0.009801 max_leaf_nodes: 335 -100254.4963132276\n",
      "Criterion: gini splitter: random max_depth: 66 min_samples_leaf: 0.009801 max_leaf_nodes: 335 -109477.1709248142\n",
      "Criterion: gini splitter: best max_depth: 66 min_samples_leaf: 0.009801 max_leaf_nodes: 335 -68860.02226583393\n",
      "Criterion: entropy splitter: random max_depth: 66 min_samples_leaf: 0.009801 max_leaf_nodes: 335 -104562.56244077983\n",
      "Criterion: entropy splitter: best max_depth: 66 min_samples_leaf: 0.009801 max_leaf_nodes: 335 -100254.4963132276\n",
      "Criterion: gini splitter: random max_depth: 31 min_samples_leaf: 0.009899010000000001 max_leaf_nodes: 335 -98244.97674979958\n",
      "Criterion: gini splitter: best max_depth: 31 min_samples_leaf: 0.009899010000000001 max_leaf_nodes: 335 -85151.45238445295\n",
      "Criterion: entropy splitter: random max_depth: 31 min_samples_leaf: 0.009899010000000001 max_leaf_nodes: 335 -113860.8214710191\n",
      "Criterion: entropy splitter: best max_depth: 31 min_samples_leaf: 0.009899010000000001 max_leaf_nodes: 335 -101169.82696429177\n",
      "Criterion: gini splitter: random max_depth: 30 min_samples_leaf: 0.009899010000000001 max_leaf_nodes: 335 -98244.97674979958\n"
     ]
    },
    {
     "name": "stdout",
     "output_type": "stream",
     "text": [
      "Criterion: gini splitter: best max_depth: 30 min_samples_leaf: 0.009899010000000001 max_leaf_nodes: 335 -85151.45238445295\n",
      "Criterion: entropy splitter: random max_depth: 30 min_samples_leaf: 0.009899010000000001 max_leaf_nodes: 335 -113860.8214710191\n",
      "Criterion: entropy splitter: best max_depth: 30 min_samples_leaf: 0.009899010000000001 max_leaf_nodes: 335 -101169.82696429177\n",
      "Criterion: gini splitter: random max_depth: 32 min_samples_leaf: 0.009899010000000001 max_leaf_nodes: 335 -98244.97674979958\n",
      "Criterion: gini splitter: best max_depth: 32 min_samples_leaf: 0.009899010000000001 max_leaf_nodes: 335 -85151.45238445295\n",
      "Criterion: entropy splitter: random max_depth: 32 min_samples_leaf: 0.009899010000000001 max_leaf_nodes: 335 -113860.8214710191\n",
      "Criterion: entropy splitter: best max_depth: 32 min_samples_leaf: 0.009899010000000001 max_leaf_nodes: 335 -101169.82696429177\n",
      "Criterion: gini splitter: random max_depth: 66 min_samples_leaf: 0.009899010000000001 max_leaf_nodes: 335 -98244.97674979958\n",
      "Criterion: gini splitter: best max_depth: 66 min_samples_leaf: 0.009899010000000001 max_leaf_nodes: 335 -85151.45238445295\n",
      "Criterion: entropy splitter: random max_depth: 66 min_samples_leaf: 0.009899010000000001 max_leaf_nodes: 335 -113860.8214710191\n",
      "Criterion: entropy splitter: best max_depth: 66 min_samples_leaf: 0.009899010000000001 max_leaf_nodes: 335 -101169.82696429177\n",
      "Criterion: gini splitter: random max_depth: 31 min_samples_leaf: 0.00970299 max_leaf_nodes: 335 -109477.1709248142\n",
      "Criterion: gini splitter: best max_depth: 31 min_samples_leaf: 0.00970299 max_leaf_nodes: 335 -68860.02226583393\n",
      "Criterion: entropy splitter: random max_depth: 31 min_samples_leaf: 0.00970299 max_leaf_nodes: 335 -104562.56244077983\n",
      "Criterion: entropy splitter: best max_depth: 31 min_samples_leaf: 0.00970299 max_leaf_nodes: 335 -100254.4963132276\n",
      "Criterion: gini splitter: random max_depth: 30 min_samples_leaf: 0.00970299 max_leaf_nodes: 335 -109477.1709248142\n",
      "Criterion: gini splitter: best max_depth: 30 min_samples_leaf: 0.00970299 max_leaf_nodes: 335 -68860.02226583393\n",
      "Criterion: entropy splitter: random max_depth: 30 min_samples_leaf: 0.00970299 max_leaf_nodes: 335 -104562.56244077983\n",
      "Criterion: entropy splitter: best max_depth: 30 min_samples_leaf: 0.00970299 max_leaf_nodes: 335 -100254.4963132276\n",
      "Criterion: gini splitter: random max_depth: 32 min_samples_leaf: 0.00970299 max_leaf_nodes: 335 -109477.1709248142\n",
      "Criterion: gini splitter: best max_depth: 32 min_samples_leaf: 0.00970299 max_leaf_nodes: 335 -68860.02226583393\n",
      "Criterion: entropy splitter: random max_depth: 32 min_samples_leaf: 0.00970299 max_leaf_nodes: 335 -104562.56244077983\n",
      "Criterion: entropy splitter: best max_depth: 32 min_samples_leaf: 0.00970299 max_leaf_nodes: 335 -100254.4963132276\n",
      "Criterion: gini splitter: random max_depth: 66 min_samples_leaf: 0.00970299 max_leaf_nodes: 335 -109477.1709248142\n",
      "Criterion: gini splitter: best max_depth: 66 min_samples_leaf: 0.00970299 max_leaf_nodes: 335 -68860.02226583393\n",
      "Criterion: entropy splitter: random max_depth: 66 min_samples_leaf: 0.00970299 max_leaf_nodes: 335 -104562.56244077983\n",
      "Criterion: entropy splitter: best max_depth: 66 min_samples_leaf: 0.00970299 max_leaf_nodes: 335 -100254.4963132276\n",
      "Criterion: gini splitter: random max_depth: 31 min_samples_leaf: 0.009801 max_leaf_nodes: 337 -109477.1709248142\n",
      "Criterion: gini splitter: best max_depth: 31 min_samples_leaf: 0.009801 max_leaf_nodes: 337 -68860.02226583393\n",
      "Criterion: entropy splitter: random max_depth: 31 min_samples_leaf: 0.009801 max_leaf_nodes: 337 -104562.56244077983\n",
      "Criterion: entropy splitter: best max_depth: 31 min_samples_leaf: 0.009801 max_leaf_nodes: 337 -100254.4963132276\n",
      "Criterion: gini splitter: random max_depth: 30 min_samples_leaf: 0.009801 max_leaf_nodes: 337 -109477.1709248142\n",
      "Criterion: gini splitter: best max_depth: 30 min_samples_leaf: 0.009801 max_leaf_nodes: 337 -68860.02226583393\n",
      "Criterion: entropy splitter: random max_depth: 30 min_samples_leaf: 0.009801 max_leaf_nodes: 337 -104562.56244077983\n",
      "Criterion: entropy splitter: best max_depth: 30 min_samples_leaf: 0.009801 max_leaf_nodes: 337 -100254.4963132276\n",
      "Criterion: gini splitter: random max_depth: 32 min_samples_leaf: 0.009801 max_leaf_nodes: 337 -109477.1709248142\n",
      "Criterion: gini splitter: best max_depth: 32 min_samples_leaf: 0.009801 max_leaf_nodes: 337 -68860.02226583393\n",
      "Criterion: entropy splitter: random max_depth: 32 min_samples_leaf: 0.009801 max_leaf_nodes: 337 -104562.56244077983\n",
      "Criterion: entropy splitter: best max_depth: 32 min_samples_leaf: 0.009801 max_leaf_nodes: 337 -100254.4963132276\n",
      "Criterion: gini splitter: random max_depth: 66 min_samples_leaf: 0.009801 max_leaf_nodes: 337 -109477.1709248142\n",
      "Criterion: gini splitter: best max_depth: 66 min_samples_leaf: 0.009801 max_leaf_nodes: 337 -68860.02226583393\n",
      "Criterion: entropy splitter: random max_depth: 66 min_samples_leaf: 0.009801 max_leaf_nodes: 337 -104562.56244077983\n",
      "Criterion: entropy splitter: best max_depth: 66 min_samples_leaf: 0.009801 max_leaf_nodes: 337 -100254.4963132276\n",
      "Criterion: gini splitter: random max_depth: 31 min_samples_leaf: 0.009899010000000001 max_leaf_nodes: 337 -98244.97674979958\n",
      "Criterion: gini splitter: best max_depth: 31 min_samples_leaf: 0.009899010000000001 max_leaf_nodes: 337 -85151.45238445295\n",
      "Criterion: entropy splitter: random max_depth: 31 min_samples_leaf: 0.009899010000000001 max_leaf_nodes: 337 -113860.8214710191\n",
      "Criterion: entropy splitter: best max_depth: 31 min_samples_leaf: 0.009899010000000001 max_leaf_nodes: 337 -101169.82696429177\n",
      "Criterion: gini splitter: random max_depth: 30 min_samples_leaf: 0.009899010000000001 max_leaf_nodes: 337 -98244.97674979958\n",
      "Criterion: gini splitter: best max_depth: 30 min_samples_leaf: 0.009899010000000001 max_leaf_nodes: 337 -85151.45238445295\n",
      "Criterion: entropy splitter: random max_depth: 30 min_samples_leaf: 0.009899010000000001 max_leaf_nodes: 337 -113860.8214710191\n",
      "Criterion: entropy splitter: best max_depth: 30 min_samples_leaf: 0.009899010000000001 max_leaf_nodes: 337 -101169.82696429177\n",
      "Criterion: gini splitter: random max_depth: 32 min_samples_leaf: 0.009899010000000001 max_leaf_nodes: 337 -98244.97674979958\n",
      "Criterion: gini splitter: best max_depth: 32 min_samples_leaf: 0.009899010000000001 max_leaf_nodes: 337 -85151.45238445295\n",
      "Criterion: entropy splitter: random max_depth: 32 min_samples_leaf: 0.009899010000000001 max_leaf_nodes: 337 -113860.8214710191\n",
      "Criterion: entropy splitter: best max_depth: 32 min_samples_leaf: 0.009899010000000001 max_leaf_nodes: 337 -101169.82696429177\n",
      "Criterion: gini splitter: random max_depth: 66 min_samples_leaf: 0.009899010000000001 max_leaf_nodes: 337 -98244.97674979958\n",
      "Criterion: gini splitter: best max_depth: 66 min_samples_leaf: 0.009899010000000001 max_leaf_nodes: 337 -85151.45238445295\n",
      "Criterion: entropy splitter: random max_depth: 66 min_samples_leaf: 0.009899010000000001 max_leaf_nodes: 337 -113860.8214710191\n",
      "Criterion: entropy splitter: best max_depth: 66 min_samples_leaf: 0.009899010000000001 max_leaf_nodes: 337 -101169.82696429177\n",
      "Criterion: gini splitter: random max_depth: 31 min_samples_leaf: 0.00970299 max_leaf_nodes: 337 -109477.1709248142\n",
      "Criterion: gini splitter: best max_depth: 31 min_samples_leaf: 0.00970299 max_leaf_nodes: 337 -68860.02226583393\n",
      "Criterion: entropy splitter: random max_depth: 31 min_samples_leaf: 0.00970299 max_leaf_nodes: 337 -104562.56244077983\n",
      "Criterion: entropy splitter: best max_depth: 31 min_samples_leaf: 0.00970299 max_leaf_nodes: 337 -100254.4963132276\n",
      "Criterion: gini splitter: random max_depth: 30 min_samples_leaf: 0.00970299 max_leaf_nodes: 337 -109477.1709248142\n",
      "Criterion: gini splitter: best max_depth: 30 min_samples_leaf: 0.00970299 max_leaf_nodes: 337 -68860.02226583393\n",
      "Criterion: entropy splitter: random max_depth: 30 min_samples_leaf: 0.00970299 max_leaf_nodes: 337 -104562.56244077983\n",
      "Criterion: entropy splitter: best max_depth: 30 min_samples_leaf: 0.00970299 max_leaf_nodes: 337 -100254.4963132276\n",
      "Criterion: gini splitter: random max_depth: 32 min_samples_leaf: 0.00970299 max_leaf_nodes: 337 -109477.1709248142\n",
      "Criterion: gini splitter: best max_depth: 32 min_samples_leaf: 0.00970299 max_leaf_nodes: 337 -68860.02226583393\n"
     ]
    },
    {
     "name": "stdout",
     "output_type": "stream",
     "text": [
      "Criterion: entropy splitter: random max_depth: 32 min_samples_leaf: 0.00970299 max_leaf_nodes: 337 -104562.56244077983\n",
      "Criterion: entropy splitter: best max_depth: 32 min_samples_leaf: 0.00970299 max_leaf_nodes: 337 -100254.4963132276\n",
      "Criterion: gini splitter: random max_depth: 66 min_samples_leaf: 0.00970299 max_leaf_nodes: 337 -109477.1709248142\n",
      "Criterion: gini splitter: best max_depth: 66 min_samples_leaf: 0.00970299 max_leaf_nodes: 337 -68860.02226583393\n",
      "Criterion: entropy splitter: random max_depth: 66 min_samples_leaf: 0.00970299 max_leaf_nodes: 337 -104562.56244077983\n",
      "Criterion: entropy splitter: best max_depth: 66 min_samples_leaf: 0.00970299 max_leaf_nodes: 337 -100254.4963132276\n",
      "Criterion: gini splitter: random max_depth: 31 min_samples_leaf: 0.009801 max_leaf_nodes: 599 -109477.1709248142\n",
      "Criterion: gini splitter: best max_depth: 31 min_samples_leaf: 0.009801 max_leaf_nodes: 599 -68860.02226583393\n",
      "Criterion: entropy splitter: random max_depth: 31 min_samples_leaf: 0.009801 max_leaf_nodes: 599 -104562.56244077983\n",
      "Criterion: entropy splitter: best max_depth: 31 min_samples_leaf: 0.009801 max_leaf_nodes: 599 -100254.4963132276\n",
      "Criterion: gini splitter: random max_depth: 30 min_samples_leaf: 0.009801 max_leaf_nodes: 599 -109477.1709248142\n",
      "Criterion: gini splitter: best max_depth: 30 min_samples_leaf: 0.009801 max_leaf_nodes: 599 -68860.02226583393\n",
      "Criterion: entropy splitter: random max_depth: 30 min_samples_leaf: 0.009801 max_leaf_nodes: 599 -104562.56244077983\n",
      "Criterion: entropy splitter: best max_depth: 30 min_samples_leaf: 0.009801 max_leaf_nodes: 599 -100254.4963132276\n",
      "Criterion: gini splitter: random max_depth: 32 min_samples_leaf: 0.009801 max_leaf_nodes: 599 -109477.1709248142\n",
      "Criterion: gini splitter: best max_depth: 32 min_samples_leaf: 0.009801 max_leaf_nodes: 599 -68860.02226583393\n",
      "Criterion: entropy splitter: random max_depth: 32 min_samples_leaf: 0.009801 max_leaf_nodes: 599 -104562.56244077983\n",
      "Criterion: entropy splitter: best max_depth: 32 min_samples_leaf: 0.009801 max_leaf_nodes: 599 -100254.4963132276\n",
      "Criterion: gini splitter: random max_depth: 66 min_samples_leaf: 0.009801 max_leaf_nodes: 599 -109477.1709248142\n",
      "Criterion: gini splitter: best max_depth: 66 min_samples_leaf: 0.009801 max_leaf_nodes: 599 -68860.02226583393\n",
      "Criterion: entropy splitter: random max_depth: 66 min_samples_leaf: 0.009801 max_leaf_nodes: 599 -104562.56244077983\n",
      "Criterion: entropy splitter: best max_depth: 66 min_samples_leaf: 0.009801 max_leaf_nodes: 599 -100254.4963132276\n",
      "Criterion: gini splitter: random max_depth: 31 min_samples_leaf: 0.009899010000000001 max_leaf_nodes: 599 -98244.97674979958\n",
      "Criterion: gini splitter: best max_depth: 31 min_samples_leaf: 0.009899010000000001 max_leaf_nodes: 599 -85151.45238445295\n",
      "Criterion: entropy splitter: random max_depth: 31 min_samples_leaf: 0.009899010000000001 max_leaf_nodes: 599 -113860.8214710191\n",
      "Criterion: entropy splitter: best max_depth: 31 min_samples_leaf: 0.009899010000000001 max_leaf_nodes: 599 -101169.82696429177\n",
      "Criterion: gini splitter: random max_depth: 30 min_samples_leaf: 0.009899010000000001 max_leaf_nodes: 599 -98244.97674979958\n",
      "Criterion: gini splitter: best max_depth: 30 min_samples_leaf: 0.009899010000000001 max_leaf_nodes: 599 -85151.45238445295\n",
      "Criterion: entropy splitter: random max_depth: 30 min_samples_leaf: 0.009899010000000001 max_leaf_nodes: 599 -113860.8214710191\n",
      "Criterion: entropy splitter: best max_depth: 30 min_samples_leaf: 0.009899010000000001 max_leaf_nodes: 599 -101169.82696429177\n",
      "Criterion: gini splitter: random max_depth: 32 min_samples_leaf: 0.009899010000000001 max_leaf_nodes: 599 -98244.97674979958\n",
      "Criterion: gini splitter: best max_depth: 32 min_samples_leaf: 0.009899010000000001 max_leaf_nodes: 599 -85151.45238445295\n",
      "Criterion: entropy splitter: random max_depth: 32 min_samples_leaf: 0.009899010000000001 max_leaf_nodes: 599 -113860.8214710191\n",
      "Criterion: entropy splitter: best max_depth: 32 min_samples_leaf: 0.009899010000000001 max_leaf_nodes: 599 -101169.82696429177\n",
      "Criterion: gini splitter: random max_depth: 66 min_samples_leaf: 0.009899010000000001 max_leaf_nodes: 599 -98244.97674979958\n",
      "Criterion: gini splitter: best max_depth: 66 min_samples_leaf: 0.009899010000000001 max_leaf_nodes: 599 -85151.45238445295\n",
      "Criterion: entropy splitter: random max_depth: 66 min_samples_leaf: 0.009899010000000001 max_leaf_nodes: 599 -113860.8214710191\n",
      "Criterion: entropy splitter: best max_depth: 66 min_samples_leaf: 0.009899010000000001 max_leaf_nodes: 599 -101169.82696429177\n",
      "Criterion: gini splitter: random max_depth: 31 min_samples_leaf: 0.00970299 max_leaf_nodes: 599 -109477.1709248142\n",
      "Criterion: gini splitter: best max_depth: 31 min_samples_leaf: 0.00970299 max_leaf_nodes: 599 -68860.02226583393\n",
      "Criterion: entropy splitter: random max_depth: 31 min_samples_leaf: 0.00970299 max_leaf_nodes: 599 -104562.56244077983\n",
      "Criterion: entropy splitter: best max_depth: 31 min_samples_leaf: 0.00970299 max_leaf_nodes: 599 -100254.4963132276\n",
      "Criterion: gini splitter: random max_depth: 30 min_samples_leaf: 0.00970299 max_leaf_nodes: 599 -109477.1709248142\n",
      "Criterion: gini splitter: best max_depth: 30 min_samples_leaf: 0.00970299 max_leaf_nodes: 599 -68860.02226583393\n",
      "Criterion: entropy splitter: random max_depth: 30 min_samples_leaf: 0.00970299 max_leaf_nodes: 599 -104562.56244077983\n",
      "Criterion: entropy splitter: best max_depth: 30 min_samples_leaf: 0.00970299 max_leaf_nodes: 599 -100254.4963132276\n",
      "Criterion: gini splitter: random max_depth: 32 min_samples_leaf: 0.00970299 max_leaf_nodes: 599 -109477.1709248142\n",
      "Criterion: gini splitter: best max_depth: 32 min_samples_leaf: 0.00970299 max_leaf_nodes: 599 -68860.02226583393\n",
      "Criterion: entropy splitter: random max_depth: 32 min_samples_leaf: 0.00970299 max_leaf_nodes: 599 -104562.56244077983\n",
      "Criterion: entropy splitter: best max_depth: 32 min_samples_leaf: 0.00970299 max_leaf_nodes: 599 -100254.4963132276\n",
      "Criterion: gini splitter: random max_depth: 66 min_samples_leaf: 0.00970299 max_leaf_nodes: 599 -109477.1709248142\n",
      "Criterion: gini splitter: best max_depth: 66 min_samples_leaf: 0.00970299 max_leaf_nodes: 599 -68860.02226583393\n",
      "Criterion: entropy splitter: random max_depth: 66 min_samples_leaf: 0.00970299 max_leaf_nodes: 599 -104562.56244077983\n",
      "Criterion: entropy splitter: best max_depth: 66 min_samples_leaf: 0.00970299 max_leaf_nodes: 599 -100254.4963132276\n",
      "Real output model: DecisionTreeClassifier(max_depth=31, max_leaf_nodes=336,\n",
      "                       min_samples_leaf=0.009801, random_state=75)\n",
      "\n",
      "model_1\n",
      "DecisionTreeClassifier(max_depth=31, max_leaf_nodes=336,\n",
      "                       min_samples_leaf=0.009801, random_state=75)\n",
      "['B_win_by_Decision_Majority', 'R_Light Heavyweight_rank', 'B_win_by_Submission', 'location', 'total_title_bout_dif', 'win_streak_dif', 'R_ev', 'B_avg_SIG_STR_landed', 'sub_dif', 'R_current_win_streak', 'R_Bantamweight_rank', 'B_current_lose_streak', 'B_win_by_Decision_Unanimous', 'B_total_rounds_fought', 'B_losses', 'B_longest_win_streak', 'longest_win_streak_dif', 'B_Stance', 'R_win_by_Submission', 'R_Lightweight_rank', 'R_current_lose_streak', 'country', 'B_match_weightclass_rank', 'B_Weight_lbs', 'gender', 'Blue - SUB', \"B_Women's Featherweight_rank\", 'B_Heavyweight_rank', 'R_win_by_KO/TKO', 'avg_sub_att_dif', 'age_dif', 'B_avg_TD_landed', 'win_dif', 'weight_class', 'R_odds', 'empty_arena']\n",
      "0\n",
      "\n"
     ]
    },
    {
     "data": {
      "text/plain": [
       "(2749, 209)"
      ]
     },
     "metadata": {},
     "output_type": "display_data"
    },
    {
     "data": {
      "text/plain": [
       "(2749,)"
      ]
     },
     "metadata": {},
     "output_type": "display_data"
    },
    {
     "data": {
      "text/plain": [
       "(2749, 6)"
      ]
     },
     "metadata": {},
     "output_type": "display_data"
    },
    {
     "data": {
      "text/plain": [
       "(240, 209)"
      ]
     },
     "metadata": {},
     "output_type": "display_data"
    },
    {
     "data": {
      "text/plain": [
       "(240,)"
      ]
     },
     "metadata": {},
     "output_type": "display_data"
    },
    {
     "data": {
      "text/plain": [
       "(240, 6)"
      ]
     },
     "metadata": {},
     "output_type": "display_data"
    },
    {
     "name": "stdout",
     "output_type": "stream",
     "text": [
      "250     5\n",
      "251     3\n",
      "252     3\n",
      "253     5\n",
      "254     0\n",
      "       ..\n",
      "4217    0\n",
      "4225    1\n",
      "4226    3\n",
      "4227    5\n",
      "4228    5\n",
      "Name: label, Length: 2749, dtype: int64\n",
      "Real Score: -5844.249827467219\n",
      "HI\n",
      "HI\n",
      "HI\n",
      "HI\n",
      "HI\n",
      "\n",
      "model_1\n",
      "DecisionTreeClassifier(max_depth=31, max_leaf_nodes=336,\n",
      "                       min_samples_leaf=0.009801, random_state=75)\n",
      "['B_win_by_Decision_Majority', 'R_Light Heavyweight_rank', 'B_win_by_Submission', 'location', 'total_title_bout_dif', 'win_streak_dif', 'R_ev', 'B_avg_SIG_STR_landed', 'sub_dif', 'R_current_win_streak', 'R_Bantamweight_rank', 'B_current_lose_streak', 'B_win_by_Decision_Unanimous', 'B_total_rounds_fought', 'B_losses', 'B_longest_win_streak', 'longest_win_streak_dif', 'B_Stance', 'R_win_by_Submission', 'R_Lightweight_rank', 'R_current_lose_streak', 'country', 'B_match_weightclass_rank', 'B_Weight_lbs', 'gender', 'Blue - SUB', \"B_Women's Featherweight_rank\", 'B_Heavyweight_rank', 'R_win_by_KO/TKO', 'avg_sub_att_dif', 'age_dif', 'B_avg_TD_landed', 'win_dif', 'weight_class', 'R_odds', 'empty_arena']\n",
      "0\n",
      "\n"
     ]
    },
    {
     "data": {
      "text/plain": [
       "(2749, 209)"
      ]
     },
     "metadata": {},
     "output_type": "display_data"
    },
    {
     "data": {
      "text/plain": [
       "(2749,)"
      ]
     },
     "metadata": {},
     "output_type": "display_data"
    },
    {
     "data": {
      "text/plain": [
       "(2749, 6)"
      ]
     },
     "metadata": {},
     "output_type": "display_data"
    },
    {
     "data": {
      "text/plain": [
       "(240, 209)"
      ]
     },
     "metadata": {},
     "output_type": "display_data"
    },
    {
     "data": {
      "text/plain": [
       "(240,)"
      ]
     },
     "metadata": {},
     "output_type": "display_data"
    },
    {
     "data": {
      "text/plain": [
       "(240, 6)"
      ]
     },
     "metadata": {},
     "output_type": "display_data"
    },
    {
     "name": "stdout",
     "output_type": "stream",
     "text": [
      "250     5\n",
      "251     3\n",
      "252     3\n",
      "253     5\n",
      "254     0\n",
      "       ..\n",
      "4217    0\n",
      "4225    1\n",
      "4226    3\n",
      "4227    5\n",
      "4228    5\n",
      "Name: label, Length: 2749, dtype: int64\n",
      "Real Score: -5844.249827467219\n",
      "HI\n",
      "HI\n",
      "HI\n",
      "HI\n",
      "HI\n",
      "The original score is -68860.02226583393\n",
      "NEW BEST FEATURE SET WITH: B_avg_SUB_ATT REMOVED -68124.02226583393\n",
      "NEW BEST FEATURE SET WITH: B_avg_TD_pct REMOVED -66809.81115712899\n",
      "NEW BEST FEATURE SET WITH: B_win_by_TKO_Doctor_Stoppage REMOVED -64520.585991494\n",
      "The original score is -64520.585991494\n",
      "NEW BEST FEATURE SET WITH: R_fighter REMOVED -64055.585991494\n",
      "NEW BEST FEATURE SET WITH: B_current_win_streak REMOVED -62914.88284406671\n",
      "NEW BEST FEATURE SET WITH: B_avg_TD_pct REMOVED -56904.43781985199\n",
      "The original score is -56904.43781985199\n",
      "NEW BEST FEATURE SET WITH: no_of_rounds REMOVED -56350.21035914066\n",
      "NEW BEST FEATURE SET WITH: B_avg_SIG_STR_pct REMOVED -52851.771153185335\n",
      "The original score is -52851.771153185335\n",
      "NEW BEST FEATURE SET WITH: R_fighter REMOVED -52386.771153185335\n",
      "NEW BEST FEATURE SET WITH: R_ev REMOVED -50899.33517109173\n",
      "The original score is -50899.33517109173\n",
      "NEW BEST FEATURE SET WITH: gender REMOVED -50684.155141210445\n",
      "NEW BEST FEATURE SET WITH: B_avg_SUB_ATT REMOVED -50468.335171091734\n",
      "The original score is -50468.335171091734\n",
      "NEW BEST FEATURE SET WITH: Winner REMOVED -50003.335171091734\n",
      "NEW BEST FEATURE SET WITH: gender REMOVED -49848.155141210445\n",
      "NEW BEST FEATURE SET WITH: B_losses REMOVED -49660.335171091734\n",
      "The original score is -49660.335171091734\n",
      "NEW BEST FEATURE SET WITH: Winner REMOVED -49195.335171091734\n",
      "NEW BEST FEATURE SET WITH: gender REMOVED -49040.155141210445\n",
      "The original score is -49040.155141210445\n",
      "NEW BEST FEATURE SET WITH: B_fighter REMOVED -47745.97332302862\n",
      "The original score is -47745.97332302862\n",
      "NEW BEST FEATURE SET WITH: B_current_lose_streak REMOVED -46666.0836909216\n",
      "The original score is -46666.0836909216\n",
      "NEW BEST FEATURE SET WITH: Winner REMOVED -46045.48835705193\n",
      "The original score is -46045.48835705193\n",
      "NEW BEST FEATURE SET WITH: B_losses REMOVED -45560.830279926566\n",
      "The original score is -45560.830279926566\n",
      "\n",
      "model_1\n",
      "DecisionTreeClassifier(max_depth=31, max_leaf_nodes=336,\n",
      "                       min_samples_leaf=0.009801, random_state=75)\n",
      "['B_win_by_Decision_Majority', 'B_win_by_Submission', 'location', 'win_streak_dif', 'R_ev', 'B_avg_SIG_STR_landed', 'sub_dif', 'R_current_win_streak', 'R_Bantamweight_rank', 'B_win_by_Decision_Unanimous', 'B_losses', 'B_longest_win_streak', 'longest_win_streak_dif', 'R_Lightweight_rank', 'R_current_lose_streak', 'B_Weight_lbs', 'gender', 'Blue - SUB', \"B_Women's Featherweight_rank\", 'R_win_by_KO/TKO', 'avg_sub_att_dif', 'age_dif', 'win_dif', 'R_odds', 'empty_arena']\n",
      "0\n",
      "\n"
     ]
    },
    {
     "data": {
      "text/plain": [
       "(2749, 157)"
      ]
     },
     "metadata": {},
     "output_type": "display_data"
    },
    {
     "data": {
      "text/plain": [
       "(2749,)"
      ]
     },
     "metadata": {},
     "output_type": "display_data"
    },
    {
     "data": {
      "text/plain": [
       "(2749, 6)"
      ]
     },
     "metadata": {},
     "output_type": "display_data"
    },
    {
     "data": {
      "text/plain": [
       "(242, 157)"
      ]
     },
     "metadata": {},
     "output_type": "display_data"
    },
    {
     "data": {
      "text/plain": [
       "(242,)"
      ]
     },
     "metadata": {},
     "output_type": "display_data"
    },
    {
     "data": {
      "text/plain": [
       "(242, 6)"
      ]
     },
     "metadata": {},
     "output_type": "display_data"
    },
    {
     "name": "stdout",
     "output_type": "stream",
     "text": [
      "250     5\n",
      "251     3\n",
      "252     3\n",
      "253     5\n",
      "254     0\n",
      "       ..\n",
      "4217    0\n",
      "4225    1\n",
      "4226    3\n",
      "4227    5\n",
      "4228    5\n",
      "Name: label, Length: 2749, dtype: int64\n",
      "Real Score: -5049.487922705314\n",
      "HI\n",
      "HI\n",
      "HI\n",
      "HI\n",
      "HI\n",
      "The features are different\n",
      "OLD:\n",
      "['B_win_by_Decision_Majority', 'R_Light Heavyweight_rank', 'B_win_by_Submission', 'location', 'total_title_bout_dif', 'win_streak_dif', 'R_ev', 'B_avg_SIG_STR_landed', 'sub_dif', 'R_current_win_streak', 'R_Bantamweight_rank', 'B_current_lose_streak', 'B_win_by_Decision_Unanimous', 'B_total_rounds_fought', 'B_losses', 'B_longest_win_streak', 'longest_win_streak_dif', 'B_Stance', 'R_win_by_Submission', 'R_Lightweight_rank', 'R_current_lose_streak', 'country', 'B_match_weightclass_rank', 'B_Weight_lbs', 'gender', 'Blue - SUB', \"B_Women's Featherweight_rank\", 'B_Heavyweight_rank', 'R_win_by_KO/TKO', 'avg_sub_att_dif', 'age_dif', 'B_avg_TD_landed', 'win_dif', 'weight_class', 'R_odds', 'empty_arena']\n",
      "NEW:\n",
      "['B_win_by_Decision_Majority', 'B_win_by_Submission', 'location', 'win_streak_dif', 'R_ev', 'B_avg_SIG_STR_landed', 'sub_dif', 'R_current_win_streak', 'R_Bantamweight_rank', 'B_win_by_Decision_Unanimous', 'B_losses', 'B_longest_win_streak', 'longest_win_streak_dif', 'R_Lightweight_rank', 'R_current_lose_streak', 'B_Weight_lbs', 'gender', 'Blue - SUB', \"B_Women's Featherweight_rank\", 'R_win_by_KO/TKO', 'avg_sub_att_dif', 'age_dif', 'win_dif', 'R_odds', 'empty_arena']\n",
      "Current best score is: -45560.830279926566\n",
      "Feature: R_total_title_bouts Score: -45533.669775041926\n",
      "Feature: B_match_weightclass_rank Score: -44935.830279926566\n",
      "The best feature was B_match_weightclass_rank.  It scored -44935.830279926566\n",
      "Current best score is: -44935.830279926566\n",
      "NO IMPROVEMENT\n",
      "FINAL BEST SCORE: -44935.830279926566\n",
      "\n",
      "model_1\n",
      "DecisionTreeClassifier(max_depth=31, max_leaf_nodes=336,\n",
      "                       min_samples_leaf=0.009801, random_state=75)\n",
      "['B_match_weightclass_rank', 'B_win_by_Decision_Majority', 'B_win_by_Submission', 'location', 'win_streak_dif', 'R_ev', 'B_avg_SIG_STR_landed', 'sub_dif', 'R_current_win_streak', 'R_Bantamweight_rank', 'B_win_by_Decision_Unanimous', 'B_losses', 'B_longest_win_streak', 'longest_win_streak_dif', 'R_Lightweight_rank', 'R_current_lose_streak', 'B_Weight_lbs', 'gender', 'Blue - SUB', \"B_Women's Featherweight_rank\", 'R_win_by_KO/TKO', 'avg_sub_att_dif', 'age_dif', 'win_dif', 'R_odds', 'empty_arena']\n",
      "0\n",
      "\n"
     ]
    },
    {
     "data": {
      "text/plain": [
       "(2749, 158)"
      ]
     },
     "metadata": {},
     "output_type": "display_data"
    },
    {
     "data": {
      "text/plain": [
       "(2749,)"
      ]
     },
     "metadata": {},
     "output_type": "display_data"
    },
    {
     "data": {
      "text/plain": [
       "(2749, 6)"
      ]
     },
     "metadata": {},
     "output_type": "display_data"
    },
    {
     "data": {
      "text/plain": [
       "(242, 158)"
      ]
     },
     "metadata": {},
     "output_type": "display_data"
    },
    {
     "data": {
      "text/plain": [
       "(242,)"
      ]
     },
     "metadata": {},
     "output_type": "display_data"
    },
    {
     "data": {
      "text/plain": [
       "(242, 6)"
      ]
     },
     "metadata": {},
     "output_type": "display_data"
    },
    {
     "name": "stdout",
     "output_type": "stream",
     "text": [
      "250     5\n",
      "251     3\n",
      "252     3\n",
      "253     5\n",
      "254     0\n",
      "       ..\n",
      "4217    0\n",
      "4225    1\n",
      "4226    3\n",
      "4227    5\n",
      "4228    5\n",
      "Name: label, Length: 2749, dtype: int64\n",
      "Real Score: -5049.487922705314\n",
      "HI\n",
      "HI\n",
      "HI\n",
      "HI\n",
      "HI\n",
      "\n",
      "\n",
      "Starting New Run for DecisionTree\n",
      "\n",
      "\n",
      "Previous Best Score: -44935.830279926566\n",
      "Criterion: gini splitter: random max_depth: 31 min_samples_leaf: 0.009801 max_leaf_nodes: 336 -101117.39368003252\n",
      "Criterion: gini splitter: best max_depth: 31 min_samples_leaf: 0.009801 max_leaf_nodes: 336 -44935.830279926566\n",
      "Criterion: entropy splitter: random max_depth: 31 min_samples_leaf: 0.009801 max_leaf_nodes: 336 -96079.2560067563\n",
      "Criterion: entropy splitter: best max_depth: 31 min_samples_leaf: 0.009801 max_leaf_nodes: 336 -90172.230271409\n",
      "Criterion: gini splitter: random max_depth: 30 min_samples_leaf: 0.009801 max_leaf_nodes: 336 -101117.39368003252\n",
      "Criterion: gini splitter: best max_depth: 30 min_samples_leaf: 0.009801 max_leaf_nodes: 336 -44935.830279926566\n",
      "Criterion: entropy splitter: random max_depth: 30 min_samples_leaf: 0.009801 max_leaf_nodes: 336 -96079.2560067563\n",
      "Criterion: entropy splitter: best max_depth: 30 min_samples_leaf: 0.009801 max_leaf_nodes: 336 -90172.230271409\n",
      "Criterion: gini splitter: random max_depth: 32 min_samples_leaf: 0.009801 max_leaf_nodes: 336 -101117.39368003252\n",
      "Criterion: gini splitter: best max_depth: 32 min_samples_leaf: 0.009801 max_leaf_nodes: 336 -44935.830279926566\n",
      "Criterion: entropy splitter: random max_depth: 32 min_samples_leaf: 0.009801 max_leaf_nodes: 336 -96079.2560067563\n",
      "Criterion: entropy splitter: best max_depth: 32 min_samples_leaf: 0.009801 max_leaf_nodes: 336 -90172.230271409\n",
      "Criterion: gini splitter: random max_depth: 82 min_samples_leaf: 0.009801 max_leaf_nodes: 336 -101117.39368003252\n",
      "Criterion: gini splitter: best max_depth: 82 min_samples_leaf: 0.009801 max_leaf_nodes: 336 -44935.830279926566\n",
      "Criterion: entropy splitter: random max_depth: 82 min_samples_leaf: 0.009801 max_leaf_nodes: 336 -96079.2560067563\n",
      "Criterion: entropy splitter: best max_depth: 82 min_samples_leaf: 0.009801 max_leaf_nodes: 336 -90172.230271409\n",
      "Criterion: gini splitter: random max_depth: 31 min_samples_leaf: 0.009899010000000001 max_leaf_nodes: 336 -116927.97150116054\n",
      "Criterion: gini splitter: best max_depth: 31 min_samples_leaf: 0.009899010000000001 max_leaf_nodes: 336 -65134.58596330641\n",
      "Criterion: entropy splitter: random max_depth: 31 min_samples_leaf: 0.009899010000000001 max_leaf_nodes: 336 -110746.15531747148\n",
      "Criterion: entropy splitter: best max_depth: 31 min_samples_leaf: 0.009899010000000001 max_leaf_nodes: 336 -94709.81851948111\n",
      "Criterion: gini splitter: random max_depth: 30 min_samples_leaf: 0.009899010000000001 max_leaf_nodes: 336 -116927.97150116054\n",
      "Criterion: gini splitter: best max_depth: 30 min_samples_leaf: 0.009899010000000001 max_leaf_nodes: 336 -65134.58596330641\n",
      "Criterion: entropy splitter: random max_depth: 30 min_samples_leaf: 0.009899010000000001 max_leaf_nodes: 336 -110746.15531747148\n",
      "Criterion: entropy splitter: best max_depth: 30 min_samples_leaf: 0.009899010000000001 max_leaf_nodes: 336 -94709.81851948111\n",
      "Criterion: gini splitter: random max_depth: 32 min_samples_leaf: 0.009899010000000001 max_leaf_nodes: 336 -116927.97150116054\n",
      "Criterion: gini splitter: best max_depth: 32 min_samples_leaf: 0.009899010000000001 max_leaf_nodes: 336 -65134.58596330641\n",
      "Criterion: entropy splitter: random max_depth: 32 min_samples_leaf: 0.009899010000000001 max_leaf_nodes: 336 -110746.15531747148\n",
      "Criterion: entropy splitter: best max_depth: 32 min_samples_leaf: 0.009899010000000001 max_leaf_nodes: 336 -94709.81851948111\n",
      "Criterion: gini splitter: random max_depth: 82 min_samples_leaf: 0.009899010000000001 max_leaf_nodes: 336 -116927.97150116054\n",
      "Criterion: gini splitter: best max_depth: 82 min_samples_leaf: 0.009899010000000001 max_leaf_nodes: 336 -65134.58596330641\n",
      "Criterion: entropy splitter: random max_depth: 82 min_samples_leaf: 0.009899010000000001 max_leaf_nodes: 336 -110746.15531747148\n",
      "Criterion: entropy splitter: best max_depth: 82 min_samples_leaf: 0.009899010000000001 max_leaf_nodes: 336 -94709.81851948111\n",
      "Criterion: gini splitter: random max_depth: 31 min_samples_leaf: 0.00970299 max_leaf_nodes: 336 -101117.39368003252\n",
      "Criterion: gini splitter: best max_depth: 31 min_samples_leaf: 0.00970299 max_leaf_nodes: 336 -44935.830279926566\n",
      "Criterion: entropy splitter: random max_depth: 31 min_samples_leaf: 0.00970299 max_leaf_nodes: 336 -96079.2560067563\n",
      "Criterion: entropy splitter: best max_depth: 31 min_samples_leaf: 0.00970299 max_leaf_nodes: 336 -90172.230271409\n",
      "Criterion: gini splitter: random max_depth: 30 min_samples_leaf: 0.00970299 max_leaf_nodes: 336 -101117.39368003252\n",
      "Criterion: gini splitter: best max_depth: 30 min_samples_leaf: 0.00970299 max_leaf_nodes: 336 -44935.830279926566\n",
      "Criterion: entropy splitter: random max_depth: 30 min_samples_leaf: 0.00970299 max_leaf_nodes: 336 -96079.2560067563\n",
      "Criterion: entropy splitter: best max_depth: 30 min_samples_leaf: 0.00970299 max_leaf_nodes: 336 -90172.230271409\n",
      "Criterion: gini splitter: random max_depth: 32 min_samples_leaf: 0.00970299 max_leaf_nodes: 336 -101117.39368003252\n",
      "Criterion: gini splitter: best max_depth: 32 min_samples_leaf: 0.00970299 max_leaf_nodes: 336 -44935.830279926566\n",
      "Criterion: entropy splitter: random max_depth: 32 min_samples_leaf: 0.00970299 max_leaf_nodes: 336 -96079.2560067563\n",
      "Criterion: entropy splitter: best max_depth: 32 min_samples_leaf: 0.00970299 max_leaf_nodes: 336 -90172.230271409\n",
      "Criterion: gini splitter: random max_depth: 82 min_samples_leaf: 0.00970299 max_leaf_nodes: 336 -101117.39368003252\n",
      "Criterion: gini splitter: best max_depth: 82 min_samples_leaf: 0.00970299 max_leaf_nodes: 336 -44935.830279926566\n",
      "Criterion: entropy splitter: random max_depth: 82 min_samples_leaf: 0.00970299 max_leaf_nodes: 336 -96079.2560067563\n",
      "Criterion: entropy splitter: best max_depth: 82 min_samples_leaf: 0.00970299 max_leaf_nodes: 336 -90172.230271409\n",
      "Criterion: gini splitter: random max_depth: 31 min_samples_leaf: 0.009801 max_leaf_nodes: 335 -101117.39368003252\n",
      "Criterion: gini splitter: best max_depth: 31 min_samples_leaf: 0.009801 max_leaf_nodes: 335 -44935.830279926566\n",
      "Criterion: entropy splitter: random max_depth: 31 min_samples_leaf: 0.009801 max_leaf_nodes: 335 -96079.2560067563\n",
      "Criterion: entropy splitter: best max_depth: 31 min_samples_leaf: 0.009801 max_leaf_nodes: 335 -90172.230271409\n",
      "Criterion: gini splitter: random max_depth: 30 min_samples_leaf: 0.009801 max_leaf_nodes: 335 -101117.39368003252\n",
      "Criterion: gini splitter: best max_depth: 30 min_samples_leaf: 0.009801 max_leaf_nodes: 335 -44935.830279926566\n",
      "Criterion: entropy splitter: random max_depth: 30 min_samples_leaf: 0.009801 max_leaf_nodes: 335 -96079.2560067563\n",
      "Criterion: entropy splitter: best max_depth: 30 min_samples_leaf: 0.009801 max_leaf_nodes: 335 -90172.230271409\n",
      "Criterion: gini splitter: random max_depth: 32 min_samples_leaf: 0.009801 max_leaf_nodes: 335 -101117.39368003252\n",
      "Criterion: gini splitter: best max_depth: 32 min_samples_leaf: 0.009801 max_leaf_nodes: 335 -44935.830279926566\n",
      "Criterion: entropy splitter: random max_depth: 32 min_samples_leaf: 0.009801 max_leaf_nodes: 335 -96079.2560067563\n",
      "Criterion: entropy splitter: best max_depth: 32 min_samples_leaf: 0.009801 max_leaf_nodes: 335 -90172.230271409\n",
      "Criterion: gini splitter: random max_depth: 82 min_samples_leaf: 0.009801 max_leaf_nodes: 335 -101117.39368003252\n",
      "Criterion: gini splitter: best max_depth: 82 min_samples_leaf: 0.009801 max_leaf_nodes: 335 -44935.830279926566\n",
      "Criterion: entropy splitter: random max_depth: 82 min_samples_leaf: 0.009801 max_leaf_nodes: 335 -96079.2560067563\n",
      "Criterion: entropy splitter: best max_depth: 82 min_samples_leaf: 0.009801 max_leaf_nodes: 335 -90172.230271409\n",
      "Criterion: gini splitter: random max_depth: 31 min_samples_leaf: 0.009899010000000001 max_leaf_nodes: 335 -116927.97150116054\n",
      "Criterion: gini splitter: best max_depth: 31 min_samples_leaf: 0.009899010000000001 max_leaf_nodes: 335 -65134.58596330641\n",
      "Criterion: entropy splitter: random max_depth: 31 min_samples_leaf: 0.009899010000000001 max_leaf_nodes: 335 -110746.15531747148\n",
      "Criterion: entropy splitter: best max_depth: 31 min_samples_leaf: 0.009899010000000001 max_leaf_nodes: 335 -94709.81851948111\n",
      "Criterion: gini splitter: random max_depth: 30 min_samples_leaf: 0.009899010000000001 max_leaf_nodes: 335 -116927.97150116054\n"
     ]
    },
    {
     "name": "stdout",
     "output_type": "stream",
     "text": [
      "Criterion: gini splitter: best max_depth: 30 min_samples_leaf: 0.009899010000000001 max_leaf_nodes: 335 -65134.58596330641\n",
      "Criterion: entropy splitter: random max_depth: 30 min_samples_leaf: 0.009899010000000001 max_leaf_nodes: 335 -110746.15531747148\n",
      "Criterion: entropy splitter: best max_depth: 30 min_samples_leaf: 0.009899010000000001 max_leaf_nodes: 335 -94709.81851948111\n",
      "Criterion: gini splitter: random max_depth: 32 min_samples_leaf: 0.009899010000000001 max_leaf_nodes: 335 -116927.97150116054\n",
      "Criterion: gini splitter: best max_depth: 32 min_samples_leaf: 0.009899010000000001 max_leaf_nodes: 335 -65134.58596330641\n",
      "Criterion: entropy splitter: random max_depth: 32 min_samples_leaf: 0.009899010000000001 max_leaf_nodes: 335 -110746.15531747148\n",
      "Criterion: entropy splitter: best max_depth: 32 min_samples_leaf: 0.009899010000000001 max_leaf_nodes: 335 -94709.81851948111\n",
      "Criterion: gini splitter: random max_depth: 82 min_samples_leaf: 0.009899010000000001 max_leaf_nodes: 335 -116927.97150116054\n",
      "Criterion: gini splitter: best max_depth: 82 min_samples_leaf: 0.009899010000000001 max_leaf_nodes: 335 -65134.58596330641\n",
      "Criterion: entropy splitter: random max_depth: 82 min_samples_leaf: 0.009899010000000001 max_leaf_nodes: 335 -110746.15531747148\n",
      "Criterion: entropy splitter: best max_depth: 82 min_samples_leaf: 0.009899010000000001 max_leaf_nodes: 335 -94709.81851948111\n",
      "Criterion: gini splitter: random max_depth: 31 min_samples_leaf: 0.00970299 max_leaf_nodes: 335 -101117.39368003252\n",
      "Criterion: gini splitter: best max_depth: 31 min_samples_leaf: 0.00970299 max_leaf_nodes: 335 -44935.830279926566\n",
      "Criterion: entropy splitter: random max_depth: 31 min_samples_leaf: 0.00970299 max_leaf_nodes: 335 -96079.2560067563\n",
      "Criterion: entropy splitter: best max_depth: 31 min_samples_leaf: 0.00970299 max_leaf_nodes: 335 -90172.230271409\n",
      "Criterion: gini splitter: random max_depth: 30 min_samples_leaf: 0.00970299 max_leaf_nodes: 335 -101117.39368003252\n",
      "Criterion: gini splitter: best max_depth: 30 min_samples_leaf: 0.00970299 max_leaf_nodes: 335 -44935.830279926566\n",
      "Criterion: entropy splitter: random max_depth: 30 min_samples_leaf: 0.00970299 max_leaf_nodes: 335 -96079.2560067563\n",
      "Criterion: entropy splitter: best max_depth: 30 min_samples_leaf: 0.00970299 max_leaf_nodes: 335 -90172.230271409\n",
      "Criterion: gini splitter: random max_depth: 32 min_samples_leaf: 0.00970299 max_leaf_nodes: 335 -101117.39368003252\n",
      "Criterion: gini splitter: best max_depth: 32 min_samples_leaf: 0.00970299 max_leaf_nodes: 335 -44935.830279926566\n",
      "Criterion: entropy splitter: random max_depth: 32 min_samples_leaf: 0.00970299 max_leaf_nodes: 335 -96079.2560067563\n",
      "Criterion: entropy splitter: best max_depth: 32 min_samples_leaf: 0.00970299 max_leaf_nodes: 335 -90172.230271409\n",
      "Criterion: gini splitter: random max_depth: 82 min_samples_leaf: 0.00970299 max_leaf_nodes: 335 -101117.39368003252\n",
      "Criterion: gini splitter: best max_depth: 82 min_samples_leaf: 0.00970299 max_leaf_nodes: 335 -44935.830279926566\n",
      "Criterion: entropy splitter: random max_depth: 82 min_samples_leaf: 0.00970299 max_leaf_nodes: 335 -96079.2560067563\n",
      "Criterion: entropy splitter: best max_depth: 82 min_samples_leaf: 0.00970299 max_leaf_nodes: 335 -90172.230271409\n",
      "Criterion: gini splitter: random max_depth: 31 min_samples_leaf: 0.009801 max_leaf_nodes: 337 -101117.39368003252\n",
      "Criterion: gini splitter: best max_depth: 31 min_samples_leaf: 0.009801 max_leaf_nodes: 337 -44935.830279926566\n",
      "Criterion: entropy splitter: random max_depth: 31 min_samples_leaf: 0.009801 max_leaf_nodes: 337 -96079.2560067563\n",
      "Criterion: entropy splitter: best max_depth: 31 min_samples_leaf: 0.009801 max_leaf_nodes: 337 -90172.230271409\n",
      "Criterion: gini splitter: random max_depth: 30 min_samples_leaf: 0.009801 max_leaf_nodes: 337 -101117.39368003252\n",
      "Criterion: gini splitter: best max_depth: 30 min_samples_leaf: 0.009801 max_leaf_nodes: 337 -44935.830279926566\n",
      "Criterion: entropy splitter: random max_depth: 30 min_samples_leaf: 0.009801 max_leaf_nodes: 337 -96079.2560067563\n",
      "Criterion: entropy splitter: best max_depth: 30 min_samples_leaf: 0.009801 max_leaf_nodes: 337 -90172.230271409\n",
      "Criterion: gini splitter: random max_depth: 32 min_samples_leaf: 0.009801 max_leaf_nodes: 337 -101117.39368003252\n",
      "Criterion: gini splitter: best max_depth: 32 min_samples_leaf: 0.009801 max_leaf_nodes: 337 -44935.830279926566\n",
      "Criterion: entropy splitter: random max_depth: 32 min_samples_leaf: 0.009801 max_leaf_nodes: 337 -96079.2560067563\n",
      "Criterion: entropy splitter: best max_depth: 32 min_samples_leaf: 0.009801 max_leaf_nodes: 337 -90172.230271409\n",
      "Criterion: gini splitter: random max_depth: 82 min_samples_leaf: 0.009801 max_leaf_nodes: 337 -101117.39368003252\n",
      "Criterion: gini splitter: best max_depth: 82 min_samples_leaf: 0.009801 max_leaf_nodes: 337 -44935.830279926566\n",
      "Criterion: entropy splitter: random max_depth: 82 min_samples_leaf: 0.009801 max_leaf_nodes: 337 -96079.2560067563\n",
      "Criterion: entropy splitter: best max_depth: 82 min_samples_leaf: 0.009801 max_leaf_nodes: 337 -90172.230271409\n",
      "Criterion: gini splitter: random max_depth: 31 min_samples_leaf: 0.009899010000000001 max_leaf_nodes: 337 -116927.97150116054\n",
      "Criterion: gini splitter: best max_depth: 31 min_samples_leaf: 0.009899010000000001 max_leaf_nodes: 337 -65134.58596330641\n",
      "Criterion: entropy splitter: random max_depth: 31 min_samples_leaf: 0.009899010000000001 max_leaf_nodes: 337 -110746.15531747148\n",
      "Criterion: entropy splitter: best max_depth: 31 min_samples_leaf: 0.009899010000000001 max_leaf_nodes: 337 -94709.81851948111\n",
      "Criterion: gini splitter: random max_depth: 30 min_samples_leaf: 0.009899010000000001 max_leaf_nodes: 337 -116927.97150116054\n",
      "Criterion: gini splitter: best max_depth: 30 min_samples_leaf: 0.009899010000000001 max_leaf_nodes: 337 -65134.58596330641\n",
      "Criterion: entropy splitter: random max_depth: 30 min_samples_leaf: 0.009899010000000001 max_leaf_nodes: 337 -110746.15531747148\n",
      "Criterion: entropy splitter: best max_depth: 30 min_samples_leaf: 0.009899010000000001 max_leaf_nodes: 337 -94709.81851948111\n",
      "Criterion: gini splitter: random max_depth: 32 min_samples_leaf: 0.009899010000000001 max_leaf_nodes: 337 -116927.97150116054\n",
      "Criterion: gini splitter: best max_depth: 32 min_samples_leaf: 0.009899010000000001 max_leaf_nodes: 337 -65134.58596330641\n",
      "Criterion: entropy splitter: random max_depth: 32 min_samples_leaf: 0.009899010000000001 max_leaf_nodes: 337 -110746.15531747148\n",
      "Criterion: entropy splitter: best max_depth: 32 min_samples_leaf: 0.009899010000000001 max_leaf_nodes: 337 -94709.81851948111\n",
      "Criterion: gini splitter: random max_depth: 82 min_samples_leaf: 0.009899010000000001 max_leaf_nodes: 337 -116927.97150116054\n",
      "Criterion: gini splitter: best max_depth: 82 min_samples_leaf: 0.009899010000000001 max_leaf_nodes: 337 -65134.58596330641\n",
      "Criterion: entropy splitter: random max_depth: 82 min_samples_leaf: 0.009899010000000001 max_leaf_nodes: 337 -110746.15531747148\n",
      "Criterion: entropy splitter: best max_depth: 82 min_samples_leaf: 0.009899010000000001 max_leaf_nodes: 337 -94709.81851948111\n",
      "Criterion: gini splitter: random max_depth: 31 min_samples_leaf: 0.00970299 max_leaf_nodes: 337 -101117.39368003252\n",
      "Criterion: gini splitter: best max_depth: 31 min_samples_leaf: 0.00970299 max_leaf_nodes: 337 -44935.830279926566\n",
      "Criterion: entropy splitter: random max_depth: 31 min_samples_leaf: 0.00970299 max_leaf_nodes: 337 -96079.2560067563\n",
      "Criterion: entropy splitter: best max_depth: 31 min_samples_leaf: 0.00970299 max_leaf_nodes: 337 -90172.230271409\n",
      "Criterion: gini splitter: random max_depth: 30 min_samples_leaf: 0.00970299 max_leaf_nodes: 337 -101117.39368003252\n",
      "Criterion: gini splitter: best max_depth: 30 min_samples_leaf: 0.00970299 max_leaf_nodes: 337 -44935.830279926566\n",
      "Criterion: entropy splitter: random max_depth: 30 min_samples_leaf: 0.00970299 max_leaf_nodes: 337 -96079.2560067563\n",
      "Criterion: entropy splitter: best max_depth: 30 min_samples_leaf: 0.00970299 max_leaf_nodes: 337 -90172.230271409\n",
      "Criterion: gini splitter: random max_depth: 32 min_samples_leaf: 0.00970299 max_leaf_nodes: 337 -101117.39368003252\n",
      "Criterion: gini splitter: best max_depth: 32 min_samples_leaf: 0.00970299 max_leaf_nodes: 337 -44935.830279926566\n",
      "Criterion: entropy splitter: random max_depth: 32 min_samples_leaf: 0.00970299 max_leaf_nodes: 337 -96079.2560067563\n"
     ]
    },
    {
     "name": "stdout",
     "output_type": "stream",
     "text": [
      "Criterion: entropy splitter: best max_depth: 32 min_samples_leaf: 0.00970299 max_leaf_nodes: 337 -90172.230271409\n",
      "Criterion: gini splitter: random max_depth: 82 min_samples_leaf: 0.00970299 max_leaf_nodes: 337 -101117.39368003252\n",
      "Criterion: gini splitter: best max_depth: 82 min_samples_leaf: 0.00970299 max_leaf_nodes: 337 -44935.830279926566\n",
      "Criterion: entropy splitter: random max_depth: 82 min_samples_leaf: 0.00970299 max_leaf_nodes: 337 -96079.2560067563\n",
      "Criterion: entropy splitter: best max_depth: 82 min_samples_leaf: 0.00970299 max_leaf_nodes: 337 -90172.230271409\n",
      "Criterion: gini splitter: random max_depth: 31 min_samples_leaf: 0.009801 max_leaf_nodes: 841 -101117.39368003252\n",
      "Criterion: gini splitter: best max_depth: 31 min_samples_leaf: 0.009801 max_leaf_nodes: 841 -44935.830279926566\n",
      "Criterion: entropy splitter: random max_depth: 31 min_samples_leaf: 0.009801 max_leaf_nodes: 841 -96079.2560067563\n",
      "Criterion: entropy splitter: best max_depth: 31 min_samples_leaf: 0.009801 max_leaf_nodes: 841 -90172.230271409\n",
      "Criterion: gini splitter: random max_depth: 30 min_samples_leaf: 0.009801 max_leaf_nodes: 841 -101117.39368003252\n",
      "Criterion: gini splitter: best max_depth: 30 min_samples_leaf: 0.009801 max_leaf_nodes: 841 -44935.830279926566\n",
      "Criterion: entropy splitter: random max_depth: 30 min_samples_leaf: 0.009801 max_leaf_nodes: 841 -96079.2560067563\n",
      "Criterion: entropy splitter: best max_depth: 30 min_samples_leaf: 0.009801 max_leaf_nodes: 841 -90172.230271409\n",
      "Criterion: gini splitter: random max_depth: 32 min_samples_leaf: 0.009801 max_leaf_nodes: 841 -101117.39368003252\n",
      "Criterion: gini splitter: best max_depth: 32 min_samples_leaf: 0.009801 max_leaf_nodes: 841 -44935.830279926566\n",
      "Criterion: entropy splitter: random max_depth: 32 min_samples_leaf: 0.009801 max_leaf_nodes: 841 -96079.2560067563\n",
      "Criterion: entropy splitter: best max_depth: 32 min_samples_leaf: 0.009801 max_leaf_nodes: 841 -90172.230271409\n",
      "Criterion: gini splitter: random max_depth: 82 min_samples_leaf: 0.009801 max_leaf_nodes: 841 -101117.39368003252\n",
      "Criterion: gini splitter: best max_depth: 82 min_samples_leaf: 0.009801 max_leaf_nodes: 841 -44935.830279926566\n",
      "Criterion: entropy splitter: random max_depth: 82 min_samples_leaf: 0.009801 max_leaf_nodes: 841 -96079.2560067563\n",
      "Criterion: entropy splitter: best max_depth: 82 min_samples_leaf: 0.009801 max_leaf_nodes: 841 -90172.230271409\n",
      "Criterion: gini splitter: random max_depth: 31 min_samples_leaf: 0.009899010000000001 max_leaf_nodes: 841 -116927.97150116054\n",
      "Criterion: gini splitter: best max_depth: 31 min_samples_leaf: 0.009899010000000001 max_leaf_nodes: 841 -65134.58596330641\n",
      "Criterion: entropy splitter: random max_depth: 31 min_samples_leaf: 0.009899010000000001 max_leaf_nodes: 841 -110746.15531747148\n",
      "Criterion: entropy splitter: best max_depth: 31 min_samples_leaf: 0.009899010000000001 max_leaf_nodes: 841 -94709.81851948111\n",
      "Criterion: gini splitter: random max_depth: 30 min_samples_leaf: 0.009899010000000001 max_leaf_nodes: 841 -116927.97150116054\n",
      "Criterion: gini splitter: best max_depth: 30 min_samples_leaf: 0.009899010000000001 max_leaf_nodes: 841 -65134.58596330641\n",
      "Criterion: entropy splitter: random max_depth: 30 min_samples_leaf: 0.009899010000000001 max_leaf_nodes: 841 -110746.15531747148\n",
      "Criterion: entropy splitter: best max_depth: 30 min_samples_leaf: 0.009899010000000001 max_leaf_nodes: 841 -94709.81851948111\n",
      "Criterion: gini splitter: random max_depth: 32 min_samples_leaf: 0.009899010000000001 max_leaf_nodes: 841 -116927.97150116054\n",
      "Criterion: gini splitter: best max_depth: 32 min_samples_leaf: 0.009899010000000001 max_leaf_nodes: 841 -65134.58596330641\n",
      "Criterion: entropy splitter: random max_depth: 32 min_samples_leaf: 0.009899010000000001 max_leaf_nodes: 841 -110746.15531747148\n",
      "Criterion: entropy splitter: best max_depth: 32 min_samples_leaf: 0.009899010000000001 max_leaf_nodes: 841 -94709.81851948111\n",
      "Criterion: gini splitter: random max_depth: 82 min_samples_leaf: 0.009899010000000001 max_leaf_nodes: 841 -116927.97150116054\n",
      "Criterion: gini splitter: best max_depth: 82 min_samples_leaf: 0.009899010000000001 max_leaf_nodes: 841 -65134.58596330641\n",
      "Criterion: entropy splitter: random max_depth: 82 min_samples_leaf: 0.009899010000000001 max_leaf_nodes: 841 -110746.15531747148\n",
      "Criterion: entropy splitter: best max_depth: 82 min_samples_leaf: 0.009899010000000001 max_leaf_nodes: 841 -94709.81851948111\n",
      "Criterion: gini splitter: random max_depth: 31 min_samples_leaf: 0.00970299 max_leaf_nodes: 841 -101117.39368003252\n",
      "Criterion: gini splitter: best max_depth: 31 min_samples_leaf: 0.00970299 max_leaf_nodes: 841 -44935.830279926566\n",
      "Criterion: entropy splitter: random max_depth: 31 min_samples_leaf: 0.00970299 max_leaf_nodes: 841 -96079.2560067563\n",
      "Criterion: entropy splitter: best max_depth: 31 min_samples_leaf: 0.00970299 max_leaf_nodes: 841 -90172.230271409\n",
      "Criterion: gini splitter: random max_depth: 30 min_samples_leaf: 0.00970299 max_leaf_nodes: 841 -101117.39368003252\n",
      "Criterion: gini splitter: best max_depth: 30 min_samples_leaf: 0.00970299 max_leaf_nodes: 841 -44935.830279926566\n",
      "Criterion: entropy splitter: random max_depth: 30 min_samples_leaf: 0.00970299 max_leaf_nodes: 841 -96079.2560067563\n",
      "Criterion: entropy splitter: best max_depth: 30 min_samples_leaf: 0.00970299 max_leaf_nodes: 841 -90172.230271409\n",
      "Criterion: gini splitter: random max_depth: 32 min_samples_leaf: 0.00970299 max_leaf_nodes: 841 -101117.39368003252\n",
      "Criterion: gini splitter: best max_depth: 32 min_samples_leaf: 0.00970299 max_leaf_nodes: 841 -44935.830279926566\n",
      "Criterion: entropy splitter: random max_depth: 32 min_samples_leaf: 0.00970299 max_leaf_nodes: 841 -96079.2560067563\n",
      "Criterion: entropy splitter: best max_depth: 32 min_samples_leaf: 0.00970299 max_leaf_nodes: 841 -90172.230271409\n",
      "Criterion: gini splitter: random max_depth: 82 min_samples_leaf: 0.00970299 max_leaf_nodes: 841 -101117.39368003252\n",
      "Criterion: gini splitter: best max_depth: 82 min_samples_leaf: 0.00970299 max_leaf_nodes: 841 -44935.830279926566\n",
      "Criterion: entropy splitter: random max_depth: 82 min_samples_leaf: 0.00970299 max_leaf_nodes: 841 -96079.2560067563\n",
      "Criterion: entropy splitter: best max_depth: 82 min_samples_leaf: 0.00970299 max_leaf_nodes: 841 -90172.230271409\n",
      "Real output model: DecisionTreeClassifier(max_depth=31, max_leaf_nodes=336,\n",
      "                       min_samples_leaf=0.009801, random_state=75)\n",
      "\n",
      "model_1\n",
      "DecisionTreeClassifier(max_depth=31, max_leaf_nodes=336,\n",
      "                       min_samples_leaf=0.009801, random_state=75)\n",
      "['B_match_weightclass_rank', 'B_win_by_Decision_Majority', 'B_win_by_Submission', 'location', 'win_streak_dif', 'R_ev', 'B_avg_SIG_STR_landed', 'sub_dif', 'R_current_win_streak', 'R_Bantamweight_rank', 'B_win_by_Decision_Unanimous', 'B_losses', 'B_longest_win_streak', 'longest_win_streak_dif', 'R_Lightweight_rank', 'R_current_lose_streak', 'B_Weight_lbs', 'gender', 'Blue - SUB', \"B_Women's Featherweight_rank\", 'R_win_by_KO/TKO', 'avg_sub_att_dif', 'age_dif', 'win_dif', 'R_odds', 'empty_arena']\n",
      "0\n",
      "\n"
     ]
    },
    {
     "data": {
      "text/plain": [
       "(2749, 158)"
      ]
     },
     "metadata": {},
     "output_type": "display_data"
    },
    {
     "data": {
      "text/plain": [
       "(2749,)"
      ]
     },
     "metadata": {},
     "output_type": "display_data"
    },
    {
     "data": {
      "text/plain": [
       "(2749, 6)"
      ]
     },
     "metadata": {},
     "output_type": "display_data"
    },
    {
     "data": {
      "text/plain": [
       "(242, 158)"
      ]
     },
     "metadata": {},
     "output_type": "display_data"
    },
    {
     "data": {
      "text/plain": [
       "(242,)"
      ]
     },
     "metadata": {},
     "output_type": "display_data"
    },
    {
     "data": {
      "text/plain": [
       "(242, 6)"
      ]
     },
     "metadata": {},
     "output_type": "display_data"
    },
    {
     "name": "stdout",
     "output_type": "stream",
     "text": [
      "250     5\n",
      "251     3\n",
      "252     3\n",
      "253     5\n",
      "254     0\n",
      "       ..\n",
      "4217    0\n",
      "4225    1\n",
      "4226    3\n",
      "4227    5\n",
      "4228    5\n",
      "Name: label, Length: 2749, dtype: int64\n",
      "Real Score: -5049.487922705314\n",
      "HI\n",
      "HI\n",
      "HI\n",
      "HI\n",
      "HI\n",
      "\n",
      "model_1\n",
      "DecisionTreeClassifier(max_depth=31, max_leaf_nodes=336,\n",
      "                       min_samples_leaf=0.009801, random_state=75)\n",
      "['B_match_weightclass_rank', 'B_win_by_Decision_Majority', 'B_win_by_Submission', 'location', 'win_streak_dif', 'R_ev', 'B_avg_SIG_STR_landed', 'sub_dif', 'R_current_win_streak', 'R_Bantamweight_rank', 'B_win_by_Decision_Unanimous', 'B_losses', 'B_longest_win_streak', 'longest_win_streak_dif', 'R_Lightweight_rank', 'R_current_lose_streak', 'B_Weight_lbs', 'gender', 'Blue - SUB', \"B_Women's Featherweight_rank\", 'R_win_by_KO/TKO', 'avg_sub_att_dif', 'age_dif', 'win_dif', 'R_odds', 'empty_arena']\n",
      "0\n",
      "\n"
     ]
    },
    {
     "data": {
      "text/plain": [
       "(2749, 158)"
      ]
     },
     "metadata": {},
     "output_type": "display_data"
    },
    {
     "data": {
      "text/plain": [
       "(2749,)"
      ]
     },
     "metadata": {},
     "output_type": "display_data"
    },
    {
     "data": {
      "text/plain": [
       "(2749, 6)"
      ]
     },
     "metadata": {},
     "output_type": "display_data"
    },
    {
     "data": {
      "text/plain": [
       "(242, 158)"
      ]
     },
     "metadata": {},
     "output_type": "display_data"
    },
    {
     "data": {
      "text/plain": [
       "(242,)"
      ]
     },
     "metadata": {},
     "output_type": "display_data"
    },
    {
     "data": {
      "text/plain": [
       "(242, 6)"
      ]
     },
     "metadata": {},
     "output_type": "display_data"
    },
    {
     "name": "stdout",
     "output_type": "stream",
     "text": [
      "250     5\n",
      "251     3\n",
      "252     3\n",
      "253     5\n",
      "254     0\n",
      "       ..\n",
      "4217    0\n",
      "4225    1\n",
      "4226    3\n",
      "4227    5\n",
      "4228    5\n",
      "Name: label, Length: 2749, dtype: int64\n",
      "Real Score: -5049.487922705314\n",
      "HI\n",
      "HI\n",
      "HI\n",
      "HI\n",
      "HI\n",
      "The original score is -44935.830279926566\n",
      "\n",
      "model_1\n",
      "DecisionTreeClassifier(max_depth=31, max_leaf_nodes=336,\n",
      "                       min_samples_leaf=0.009801, random_state=75)\n",
      "['B_match_weightclass_rank', 'B_win_by_Decision_Majority', 'B_win_by_Submission', 'location', 'win_streak_dif', 'R_ev', 'B_avg_SIG_STR_landed', 'sub_dif', 'R_current_win_streak', 'R_Bantamweight_rank', 'B_win_by_Decision_Unanimous', 'B_losses', 'B_longest_win_streak', 'longest_win_streak_dif', 'R_Lightweight_rank', 'R_current_lose_streak', 'B_Weight_lbs', 'gender', 'Blue - SUB', \"B_Women's Featherweight_rank\", 'R_win_by_KO/TKO', 'avg_sub_att_dif', 'age_dif', 'win_dif', 'R_odds', 'empty_arena']\n",
      "0\n",
      "\n"
     ]
    },
    {
     "data": {
      "text/plain": [
       "(2749, 158)"
      ]
     },
     "metadata": {},
     "output_type": "display_data"
    },
    {
     "data": {
      "text/plain": [
       "(2749,)"
      ]
     },
     "metadata": {},
     "output_type": "display_data"
    },
    {
     "data": {
      "text/plain": [
       "(2749, 6)"
      ]
     },
     "metadata": {},
     "output_type": "display_data"
    },
    {
     "data": {
      "text/plain": [
       "(242, 158)"
      ]
     },
     "metadata": {},
     "output_type": "display_data"
    },
    {
     "data": {
      "text/plain": [
       "(242,)"
      ]
     },
     "metadata": {},
     "output_type": "display_data"
    },
    {
     "data": {
      "text/plain": [
       "(242, 6)"
      ]
     },
     "metadata": {},
     "output_type": "display_data"
    },
    {
     "name": "stdout",
     "output_type": "stream",
     "text": [
      "250     5\n",
      "251     3\n",
      "252     3\n",
      "253     5\n",
      "254     0\n",
      "       ..\n",
      "4217    0\n",
      "4225    1\n",
      "4226    3\n",
      "4227    5\n",
      "4228    5\n",
      "Name: label, Length: 2749, dtype: int64\n",
      "Real Score: -5049.487922705314\n",
      "HI\n",
      "HI\n",
      "HI\n",
      "HI\n",
      "HI\n",
      "\n",
      "\n",
      "OPTIMIZING MODEL 2\n",
      "\n",
      "\n",
      "model_2\n",
      "RandomForestClassifier(criterion='entropy', max_depth=83, max_features=None,\n",
      "                       max_leaf_nodes=825,\n",
      "                       min_samples_leaf=0.009999000000000001, n_estimators=70,\n",
      "                       n_jobs=-1, random_state=75)\n",
      "['R_Welterweight_rank', 'empty_arena', 'win_streak_dif', 'B_Lightweight_rank', 'B_Stance', 'R_win_by_KO/TKO', 'lose_streak_dif', 'height_dif', 'B_avg_SIG_STR_landed', 'R_Flyweight_rank', 'title_bout', 'better_rank', 'R_current_lose_streak', 'B_current_lose_streak', 'B_total_title_bouts', 'B_avg_TD_pct', 'Red - SUB', 'R_Lightweight_rank', 'B_Weight_lbs', 'R_Height_cms', 'location', 'R_avg_SIG_STR_pct', 'Blue - SUB', \"R_Women's Featherweight_rank\", 'R_Featherweight_rank', 'R_Light Heavyweight_rank', 'total_title_bout_dif', 'R_losses', 'B_win_by_Submission', 'Blue - DEC', 'B_draw', 'R_Middleweight_rank', 'B_avg_SIG_STR_pct', \"B_Women's Strawweight_rank\", 'age_dif', 'B_Middleweight_rank', 'avg_sub_att_dif', 'avg_td_dif', 'B_avg_SUB_ATT', 'R_Pound-for-Pound_rank', 'R_wins', 'B_ev', 'R_Weight_lbs', 'sub_dif', 'R_ev', 'B_avg_TD_landed']\n",
      "0\n",
      "Current best score is: -44408.0\n",
      "Feature: B_odds Score: -44407.0\n",
      "Feature: country Score: -42199.0\n",
      "Feature: B_longest_win_streak Score: -41675.0\n",
      "Feature: B_wins Score: -39649.0\n",
      "The best feature was B_wins.  It scored -39649.0\n",
      "Current best score is: -39649.0\n",
      "Feature: gender Score: -36623.0\n",
      "The best feature was gender.  It scored -36623.0\n",
      "Current best score is: -36623.0\n",
      "Feature: R_odds Score: -35736.0\n",
      "Feature: B_win_by_Decision_Split Score: -35228.0\n",
      "The best feature was B_win_by_Decision_Split.  It scored -35228.0\n",
      "Current best score is: -35228.0\n",
      "NO IMPROVEMENT\n",
      "FINAL BEST SCORE: -35228.0\n",
      "\n",
      "model_2\n",
      "RandomForestClassifier(criterion='entropy', max_depth=83, max_features=None,\n",
      "                       max_leaf_nodes=825,\n",
      "                       min_samples_leaf=0.009999000000000001, n_estimators=70,\n",
      "                       n_jobs=-1, random_state=75)\n",
      "['B_win_by_Decision_Split', 'gender', 'B_wins', 'R_Welterweight_rank', 'empty_arena', 'win_streak_dif', 'B_Lightweight_rank', 'B_Stance', 'R_win_by_KO/TKO', 'lose_streak_dif', 'height_dif', 'B_avg_SIG_STR_landed', 'R_Flyweight_rank', 'title_bout', 'better_rank', 'R_current_lose_streak', 'B_current_lose_streak', 'B_total_title_bouts', 'B_avg_TD_pct', 'Red - SUB', 'R_Lightweight_rank', 'B_Weight_lbs', 'R_Height_cms', 'location', 'R_avg_SIG_STR_pct', 'Blue - SUB', \"R_Women's Featherweight_rank\", 'R_Featherweight_rank', 'R_Light Heavyweight_rank', 'total_title_bout_dif', 'R_losses', 'B_win_by_Submission', 'Blue - DEC', 'B_draw', 'R_Middleweight_rank', 'B_avg_SIG_STR_pct', \"B_Women's Strawweight_rank\", 'age_dif', 'B_Middleweight_rank', 'avg_sub_att_dif', 'avg_td_dif', 'B_avg_SUB_ATT', 'R_Pound-for-Pound_rank', 'R_wins', 'B_ev', 'R_Weight_lbs', 'sub_dif', 'R_ev', 'B_avg_TD_landed']\n",
      "0\n",
      "\n"
     ]
    },
    {
     "data": {
      "text/plain": [
       "(2686, 185)"
      ]
     },
     "metadata": {},
     "output_type": "display_data"
    },
    {
     "data": {
      "text/plain": [
       "(2686,)"
      ]
     },
     "metadata": {},
     "output_type": "display_data"
    },
    {
     "data": {
      "text/plain": [
       "(2686, 6)"
      ]
     },
     "metadata": {},
     "output_type": "display_data"
    },
    {
     "data": {
      "text/plain": [
       "(240, 185)"
      ]
     },
     "metadata": {},
     "output_type": "display_data"
    },
    {
     "data": {
      "text/plain": [
       "(240,)"
      ]
     },
     "metadata": {},
     "output_type": "display_data"
    },
    {
     "data": {
      "text/plain": [
       "(240, 6)"
      ]
     },
     "metadata": {},
     "output_type": "display_data"
    },
    {
     "name": "stdout",
     "output_type": "stream",
     "text": [
      "250     5\n",
      "251     3\n",
      "252     3\n",
      "253     5\n",
      "254     0\n",
      "       ..\n",
      "4217    0\n",
      "4225    1\n",
      "4226    3\n",
      "4227    5\n",
      "4228    5\n",
      "Name: label, Length: 2686, dtype: int64\n",
      "Real Score: 575.0\n",
      "HI\n",
      "HI\n",
      "HI\n",
      "HI\n",
      "HI\n",
      "\n",
      "\n",
      "Starting New Run for RandomForestClassifier\n",
      "\n",
      "\n",
      "Previous Best Score: -35228.0\n",
      "Criterion: gini max_features: auto max_depth: 83 min_samples_leaf: 0.009999000000000001 max_leaf_nodes: 825 n_estimators 70 -112499.0\n",
      "Criterion: entropy max_features: auto max_depth: 83 min_samples_leaf: 0.009999000000000001 max_leaf_nodes: 825 n_estimators 70 -95538.0\n",
      "Criterion: gini max_features: log2 max_depth: 83 min_samples_leaf: 0.009999000000000001 max_leaf_nodes: 825 n_estimators 70 -140198.0\n",
      "Criterion: entropy max_features: log2 max_depth: 83 min_samples_leaf: 0.009999000000000001 max_leaf_nodes: 825 n_estimators 70 -137614.0\n",
      "Criterion: gini max_features: None max_depth: 83 min_samples_leaf: 0.009999000000000001 max_leaf_nodes: 825 n_estimators 70 -55611.0391675507\n",
      "Criterion: entropy max_features: None max_depth: 83 min_samples_leaf: 0.009999000000000001 max_leaf_nodes: 825 n_estimators 70 -35228.0\n",
      "Criterion: gini max_features: auto max_depth: 29 min_samples_leaf: 0.009999000000000001 max_leaf_nodes: 825 n_estimators 70 -112499.0\n",
      "Criterion: entropy max_features: auto max_depth: 29 min_samples_leaf: 0.009999000000000001 max_leaf_nodes: 825 n_estimators 70 -95538.0\n",
      "Criterion: gini max_features: log2 max_depth: 29 min_samples_leaf: 0.009999000000000001 max_leaf_nodes: 825 n_estimators 70 -140198.0\n",
      "Criterion: entropy max_features: log2 max_depth: 29 min_samples_leaf: 0.009999000000000001 max_leaf_nodes: 825 n_estimators 70 -137614.0\n",
      "Criterion: gini max_features: None max_depth: 29 min_samples_leaf: 0.009999000000000001 max_leaf_nodes: 825 n_estimators 70 -55611.0391675507\n",
      "Criterion: entropy max_features: None max_depth: 29 min_samples_leaf: 0.009999000000000001 max_leaf_nodes: 825 n_estimators 70 -35228.0\n",
      "Criterion: gini max_features: auto max_depth: 83 min_samples_leaf: 0.01009899 max_leaf_nodes: 825 n_estimators 70 -112499.0\n",
      "Criterion: entropy max_features: auto max_depth: 83 min_samples_leaf: 0.01009899 max_leaf_nodes: 825 n_estimators 70 -95538.0\n",
      "Criterion: gini max_features: log2 max_depth: 83 min_samples_leaf: 0.01009899 max_leaf_nodes: 825 n_estimators 70 -140198.0\n",
      "Criterion: entropy max_features: log2 max_depth: 83 min_samples_leaf: 0.01009899 max_leaf_nodes: 825 n_estimators 70 -137614.0\n",
      "Criterion: gini max_features: None max_depth: 83 min_samples_leaf: 0.01009899 max_leaf_nodes: 825 n_estimators 70 -55611.0391675507\n",
      "Criterion: entropy max_features: None max_depth: 83 min_samples_leaf: 0.01009899 max_leaf_nodes: 825 n_estimators 70 -35228.0\n",
      "Criterion: gini max_features: auto max_depth: 29 min_samples_leaf: 0.01009899 max_leaf_nodes: 825 n_estimators 70 -112499.0\n",
      "Criterion: entropy max_features: auto max_depth: 29 min_samples_leaf: 0.01009899 max_leaf_nodes: 825 n_estimators 70 -95538.0\n",
      "Criterion: gini max_features: log2 max_depth: 29 min_samples_leaf: 0.01009899 max_leaf_nodes: 825 n_estimators 70 -140198.0\n",
      "Criterion: entropy max_features: log2 max_depth: 29 min_samples_leaf: 0.01009899 max_leaf_nodes: 825 n_estimators 70 -137614.0\n",
      "Criterion: gini max_features: None max_depth: 29 min_samples_leaf: 0.01009899 max_leaf_nodes: 825 n_estimators 70 -55611.0391675507\n",
      "Criterion: entropy max_features: None max_depth: 29 min_samples_leaf: 0.01009899 max_leaf_nodes: 825 n_estimators 70 -35228.0\n",
      "Criterion: gini max_features: auto max_depth: 83 min_samples_leaf: 0.009899010000000001 max_leaf_nodes: 825 n_estimators 70 -112499.0\n",
      "Criterion: entropy max_features: auto max_depth: 83 min_samples_leaf: 0.009899010000000001 max_leaf_nodes: 825 n_estimators 70 -95538.0\n",
      "Criterion: gini max_features: log2 max_depth: 83 min_samples_leaf: 0.009899010000000001 max_leaf_nodes: 825 n_estimators 70 -140198.0\n",
      "Criterion: entropy max_features: log2 max_depth: 83 min_samples_leaf: 0.009899010000000001 max_leaf_nodes: 825 n_estimators 70 -137614.0\n",
      "Criterion: gini max_features: None max_depth: 83 min_samples_leaf: 0.009899010000000001 max_leaf_nodes: 825 n_estimators 70 -55611.0391675507\n",
      "Criterion: entropy max_features: None max_depth: 83 min_samples_leaf: 0.009899010000000001 max_leaf_nodes: 825 n_estimators 70 -35228.0\n",
      "Criterion: gini max_features: auto max_depth: 29 min_samples_leaf: 0.009899010000000001 max_leaf_nodes: 825 n_estimators 70 -112499.0\n",
      "Criterion: entropy max_features: auto max_depth: 29 min_samples_leaf: 0.009899010000000001 max_leaf_nodes: 825 n_estimators 70 -95538.0\n",
      "Criterion: gini max_features: log2 max_depth: 29 min_samples_leaf: 0.009899010000000001 max_leaf_nodes: 825 n_estimators 70 -140198.0\n",
      "Criterion: entropy max_features: log2 max_depth: 29 min_samples_leaf: 0.009899010000000001 max_leaf_nodes: 825 n_estimators 70 -137614.0\n",
      "Criterion: gini max_features: None max_depth: 29 min_samples_leaf: 0.009899010000000001 max_leaf_nodes: 825 n_estimators 70 -55611.0391675507\n",
      "Criterion: entropy max_features: None max_depth: 29 min_samples_leaf: 0.009899010000000001 max_leaf_nodes: 825 n_estimators 70 -35228.0\n",
      "Criterion: gini max_features: auto max_depth: 83 min_samples_leaf: 0.009999000000000001 max_leaf_nodes: 60 n_estimators 70 -112499.0\n",
      "Criterion: entropy max_features: auto max_depth: 83 min_samples_leaf: 0.009999000000000001 max_leaf_nodes: 60 n_estimators 70 -95538.0\n",
      "Criterion: gini max_features: log2 max_depth: 83 min_samples_leaf: 0.009999000000000001 max_leaf_nodes: 60 n_estimators 70 -140198.0\n",
      "Criterion: entropy max_features: log2 max_depth: 83 min_samples_leaf: 0.009999000000000001 max_leaf_nodes: 60 n_estimators 70 -137614.0\n",
      "Criterion: gini max_features: None max_depth: 83 min_samples_leaf: 0.009999000000000001 max_leaf_nodes: 60 n_estimators 70 -55611.0391675507\n",
      "Criterion: entropy max_features: None max_depth: 83 min_samples_leaf: 0.009999000000000001 max_leaf_nodes: 60 n_estimators 70 -35228.0\n",
      "Criterion: gini max_features: auto max_depth: 29 min_samples_leaf: 0.009999000000000001 max_leaf_nodes: 60 n_estimators 70 -112499.0\n",
      "Criterion: entropy max_features: auto max_depth: 29 min_samples_leaf: 0.009999000000000001 max_leaf_nodes: 60 n_estimators 70 -95538.0\n",
      "Criterion: gini max_features: log2 max_depth: 29 min_samples_leaf: 0.009999000000000001 max_leaf_nodes: 60 n_estimators 70 -140198.0\n",
      "Criterion: entropy max_features: log2 max_depth: 29 min_samples_leaf: 0.009999000000000001 max_leaf_nodes: 60 n_estimators 70 -137614.0\n",
      "Criterion: gini max_features: None max_depth: 29 min_samples_leaf: 0.009999000000000001 max_leaf_nodes: 60 n_estimators 70 -55611.0391675507\n",
      "Criterion: entropy max_features: None max_depth: 29 min_samples_leaf: 0.009999000000000001 max_leaf_nodes: 60 n_estimators 70 -35228.0\n",
      "Criterion: gini max_features: auto max_depth: 83 min_samples_leaf: 0.01009899 max_leaf_nodes: 60 n_estimators 70 -112499.0\n",
      "Criterion: entropy max_features: auto max_depth: 83 min_samples_leaf: 0.01009899 max_leaf_nodes: 60 n_estimators 70 -95538.0\n",
      "Criterion: gini max_features: log2 max_depth: 83 min_samples_leaf: 0.01009899 max_leaf_nodes: 60 n_estimators 70 -140198.0\n",
      "Criterion: entropy max_features: log2 max_depth: 83 min_samples_leaf: 0.01009899 max_leaf_nodes: 60 n_estimators 70 -137614.0\n",
      "Criterion: gini max_features: None max_depth: 83 min_samples_leaf: 0.01009899 max_leaf_nodes: 60 n_estimators 70 -55611.0391675507\n",
      "Criterion: entropy max_features: None max_depth: 83 min_samples_leaf: 0.01009899 max_leaf_nodes: 60 n_estimators 70 -35228.0\n",
      "Criterion: gini max_features: auto max_depth: 29 min_samples_leaf: 0.01009899 max_leaf_nodes: 60 n_estimators 70 -112499.0\n",
      "Criterion: entropy max_features: auto max_depth: 29 min_samples_leaf: 0.01009899 max_leaf_nodes: 60 n_estimators 70 -95538.0\n",
      "Criterion: gini max_features: log2 max_depth: 29 min_samples_leaf: 0.01009899 max_leaf_nodes: 60 n_estimators 70 -140198.0\n",
      "Criterion: entropy max_features: log2 max_depth: 29 min_samples_leaf: 0.01009899 max_leaf_nodes: 60 n_estimators 70 -137614.0\n",
      "Criterion: gini max_features: None max_depth: 29 min_samples_leaf: 0.01009899 max_leaf_nodes: 60 n_estimators 70 -55611.0391675507\n",
      "Criterion: entropy max_features: None max_depth: 29 min_samples_leaf: 0.01009899 max_leaf_nodes: 60 n_estimators 70 -35228.0\n",
      "Criterion: gini max_features: auto max_depth: 83 min_samples_leaf: 0.009899010000000001 max_leaf_nodes: 60 n_estimators 70 -112499.0\n"
     ]
    },
    {
     "name": "stdout",
     "output_type": "stream",
     "text": [
      "Criterion: entropy max_features: auto max_depth: 83 min_samples_leaf: 0.009899010000000001 max_leaf_nodes: 60 n_estimators 70 -95538.0\n",
      "Criterion: gini max_features: log2 max_depth: 83 min_samples_leaf: 0.009899010000000001 max_leaf_nodes: 60 n_estimators 70 -140198.0\n",
      "Criterion: entropy max_features: log2 max_depth: 83 min_samples_leaf: 0.009899010000000001 max_leaf_nodes: 60 n_estimators 70 -137614.0\n",
      "Criterion: gini max_features: None max_depth: 83 min_samples_leaf: 0.009899010000000001 max_leaf_nodes: 60 n_estimators 70 -55611.0391675507\n",
      "Criterion: entropy max_features: None max_depth: 83 min_samples_leaf: 0.009899010000000001 max_leaf_nodes: 60 n_estimators 70 -35228.0\n",
      "Criterion: gini max_features: auto max_depth: 29 min_samples_leaf: 0.009899010000000001 max_leaf_nodes: 60 n_estimators 70 -112499.0\n",
      "Criterion: entropy max_features: auto max_depth: 29 min_samples_leaf: 0.009899010000000001 max_leaf_nodes: 60 n_estimators 70 -95538.0\n",
      "Criterion: gini max_features: log2 max_depth: 29 min_samples_leaf: 0.009899010000000001 max_leaf_nodes: 60 n_estimators 70 -140198.0\n",
      "Criterion: entropy max_features: log2 max_depth: 29 min_samples_leaf: 0.009899010000000001 max_leaf_nodes: 60 n_estimators 70 -137614.0\n",
      "Criterion: gini max_features: None max_depth: 29 min_samples_leaf: 0.009899010000000001 max_leaf_nodes: 60 n_estimators 70 -55611.0391675507\n",
      "Criterion: entropy max_features: None max_depth: 29 min_samples_leaf: 0.009899010000000001 max_leaf_nodes: 60 n_estimators 70 -35228.0\n",
      "Criterion: gini max_features: auto max_depth: 83 min_samples_leaf: 0.009999000000000001 max_leaf_nodes: 825 n_estimators 4 -114631.87926887927\n",
      "Criterion: entropy max_features: auto max_depth: 83 min_samples_leaf: 0.009999000000000001 max_leaf_nodes: 825 n_estimators 4 -117033.0\n",
      "Criterion: gini max_features: log2 max_depth: 83 min_samples_leaf: 0.009999000000000001 max_leaf_nodes: 825 n_estimators 4 -158095.0\n",
      "Criterion: entropy max_features: log2 max_depth: 83 min_samples_leaf: 0.009999000000000001 max_leaf_nodes: 825 n_estimators 4 -151450.0\n",
      "Criterion: gini max_features: None max_depth: 83 min_samples_leaf: 0.009999000000000001 max_leaf_nodes: 825 n_estimators 4 -89953.83474997876\n",
      "Criterion: entropy max_features: None max_depth: 83 min_samples_leaf: 0.009999000000000001 max_leaf_nodes: 825 n_estimators 4 -84694.8813525274\n",
      "Criterion: gini max_features: auto max_depth: 29 min_samples_leaf: 0.009999000000000001 max_leaf_nodes: 825 n_estimators 4 -114631.87926887927\n",
      "Criterion: entropy max_features: auto max_depth: 29 min_samples_leaf: 0.009999000000000001 max_leaf_nodes: 825 n_estimators 4 -117033.0\n",
      "Criterion: gini max_features: log2 max_depth: 29 min_samples_leaf: 0.009999000000000001 max_leaf_nodes: 825 n_estimators 4 -158095.0\n",
      "Criterion: entropy max_features: log2 max_depth: 29 min_samples_leaf: 0.009999000000000001 max_leaf_nodes: 825 n_estimators 4 -151450.0\n",
      "Criterion: gini max_features: None max_depth: 29 min_samples_leaf: 0.009999000000000001 max_leaf_nodes: 825 n_estimators 4 -89953.83474997876\n",
      "Criterion: entropy max_features: None max_depth: 29 min_samples_leaf: 0.009999000000000001 max_leaf_nodes: 825 n_estimators 4 -84694.8813525274\n",
      "Criterion: gini max_features: auto max_depth: 83 min_samples_leaf: 0.01009899 max_leaf_nodes: 825 n_estimators 4 -114631.87926887927\n",
      "Criterion: entropy max_features: auto max_depth: 83 min_samples_leaf: 0.01009899 max_leaf_nodes: 825 n_estimators 4 -117033.0\n",
      "Criterion: gini max_features: log2 max_depth: 83 min_samples_leaf: 0.01009899 max_leaf_nodes: 825 n_estimators 4 -158095.0\n",
      "Criterion: entropy max_features: log2 max_depth: 83 min_samples_leaf: 0.01009899 max_leaf_nodes: 825 n_estimators 4 -151450.0\n",
      "Criterion: gini max_features: None max_depth: 83 min_samples_leaf: 0.01009899 max_leaf_nodes: 825 n_estimators 4 -89953.83474997876\n",
      "Criterion: entropy max_features: None max_depth: 83 min_samples_leaf: 0.01009899 max_leaf_nodes: 825 n_estimators 4 -84694.8813525274\n",
      "Criterion: gini max_features: auto max_depth: 29 min_samples_leaf: 0.01009899 max_leaf_nodes: 825 n_estimators 4 -114631.87926887927\n",
      "Criterion: entropy max_features: auto max_depth: 29 min_samples_leaf: 0.01009899 max_leaf_nodes: 825 n_estimators 4 -117033.0\n",
      "Criterion: gini max_features: log2 max_depth: 29 min_samples_leaf: 0.01009899 max_leaf_nodes: 825 n_estimators 4 -158095.0\n",
      "Criterion: entropy max_features: log2 max_depth: 29 min_samples_leaf: 0.01009899 max_leaf_nodes: 825 n_estimators 4 -151450.0\n",
      "Criterion: gini max_features: None max_depth: 29 min_samples_leaf: 0.01009899 max_leaf_nodes: 825 n_estimators 4 -89953.83474997876\n",
      "Criterion: entropy max_features: None max_depth: 29 min_samples_leaf: 0.01009899 max_leaf_nodes: 825 n_estimators 4 -84694.8813525274\n",
      "Criterion: gini max_features: auto max_depth: 83 min_samples_leaf: 0.009899010000000001 max_leaf_nodes: 825 n_estimators 4 -114631.87926887927\n",
      "Criterion: entropy max_features: auto max_depth: 83 min_samples_leaf: 0.009899010000000001 max_leaf_nodes: 825 n_estimators 4 -117033.0\n",
      "Criterion: gini max_features: log2 max_depth: 83 min_samples_leaf: 0.009899010000000001 max_leaf_nodes: 825 n_estimators 4 -158095.0\n",
      "Criterion: entropy max_features: log2 max_depth: 83 min_samples_leaf: 0.009899010000000001 max_leaf_nodes: 825 n_estimators 4 -151450.0\n",
      "Criterion: gini max_features: None max_depth: 83 min_samples_leaf: 0.009899010000000001 max_leaf_nodes: 825 n_estimators 4 -89953.83474997876\n",
      "Criterion: entropy max_features: None max_depth: 83 min_samples_leaf: 0.009899010000000001 max_leaf_nodes: 825 n_estimators 4 -84694.8813525274\n",
      "Criterion: gini max_features: auto max_depth: 29 min_samples_leaf: 0.009899010000000001 max_leaf_nodes: 825 n_estimators 4 -114631.87926887927\n",
      "Criterion: entropy max_features: auto max_depth: 29 min_samples_leaf: 0.009899010000000001 max_leaf_nodes: 825 n_estimators 4 -117033.0\n",
      "Criterion: gini max_features: log2 max_depth: 29 min_samples_leaf: 0.009899010000000001 max_leaf_nodes: 825 n_estimators 4 -158095.0\n",
      "Criterion: entropy max_features: log2 max_depth: 29 min_samples_leaf: 0.009899010000000001 max_leaf_nodes: 825 n_estimators 4 -151450.0\n",
      "Criterion: gini max_features: None max_depth: 29 min_samples_leaf: 0.009899010000000001 max_leaf_nodes: 825 n_estimators 4 -89953.83474997876\n",
      "Criterion: entropy max_features: None max_depth: 29 min_samples_leaf: 0.009899010000000001 max_leaf_nodes: 825 n_estimators 4 -84694.8813525274\n",
      "Criterion: gini max_features: auto max_depth: 83 min_samples_leaf: 0.009999000000000001 max_leaf_nodes: 60 n_estimators 4 -114631.87926887927\n",
      "Criterion: entropy max_features: auto max_depth: 83 min_samples_leaf: 0.009999000000000001 max_leaf_nodes: 60 n_estimators 4 -117033.0\n",
      "Criterion: gini max_features: log2 max_depth: 83 min_samples_leaf: 0.009999000000000001 max_leaf_nodes: 60 n_estimators 4 -158095.0\n",
      "Criterion: entropy max_features: log2 max_depth: 83 min_samples_leaf: 0.009999000000000001 max_leaf_nodes: 60 n_estimators 4 -151450.0\n",
      "Criterion: gini max_features: None max_depth: 83 min_samples_leaf: 0.009999000000000001 max_leaf_nodes: 60 n_estimators 4 -89953.83474997876\n",
      "Criterion: entropy max_features: None max_depth: 83 min_samples_leaf: 0.009999000000000001 max_leaf_nodes: 60 n_estimators 4 -84694.8813525274\n",
      "Criterion: gini max_features: auto max_depth: 29 min_samples_leaf: 0.009999000000000001 max_leaf_nodes: 60 n_estimators 4 -114631.87926887927\n",
      "Criterion: entropy max_features: auto max_depth: 29 min_samples_leaf: 0.009999000000000001 max_leaf_nodes: 60 n_estimators 4 -117033.0\n",
      "Criterion: gini max_features: log2 max_depth: 29 min_samples_leaf: 0.009999000000000001 max_leaf_nodes: 60 n_estimators 4 -158095.0\n",
      "Criterion: entropy max_features: log2 max_depth: 29 min_samples_leaf: 0.009999000000000001 max_leaf_nodes: 60 n_estimators 4 -151450.0\n",
      "Criterion: gini max_features: None max_depth: 29 min_samples_leaf: 0.009999000000000001 max_leaf_nodes: 60 n_estimators 4 -89953.83474997876\n",
      "Criterion: entropy max_features: None max_depth: 29 min_samples_leaf: 0.009999000000000001 max_leaf_nodes: 60 n_estimators 4 -84694.8813525274\n",
      "Criterion: gini max_features: auto max_depth: 83 min_samples_leaf: 0.01009899 max_leaf_nodes: 60 n_estimators 4 -114631.87926887927\n",
      "Criterion: entropy max_features: auto max_depth: 83 min_samples_leaf: 0.01009899 max_leaf_nodes: 60 n_estimators 4 -117033.0\n"
     ]
    },
    {
     "name": "stdout",
     "output_type": "stream",
     "text": [
      "Criterion: gini max_features: log2 max_depth: 83 min_samples_leaf: 0.01009899 max_leaf_nodes: 60 n_estimators 4 -158095.0\n",
      "Criterion: entropy max_features: log2 max_depth: 83 min_samples_leaf: 0.01009899 max_leaf_nodes: 60 n_estimators 4 -151450.0\n",
      "Criterion: gini max_features: None max_depth: 83 min_samples_leaf: 0.01009899 max_leaf_nodes: 60 n_estimators 4 -89953.83474997876\n",
      "Criterion: entropy max_features: None max_depth: 83 min_samples_leaf: 0.01009899 max_leaf_nodes: 60 n_estimators 4 -84694.8813525274\n",
      "Criterion: gini max_features: auto max_depth: 29 min_samples_leaf: 0.01009899 max_leaf_nodes: 60 n_estimators 4 -114631.87926887927\n",
      "Criterion: entropy max_features: auto max_depth: 29 min_samples_leaf: 0.01009899 max_leaf_nodes: 60 n_estimators 4 -117033.0\n",
      "Criterion: gini max_features: log2 max_depth: 29 min_samples_leaf: 0.01009899 max_leaf_nodes: 60 n_estimators 4 -158095.0\n",
      "Criterion: entropy max_features: log2 max_depth: 29 min_samples_leaf: 0.01009899 max_leaf_nodes: 60 n_estimators 4 -151450.0\n",
      "Criterion: gini max_features: None max_depth: 29 min_samples_leaf: 0.01009899 max_leaf_nodes: 60 n_estimators 4 -89953.83474997876\n",
      "Criterion: entropy max_features: None max_depth: 29 min_samples_leaf: 0.01009899 max_leaf_nodes: 60 n_estimators 4 -84694.8813525274\n",
      "Criterion: gini max_features: auto max_depth: 83 min_samples_leaf: 0.009899010000000001 max_leaf_nodes: 60 n_estimators 4 -114631.87926887927\n",
      "Criterion: entropy max_features: auto max_depth: 83 min_samples_leaf: 0.009899010000000001 max_leaf_nodes: 60 n_estimators 4 -117033.0\n",
      "Criterion: gini max_features: log2 max_depth: 83 min_samples_leaf: 0.009899010000000001 max_leaf_nodes: 60 n_estimators 4 -158095.0\n",
      "Criterion: entropy max_features: log2 max_depth: 83 min_samples_leaf: 0.009899010000000001 max_leaf_nodes: 60 n_estimators 4 -151450.0\n",
      "Criterion: gini max_features: None max_depth: 83 min_samples_leaf: 0.009899010000000001 max_leaf_nodes: 60 n_estimators 4 -89953.83474997876\n",
      "Criterion: entropy max_features: None max_depth: 83 min_samples_leaf: 0.009899010000000001 max_leaf_nodes: 60 n_estimators 4 -84694.8813525274\n",
      "Criterion: gini max_features: auto max_depth: 29 min_samples_leaf: 0.009899010000000001 max_leaf_nodes: 60 n_estimators 4 -114631.87926887927\n",
      "Criterion: entropy max_features: auto max_depth: 29 min_samples_leaf: 0.009899010000000001 max_leaf_nodes: 60 n_estimators 4 -117033.0\n",
      "Criterion: gini max_features: log2 max_depth: 29 min_samples_leaf: 0.009899010000000001 max_leaf_nodes: 60 n_estimators 4 -158095.0\n",
      "Criterion: entropy max_features: log2 max_depth: 29 min_samples_leaf: 0.009899010000000001 max_leaf_nodes: 60 n_estimators 4 -151450.0\n",
      "Criterion: gini max_features: None max_depth: 29 min_samples_leaf: 0.009899010000000001 max_leaf_nodes: 60 n_estimators 4 -89953.83474997876\n",
      "Criterion: entropy max_features: None max_depth: 29 min_samples_leaf: 0.009899010000000001 max_leaf_nodes: 60 n_estimators 4 -84694.8813525274\n",
      "[[70, 4], [825, 60], [0.009999000000000001, 0.01009899, 0.009899010000000001], [83, 29], ['auto', 'log2', None], ['gini', 'entropy']]\n",
      "6\n",
      "Real output model: RandomForestClassifier(criterion='entropy', max_depth=83, max_features=None,\n",
      "                       max_leaf_nodes=825,\n",
      "                       min_samples_leaf=0.009999000000000001, n_estimators=70,\n",
      "                       n_jobs=-1, random_state=75)\n",
      "\n",
      "model_2\n",
      "RandomForestClassifier(criterion='entropy', max_depth=83, max_features=None,\n",
      "                       max_leaf_nodes=825,\n",
      "                       min_samples_leaf=0.009999000000000001, n_estimators=70,\n",
      "                       n_jobs=-1, random_state=75)\n",
      "['B_win_by_Decision_Split', 'gender', 'B_wins', 'R_Welterweight_rank', 'empty_arena', 'win_streak_dif', 'B_Lightweight_rank', 'B_Stance', 'R_win_by_KO/TKO', 'lose_streak_dif', 'height_dif', 'B_avg_SIG_STR_landed', 'R_Flyweight_rank', 'title_bout', 'better_rank', 'R_current_lose_streak', 'B_current_lose_streak', 'B_total_title_bouts', 'B_avg_TD_pct', 'Red - SUB', 'R_Lightweight_rank', 'B_Weight_lbs', 'R_Height_cms', 'location', 'R_avg_SIG_STR_pct', 'Blue - SUB', \"R_Women's Featherweight_rank\", 'R_Featherweight_rank', 'R_Light Heavyweight_rank', 'total_title_bout_dif', 'R_losses', 'B_win_by_Submission', 'Blue - DEC', 'B_draw', 'R_Middleweight_rank', 'B_avg_SIG_STR_pct', \"B_Women's Strawweight_rank\", 'age_dif', 'B_Middleweight_rank', 'avg_sub_att_dif', 'avg_td_dif', 'B_avg_SUB_ATT', 'R_Pound-for-Pound_rank', 'R_wins', 'B_ev', 'R_Weight_lbs', 'sub_dif', 'R_ev', 'B_avg_TD_landed']\n",
      "0\n",
      "\n"
     ]
    },
    {
     "data": {
      "text/plain": [
       "(2686, 185)"
      ]
     },
     "metadata": {},
     "output_type": "display_data"
    },
    {
     "data": {
      "text/plain": [
       "(2686,)"
      ]
     },
     "metadata": {},
     "output_type": "display_data"
    },
    {
     "data": {
      "text/plain": [
       "(2686, 6)"
      ]
     },
     "metadata": {},
     "output_type": "display_data"
    },
    {
     "data": {
      "text/plain": [
       "(240, 185)"
      ]
     },
     "metadata": {},
     "output_type": "display_data"
    },
    {
     "data": {
      "text/plain": [
       "(240,)"
      ]
     },
     "metadata": {},
     "output_type": "display_data"
    },
    {
     "data": {
      "text/plain": [
       "(240, 6)"
      ]
     },
     "metadata": {},
     "output_type": "display_data"
    },
    {
     "name": "stdout",
     "output_type": "stream",
     "text": [
      "250     5\n",
      "251     3\n",
      "252     3\n",
      "253     5\n",
      "254     0\n",
      "       ..\n",
      "4217    0\n",
      "4225    1\n",
      "4226    3\n",
      "4227    5\n",
      "4228    5\n",
      "Name: label, Length: 2686, dtype: int64\n",
      "Real Score: 575.0\n",
      "HI\n",
      "HI\n",
      "HI\n",
      "HI\n",
      "HI\n",
      "\n",
      "model_2\n",
      "RandomForestClassifier(criterion='entropy', max_depth=83, max_features=None,\n",
      "                       max_leaf_nodes=825,\n",
      "                       min_samples_leaf=0.009999000000000001, n_estimators=70,\n",
      "                       n_jobs=-1, random_state=75)\n",
      "['B_win_by_Decision_Split', 'gender', 'B_wins', 'R_Welterweight_rank', 'empty_arena', 'win_streak_dif', 'B_Lightweight_rank', 'B_Stance', 'R_win_by_KO/TKO', 'lose_streak_dif', 'height_dif', 'B_avg_SIG_STR_landed', 'R_Flyweight_rank', 'title_bout', 'better_rank', 'R_current_lose_streak', 'B_current_lose_streak', 'B_total_title_bouts', 'B_avg_TD_pct', 'Red - SUB', 'R_Lightweight_rank', 'B_Weight_lbs', 'R_Height_cms', 'location', 'R_avg_SIG_STR_pct', 'Blue - SUB', \"R_Women's Featherweight_rank\", 'R_Featherweight_rank', 'R_Light Heavyweight_rank', 'total_title_bout_dif', 'R_losses', 'B_win_by_Submission', 'Blue - DEC', 'B_draw', 'R_Middleweight_rank', 'B_avg_SIG_STR_pct', \"B_Women's Strawweight_rank\", 'age_dif', 'B_Middleweight_rank', 'avg_sub_att_dif', 'avg_td_dif', 'B_avg_SUB_ATT', 'R_Pound-for-Pound_rank', 'R_wins', 'B_ev', 'R_Weight_lbs', 'sub_dif', 'R_ev', 'B_avg_TD_landed']\n",
      "0\n",
      "\n"
     ]
    },
    {
     "data": {
      "text/plain": [
       "(2686, 185)"
      ]
     },
     "metadata": {},
     "output_type": "display_data"
    },
    {
     "data": {
      "text/plain": [
       "(2686,)"
      ]
     },
     "metadata": {},
     "output_type": "display_data"
    },
    {
     "data": {
      "text/plain": [
       "(2686, 6)"
      ]
     },
     "metadata": {},
     "output_type": "display_data"
    },
    {
     "data": {
      "text/plain": [
       "(240, 185)"
      ]
     },
     "metadata": {},
     "output_type": "display_data"
    },
    {
     "data": {
      "text/plain": [
       "(240,)"
      ]
     },
     "metadata": {},
     "output_type": "display_data"
    },
    {
     "data": {
      "text/plain": [
       "(240, 6)"
      ]
     },
     "metadata": {},
     "output_type": "display_data"
    },
    {
     "name": "stdout",
     "output_type": "stream",
     "text": [
      "250     5\n",
      "251     3\n",
      "252     3\n",
      "253     5\n",
      "254     0\n",
      "       ..\n",
      "4217    0\n",
      "4225    1\n",
      "4226    3\n",
      "4227    5\n",
      "4228    5\n",
      "Name: label, Length: 2686, dtype: int64\n",
      "Real Score: 575.0\n",
      "HI\n",
      "HI\n",
      "HI\n",
      "HI\n",
      "HI\n",
      "The original score is -35228.0\n",
      "NEW BEST FEATURE SET WITH: title_bout REMOVED -32783.0\n",
      "The original score is -32783.0\n",
      "NEW BEST FEATURE SET WITH: R_fighter REMOVED -32535.0\n",
      "NEW BEST FEATURE SET WITH: gender REMOVED -32288.0\n",
      "NEW BEST FEATURE SET WITH: B_draw REMOVED -32143.0\n",
      "The original score is -32143.0\n",
      "\n",
      "model_2\n",
      "RandomForestClassifier(criterion='entropy', max_depth=83, max_features=None,\n",
      "                       max_leaf_nodes=825,\n",
      "                       min_samples_leaf=0.009999000000000001, n_estimators=70,\n",
      "                       n_jobs=-1, random_state=75)\n",
      "['B_win_by_Decision_Split', 'gender', 'B_wins', 'R_Welterweight_rank', 'empty_arena', 'win_streak_dif', 'B_Lightweight_rank', 'B_Stance', 'R_win_by_KO/TKO', 'lose_streak_dif', 'B_avg_SIG_STR_landed', 'R_Flyweight_rank', 'title_bout', 'better_rank', 'R_current_lose_streak', 'B_current_lose_streak', 'B_avg_TD_pct', 'Red - SUB', 'R_Lightweight_rank', 'B_Weight_lbs', 'R_Height_cms', 'location', 'R_avg_SIG_STR_pct', 'Blue - SUB', \"R_Women's Featherweight_rank\", 'R_Featherweight_rank', 'R_Light Heavyweight_rank', 'total_title_bout_dif', 'R_losses', 'B_win_by_Submission', 'Blue - DEC', 'B_draw', 'R_Middleweight_rank', 'B_avg_SIG_STR_pct', \"B_Women's Strawweight_rank\", 'age_dif', 'B_Middleweight_rank', 'avg_sub_att_dif', 'avg_td_dif', 'B_avg_SUB_ATT', 'R_Pound-for-Pound_rank', 'R_wins', 'B_ev', 'R_Weight_lbs', 'sub_dif', 'R_ev', 'B_avg_TD_landed']\n",
      "0\n",
      "\n"
     ]
    },
    {
     "data": {
      "text/plain": [
       "(2686, 183)"
      ]
     },
     "metadata": {},
     "output_type": "display_data"
    },
    {
     "data": {
      "text/plain": [
       "(2686,)"
      ]
     },
     "metadata": {},
     "output_type": "display_data"
    },
    {
     "data": {
      "text/plain": [
       "(2686, 6)"
      ]
     },
     "metadata": {},
     "output_type": "display_data"
    },
    {
     "data": {
      "text/plain": [
       "(240, 183)"
      ]
     },
     "metadata": {},
     "output_type": "display_data"
    },
    {
     "data": {
      "text/plain": [
       "(240,)"
      ]
     },
     "metadata": {},
     "output_type": "display_data"
    },
    {
     "data": {
      "text/plain": [
       "(240, 6)"
      ]
     },
     "metadata": {},
     "output_type": "display_data"
    },
    {
     "name": "stdout",
     "output_type": "stream",
     "text": [
      "250     5\n",
      "251     3\n",
      "252     3\n",
      "253     5\n",
      "254     0\n",
      "       ..\n",
      "4217    0\n",
      "4225    1\n",
      "4226    3\n",
      "4227    5\n",
      "4228    5\n",
      "Name: label, Length: 2686, dtype: int64\n",
      "Real Score: 950.0\n",
      "HI\n",
      "HI\n",
      "HI\n",
      "HI\n",
      "HI\n",
      "The features are different\n",
      "OLD:\n",
      "['B_win_by_Decision_Split', 'gender', 'B_wins', 'R_Welterweight_rank', 'empty_arena', 'win_streak_dif', 'B_Lightweight_rank', 'B_Stance', 'R_win_by_KO/TKO', 'lose_streak_dif', 'height_dif', 'B_avg_SIG_STR_landed', 'R_Flyweight_rank', 'title_bout', 'better_rank', 'R_current_lose_streak', 'B_current_lose_streak', 'B_total_title_bouts', 'B_avg_TD_pct', 'Red - SUB', 'R_Lightweight_rank', 'B_Weight_lbs', 'R_Height_cms', 'location', 'R_avg_SIG_STR_pct', 'Blue - SUB', \"R_Women's Featherweight_rank\", 'R_Featherweight_rank', 'R_Light Heavyweight_rank', 'total_title_bout_dif', 'R_losses', 'B_win_by_Submission', 'Blue - DEC', 'B_draw', 'R_Middleweight_rank', 'B_avg_SIG_STR_pct', \"B_Women's Strawweight_rank\", 'age_dif', 'B_Middleweight_rank', 'avg_sub_att_dif', 'avg_td_dif', 'B_avg_SUB_ATT', 'R_Pound-for-Pound_rank', 'R_wins', 'B_ev', 'R_Weight_lbs', 'sub_dif', 'R_ev', 'B_avg_TD_landed']\n",
      "NEW:\n",
      "['B_win_by_Decision_Split', 'gender', 'B_wins', 'R_Welterweight_rank', 'empty_arena', 'win_streak_dif', 'B_Lightweight_rank', 'B_Stance', 'R_win_by_KO/TKO', 'lose_streak_dif', 'B_avg_SIG_STR_landed', 'R_Flyweight_rank', 'title_bout', 'better_rank', 'R_current_lose_streak', 'B_current_lose_streak', 'B_avg_TD_pct', 'Red - SUB', 'R_Lightweight_rank', 'B_Weight_lbs', 'R_Height_cms', 'location', 'R_avg_SIG_STR_pct', 'Blue - SUB', \"R_Women's Featherweight_rank\", 'R_Featherweight_rank', 'R_Light Heavyweight_rank', 'total_title_bout_dif', 'R_losses', 'B_win_by_Submission', 'Blue - DEC', 'B_draw', 'R_Middleweight_rank', 'B_avg_SIG_STR_pct', \"B_Women's Strawweight_rank\", 'age_dif', 'B_Middleweight_rank', 'avg_sub_att_dif', 'avg_td_dif', 'B_avg_SUB_ATT', 'R_Pound-for-Pound_rank', 'R_wins', 'B_ev', 'R_Weight_lbs', 'sub_dif', 'R_ev', 'B_avg_TD_landed']\n",
      "Current best score is: -32143.0\n",
      "Feature: B_odds Score: -30830.0\n",
      "Feature: longest_win_streak_dif Score: -30081.0\n",
      "The best feature was longest_win_streak_dif.  It scored -30081.0\n",
      "Current best score is: -30081.0\n",
      "Feature: B_total_title_bouts Score: -29316.0\n",
      "Feature: R_win_by_Submission Score: -28446.912621359224\n",
      "The best feature was R_win_by_Submission.  It scored -28446.912621359224\n",
      "Current best score is: -28446.912621359224\n",
      "Feature: B_total_title_bouts Score: -27849.912621359224\n",
      "Feature: R_Bantamweight_rank Score: -27771.912621359224\n",
      "The best feature was R_Bantamweight_rank.  It scored -27771.912621359224\n",
      "Current best score is: -27771.912621359224\n",
      "NO IMPROVEMENT\n",
      "FINAL BEST SCORE: -27771.912621359224\n",
      "\n",
      "model_2\n",
      "RandomForestClassifier(criterion='entropy', max_depth=83, max_features=None,\n",
      "                       max_leaf_nodes=825,\n",
      "                       min_samples_leaf=0.009999000000000001, n_estimators=70,\n",
      "                       n_jobs=-1, random_state=75)\n",
      "['R_Bantamweight_rank', 'R_win_by_Submission', 'longest_win_streak_dif', 'B_win_by_Decision_Split', 'gender', 'B_wins', 'R_Welterweight_rank', 'empty_arena', 'win_streak_dif', 'B_Lightweight_rank', 'B_Stance', 'R_win_by_KO/TKO', 'lose_streak_dif', 'B_avg_SIG_STR_landed', 'R_Flyweight_rank', 'title_bout', 'better_rank', 'R_current_lose_streak', 'B_current_lose_streak', 'B_avg_TD_pct', 'Red - SUB', 'R_Lightweight_rank', 'B_Weight_lbs', 'R_Height_cms', 'location', 'R_avg_SIG_STR_pct', 'Blue - SUB', \"R_Women's Featherweight_rank\", 'R_Featherweight_rank', 'R_Light Heavyweight_rank', 'total_title_bout_dif', 'R_losses', 'B_win_by_Submission', 'Blue - DEC', 'B_draw', 'R_Middleweight_rank', 'B_avg_SIG_STR_pct', \"B_Women's Strawweight_rank\", 'age_dif', 'B_Middleweight_rank', 'avg_sub_att_dif', 'avg_td_dif', 'B_avg_SUB_ATT', 'R_Pound-for-Pound_rank', 'R_wins', 'B_ev', 'R_Weight_lbs', 'sub_dif', 'R_ev', 'B_avg_TD_landed']\n",
      "0\n",
      "\n"
     ]
    },
    {
     "data": {
      "text/plain": [
       "(2686, 186)"
      ]
     },
     "metadata": {},
     "output_type": "display_data"
    },
    {
     "data": {
      "text/plain": [
       "(2686,)"
      ]
     },
     "metadata": {},
     "output_type": "display_data"
    },
    {
     "data": {
      "text/plain": [
       "(2686, 6)"
      ]
     },
     "metadata": {},
     "output_type": "display_data"
    },
    {
     "data": {
      "text/plain": [
       "(240, 186)"
      ]
     },
     "metadata": {},
     "output_type": "display_data"
    },
    {
     "data": {
      "text/plain": [
       "(240,)"
      ]
     },
     "metadata": {},
     "output_type": "display_data"
    },
    {
     "data": {
      "text/plain": [
       "(240, 6)"
      ]
     },
     "metadata": {},
     "output_type": "display_data"
    },
    {
     "name": "stdout",
     "output_type": "stream",
     "text": [
      "250     5\n",
      "251     3\n",
      "252     3\n",
      "253     5\n",
      "254     0\n",
      "       ..\n",
      "4217    0\n",
      "4225    1\n",
      "4226    3\n",
      "4227    5\n",
      "4228    5\n",
      "Name: label, Length: 2686, dtype: int64\n",
      "Real Score: 540.0\n",
      "HI\n",
      "HI\n",
      "HI\n",
      "HI\n",
      "HI\n",
      "\n",
      "\n",
      "Starting New Run for RandomForestClassifier\n",
      "\n",
      "\n",
      "Previous Best Score: -27771.912621359224\n",
      "Criterion: gini max_features: auto max_depth: 83 min_samples_leaf: 0.009999000000000001 max_leaf_nodes: 825 n_estimators 70 -112462.0\n",
      "Criterion: entropy max_features: auto max_depth: 83 min_samples_leaf: 0.009999000000000001 max_leaf_nodes: 825 n_estimators 70 -100504.0\n",
      "Criterion: gini max_features: log2 max_depth: 83 min_samples_leaf: 0.009999000000000001 max_leaf_nodes: 825 n_estimators 70 -155604.0\n",
      "Criterion: entropy max_features: log2 max_depth: 83 min_samples_leaf: 0.009999000000000001 max_leaf_nodes: 825 n_estimators 70 -143898.0\n",
      "Criterion: gini max_features: None max_depth: 83 min_samples_leaf: 0.009999000000000001 max_leaf_nodes: 825 n_estimators 70 -55190.86522710242\n",
      "Criterion: entropy max_features: None max_depth: 83 min_samples_leaf: 0.009999000000000001 max_leaf_nodes: 825 n_estimators 70 -27771.912621359224\n",
      "Criterion: gini max_features: auto max_depth: 8 min_samples_leaf: 0.009999000000000001 max_leaf_nodes: 825 n_estimators 70 -113433.0\n",
      "Criterion: entropy max_features: auto max_depth: 8 min_samples_leaf: 0.009999000000000001 max_leaf_nodes: 825 n_estimators 70 -102303.0\n",
      "Criterion: gini max_features: log2 max_depth: 8 min_samples_leaf: 0.009999000000000001 max_leaf_nodes: 825 n_estimators 70 -159329.0\n",
      "Criterion: entropy max_features: log2 max_depth: 8 min_samples_leaf: 0.009999000000000001 max_leaf_nodes: 825 n_estimators 70 -147608.0\n",
      "Criterion: gini max_features: None max_depth: 8 min_samples_leaf: 0.009999000000000001 max_leaf_nodes: 825 n_estimators 70 -60017.87512809252\n",
      "Criterion: entropy max_features: None max_depth: 8 min_samples_leaf: 0.009999000000000001 max_leaf_nodes: 825 n_estimators 70 -33078.0\n",
      "Criterion: gini max_features: auto max_depth: 83 min_samples_leaf: 0.01009899 max_leaf_nodes: 825 n_estimators 70 -112462.0\n",
      "Criterion: entropy max_features: auto max_depth: 83 min_samples_leaf: 0.01009899 max_leaf_nodes: 825 n_estimators 70 -100504.0\n",
      "Criterion: gini max_features: log2 max_depth: 83 min_samples_leaf: 0.01009899 max_leaf_nodes: 825 n_estimators 70 -155604.0\n",
      "Criterion: entropy max_features: log2 max_depth: 83 min_samples_leaf: 0.01009899 max_leaf_nodes: 825 n_estimators 70 -143898.0\n",
      "Criterion: gini max_features: None max_depth: 83 min_samples_leaf: 0.01009899 max_leaf_nodes: 825 n_estimators 70 -55190.86522710242\n",
      "Criterion: entropy max_features: None max_depth: 83 min_samples_leaf: 0.01009899 max_leaf_nodes: 825 n_estimators 70 -27771.912621359224\n",
      "Criterion: gini max_features: auto max_depth: 8 min_samples_leaf: 0.01009899 max_leaf_nodes: 825 n_estimators 70 -113433.0\n",
      "Criterion: entropy max_features: auto max_depth: 8 min_samples_leaf: 0.01009899 max_leaf_nodes: 825 n_estimators 70 -102303.0\n",
      "Criterion: gini max_features: log2 max_depth: 8 min_samples_leaf: 0.01009899 max_leaf_nodes: 825 n_estimators 70 -159329.0\n",
      "Criterion: entropy max_features: log2 max_depth: 8 min_samples_leaf: 0.01009899 max_leaf_nodes: 825 n_estimators 70 -147608.0\n",
      "Criterion: gini max_features: None max_depth: 8 min_samples_leaf: 0.01009899 max_leaf_nodes: 825 n_estimators 70 -60017.87512809252\n",
      "Criterion: entropy max_features: None max_depth: 8 min_samples_leaf: 0.01009899 max_leaf_nodes: 825 n_estimators 70 -33078.0\n",
      "Criterion: gini max_features: auto max_depth: 83 min_samples_leaf: 0.009899010000000001 max_leaf_nodes: 825 n_estimators 70 -112462.0\n",
      "Criterion: entropy max_features: auto max_depth: 83 min_samples_leaf: 0.009899010000000001 max_leaf_nodes: 825 n_estimators 70 -100504.0\n",
      "Criterion: gini max_features: log2 max_depth: 83 min_samples_leaf: 0.009899010000000001 max_leaf_nodes: 825 n_estimators 70 -155604.0\n",
      "Criterion: entropy max_features: log2 max_depth: 83 min_samples_leaf: 0.009899010000000001 max_leaf_nodes: 825 n_estimators 70 -143898.0\n",
      "Criterion: gini max_features: None max_depth: 83 min_samples_leaf: 0.009899010000000001 max_leaf_nodes: 825 n_estimators 70 -55190.86522710242\n",
      "Criterion: entropy max_features: None max_depth: 83 min_samples_leaf: 0.009899010000000001 max_leaf_nodes: 825 n_estimators 70 -27771.912621359224\n",
      "Criterion: gini max_features: auto max_depth: 8 min_samples_leaf: 0.009899010000000001 max_leaf_nodes: 825 n_estimators 70 -113433.0\n",
      "Criterion: entropy max_features: auto max_depth: 8 min_samples_leaf: 0.009899010000000001 max_leaf_nodes: 825 n_estimators 70 -102303.0\n",
      "Criterion: gini max_features: log2 max_depth: 8 min_samples_leaf: 0.009899010000000001 max_leaf_nodes: 825 n_estimators 70 -159329.0\n",
      "Criterion: entropy max_features: log2 max_depth: 8 min_samples_leaf: 0.009899010000000001 max_leaf_nodes: 825 n_estimators 70 -147608.0\n",
      "Criterion: gini max_features: None max_depth: 8 min_samples_leaf: 0.009899010000000001 max_leaf_nodes: 825 n_estimators 70 -60017.87512809252\n",
      "Criterion: entropy max_features: None max_depth: 8 min_samples_leaf: 0.009899010000000001 max_leaf_nodes: 825 n_estimators 70 -33078.0\n",
      "Criterion: gini max_features: auto max_depth: 83 min_samples_leaf: 0.009999000000000001 max_leaf_nodes: 854 n_estimators 70 -112462.0\n",
      "Criterion: entropy max_features: auto max_depth: 83 min_samples_leaf: 0.009999000000000001 max_leaf_nodes: 854 n_estimators 70 -100504.0\n",
      "Criterion: gini max_features: log2 max_depth: 83 min_samples_leaf: 0.009999000000000001 max_leaf_nodes: 854 n_estimators 70 -155604.0\n",
      "Criterion: entropy max_features: log2 max_depth: 83 min_samples_leaf: 0.009999000000000001 max_leaf_nodes: 854 n_estimators 70 -143898.0\n",
      "Criterion: gini max_features: None max_depth: 83 min_samples_leaf: 0.009999000000000001 max_leaf_nodes: 854 n_estimators 70 -55190.86522710242\n",
      "Criterion: entropy max_features: None max_depth: 83 min_samples_leaf: 0.009999000000000001 max_leaf_nodes: 854 n_estimators 70 -27771.912621359224\n",
      "Criterion: gini max_features: auto max_depth: 8 min_samples_leaf: 0.009999000000000001 max_leaf_nodes: 854 n_estimators 70 -113433.0\n",
      "Criterion: entropy max_features: auto max_depth: 8 min_samples_leaf: 0.009999000000000001 max_leaf_nodes: 854 n_estimators 70 -102303.0\n",
      "Criterion: gini max_features: log2 max_depth: 8 min_samples_leaf: 0.009999000000000001 max_leaf_nodes: 854 n_estimators 70 -159329.0\n",
      "Criterion: entropy max_features: log2 max_depth: 8 min_samples_leaf: 0.009999000000000001 max_leaf_nodes: 854 n_estimators 70 -147608.0\n",
      "Criterion: gini max_features: None max_depth: 8 min_samples_leaf: 0.009999000000000001 max_leaf_nodes: 854 n_estimators 70 -60017.87512809252\n",
      "Criterion: entropy max_features: None max_depth: 8 min_samples_leaf: 0.009999000000000001 max_leaf_nodes: 854 n_estimators 70 -33078.0\n",
      "Criterion: gini max_features: auto max_depth: 83 min_samples_leaf: 0.01009899 max_leaf_nodes: 854 n_estimators 70 -112462.0\n",
      "Criterion: entropy max_features: auto max_depth: 83 min_samples_leaf: 0.01009899 max_leaf_nodes: 854 n_estimators 70 -100504.0\n",
      "Criterion: gini max_features: log2 max_depth: 83 min_samples_leaf: 0.01009899 max_leaf_nodes: 854 n_estimators 70 -155604.0\n",
      "Criterion: entropy max_features: log2 max_depth: 83 min_samples_leaf: 0.01009899 max_leaf_nodes: 854 n_estimators 70 -143898.0\n",
      "Criterion: gini max_features: None max_depth: 83 min_samples_leaf: 0.01009899 max_leaf_nodes: 854 n_estimators 70 -55190.86522710242\n",
      "Criterion: entropy max_features: None max_depth: 83 min_samples_leaf: 0.01009899 max_leaf_nodes: 854 n_estimators 70 -27771.912621359224\n",
      "Criterion: gini max_features: auto max_depth: 8 min_samples_leaf: 0.01009899 max_leaf_nodes: 854 n_estimators 70 -113433.0\n",
      "Criterion: entropy max_features: auto max_depth: 8 min_samples_leaf: 0.01009899 max_leaf_nodes: 854 n_estimators 70 -102303.0\n",
      "Criterion: gini max_features: log2 max_depth: 8 min_samples_leaf: 0.01009899 max_leaf_nodes: 854 n_estimators 70 -159329.0\n",
      "Criterion: entropy max_features: log2 max_depth: 8 min_samples_leaf: 0.01009899 max_leaf_nodes: 854 n_estimators 70 -147608.0\n",
      "Criterion: gini max_features: None max_depth: 8 min_samples_leaf: 0.01009899 max_leaf_nodes: 854 n_estimators 70 -60017.87512809252\n",
      "Criterion: entropy max_features: None max_depth: 8 min_samples_leaf: 0.01009899 max_leaf_nodes: 854 n_estimators 70 -33078.0\n"
     ]
    },
    {
     "name": "stdout",
     "output_type": "stream",
     "text": [
      "Criterion: gini max_features: auto max_depth: 83 min_samples_leaf: 0.009899010000000001 max_leaf_nodes: 854 n_estimators 70 -112462.0\n",
      "Criterion: entropy max_features: auto max_depth: 83 min_samples_leaf: 0.009899010000000001 max_leaf_nodes: 854 n_estimators 70 -100504.0\n",
      "Criterion: gini max_features: log2 max_depth: 83 min_samples_leaf: 0.009899010000000001 max_leaf_nodes: 854 n_estimators 70 -155604.0\n",
      "Criterion: entropy max_features: log2 max_depth: 83 min_samples_leaf: 0.009899010000000001 max_leaf_nodes: 854 n_estimators 70 -143898.0\n",
      "Criterion: gini max_features: None max_depth: 83 min_samples_leaf: 0.009899010000000001 max_leaf_nodes: 854 n_estimators 70 -55190.86522710242\n",
      "Criterion: entropy max_features: None max_depth: 83 min_samples_leaf: 0.009899010000000001 max_leaf_nodes: 854 n_estimators 70 -27771.912621359224\n",
      "Criterion: gini max_features: auto max_depth: 8 min_samples_leaf: 0.009899010000000001 max_leaf_nodes: 854 n_estimators 70 -113433.0\n",
      "Criterion: entropy max_features: auto max_depth: 8 min_samples_leaf: 0.009899010000000001 max_leaf_nodes: 854 n_estimators 70 -102303.0\n",
      "Criterion: gini max_features: log2 max_depth: 8 min_samples_leaf: 0.009899010000000001 max_leaf_nodes: 854 n_estimators 70 -159329.0\n",
      "Criterion: entropy max_features: log2 max_depth: 8 min_samples_leaf: 0.009899010000000001 max_leaf_nodes: 854 n_estimators 70 -147608.0\n",
      "Criterion: gini max_features: None max_depth: 8 min_samples_leaf: 0.009899010000000001 max_leaf_nodes: 854 n_estimators 70 -60017.87512809252\n",
      "Criterion: entropy max_features: None max_depth: 8 min_samples_leaf: 0.009899010000000001 max_leaf_nodes: 854 n_estimators 70 -33078.0\n",
      "Criterion: gini max_features: auto max_depth: 83 min_samples_leaf: 0.009999000000000001 max_leaf_nodes: 825 n_estimators 1 -147967.13513406157\n",
      "Criterion: entropy max_features: auto max_depth: 83 min_samples_leaf: 0.009999000000000001 max_leaf_nodes: 825 n_estimators 1 -140949.3192394561\n",
      "Criterion: gini max_features: log2 max_depth: 83 min_samples_leaf: 0.009999000000000001 max_leaf_nodes: 825 n_estimators 1 -130237.60574242698\n",
      "Criterion: entropy max_features: log2 max_depth: 83 min_samples_leaf: 0.009999000000000001 max_leaf_nodes: 825 n_estimators 1 -131984.87010997505\n",
      "Criterion: gini max_features: None max_depth: 83 min_samples_leaf: 0.009999000000000001 max_leaf_nodes: 825 n_estimators 1 -98983.06139131158\n",
      "Criterion: entropy max_features: None max_depth: 83 min_samples_leaf: 0.009999000000000001 max_leaf_nodes: 825 n_estimators 1 -104536.13463846616\n",
      "Criterion: gini max_features: auto max_depth: 8 min_samples_leaf: 0.009999000000000001 max_leaf_nodes: 825 n_estimators 1 -147101.45733681857\n",
      "Criterion: entropy max_features: auto max_depth: 8 min_samples_leaf: 0.009999000000000001 max_leaf_nodes: 825 n_estimators 1 -144259.94988154128\n",
      "Criterion: gini max_features: log2 max_depth: 8 min_samples_leaf: 0.009999000000000001 max_leaf_nodes: 825 n_estimators 1 -135185.61564341708\n",
      "Criterion: entropy max_features: log2 max_depth: 8 min_samples_leaf: 0.009999000000000001 max_leaf_nodes: 825 n_estimators 1 -139444.0762703401\n",
      "Criterion: gini max_features: None max_depth: 8 min_samples_leaf: 0.009999000000000001 max_leaf_nodes: 825 n_estimators 1 -93592.98446823466\n",
      "Criterion: entropy max_features: None max_depth: 8 min_samples_leaf: 0.009999000000000001 max_leaf_nodes: 825 n_estimators 1 -104759.14453945625\n",
      "Criterion: gini max_features: auto max_depth: 83 min_samples_leaf: 0.01009899 max_leaf_nodes: 825 n_estimators 1 -147967.13513406157\n",
      "Criterion: entropy max_features: auto max_depth: 83 min_samples_leaf: 0.01009899 max_leaf_nodes: 825 n_estimators 1 -140949.3192394561\n",
      "Criterion: gini max_features: log2 max_depth: 83 min_samples_leaf: 0.01009899 max_leaf_nodes: 825 n_estimators 1 -130237.60574242698\n",
      "Criterion: entropy max_features: log2 max_depth: 83 min_samples_leaf: 0.01009899 max_leaf_nodes: 825 n_estimators 1 -131984.87010997505\n",
      "Criterion: gini max_features: None max_depth: 83 min_samples_leaf: 0.01009899 max_leaf_nodes: 825 n_estimators 1 -98983.06139131158\n",
      "Criterion: entropy max_features: None max_depth: 83 min_samples_leaf: 0.01009899 max_leaf_nodes: 825 n_estimators 1 -104536.13463846616\n",
      "Criterion: gini max_features: auto max_depth: 8 min_samples_leaf: 0.01009899 max_leaf_nodes: 825 n_estimators 1 -147101.45733681857\n",
      "Criterion: entropy max_features: auto max_depth: 8 min_samples_leaf: 0.01009899 max_leaf_nodes: 825 n_estimators 1 -144259.94988154128\n",
      "Criterion: gini max_features: log2 max_depth: 8 min_samples_leaf: 0.01009899 max_leaf_nodes: 825 n_estimators 1 -135185.61564341708\n",
      "Criterion: entropy max_features: log2 max_depth: 8 min_samples_leaf: 0.01009899 max_leaf_nodes: 825 n_estimators 1 -139444.0762703401\n",
      "Criterion: gini max_features: None max_depth: 8 min_samples_leaf: 0.01009899 max_leaf_nodes: 825 n_estimators 1 -93592.98446823466\n",
      "Criterion: entropy max_features: None max_depth: 8 min_samples_leaf: 0.01009899 max_leaf_nodes: 825 n_estimators 1 -104759.14453945625\n",
      "Criterion: gini max_features: auto max_depth: 83 min_samples_leaf: 0.009899010000000001 max_leaf_nodes: 825 n_estimators 1 -147967.13513406157\n",
      "Criterion: entropy max_features: auto max_depth: 83 min_samples_leaf: 0.009899010000000001 max_leaf_nodes: 825 n_estimators 1 -140949.3192394561\n",
      "Criterion: gini max_features: log2 max_depth: 83 min_samples_leaf: 0.009899010000000001 max_leaf_nodes: 825 n_estimators 1 -130237.60574242698\n",
      "Criterion: entropy max_features: log2 max_depth: 83 min_samples_leaf: 0.009899010000000001 max_leaf_nodes: 825 n_estimators 1 -131984.87010997505\n",
      "Criterion: gini max_features: None max_depth: 83 min_samples_leaf: 0.009899010000000001 max_leaf_nodes: 825 n_estimators 1 -98983.06139131158\n",
      "Criterion: entropy max_features: None max_depth: 83 min_samples_leaf: 0.009899010000000001 max_leaf_nodes: 825 n_estimators 1 -104536.13463846616\n",
      "Criterion: gini max_features: auto max_depth: 8 min_samples_leaf: 0.009899010000000001 max_leaf_nodes: 825 n_estimators 1 -147101.45733681857\n",
      "Criterion: entropy max_features: auto max_depth: 8 min_samples_leaf: 0.009899010000000001 max_leaf_nodes: 825 n_estimators 1 -144259.94988154128\n",
      "Criterion: gini max_features: log2 max_depth: 8 min_samples_leaf: 0.009899010000000001 max_leaf_nodes: 825 n_estimators 1 -135185.61564341708\n",
      "Criterion: entropy max_features: log2 max_depth: 8 min_samples_leaf: 0.009899010000000001 max_leaf_nodes: 825 n_estimators 1 -139444.0762703401\n",
      "Criterion: gini max_features: None max_depth: 8 min_samples_leaf: 0.009899010000000001 max_leaf_nodes: 825 n_estimators 1 -93592.98446823466\n",
      "Criterion: entropy max_features: None max_depth: 8 min_samples_leaf: 0.009899010000000001 max_leaf_nodes: 825 n_estimators 1 -104759.14453945625\n",
      "Criterion: gini max_features: auto max_depth: 83 min_samples_leaf: 0.009999000000000001 max_leaf_nodes: 854 n_estimators 1 -147967.13513406157\n",
      "Criterion: entropy max_features: auto max_depth: 83 min_samples_leaf: 0.009999000000000001 max_leaf_nodes: 854 n_estimators 1 -140949.3192394561\n",
      "Criterion: gini max_features: log2 max_depth: 83 min_samples_leaf: 0.009999000000000001 max_leaf_nodes: 854 n_estimators 1 -130237.60574242698\n",
      "Criterion: entropy max_features: log2 max_depth: 83 min_samples_leaf: 0.009999000000000001 max_leaf_nodes: 854 n_estimators 1 -131984.87010997505\n",
      "Criterion: gini max_features: None max_depth: 83 min_samples_leaf: 0.009999000000000001 max_leaf_nodes: 854 n_estimators 1 -98983.06139131158\n",
      "Criterion: entropy max_features: None max_depth: 83 min_samples_leaf: 0.009999000000000001 max_leaf_nodes: 854 n_estimators 1 -104536.13463846616\n",
      "Criterion: gini max_features: auto max_depth: 8 min_samples_leaf: 0.009999000000000001 max_leaf_nodes: 854 n_estimators 1 -147101.45733681857\n",
      "Criterion: entropy max_features: auto max_depth: 8 min_samples_leaf: 0.009999000000000001 max_leaf_nodes: 854 n_estimators 1 -144259.94988154128\n",
      "Criterion: gini max_features: log2 max_depth: 8 min_samples_leaf: 0.009999000000000001 max_leaf_nodes: 854 n_estimators 1 -135185.61564341708\n",
      "Criterion: entropy max_features: log2 max_depth: 8 min_samples_leaf: 0.009999000000000001 max_leaf_nodes: 854 n_estimators 1 -139444.0762703401\n",
      "Criterion: gini max_features: None max_depth: 8 min_samples_leaf: 0.009999000000000001 max_leaf_nodes: 854 n_estimators 1 -93592.98446823466\n"
     ]
    },
    {
     "name": "stdout",
     "output_type": "stream",
     "text": [
      "Criterion: entropy max_features: None max_depth: 8 min_samples_leaf: 0.009999000000000001 max_leaf_nodes: 854 n_estimators 1 -104759.14453945625\n",
      "Criterion: gini max_features: auto max_depth: 83 min_samples_leaf: 0.01009899 max_leaf_nodes: 854 n_estimators 1 -147967.13513406157\n",
      "Criterion: entropy max_features: auto max_depth: 83 min_samples_leaf: 0.01009899 max_leaf_nodes: 854 n_estimators 1 -140949.3192394561\n",
      "Criterion: gini max_features: log2 max_depth: 83 min_samples_leaf: 0.01009899 max_leaf_nodes: 854 n_estimators 1 -130237.60574242698\n",
      "Criterion: entropy max_features: log2 max_depth: 83 min_samples_leaf: 0.01009899 max_leaf_nodes: 854 n_estimators 1 -131984.87010997505\n",
      "Criterion: gini max_features: None max_depth: 83 min_samples_leaf: 0.01009899 max_leaf_nodes: 854 n_estimators 1 -98983.06139131158\n",
      "Criterion: entropy max_features: None max_depth: 83 min_samples_leaf: 0.01009899 max_leaf_nodes: 854 n_estimators 1 -104536.13463846616\n",
      "Criterion: gini max_features: auto max_depth: 8 min_samples_leaf: 0.01009899 max_leaf_nodes: 854 n_estimators 1 -147101.45733681857\n",
      "Criterion: entropy max_features: auto max_depth: 8 min_samples_leaf: 0.01009899 max_leaf_nodes: 854 n_estimators 1 -144259.94988154128\n",
      "Criterion: gini max_features: log2 max_depth: 8 min_samples_leaf: 0.01009899 max_leaf_nodes: 854 n_estimators 1 -135185.61564341708\n",
      "Criterion: entropy max_features: log2 max_depth: 8 min_samples_leaf: 0.01009899 max_leaf_nodes: 854 n_estimators 1 -139444.0762703401\n",
      "Criterion: gini max_features: None max_depth: 8 min_samples_leaf: 0.01009899 max_leaf_nodes: 854 n_estimators 1 -93592.98446823466\n",
      "Criterion: entropy max_features: None max_depth: 8 min_samples_leaf: 0.01009899 max_leaf_nodes: 854 n_estimators 1 -104759.14453945625\n",
      "Criterion: gini max_features: auto max_depth: 83 min_samples_leaf: 0.009899010000000001 max_leaf_nodes: 854 n_estimators 1 -147967.13513406157\n",
      "Criterion: entropy max_features: auto max_depth: 83 min_samples_leaf: 0.009899010000000001 max_leaf_nodes: 854 n_estimators 1 -140949.3192394561\n",
      "Criterion: gini max_features: log2 max_depth: 83 min_samples_leaf: 0.009899010000000001 max_leaf_nodes: 854 n_estimators 1 -130237.60574242698\n",
      "Criterion: entropy max_features: log2 max_depth: 83 min_samples_leaf: 0.009899010000000001 max_leaf_nodes: 854 n_estimators 1 -131984.87010997505\n",
      "Criterion: gini max_features: None max_depth: 83 min_samples_leaf: 0.009899010000000001 max_leaf_nodes: 854 n_estimators 1 -98983.06139131158\n",
      "Criterion: entropy max_features: None max_depth: 83 min_samples_leaf: 0.009899010000000001 max_leaf_nodes: 854 n_estimators 1 -104536.13463846616\n",
      "Criterion: gini max_features: auto max_depth: 8 min_samples_leaf: 0.009899010000000001 max_leaf_nodes: 854 n_estimators 1 -147101.45733681857\n",
      "Criterion: entropy max_features: auto max_depth: 8 min_samples_leaf: 0.009899010000000001 max_leaf_nodes: 854 n_estimators 1 -144259.94988154128\n",
      "Criterion: gini max_features: log2 max_depth: 8 min_samples_leaf: 0.009899010000000001 max_leaf_nodes: 854 n_estimators 1 -135185.61564341708\n",
      "Criterion: entropy max_features: log2 max_depth: 8 min_samples_leaf: 0.009899010000000001 max_leaf_nodes: 854 n_estimators 1 -139444.0762703401\n",
      "Criterion: gini max_features: None max_depth: 8 min_samples_leaf: 0.009899010000000001 max_leaf_nodes: 854 n_estimators 1 -93592.98446823466\n",
      "Criterion: entropy max_features: None max_depth: 8 min_samples_leaf: 0.009899010000000001 max_leaf_nodes: 854 n_estimators 1 -104759.14453945625\n",
      "[[70, 1], [825, 854], [0.009999000000000001, 0.01009899, 0.009899010000000001], [83, 8], ['auto', 'log2', None], ['gini', 'entropy']]\n",
      "6\n",
      "Real output model: RandomForestClassifier(criterion='entropy', max_depth=83, max_features=None,\n",
      "                       max_leaf_nodes=825,\n",
      "                       min_samples_leaf=0.009999000000000001, n_estimators=70,\n",
      "                       n_jobs=-1, random_state=75)\n",
      "\n",
      "model_2\n",
      "RandomForestClassifier(criterion='entropy', max_depth=83, max_features=None,\n",
      "                       max_leaf_nodes=825,\n",
      "                       min_samples_leaf=0.009999000000000001, n_estimators=70,\n",
      "                       n_jobs=-1, random_state=75)\n",
      "['R_Bantamweight_rank', 'R_win_by_Submission', 'longest_win_streak_dif', 'B_win_by_Decision_Split', 'gender', 'B_wins', 'R_Welterweight_rank', 'empty_arena', 'win_streak_dif', 'B_Lightweight_rank', 'B_Stance', 'R_win_by_KO/TKO', 'lose_streak_dif', 'B_avg_SIG_STR_landed', 'R_Flyweight_rank', 'title_bout', 'better_rank', 'R_current_lose_streak', 'B_current_lose_streak', 'B_avg_TD_pct', 'Red - SUB', 'R_Lightweight_rank', 'B_Weight_lbs', 'R_Height_cms', 'location', 'R_avg_SIG_STR_pct', 'Blue - SUB', \"R_Women's Featherweight_rank\", 'R_Featherweight_rank', 'R_Light Heavyweight_rank', 'total_title_bout_dif', 'R_losses', 'B_win_by_Submission', 'Blue - DEC', 'B_draw', 'R_Middleweight_rank', 'B_avg_SIG_STR_pct', \"B_Women's Strawweight_rank\", 'age_dif', 'B_Middleweight_rank', 'avg_sub_att_dif', 'avg_td_dif', 'B_avg_SUB_ATT', 'R_Pound-for-Pound_rank', 'R_wins', 'B_ev', 'R_Weight_lbs', 'sub_dif', 'R_ev', 'B_avg_TD_landed']\n",
      "0\n",
      "\n"
     ]
    },
    {
     "data": {
      "text/plain": [
       "(2686, 186)"
      ]
     },
     "metadata": {},
     "output_type": "display_data"
    },
    {
     "data": {
      "text/plain": [
       "(2686,)"
      ]
     },
     "metadata": {},
     "output_type": "display_data"
    },
    {
     "data": {
      "text/plain": [
       "(2686, 6)"
      ]
     },
     "metadata": {},
     "output_type": "display_data"
    },
    {
     "data": {
      "text/plain": [
       "(240, 186)"
      ]
     },
     "metadata": {},
     "output_type": "display_data"
    },
    {
     "data": {
      "text/plain": [
       "(240,)"
      ]
     },
     "metadata": {},
     "output_type": "display_data"
    },
    {
     "data": {
      "text/plain": [
       "(240, 6)"
      ]
     },
     "metadata": {},
     "output_type": "display_data"
    },
    {
     "name": "stdout",
     "output_type": "stream",
     "text": [
      "250     5\n",
      "251     3\n",
      "252     3\n",
      "253     5\n",
      "254     0\n",
      "       ..\n",
      "4217    0\n",
      "4225    1\n",
      "4226    3\n",
      "4227    5\n",
      "4228    5\n",
      "Name: label, Length: 2686, dtype: int64\n",
      "Real Score: 540.0\n",
      "HI\n",
      "HI\n",
      "HI\n",
      "HI\n",
      "HI\n",
      "\n",
      "model_2\n",
      "RandomForestClassifier(criterion='entropy', max_depth=83, max_features=None,\n",
      "                       max_leaf_nodes=825,\n",
      "                       min_samples_leaf=0.009999000000000001, n_estimators=70,\n",
      "                       n_jobs=-1, random_state=75)\n",
      "['R_Bantamweight_rank', 'R_win_by_Submission', 'longest_win_streak_dif', 'B_win_by_Decision_Split', 'gender', 'B_wins', 'R_Welterweight_rank', 'empty_arena', 'win_streak_dif', 'B_Lightweight_rank', 'B_Stance', 'R_win_by_KO/TKO', 'lose_streak_dif', 'B_avg_SIG_STR_landed', 'R_Flyweight_rank', 'title_bout', 'better_rank', 'R_current_lose_streak', 'B_current_lose_streak', 'B_avg_TD_pct', 'Red - SUB', 'R_Lightweight_rank', 'B_Weight_lbs', 'R_Height_cms', 'location', 'R_avg_SIG_STR_pct', 'Blue - SUB', \"R_Women's Featherweight_rank\", 'R_Featherweight_rank', 'R_Light Heavyweight_rank', 'total_title_bout_dif', 'R_losses', 'B_win_by_Submission', 'Blue - DEC', 'B_draw', 'R_Middleweight_rank', 'B_avg_SIG_STR_pct', \"B_Women's Strawweight_rank\", 'age_dif', 'B_Middleweight_rank', 'avg_sub_att_dif', 'avg_td_dif', 'B_avg_SUB_ATT', 'R_Pound-for-Pound_rank', 'R_wins', 'B_ev', 'R_Weight_lbs', 'sub_dif', 'R_ev', 'B_avg_TD_landed']\n",
      "0\n",
      "\n"
     ]
    },
    {
     "data": {
      "text/plain": [
       "(2686, 186)"
      ]
     },
     "metadata": {},
     "output_type": "display_data"
    },
    {
     "data": {
      "text/plain": [
       "(2686,)"
      ]
     },
     "metadata": {},
     "output_type": "display_data"
    },
    {
     "data": {
      "text/plain": [
       "(2686, 6)"
      ]
     },
     "metadata": {},
     "output_type": "display_data"
    },
    {
     "data": {
      "text/plain": [
       "(240, 186)"
      ]
     },
     "metadata": {},
     "output_type": "display_data"
    },
    {
     "data": {
      "text/plain": [
       "(240,)"
      ]
     },
     "metadata": {},
     "output_type": "display_data"
    },
    {
     "data": {
      "text/plain": [
       "(240, 6)"
      ]
     },
     "metadata": {},
     "output_type": "display_data"
    },
    {
     "name": "stdout",
     "output_type": "stream",
     "text": [
      "250     5\n",
      "251     3\n",
      "252     3\n",
      "253     5\n",
      "254     0\n",
      "       ..\n",
      "4217    0\n",
      "4225    1\n",
      "4226    3\n",
      "4227    5\n",
      "4228    5\n",
      "Name: label, Length: 2686, dtype: int64\n",
      "Real Score: 540.0\n",
      "HI\n",
      "HI\n",
      "HI\n",
      "HI\n",
      "HI\n",
      "The original score is -27771.912621359224\n",
      "\n",
      "model_2\n",
      "RandomForestClassifier(criterion='entropy', max_depth=83, max_features=None,\n",
      "                       max_leaf_nodes=825,\n",
      "                       min_samples_leaf=0.009999000000000001, n_estimators=70,\n",
      "                       n_jobs=-1, random_state=75)\n",
      "['R_Bantamweight_rank', 'R_win_by_Submission', 'longest_win_streak_dif', 'B_win_by_Decision_Split', 'gender', 'B_wins', 'R_Welterweight_rank', 'empty_arena', 'win_streak_dif', 'B_Lightweight_rank', 'B_Stance', 'R_win_by_KO/TKO', 'lose_streak_dif', 'B_avg_SIG_STR_landed', 'R_Flyweight_rank', 'title_bout', 'better_rank', 'R_current_lose_streak', 'B_current_lose_streak', 'B_avg_TD_pct', 'Red - SUB', 'R_Lightweight_rank', 'B_Weight_lbs', 'R_Height_cms', 'location', 'R_avg_SIG_STR_pct', 'Blue - SUB', \"R_Women's Featherweight_rank\", 'R_Featherweight_rank', 'R_Light Heavyweight_rank', 'total_title_bout_dif', 'R_losses', 'B_win_by_Submission', 'Blue - DEC', 'B_draw', 'R_Middleweight_rank', 'B_avg_SIG_STR_pct', \"B_Women's Strawweight_rank\", 'age_dif', 'B_Middleweight_rank', 'avg_sub_att_dif', 'avg_td_dif', 'B_avg_SUB_ATT', 'R_Pound-for-Pound_rank', 'R_wins', 'B_ev', 'R_Weight_lbs', 'sub_dif', 'R_ev', 'B_avg_TD_landed']\n",
      "0\n",
      "\n"
     ]
    },
    {
     "data": {
      "text/plain": [
       "(2686, 186)"
      ]
     },
     "metadata": {},
     "output_type": "display_data"
    },
    {
     "data": {
      "text/plain": [
       "(2686,)"
      ]
     },
     "metadata": {},
     "output_type": "display_data"
    },
    {
     "data": {
      "text/plain": [
       "(2686, 6)"
      ]
     },
     "metadata": {},
     "output_type": "display_data"
    },
    {
     "data": {
      "text/plain": [
       "(240, 186)"
      ]
     },
     "metadata": {},
     "output_type": "display_data"
    },
    {
     "data": {
      "text/plain": [
       "(240,)"
      ]
     },
     "metadata": {},
     "output_type": "display_data"
    },
    {
     "data": {
      "text/plain": [
       "(240, 6)"
      ]
     },
     "metadata": {},
     "output_type": "display_data"
    },
    {
     "name": "stdout",
     "output_type": "stream",
     "text": [
      "250     5\n",
      "251     3\n",
      "252     3\n",
      "253     5\n",
      "254     0\n",
      "       ..\n",
      "4217    0\n",
      "4225    1\n",
      "4226    3\n",
      "4227    5\n",
      "4228    5\n",
      "Name: label, Length: 2686, dtype: int64\n",
      "Real Score: 540.0\n",
      "HI\n",
      "HI\n",
      "HI\n",
      "HI\n",
      "HI\n",
      "\n",
      "\n",
      "OPTIMIZING MODEL 3\n",
      "\n",
      "\n",
      "model_3\n",
      "GradientBoostingClassifier(max_depth=94, max_features='sqrt',\n",
      "                           max_leaf_nodes=644, min_samples_leaf=0.0101,\n",
      "                           n_estimators=134, random_state=75)\n",
      "['R_win_by_Decision_Split', 'R_avg_SIG_STR_landed', 'B_current_win_streak', 'B_match_weightclass_rank', 'B_Heavyweight_rank', 'loss_dif', 'R_avg_TD_landed', \"R_Women's Bantamweight_rank\", \"R_Women's Featherweight_rank\", 'B_Lightweight_rank', 'R_Featherweight_rank', 'R_Light Heavyweight_rank', 'total_title_bout_dif', 'R_losses', 'B_win_by_Submission', 'Blue - DEC', 'B_draw', 'R_Middleweight_rank', 'B_avg_SIG_STR_pct', \"B_Women's Strawweight_rank\", 'age_dif', 'B_Middleweight_rank', 'avg_sub_att_dif', 'avg_td_dif', 'B_avg_SUB_ATT', \"R_Women's Flyweight_rank\", 'R_Reach_cms', 'R_wins', 'B_ev', 'R_Weight_lbs', 'sub_dif', 'R_ev', 'B_avg_TD_landed']\n",
      "0\n",
      "Current best score is: -35635.36296211795\n",
      "Feature: B_odds Score: -32832.80966112047\n",
      "Feature: country Score: -31411.84805556216\n",
      "Feature: title_bout Score: -24387.74266057591\n",
      "Feature: B_avg_TD_pct Score: -13996.616897566053\n",
      "The best feature was B_avg_TD_pct.  It scored -13996.616897566053\n",
      "Current best score is: -13996.616897566053\n",
      "Feature: gender Score: -13345.36669458243\n",
      "Feature: R_total_rounds_fought Score: -10254.078298992405\n",
      "The best feature was R_total_rounds_fought.  It scored -10254.078298992405\n",
      "Current best score is: -10254.078298992405\n",
      "Feature: R_current_lose_streak Score: -7493.8092875781695\n",
      "The best feature was R_current_lose_streak.  It scored -7493.8092875781695\n",
      "Current best score is: -7493.8092875781695\n",
      "NO IMPROVEMENT\n",
      "FINAL BEST SCORE: -7493.8092875781695\n",
      "\n",
      "model_3\n",
      "GradientBoostingClassifier(max_depth=94, max_features='sqrt',\n",
      "                           max_leaf_nodes=644, min_samples_leaf=0.0101,\n",
      "                           n_estimators=134, random_state=75)\n",
      "['R_current_lose_streak', 'R_total_rounds_fought', 'B_avg_TD_pct', 'R_win_by_Decision_Split', 'R_avg_SIG_STR_landed', 'B_current_win_streak', 'B_match_weightclass_rank', 'B_Heavyweight_rank', 'loss_dif', 'R_avg_TD_landed', \"R_Women's Bantamweight_rank\", \"R_Women's Featherweight_rank\", 'B_Lightweight_rank', 'R_Featherweight_rank', 'R_Light Heavyweight_rank', 'total_title_bout_dif', 'R_losses', 'B_win_by_Submission', 'Blue - DEC', 'B_draw', 'R_Middleweight_rank', 'B_avg_SIG_STR_pct', \"B_Women's Strawweight_rank\", 'age_dif', 'B_Middleweight_rank', 'avg_sub_att_dif', 'avg_td_dif', 'B_avg_SUB_ATT', \"R_Women's Flyweight_rank\", 'R_Reach_cms', 'R_wins', 'B_ev', 'R_Weight_lbs', 'sub_dif', 'R_ev', 'B_avg_TD_landed']\n",
      "0\n",
      "\n"
     ]
    },
    {
     "data": {
      "text/plain": [
       "(2686, 36)"
      ]
     },
     "metadata": {},
     "output_type": "display_data"
    },
    {
     "data": {
      "text/plain": [
       "(2686,)"
      ]
     },
     "metadata": {},
     "output_type": "display_data"
    },
    {
     "data": {
      "text/plain": [
       "(2686, 6)"
      ]
     },
     "metadata": {},
     "output_type": "display_data"
    },
    {
     "data": {
      "text/plain": [
       "(242, 36)"
      ]
     },
     "metadata": {},
     "output_type": "display_data"
    },
    {
     "data": {
      "text/plain": [
       "(242,)"
      ]
     },
     "metadata": {},
     "output_type": "display_data"
    },
    {
     "data": {
      "text/plain": [
       "(242, 6)"
      ]
     },
     "metadata": {},
     "output_type": "display_data"
    },
    {
     "name": "stdout",
     "output_type": "stream",
     "text": [
      "250     5\n",
      "251     3\n",
      "252     3\n",
      "253     5\n",
      "254     0\n",
      "       ..\n",
      "4217    0\n",
      "4225    1\n",
      "4226    3\n",
      "4227    5\n",
      "4228    5\n",
      "Name: label, Length: 2686, dtype: int64\n",
      "Real Score: -182.78431022583982\n",
      "HI\n",
      "HI\n",
      "HI\n",
      "HI\n",
      "HI\n",
      "HI\n",
      "\n",
      "\n",
      "Starting New Run\n",
      "\n",
      "\n",
      "Previous Best Score: -7493.8092875781695\n",
      "144\n",
      "Criterion: friedman_mse n_estimators: 134 Loss: deviance Learning Rate: 0.1 Min Samples/Leaf: 0.0101 Max Depth: 94 Max Features: sqrt Max Leaf Nodes: 644 tol: 0.0001 Score: -7493.8092875781695\n",
      "Criterion: friedman_mse n_estimators: 27 Loss: deviance Learning Rate: 0.1 Min Samples/Leaf: 0.0101 Max Depth: 94 Max Features: sqrt Max Leaf Nodes: 644 tol: 0.0001 Score: -63356.33089667613\n",
      "Criterion: friedman_mse n_estimators: 134 Loss: deviance Learning Rate: 0.1 Min Samples/Leaf: 0.009999 Max Depth: 94 Max Features: sqrt Max Leaf Nodes: 644 tol: 0.0001 Score: -21147.11146882162\n",
      "Criterion: friedman_mse n_estimators: 27 Loss: deviance Learning Rate: 0.1 Min Samples/Leaf: 0.009999 Max Depth: 94 Max Features: sqrt Max Leaf Nodes: 644 tol: 0.0001 Score: -66207.31355826004\n",
      "Criterion: friedman_mse n_estimators: 134 Loss: deviance Learning Rate: 0.1 Min Samples/Leaf: 0.010201 Max Depth: 94 Max Features: sqrt Max Leaf Nodes: 644 tol: 0.0001 Score: -7493.8092875781695\n",
      "Criterion: friedman_mse n_estimators: 27 Loss: deviance Learning Rate: 0.1 Min Samples/Leaf: 0.010201 Max Depth: 94 Max Features: sqrt Max Leaf Nodes: 644 tol: 0.0001 Score: -63356.33089667613\n",
      "Criterion: friedman_mse n_estimators: 134 Loss: deviance Learning Rate: 0.1 Min Samples/Leaf: 0.0101 Max Depth: 70 Max Features: sqrt Max Leaf Nodes: 644 tol: 0.0001 Score: -7493.8092875781695\n",
      "Criterion: friedman_mse n_estimators: 27 Loss: deviance Learning Rate: 0.1 Min Samples/Leaf: 0.0101 Max Depth: 70 Max Features: sqrt Max Leaf Nodes: 644 tol: 0.0001 Score: -63356.33089667613\n",
      "Criterion: friedman_mse n_estimators: 134 Loss: deviance Learning Rate: 0.1 Min Samples/Leaf: 0.009999 Max Depth: 70 Max Features: sqrt Max Leaf Nodes: 644 tol: 0.0001 Score: -21147.11146882162\n",
      "Criterion: friedman_mse n_estimators: 27 Loss: deviance Learning Rate: 0.1 Min Samples/Leaf: 0.009999 Max Depth: 70 Max Features: sqrt Max Leaf Nodes: 644 tol: 0.0001 Score: -66207.31355826004\n",
      "Criterion: friedman_mse n_estimators: 134 Loss: deviance Learning Rate: 0.1 Min Samples/Leaf: 0.010201 Max Depth: 70 Max Features: sqrt Max Leaf Nodes: 644 tol: 0.0001 Score: -7493.8092875781695\n",
      "Criterion: friedman_mse n_estimators: 27 Loss: deviance Learning Rate: 0.1 Min Samples/Leaf: 0.010201 Max Depth: 70 Max Features: sqrt Max Leaf Nodes: 644 tol: 0.0001 Score: -63356.33089667613\n",
      "Criterion: friedman_mse n_estimators: 134 Loss: deviance Learning Rate: 0.1 Min Samples/Leaf: 0.0101 Max Depth: 94 Max Features: log2 Max Leaf Nodes: 644 tol: 0.0001 Score: -18876.223436437565\n",
      "Criterion: friedman_mse n_estimators: 27 Loss: deviance Learning Rate: 0.1 Min Samples/Leaf: 0.0101 Max Depth: 94 Max Features: log2 Max Leaf Nodes: 644 tol: 0.0001 Score: -44642.50490514502\n",
      "Criterion: friedman_mse n_estimators: 134 Loss: deviance Learning Rate: 0.1 Min Samples/Leaf: 0.009999 Max Depth: 94 Max Features: log2 Max Leaf Nodes: 644 tol: 0.0001 Score: -25452.787071396495\n",
      "Criterion: friedman_mse n_estimators: 27 Loss: deviance Learning Rate: 0.1 Min Samples/Leaf: 0.009999 Max Depth: 94 Max Features: log2 Max Leaf Nodes: 644 tol: 0.0001 Score: -67721.16587279626\n",
      "Criterion: friedman_mse n_estimators: 134 Loss: deviance Learning Rate: 0.1 Min Samples/Leaf: 0.010201 Max Depth: 94 Max Features: log2 Max Leaf Nodes: 644 tol: 0.0001 Score: -18876.223436437565\n",
      "Criterion: friedman_mse n_estimators: 27 Loss: deviance Learning Rate: 0.1 Min Samples/Leaf: 0.010201 Max Depth: 94 Max Features: log2 Max Leaf Nodes: 644 tol: 0.0001 Score: -44642.50490514502\n",
      "Criterion: friedman_mse n_estimators: 134 Loss: deviance Learning Rate: 0.1 Min Samples/Leaf: 0.0101 Max Depth: 70 Max Features: log2 Max Leaf Nodes: 644 tol: 0.0001 Score: -18876.223436437565\n",
      "Criterion: friedman_mse n_estimators: 27 Loss: deviance Learning Rate: 0.1 Min Samples/Leaf: 0.0101 Max Depth: 70 Max Features: log2 Max Leaf Nodes: 644 tol: 0.0001 Score: -44642.50490514502\n",
      "Criterion: friedman_mse n_estimators: 134 Loss: deviance Learning Rate: 0.1 Min Samples/Leaf: 0.009999 Max Depth: 70 Max Features: log2 Max Leaf Nodes: 644 tol: 0.0001 Score: -25452.787071396495\n",
      "Criterion: friedman_mse n_estimators: 27 Loss: deviance Learning Rate: 0.1 Min Samples/Leaf: 0.009999 Max Depth: 70 Max Features: log2 Max Leaf Nodes: 644 tol: 0.0001 Score: -67721.16587279626\n",
      "Criterion: friedman_mse n_estimators: 134 Loss: deviance Learning Rate: 0.1 Min Samples/Leaf: 0.010201 Max Depth: 70 Max Features: log2 Max Leaf Nodes: 644 tol: 0.0001 Score: -18876.223436437565\n",
      "Criterion: friedman_mse n_estimators: 27 Loss: deviance Learning Rate: 0.1 Min Samples/Leaf: 0.010201 Max Depth: 70 Max Features: log2 Max Leaf Nodes: 644 tol: 0.0001 Score: -44642.50490514502\n",
      "Criterion: friedman_mse n_estimators: 134 Loss: deviance Learning Rate: 0.1 Min Samples/Leaf: 0.0101 Max Depth: 94 Max Features: None Max Leaf Nodes: 644 tol: 0.0001 Score: -31636.899436509644\n",
      "Criterion: friedman_mse n_estimators: 27 Loss: deviance Learning Rate: 0.1 Min Samples/Leaf: 0.0101 Max Depth: 94 Max Features: None Max Leaf Nodes: 644 tol: 0.0001 Score: -64134.68558522462\n",
      "Criterion: friedman_mse n_estimators: 134 Loss: deviance Learning Rate: 0.1 Min Samples/Leaf: 0.009999 Max Depth: 94 Max Features: None Max Leaf Nodes: 644 tol: 0.0001 Score: -26183.06980548789\n",
      "Criterion: friedman_mse n_estimators: 27 Loss: deviance Learning Rate: 0.1 Min Samples/Leaf: 0.009999 Max Depth: 94 Max Features: None Max Leaf Nodes: 644 tol: 0.0001 Score: -40836.44738431457\n",
      "Criterion: friedman_mse n_estimators: 134 Loss: deviance Learning Rate: 0.1 Min Samples/Leaf: 0.010201 Max Depth: 94 Max Features: None Max Leaf Nodes: 644 tol: 0.0001 Score: -31636.899436509644\n",
      "Criterion: friedman_mse n_estimators: 27 Loss: deviance Learning Rate: 0.1 Min Samples/Leaf: 0.010201 Max Depth: 94 Max Features: None Max Leaf Nodes: 644 tol: 0.0001 Score: -64134.68558522462\n",
      "Criterion: friedman_mse n_estimators: 134 Loss: deviance Learning Rate: 0.1 Min Samples/Leaf: 0.0101 Max Depth: 70 Max Features: None Max Leaf Nodes: 644 tol: 0.0001 Score: -31636.899436509644\n",
      "Criterion: friedman_mse n_estimators: 27 Loss: deviance Learning Rate: 0.1 Min Samples/Leaf: 0.0101 Max Depth: 70 Max Features: None Max Leaf Nodes: 644 tol: 0.0001 Score: -64134.68558522462\n",
      "Criterion: friedman_mse n_estimators: 134 Loss: deviance Learning Rate: 0.1 Min Samples/Leaf: 0.009999 Max Depth: 70 Max Features: None Max Leaf Nodes: 644 tol: 0.0001 Score: -26183.06980548789\n",
      "Criterion: friedman_mse n_estimators: 27 Loss: deviance Learning Rate: 0.1 Min Samples/Leaf: 0.009999 Max Depth: 70 Max Features: None Max Leaf Nodes: 644 tol: 0.0001 Score: -40836.44738431457\n",
      "Criterion: friedman_mse n_estimators: 134 Loss: deviance Learning Rate: 0.1 Min Samples/Leaf: 0.010201 Max Depth: 70 Max Features: None Max Leaf Nodes: 644 tol: 0.0001 Score: -31636.899436509644\n",
      "Criterion: friedman_mse n_estimators: 27 Loss: deviance Learning Rate: 0.1 Min Samples/Leaf: 0.010201 Max Depth: 70 Max Features: None Max Leaf Nodes: 644 tol: 0.0001 Score: -64134.68558522462\n",
      "Criterion: friedman_mse n_estimators: 134 Loss: deviance Learning Rate: 0.1 Min Samples/Leaf: 0.0101 Max Depth: 94 Max Features: sqrt Max Leaf Nodes: 276 tol: 0.0001 Score: -7493.8092875781695\n",
      "Criterion: friedman_mse n_estimators: 27 Loss: deviance Learning Rate: 0.1 Min Samples/Leaf: 0.0101 Max Depth: 94 Max Features: sqrt Max Leaf Nodes: 276 tol: 0.0001 Score: -63356.33089667613\n",
      "Criterion: friedman_mse n_estimators: 134 Loss: deviance Learning Rate: 0.1 Min Samples/Leaf: 0.009999 Max Depth: 94 Max Features: sqrt Max Leaf Nodes: 276 tol: 0.0001 Score: -21147.11146882162\n",
      "Criterion: friedman_mse n_estimators: 27 Loss: deviance Learning Rate: 0.1 Min Samples/Leaf: 0.009999 Max Depth: 94 Max Features: sqrt Max Leaf Nodes: 276 tol: 0.0001 Score: -66207.31355826004\n",
      "Criterion: friedman_mse n_estimators: 134 Loss: deviance Learning Rate: 0.1 Min Samples/Leaf: 0.010201 Max Depth: 94 Max Features: sqrt Max Leaf Nodes: 276 tol: 0.0001 Score: -7493.8092875781695\n",
      "Criterion: friedman_mse n_estimators: 27 Loss: deviance Learning Rate: 0.1 Min Samples/Leaf: 0.010201 Max Depth: 94 Max Features: sqrt Max Leaf Nodes: 276 tol: 0.0001 Score: -63356.33089667613\n"
     ]
    },
    {
     "name": "stdout",
     "output_type": "stream",
     "text": [
      "Criterion: friedman_mse n_estimators: 134 Loss: deviance Learning Rate: 0.1 Min Samples/Leaf: 0.0101 Max Depth: 70 Max Features: sqrt Max Leaf Nodes: 276 tol: 0.0001 Score: -7493.8092875781695\n",
      "Criterion: friedman_mse n_estimators: 27 Loss: deviance Learning Rate: 0.1 Min Samples/Leaf: 0.0101 Max Depth: 70 Max Features: sqrt Max Leaf Nodes: 276 tol: 0.0001 Score: -63356.33089667613\n",
      "Criterion: friedman_mse n_estimators: 134 Loss: deviance Learning Rate: 0.1 Min Samples/Leaf: 0.009999 Max Depth: 70 Max Features: sqrt Max Leaf Nodes: 276 tol: 0.0001 Score: -21147.11146882162\n",
      "Criterion: friedman_mse n_estimators: 27 Loss: deviance Learning Rate: 0.1 Min Samples/Leaf: 0.009999 Max Depth: 70 Max Features: sqrt Max Leaf Nodes: 276 tol: 0.0001 Score: -66207.31355826004\n",
      "Criterion: friedman_mse n_estimators: 134 Loss: deviance Learning Rate: 0.1 Min Samples/Leaf: 0.010201 Max Depth: 70 Max Features: sqrt Max Leaf Nodes: 276 tol: 0.0001 Score: -7493.8092875781695\n",
      "Criterion: friedman_mse n_estimators: 27 Loss: deviance Learning Rate: 0.1 Min Samples/Leaf: 0.010201 Max Depth: 70 Max Features: sqrt Max Leaf Nodes: 276 tol: 0.0001 Score: -63356.33089667613\n",
      "Criterion: friedman_mse n_estimators: 134 Loss: deviance Learning Rate: 0.1 Min Samples/Leaf: 0.0101 Max Depth: 94 Max Features: log2 Max Leaf Nodes: 276 tol: 0.0001 Score: -18876.223436437565\n",
      "Criterion: friedman_mse n_estimators: 27 Loss: deviance Learning Rate: 0.1 Min Samples/Leaf: 0.0101 Max Depth: 94 Max Features: log2 Max Leaf Nodes: 276 tol: 0.0001 Score: -44642.50490514502\n",
      "Criterion: friedman_mse n_estimators: 134 Loss: deviance Learning Rate: 0.1 Min Samples/Leaf: 0.009999 Max Depth: 94 Max Features: log2 Max Leaf Nodes: 276 tol: 0.0001 Score: -25452.787071396495\n",
      "Criterion: friedman_mse n_estimators: 27 Loss: deviance Learning Rate: 0.1 Min Samples/Leaf: 0.009999 Max Depth: 94 Max Features: log2 Max Leaf Nodes: 276 tol: 0.0001 Score: -67721.16587279626\n",
      "Criterion: friedman_mse n_estimators: 134 Loss: deviance Learning Rate: 0.1 Min Samples/Leaf: 0.010201 Max Depth: 94 Max Features: log2 Max Leaf Nodes: 276 tol: 0.0001 Score: -18876.223436437565\n",
      "Criterion: friedman_mse n_estimators: 27 Loss: deviance Learning Rate: 0.1 Min Samples/Leaf: 0.010201 Max Depth: 94 Max Features: log2 Max Leaf Nodes: 276 tol: 0.0001 Score: -44642.50490514502\n",
      "Criterion: friedman_mse n_estimators: 134 Loss: deviance Learning Rate: 0.1 Min Samples/Leaf: 0.0101 Max Depth: 70 Max Features: log2 Max Leaf Nodes: 276 tol: 0.0001 Score: -18876.223436437565\n",
      "Criterion: friedman_mse n_estimators: 27 Loss: deviance Learning Rate: 0.1 Min Samples/Leaf: 0.0101 Max Depth: 70 Max Features: log2 Max Leaf Nodes: 276 tol: 0.0001 Score: -44642.50490514502\n",
      "Criterion: friedman_mse n_estimators: 134 Loss: deviance Learning Rate: 0.1 Min Samples/Leaf: 0.009999 Max Depth: 70 Max Features: log2 Max Leaf Nodes: 276 tol: 0.0001 Score: -25452.787071396495\n",
      "Criterion: friedman_mse n_estimators: 27 Loss: deviance Learning Rate: 0.1 Min Samples/Leaf: 0.009999 Max Depth: 70 Max Features: log2 Max Leaf Nodes: 276 tol: 0.0001 Score: -67721.16587279626\n",
      "Criterion: friedman_mse n_estimators: 134 Loss: deviance Learning Rate: 0.1 Min Samples/Leaf: 0.010201 Max Depth: 70 Max Features: log2 Max Leaf Nodes: 276 tol: 0.0001 Score: -18876.223436437565\n",
      "Criterion: friedman_mse n_estimators: 27 Loss: deviance Learning Rate: 0.1 Min Samples/Leaf: 0.010201 Max Depth: 70 Max Features: log2 Max Leaf Nodes: 276 tol: 0.0001 Score: -44642.50490514502\n",
      "Criterion: friedman_mse n_estimators: 134 Loss: deviance Learning Rate: 0.1 Min Samples/Leaf: 0.0101 Max Depth: 94 Max Features: None Max Leaf Nodes: 276 tol: 0.0001 Score: -31636.899436509644\n",
      "Criterion: friedman_mse n_estimators: 27 Loss: deviance Learning Rate: 0.1 Min Samples/Leaf: 0.0101 Max Depth: 94 Max Features: None Max Leaf Nodes: 276 tol: 0.0001 Score: -64134.68558522462\n",
      "Criterion: friedman_mse n_estimators: 134 Loss: deviance Learning Rate: 0.1 Min Samples/Leaf: 0.009999 Max Depth: 94 Max Features: None Max Leaf Nodes: 276 tol: 0.0001 Score: -26183.06980548789\n",
      "Criterion: friedman_mse n_estimators: 27 Loss: deviance Learning Rate: 0.1 Min Samples/Leaf: 0.009999 Max Depth: 94 Max Features: None Max Leaf Nodes: 276 tol: 0.0001 Score: -40836.44738431457\n",
      "Criterion: friedman_mse n_estimators: 134 Loss: deviance Learning Rate: 0.1 Min Samples/Leaf: 0.010201 Max Depth: 94 Max Features: None Max Leaf Nodes: 276 tol: 0.0001 Score: -31636.899436509644\n",
      "Criterion: friedman_mse n_estimators: 27 Loss: deviance Learning Rate: 0.1 Min Samples/Leaf: 0.010201 Max Depth: 94 Max Features: None Max Leaf Nodes: 276 tol: 0.0001 Score: -64134.68558522462\n",
      "Criterion: friedman_mse n_estimators: 134 Loss: deviance Learning Rate: 0.1 Min Samples/Leaf: 0.0101 Max Depth: 70 Max Features: None Max Leaf Nodes: 276 tol: 0.0001 Score: -31636.899436509644\n",
      "Criterion: friedman_mse n_estimators: 27 Loss: deviance Learning Rate: 0.1 Min Samples/Leaf: 0.0101 Max Depth: 70 Max Features: None Max Leaf Nodes: 276 tol: 0.0001 Score: -64134.68558522462\n",
      "Criterion: friedman_mse n_estimators: 134 Loss: deviance Learning Rate: 0.1 Min Samples/Leaf: 0.009999 Max Depth: 70 Max Features: None Max Leaf Nodes: 276 tol: 0.0001 Score: -26183.06980548789\n",
      "Criterion: friedman_mse n_estimators: 27 Loss: deviance Learning Rate: 0.1 Min Samples/Leaf: 0.009999 Max Depth: 70 Max Features: None Max Leaf Nodes: 276 tol: 0.0001 Score: -40836.44738431457\n",
      "Criterion: friedman_mse n_estimators: 134 Loss: deviance Learning Rate: 0.1 Min Samples/Leaf: 0.010201 Max Depth: 70 Max Features: None Max Leaf Nodes: 276 tol: 0.0001 Score: -31636.899436509644\n",
      "Criterion: friedman_mse n_estimators: 27 Loss: deviance Learning Rate: 0.1 Min Samples/Leaf: 0.010201 Max Depth: 70 Max Features: None Max Leaf Nodes: 276 tol: 0.0001 Score: -64134.68558522462\n",
      "Criterion: friedman_mse n_estimators: 134 Loss: deviance Learning Rate: 0.1 Min Samples/Leaf: 0.0101 Max Depth: 94 Max Features: sqrt Max Leaf Nodes: 644 tol: 0.042752600210953506 Score: -7493.8092875781695\n",
      "Criterion: friedman_mse n_estimators: 27 Loss: deviance Learning Rate: 0.1 Min Samples/Leaf: 0.0101 Max Depth: 94 Max Features: sqrt Max Leaf Nodes: 644 tol: 0.042752600210953506 Score: -63356.33089667613\n",
      "Criterion: friedman_mse n_estimators: 134 Loss: deviance Learning Rate: 0.1 Min Samples/Leaf: 0.009999 Max Depth: 94 Max Features: sqrt Max Leaf Nodes: 644 tol: 0.042752600210953506 Score: -21147.11146882162\n",
      "Criterion: friedman_mse n_estimators: 27 Loss: deviance Learning Rate: 0.1 Min Samples/Leaf: 0.009999 Max Depth: 94 Max Features: sqrt Max Leaf Nodes: 644 tol: 0.042752600210953506 Score: -66207.31355826004\n",
      "Criterion: friedman_mse n_estimators: 134 Loss: deviance Learning Rate: 0.1 Min Samples/Leaf: 0.010201 Max Depth: 94 Max Features: sqrt Max Leaf Nodes: 644 tol: 0.042752600210953506 Score: -7493.8092875781695\n",
      "Criterion: friedman_mse n_estimators: 27 Loss: deviance Learning Rate: 0.1 Min Samples/Leaf: 0.010201 Max Depth: 94 Max Features: sqrt Max Leaf Nodes: 644 tol: 0.042752600210953506 Score: -63356.33089667613\n",
      "Criterion: friedman_mse n_estimators: 134 Loss: deviance Learning Rate: 0.1 Min Samples/Leaf: 0.0101 Max Depth: 70 Max Features: sqrt Max Leaf Nodes: 644 tol: 0.042752600210953506 Score: -7493.8092875781695\n",
      "Criterion: friedman_mse n_estimators: 27 Loss: deviance Learning Rate: 0.1 Min Samples/Leaf: 0.0101 Max Depth: 70 Max Features: sqrt Max Leaf Nodes: 644 tol: 0.042752600210953506 Score: -63356.33089667613\n",
      "Criterion: friedman_mse n_estimators: 134 Loss: deviance Learning Rate: 0.1 Min Samples/Leaf: 0.009999 Max Depth: 70 Max Features: sqrt Max Leaf Nodes: 644 tol: 0.042752600210953506 Score: -21147.11146882162\n",
      "Criterion: friedman_mse n_estimators: 27 Loss: deviance Learning Rate: 0.1 Min Samples/Leaf: 0.009999 Max Depth: 70 Max Features: sqrt Max Leaf Nodes: 644 tol: 0.042752600210953506 Score: -66207.31355826004\n",
      "Criterion: friedman_mse n_estimators: 134 Loss: deviance Learning Rate: 0.1 Min Samples/Leaf: 0.010201 Max Depth: 70 Max Features: sqrt Max Leaf Nodes: 644 tol: 0.042752600210953506 Score: -7493.8092875781695\n",
      "Criterion: friedman_mse n_estimators: 27 Loss: deviance Learning Rate: 0.1 Min Samples/Leaf: 0.010201 Max Depth: 70 Max Features: sqrt Max Leaf Nodes: 644 tol: 0.042752600210953506 Score: -63356.33089667613\n"
     ]
    },
    {
     "name": "stdout",
     "output_type": "stream",
     "text": [
      "Criterion: friedman_mse n_estimators: 134 Loss: deviance Learning Rate: 0.1 Min Samples/Leaf: 0.0101 Max Depth: 94 Max Features: log2 Max Leaf Nodes: 644 tol: 0.042752600210953506 Score: -18876.223436437565\n",
      "Criterion: friedman_mse n_estimators: 27 Loss: deviance Learning Rate: 0.1 Min Samples/Leaf: 0.0101 Max Depth: 94 Max Features: log2 Max Leaf Nodes: 644 tol: 0.042752600210953506 Score: -44642.50490514502\n",
      "Criterion: friedman_mse n_estimators: 134 Loss: deviance Learning Rate: 0.1 Min Samples/Leaf: 0.009999 Max Depth: 94 Max Features: log2 Max Leaf Nodes: 644 tol: 0.042752600210953506 Score: -25452.787071396495\n",
      "Criterion: friedman_mse n_estimators: 27 Loss: deviance Learning Rate: 0.1 Min Samples/Leaf: 0.009999 Max Depth: 94 Max Features: log2 Max Leaf Nodes: 644 tol: 0.042752600210953506 Score: -67721.16587279626\n",
      "Criterion: friedman_mse n_estimators: 134 Loss: deviance Learning Rate: 0.1 Min Samples/Leaf: 0.010201 Max Depth: 94 Max Features: log2 Max Leaf Nodes: 644 tol: 0.042752600210953506 Score: -18876.223436437565\n",
      "Criterion: friedman_mse n_estimators: 27 Loss: deviance Learning Rate: 0.1 Min Samples/Leaf: 0.010201 Max Depth: 94 Max Features: log2 Max Leaf Nodes: 644 tol: 0.042752600210953506 Score: -44642.50490514502\n",
      "Criterion: friedman_mse n_estimators: 134 Loss: deviance Learning Rate: 0.1 Min Samples/Leaf: 0.0101 Max Depth: 70 Max Features: log2 Max Leaf Nodes: 644 tol: 0.042752600210953506 Score: -18876.223436437565\n",
      "Criterion: friedman_mse n_estimators: 27 Loss: deviance Learning Rate: 0.1 Min Samples/Leaf: 0.0101 Max Depth: 70 Max Features: log2 Max Leaf Nodes: 644 tol: 0.042752600210953506 Score: -44642.50490514502\n",
      "Criterion: friedman_mse n_estimators: 134 Loss: deviance Learning Rate: 0.1 Min Samples/Leaf: 0.009999 Max Depth: 70 Max Features: log2 Max Leaf Nodes: 644 tol: 0.042752600210953506 Score: -25452.787071396495\n",
      "Criterion: friedman_mse n_estimators: 27 Loss: deviance Learning Rate: 0.1 Min Samples/Leaf: 0.009999 Max Depth: 70 Max Features: log2 Max Leaf Nodes: 644 tol: 0.042752600210953506 Score: -67721.16587279626\n",
      "Criterion: friedman_mse n_estimators: 134 Loss: deviance Learning Rate: 0.1 Min Samples/Leaf: 0.010201 Max Depth: 70 Max Features: log2 Max Leaf Nodes: 644 tol: 0.042752600210953506 Score: -18876.223436437565\n",
      "Criterion: friedman_mse n_estimators: 27 Loss: deviance Learning Rate: 0.1 Min Samples/Leaf: 0.010201 Max Depth: 70 Max Features: log2 Max Leaf Nodes: 644 tol: 0.042752600210953506 Score: -44642.50490514502\n",
      "Criterion: friedman_mse n_estimators: 134 Loss: deviance Learning Rate: 0.1 Min Samples/Leaf: 0.0101 Max Depth: 94 Max Features: None Max Leaf Nodes: 644 tol: 0.042752600210953506 Score: -31636.899436509644\n",
      "Criterion: friedman_mse n_estimators: 27 Loss: deviance Learning Rate: 0.1 Min Samples/Leaf: 0.0101 Max Depth: 94 Max Features: None Max Leaf Nodes: 644 tol: 0.042752600210953506 Score: -64134.68558522462\n",
      "Criterion: friedman_mse n_estimators: 134 Loss: deviance Learning Rate: 0.1 Min Samples/Leaf: 0.009999 Max Depth: 94 Max Features: None Max Leaf Nodes: 644 tol: 0.042752600210953506 Score: -26183.06980548789\n",
      "Criterion: friedman_mse n_estimators: 27 Loss: deviance Learning Rate: 0.1 Min Samples/Leaf: 0.009999 Max Depth: 94 Max Features: None Max Leaf Nodes: 644 tol: 0.042752600210953506 Score: -40836.44738431457\n",
      "Criterion: friedman_mse n_estimators: 134 Loss: deviance Learning Rate: 0.1 Min Samples/Leaf: 0.010201 Max Depth: 94 Max Features: None Max Leaf Nodes: 644 tol: 0.042752600210953506 Score: -31636.899436509644\n",
      "Criterion: friedman_mse n_estimators: 27 Loss: deviance Learning Rate: 0.1 Min Samples/Leaf: 0.010201 Max Depth: 94 Max Features: None Max Leaf Nodes: 644 tol: 0.042752600210953506 Score: -64134.68558522462\n",
      "Criterion: friedman_mse n_estimators: 134 Loss: deviance Learning Rate: 0.1 Min Samples/Leaf: 0.0101 Max Depth: 70 Max Features: None Max Leaf Nodes: 644 tol: 0.042752600210953506 Score: -31636.899436509644\n",
      "Criterion: friedman_mse n_estimators: 27 Loss: deviance Learning Rate: 0.1 Min Samples/Leaf: 0.0101 Max Depth: 70 Max Features: None Max Leaf Nodes: 644 tol: 0.042752600210953506 Score: -64134.68558522462\n",
      "Criterion: friedman_mse n_estimators: 134 Loss: deviance Learning Rate: 0.1 Min Samples/Leaf: 0.009999 Max Depth: 70 Max Features: None Max Leaf Nodes: 644 tol: 0.042752600210953506 Score: -26183.06980548789\n",
      "Criterion: friedman_mse n_estimators: 27 Loss: deviance Learning Rate: 0.1 Min Samples/Leaf: 0.009999 Max Depth: 70 Max Features: None Max Leaf Nodes: 644 tol: 0.042752600210953506 Score: -40836.44738431457\n",
      "Criterion: friedman_mse n_estimators: 134 Loss: deviance Learning Rate: 0.1 Min Samples/Leaf: 0.010201 Max Depth: 70 Max Features: None Max Leaf Nodes: 644 tol: 0.042752600210953506 Score: -31636.899436509644\n",
      "Criterion: friedman_mse n_estimators: 27 Loss: deviance Learning Rate: 0.1 Min Samples/Leaf: 0.010201 Max Depth: 70 Max Features: None Max Leaf Nodes: 644 tol: 0.042752600210953506 Score: -64134.68558522462\n",
      "Criterion: friedman_mse n_estimators: 134 Loss: deviance Learning Rate: 0.1 Min Samples/Leaf: 0.0101 Max Depth: 94 Max Features: sqrt Max Leaf Nodes: 276 tol: 0.042752600210953506 Score: -7493.8092875781695\n",
      "Criterion: friedman_mse n_estimators: 27 Loss: deviance Learning Rate: 0.1 Min Samples/Leaf: 0.0101 Max Depth: 94 Max Features: sqrt Max Leaf Nodes: 276 tol: 0.042752600210953506 Score: -63356.33089667613\n",
      "Criterion: friedman_mse n_estimators: 134 Loss: deviance Learning Rate: 0.1 Min Samples/Leaf: 0.009999 Max Depth: 94 Max Features: sqrt Max Leaf Nodes: 276 tol: 0.042752600210953506 Score: -21147.11146882162\n",
      "Criterion: friedman_mse n_estimators: 27 Loss: deviance Learning Rate: 0.1 Min Samples/Leaf: 0.009999 Max Depth: 94 Max Features: sqrt Max Leaf Nodes: 276 tol: 0.042752600210953506 Score: -66207.31355826004\n",
      "Criterion: friedman_mse n_estimators: 134 Loss: deviance Learning Rate: 0.1 Min Samples/Leaf: 0.010201 Max Depth: 94 Max Features: sqrt Max Leaf Nodes: 276 tol: 0.042752600210953506 Score: -7493.8092875781695\n",
      "Criterion: friedman_mse n_estimators: 27 Loss: deviance Learning Rate: 0.1 Min Samples/Leaf: 0.010201 Max Depth: 94 Max Features: sqrt Max Leaf Nodes: 276 tol: 0.042752600210953506 Score: -63356.33089667613\n",
      "Criterion: friedman_mse n_estimators: 134 Loss: deviance Learning Rate: 0.1 Min Samples/Leaf: 0.0101 Max Depth: 70 Max Features: sqrt Max Leaf Nodes: 276 tol: 0.042752600210953506 Score: -7493.8092875781695\n",
      "Criterion: friedman_mse n_estimators: 27 Loss: deviance Learning Rate: 0.1 Min Samples/Leaf: 0.0101 Max Depth: 70 Max Features: sqrt Max Leaf Nodes: 276 tol: 0.042752600210953506 Score: -63356.33089667613\n",
      "Criterion: friedman_mse n_estimators: 134 Loss: deviance Learning Rate: 0.1 Min Samples/Leaf: 0.009999 Max Depth: 70 Max Features: sqrt Max Leaf Nodes: 276 tol: 0.042752600210953506 Score: -21147.11146882162\n",
      "Criterion: friedman_mse n_estimators: 27 Loss: deviance Learning Rate: 0.1 Min Samples/Leaf: 0.009999 Max Depth: 70 Max Features: sqrt Max Leaf Nodes: 276 tol: 0.042752600210953506 Score: -66207.31355826004\n",
      "Criterion: friedman_mse n_estimators: 134 Loss: deviance Learning Rate: 0.1 Min Samples/Leaf: 0.010201 Max Depth: 70 Max Features: sqrt Max Leaf Nodes: 276 tol: 0.042752600210953506 Score: -7493.8092875781695\n",
      "Criterion: friedman_mse n_estimators: 27 Loss: deviance Learning Rate: 0.1 Min Samples/Leaf: 0.010201 Max Depth: 70 Max Features: sqrt Max Leaf Nodes: 276 tol: 0.042752600210953506 Score: -63356.33089667613\n",
      "Criterion: friedman_mse n_estimators: 134 Loss: deviance Learning Rate: 0.1 Min Samples/Leaf: 0.0101 Max Depth: 94 Max Features: log2 Max Leaf Nodes: 276 tol: 0.042752600210953506 Score: -18876.223436437565\n",
      "Criterion: friedman_mse n_estimators: 27 Loss: deviance Learning Rate: 0.1 Min Samples/Leaf: 0.0101 Max Depth: 94 Max Features: log2 Max Leaf Nodes: 276 tol: 0.042752600210953506 Score: -44642.50490514502\n",
      "Criterion: friedman_mse n_estimators: 134 Loss: deviance Learning Rate: 0.1 Min Samples/Leaf: 0.009999 Max Depth: 94 Max Features: log2 Max Leaf Nodes: 276 tol: 0.042752600210953506 Score: -25452.787071396495\n",
      "Criterion: friedman_mse n_estimators: 27 Loss: deviance Learning Rate: 0.1 Min Samples/Leaf: 0.009999 Max Depth: 94 Max Features: log2 Max Leaf Nodes: 276 tol: 0.042752600210953506 Score: -67721.16587279626\n"
     ]
    },
    {
     "name": "stdout",
     "output_type": "stream",
     "text": [
      "Criterion: friedman_mse n_estimators: 134 Loss: deviance Learning Rate: 0.1 Min Samples/Leaf: 0.010201 Max Depth: 94 Max Features: log2 Max Leaf Nodes: 276 tol: 0.042752600210953506 Score: -18876.223436437565\n",
      "Criterion: friedman_mse n_estimators: 27 Loss: deviance Learning Rate: 0.1 Min Samples/Leaf: 0.010201 Max Depth: 94 Max Features: log2 Max Leaf Nodes: 276 tol: 0.042752600210953506 Score: -44642.50490514502\n",
      "Criterion: friedman_mse n_estimators: 134 Loss: deviance Learning Rate: 0.1 Min Samples/Leaf: 0.0101 Max Depth: 70 Max Features: log2 Max Leaf Nodes: 276 tol: 0.042752600210953506 Score: -18876.223436437565\n",
      "Criterion: friedman_mse n_estimators: 27 Loss: deviance Learning Rate: 0.1 Min Samples/Leaf: 0.0101 Max Depth: 70 Max Features: log2 Max Leaf Nodes: 276 tol: 0.042752600210953506 Score: -44642.50490514502\n",
      "Criterion: friedman_mse n_estimators: 134 Loss: deviance Learning Rate: 0.1 Min Samples/Leaf: 0.009999 Max Depth: 70 Max Features: log2 Max Leaf Nodes: 276 tol: 0.042752600210953506 Score: -25452.787071396495\n",
      "Criterion: friedman_mse n_estimators: 27 Loss: deviance Learning Rate: 0.1 Min Samples/Leaf: 0.009999 Max Depth: 70 Max Features: log2 Max Leaf Nodes: 276 tol: 0.042752600210953506 Score: -67721.16587279626\n",
      "Criterion: friedman_mse n_estimators: 134 Loss: deviance Learning Rate: 0.1 Min Samples/Leaf: 0.010201 Max Depth: 70 Max Features: log2 Max Leaf Nodes: 276 tol: 0.042752600210953506 Score: -18876.223436437565\n",
      "Criterion: friedman_mse n_estimators: 27 Loss: deviance Learning Rate: 0.1 Min Samples/Leaf: 0.010201 Max Depth: 70 Max Features: log2 Max Leaf Nodes: 276 tol: 0.042752600210953506 Score: -44642.50490514502\n",
      "Criterion: friedman_mse n_estimators: 134 Loss: deviance Learning Rate: 0.1 Min Samples/Leaf: 0.0101 Max Depth: 94 Max Features: None Max Leaf Nodes: 276 tol: 0.042752600210953506 Score: -31636.899436509644\n",
      "Criterion: friedman_mse n_estimators: 27 Loss: deviance Learning Rate: 0.1 Min Samples/Leaf: 0.0101 Max Depth: 94 Max Features: None Max Leaf Nodes: 276 tol: 0.042752600210953506 Score: -64134.68558522462\n",
      "Criterion: friedman_mse n_estimators: 134 Loss: deviance Learning Rate: 0.1 Min Samples/Leaf: 0.009999 Max Depth: 94 Max Features: None Max Leaf Nodes: 276 tol: 0.042752600210953506 Score: -26183.06980548789\n",
      "Criterion: friedman_mse n_estimators: 27 Loss: deviance Learning Rate: 0.1 Min Samples/Leaf: 0.009999 Max Depth: 94 Max Features: None Max Leaf Nodes: 276 tol: 0.042752600210953506 Score: -40836.44738431457\n",
      "Criterion: friedman_mse n_estimators: 134 Loss: deviance Learning Rate: 0.1 Min Samples/Leaf: 0.010201 Max Depth: 94 Max Features: None Max Leaf Nodes: 276 tol: 0.042752600210953506 Score: -31636.899436509644\n",
      "Criterion: friedman_mse n_estimators: 27 Loss: deviance Learning Rate: 0.1 Min Samples/Leaf: 0.010201 Max Depth: 94 Max Features: None Max Leaf Nodes: 276 tol: 0.042752600210953506 Score: -64134.68558522462\n",
      "Criterion: friedman_mse n_estimators: 134 Loss: deviance Learning Rate: 0.1 Min Samples/Leaf: 0.0101 Max Depth: 70 Max Features: None Max Leaf Nodes: 276 tol: 0.042752600210953506 Score: -31636.899436509644\n",
      "Criterion: friedman_mse n_estimators: 27 Loss: deviance Learning Rate: 0.1 Min Samples/Leaf: 0.0101 Max Depth: 70 Max Features: None Max Leaf Nodes: 276 tol: 0.042752600210953506 Score: -64134.68558522462\n",
      "Criterion: friedman_mse n_estimators: 134 Loss: deviance Learning Rate: 0.1 Min Samples/Leaf: 0.009999 Max Depth: 70 Max Features: None Max Leaf Nodes: 276 tol: 0.042752600210953506 Score: -26183.06980548789\n",
      "Criterion: friedman_mse n_estimators: 27 Loss: deviance Learning Rate: 0.1 Min Samples/Leaf: 0.009999 Max Depth: 70 Max Features: None Max Leaf Nodes: 276 tol: 0.042752600210953506 Score: -40836.44738431457\n",
      "Criterion: friedman_mse n_estimators: 134 Loss: deviance Learning Rate: 0.1 Min Samples/Leaf: 0.010201 Max Depth: 70 Max Features: None Max Leaf Nodes: 276 tol: 0.042752600210953506 Score: -31636.899436509644\n",
      "Criterion: friedman_mse n_estimators: 27 Loss: deviance Learning Rate: 0.1 Min Samples/Leaf: 0.010201 Max Depth: 70 Max Features: None Max Leaf Nodes: 276 tol: 0.042752600210953506 Score: -64134.68558522462\n",
      "Real output model: GradientBoostingClassifier(max_depth=94, max_features='sqrt',\n",
      "                           max_leaf_nodes=644, min_samples_leaf=0.0101,\n",
      "                           n_estimators=134, random_state=75)\n",
      "\n",
      "model_3\n",
      "GradientBoostingClassifier(max_depth=94, max_features='sqrt',\n",
      "                           max_leaf_nodes=644, min_samples_leaf=0.0101,\n",
      "                           n_estimators=134, random_state=75)\n",
      "['R_current_lose_streak', 'R_total_rounds_fought', 'B_avg_TD_pct', 'R_win_by_Decision_Split', 'R_avg_SIG_STR_landed', 'B_current_win_streak', 'B_match_weightclass_rank', 'B_Heavyweight_rank', 'loss_dif', 'R_avg_TD_landed', \"R_Women's Bantamweight_rank\", \"R_Women's Featherweight_rank\", 'B_Lightweight_rank', 'R_Featherweight_rank', 'R_Light Heavyweight_rank', 'total_title_bout_dif', 'R_losses', 'B_win_by_Submission', 'Blue - DEC', 'B_draw', 'R_Middleweight_rank', 'B_avg_SIG_STR_pct', \"B_Women's Strawweight_rank\", 'age_dif', 'B_Middleweight_rank', 'avg_sub_att_dif', 'avg_td_dif', 'B_avg_SUB_ATT', \"R_Women's Flyweight_rank\", 'R_Reach_cms', 'R_wins', 'B_ev', 'R_Weight_lbs', 'sub_dif', 'R_ev', 'B_avg_TD_landed']\n",
      "0\n",
      "\n"
     ]
    },
    {
     "data": {
      "text/plain": [
       "(2686, 36)"
      ]
     },
     "metadata": {},
     "output_type": "display_data"
    },
    {
     "data": {
      "text/plain": [
       "(2686,)"
      ]
     },
     "metadata": {},
     "output_type": "display_data"
    },
    {
     "data": {
      "text/plain": [
       "(2686, 6)"
      ]
     },
     "metadata": {},
     "output_type": "display_data"
    },
    {
     "data": {
      "text/plain": [
       "(242, 36)"
      ]
     },
     "metadata": {},
     "output_type": "display_data"
    },
    {
     "data": {
      "text/plain": [
       "(242,)"
      ]
     },
     "metadata": {},
     "output_type": "display_data"
    },
    {
     "data": {
      "text/plain": [
       "(242, 6)"
      ]
     },
     "metadata": {},
     "output_type": "display_data"
    },
    {
     "name": "stdout",
     "output_type": "stream",
     "text": [
      "250     5\n",
      "251     3\n",
      "252     3\n",
      "253     5\n",
      "254     0\n",
      "       ..\n",
      "4217    0\n",
      "4225    1\n",
      "4226    3\n",
      "4227    5\n",
      "4228    5\n",
      "Name: label, Length: 2686, dtype: int64\n",
      "Real Score: -182.78431022583982\n",
      "HI\n",
      "HI\n",
      "HI\n",
      "HI\n",
      "HI\n",
      "\n",
      "model_3\n",
      "GradientBoostingClassifier(max_depth=94, max_features='sqrt',\n",
      "                           max_leaf_nodes=644, min_samples_leaf=0.0101,\n",
      "                           n_estimators=134, random_state=75)\n",
      "['R_current_lose_streak', 'R_total_rounds_fought', 'B_avg_TD_pct', 'R_win_by_Decision_Split', 'R_avg_SIG_STR_landed', 'B_current_win_streak', 'B_match_weightclass_rank', 'B_Heavyweight_rank', 'loss_dif', 'R_avg_TD_landed', \"R_Women's Bantamweight_rank\", \"R_Women's Featherweight_rank\", 'B_Lightweight_rank', 'R_Featherweight_rank', 'R_Light Heavyweight_rank', 'total_title_bout_dif', 'R_losses', 'B_win_by_Submission', 'Blue - DEC', 'B_draw', 'R_Middleweight_rank', 'B_avg_SIG_STR_pct', \"B_Women's Strawweight_rank\", 'age_dif', 'B_Middleweight_rank', 'avg_sub_att_dif', 'avg_td_dif', 'B_avg_SUB_ATT', \"R_Women's Flyweight_rank\", 'R_Reach_cms', 'R_wins', 'B_ev', 'R_Weight_lbs', 'sub_dif', 'R_ev', 'B_avg_TD_landed']\n",
      "0\n",
      "\n"
     ]
    },
    {
     "data": {
      "text/plain": [
       "(2686, 36)"
      ]
     },
     "metadata": {},
     "output_type": "display_data"
    },
    {
     "data": {
      "text/plain": [
       "(2686,)"
      ]
     },
     "metadata": {},
     "output_type": "display_data"
    },
    {
     "data": {
      "text/plain": [
       "(2686, 6)"
      ]
     },
     "metadata": {},
     "output_type": "display_data"
    },
    {
     "data": {
      "text/plain": [
       "(242, 36)"
      ]
     },
     "metadata": {},
     "output_type": "display_data"
    },
    {
     "data": {
      "text/plain": [
       "(242,)"
      ]
     },
     "metadata": {},
     "output_type": "display_data"
    },
    {
     "data": {
      "text/plain": [
       "(242, 6)"
      ]
     },
     "metadata": {},
     "output_type": "display_data"
    },
    {
     "name": "stdout",
     "output_type": "stream",
     "text": [
      "250     5\n",
      "251     3\n",
      "252     3\n",
      "253     5\n",
      "254     0\n",
      "       ..\n",
      "4217    0\n",
      "4225    1\n",
      "4226    3\n",
      "4227    5\n",
      "4228    5\n",
      "Name: label, Length: 2686, dtype: int64\n",
      "Real Score: -182.78431022583982\n",
      "HI\n",
      "HI\n",
      "HI\n",
      "HI\n",
      "HI\n",
      "The original score is -7493.8092875781695\n",
      "\n",
      "model_3\n",
      "GradientBoostingClassifier(max_depth=94, max_features='sqrt',\n",
      "                           max_leaf_nodes=644, min_samples_leaf=0.0101,\n",
      "                           n_estimators=134, random_state=75)\n",
      "['R_current_lose_streak', 'R_total_rounds_fought', 'B_avg_TD_pct', 'R_win_by_Decision_Split', 'R_avg_SIG_STR_landed', 'B_current_win_streak', 'B_match_weightclass_rank', 'B_Heavyweight_rank', 'loss_dif', 'R_avg_TD_landed', \"R_Women's Bantamweight_rank\", \"R_Women's Featherweight_rank\", 'B_Lightweight_rank', 'R_Featherweight_rank', 'R_Light Heavyweight_rank', 'total_title_bout_dif', 'R_losses', 'B_win_by_Submission', 'Blue - DEC', 'B_draw', 'R_Middleweight_rank', 'B_avg_SIG_STR_pct', \"B_Women's Strawweight_rank\", 'age_dif', 'B_Middleweight_rank', 'avg_sub_att_dif', 'avg_td_dif', 'B_avg_SUB_ATT', \"R_Women's Flyweight_rank\", 'R_Reach_cms', 'R_wins', 'B_ev', 'R_Weight_lbs', 'sub_dif', 'R_ev', 'B_avg_TD_landed']\n",
      "0\n",
      "\n"
     ]
    },
    {
     "data": {
      "text/plain": [
       "(2686, 36)"
      ]
     },
     "metadata": {},
     "output_type": "display_data"
    },
    {
     "data": {
      "text/plain": [
       "(2686,)"
      ]
     },
     "metadata": {},
     "output_type": "display_data"
    },
    {
     "data": {
      "text/plain": [
       "(2686, 6)"
      ]
     },
     "metadata": {},
     "output_type": "display_data"
    },
    {
     "data": {
      "text/plain": [
       "(242, 36)"
      ]
     },
     "metadata": {},
     "output_type": "display_data"
    },
    {
     "data": {
      "text/plain": [
       "(242,)"
      ]
     },
     "metadata": {},
     "output_type": "display_data"
    },
    {
     "data": {
      "text/plain": [
       "(242, 6)"
      ]
     },
     "metadata": {},
     "output_type": "display_data"
    },
    {
     "name": "stdout",
     "output_type": "stream",
     "text": [
      "250     5\n",
      "251     3\n",
      "252     3\n",
      "253     5\n",
      "254     0\n",
      "       ..\n",
      "4217    0\n",
      "4225    1\n",
      "4226    3\n",
      "4227    5\n",
      "4228    5\n",
      "Name: label, Length: 2686, dtype: int64\n",
      "Real Score: -182.78431022583982\n",
      "HI\n",
      "HI\n",
      "HI\n",
      "HI\n",
      "HI\n",
      "\n",
      "\n",
      "OPTIMIZING MODEL 4\n",
      "\n",
      "\n",
      "model_4\n",
      "GaussianNB(var_smoothing=1e-06)\n",
      "['B_longest_win_streak', 'total_round_dif', 'height_dif', 'B_match_weightclass_rank', 'R_win_by_Decision_Unanimous', 'R_Height_cms', 'B_Light Heavyweight_rank', 'empty_arena', 'sig_str_dif', \"R_Women's Bantamweight_rank\", 'avg_sub_att_dif', 'R_avg_TD_pct', 'R_Weight_lbs', 'R_avg_SUB_ATT', 'Red - KO/TKO', 'longest_win_streak_dif', 'B_wins', 'Blue - SUB', \"B_Women's Bantamweight_rank\", 'R_match_weightclass_rank', 'R_current_lose_streak', 'B_Stance', 'R_win_by_Decision_Split', 'no_of_rounds', 'Blue - KO/TKO', 'B_losses', 'title_bout', 'R_Featherweight_rank', 'R_Light Heavyweight_rank', 'Blue - DEC', 'R_Middleweight_rank', 'avg_td_dif', 'B_avg_SUB_ATT', 'R_Pound-for-Pound_rank', 'R_Reach_cms', 'B_ev']\n",
      "0\n",
      "Current best score is: -36913.930139730626\n",
      "Feature: B_odds Score: -36315.45479343949\n",
      "Feature: gender Score: -33886.71522665078\n",
      "Feature: B_avg_SIG_STR_landed Score: -32277.41864407027\n",
      "Feature: R_avg_SIG_STR_landed Score: -27218.751977403605\n",
      "The best feature was R_avg_SIG_STR_landed.  It scored -27218.751977403605\n",
      "Current best score is: -27218.751977403605\n",
      "Feature: R_odds Score: -23804.202540799273\n",
      "Feature: B_avg_TD_landed Score: -22429.43836197543\n",
      "The best feature was B_avg_TD_landed.  It scored -22429.43836197543\n",
      "Current best score is: -22429.43836197543\n",
      "NO IMPROVEMENT\n",
      "FINAL BEST SCORE: -22429.43836197543\n",
      "\n",
      "model_4\n",
      "GaussianNB(var_smoothing=1e-06)\n",
      "['B_avg_TD_landed', 'R_avg_SIG_STR_landed', 'B_longest_win_streak', 'total_round_dif', 'height_dif', 'B_match_weightclass_rank', 'R_win_by_Decision_Unanimous', 'R_Height_cms', 'B_Light Heavyweight_rank', 'empty_arena', 'sig_str_dif', \"R_Women's Bantamweight_rank\", 'avg_sub_att_dif', 'R_avg_TD_pct', 'R_Weight_lbs', 'R_avg_SUB_ATT', 'Red - KO/TKO', 'longest_win_streak_dif', 'B_wins', 'Blue - SUB', \"B_Women's Bantamweight_rank\", 'R_match_weightclass_rank', 'R_current_lose_streak', 'B_Stance', 'R_win_by_Decision_Split', 'no_of_rounds', 'Blue - KO/TKO', 'B_losses', 'title_bout', 'R_Featherweight_rank', 'R_Light Heavyweight_rank', 'Blue - DEC', 'R_Middleweight_rank', 'avg_td_dif', 'B_avg_SUB_ATT', 'R_Pound-for-Pound_rank', 'R_Reach_cms', 'B_ev']\n",
      "0\n",
      "\n"
     ]
    },
    {
     "data": {
      "text/plain": [
       "(2686, 40)"
      ]
     },
     "metadata": {},
     "output_type": "display_data"
    },
    {
     "data": {
      "text/plain": [
       "(2686,)"
      ]
     },
     "metadata": {},
     "output_type": "display_data"
    },
    {
     "data": {
      "text/plain": [
       "(2686, 6)"
      ]
     },
     "metadata": {},
     "output_type": "display_data"
    },
    {
     "data": {
      "text/plain": [
       "(240, 40)"
      ]
     },
     "metadata": {},
     "output_type": "display_data"
    },
    {
     "data": {
      "text/plain": [
       "(240,)"
      ]
     },
     "metadata": {},
     "output_type": "display_data"
    },
    {
     "data": {
      "text/plain": [
       "(240, 6)"
      ]
     },
     "metadata": {},
     "output_type": "display_data"
    },
    {
     "name": "stdout",
     "output_type": "stream",
     "text": [
      "250     5\n",
      "251     3\n",
      "252     3\n",
      "253     5\n",
      "254     0\n",
      "       ..\n",
      "4217    0\n",
      "4225    1\n",
      "4226    3\n",
      "4227    5\n",
      "4228    5\n",
      "Name: label, Length: 2686, dtype: int64\n",
      "Real Score: -976.0593512767425\n",
      "HI\n",
      "HI\n",
      "HI\n",
      "HI\n",
      "HI\n",
      "\n",
      "\n",
      "Starting New Run for GaussianNB\n",
      "\n",
      "\n",
      "Previous Best Score: -22429.43836197543\n",
      "var_smoothing: 1e-12 Score: -22429.43836197543\n",
      "var_smoothing: 1e-11 Score: -22429.43836197543\n",
      "var_smoothing: 1e-10 Score: -22429.43836197543\n",
      "var_smoothing: 1e-09 Score: -22429.43836197543\n",
      "var_smoothing: 1e-08 Score: -22429.43836197543\n",
      "var_smoothing: 1e-07 Score: -22429.43836197543\n",
      "var_smoothing: 1e-06 Score: -22429.43836197543\n",
      "Real output model: GaussianNB(var_smoothing=1e-06)\n",
      "\n",
      "model_4\n",
      "GaussianNB(var_smoothing=1e-06)\n",
      "['B_avg_TD_landed', 'R_avg_SIG_STR_landed', 'B_longest_win_streak', 'total_round_dif', 'height_dif', 'B_match_weightclass_rank', 'R_win_by_Decision_Unanimous', 'R_Height_cms', 'B_Light Heavyweight_rank', 'empty_arena', 'sig_str_dif', \"R_Women's Bantamweight_rank\", 'avg_sub_att_dif', 'R_avg_TD_pct', 'R_Weight_lbs', 'R_avg_SUB_ATT', 'Red - KO/TKO', 'longest_win_streak_dif', 'B_wins', 'Blue - SUB', \"B_Women's Bantamweight_rank\", 'R_match_weightclass_rank', 'R_current_lose_streak', 'B_Stance', 'R_win_by_Decision_Split', 'no_of_rounds', 'Blue - KO/TKO', 'B_losses', 'title_bout', 'R_Featherweight_rank', 'R_Light Heavyweight_rank', 'Blue - DEC', 'R_Middleweight_rank', 'avg_td_dif', 'B_avg_SUB_ATT', 'R_Pound-for-Pound_rank', 'R_Reach_cms', 'B_ev']\n",
      "0\n",
      "\n"
     ]
    },
    {
     "data": {
      "text/plain": [
       "(2686, 40)"
      ]
     },
     "metadata": {},
     "output_type": "display_data"
    },
    {
     "data": {
      "text/plain": [
       "(2686,)"
      ]
     },
     "metadata": {},
     "output_type": "display_data"
    },
    {
     "data": {
      "text/plain": [
       "(2686, 6)"
      ]
     },
     "metadata": {},
     "output_type": "display_data"
    },
    {
     "data": {
      "text/plain": [
       "(240, 40)"
      ]
     },
     "metadata": {},
     "output_type": "display_data"
    },
    {
     "data": {
      "text/plain": [
       "(240,)"
      ]
     },
     "metadata": {},
     "output_type": "display_data"
    },
    {
     "data": {
      "text/plain": [
       "(240, 6)"
      ]
     },
     "metadata": {},
     "output_type": "display_data"
    },
    {
     "name": "stdout",
     "output_type": "stream",
     "text": [
      "250     5\n",
      "251     3\n",
      "252     3\n",
      "253     5\n",
      "254     0\n",
      "       ..\n",
      "4217    0\n",
      "4225    1\n",
      "4226    3\n",
      "4227    5\n",
      "4228    5\n",
      "Name: label, Length: 2686, dtype: int64\n",
      "Real Score: -976.0593512767425\n",
      "HI\n",
      "HI\n",
      "HI\n",
      "HI\n",
      "HI\n",
      "\n",
      "model_4\n",
      "GaussianNB(var_smoothing=1e-06)\n",
      "['B_avg_TD_landed', 'R_avg_SIG_STR_landed', 'B_longest_win_streak', 'total_round_dif', 'height_dif', 'B_match_weightclass_rank', 'R_win_by_Decision_Unanimous', 'R_Height_cms', 'B_Light Heavyweight_rank', 'empty_arena', 'sig_str_dif', \"R_Women's Bantamweight_rank\", 'avg_sub_att_dif', 'R_avg_TD_pct', 'R_Weight_lbs', 'R_avg_SUB_ATT', 'Red - KO/TKO', 'longest_win_streak_dif', 'B_wins', 'Blue - SUB', \"B_Women's Bantamweight_rank\", 'R_match_weightclass_rank', 'R_current_lose_streak', 'B_Stance', 'R_win_by_Decision_Split', 'no_of_rounds', 'Blue - KO/TKO', 'B_losses', 'title_bout', 'R_Featherweight_rank', 'R_Light Heavyweight_rank', 'Blue - DEC', 'R_Middleweight_rank', 'avg_td_dif', 'B_avg_SUB_ATT', 'R_Pound-for-Pound_rank', 'R_Reach_cms', 'B_ev']\n",
      "0\n",
      "\n"
     ]
    },
    {
     "data": {
      "text/plain": [
       "(2686, 40)"
      ]
     },
     "metadata": {},
     "output_type": "display_data"
    },
    {
     "data": {
      "text/plain": [
       "(2686,)"
      ]
     },
     "metadata": {},
     "output_type": "display_data"
    },
    {
     "data": {
      "text/plain": [
       "(2686, 6)"
      ]
     },
     "metadata": {},
     "output_type": "display_data"
    },
    {
     "data": {
      "text/plain": [
       "(240, 40)"
      ]
     },
     "metadata": {},
     "output_type": "display_data"
    },
    {
     "data": {
      "text/plain": [
       "(240,)"
      ]
     },
     "metadata": {},
     "output_type": "display_data"
    },
    {
     "data": {
      "text/plain": [
       "(240, 6)"
      ]
     },
     "metadata": {},
     "output_type": "display_data"
    },
    {
     "name": "stdout",
     "output_type": "stream",
     "text": [
      "250     5\n",
      "251     3\n",
      "252     3\n",
      "253     5\n",
      "254     0\n",
      "       ..\n",
      "4217    0\n",
      "4225    1\n",
      "4226    3\n",
      "4227    5\n",
      "4228    5\n",
      "Name: label, Length: 2686, dtype: int64\n",
      "Real Score: -976.0593512767425\n",
      "HI\n",
      "HI\n",
      "HI\n",
      "HI\n",
      "HI\n",
      "The original score is -22429.43836197543\n",
      "NEW BEST FEATURE SET WITH: date REMOVED -22082.02077955785\n",
      "NEW BEST FEATURE SET WITH: Winner REMOVED -20405.4612309983\n",
      "NEW BEST FEATURE SET WITH: B_win_by_Decision_Majority REMOVED -18364.50546295822\n",
      "The original score is -18364.50546295822\n",
      "NEW BEST FEATURE SET WITH: date REMOVED -16080.973972942862\n",
      "NEW BEST FEATURE SET WITH: weight_class REMOVED -14089.563209779722\n",
      "The original score is -14089.563209779722\n",
      "NEW BEST FEATURE SET WITH: Winner REMOVED -13139.167080567804\n",
      "NEW BEST FEATURE SET WITH: B_Stance REMOVED -12177.962390434179\n",
      "The original score is -12177.962390434179\n",
      "NEW BEST FEATURE SET WITH: R_odds REMOVED -11702.765479237267\n",
      "NEW BEST FEATURE SET WITH: Winner REMOVED -9019.462390434179\n",
      "The original score is -9019.462390434179\n",
      "\n",
      "model_4\n",
      "GaussianNB(var_smoothing=1e-06)\n",
      "['B_avg_TD_landed', 'R_avg_SIG_STR_landed', 'B_longest_win_streak', 'total_round_dif', 'height_dif', 'B_match_weightclass_rank', 'R_win_by_Decision_Unanimous', 'R_Height_cms', 'B_Light Heavyweight_rank', 'sig_str_dif', 'avg_sub_att_dif', 'R_avg_TD_pct', 'R_Weight_lbs', 'R_avg_SUB_ATT', 'Red - KO/TKO', 'longest_win_streak_dif', 'B_wins', 'Blue - SUB', \"B_Women's Bantamweight_rank\", 'R_match_weightclass_rank', 'R_current_lose_streak', 'B_Stance', 'R_win_by_Decision_Split', 'no_of_rounds', 'B_losses', 'title_bout', 'R_Featherweight_rank', 'R_Light Heavyweight_rank', 'Blue - DEC', 'R_Middleweight_rank', 'avg_td_dif', 'B_avg_SUB_ATT', 'R_Reach_cms', 'B_ev']\n",
      "0\n",
      "\n"
     ]
    },
    {
     "data": {
      "text/plain": [
       "(2686, 36)"
      ]
     },
     "metadata": {},
     "output_type": "display_data"
    },
    {
     "data": {
      "text/plain": [
       "(2686,)"
      ]
     },
     "metadata": {},
     "output_type": "display_data"
    },
    {
     "data": {
      "text/plain": [
       "(2686, 6)"
      ]
     },
     "metadata": {},
     "output_type": "display_data"
    },
    {
     "data": {
      "text/plain": [
       "(240, 36)"
      ]
     },
     "metadata": {},
     "output_type": "display_data"
    },
    {
     "data": {
      "text/plain": [
       "(240,)"
      ]
     },
     "metadata": {},
     "output_type": "display_data"
    },
    {
     "data": {
      "text/plain": [
       "(240, 6)"
      ]
     },
     "metadata": {},
     "output_type": "display_data"
    },
    {
     "name": "stdout",
     "output_type": "stream",
     "text": [
      "250     5\n",
      "251     3\n",
      "252     3\n",
      "253     5\n",
      "254     0\n",
      "       ..\n",
      "4217    0\n",
      "4225    1\n",
      "4226    3\n",
      "4227    5\n",
      "4228    5\n",
      "Name: label, Length: 2686, dtype: int64\n",
      "Real Score: -1764.7233201581028\n",
      "HI\n",
      "HI\n",
      "HI\n",
      "HI\n",
      "HI\n",
      "The features are different\n",
      "OLD:\n",
      "['B_avg_TD_landed', 'R_avg_SIG_STR_landed', 'B_longest_win_streak', 'total_round_dif', 'height_dif', 'B_match_weightclass_rank', 'R_win_by_Decision_Unanimous', 'R_Height_cms', 'B_Light Heavyweight_rank', 'empty_arena', 'sig_str_dif', \"R_Women's Bantamweight_rank\", 'avg_sub_att_dif', 'R_avg_TD_pct', 'R_Weight_lbs', 'R_avg_SUB_ATT', 'Red - KO/TKO', 'longest_win_streak_dif', 'B_wins', 'Blue - SUB', \"B_Women's Bantamweight_rank\", 'R_match_weightclass_rank', 'R_current_lose_streak', 'B_Stance', 'R_win_by_Decision_Split', 'no_of_rounds', 'Blue - KO/TKO', 'B_losses', 'title_bout', 'R_Featherweight_rank', 'R_Light Heavyweight_rank', 'Blue - DEC', 'R_Middleweight_rank', 'avg_td_dif', 'B_avg_SUB_ATT', 'R_Pound-for-Pound_rank', 'R_Reach_cms', 'B_ev']\n",
      "NEW:\n",
      "['B_avg_TD_landed', 'R_avg_SIG_STR_landed', 'B_longest_win_streak', 'total_round_dif', 'height_dif', 'B_match_weightclass_rank', 'R_win_by_Decision_Unanimous', 'R_Height_cms', 'B_Light Heavyweight_rank', 'sig_str_dif', 'avg_sub_att_dif', 'R_avg_TD_pct', 'R_Weight_lbs', 'R_avg_SUB_ATT', 'Red - KO/TKO', 'longest_win_streak_dif', 'B_wins', 'Blue - SUB', \"B_Women's Bantamweight_rank\", 'R_match_weightclass_rank', 'R_current_lose_streak', 'B_Stance', 'R_win_by_Decision_Split', 'no_of_rounds', 'B_losses', 'title_bout', 'R_Featherweight_rank', 'R_Light Heavyweight_rank', 'Blue - DEC', 'R_Middleweight_rank', 'avg_td_dif', 'B_avg_SUB_ATT', 'R_Reach_cms', 'B_ev']\n",
      "Current best score is: -9019.462390434179\n",
      "Feature: B_total_rounds_fought Score: -7007.771354197689\n",
      "The best feature was B_total_rounds_fought.  It scored -7007.771354197689\n",
      "Current best score is: -7007.771354197689\n",
      "NO IMPROVEMENT\n",
      "FINAL BEST SCORE: -7007.771354197689\n",
      "\n",
      "model_4\n",
      "GaussianNB(var_smoothing=1e-06)\n",
      "['B_total_rounds_fought', 'B_avg_TD_landed', 'R_avg_SIG_STR_landed', 'B_longest_win_streak', 'total_round_dif', 'height_dif', 'B_match_weightclass_rank', 'R_win_by_Decision_Unanimous', 'R_Height_cms', 'B_Light Heavyweight_rank', 'sig_str_dif', 'avg_sub_att_dif', 'R_avg_TD_pct', 'R_Weight_lbs', 'R_avg_SUB_ATT', 'Red - KO/TKO', 'longest_win_streak_dif', 'B_wins', 'Blue - SUB', \"B_Women's Bantamweight_rank\", 'R_match_weightclass_rank', 'R_current_lose_streak', 'B_Stance', 'R_win_by_Decision_Split', 'no_of_rounds', 'B_losses', 'title_bout', 'R_Featherweight_rank', 'R_Light Heavyweight_rank', 'Blue - DEC', 'R_Middleweight_rank', 'avg_td_dif', 'B_avg_SUB_ATT', 'R_Reach_cms', 'B_ev']\n",
      "0\n",
      "\n"
     ]
    },
    {
     "data": {
      "text/plain": [
       "(2686, 37)"
      ]
     },
     "metadata": {},
     "output_type": "display_data"
    },
    {
     "data": {
      "text/plain": [
       "(2686,)"
      ]
     },
     "metadata": {},
     "output_type": "display_data"
    },
    {
     "data": {
      "text/plain": [
       "(2686, 6)"
      ]
     },
     "metadata": {},
     "output_type": "display_data"
    },
    {
     "data": {
      "text/plain": [
       "(240, 37)"
      ]
     },
     "metadata": {},
     "output_type": "display_data"
    },
    {
     "data": {
      "text/plain": [
       "(240,)"
      ]
     },
     "metadata": {},
     "output_type": "display_data"
    },
    {
     "data": {
      "text/plain": [
       "(240, 6)"
      ]
     },
     "metadata": {},
     "output_type": "display_data"
    },
    {
     "name": "stdout",
     "output_type": "stream",
     "text": [
      "250     5\n",
      "251     3\n",
      "252     3\n",
      "253     5\n",
      "254     0\n",
      "       ..\n",
      "4217    0\n",
      "4225    1\n",
      "4226    3\n",
      "4227    5\n",
      "4228    5\n",
      "Name: label, Length: 2686, dtype: int64\n",
      "Real Score: -2631.086956521739\n",
      "HI\n",
      "HI\n",
      "HI\n",
      "HI\n",
      "HI\n",
      "\n",
      "\n",
      "Starting New Run for GaussianNB\n",
      "\n",
      "\n",
      "Previous Best Score: -7007.771354197689\n",
      "var_smoothing: 1e-12 Score: -7007.771354197689\n",
      "var_smoothing: 1e-11 Score: -7007.771354197689\n",
      "var_smoothing: 1e-10 Score: -7007.771354197689\n",
      "var_smoothing: 1e-09 Score: -7007.771354197689\n",
      "var_smoothing: 1e-08 Score: -7007.771354197689\n",
      "var_smoothing: 1e-07 Score: -7007.771354197689\n",
      "var_smoothing: 1e-06 Score: -7007.771354197689\n",
      "Real output model: GaussianNB(var_smoothing=1e-06)\n",
      "\n",
      "model_4\n",
      "GaussianNB(var_smoothing=1e-06)\n",
      "['B_total_rounds_fought', 'B_avg_TD_landed', 'R_avg_SIG_STR_landed', 'B_longest_win_streak', 'total_round_dif', 'height_dif', 'B_match_weightclass_rank', 'R_win_by_Decision_Unanimous', 'R_Height_cms', 'B_Light Heavyweight_rank', 'sig_str_dif', 'avg_sub_att_dif', 'R_avg_TD_pct', 'R_Weight_lbs', 'R_avg_SUB_ATT', 'Red - KO/TKO', 'longest_win_streak_dif', 'B_wins', 'Blue - SUB', \"B_Women's Bantamweight_rank\", 'R_match_weightclass_rank', 'R_current_lose_streak', 'B_Stance', 'R_win_by_Decision_Split', 'no_of_rounds', 'B_losses', 'title_bout', 'R_Featherweight_rank', 'R_Light Heavyweight_rank', 'Blue - DEC', 'R_Middleweight_rank', 'avg_td_dif', 'B_avg_SUB_ATT', 'R_Reach_cms', 'B_ev']\n",
      "0\n",
      "\n"
     ]
    },
    {
     "data": {
      "text/plain": [
       "(2686, 37)"
      ]
     },
     "metadata": {},
     "output_type": "display_data"
    },
    {
     "data": {
      "text/plain": [
       "(2686,)"
      ]
     },
     "metadata": {},
     "output_type": "display_data"
    },
    {
     "data": {
      "text/plain": [
       "(2686, 6)"
      ]
     },
     "metadata": {},
     "output_type": "display_data"
    },
    {
     "data": {
      "text/plain": [
       "(240, 37)"
      ]
     },
     "metadata": {},
     "output_type": "display_data"
    },
    {
     "data": {
      "text/plain": [
       "(240,)"
      ]
     },
     "metadata": {},
     "output_type": "display_data"
    },
    {
     "data": {
      "text/plain": [
       "(240, 6)"
      ]
     },
     "metadata": {},
     "output_type": "display_data"
    },
    {
     "name": "stdout",
     "output_type": "stream",
     "text": [
      "250     5\n",
      "251     3\n",
      "252     3\n",
      "253     5\n",
      "254     0\n",
      "       ..\n",
      "4217    0\n",
      "4225    1\n",
      "4226    3\n",
      "4227    5\n",
      "4228    5\n",
      "Name: label, Length: 2686, dtype: int64\n",
      "Real Score: -2631.086956521739\n",
      "HI\n",
      "HI\n",
      "HI\n",
      "HI\n",
      "HI\n",
      "\n",
      "model_4\n",
      "GaussianNB(var_smoothing=1e-06)\n",
      "['B_total_rounds_fought', 'B_avg_TD_landed', 'R_avg_SIG_STR_landed', 'B_longest_win_streak', 'total_round_dif', 'height_dif', 'B_match_weightclass_rank', 'R_win_by_Decision_Unanimous', 'R_Height_cms', 'B_Light Heavyweight_rank', 'sig_str_dif', 'avg_sub_att_dif', 'R_avg_TD_pct', 'R_Weight_lbs', 'R_avg_SUB_ATT', 'Red - KO/TKO', 'longest_win_streak_dif', 'B_wins', 'Blue - SUB', \"B_Women's Bantamweight_rank\", 'R_match_weightclass_rank', 'R_current_lose_streak', 'B_Stance', 'R_win_by_Decision_Split', 'no_of_rounds', 'B_losses', 'title_bout', 'R_Featherweight_rank', 'R_Light Heavyweight_rank', 'Blue - DEC', 'R_Middleweight_rank', 'avg_td_dif', 'B_avg_SUB_ATT', 'R_Reach_cms', 'B_ev']\n",
      "0\n",
      "\n"
     ]
    },
    {
     "data": {
      "text/plain": [
       "(2686, 37)"
      ]
     },
     "metadata": {},
     "output_type": "display_data"
    },
    {
     "data": {
      "text/plain": [
       "(2686,)"
      ]
     },
     "metadata": {},
     "output_type": "display_data"
    },
    {
     "data": {
      "text/plain": [
       "(2686, 6)"
      ]
     },
     "metadata": {},
     "output_type": "display_data"
    },
    {
     "data": {
      "text/plain": [
       "(240, 37)"
      ]
     },
     "metadata": {},
     "output_type": "display_data"
    },
    {
     "data": {
      "text/plain": [
       "(240,)"
      ]
     },
     "metadata": {},
     "output_type": "display_data"
    },
    {
     "data": {
      "text/plain": [
       "(240, 6)"
      ]
     },
     "metadata": {},
     "output_type": "display_data"
    },
    {
     "name": "stdout",
     "output_type": "stream",
     "text": [
      "250     5\n",
      "251     3\n",
      "252     3\n",
      "253     5\n",
      "254     0\n",
      "       ..\n",
      "4217    0\n",
      "4225    1\n",
      "4226    3\n",
      "4227    5\n",
      "4228    5\n",
      "Name: label, Length: 2686, dtype: int64\n",
      "Real Score: -2631.086956521739\n",
      "HI\n",
      "HI\n",
      "HI\n",
      "HI\n",
      "HI\n",
      "The original score is -7007.771354197689\n",
      "\n",
      "model_4\n",
      "GaussianNB(var_smoothing=1e-06)\n",
      "['B_total_rounds_fought', 'B_avg_TD_landed', 'R_avg_SIG_STR_landed', 'B_longest_win_streak', 'total_round_dif', 'height_dif', 'B_match_weightclass_rank', 'R_win_by_Decision_Unanimous', 'R_Height_cms', 'B_Light Heavyweight_rank', 'sig_str_dif', 'avg_sub_att_dif', 'R_avg_TD_pct', 'R_Weight_lbs', 'R_avg_SUB_ATT', 'Red - KO/TKO', 'longest_win_streak_dif', 'B_wins', 'Blue - SUB', \"B_Women's Bantamweight_rank\", 'R_match_weightclass_rank', 'R_current_lose_streak', 'B_Stance', 'R_win_by_Decision_Split', 'no_of_rounds', 'B_losses', 'title_bout', 'R_Featherweight_rank', 'R_Light Heavyweight_rank', 'Blue - DEC', 'R_Middleweight_rank', 'avg_td_dif', 'B_avg_SUB_ATT', 'R_Reach_cms', 'B_ev']\n",
      "0\n",
      "\n"
     ]
    },
    {
     "data": {
      "text/plain": [
       "(2686, 37)"
      ]
     },
     "metadata": {},
     "output_type": "display_data"
    },
    {
     "data": {
      "text/plain": [
       "(2686,)"
      ]
     },
     "metadata": {},
     "output_type": "display_data"
    },
    {
     "data": {
      "text/plain": [
       "(2686, 6)"
      ]
     },
     "metadata": {},
     "output_type": "display_data"
    },
    {
     "data": {
      "text/plain": [
       "(240, 37)"
      ]
     },
     "metadata": {},
     "output_type": "display_data"
    },
    {
     "data": {
      "text/plain": [
       "(240,)"
      ]
     },
     "metadata": {},
     "output_type": "display_data"
    },
    {
     "data": {
      "text/plain": [
       "(240, 6)"
      ]
     },
     "metadata": {},
     "output_type": "display_data"
    },
    {
     "name": "stdout",
     "output_type": "stream",
     "text": [
      "250     5\n",
      "251     3\n",
      "252     3\n",
      "253     5\n",
      "254     0\n",
      "       ..\n",
      "4217    0\n",
      "4225    1\n",
      "4226    3\n",
      "4227    5\n",
      "4228    5\n",
      "Name: label, Length: 2686, dtype: int64\n",
      "Real Score: -2631.086956521739\n",
      "HI\n",
      "HI\n",
      "HI\n",
      "HI\n",
      "HI\n",
      "\n",
      "\n",
      "OPTIMIZING MODEL 5\n",
      "\n",
      "\n",
      "model_5\n",
      "DecisionTreeClassifier(max_depth=83, max_leaf_nodes=27,\n",
      "                       min_samples_leaf=0.010199979900000001, random_state=75)\n",
      "['B_win_by_Decision_Unanimous', 'B_avg_SUB_ATT', 'R_losses', 'R_odds', 'lose_streak_dif', 'R_win_by_Submission', 'country', 'B_Reach_cms', 'B_Weight_lbs', 'R_avg_SUB_ATT', 'R_total_rounds_fought', 'R_age', 'total_title_bout_dif', 'win_streak_dif', 'R_Weight_lbs', 'avg_sub_att_dif', 'R_ev', 'B_avg_TD_landed', 'B_Height_cms', 'Red - KO/TKO', 'Blue - DEC', 'B_win_by_KO/TKO', 'total_round_dif', 'R_Height_cms', 'B_total_title_bouts', 'B_wins', 'no_of_rounds', 'Blue - SUB', 'B_Stance', 'B_current_win_streak', 'R_longest_win_streak', 'R_Reach_cms', 'reach_dif', 'R_total_title_bouts', 'B_age', 'B_avg_SIG_STR_landed', 'B_longest_win_streak', 'B_Heavyweight_rank', 'B_ev', 'gender']\n",
      "0\n",
      "Current best score is: -90803.58174384644\n",
      "Feature: title_bout Score: -90703.58174384644\n",
      "Feature: ko_dif Score: -89279.58174384644\n",
      "Feature: sig_str_dif Score: -86694.01331741546\n",
      "The best feature was sig_str_dif.  It scored -86694.01331741546\n",
      "Current best score is: -86694.01331741546\n",
      "Feature: B_odds Score: -86594.01331741546\n",
      "Feature: R_avg_SIG_STR_pct Score: -85516.58474598691\n",
      "The best feature was R_avg_SIG_STR_pct.  It scored -85516.58474598691\n",
      "Current best score is: -85516.58474598691\n",
      "NO IMPROVEMENT\n",
      "FINAL BEST SCORE: -85516.58474598691\n",
      "\n",
      "model_5\n",
      "DecisionTreeClassifier(max_depth=83, max_leaf_nodes=27,\n",
      "                       min_samples_leaf=0.010199979900000001, random_state=75)\n",
      "['R_avg_SIG_STR_pct', 'sig_str_dif', 'B_win_by_Decision_Unanimous', 'B_avg_SUB_ATT', 'R_losses', 'R_odds', 'lose_streak_dif', 'R_win_by_Submission', 'country', 'B_Reach_cms', 'B_Weight_lbs', 'R_avg_SUB_ATT', 'R_total_rounds_fought', 'R_age', 'total_title_bout_dif', 'win_streak_dif', 'R_Weight_lbs', 'avg_sub_att_dif', 'R_ev', 'B_avg_TD_landed', 'B_Height_cms', 'Red - KO/TKO', 'Blue - DEC', 'B_win_by_KO/TKO', 'total_round_dif', 'R_Height_cms', 'B_total_title_bouts', 'B_wins', 'no_of_rounds', 'Blue - SUB', 'B_Stance', 'B_current_win_streak', 'R_longest_win_streak', 'R_Reach_cms', 'reach_dif', 'R_total_title_bouts', 'B_age', 'B_avg_SIG_STR_landed', 'B_longest_win_streak', 'B_Heavyweight_rank', 'B_ev', 'gender']\n",
      "0\n",
      "\n"
     ]
    },
    {
     "data": {
      "text/plain": [
       "(2686, 72)"
      ]
     },
     "metadata": {},
     "output_type": "display_data"
    },
    {
     "data": {
      "text/plain": [
       "(2686,)"
      ]
     },
     "metadata": {},
     "output_type": "display_data"
    },
    {
     "data": {
      "text/plain": [
       "(2686, 6)"
      ]
     },
     "metadata": {},
     "output_type": "display_data"
    },
    {
     "data": {
      "text/plain": [
       "(240, 72)"
      ]
     },
     "metadata": {},
     "output_type": "display_data"
    },
    {
     "data": {
      "text/plain": [
       "(240,)"
      ]
     },
     "metadata": {},
     "output_type": "display_data"
    },
    {
     "data": {
      "text/plain": [
       "(240, 6)"
      ]
     },
     "metadata": {},
     "output_type": "display_data"
    },
    {
     "name": "stdout",
     "output_type": "stream",
     "text": [
      "250     5\n",
      "251     3\n",
      "252     3\n",
      "253     5\n",
      "254     0\n",
      "       ..\n",
      "4217    0\n",
      "4225    1\n",
      "4226    3\n",
      "4227    5\n",
      "4228    5\n",
      "Name: label, Length: 2686, dtype: int64\n",
      "Real Score: -4546.249827467219\n",
      "HI\n",
      "HI\n",
      "HI\n",
      "HI\n",
      "HI\n",
      "\n",
      "\n",
      "Starting New Run for DecisionTree\n",
      "\n",
      "\n",
      "Previous Best Score: -85516.58474598691\n",
      "Criterion: gini splitter: random max_depth: 83 min_samples_leaf: 0.010199979900000001 max_leaf_nodes: 27 -108325.62134197667\n",
      "Criterion: gini splitter: best max_depth: 83 min_samples_leaf: 0.010199979900000001 max_leaf_nodes: 27 -85516.58474598691\n",
      "Criterion: entropy splitter: random max_depth: 83 min_samples_leaf: 0.010199979900000001 max_leaf_nodes: 27 -124892.46327332164\n",
      "Criterion: entropy splitter: best max_depth: 83 min_samples_leaf: 0.010199979900000001 max_leaf_nodes: 27 -88723.49948204527\n",
      "Criterion: gini splitter: random max_depth: 82 min_samples_leaf: 0.010199979900000001 max_leaf_nodes: 27 -108325.62134197667\n",
      "Criterion: gini splitter: best max_depth: 82 min_samples_leaf: 0.010199979900000001 max_leaf_nodes: 27 -85516.58474598691\n",
      "Criterion: entropy splitter: random max_depth: 82 min_samples_leaf: 0.010199979900000001 max_leaf_nodes: 27 -124892.46327332164\n",
      "Criterion: entropy splitter: best max_depth: 82 min_samples_leaf: 0.010199979900000001 max_leaf_nodes: 27 -88723.49948204527\n",
      "Criterion: gini splitter: random max_depth: 84 min_samples_leaf: 0.010199979900000001 max_leaf_nodes: 27 -108325.62134197667\n",
      "Criterion: gini splitter: best max_depth: 84 min_samples_leaf: 0.010199979900000001 max_leaf_nodes: 27 -85516.58474598691\n",
      "Criterion: entropy splitter: random max_depth: 84 min_samples_leaf: 0.010199979900000001 max_leaf_nodes: 27 -124892.46327332164\n",
      "Criterion: entropy splitter: best max_depth: 84 min_samples_leaf: 0.010199979900000001 max_leaf_nodes: 27 -88723.49948204527\n",
      "Criterion: gini splitter: random max_depth: 70 min_samples_leaf: 0.010199979900000001 max_leaf_nodes: 27 -108325.62134197667\n",
      "Criterion: gini splitter: best max_depth: 70 min_samples_leaf: 0.010199979900000001 max_leaf_nodes: 27 -85516.58474598691\n",
      "Criterion: entropy splitter: random max_depth: 70 min_samples_leaf: 0.010199979900000001 max_leaf_nodes: 27 -124892.46327332164\n",
      "Criterion: entropy splitter: best max_depth: 70 min_samples_leaf: 0.010199979900000001 max_leaf_nodes: 27 -88723.49948204527\n",
      "Criterion: gini splitter: random max_depth: 83 min_samples_leaf: 0.010301979699000001 max_leaf_nodes: 27 -111851.91552605348\n",
      "\n",
      "NEW BEST SCORE\n",
      "Criterion: gini splitter: best max_depth: 83 min_samples_leaf: 0.010301979699000001 max_leaf_nodes: 27 -84756.58474598691\n",
      "\n",
      "Criterion: entropy splitter: random max_depth: 83 min_samples_leaf: 0.010301979699000001 max_leaf_nodes: 27 -127052.37458226779\n",
      "Criterion: entropy splitter: best max_depth: 83 min_samples_leaf: 0.010301979699000001 max_leaf_nodes: 27 -88160.4994820453\n",
      "Criterion: gini splitter: random max_depth: 82 min_samples_leaf: 0.010301979699000001 max_leaf_nodes: 27 -111851.91552605348\n",
      "Criterion: gini splitter: best max_depth: 82 min_samples_leaf: 0.010301979699000001 max_leaf_nodes: 27 -84756.58474598691\n",
      "Criterion: entropy splitter: random max_depth: 82 min_samples_leaf: 0.010301979699000001 max_leaf_nodes: 27 -127052.37458226779\n",
      "Criterion: entropy splitter: best max_depth: 82 min_samples_leaf: 0.010301979699000001 max_leaf_nodes: 27 -88160.4994820453\n",
      "Criterion: gini splitter: random max_depth: 84 min_samples_leaf: 0.010301979699000001 max_leaf_nodes: 27 -111851.91552605348\n",
      "Criterion: gini splitter: best max_depth: 84 min_samples_leaf: 0.010301979699000001 max_leaf_nodes: 27 -84756.58474598691\n",
      "Criterion: entropy splitter: random max_depth: 84 min_samples_leaf: 0.010301979699000001 max_leaf_nodes: 27 -127052.37458226779\n",
      "Criterion: entropy splitter: best max_depth: 84 min_samples_leaf: 0.010301979699000001 max_leaf_nodes: 27 -88160.4994820453\n",
      "Criterion: gini splitter: random max_depth: 70 min_samples_leaf: 0.010301979699000001 max_leaf_nodes: 27 -111851.91552605348\n",
      "Criterion: gini splitter: best max_depth: 70 min_samples_leaf: 0.010301979699000001 max_leaf_nodes: 27 -84756.58474598691\n",
      "Criterion: entropy splitter: random max_depth: 70 min_samples_leaf: 0.010301979699000001 max_leaf_nodes: 27 -127052.37458226779\n",
      "Criterion: entropy splitter: best max_depth: 70 min_samples_leaf: 0.010301979699000001 max_leaf_nodes: 27 -88160.4994820453\n",
      "Criterion: gini splitter: random max_depth: 83 min_samples_leaf: 0.010097980101000001 max_leaf_nodes: 27 -108325.62134197667\n",
      "Criterion: gini splitter: best max_depth: 83 min_samples_leaf: 0.010097980101000001 max_leaf_nodes: 27 -85516.58474598691\n",
      "Criterion: entropy splitter: random max_depth: 83 min_samples_leaf: 0.010097980101000001 max_leaf_nodes: 27 -124892.46327332164\n",
      "Criterion: entropy splitter: best max_depth: 83 min_samples_leaf: 0.010097980101000001 max_leaf_nodes: 27 -88723.49948204527\n",
      "Criterion: gini splitter: random max_depth: 82 min_samples_leaf: 0.010097980101000001 max_leaf_nodes: 27 -108325.62134197667\n",
      "Criterion: gini splitter: best max_depth: 82 min_samples_leaf: 0.010097980101000001 max_leaf_nodes: 27 -85516.58474598691\n",
      "Criterion: entropy splitter: random max_depth: 82 min_samples_leaf: 0.010097980101000001 max_leaf_nodes: 27 -124892.46327332164\n",
      "Criterion: entropy splitter: best max_depth: 82 min_samples_leaf: 0.010097980101000001 max_leaf_nodes: 27 -88723.49948204527\n",
      "Criterion: gini splitter: random max_depth: 84 min_samples_leaf: 0.010097980101000001 max_leaf_nodes: 27 -108325.62134197667\n",
      "Criterion: gini splitter: best max_depth: 84 min_samples_leaf: 0.010097980101000001 max_leaf_nodes: 27 -85516.58474598691\n",
      "Criterion: entropy splitter: random max_depth: 84 min_samples_leaf: 0.010097980101000001 max_leaf_nodes: 27 -124892.46327332164\n",
      "Criterion: entropy splitter: best max_depth: 84 min_samples_leaf: 0.010097980101000001 max_leaf_nodes: 27 -88723.49948204527\n",
      "Criterion: gini splitter: random max_depth: 70 min_samples_leaf: 0.010097980101000001 max_leaf_nodes: 27 -108325.62134197667\n",
      "Criterion: gini splitter: best max_depth: 70 min_samples_leaf: 0.010097980101000001 max_leaf_nodes: 27 -85516.58474598691\n",
      "Criterion: entropy splitter: random max_depth: 70 min_samples_leaf: 0.010097980101000001 max_leaf_nodes: 27 -124892.46327332164\n",
      "Criterion: entropy splitter: best max_depth: 70 min_samples_leaf: 0.010097980101000001 max_leaf_nodes: 27 -88723.49948204527\n",
      "Criterion: gini splitter: random max_depth: 83 min_samples_leaf: 0.010199979900000001 max_leaf_nodes: 26 -112451.65193778988\n",
      "Criterion: gini splitter: best max_depth: 83 min_samples_leaf: 0.010199979900000001 max_leaf_nodes: 26 -94431.73193213408\n",
      "Criterion: entropy splitter: random max_depth: 83 min_samples_leaf: 0.010199979900000001 max_leaf_nodes: 26 -122134.46327332164\n",
      "Criterion: entropy splitter: best max_depth: 83 min_samples_leaf: 0.010199979900000001 max_leaf_nodes: 26 -89345.4994820453\n",
      "Criterion: gini splitter: random max_depth: 82 min_samples_leaf: 0.010199979900000001 max_leaf_nodes: 26 -112451.65193778988\n",
      "Criterion: gini splitter: best max_depth: 82 min_samples_leaf: 0.010199979900000001 max_leaf_nodes: 26 -94431.73193213408\n",
      "Criterion: entropy splitter: random max_depth: 82 min_samples_leaf: 0.010199979900000001 max_leaf_nodes: 26 -122134.46327332164\n",
      "Criterion: entropy splitter: best max_depth: 82 min_samples_leaf: 0.010199979900000001 max_leaf_nodes: 26 -89345.4994820453\n",
      "Criterion: gini splitter: random max_depth: 84 min_samples_leaf: 0.010199979900000001 max_leaf_nodes: 26 -112451.65193778988\n",
      "Criterion: gini splitter: best max_depth: 84 min_samples_leaf: 0.010199979900000001 max_leaf_nodes: 26 -94431.73193213408\n",
      "Criterion: entropy splitter: random max_depth: 84 min_samples_leaf: 0.010199979900000001 max_leaf_nodes: 26 -122134.46327332164\n",
      "Criterion: entropy splitter: best max_depth: 84 min_samples_leaf: 0.010199979900000001 max_leaf_nodes: 26 -89345.4994820453\n",
      "Criterion: gini splitter: random max_depth: 70 min_samples_leaf: 0.010199979900000001 max_leaf_nodes: 26 -112451.65193778988\n",
      "Criterion: gini splitter: best max_depth: 70 min_samples_leaf: 0.010199979900000001 max_leaf_nodes: 26 -94431.73193213408\n",
      "Criterion: entropy splitter: random max_depth: 70 min_samples_leaf: 0.010199979900000001 max_leaf_nodes: 26 -122134.46327332164\n",
      "Criterion: entropy splitter: best max_depth: 70 min_samples_leaf: 0.010199979900000001 max_leaf_nodes: 26 -89345.4994820453\n",
      "Criterion: gini splitter: random max_depth: 83 min_samples_leaf: 0.010301979699000001 max_leaf_nodes: 26 -117962.04991340524\n"
     ]
    },
    {
     "name": "stdout",
     "output_type": "stream",
     "text": [
      "Criterion: gini splitter: best max_depth: 83 min_samples_leaf: 0.010301979699000001 max_leaf_nodes: 26 -93547.77936296412\n",
      "Criterion: entropy splitter: random max_depth: 83 min_samples_leaf: 0.010301979699000001 max_leaf_nodes: 26 -133259.37458226777\n",
      "Criterion: entropy splitter: best max_depth: 83 min_samples_leaf: 0.010301979699000001 max_leaf_nodes: 26 -90104.4994820453\n",
      "Criterion: gini splitter: random max_depth: 82 min_samples_leaf: 0.010301979699000001 max_leaf_nodes: 26 -117962.04991340524\n",
      "Criterion: gini splitter: best max_depth: 82 min_samples_leaf: 0.010301979699000001 max_leaf_nodes: 26 -93547.77936296412\n",
      "Criterion: entropy splitter: random max_depth: 82 min_samples_leaf: 0.010301979699000001 max_leaf_nodes: 26 -133259.37458226777\n",
      "Criterion: entropy splitter: best max_depth: 82 min_samples_leaf: 0.010301979699000001 max_leaf_nodes: 26 -90104.4994820453\n",
      "Criterion: gini splitter: random max_depth: 84 min_samples_leaf: 0.010301979699000001 max_leaf_nodes: 26 -117962.04991340524\n",
      "Criterion: gini splitter: best max_depth: 84 min_samples_leaf: 0.010301979699000001 max_leaf_nodes: 26 -93547.77936296412\n",
      "Criterion: entropy splitter: random max_depth: 84 min_samples_leaf: 0.010301979699000001 max_leaf_nodes: 26 -133259.37458226777\n",
      "Criterion: entropy splitter: best max_depth: 84 min_samples_leaf: 0.010301979699000001 max_leaf_nodes: 26 -90104.4994820453\n",
      "Criterion: gini splitter: random max_depth: 70 min_samples_leaf: 0.010301979699000001 max_leaf_nodes: 26 -117962.04991340524\n",
      "Criterion: gini splitter: best max_depth: 70 min_samples_leaf: 0.010301979699000001 max_leaf_nodes: 26 -93547.77936296412\n",
      "Criterion: entropy splitter: random max_depth: 70 min_samples_leaf: 0.010301979699000001 max_leaf_nodes: 26 -133259.37458226777\n",
      "Criterion: entropy splitter: best max_depth: 70 min_samples_leaf: 0.010301979699000001 max_leaf_nodes: 26 -90104.4994820453\n",
      "Criterion: gini splitter: random max_depth: 83 min_samples_leaf: 0.010097980101000001 max_leaf_nodes: 26 -112451.65193778988\n",
      "Criterion: gini splitter: best max_depth: 83 min_samples_leaf: 0.010097980101000001 max_leaf_nodes: 26 -94431.73193213408\n",
      "Criterion: entropy splitter: random max_depth: 83 min_samples_leaf: 0.010097980101000001 max_leaf_nodes: 26 -122134.46327332164\n",
      "Criterion: entropy splitter: best max_depth: 83 min_samples_leaf: 0.010097980101000001 max_leaf_nodes: 26 -89345.4994820453\n",
      "Criterion: gini splitter: random max_depth: 82 min_samples_leaf: 0.010097980101000001 max_leaf_nodes: 26 -112451.65193778988\n",
      "Criterion: gini splitter: best max_depth: 82 min_samples_leaf: 0.010097980101000001 max_leaf_nodes: 26 -94431.73193213408\n",
      "Criterion: entropy splitter: random max_depth: 82 min_samples_leaf: 0.010097980101000001 max_leaf_nodes: 26 -122134.46327332164\n",
      "Criterion: entropy splitter: best max_depth: 82 min_samples_leaf: 0.010097980101000001 max_leaf_nodes: 26 -89345.4994820453\n",
      "Criterion: gini splitter: random max_depth: 84 min_samples_leaf: 0.010097980101000001 max_leaf_nodes: 26 -112451.65193778988\n",
      "Criterion: gini splitter: best max_depth: 84 min_samples_leaf: 0.010097980101000001 max_leaf_nodes: 26 -94431.73193213408\n",
      "Criterion: entropy splitter: random max_depth: 84 min_samples_leaf: 0.010097980101000001 max_leaf_nodes: 26 -122134.46327332164\n",
      "Criterion: entropy splitter: best max_depth: 84 min_samples_leaf: 0.010097980101000001 max_leaf_nodes: 26 -89345.4994820453\n",
      "Criterion: gini splitter: random max_depth: 70 min_samples_leaf: 0.010097980101000001 max_leaf_nodes: 26 -112451.65193778988\n",
      "Criterion: gini splitter: best max_depth: 70 min_samples_leaf: 0.010097980101000001 max_leaf_nodes: 26 -94431.73193213408\n",
      "Criterion: entropy splitter: random max_depth: 70 min_samples_leaf: 0.010097980101000001 max_leaf_nodes: 26 -122134.46327332164\n",
      "Criterion: entropy splitter: best max_depth: 70 min_samples_leaf: 0.010097980101000001 max_leaf_nodes: 26 -89345.4994820453\n",
      "Criterion: gini splitter: random max_depth: 83 min_samples_leaf: 0.010199979900000001 max_leaf_nodes: 28 -109722.01432131119\n",
      "Criterion: gini splitter: best max_depth: 83 min_samples_leaf: 0.010199979900000001 max_leaf_nodes: 28 -88582.34250996205\n",
      "Criterion: entropy splitter: random max_depth: 83 min_samples_leaf: 0.010199979900000001 max_leaf_nodes: 28 -126232.46327332164\n",
      "Criterion: entropy splitter: best max_depth: 83 min_samples_leaf: 0.010199979900000001 max_leaf_nodes: 28 -93089.34796689378\n",
      "Criterion: gini splitter: random max_depth: 82 min_samples_leaf: 0.010199979900000001 max_leaf_nodes: 28 -109722.01432131119\n",
      "Criterion: gini splitter: best max_depth: 82 min_samples_leaf: 0.010199979900000001 max_leaf_nodes: 28 -88582.34250996205\n",
      "Criterion: entropy splitter: random max_depth: 82 min_samples_leaf: 0.010199979900000001 max_leaf_nodes: 28 -126232.46327332164\n",
      "Criterion: entropy splitter: best max_depth: 82 min_samples_leaf: 0.010199979900000001 max_leaf_nodes: 28 -93089.34796689378\n",
      "Criterion: gini splitter: random max_depth: 84 min_samples_leaf: 0.010199979900000001 max_leaf_nodes: 28 -109722.01432131119\n",
      "Criterion: gini splitter: best max_depth: 84 min_samples_leaf: 0.010199979900000001 max_leaf_nodes: 28 -88582.34250996205\n",
      "Criterion: entropy splitter: random max_depth: 84 min_samples_leaf: 0.010199979900000001 max_leaf_nodes: 28 -126232.46327332164\n",
      "Criterion: entropy splitter: best max_depth: 84 min_samples_leaf: 0.010199979900000001 max_leaf_nodes: 28 -93089.34796689378\n",
      "Criterion: gini splitter: random max_depth: 70 min_samples_leaf: 0.010199979900000001 max_leaf_nodes: 28 -109722.01432131119\n",
      "Criterion: gini splitter: best max_depth: 70 min_samples_leaf: 0.010199979900000001 max_leaf_nodes: 28 -88582.34250996205\n",
      "Criterion: entropy splitter: random max_depth: 70 min_samples_leaf: 0.010199979900000001 max_leaf_nodes: 28 -126232.46327332164\n",
      "Criterion: entropy splitter: best max_depth: 70 min_samples_leaf: 0.010199979900000001 max_leaf_nodes: 28 -93089.34796689378\n",
      "Criterion: gini splitter: random max_depth: 83 min_samples_leaf: 0.010301979699000001 max_leaf_nodes: 28 -106669.88831516913\n",
      "Criterion: gini splitter: best max_depth: 83 min_samples_leaf: 0.010301979699000001 max_leaf_nodes: 28 -88010.34250996205\n",
      "Criterion: entropy splitter: random max_depth: 83 min_samples_leaf: 0.010301979699000001 max_leaf_nodes: 28 -129184.37458226779\n",
      "Criterion: entropy splitter: best max_depth: 83 min_samples_leaf: 0.010301979699000001 max_leaf_nodes: 28 -92242.34796689377\n",
      "Criterion: gini splitter: random max_depth: 82 min_samples_leaf: 0.010301979699000001 max_leaf_nodes: 28 -106669.88831516913\n",
      "Criterion: gini splitter: best max_depth: 82 min_samples_leaf: 0.010301979699000001 max_leaf_nodes: 28 -88010.34250996205\n",
      "Criterion: entropy splitter: random max_depth: 82 min_samples_leaf: 0.010301979699000001 max_leaf_nodes: 28 -129184.37458226779\n",
      "Criterion: entropy splitter: best max_depth: 82 min_samples_leaf: 0.010301979699000001 max_leaf_nodes: 28 -92242.34796689377\n",
      "Criterion: gini splitter: random max_depth: 84 min_samples_leaf: 0.010301979699000001 max_leaf_nodes: 28 -106669.88831516913\n",
      "Criterion: gini splitter: best max_depth: 84 min_samples_leaf: 0.010301979699000001 max_leaf_nodes: 28 -88010.34250996205\n",
      "Criterion: entropy splitter: random max_depth: 84 min_samples_leaf: 0.010301979699000001 max_leaf_nodes: 28 -129184.37458226779\n",
      "Criterion: entropy splitter: best max_depth: 84 min_samples_leaf: 0.010301979699000001 max_leaf_nodes: 28 -92242.34796689377\n",
      "Criterion: gini splitter: random max_depth: 70 min_samples_leaf: 0.010301979699000001 max_leaf_nodes: 28 -106669.88831516913\n",
      "Criterion: gini splitter: best max_depth: 70 min_samples_leaf: 0.010301979699000001 max_leaf_nodes: 28 -88010.34250996205\n",
      "Criterion: entropy splitter: random max_depth: 70 min_samples_leaf: 0.010301979699000001 max_leaf_nodes: 28 -129184.37458226779\n",
      "Criterion: entropy splitter: best max_depth: 70 min_samples_leaf: 0.010301979699000001 max_leaf_nodes: 28 -92242.34796689377\n",
      "Criterion: gini splitter: random max_depth: 83 min_samples_leaf: 0.010097980101000001 max_leaf_nodes: 28 -109722.01432131119\n",
      "Criterion: gini splitter: best max_depth: 83 min_samples_leaf: 0.010097980101000001 max_leaf_nodes: 28 -88582.34250996205\n",
      "Criterion: entropy splitter: random max_depth: 83 min_samples_leaf: 0.010097980101000001 max_leaf_nodes: 28 -126232.46327332164\n"
     ]
    },
    {
     "name": "stdout",
     "output_type": "stream",
     "text": [
      "Criterion: entropy splitter: best max_depth: 83 min_samples_leaf: 0.010097980101000001 max_leaf_nodes: 28 -93089.34796689378\n",
      "Criterion: gini splitter: random max_depth: 82 min_samples_leaf: 0.010097980101000001 max_leaf_nodes: 28 -109722.01432131119\n",
      "Criterion: gini splitter: best max_depth: 82 min_samples_leaf: 0.010097980101000001 max_leaf_nodes: 28 -88582.34250996205\n",
      "Criterion: entropy splitter: random max_depth: 82 min_samples_leaf: 0.010097980101000001 max_leaf_nodes: 28 -126232.46327332164\n",
      "Criterion: entropy splitter: best max_depth: 82 min_samples_leaf: 0.010097980101000001 max_leaf_nodes: 28 -93089.34796689378\n",
      "Criterion: gini splitter: random max_depth: 84 min_samples_leaf: 0.010097980101000001 max_leaf_nodes: 28 -109722.01432131119\n",
      "Criterion: gini splitter: best max_depth: 84 min_samples_leaf: 0.010097980101000001 max_leaf_nodes: 28 -88582.34250996205\n",
      "Criterion: entropy splitter: random max_depth: 84 min_samples_leaf: 0.010097980101000001 max_leaf_nodes: 28 -126232.46327332164\n",
      "Criterion: entropy splitter: best max_depth: 84 min_samples_leaf: 0.010097980101000001 max_leaf_nodes: 28 -93089.34796689378\n",
      "Criterion: gini splitter: random max_depth: 70 min_samples_leaf: 0.010097980101000001 max_leaf_nodes: 28 -109722.01432131119\n",
      "Criterion: gini splitter: best max_depth: 70 min_samples_leaf: 0.010097980101000001 max_leaf_nodes: 28 -88582.34250996205\n",
      "Criterion: entropy splitter: random max_depth: 70 min_samples_leaf: 0.010097980101000001 max_leaf_nodes: 28 -126232.46327332164\n",
      "Criterion: entropy splitter: best max_depth: 70 min_samples_leaf: 0.010097980101000001 max_leaf_nodes: 28 -93089.34796689378\n",
      "Criterion: gini splitter: random max_depth: 83 min_samples_leaf: 0.010199979900000001 max_leaf_nodes: 196 -107284.1809334794\n",
      "Criterion: gini splitter: best max_depth: 83 min_samples_leaf: 0.010199979900000001 max_leaf_nodes: 196 -103459.33725754336\n",
      "Criterion: entropy splitter: random max_depth: 83 min_samples_leaf: 0.010199979900000001 max_leaf_nodes: 196 -117054.56883861829\n",
      "Criterion: entropy splitter: best max_depth: 83 min_samples_leaf: 0.010199979900000001 max_leaf_nodes: 196 -102969.40718742451\n",
      "Criterion: gini splitter: random max_depth: 82 min_samples_leaf: 0.010199979900000001 max_leaf_nodes: 196 -107284.1809334794\n",
      "Criterion: gini splitter: best max_depth: 82 min_samples_leaf: 0.010199979900000001 max_leaf_nodes: 196 -103459.33725754336\n",
      "Criterion: entropy splitter: random max_depth: 82 min_samples_leaf: 0.010199979900000001 max_leaf_nodes: 196 -117054.56883861829\n",
      "Criterion: entropy splitter: best max_depth: 82 min_samples_leaf: 0.010199979900000001 max_leaf_nodes: 196 -102969.40718742451\n",
      "Criterion: gini splitter: random max_depth: 84 min_samples_leaf: 0.010199979900000001 max_leaf_nodes: 196 -107284.1809334794\n",
      "Criterion: gini splitter: best max_depth: 84 min_samples_leaf: 0.010199979900000001 max_leaf_nodes: 196 -103459.33725754336\n",
      "Criterion: entropy splitter: random max_depth: 84 min_samples_leaf: 0.010199979900000001 max_leaf_nodes: 196 -117054.56883861829\n",
      "Criterion: entropy splitter: best max_depth: 84 min_samples_leaf: 0.010199979900000001 max_leaf_nodes: 196 -102969.40718742451\n",
      "Criterion: gini splitter: random max_depth: 70 min_samples_leaf: 0.010199979900000001 max_leaf_nodes: 196 -107284.1809334794\n",
      "Criterion: gini splitter: best max_depth: 70 min_samples_leaf: 0.010199979900000001 max_leaf_nodes: 196 -103459.33725754336\n",
      "Criterion: entropy splitter: random max_depth: 70 min_samples_leaf: 0.010199979900000001 max_leaf_nodes: 196 -117054.56883861829\n",
      "Criterion: entropy splitter: best max_depth: 70 min_samples_leaf: 0.010199979900000001 max_leaf_nodes: 196 -102969.40718742451\n",
      "Criterion: gini splitter: random max_depth: 83 min_samples_leaf: 0.010301979699000001 max_leaf_nodes: 196 -123427.84388404501\n",
      "Criterion: gini splitter: best max_depth: 83 min_samples_leaf: 0.010301979699000001 max_leaf_nodes: 196 -102146.83609204221\n",
      "Criterion: entropy splitter: random max_depth: 83 min_samples_leaf: 0.010301979699000001 max_leaf_nodes: 196 -109964.22490280919\n",
      "Criterion: entropy splitter: best max_depth: 83 min_samples_leaf: 0.010301979699000001 max_leaf_nodes: 196 -100159.26360741188\n",
      "Criterion: gini splitter: random max_depth: 82 min_samples_leaf: 0.010301979699000001 max_leaf_nodes: 196 -123427.84388404501\n",
      "Criterion: gini splitter: best max_depth: 82 min_samples_leaf: 0.010301979699000001 max_leaf_nodes: 196 -102146.83609204221\n",
      "Criterion: entropy splitter: random max_depth: 82 min_samples_leaf: 0.010301979699000001 max_leaf_nodes: 196 -109964.22490280919\n",
      "Criterion: entropy splitter: best max_depth: 82 min_samples_leaf: 0.010301979699000001 max_leaf_nodes: 196 -100159.26360741188\n",
      "Criterion: gini splitter: random max_depth: 84 min_samples_leaf: 0.010301979699000001 max_leaf_nodes: 196 -123427.84388404501\n",
      "Criterion: gini splitter: best max_depth: 84 min_samples_leaf: 0.010301979699000001 max_leaf_nodes: 196 -102146.83609204221\n",
      "Criterion: entropy splitter: random max_depth: 84 min_samples_leaf: 0.010301979699000001 max_leaf_nodes: 196 -109964.22490280919\n",
      "Criterion: entropy splitter: best max_depth: 84 min_samples_leaf: 0.010301979699000001 max_leaf_nodes: 196 -100159.26360741188\n",
      "Criterion: gini splitter: random max_depth: 70 min_samples_leaf: 0.010301979699000001 max_leaf_nodes: 196 -123427.84388404501\n",
      "Criterion: gini splitter: best max_depth: 70 min_samples_leaf: 0.010301979699000001 max_leaf_nodes: 196 -102146.83609204221\n",
      "Criterion: entropy splitter: random max_depth: 70 min_samples_leaf: 0.010301979699000001 max_leaf_nodes: 196 -109964.22490280919\n",
      "Criterion: entropy splitter: best max_depth: 70 min_samples_leaf: 0.010301979699000001 max_leaf_nodes: 196 -100159.26360741188\n",
      "Criterion: gini splitter: random max_depth: 83 min_samples_leaf: 0.010097980101000001 max_leaf_nodes: 196 -107284.1809334794\n",
      "Criterion: gini splitter: best max_depth: 83 min_samples_leaf: 0.010097980101000001 max_leaf_nodes: 196 -103459.33725754336\n",
      "Criterion: entropy splitter: random max_depth: 83 min_samples_leaf: 0.010097980101000001 max_leaf_nodes: 196 -117054.56883861829\n",
      "Criterion: entropy splitter: best max_depth: 83 min_samples_leaf: 0.010097980101000001 max_leaf_nodes: 196 -102969.40718742451\n",
      "Criterion: gini splitter: random max_depth: 82 min_samples_leaf: 0.010097980101000001 max_leaf_nodes: 196 -107284.1809334794\n",
      "Criterion: gini splitter: best max_depth: 82 min_samples_leaf: 0.010097980101000001 max_leaf_nodes: 196 -103459.33725754336\n",
      "Criterion: entropy splitter: random max_depth: 82 min_samples_leaf: 0.010097980101000001 max_leaf_nodes: 196 -117054.56883861829\n",
      "Criterion: entropy splitter: best max_depth: 82 min_samples_leaf: 0.010097980101000001 max_leaf_nodes: 196 -102969.40718742451\n",
      "Criterion: gini splitter: random max_depth: 84 min_samples_leaf: 0.010097980101000001 max_leaf_nodes: 196 -107284.1809334794\n",
      "Criterion: gini splitter: best max_depth: 84 min_samples_leaf: 0.010097980101000001 max_leaf_nodes: 196 -103459.33725754336\n",
      "Criterion: entropy splitter: random max_depth: 84 min_samples_leaf: 0.010097980101000001 max_leaf_nodes: 196 -117054.56883861829\n",
      "Criterion: entropy splitter: best max_depth: 84 min_samples_leaf: 0.010097980101000001 max_leaf_nodes: 196 -102969.40718742451\n",
      "Criterion: gini splitter: random max_depth: 70 min_samples_leaf: 0.010097980101000001 max_leaf_nodes: 196 -107284.1809334794\n",
      "Criterion: gini splitter: best max_depth: 70 min_samples_leaf: 0.010097980101000001 max_leaf_nodes: 196 -103459.33725754336\n",
      "Criterion: entropy splitter: random max_depth: 70 min_samples_leaf: 0.010097980101000001 max_leaf_nodes: 196 -117054.56883861829\n",
      "Criterion: entropy splitter: best max_depth: 70 min_samples_leaf: 0.010097980101000001 max_leaf_nodes: 196 -102969.40718742451\n",
      "\n",
      "\n",
      "Starting New Run for DecisionTree\n",
      "\n",
      "\n",
      "Previous Best Score: -84756.58474598691\n",
      "Criterion: gini splitter: random max_depth: 83 min_samples_leaf: 0.010301979699000001 max_leaf_nodes: 27 -111851.91552605348\n",
      "Criterion: gini splitter: best max_depth: 83 min_samples_leaf: 0.010301979699000001 max_leaf_nodes: 27 -84756.58474598691\n",
      "Criterion: entropy splitter: random max_depth: 83 min_samples_leaf: 0.010301979699000001 max_leaf_nodes: 27 -127052.37458226779\n",
      "Criterion: entropy splitter: best max_depth: 83 min_samples_leaf: 0.010301979699000001 max_leaf_nodes: 27 -88160.4994820453\n",
      "Criterion: gini splitter: random max_depth: 82 min_samples_leaf: 0.010301979699000001 max_leaf_nodes: 27 -111851.91552605348\n"
     ]
    },
    {
     "name": "stdout",
     "output_type": "stream",
     "text": [
      "Criterion: gini splitter: best max_depth: 82 min_samples_leaf: 0.010301979699000001 max_leaf_nodes: 27 -84756.58474598691\n",
      "Criterion: entropy splitter: random max_depth: 82 min_samples_leaf: 0.010301979699000001 max_leaf_nodes: 27 -127052.37458226779\n",
      "Criterion: entropy splitter: best max_depth: 82 min_samples_leaf: 0.010301979699000001 max_leaf_nodes: 27 -88160.4994820453\n",
      "Criterion: gini splitter: random max_depth: 84 min_samples_leaf: 0.010301979699000001 max_leaf_nodes: 27 -111851.91552605348\n",
      "Criterion: gini splitter: best max_depth: 84 min_samples_leaf: 0.010301979699000001 max_leaf_nodes: 27 -84756.58474598691\n",
      "Criterion: entropy splitter: random max_depth: 84 min_samples_leaf: 0.010301979699000001 max_leaf_nodes: 27 -127052.37458226779\n",
      "Criterion: entropy splitter: best max_depth: 84 min_samples_leaf: 0.010301979699000001 max_leaf_nodes: 27 -88160.4994820453\n",
      "Criterion: gini splitter: random max_depth: 65 min_samples_leaf: 0.010301979699000001 max_leaf_nodes: 27 -111851.91552605348\n",
      "Criterion: gini splitter: best max_depth: 65 min_samples_leaf: 0.010301979699000001 max_leaf_nodes: 27 -84756.58474598691\n",
      "Criterion: entropy splitter: random max_depth: 65 min_samples_leaf: 0.010301979699000001 max_leaf_nodes: 27 -127052.37458226779\n",
      "Criterion: entropy splitter: best max_depth: 65 min_samples_leaf: 0.010301979699000001 max_leaf_nodes: 27 -88160.4994820453\n",
      "Criterion: gini splitter: random max_depth: 83 min_samples_leaf: 0.01040499949599 max_leaf_nodes: 27 -111851.91552605348\n",
      "Criterion: gini splitter: best max_depth: 83 min_samples_leaf: 0.01040499949599 max_leaf_nodes: 27 -84756.58474598691\n",
      "Criterion: entropy splitter: random max_depth: 83 min_samples_leaf: 0.01040499949599 max_leaf_nodes: 27 -127052.37458226779\n",
      "Criterion: entropy splitter: best max_depth: 83 min_samples_leaf: 0.01040499949599 max_leaf_nodes: 27 -88160.4994820453\n",
      "Criterion: gini splitter: random max_depth: 82 min_samples_leaf: 0.01040499949599 max_leaf_nodes: 27 -111851.91552605348\n",
      "Criterion: gini splitter: best max_depth: 82 min_samples_leaf: 0.01040499949599 max_leaf_nodes: 27 -84756.58474598691\n",
      "Criterion: entropy splitter: random max_depth: 82 min_samples_leaf: 0.01040499949599 max_leaf_nodes: 27 -127052.37458226779\n",
      "Criterion: entropy splitter: best max_depth: 82 min_samples_leaf: 0.01040499949599 max_leaf_nodes: 27 -88160.4994820453\n",
      "Criterion: gini splitter: random max_depth: 84 min_samples_leaf: 0.01040499949599 max_leaf_nodes: 27 -111851.91552605348\n",
      "Criterion: gini splitter: best max_depth: 84 min_samples_leaf: 0.01040499949599 max_leaf_nodes: 27 -84756.58474598691\n",
      "Criterion: entropy splitter: random max_depth: 84 min_samples_leaf: 0.01040499949599 max_leaf_nodes: 27 -127052.37458226779\n",
      "Criterion: entropy splitter: best max_depth: 84 min_samples_leaf: 0.01040499949599 max_leaf_nodes: 27 -88160.4994820453\n",
      "Criterion: gini splitter: random max_depth: 65 min_samples_leaf: 0.01040499949599 max_leaf_nodes: 27 -111851.91552605348\n",
      "Criterion: gini splitter: best max_depth: 65 min_samples_leaf: 0.01040499949599 max_leaf_nodes: 27 -84756.58474598691\n",
      "Criterion: entropy splitter: random max_depth: 65 min_samples_leaf: 0.01040499949599 max_leaf_nodes: 27 -127052.37458226779\n",
      "Criterion: entropy splitter: best max_depth: 65 min_samples_leaf: 0.01040499949599 max_leaf_nodes: 27 -88160.4994820453\n",
      "Criterion: gini splitter: random max_depth: 83 min_samples_leaf: 0.010198959902010002 max_leaf_nodes: 27 -108325.62134197667\n",
      "Criterion: gini splitter: best max_depth: 83 min_samples_leaf: 0.010198959902010002 max_leaf_nodes: 27 -85516.58474598691\n",
      "Criterion: entropy splitter: random max_depth: 83 min_samples_leaf: 0.010198959902010002 max_leaf_nodes: 27 -124892.46327332164\n",
      "Criterion: entropy splitter: best max_depth: 83 min_samples_leaf: 0.010198959902010002 max_leaf_nodes: 27 -88723.49948204527\n",
      "Criterion: gini splitter: random max_depth: 82 min_samples_leaf: 0.010198959902010002 max_leaf_nodes: 27 -108325.62134197667\n",
      "Criterion: gini splitter: best max_depth: 82 min_samples_leaf: 0.010198959902010002 max_leaf_nodes: 27 -85516.58474598691\n",
      "Criterion: entropy splitter: random max_depth: 82 min_samples_leaf: 0.010198959902010002 max_leaf_nodes: 27 -124892.46327332164\n",
      "Criterion: entropy splitter: best max_depth: 82 min_samples_leaf: 0.010198959902010002 max_leaf_nodes: 27 -88723.49948204527\n",
      "Criterion: gini splitter: random max_depth: 84 min_samples_leaf: 0.010198959902010002 max_leaf_nodes: 27 -108325.62134197667\n",
      "Criterion: gini splitter: best max_depth: 84 min_samples_leaf: 0.010198959902010002 max_leaf_nodes: 27 -85516.58474598691\n",
      "Criterion: entropy splitter: random max_depth: 84 min_samples_leaf: 0.010198959902010002 max_leaf_nodes: 27 -124892.46327332164\n",
      "Criterion: entropy splitter: best max_depth: 84 min_samples_leaf: 0.010198959902010002 max_leaf_nodes: 27 -88723.49948204527\n",
      "Criterion: gini splitter: random max_depth: 65 min_samples_leaf: 0.010198959902010002 max_leaf_nodes: 27 -108325.62134197667\n",
      "Criterion: gini splitter: best max_depth: 65 min_samples_leaf: 0.010198959902010002 max_leaf_nodes: 27 -85516.58474598691\n",
      "Criterion: entropy splitter: random max_depth: 65 min_samples_leaf: 0.010198959902010002 max_leaf_nodes: 27 -124892.46327332164\n",
      "Criterion: entropy splitter: best max_depth: 65 min_samples_leaf: 0.010198959902010002 max_leaf_nodes: 27 -88723.49948204527\n",
      "Criterion: gini splitter: random max_depth: 83 min_samples_leaf: 0.010301979699000001 max_leaf_nodes: 26 -117962.04991340524\n",
      "Criterion: gini splitter: best max_depth: 83 min_samples_leaf: 0.010301979699000001 max_leaf_nodes: 26 -93547.77936296412\n",
      "Criterion: entropy splitter: random max_depth: 83 min_samples_leaf: 0.010301979699000001 max_leaf_nodes: 26 -133259.37458226777\n",
      "Criterion: entropy splitter: best max_depth: 83 min_samples_leaf: 0.010301979699000001 max_leaf_nodes: 26 -90104.4994820453\n",
      "Criterion: gini splitter: random max_depth: 82 min_samples_leaf: 0.010301979699000001 max_leaf_nodes: 26 -117962.04991340524\n",
      "Criterion: gini splitter: best max_depth: 82 min_samples_leaf: 0.010301979699000001 max_leaf_nodes: 26 -93547.77936296412\n",
      "Criterion: entropy splitter: random max_depth: 82 min_samples_leaf: 0.010301979699000001 max_leaf_nodes: 26 -133259.37458226777\n",
      "Criterion: entropy splitter: best max_depth: 82 min_samples_leaf: 0.010301979699000001 max_leaf_nodes: 26 -90104.4994820453\n",
      "Criterion: gini splitter: random max_depth: 84 min_samples_leaf: 0.010301979699000001 max_leaf_nodes: 26 -117962.04991340524\n",
      "Criterion: gini splitter: best max_depth: 84 min_samples_leaf: 0.010301979699000001 max_leaf_nodes: 26 -93547.77936296412\n",
      "Criterion: entropy splitter: random max_depth: 84 min_samples_leaf: 0.010301979699000001 max_leaf_nodes: 26 -133259.37458226777\n",
      "Criterion: entropy splitter: best max_depth: 84 min_samples_leaf: 0.010301979699000001 max_leaf_nodes: 26 -90104.4994820453\n",
      "Criterion: gini splitter: random max_depth: 65 min_samples_leaf: 0.010301979699000001 max_leaf_nodes: 26 -117962.04991340524\n",
      "Criterion: gini splitter: best max_depth: 65 min_samples_leaf: 0.010301979699000001 max_leaf_nodes: 26 -93547.77936296412\n",
      "Criterion: entropy splitter: random max_depth: 65 min_samples_leaf: 0.010301979699000001 max_leaf_nodes: 26 -133259.37458226777\n",
      "Criterion: entropy splitter: best max_depth: 65 min_samples_leaf: 0.010301979699000001 max_leaf_nodes: 26 -90104.4994820453\n",
      "Criterion: gini splitter: random max_depth: 83 min_samples_leaf: 0.01040499949599 max_leaf_nodes: 26 -117962.04991340524\n",
      "Criterion: gini splitter: best max_depth: 83 min_samples_leaf: 0.01040499949599 max_leaf_nodes: 26 -93547.77936296412\n",
      "Criterion: entropy splitter: random max_depth: 83 min_samples_leaf: 0.01040499949599 max_leaf_nodes: 26 -133259.37458226777\n",
      "Criterion: entropy splitter: best max_depth: 83 min_samples_leaf: 0.01040499949599 max_leaf_nodes: 26 -90104.4994820453\n",
      "Criterion: gini splitter: random max_depth: 82 min_samples_leaf: 0.01040499949599 max_leaf_nodes: 26 -117962.04991340524\n",
      "Criterion: gini splitter: best max_depth: 82 min_samples_leaf: 0.01040499949599 max_leaf_nodes: 26 -93547.77936296412\n",
      "Criterion: entropy splitter: random max_depth: 82 min_samples_leaf: 0.01040499949599 max_leaf_nodes: 26 -133259.37458226777\n",
      "Criterion: entropy splitter: best max_depth: 82 min_samples_leaf: 0.01040499949599 max_leaf_nodes: 26 -90104.4994820453\n",
      "Criterion: gini splitter: random max_depth: 84 min_samples_leaf: 0.01040499949599 max_leaf_nodes: 26 -117962.04991340524\n"
     ]
    },
    {
     "name": "stdout",
     "output_type": "stream",
     "text": [
      "Criterion: gini splitter: best max_depth: 84 min_samples_leaf: 0.01040499949599 max_leaf_nodes: 26 -93547.77936296412\n",
      "Criterion: entropy splitter: random max_depth: 84 min_samples_leaf: 0.01040499949599 max_leaf_nodes: 26 -133259.37458226777\n",
      "Criterion: entropy splitter: best max_depth: 84 min_samples_leaf: 0.01040499949599 max_leaf_nodes: 26 -90104.4994820453\n",
      "Criterion: gini splitter: random max_depth: 65 min_samples_leaf: 0.01040499949599 max_leaf_nodes: 26 -117962.04991340524\n",
      "Criterion: gini splitter: best max_depth: 65 min_samples_leaf: 0.01040499949599 max_leaf_nodes: 26 -93547.77936296412\n",
      "Criterion: entropy splitter: random max_depth: 65 min_samples_leaf: 0.01040499949599 max_leaf_nodes: 26 -133259.37458226777\n",
      "Criterion: entropy splitter: best max_depth: 65 min_samples_leaf: 0.01040499949599 max_leaf_nodes: 26 -90104.4994820453\n",
      "Criterion: gini splitter: random max_depth: 83 min_samples_leaf: 0.010198959902010002 max_leaf_nodes: 26 -112451.65193778988\n",
      "Criterion: gini splitter: best max_depth: 83 min_samples_leaf: 0.010198959902010002 max_leaf_nodes: 26 -94431.73193213408\n",
      "Criterion: entropy splitter: random max_depth: 83 min_samples_leaf: 0.010198959902010002 max_leaf_nodes: 26 -122134.46327332164\n",
      "Criterion: entropy splitter: best max_depth: 83 min_samples_leaf: 0.010198959902010002 max_leaf_nodes: 26 -89345.4994820453\n",
      "Criterion: gini splitter: random max_depth: 82 min_samples_leaf: 0.010198959902010002 max_leaf_nodes: 26 -112451.65193778988\n",
      "Criterion: gini splitter: best max_depth: 82 min_samples_leaf: 0.010198959902010002 max_leaf_nodes: 26 -94431.73193213408\n",
      "Criterion: entropy splitter: random max_depth: 82 min_samples_leaf: 0.010198959902010002 max_leaf_nodes: 26 -122134.46327332164\n",
      "Criterion: entropy splitter: best max_depth: 82 min_samples_leaf: 0.010198959902010002 max_leaf_nodes: 26 -89345.4994820453\n",
      "Criterion: gini splitter: random max_depth: 84 min_samples_leaf: 0.010198959902010002 max_leaf_nodes: 26 -112451.65193778988\n",
      "Criterion: gini splitter: best max_depth: 84 min_samples_leaf: 0.010198959902010002 max_leaf_nodes: 26 -94431.73193213408\n",
      "Criterion: entropy splitter: random max_depth: 84 min_samples_leaf: 0.010198959902010002 max_leaf_nodes: 26 -122134.46327332164\n",
      "Criterion: entropy splitter: best max_depth: 84 min_samples_leaf: 0.010198959902010002 max_leaf_nodes: 26 -89345.4994820453\n",
      "Criterion: gini splitter: random max_depth: 65 min_samples_leaf: 0.010198959902010002 max_leaf_nodes: 26 -112451.65193778988\n",
      "Criterion: gini splitter: best max_depth: 65 min_samples_leaf: 0.010198959902010002 max_leaf_nodes: 26 -94431.73193213408\n",
      "Criterion: entropy splitter: random max_depth: 65 min_samples_leaf: 0.010198959902010002 max_leaf_nodes: 26 -122134.46327332164\n",
      "Criterion: entropy splitter: best max_depth: 65 min_samples_leaf: 0.010198959902010002 max_leaf_nodes: 26 -89345.4994820453\n",
      "Criterion: gini splitter: random max_depth: 83 min_samples_leaf: 0.010301979699000001 max_leaf_nodes: 28 -106669.88831516913\n",
      "Criterion: gini splitter: best max_depth: 83 min_samples_leaf: 0.010301979699000001 max_leaf_nodes: 28 -88010.34250996205\n",
      "Criterion: entropy splitter: random max_depth: 83 min_samples_leaf: 0.010301979699000001 max_leaf_nodes: 28 -129184.37458226779\n",
      "Criterion: entropy splitter: best max_depth: 83 min_samples_leaf: 0.010301979699000001 max_leaf_nodes: 28 -92242.34796689377\n",
      "Criterion: gini splitter: random max_depth: 82 min_samples_leaf: 0.010301979699000001 max_leaf_nodes: 28 -106669.88831516913\n",
      "Criterion: gini splitter: best max_depth: 82 min_samples_leaf: 0.010301979699000001 max_leaf_nodes: 28 -88010.34250996205\n",
      "Criterion: entropy splitter: random max_depth: 82 min_samples_leaf: 0.010301979699000001 max_leaf_nodes: 28 -129184.37458226779\n",
      "Criterion: entropy splitter: best max_depth: 82 min_samples_leaf: 0.010301979699000001 max_leaf_nodes: 28 -92242.34796689377\n",
      "Criterion: gini splitter: random max_depth: 84 min_samples_leaf: 0.010301979699000001 max_leaf_nodes: 28 -106669.88831516913\n",
      "Criterion: gini splitter: best max_depth: 84 min_samples_leaf: 0.010301979699000001 max_leaf_nodes: 28 -88010.34250996205\n",
      "Criterion: entropy splitter: random max_depth: 84 min_samples_leaf: 0.010301979699000001 max_leaf_nodes: 28 -129184.37458226779\n",
      "Criterion: entropy splitter: best max_depth: 84 min_samples_leaf: 0.010301979699000001 max_leaf_nodes: 28 -92242.34796689377\n",
      "Criterion: gini splitter: random max_depth: 65 min_samples_leaf: 0.010301979699000001 max_leaf_nodes: 28 -106669.88831516913\n",
      "Criterion: gini splitter: best max_depth: 65 min_samples_leaf: 0.010301979699000001 max_leaf_nodes: 28 -88010.34250996205\n",
      "Criterion: entropy splitter: random max_depth: 65 min_samples_leaf: 0.010301979699000001 max_leaf_nodes: 28 -129184.37458226779\n",
      "Criterion: entropy splitter: best max_depth: 65 min_samples_leaf: 0.010301979699000001 max_leaf_nodes: 28 -92242.34796689377\n",
      "Criterion: gini splitter: random max_depth: 83 min_samples_leaf: 0.01040499949599 max_leaf_nodes: 28 -106669.88831516913\n",
      "Criterion: gini splitter: best max_depth: 83 min_samples_leaf: 0.01040499949599 max_leaf_nodes: 28 -88010.34250996205\n",
      "Criterion: entropy splitter: random max_depth: 83 min_samples_leaf: 0.01040499949599 max_leaf_nodes: 28 -129184.37458226779\n",
      "Criterion: entropy splitter: best max_depth: 83 min_samples_leaf: 0.01040499949599 max_leaf_nodes: 28 -92242.34796689377\n",
      "Criterion: gini splitter: random max_depth: 82 min_samples_leaf: 0.01040499949599 max_leaf_nodes: 28 -106669.88831516913\n",
      "Criterion: gini splitter: best max_depth: 82 min_samples_leaf: 0.01040499949599 max_leaf_nodes: 28 -88010.34250996205\n",
      "Criterion: entropy splitter: random max_depth: 82 min_samples_leaf: 0.01040499949599 max_leaf_nodes: 28 -129184.37458226779\n",
      "Criterion: entropy splitter: best max_depth: 82 min_samples_leaf: 0.01040499949599 max_leaf_nodes: 28 -92242.34796689377\n",
      "Criterion: gini splitter: random max_depth: 84 min_samples_leaf: 0.01040499949599 max_leaf_nodes: 28 -106669.88831516913\n",
      "Criterion: gini splitter: best max_depth: 84 min_samples_leaf: 0.01040499949599 max_leaf_nodes: 28 -88010.34250996205\n",
      "Criterion: entropy splitter: random max_depth: 84 min_samples_leaf: 0.01040499949599 max_leaf_nodes: 28 -129184.37458226779\n",
      "Criterion: entropy splitter: best max_depth: 84 min_samples_leaf: 0.01040499949599 max_leaf_nodes: 28 -92242.34796689377\n",
      "Criterion: gini splitter: random max_depth: 65 min_samples_leaf: 0.01040499949599 max_leaf_nodes: 28 -106669.88831516913\n",
      "Criterion: gini splitter: best max_depth: 65 min_samples_leaf: 0.01040499949599 max_leaf_nodes: 28 -88010.34250996205\n",
      "Criterion: entropy splitter: random max_depth: 65 min_samples_leaf: 0.01040499949599 max_leaf_nodes: 28 -129184.37458226779\n",
      "Criterion: entropy splitter: best max_depth: 65 min_samples_leaf: 0.01040499949599 max_leaf_nodes: 28 -92242.34796689377\n",
      "Criterion: gini splitter: random max_depth: 83 min_samples_leaf: 0.010198959902010002 max_leaf_nodes: 28 -109722.01432131119\n",
      "Criterion: gini splitter: best max_depth: 83 min_samples_leaf: 0.010198959902010002 max_leaf_nodes: 28 -88582.34250996205\n",
      "Criterion: entropy splitter: random max_depth: 83 min_samples_leaf: 0.010198959902010002 max_leaf_nodes: 28 -126232.46327332164\n",
      "Criterion: entropy splitter: best max_depth: 83 min_samples_leaf: 0.010198959902010002 max_leaf_nodes: 28 -93089.34796689378\n",
      "Criterion: gini splitter: random max_depth: 82 min_samples_leaf: 0.010198959902010002 max_leaf_nodes: 28 -109722.01432131119\n",
      "Criterion: gini splitter: best max_depth: 82 min_samples_leaf: 0.010198959902010002 max_leaf_nodes: 28 -88582.34250996205\n",
      "Criterion: entropy splitter: random max_depth: 82 min_samples_leaf: 0.010198959902010002 max_leaf_nodes: 28 -126232.46327332164\n",
      "Criterion: entropy splitter: best max_depth: 82 min_samples_leaf: 0.010198959902010002 max_leaf_nodes: 28 -93089.34796689378\n",
      "Criterion: gini splitter: random max_depth: 84 min_samples_leaf: 0.010198959902010002 max_leaf_nodes: 28 -109722.01432131119\n",
      "Criterion: gini splitter: best max_depth: 84 min_samples_leaf: 0.010198959902010002 max_leaf_nodes: 28 -88582.34250996205\n",
      "Criterion: entropy splitter: random max_depth: 84 min_samples_leaf: 0.010198959902010002 max_leaf_nodes: 28 -126232.46327332164\n",
      "Criterion: entropy splitter: best max_depth: 84 min_samples_leaf: 0.010198959902010002 max_leaf_nodes: 28 -93089.34796689378\n",
      "Criterion: gini splitter: random max_depth: 65 min_samples_leaf: 0.010198959902010002 max_leaf_nodes: 28 -109722.01432131119\n"
     ]
    },
    {
     "name": "stdout",
     "output_type": "stream",
     "text": [
      "Criterion: gini splitter: best max_depth: 65 min_samples_leaf: 0.010198959902010002 max_leaf_nodes: 28 -88582.34250996205\n",
      "Criterion: entropy splitter: random max_depth: 65 min_samples_leaf: 0.010198959902010002 max_leaf_nodes: 28 -126232.46327332164\n",
      "Criterion: entropy splitter: best max_depth: 65 min_samples_leaf: 0.010198959902010002 max_leaf_nodes: 28 -93089.34796689378\n",
      "Criterion: gini splitter: random max_depth: 83 min_samples_leaf: 0.010301979699000001 max_leaf_nodes: 91 -123427.84388404501\n",
      "Criterion: gini splitter: best max_depth: 83 min_samples_leaf: 0.010301979699000001 max_leaf_nodes: 91 -102146.83609204221\n",
      "Criterion: entropy splitter: random max_depth: 83 min_samples_leaf: 0.010301979699000001 max_leaf_nodes: 91 -109964.22490280919\n",
      "Criterion: entropy splitter: best max_depth: 83 min_samples_leaf: 0.010301979699000001 max_leaf_nodes: 91 -100159.26360741188\n",
      "Criterion: gini splitter: random max_depth: 82 min_samples_leaf: 0.010301979699000001 max_leaf_nodes: 91 -123427.84388404501\n",
      "Criterion: gini splitter: best max_depth: 82 min_samples_leaf: 0.010301979699000001 max_leaf_nodes: 91 -102146.83609204221\n",
      "Criterion: entropy splitter: random max_depth: 82 min_samples_leaf: 0.010301979699000001 max_leaf_nodes: 91 -109964.22490280919\n",
      "Criterion: entropy splitter: best max_depth: 82 min_samples_leaf: 0.010301979699000001 max_leaf_nodes: 91 -100159.26360741188\n",
      "Criterion: gini splitter: random max_depth: 84 min_samples_leaf: 0.010301979699000001 max_leaf_nodes: 91 -123427.84388404501\n",
      "Criterion: gini splitter: best max_depth: 84 min_samples_leaf: 0.010301979699000001 max_leaf_nodes: 91 -102146.83609204221\n",
      "Criterion: entropy splitter: random max_depth: 84 min_samples_leaf: 0.010301979699000001 max_leaf_nodes: 91 -109964.22490280919\n",
      "Criterion: entropy splitter: best max_depth: 84 min_samples_leaf: 0.010301979699000001 max_leaf_nodes: 91 -100159.26360741188\n",
      "Criterion: gini splitter: random max_depth: 65 min_samples_leaf: 0.010301979699000001 max_leaf_nodes: 91 -123427.84388404501\n",
      "Criterion: gini splitter: best max_depth: 65 min_samples_leaf: 0.010301979699000001 max_leaf_nodes: 91 -102146.83609204221\n",
      "Criterion: entropy splitter: random max_depth: 65 min_samples_leaf: 0.010301979699000001 max_leaf_nodes: 91 -109964.22490280919\n",
      "Criterion: entropy splitter: best max_depth: 65 min_samples_leaf: 0.010301979699000001 max_leaf_nodes: 91 -100159.26360741188\n",
      "Criterion: gini splitter: random max_depth: 83 min_samples_leaf: 0.01040499949599 max_leaf_nodes: 91 -123427.84388404501\n",
      "Criterion: gini splitter: best max_depth: 83 min_samples_leaf: 0.01040499949599 max_leaf_nodes: 91 -102146.83609204221\n",
      "Criterion: entropy splitter: random max_depth: 83 min_samples_leaf: 0.01040499949599 max_leaf_nodes: 91 -109964.22490280919\n",
      "Criterion: entropy splitter: best max_depth: 83 min_samples_leaf: 0.01040499949599 max_leaf_nodes: 91 -100159.26360741188\n",
      "Criterion: gini splitter: random max_depth: 82 min_samples_leaf: 0.01040499949599 max_leaf_nodes: 91 -123427.84388404501\n",
      "Criterion: gini splitter: best max_depth: 82 min_samples_leaf: 0.01040499949599 max_leaf_nodes: 91 -102146.83609204221\n",
      "Criterion: entropy splitter: random max_depth: 82 min_samples_leaf: 0.01040499949599 max_leaf_nodes: 91 -109964.22490280919\n",
      "Criterion: entropy splitter: best max_depth: 82 min_samples_leaf: 0.01040499949599 max_leaf_nodes: 91 -100159.26360741188\n",
      "Criterion: gini splitter: random max_depth: 84 min_samples_leaf: 0.01040499949599 max_leaf_nodes: 91 -123427.84388404501\n",
      "Criterion: gini splitter: best max_depth: 84 min_samples_leaf: 0.01040499949599 max_leaf_nodes: 91 -102146.83609204221\n",
      "Criterion: entropy splitter: random max_depth: 84 min_samples_leaf: 0.01040499949599 max_leaf_nodes: 91 -109964.22490280919\n",
      "Criterion: entropy splitter: best max_depth: 84 min_samples_leaf: 0.01040499949599 max_leaf_nodes: 91 -100159.26360741188\n",
      "Criterion: gini splitter: random max_depth: 65 min_samples_leaf: 0.01040499949599 max_leaf_nodes: 91 -123427.84388404501\n",
      "Criterion: gini splitter: best max_depth: 65 min_samples_leaf: 0.01040499949599 max_leaf_nodes: 91 -102146.83609204221\n",
      "Criterion: entropy splitter: random max_depth: 65 min_samples_leaf: 0.01040499949599 max_leaf_nodes: 91 -109964.22490280919\n",
      "Criterion: entropy splitter: best max_depth: 65 min_samples_leaf: 0.01040499949599 max_leaf_nodes: 91 -100159.26360741188\n",
      "Criterion: gini splitter: random max_depth: 83 min_samples_leaf: 0.010198959902010002 max_leaf_nodes: 91 -107284.1809334794\n",
      "Criterion: gini splitter: best max_depth: 83 min_samples_leaf: 0.010198959902010002 max_leaf_nodes: 91 -103459.33725754336\n",
      "Criterion: entropy splitter: random max_depth: 83 min_samples_leaf: 0.010198959902010002 max_leaf_nodes: 91 -117054.56883861829\n",
      "Criterion: entropy splitter: best max_depth: 83 min_samples_leaf: 0.010198959902010002 max_leaf_nodes: 91 -102969.40718742451\n",
      "Criterion: gini splitter: random max_depth: 82 min_samples_leaf: 0.010198959902010002 max_leaf_nodes: 91 -107284.1809334794\n",
      "Criterion: gini splitter: best max_depth: 82 min_samples_leaf: 0.010198959902010002 max_leaf_nodes: 91 -103459.33725754336\n",
      "Criterion: entropy splitter: random max_depth: 82 min_samples_leaf: 0.010198959902010002 max_leaf_nodes: 91 -117054.56883861829\n",
      "Criterion: entropy splitter: best max_depth: 82 min_samples_leaf: 0.010198959902010002 max_leaf_nodes: 91 -102969.40718742451\n",
      "Criterion: gini splitter: random max_depth: 84 min_samples_leaf: 0.010198959902010002 max_leaf_nodes: 91 -107284.1809334794\n",
      "Criterion: gini splitter: best max_depth: 84 min_samples_leaf: 0.010198959902010002 max_leaf_nodes: 91 -103459.33725754336\n",
      "Criterion: entropy splitter: random max_depth: 84 min_samples_leaf: 0.010198959902010002 max_leaf_nodes: 91 -117054.56883861829\n",
      "Criterion: entropy splitter: best max_depth: 84 min_samples_leaf: 0.010198959902010002 max_leaf_nodes: 91 -102969.40718742451\n",
      "Criterion: gini splitter: random max_depth: 65 min_samples_leaf: 0.010198959902010002 max_leaf_nodes: 91 -107284.1809334794\n",
      "Criterion: gini splitter: best max_depth: 65 min_samples_leaf: 0.010198959902010002 max_leaf_nodes: 91 -103459.33725754336\n",
      "Criterion: entropy splitter: random max_depth: 65 min_samples_leaf: 0.010198959902010002 max_leaf_nodes: 91 -117054.56883861829\n",
      "Criterion: entropy splitter: best max_depth: 65 min_samples_leaf: 0.010198959902010002 max_leaf_nodes: 91 -102969.40718742451\n",
      "Real output model: DecisionTreeClassifier(max_depth=83, max_leaf_nodes=27,\n",
      "                       min_samples_leaf=0.010301979699000001, random_state=75)\n",
      "\n",
      "model_5\n",
      "DecisionTreeClassifier(max_depth=83, max_leaf_nodes=27,\n",
      "                       min_samples_leaf=0.010301979699000001, random_state=75)\n",
      "['R_avg_SIG_STR_pct', 'sig_str_dif', 'B_win_by_Decision_Unanimous', 'B_avg_SUB_ATT', 'R_losses', 'R_odds', 'lose_streak_dif', 'R_win_by_Submission', 'country', 'B_Reach_cms', 'B_Weight_lbs', 'R_avg_SUB_ATT', 'R_total_rounds_fought', 'R_age', 'total_title_bout_dif', 'win_streak_dif', 'R_Weight_lbs', 'avg_sub_att_dif', 'R_ev', 'B_avg_TD_landed', 'B_Height_cms', 'Red - KO/TKO', 'Blue - DEC', 'B_win_by_KO/TKO', 'total_round_dif', 'R_Height_cms', 'B_total_title_bouts', 'B_wins', 'no_of_rounds', 'Blue - SUB', 'B_Stance', 'B_current_win_streak', 'R_longest_win_streak', 'R_Reach_cms', 'reach_dif', 'R_total_title_bouts', 'B_age', 'B_avg_SIG_STR_landed', 'B_longest_win_streak', 'B_Heavyweight_rank', 'B_ev', 'gender']\n",
      "0\n",
      "\n"
     ]
    },
    {
     "data": {
      "text/plain": [
       "(2686, 72)"
      ]
     },
     "metadata": {},
     "output_type": "display_data"
    },
    {
     "data": {
      "text/plain": [
       "(2686,)"
      ]
     },
     "metadata": {},
     "output_type": "display_data"
    },
    {
     "data": {
      "text/plain": [
       "(2686, 6)"
      ]
     },
     "metadata": {},
     "output_type": "display_data"
    },
    {
     "data": {
      "text/plain": [
       "(240, 72)"
      ]
     },
     "metadata": {},
     "output_type": "display_data"
    },
    {
     "data": {
      "text/plain": [
       "(240,)"
      ]
     },
     "metadata": {},
     "output_type": "display_data"
    },
    {
     "data": {
      "text/plain": [
       "(240, 6)"
      ]
     },
     "metadata": {},
     "output_type": "display_data"
    },
    {
     "name": "stdout",
     "output_type": "stream",
     "text": [
      "250     5\n",
      "251     3\n",
      "252     3\n",
      "253     5\n",
      "254     0\n",
      "       ..\n",
      "4217    0\n",
      "4225    1\n",
      "4226    3\n",
      "4227    5\n",
      "4228    5\n",
      "Name: label, Length: 2686, dtype: int64\n",
      "Real Score: -4546.249827467219\n",
      "HI\n",
      "HI\n",
      "HI\n",
      "HI\n",
      "HI\n",
      "\n",
      "model_5\n",
      "DecisionTreeClassifier(max_depth=83, max_leaf_nodes=27,\n",
      "                       min_samples_leaf=0.010301979699000001, random_state=75)\n",
      "['R_avg_SIG_STR_pct', 'sig_str_dif', 'B_win_by_Decision_Unanimous', 'B_avg_SUB_ATT', 'R_losses', 'R_odds', 'lose_streak_dif', 'R_win_by_Submission', 'country', 'B_Reach_cms', 'B_Weight_lbs', 'R_avg_SUB_ATT', 'R_total_rounds_fought', 'R_age', 'total_title_bout_dif', 'win_streak_dif', 'R_Weight_lbs', 'avg_sub_att_dif', 'R_ev', 'B_avg_TD_landed', 'B_Height_cms', 'Red - KO/TKO', 'Blue - DEC', 'B_win_by_KO/TKO', 'total_round_dif', 'R_Height_cms', 'B_total_title_bouts', 'B_wins', 'no_of_rounds', 'Blue - SUB', 'B_Stance', 'B_current_win_streak', 'R_longest_win_streak', 'R_Reach_cms', 'reach_dif', 'R_total_title_bouts', 'B_age', 'B_avg_SIG_STR_landed', 'B_longest_win_streak', 'B_Heavyweight_rank', 'B_ev', 'gender']\n",
      "0\n",
      "\n"
     ]
    },
    {
     "data": {
      "text/plain": [
       "(2686, 72)"
      ]
     },
     "metadata": {},
     "output_type": "display_data"
    },
    {
     "data": {
      "text/plain": [
       "(2686,)"
      ]
     },
     "metadata": {},
     "output_type": "display_data"
    },
    {
     "data": {
      "text/plain": [
       "(2686, 6)"
      ]
     },
     "metadata": {},
     "output_type": "display_data"
    },
    {
     "data": {
      "text/plain": [
       "(240, 72)"
      ]
     },
     "metadata": {},
     "output_type": "display_data"
    },
    {
     "data": {
      "text/plain": [
       "(240,)"
      ]
     },
     "metadata": {},
     "output_type": "display_data"
    },
    {
     "data": {
      "text/plain": [
       "(240, 6)"
      ]
     },
     "metadata": {},
     "output_type": "display_data"
    },
    {
     "name": "stdout",
     "output_type": "stream",
     "text": [
      "250     5\n",
      "251     3\n",
      "252     3\n",
      "253     5\n",
      "254     0\n",
      "       ..\n",
      "4217    0\n",
      "4225    1\n",
      "4226    3\n",
      "4227    5\n",
      "4228    5\n",
      "Name: label, Length: 2686, dtype: int64\n",
      "Real Score: -4546.249827467219\n",
      "HI\n",
      "HI\n",
      "HI\n",
      "HI\n",
      "HI\n",
      "The original score is -84756.58474598691\n",
      "NEW BEST FEATURE SET WITH: B_odds REMOVED -83255.54126772605\n",
      "NEW BEST FEATURE SET WITH: weight_class REMOVED -78824.1929335482\n",
      "The original score is -78824.1929335482\n",
      "NEW BEST FEATURE SET WITH: B_odds REMOVED -77688.24036437823\n",
      "NEW BEST FEATURE SET WITH: country REMOVED -77657.1929335482\n",
      "NEW BEST FEATURE SET WITH: B_win_by_KO/TKO REMOVED -76498.43516957304\n",
      "The original score is -76498.43516957304\n",
      "NEW BEST FEATURE SET WITH: B_odds REMOVED -74028.48260040308\n",
      "The original score is -74028.48260040308\n",
      "NEW BEST FEATURE SET WITH: date REMOVED -72013.00139739556\n",
      "NEW BEST FEATURE SET WITH: B_current_lose_streak REMOVED -71631.38816086204\n",
      "The original score is -71631.38816086204\n",
      "NEW BEST FEATURE SET WITH: date REMOVED -70215.90695785452\n",
      "The original score is -70215.90695785452\n",
      "NEW BEST FEATURE SET WITH: R_odds REMOVED -69615.90695785452\n",
      "NEW BEST FEATURE SET WITH: date REMOVED -69456.90695785452\n",
      "NEW BEST FEATURE SET WITH: B_win_by_Decision_Unanimous REMOVED -68186.9504361154\n",
      "The original score is -68186.9504361154\n",
      "NEW BEST FEATURE SET WITH: date REMOVED -68127.95043611538\n",
      "NEW BEST FEATURE SET WITH: title_bout REMOVED -68081.95043611538\n",
      "NEW BEST FEATURE SET WITH: B_losses REMOVED -67566.18364289471\n",
      "NEW BEST FEATURE SET WITH: B_Reach_cms REMOVED -67013.1477605301\n",
      "The original score is -67013.1477605301\n",
      "NEW BEST FEATURE SET WITH: date REMOVED -66954.1477605301\n",
      "NEW BEST FEATURE SET WITH: B_losses REMOVED -66392.38096730944\n",
      "The original score is -66392.38096730944\n",
      "NEW BEST FEATURE SET WITH: date REMOVED -66233.38096730944\n",
      "NEW BEST FEATURE SET WITH: B_losses REMOVED -66080.61906254753\n",
      "The original score is -66080.61906254753\n",
      "NEW BEST FEATURE SET WITH: R_odds REMOVED -65480.61906254753\n",
      "NEW BEST FEATURE SET WITH: date REMOVED -65321.61906254753\n",
      "The original score is -65321.61906254753\n",
      "\n",
      "model_5\n",
      "DecisionTreeClassifier(max_depth=83, max_leaf_nodes=27,\n",
      "                       min_samples_leaf=0.010301979699000001, random_state=75)\n",
      "['R_avg_SIG_STR_pct', 'sig_str_dif', 'B_win_by_Decision_Unanimous', 'R_losses', 'R_odds', 'lose_streak_dif', 'B_Reach_cms', 'B_Weight_lbs', 'R_total_rounds_fought', 'R_age', 'total_title_bout_dif', 'win_streak_dif', 'avg_sub_att_dif', 'R_ev', 'B_avg_TD_landed', 'B_Height_cms', 'Red - KO/TKO', 'Blue - DEC', 'B_win_by_KO/TKO', 'total_round_dif', 'R_Height_cms', 'B_total_title_bouts', 'Blue - SUB', 'B_current_win_streak', 'R_longest_win_streak', 'reach_dif', 'R_total_title_bouts', 'B_age', 'B_avg_SIG_STR_landed', 'B_longest_win_streak', 'B_Heavyweight_rank', 'B_ev']\n",
      "0\n",
      "\n"
     ]
    },
    {
     "data": {
      "text/plain": [
       "(2686, 32)"
      ]
     },
     "metadata": {},
     "output_type": "display_data"
    },
    {
     "data": {
      "text/plain": [
       "(2686,)"
      ]
     },
     "metadata": {},
     "output_type": "display_data"
    },
    {
     "data": {
      "text/plain": [
       "(2686, 6)"
      ]
     },
     "metadata": {},
     "output_type": "display_data"
    },
    {
     "data": {
      "text/plain": [
       "(242, 32)"
      ]
     },
     "metadata": {},
     "output_type": "display_data"
    },
    {
     "data": {
      "text/plain": [
       "(242,)"
      ]
     },
     "metadata": {},
     "output_type": "display_data"
    },
    {
     "data": {
      "text/plain": [
       "(242, 6)"
      ]
     },
     "metadata": {},
     "output_type": "display_data"
    },
    {
     "name": "stdout",
     "output_type": "stream",
     "text": [
      "250     5\n",
      "251     3\n",
      "252     3\n",
      "253     5\n",
      "254     0\n",
      "       ..\n",
      "4217    0\n",
      "4225    1\n",
      "4226    3\n",
      "4227    5\n",
      "4228    5\n",
      "Name: label, Length: 2686, dtype: int64\n",
      "Real Score: -4194.249827467218\n",
      "HI\n",
      "HI\n",
      "HI\n",
      "HI\n",
      "HI\n",
      "The hyperparameters are different\n",
      "OLD:\n",
      "DecisionTreeClassifier(max_depth=83, max_leaf_nodes=27,\n",
      "                       min_samples_leaf=0.010199979900000001, random_state=75)\n",
      "NEW:\n",
      "DecisionTreeClassifier(max_depth=83, max_leaf_nodes=27,\n",
      "                       min_samples_leaf=0.010301979699000001, random_state=75)\n",
      "The features are different\n",
      "OLD:\n",
      "['R_avg_SIG_STR_pct', 'sig_str_dif', 'B_win_by_Decision_Unanimous', 'B_avg_SUB_ATT', 'R_losses', 'R_odds', 'lose_streak_dif', 'R_win_by_Submission', 'country', 'B_Reach_cms', 'B_Weight_lbs', 'R_avg_SUB_ATT', 'R_total_rounds_fought', 'R_age', 'total_title_bout_dif', 'win_streak_dif', 'R_Weight_lbs', 'avg_sub_att_dif', 'R_ev', 'B_avg_TD_landed', 'B_Height_cms', 'Red - KO/TKO', 'Blue - DEC', 'B_win_by_KO/TKO', 'total_round_dif', 'R_Height_cms', 'B_total_title_bouts', 'B_wins', 'no_of_rounds', 'Blue - SUB', 'B_Stance', 'B_current_win_streak', 'R_longest_win_streak', 'R_Reach_cms', 'reach_dif', 'R_total_title_bouts', 'B_age', 'B_avg_SIG_STR_landed', 'B_longest_win_streak', 'B_Heavyweight_rank', 'B_ev', 'gender']\n",
      "NEW:\n",
      "['R_avg_SIG_STR_pct', 'sig_str_dif', 'B_win_by_Decision_Unanimous', 'R_losses', 'R_odds', 'lose_streak_dif', 'B_Reach_cms', 'B_Weight_lbs', 'R_total_rounds_fought', 'R_age', 'total_title_bout_dif', 'win_streak_dif', 'avg_sub_att_dif', 'R_ev', 'B_avg_TD_landed', 'B_Height_cms', 'Red - KO/TKO', 'Blue - DEC', 'B_win_by_KO/TKO', 'total_round_dif', 'R_Height_cms', 'B_total_title_bouts', 'Blue - SUB', 'B_current_win_streak', 'R_longest_win_streak', 'reach_dif', 'R_total_title_bouts', 'B_age', 'B_avg_SIG_STR_landed', 'B_longest_win_streak', 'B_Heavyweight_rank', 'B_ev']\n",
      "Current best score is: -65321.61906254753\n",
      "Feature: ko_dif Score: -62609.47301504664\n",
      "The best feature was ko_dif.  It scored -62609.47301504664\n",
      "Current best score is: -62609.47301504664\n",
      "Feature: B_odds Score: -62509.47301504664\n",
      "The best feature was B_odds.  It scored -62509.47301504664\n",
      "Current best score is: -62509.47301504664\n",
      "NO IMPROVEMENT\n",
      "FINAL BEST SCORE: -62509.47301504664\n",
      "\n",
      "model_5\n",
      "DecisionTreeClassifier(max_depth=83, max_leaf_nodes=27,\n",
      "                       min_samples_leaf=0.010301979699000001, random_state=75)\n",
      "['B_odds', 'ko_dif', 'R_avg_SIG_STR_pct', 'sig_str_dif', 'B_win_by_Decision_Unanimous', 'R_losses', 'R_odds', 'lose_streak_dif', 'B_Reach_cms', 'B_Weight_lbs', 'R_total_rounds_fought', 'R_age', 'total_title_bout_dif', 'win_streak_dif', 'avg_sub_att_dif', 'R_ev', 'B_avg_TD_landed', 'B_Height_cms', 'Red - KO/TKO', 'Blue - DEC', 'B_win_by_KO/TKO', 'total_round_dif', 'R_Height_cms', 'B_total_title_bouts', 'Blue - SUB', 'B_current_win_streak', 'R_longest_win_streak', 'reach_dif', 'R_total_title_bouts', 'B_age', 'B_avg_SIG_STR_landed', 'B_longest_win_streak', 'B_Heavyweight_rank', 'B_ev']\n",
      "0\n",
      "\n"
     ]
    },
    {
     "data": {
      "text/plain": [
       "(2686, 34)"
      ]
     },
     "metadata": {},
     "output_type": "display_data"
    },
    {
     "data": {
      "text/plain": [
       "(2686,)"
      ]
     },
     "metadata": {},
     "output_type": "display_data"
    },
    {
     "data": {
      "text/plain": [
       "(2686, 6)"
      ]
     },
     "metadata": {},
     "output_type": "display_data"
    },
    {
     "data": {
      "text/plain": [
       "(242, 34)"
      ]
     },
     "metadata": {},
     "output_type": "display_data"
    },
    {
     "data": {
      "text/plain": [
       "(242,)"
      ]
     },
     "metadata": {},
     "output_type": "display_data"
    },
    {
     "data": {
      "text/plain": [
       "(242, 6)"
      ]
     },
     "metadata": {},
     "output_type": "display_data"
    },
    {
     "name": "stdout",
     "output_type": "stream",
     "text": [
      "250     5\n",
      "251     3\n",
      "252     3\n",
      "253     5\n",
      "254     0\n",
      "       ..\n",
      "4217    0\n",
      "4225    1\n",
      "4226    3\n",
      "4227    5\n",
      "4228    5\n",
      "Name: label, Length: 2686, dtype: int64\n",
      "Real Score: -4194.249827467218\n",
      "HI\n",
      "HI\n",
      "HI\n",
      "HI\n",
      "HI\n",
      "\n",
      "\n",
      "Starting New Run for DecisionTree\n",
      "\n",
      "\n",
      "Previous Best Score: -62509.47301504664\n",
      "Criterion: gini splitter: random max_depth: 83 min_samples_leaf: 0.010301979699000001 max_leaf_nodes: 27 -109919.8320909427\n",
      "Criterion: gini splitter: best max_depth: 83 min_samples_leaf: 0.010301979699000001 max_leaf_nodes: 27 -62509.47301504664\n",
      "Criterion: entropy splitter: random max_depth: 83 min_samples_leaf: 0.010301979699000001 max_leaf_nodes: 27 -112339.95967710533\n",
      "Criterion: entropy splitter: best max_depth: 83 min_samples_leaf: 0.010301979699000001 max_leaf_nodes: 27 -77065.5490110688\n",
      "Criterion: gini splitter: random max_depth: 82 min_samples_leaf: 0.010301979699000001 max_leaf_nodes: 27 -109919.8320909427\n",
      "Criterion: gini splitter: best max_depth: 82 min_samples_leaf: 0.010301979699000001 max_leaf_nodes: 27 -62509.47301504664\n",
      "Criterion: entropy splitter: random max_depth: 82 min_samples_leaf: 0.010301979699000001 max_leaf_nodes: 27 -112339.95967710533\n",
      "Criterion: entropy splitter: best max_depth: 82 min_samples_leaf: 0.010301979699000001 max_leaf_nodes: 27 -77065.5490110688\n",
      "Criterion: gini splitter: random max_depth: 84 min_samples_leaf: 0.010301979699000001 max_leaf_nodes: 27 -109919.8320909427\n",
      "Criterion: gini splitter: best max_depth: 84 min_samples_leaf: 0.010301979699000001 max_leaf_nodes: 27 -62509.47301504664\n",
      "Criterion: entropy splitter: random max_depth: 84 min_samples_leaf: 0.010301979699000001 max_leaf_nodes: 27 -112339.95967710533\n",
      "Criterion: entropy splitter: best max_depth: 84 min_samples_leaf: 0.010301979699000001 max_leaf_nodes: 27 -77065.5490110688\n",
      "Criterion: gini splitter: random max_depth: 36 min_samples_leaf: 0.010301979699000001 max_leaf_nodes: 27 -109919.8320909427\n",
      "Criterion: gini splitter: best max_depth: 36 min_samples_leaf: 0.010301979699000001 max_leaf_nodes: 27 -62509.47301504664\n",
      "Criterion: entropy splitter: random max_depth: 36 min_samples_leaf: 0.010301979699000001 max_leaf_nodes: 27 -112339.95967710533\n",
      "Criterion: entropy splitter: best max_depth: 36 min_samples_leaf: 0.010301979699000001 max_leaf_nodes: 27 -77065.5490110688\n",
      "Criterion: gini splitter: random max_depth: 83 min_samples_leaf: 0.01040499949599 max_leaf_nodes: 27 -109919.8320909427\n",
      "Criterion: gini splitter: best max_depth: 83 min_samples_leaf: 0.01040499949599 max_leaf_nodes: 27 -62509.47301504664\n",
      "Criterion: entropy splitter: random max_depth: 83 min_samples_leaf: 0.01040499949599 max_leaf_nodes: 27 -112339.95967710533\n",
      "Criterion: entropy splitter: best max_depth: 83 min_samples_leaf: 0.01040499949599 max_leaf_nodes: 27 -77065.5490110688\n",
      "Criterion: gini splitter: random max_depth: 82 min_samples_leaf: 0.01040499949599 max_leaf_nodes: 27 -109919.8320909427\n",
      "Criterion: gini splitter: best max_depth: 82 min_samples_leaf: 0.01040499949599 max_leaf_nodes: 27 -62509.47301504664\n",
      "Criterion: entropy splitter: random max_depth: 82 min_samples_leaf: 0.01040499949599 max_leaf_nodes: 27 -112339.95967710533\n",
      "Criterion: entropy splitter: best max_depth: 82 min_samples_leaf: 0.01040499949599 max_leaf_nodes: 27 -77065.5490110688\n",
      "Criterion: gini splitter: random max_depth: 84 min_samples_leaf: 0.01040499949599 max_leaf_nodes: 27 -109919.8320909427\n",
      "Criterion: gini splitter: best max_depth: 84 min_samples_leaf: 0.01040499949599 max_leaf_nodes: 27 -62509.47301504664\n",
      "Criterion: entropy splitter: random max_depth: 84 min_samples_leaf: 0.01040499949599 max_leaf_nodes: 27 -112339.95967710533\n",
      "Criterion: entropy splitter: best max_depth: 84 min_samples_leaf: 0.01040499949599 max_leaf_nodes: 27 -77065.5490110688\n",
      "Criterion: gini splitter: random max_depth: 36 min_samples_leaf: 0.01040499949599 max_leaf_nodes: 27 -109919.8320909427\n",
      "Criterion: gini splitter: best max_depth: 36 min_samples_leaf: 0.01040499949599 max_leaf_nodes: 27 -62509.47301504664\n",
      "Criterion: entropy splitter: random max_depth: 36 min_samples_leaf: 0.01040499949599 max_leaf_nodes: 27 -112339.95967710533\n",
      "Criterion: entropy splitter: best max_depth: 36 min_samples_leaf: 0.01040499949599 max_leaf_nodes: 27 -77065.5490110688\n",
      "Criterion: gini splitter: random max_depth: 83 min_samples_leaf: 0.010198959902010002 max_leaf_nodes: 27 -107228.83882783883\n",
      "Criterion: gini splitter: best max_depth: 83 min_samples_leaf: 0.010198959902010002 max_leaf_nodes: 27 -64352.51649330751\n",
      "Criterion: entropy splitter: random max_depth: 83 min_samples_leaf: 0.010198959902010002 max_leaf_nodes: 27 -111758.67377460204\n",
      "Criterion: entropy splitter: best max_depth: 83 min_samples_leaf: 0.010198959902010002 max_leaf_nodes: 27 -77265.5490110688\n",
      "Criterion: gini splitter: random max_depth: 82 min_samples_leaf: 0.010198959902010002 max_leaf_nodes: 27 -107228.83882783883\n",
      "Criterion: gini splitter: best max_depth: 82 min_samples_leaf: 0.010198959902010002 max_leaf_nodes: 27 -64352.51649330751\n",
      "Criterion: entropy splitter: random max_depth: 82 min_samples_leaf: 0.010198959902010002 max_leaf_nodes: 27 -111758.67377460204\n",
      "Criterion: entropy splitter: best max_depth: 82 min_samples_leaf: 0.010198959902010002 max_leaf_nodes: 27 -77265.5490110688\n",
      "Criterion: gini splitter: random max_depth: 84 min_samples_leaf: 0.010198959902010002 max_leaf_nodes: 27 -107228.83882783883\n",
      "Criterion: gini splitter: best max_depth: 84 min_samples_leaf: 0.010198959902010002 max_leaf_nodes: 27 -64352.51649330751\n",
      "Criterion: entropy splitter: random max_depth: 84 min_samples_leaf: 0.010198959902010002 max_leaf_nodes: 27 -111758.67377460204\n",
      "Criterion: entropy splitter: best max_depth: 84 min_samples_leaf: 0.010198959902010002 max_leaf_nodes: 27 -77265.5490110688\n",
      "Criterion: gini splitter: random max_depth: 36 min_samples_leaf: 0.010198959902010002 max_leaf_nodes: 27 -107228.83882783883\n",
      "Criterion: gini splitter: best max_depth: 36 min_samples_leaf: 0.010198959902010002 max_leaf_nodes: 27 -64352.51649330751\n",
      "Criterion: entropy splitter: random max_depth: 36 min_samples_leaf: 0.010198959902010002 max_leaf_nodes: 27 -111758.67377460204\n",
      "Criterion: entropy splitter: best max_depth: 36 min_samples_leaf: 0.010198959902010002 max_leaf_nodes: 27 -77265.5490110688\n",
      "Criterion: gini splitter: random max_depth: 83 min_samples_leaf: 0.010301979699000001 max_leaf_nodes: 26 -110261.8320909427\n",
      "Criterion: gini splitter: best max_depth: 83 min_samples_leaf: 0.010301979699000001 max_leaf_nodes: 26 -70296.6158721895\n",
      "Criterion: entropy splitter: random max_depth: 83 min_samples_leaf: 0.010301979699000001 max_leaf_nodes: 26 -112545.95967710533\n",
      "Criterion: entropy splitter: best max_depth: 83 min_samples_leaf: 0.010301979699000001 max_leaf_nodes: 26 -79601.5490110688\n",
      "Criterion: gini splitter: random max_depth: 82 min_samples_leaf: 0.010301979699000001 max_leaf_nodes: 26 -110261.8320909427\n",
      "Criterion: gini splitter: best max_depth: 82 min_samples_leaf: 0.010301979699000001 max_leaf_nodes: 26 -70296.6158721895\n",
      "Criterion: entropy splitter: random max_depth: 82 min_samples_leaf: 0.010301979699000001 max_leaf_nodes: 26 -112545.95967710533\n",
      "Criterion: entropy splitter: best max_depth: 82 min_samples_leaf: 0.010301979699000001 max_leaf_nodes: 26 -79601.5490110688\n",
      "Criterion: gini splitter: random max_depth: 84 min_samples_leaf: 0.010301979699000001 max_leaf_nodes: 26 -110261.8320909427\n",
      "Criterion: gini splitter: best max_depth: 84 min_samples_leaf: 0.010301979699000001 max_leaf_nodes: 26 -70296.6158721895\n",
      "Criterion: entropy splitter: random max_depth: 84 min_samples_leaf: 0.010301979699000001 max_leaf_nodes: 26 -112545.95967710533\n",
      "Criterion: entropy splitter: best max_depth: 84 min_samples_leaf: 0.010301979699000001 max_leaf_nodes: 26 -79601.5490110688\n",
      "Criterion: gini splitter: random max_depth: 36 min_samples_leaf: 0.010301979699000001 max_leaf_nodes: 26 -110261.8320909427\n",
      "Criterion: gini splitter: best max_depth: 36 min_samples_leaf: 0.010301979699000001 max_leaf_nodes: 26 -70296.6158721895\n",
      "Criterion: entropy splitter: random max_depth: 36 min_samples_leaf: 0.010301979699000001 max_leaf_nodes: 26 -112545.95967710533\n",
      "Criterion: entropy splitter: best max_depth: 36 min_samples_leaf: 0.010301979699000001 max_leaf_nodes: 26 -79601.5490110688\n",
      "Criterion: gini splitter: random max_depth: 83 min_samples_leaf: 0.01040499949599 max_leaf_nodes: 26 -110261.8320909427\n",
      "Criterion: gini splitter: best max_depth: 83 min_samples_leaf: 0.01040499949599 max_leaf_nodes: 26 -70296.6158721895\n"
     ]
    },
    {
     "name": "stdout",
     "output_type": "stream",
     "text": [
      "Criterion: entropy splitter: random max_depth: 83 min_samples_leaf: 0.01040499949599 max_leaf_nodes: 26 -112545.95967710533\n",
      "Criterion: entropy splitter: best max_depth: 83 min_samples_leaf: 0.01040499949599 max_leaf_nodes: 26 -79601.5490110688\n",
      "Criterion: gini splitter: random max_depth: 82 min_samples_leaf: 0.01040499949599 max_leaf_nodes: 26 -110261.8320909427\n",
      "Criterion: gini splitter: best max_depth: 82 min_samples_leaf: 0.01040499949599 max_leaf_nodes: 26 -70296.6158721895\n",
      "Criterion: entropy splitter: random max_depth: 82 min_samples_leaf: 0.01040499949599 max_leaf_nodes: 26 -112545.95967710533\n",
      "Criterion: entropy splitter: best max_depth: 82 min_samples_leaf: 0.01040499949599 max_leaf_nodes: 26 -79601.5490110688\n",
      "Criterion: gini splitter: random max_depth: 84 min_samples_leaf: 0.01040499949599 max_leaf_nodes: 26 -110261.8320909427\n",
      "Criterion: gini splitter: best max_depth: 84 min_samples_leaf: 0.01040499949599 max_leaf_nodes: 26 -70296.6158721895\n",
      "Criterion: entropy splitter: random max_depth: 84 min_samples_leaf: 0.01040499949599 max_leaf_nodes: 26 -112545.95967710533\n",
      "Criterion: entropy splitter: best max_depth: 84 min_samples_leaf: 0.01040499949599 max_leaf_nodes: 26 -79601.5490110688\n",
      "Criterion: gini splitter: random max_depth: 36 min_samples_leaf: 0.01040499949599 max_leaf_nodes: 26 -110261.8320909427\n",
      "Criterion: gini splitter: best max_depth: 36 min_samples_leaf: 0.01040499949599 max_leaf_nodes: 26 -70296.6158721895\n",
      "Criterion: entropy splitter: random max_depth: 36 min_samples_leaf: 0.01040499949599 max_leaf_nodes: 26 -112545.95967710533\n",
      "Criterion: entropy splitter: best max_depth: 36 min_samples_leaf: 0.01040499949599 max_leaf_nodes: 26 -79601.5490110688\n",
      "Criterion: gini splitter: random max_depth: 83 min_samples_leaf: 0.010198959902010002 max_leaf_nodes: 26 -109025.83882783883\n",
      "Criterion: gini splitter: best max_depth: 83 min_samples_leaf: 0.010198959902010002 max_leaf_nodes: 26 -70852.65935045037\n",
      "Criterion: entropy splitter: random max_depth: 83 min_samples_leaf: 0.010198959902010002 max_leaf_nodes: 26 -114282.67377460204\n",
      "Criterion: entropy splitter: best max_depth: 83 min_samples_leaf: 0.010198959902010002 max_leaf_nodes: 26 -79801.5490110688\n",
      "Criterion: gini splitter: random max_depth: 82 min_samples_leaf: 0.010198959902010002 max_leaf_nodes: 26 -109025.83882783883\n",
      "Criterion: gini splitter: best max_depth: 82 min_samples_leaf: 0.010198959902010002 max_leaf_nodes: 26 -70852.65935045037\n",
      "Criterion: entropy splitter: random max_depth: 82 min_samples_leaf: 0.010198959902010002 max_leaf_nodes: 26 -114282.67377460204\n",
      "Criterion: entropy splitter: best max_depth: 82 min_samples_leaf: 0.010198959902010002 max_leaf_nodes: 26 -79801.5490110688\n",
      "Criterion: gini splitter: random max_depth: 84 min_samples_leaf: 0.010198959902010002 max_leaf_nodes: 26 -109025.83882783883\n",
      "Criterion: gini splitter: best max_depth: 84 min_samples_leaf: 0.010198959902010002 max_leaf_nodes: 26 -70852.65935045037\n",
      "Criterion: entropy splitter: random max_depth: 84 min_samples_leaf: 0.010198959902010002 max_leaf_nodes: 26 -114282.67377460204\n",
      "Criterion: entropy splitter: best max_depth: 84 min_samples_leaf: 0.010198959902010002 max_leaf_nodes: 26 -79801.5490110688\n",
      "Criterion: gini splitter: random max_depth: 36 min_samples_leaf: 0.010198959902010002 max_leaf_nodes: 26 -109025.83882783883\n",
      "Criterion: gini splitter: best max_depth: 36 min_samples_leaf: 0.010198959902010002 max_leaf_nodes: 26 -70852.65935045037\n",
      "Criterion: entropy splitter: random max_depth: 36 min_samples_leaf: 0.010198959902010002 max_leaf_nodes: 26 -114282.67377460204\n",
      "Criterion: entropy splitter: best max_depth: 36 min_samples_leaf: 0.010198959902010002 max_leaf_nodes: 26 -79801.5490110688\n",
      "Criterion: gini splitter: random max_depth: 83 min_samples_leaf: 0.010301979699000001 max_leaf_nodes: 28 -108017.90901401962\n",
      "Criterion: gini splitter: best max_depth: 83 min_samples_leaf: 0.010301979699000001 max_leaf_nodes: 28 -67339.47301504663\n",
      "Criterion: entropy splitter: random max_depth: 83 min_samples_leaf: 0.010301979699000001 max_leaf_nodes: 28 -110029.95967710533\n",
      "Criterion: entropy splitter: best max_depth: 83 min_samples_leaf: 0.010301979699000001 max_leaf_nodes: 28 -81056.97828029504\n",
      "Criterion: gini splitter: random max_depth: 82 min_samples_leaf: 0.010301979699000001 max_leaf_nodes: 28 -108017.90901401962\n",
      "Criterion: gini splitter: best max_depth: 82 min_samples_leaf: 0.010301979699000001 max_leaf_nodes: 28 -67339.47301504663\n",
      "Criterion: entropy splitter: random max_depth: 82 min_samples_leaf: 0.010301979699000001 max_leaf_nodes: 28 -110029.95967710533\n",
      "Criterion: entropy splitter: best max_depth: 82 min_samples_leaf: 0.010301979699000001 max_leaf_nodes: 28 -81056.97828029504\n",
      "Criterion: gini splitter: random max_depth: 84 min_samples_leaf: 0.010301979699000001 max_leaf_nodes: 28 -108017.90901401962\n",
      "Criterion: gini splitter: best max_depth: 84 min_samples_leaf: 0.010301979699000001 max_leaf_nodes: 28 -67339.47301504663\n",
      "Criterion: entropy splitter: random max_depth: 84 min_samples_leaf: 0.010301979699000001 max_leaf_nodes: 28 -110029.95967710533\n",
      "Criterion: entropy splitter: best max_depth: 84 min_samples_leaf: 0.010301979699000001 max_leaf_nodes: 28 -81056.97828029504\n",
      "Criterion: gini splitter: random max_depth: 36 min_samples_leaf: 0.010301979699000001 max_leaf_nodes: 28 -108017.90901401962\n",
      "Criterion: gini splitter: best max_depth: 36 min_samples_leaf: 0.010301979699000001 max_leaf_nodes: 28 -67339.47301504663\n",
      "Criterion: entropy splitter: random max_depth: 36 min_samples_leaf: 0.010301979699000001 max_leaf_nodes: 28 -110029.95967710533\n",
      "Criterion: entropy splitter: best max_depth: 36 min_samples_leaf: 0.010301979699000001 max_leaf_nodes: 28 -81056.97828029504\n",
      "Criterion: gini splitter: random max_depth: 83 min_samples_leaf: 0.01040499949599 max_leaf_nodes: 28 -108017.90901401962\n",
      "Criterion: gini splitter: best max_depth: 83 min_samples_leaf: 0.01040499949599 max_leaf_nodes: 28 -67339.47301504663\n",
      "Criterion: entropy splitter: random max_depth: 83 min_samples_leaf: 0.01040499949599 max_leaf_nodes: 28 -110029.95967710533\n",
      "Criterion: entropy splitter: best max_depth: 83 min_samples_leaf: 0.01040499949599 max_leaf_nodes: 28 -81056.97828029504\n",
      "Criterion: gini splitter: random max_depth: 82 min_samples_leaf: 0.01040499949599 max_leaf_nodes: 28 -108017.90901401962\n",
      "Criterion: gini splitter: best max_depth: 82 min_samples_leaf: 0.01040499949599 max_leaf_nodes: 28 -67339.47301504663\n",
      "Criterion: entropy splitter: random max_depth: 82 min_samples_leaf: 0.01040499949599 max_leaf_nodes: 28 -110029.95967710533\n",
      "Criterion: entropy splitter: best max_depth: 82 min_samples_leaf: 0.01040499949599 max_leaf_nodes: 28 -81056.97828029504\n",
      "Criterion: gini splitter: random max_depth: 84 min_samples_leaf: 0.01040499949599 max_leaf_nodes: 28 -108017.90901401962\n",
      "Criterion: gini splitter: best max_depth: 84 min_samples_leaf: 0.01040499949599 max_leaf_nodes: 28 -67339.47301504663\n",
      "Criterion: entropy splitter: random max_depth: 84 min_samples_leaf: 0.01040499949599 max_leaf_nodes: 28 -110029.95967710533\n",
      "Criterion: entropy splitter: best max_depth: 84 min_samples_leaf: 0.01040499949599 max_leaf_nodes: 28 -81056.97828029504\n",
      "Criterion: gini splitter: random max_depth: 36 min_samples_leaf: 0.01040499949599 max_leaf_nodes: 28 -108017.90901401962\n",
      "Criterion: gini splitter: best max_depth: 36 min_samples_leaf: 0.01040499949599 max_leaf_nodes: 28 -67339.47301504663\n",
      "Criterion: entropy splitter: random max_depth: 36 min_samples_leaf: 0.01040499949599 max_leaf_nodes: 28 -110029.95967710533\n",
      "Criterion: entropy splitter: best max_depth: 36 min_samples_leaf: 0.01040499949599 max_leaf_nodes: 28 -81056.97828029504\n",
      "Criterion: gini splitter: random max_depth: 83 min_samples_leaf: 0.010198959902010002 max_leaf_nodes: 28 -113147.91575091575\n",
      "Criterion: gini splitter: best max_depth: 83 min_samples_leaf: 0.010198959902010002 max_leaf_nodes: 28 -64809.516493307514\n",
      "Criterion: entropy splitter: random max_depth: 83 min_samples_leaf: 0.010198959902010002 max_leaf_nodes: 28 -111464.75069767897\n",
      "Criterion: entropy splitter: best max_depth: 83 min_samples_leaf: 0.010198959902010002 max_leaf_nodes: 28 -81256.97828029504\n",
      "Criterion: gini splitter: random max_depth: 82 min_samples_leaf: 0.010198959902010002 max_leaf_nodes: 28 -113147.91575091575\n",
      "Criterion: gini splitter: best max_depth: 82 min_samples_leaf: 0.010198959902010002 max_leaf_nodes: 28 -64809.516493307514\n",
      "Criterion: entropy splitter: random max_depth: 82 min_samples_leaf: 0.010198959902010002 max_leaf_nodes: 28 -111464.75069767897\n"
     ]
    },
    {
     "name": "stdout",
     "output_type": "stream",
     "text": [
      "Criterion: entropy splitter: best max_depth: 82 min_samples_leaf: 0.010198959902010002 max_leaf_nodes: 28 -81256.97828029504\n",
      "Criterion: gini splitter: random max_depth: 84 min_samples_leaf: 0.010198959902010002 max_leaf_nodes: 28 -113147.91575091575\n",
      "Criterion: gini splitter: best max_depth: 84 min_samples_leaf: 0.010198959902010002 max_leaf_nodes: 28 -64809.516493307514\n",
      "Criterion: entropy splitter: random max_depth: 84 min_samples_leaf: 0.010198959902010002 max_leaf_nodes: 28 -111464.75069767897\n",
      "Criterion: entropy splitter: best max_depth: 84 min_samples_leaf: 0.010198959902010002 max_leaf_nodes: 28 -81256.97828029504\n",
      "Criterion: gini splitter: random max_depth: 36 min_samples_leaf: 0.010198959902010002 max_leaf_nodes: 28 -113147.91575091575\n",
      "Criterion: gini splitter: best max_depth: 36 min_samples_leaf: 0.010198959902010002 max_leaf_nodes: 28 -64809.516493307514\n",
      "Criterion: entropy splitter: random max_depth: 36 min_samples_leaf: 0.010198959902010002 max_leaf_nodes: 28 -111464.75069767897\n",
      "Criterion: entropy splitter: best max_depth: 36 min_samples_leaf: 0.010198959902010002 max_leaf_nodes: 28 -81256.97828029504\n",
      "Criterion: gini splitter: random max_depth: 83 min_samples_leaf: 0.010301979699000001 max_leaf_nodes: 933 -109707.74457057162\n",
      "Criterion: gini splitter: best max_depth: 83 min_samples_leaf: 0.010301979699000001 max_leaf_nodes: 933 -86737.66867733483\n",
      "Criterion: entropy splitter: random max_depth: 83 min_samples_leaf: 0.010301979699000001 max_leaf_nodes: 933 -123025.31390043977\n",
      "Criterion: entropy splitter: best max_depth: 83 min_samples_leaf: 0.010301979699000001 max_leaf_nodes: 933 -95068.48940843303\n",
      "Criterion: gini splitter: random max_depth: 82 min_samples_leaf: 0.010301979699000001 max_leaf_nodes: 933 -109707.74457057162\n",
      "Criterion: gini splitter: best max_depth: 82 min_samples_leaf: 0.010301979699000001 max_leaf_nodes: 933 -86737.66867733483\n",
      "Criterion: entropy splitter: random max_depth: 82 min_samples_leaf: 0.010301979699000001 max_leaf_nodes: 933 -123025.31390043977\n",
      "Criterion: entropy splitter: best max_depth: 82 min_samples_leaf: 0.010301979699000001 max_leaf_nodes: 933 -95068.48940843303\n",
      "Criterion: gini splitter: random max_depth: 84 min_samples_leaf: 0.010301979699000001 max_leaf_nodes: 933 -109707.74457057162\n",
      "Criterion: gini splitter: best max_depth: 84 min_samples_leaf: 0.010301979699000001 max_leaf_nodes: 933 -86737.66867733483\n",
      "Criterion: entropy splitter: random max_depth: 84 min_samples_leaf: 0.010301979699000001 max_leaf_nodes: 933 -123025.31390043977\n",
      "Criterion: entropy splitter: best max_depth: 84 min_samples_leaf: 0.010301979699000001 max_leaf_nodes: 933 -95068.48940843303\n",
      "Criterion: gini splitter: random max_depth: 36 min_samples_leaf: 0.010301979699000001 max_leaf_nodes: 933 -109707.74457057162\n",
      "Criterion: gini splitter: best max_depth: 36 min_samples_leaf: 0.010301979699000001 max_leaf_nodes: 933 -86737.66867733483\n",
      "Criterion: entropy splitter: random max_depth: 36 min_samples_leaf: 0.010301979699000001 max_leaf_nodes: 933 -123025.31390043977\n",
      "Criterion: entropy splitter: best max_depth: 36 min_samples_leaf: 0.010301979699000001 max_leaf_nodes: 933 -95068.48940843303\n",
      "Criterion: gini splitter: random max_depth: 83 min_samples_leaf: 0.01040499949599 max_leaf_nodes: 933 -109707.74457057162\n",
      "Criterion: gini splitter: best max_depth: 83 min_samples_leaf: 0.01040499949599 max_leaf_nodes: 933 -86737.66867733483\n",
      "Criterion: entropy splitter: random max_depth: 83 min_samples_leaf: 0.01040499949599 max_leaf_nodes: 933 -123025.31390043977\n",
      "Criterion: entropy splitter: best max_depth: 83 min_samples_leaf: 0.01040499949599 max_leaf_nodes: 933 -95068.48940843303\n",
      "Criterion: gini splitter: random max_depth: 82 min_samples_leaf: 0.01040499949599 max_leaf_nodes: 933 -109707.74457057162\n",
      "Criterion: gini splitter: best max_depth: 82 min_samples_leaf: 0.01040499949599 max_leaf_nodes: 933 -86737.66867733483\n",
      "Criterion: entropy splitter: random max_depth: 82 min_samples_leaf: 0.01040499949599 max_leaf_nodes: 933 -123025.31390043977\n",
      "Criterion: entropy splitter: best max_depth: 82 min_samples_leaf: 0.01040499949599 max_leaf_nodes: 933 -95068.48940843303\n",
      "Criterion: gini splitter: random max_depth: 84 min_samples_leaf: 0.01040499949599 max_leaf_nodes: 933 -109707.74457057162\n",
      "Criterion: gini splitter: best max_depth: 84 min_samples_leaf: 0.01040499949599 max_leaf_nodes: 933 -86737.66867733483\n",
      "Criterion: entropy splitter: random max_depth: 84 min_samples_leaf: 0.01040499949599 max_leaf_nodes: 933 -123025.31390043977\n",
      "Criterion: entropy splitter: best max_depth: 84 min_samples_leaf: 0.01040499949599 max_leaf_nodes: 933 -95068.48940843303\n",
      "Criterion: gini splitter: random max_depth: 36 min_samples_leaf: 0.01040499949599 max_leaf_nodes: 933 -109707.74457057162\n",
      "Criterion: gini splitter: best max_depth: 36 min_samples_leaf: 0.01040499949599 max_leaf_nodes: 933 -86737.66867733483\n",
      "Criterion: entropy splitter: random max_depth: 36 min_samples_leaf: 0.01040499949599 max_leaf_nodes: 933 -123025.31390043977\n",
      "Criterion: entropy splitter: best max_depth: 36 min_samples_leaf: 0.01040499949599 max_leaf_nodes: 933 -95068.48940843303\n",
      "Criterion: gini splitter: random max_depth: 83 min_samples_leaf: 0.010198959902010002 max_leaf_nodes: 933 -130735.66714293874\n",
      "Criterion: gini splitter: best max_depth: 83 min_samples_leaf: 0.010198959902010002 max_leaf_nodes: 933 -89682.66867733483\n",
      "Criterion: entropy splitter: random max_depth: 83 min_samples_leaf: 0.010198959902010002 max_leaf_nodes: 933 -132926.5118689042\n",
      "Criterion: entropy splitter: best max_depth: 83 min_samples_leaf: 0.010198959902010002 max_leaf_nodes: 933 -101126.61109088783\n",
      "Criterion: gini splitter: random max_depth: 82 min_samples_leaf: 0.010198959902010002 max_leaf_nodes: 933 -130735.66714293874\n",
      "Criterion: gini splitter: best max_depth: 82 min_samples_leaf: 0.010198959902010002 max_leaf_nodes: 933 -89682.66867733483\n",
      "Criterion: entropy splitter: random max_depth: 82 min_samples_leaf: 0.010198959902010002 max_leaf_nodes: 933 -132926.5118689042\n",
      "Criterion: entropy splitter: best max_depth: 82 min_samples_leaf: 0.010198959902010002 max_leaf_nodes: 933 -101126.61109088783\n",
      "Criterion: gini splitter: random max_depth: 84 min_samples_leaf: 0.010198959902010002 max_leaf_nodes: 933 -130735.66714293874\n",
      "Criterion: gini splitter: best max_depth: 84 min_samples_leaf: 0.010198959902010002 max_leaf_nodes: 933 -89682.66867733483\n",
      "Criterion: entropy splitter: random max_depth: 84 min_samples_leaf: 0.010198959902010002 max_leaf_nodes: 933 -132926.5118689042\n",
      "Criterion: entropy splitter: best max_depth: 84 min_samples_leaf: 0.010198959902010002 max_leaf_nodes: 933 -101126.61109088783\n",
      "Criterion: gini splitter: random max_depth: 36 min_samples_leaf: 0.010198959902010002 max_leaf_nodes: 933 -130735.66714293874\n",
      "Criterion: gini splitter: best max_depth: 36 min_samples_leaf: 0.010198959902010002 max_leaf_nodes: 933 -89682.66867733483\n",
      "Criterion: entropy splitter: random max_depth: 36 min_samples_leaf: 0.010198959902010002 max_leaf_nodes: 933 -132926.5118689042\n",
      "Criterion: entropy splitter: best max_depth: 36 min_samples_leaf: 0.010198959902010002 max_leaf_nodes: 933 -101126.61109088783\n",
      "Real output model: DecisionTreeClassifier(max_depth=83, max_leaf_nodes=27,\n",
      "                       min_samples_leaf=0.010301979699000001, random_state=75)\n",
      "\n",
      "model_5\n",
      "DecisionTreeClassifier(max_depth=83, max_leaf_nodes=27,\n",
      "                       min_samples_leaf=0.010301979699000001, random_state=75)\n",
      "['B_odds', 'ko_dif', 'R_avg_SIG_STR_pct', 'sig_str_dif', 'B_win_by_Decision_Unanimous', 'R_losses', 'R_odds', 'lose_streak_dif', 'B_Reach_cms', 'B_Weight_lbs', 'R_total_rounds_fought', 'R_age', 'total_title_bout_dif', 'win_streak_dif', 'avg_sub_att_dif', 'R_ev', 'B_avg_TD_landed', 'B_Height_cms', 'Red - KO/TKO', 'Blue - DEC', 'B_win_by_KO/TKO', 'total_round_dif', 'R_Height_cms', 'B_total_title_bouts', 'Blue - SUB', 'B_current_win_streak', 'R_longest_win_streak', 'reach_dif', 'R_total_title_bouts', 'B_age', 'B_avg_SIG_STR_landed', 'B_longest_win_streak', 'B_Heavyweight_rank', 'B_ev']\n",
      "0\n",
      "\n"
     ]
    },
    {
     "data": {
      "text/plain": [
       "(2686, 34)"
      ]
     },
     "metadata": {},
     "output_type": "display_data"
    },
    {
     "data": {
      "text/plain": [
       "(2686,)"
      ]
     },
     "metadata": {},
     "output_type": "display_data"
    },
    {
     "data": {
      "text/plain": [
       "(2686, 6)"
      ]
     },
     "metadata": {},
     "output_type": "display_data"
    },
    {
     "data": {
      "text/plain": [
       "(242, 34)"
      ]
     },
     "metadata": {},
     "output_type": "display_data"
    },
    {
     "data": {
      "text/plain": [
       "(242,)"
      ]
     },
     "metadata": {},
     "output_type": "display_data"
    },
    {
     "data": {
      "text/plain": [
       "(242, 6)"
      ]
     },
     "metadata": {},
     "output_type": "display_data"
    },
    {
     "name": "stdout",
     "output_type": "stream",
     "text": [
      "250     5\n",
      "251     3\n",
      "252     3\n",
      "253     5\n",
      "254     0\n",
      "       ..\n",
      "4217    0\n",
      "4225    1\n",
      "4226    3\n",
      "4227    5\n",
      "4228    5\n",
      "Name: label, Length: 2686, dtype: int64\n",
      "Real Score: -4194.249827467218\n",
      "HI\n",
      "HI\n",
      "HI\n",
      "HI\n",
      "HI\n",
      "\n",
      "model_5\n",
      "DecisionTreeClassifier(max_depth=83, max_leaf_nodes=27,\n",
      "                       min_samples_leaf=0.010301979699000001, random_state=75)\n",
      "['B_odds', 'ko_dif', 'R_avg_SIG_STR_pct', 'sig_str_dif', 'B_win_by_Decision_Unanimous', 'R_losses', 'R_odds', 'lose_streak_dif', 'B_Reach_cms', 'B_Weight_lbs', 'R_total_rounds_fought', 'R_age', 'total_title_bout_dif', 'win_streak_dif', 'avg_sub_att_dif', 'R_ev', 'B_avg_TD_landed', 'B_Height_cms', 'Red - KO/TKO', 'Blue - DEC', 'B_win_by_KO/TKO', 'total_round_dif', 'R_Height_cms', 'B_total_title_bouts', 'Blue - SUB', 'B_current_win_streak', 'R_longest_win_streak', 'reach_dif', 'R_total_title_bouts', 'B_age', 'B_avg_SIG_STR_landed', 'B_longest_win_streak', 'B_Heavyweight_rank', 'B_ev']\n",
      "0\n",
      "\n"
     ]
    },
    {
     "data": {
      "text/plain": [
       "(2686, 34)"
      ]
     },
     "metadata": {},
     "output_type": "display_data"
    },
    {
     "data": {
      "text/plain": [
       "(2686,)"
      ]
     },
     "metadata": {},
     "output_type": "display_data"
    },
    {
     "data": {
      "text/plain": [
       "(2686, 6)"
      ]
     },
     "metadata": {},
     "output_type": "display_data"
    },
    {
     "data": {
      "text/plain": [
       "(242, 34)"
      ]
     },
     "metadata": {},
     "output_type": "display_data"
    },
    {
     "data": {
      "text/plain": [
       "(242,)"
      ]
     },
     "metadata": {},
     "output_type": "display_data"
    },
    {
     "data": {
      "text/plain": [
       "(242, 6)"
      ]
     },
     "metadata": {},
     "output_type": "display_data"
    },
    {
     "name": "stdout",
     "output_type": "stream",
     "text": [
      "250     5\n",
      "251     3\n",
      "252     3\n",
      "253     5\n",
      "254     0\n",
      "       ..\n",
      "4217    0\n",
      "4225    1\n",
      "4226    3\n",
      "4227    5\n",
      "4228    5\n",
      "Name: label, Length: 2686, dtype: int64\n",
      "Real Score: -4194.249827467218\n",
      "HI\n",
      "HI\n",
      "HI\n",
      "HI\n",
      "HI\n",
      "The original score is -62509.47301504664\n",
      "\n",
      "model_5\n",
      "DecisionTreeClassifier(max_depth=83, max_leaf_nodes=27,\n",
      "                       min_samples_leaf=0.010301979699000001, random_state=75)\n",
      "['B_odds', 'ko_dif', 'R_avg_SIG_STR_pct', 'sig_str_dif', 'B_win_by_Decision_Unanimous', 'R_losses', 'R_odds', 'lose_streak_dif', 'B_Reach_cms', 'B_Weight_lbs', 'R_total_rounds_fought', 'R_age', 'total_title_bout_dif', 'win_streak_dif', 'avg_sub_att_dif', 'R_ev', 'B_avg_TD_landed', 'B_Height_cms', 'Red - KO/TKO', 'Blue - DEC', 'B_win_by_KO/TKO', 'total_round_dif', 'R_Height_cms', 'B_total_title_bouts', 'Blue - SUB', 'B_current_win_streak', 'R_longest_win_streak', 'reach_dif', 'R_total_title_bouts', 'B_age', 'B_avg_SIG_STR_landed', 'B_longest_win_streak', 'B_Heavyweight_rank', 'B_ev']\n",
      "0\n",
      "\n"
     ]
    },
    {
     "data": {
      "text/plain": [
       "(2686, 34)"
      ]
     },
     "metadata": {},
     "output_type": "display_data"
    },
    {
     "data": {
      "text/plain": [
       "(2686,)"
      ]
     },
     "metadata": {},
     "output_type": "display_data"
    },
    {
     "data": {
      "text/plain": [
       "(2686, 6)"
      ]
     },
     "metadata": {},
     "output_type": "display_data"
    },
    {
     "data": {
      "text/plain": [
       "(242, 34)"
      ]
     },
     "metadata": {},
     "output_type": "display_data"
    },
    {
     "data": {
      "text/plain": [
       "(242,)"
      ]
     },
     "metadata": {},
     "output_type": "display_data"
    },
    {
     "data": {
      "text/plain": [
       "(242, 6)"
      ]
     },
     "metadata": {},
     "output_type": "display_data"
    },
    {
     "name": "stdout",
     "output_type": "stream",
     "text": [
      "250     5\n",
      "251     3\n",
      "252     3\n",
      "253     5\n",
      "254     0\n",
      "       ..\n",
      "4217    0\n",
      "4225    1\n",
      "4226    3\n",
      "4227    5\n",
      "4228    5\n",
      "Name: label, Length: 2686, dtype: int64\n",
      "Real Score: -4194.249827467218\n",
      "HI\n",
      "HI\n",
      "HI\n",
      "HI\n",
      "HI\n",
      "\n",
      "\n",
      "OPTIMIZING MODEL 6\n",
      "\n",
      "\n",
      "model_6\n",
      "MLPClassifier(random_state=75)\n",
      "['B_avg_TD_landed', 'R_Weight_lbs', 'B_avg_SUB_ATT', 'B_avg_SIG_STR_pct', 'R_win_by_Submission', 'win_dif', 'B_win_by_KO/TKO', 'better_rank', 'B_odds', \"B_Women's Flyweight_rank\", 'reach_dif', 'win_streak_dif', 'R_avg_TD_landed', 'R_ev', 'gender', 'ko_dif', 'R_current_win_streak', 'Red - KO/TKO', 'R_Heavyweight_rank', 'B_win_by_Decision_Unanimous', 'R_odds', 'B_avg_SIG_STR_landed', 'R_win_by_Decision_Majority', 'B_age', 'sig_str_dif', 'R_win_by_KO/TKO', 'B_Pound-for-Pound_rank', 'B_win_by_TKO_Doctor_Stoppage', 'B_longest_win_streak', 'R_Stance', 'avg_sub_att_dif', 'Blue - KO/TKO', 'B_avg_TD_pct', 'R_win_by_TKO_Doctor_Stoppage', \"B_Women's Bantamweight_rank\", 'lose_streak_dif', 'B_current_win_streak', 'R_total_title_bouts', 'B_current_lose_streak', 'R_total_rounds_fought', 'R_Flyweight_rank', 'R_Reach_cms', \"B_Women's Strawweight_rank\", 'longest_win_streak_dif', 'no_of_rounds', 'R_losses', 'B_losses', \"R_Women's Strawweight_rank\", 'B_ev', 'R_win_by_Decision_Split', 'B_win_by_Decision_Split', \"R_Women's Featherweight_rank\", \"R_Women's Bantamweight_rank\", \"B_Women's Featherweight_rank\", 'country', 'R_avg_SIG_STR_landed', 'B_Weight_lbs', 'R_age', 'sub_dif', 'R_Featherweight_rank', 'B_Bantamweight_rank', 'R_avg_SIG_STR_pct', 'B_wins', 'loss_dif', 'height_dif', 'B_Lightweight_rank', 'B_Flyweight_rank', 'R_wins', 'B_Heavyweight_rank', 'total_round_dif', 'title_bout', 'B_total_rounds_fought', 'R_avg_TD_pct', \"R_Women's Flyweight_rank\", 'B_Welterweight_rank', 'R_longest_win_streak', 'B_Featherweight_rank', 'R_Bantamweight_rank', 'B_Light Heavyweight_rank', 'R_Lightweight_rank', 'R_Light Heavyweight_rank', 'R_Welterweight_rank', 'empty_arena', 'R_draw', 'B_Middleweight_rank', 'avg_td_dif', 'B_draw', 'age_dif', 'B_Reach_cms', 'B_Height_cms', 'R_avg_SUB_ATT', 'Blue - SUB', 'Blue - DEC', 'Red - SUB']\n",
      "0\n",
      "Current best score is: -40200.14717835684\n",
      "Feature: B_match_weightclass_rank Score: -36329.01420040729\n",
      "The best feature was B_match_weightclass_rank.  It scored -36329.01420040729\n",
      "Current best score is: -36329.01420040729\n",
      "Feature: B_win_by_Submission Score: -33784.037190517025\n",
      "The best feature was B_win_by_Submission.  It scored -33784.037190517025\n",
      "Current best score is: -33784.037190517025\n",
      "Feature: B_Stance Score: -16321.289215920939\n",
      "The best feature was B_Stance.  It scored -16321.289215920939\n",
      "Current best score is: -16321.289215920939\n",
      "NO IMPROVEMENT\n",
      "FINAL BEST SCORE: -16321.289215920939\n",
      "\n",
      "model_6\n",
      "MLPClassifier(random_state=75)\n",
      "['B_Stance', 'B_win_by_Submission', 'B_match_weightclass_rank', 'B_avg_TD_landed', 'R_Weight_lbs', 'B_avg_SUB_ATT', 'B_avg_SIG_STR_pct', 'R_win_by_Submission', 'win_dif', 'B_win_by_KO/TKO', 'better_rank', 'B_odds', \"B_Women's Flyweight_rank\", 'reach_dif', 'win_streak_dif', 'R_avg_TD_landed', 'R_ev', 'gender', 'ko_dif', 'R_current_win_streak', 'Red - KO/TKO', 'R_Heavyweight_rank', 'B_win_by_Decision_Unanimous', 'R_odds', 'B_avg_SIG_STR_landed', 'R_win_by_Decision_Majority', 'B_age', 'sig_str_dif', 'R_win_by_KO/TKO', 'B_Pound-for-Pound_rank', 'B_win_by_TKO_Doctor_Stoppage', 'B_longest_win_streak', 'R_Stance', 'avg_sub_att_dif', 'Blue - KO/TKO', 'B_avg_TD_pct', 'R_win_by_TKO_Doctor_Stoppage', \"B_Women's Bantamweight_rank\", 'lose_streak_dif', 'B_current_win_streak', 'R_total_title_bouts', 'B_current_lose_streak', 'R_total_rounds_fought', 'R_Flyweight_rank', 'R_Reach_cms', \"B_Women's Strawweight_rank\", 'longest_win_streak_dif', 'no_of_rounds', 'R_losses', 'B_losses', \"R_Women's Strawweight_rank\", 'B_ev', 'R_win_by_Decision_Split', 'B_win_by_Decision_Split', \"R_Women's Featherweight_rank\", \"R_Women's Bantamweight_rank\", \"B_Women's Featherweight_rank\", 'country', 'R_avg_SIG_STR_landed', 'B_Weight_lbs', 'R_age', 'sub_dif', 'R_Featherweight_rank', 'B_Bantamweight_rank', 'R_avg_SIG_STR_pct', 'B_wins', 'loss_dif', 'height_dif', 'B_Lightweight_rank', 'B_Flyweight_rank', 'R_wins', 'B_Heavyweight_rank', 'total_round_dif', 'title_bout', 'B_total_rounds_fought', 'R_avg_TD_pct', \"R_Women's Flyweight_rank\", 'B_Welterweight_rank', 'R_longest_win_streak', 'B_Featherweight_rank', 'R_Bantamweight_rank', 'B_Light Heavyweight_rank', 'R_Lightweight_rank', 'R_Light Heavyweight_rank', 'R_Welterweight_rank', 'empty_arena', 'R_draw', 'B_Middleweight_rank', 'avg_td_dif', 'B_draw', 'age_dif', 'B_Reach_cms', 'B_Height_cms', 'R_avg_SUB_ATT', 'Blue - SUB', 'Blue - DEC', 'Red - SUB']\n",
      "0\n",
      "\n"
     ]
    },
    {
     "data": {
      "text/plain": [
       "(2686, 131)"
      ]
     },
     "metadata": {},
     "output_type": "display_data"
    },
    {
     "data": {
      "text/plain": [
       "(2686,)"
      ]
     },
     "metadata": {},
     "output_type": "display_data"
    },
    {
     "data": {
      "text/plain": [
       "(2686, 6)"
      ]
     },
     "metadata": {},
     "output_type": "display_data"
    },
    {
     "data": {
      "text/plain": [
       "(240, 131)"
      ]
     },
     "metadata": {},
     "output_type": "display_data"
    },
    {
     "data": {
      "text/plain": [
       "(240,)"
      ]
     },
     "metadata": {},
     "output_type": "display_data"
    },
    {
     "data": {
      "text/plain": [
       "(240, 6)"
      ]
     },
     "metadata": {},
     "output_type": "display_data"
    },
    {
     "name": "stdout",
     "output_type": "stream",
     "text": [
      "250     5\n",
      "251     3\n",
      "252     3\n",
      "253     5\n",
      "254     0\n",
      "       ..\n",
      "4217    0\n",
      "4225    1\n",
      "4226    3\n",
      "4227    5\n",
      "4228    5\n",
      "Name: label, Length: 2686, dtype: int64\n",
      "Real Score: -1698.701209418601\n",
      "HI\n",
      "HI\n",
      "HI\n",
      "HI\n",
      "HI\n",
      "MLPClassifier\n",
      "\n",
      "\n",
      "Starting New Run for MLPClassifier\n",
      "\n",
      "\n",
      "Previous Best Score: -16321.289215920939\n",
      "hidden_layer_sizes: (100,) Score: -16321.289215920939\n",
      "hidden_layer_sizes: (100,) Score: -16321.289215920939\n",
      "hidden_layer_sizes: (10, 5) Score: -93583.4026864455\n",
      "hidden_layer_sizes: (6,) Score: -93202.59124516159\n",
      "hidden_layer_sizes: (1,) Score: -162179.0\n",
      "hidden_layer_sizes: (5,) Score: -100724.16697628374\n",
      "hidden_layer_sizes: (15,) Score: -65081.663665395674\n",
      "hidden_layer_sizes: (25,) Score: -59468.80732054162\n",
      "Real output model: MLPClassifier(random_state=75)\n",
      "\n",
      "model_6\n",
      "MLPClassifier(random_state=75)\n",
      "['B_Stance', 'B_win_by_Submission', 'B_match_weightclass_rank', 'B_avg_TD_landed', 'R_Weight_lbs', 'B_avg_SUB_ATT', 'B_avg_SIG_STR_pct', 'R_win_by_Submission', 'win_dif', 'B_win_by_KO/TKO', 'better_rank', 'B_odds', \"B_Women's Flyweight_rank\", 'reach_dif', 'win_streak_dif', 'R_avg_TD_landed', 'R_ev', 'gender', 'ko_dif', 'R_current_win_streak', 'Red - KO/TKO', 'R_Heavyweight_rank', 'B_win_by_Decision_Unanimous', 'R_odds', 'B_avg_SIG_STR_landed', 'R_win_by_Decision_Majority', 'B_age', 'sig_str_dif', 'R_win_by_KO/TKO', 'B_Pound-for-Pound_rank', 'B_win_by_TKO_Doctor_Stoppage', 'B_longest_win_streak', 'R_Stance', 'avg_sub_att_dif', 'Blue - KO/TKO', 'B_avg_TD_pct', 'R_win_by_TKO_Doctor_Stoppage', \"B_Women's Bantamweight_rank\", 'lose_streak_dif', 'B_current_win_streak', 'R_total_title_bouts', 'B_current_lose_streak', 'R_total_rounds_fought', 'R_Flyweight_rank', 'R_Reach_cms', \"B_Women's Strawweight_rank\", 'longest_win_streak_dif', 'no_of_rounds', 'R_losses', 'B_losses', \"R_Women's Strawweight_rank\", 'B_ev', 'R_win_by_Decision_Split', 'B_win_by_Decision_Split', \"R_Women's Featherweight_rank\", \"R_Women's Bantamweight_rank\", \"B_Women's Featherweight_rank\", 'country', 'R_avg_SIG_STR_landed', 'B_Weight_lbs', 'R_age', 'sub_dif', 'R_Featherweight_rank', 'B_Bantamweight_rank', 'R_avg_SIG_STR_pct', 'B_wins', 'loss_dif', 'height_dif', 'B_Lightweight_rank', 'B_Flyweight_rank', 'R_wins', 'B_Heavyweight_rank', 'total_round_dif', 'title_bout', 'B_total_rounds_fought', 'R_avg_TD_pct', \"R_Women's Flyweight_rank\", 'B_Welterweight_rank', 'R_longest_win_streak', 'B_Featherweight_rank', 'R_Bantamweight_rank', 'B_Light Heavyweight_rank', 'R_Lightweight_rank', 'R_Light Heavyweight_rank', 'R_Welterweight_rank', 'empty_arena', 'R_draw', 'B_Middleweight_rank', 'avg_td_dif', 'B_draw', 'age_dif', 'B_Reach_cms', 'B_Height_cms', 'R_avg_SUB_ATT', 'Blue - SUB', 'Blue - DEC', 'Red - SUB']\n",
      "0\n",
      "\n"
     ]
    },
    {
     "data": {
      "text/plain": [
       "(2686, 131)"
      ]
     },
     "metadata": {},
     "output_type": "display_data"
    },
    {
     "data": {
      "text/plain": [
       "(2686,)"
      ]
     },
     "metadata": {},
     "output_type": "display_data"
    },
    {
     "data": {
      "text/plain": [
       "(2686, 6)"
      ]
     },
     "metadata": {},
     "output_type": "display_data"
    },
    {
     "data": {
      "text/plain": [
       "(240, 131)"
      ]
     },
     "metadata": {},
     "output_type": "display_data"
    },
    {
     "data": {
      "text/plain": [
       "(240,)"
      ]
     },
     "metadata": {},
     "output_type": "display_data"
    },
    {
     "data": {
      "text/plain": [
       "(240, 6)"
      ]
     },
     "metadata": {},
     "output_type": "display_data"
    },
    {
     "name": "stdout",
     "output_type": "stream",
     "text": [
      "250     5\n",
      "251     3\n",
      "252     3\n",
      "253     5\n",
      "254     0\n",
      "       ..\n",
      "4217    0\n",
      "4225    1\n",
      "4226    3\n",
      "4227    5\n",
      "4228    5\n",
      "Name: label, Length: 2686, dtype: int64\n",
      "Real Score: -1698.701209418601\n",
      "HI\n",
      "HI\n",
      "HI\n",
      "HI\n",
      "HI\n",
      "\n",
      "model_6\n",
      "MLPClassifier(random_state=75)\n",
      "['B_Stance', 'B_win_by_Submission', 'B_match_weightclass_rank', 'B_avg_TD_landed', 'R_Weight_lbs', 'B_avg_SUB_ATT', 'B_avg_SIG_STR_pct', 'R_win_by_Submission', 'win_dif', 'B_win_by_KO/TKO', 'better_rank', 'B_odds', \"B_Women's Flyweight_rank\", 'reach_dif', 'win_streak_dif', 'R_avg_TD_landed', 'R_ev', 'gender', 'ko_dif', 'R_current_win_streak', 'Red - KO/TKO', 'R_Heavyweight_rank', 'B_win_by_Decision_Unanimous', 'R_odds', 'B_avg_SIG_STR_landed', 'R_win_by_Decision_Majority', 'B_age', 'sig_str_dif', 'R_win_by_KO/TKO', 'B_Pound-for-Pound_rank', 'B_win_by_TKO_Doctor_Stoppage', 'B_longest_win_streak', 'R_Stance', 'avg_sub_att_dif', 'Blue - KO/TKO', 'B_avg_TD_pct', 'R_win_by_TKO_Doctor_Stoppage', \"B_Women's Bantamweight_rank\", 'lose_streak_dif', 'B_current_win_streak', 'R_total_title_bouts', 'B_current_lose_streak', 'R_total_rounds_fought', 'R_Flyweight_rank', 'R_Reach_cms', \"B_Women's Strawweight_rank\", 'longest_win_streak_dif', 'no_of_rounds', 'R_losses', 'B_losses', \"R_Women's Strawweight_rank\", 'B_ev', 'R_win_by_Decision_Split', 'B_win_by_Decision_Split', \"R_Women's Featherweight_rank\", \"R_Women's Bantamweight_rank\", \"B_Women's Featherweight_rank\", 'country', 'R_avg_SIG_STR_landed', 'B_Weight_lbs', 'R_age', 'sub_dif', 'R_Featherweight_rank', 'B_Bantamweight_rank', 'R_avg_SIG_STR_pct', 'B_wins', 'loss_dif', 'height_dif', 'B_Lightweight_rank', 'B_Flyweight_rank', 'R_wins', 'B_Heavyweight_rank', 'total_round_dif', 'title_bout', 'B_total_rounds_fought', 'R_avg_TD_pct', \"R_Women's Flyweight_rank\", 'B_Welterweight_rank', 'R_longest_win_streak', 'B_Featherweight_rank', 'R_Bantamweight_rank', 'B_Light Heavyweight_rank', 'R_Lightweight_rank', 'R_Light Heavyweight_rank', 'R_Welterweight_rank', 'empty_arena', 'R_draw', 'B_Middleweight_rank', 'avg_td_dif', 'B_draw', 'age_dif', 'B_Reach_cms', 'B_Height_cms', 'R_avg_SUB_ATT', 'Blue - SUB', 'Blue - DEC', 'Red - SUB']\n",
      "0\n",
      "\n"
     ]
    },
    {
     "data": {
      "text/plain": [
       "(2686, 131)"
      ]
     },
     "metadata": {},
     "output_type": "display_data"
    },
    {
     "data": {
      "text/plain": [
       "(2686,)"
      ]
     },
     "metadata": {},
     "output_type": "display_data"
    },
    {
     "data": {
      "text/plain": [
       "(2686, 6)"
      ]
     },
     "metadata": {},
     "output_type": "display_data"
    },
    {
     "data": {
      "text/plain": [
       "(240, 131)"
      ]
     },
     "metadata": {},
     "output_type": "display_data"
    },
    {
     "data": {
      "text/plain": [
       "(240,)"
      ]
     },
     "metadata": {},
     "output_type": "display_data"
    },
    {
     "data": {
      "text/plain": [
       "(240, 6)"
      ]
     },
     "metadata": {},
     "output_type": "display_data"
    },
    {
     "name": "stdout",
     "output_type": "stream",
     "text": [
      "250     5\n",
      "251     3\n",
      "252     3\n",
      "253     5\n",
      "254     0\n",
      "       ..\n",
      "4217    0\n",
      "4225    1\n",
      "4226    3\n",
      "4227    5\n",
      "4228    5\n",
      "Name: label, Length: 2686, dtype: int64\n",
      "Real Score: -1698.701209418601\n",
      "HI\n",
      "HI\n",
      "HI\n",
      "HI\n",
      "HI\n",
      "The original score is -16321.289215920939\n",
      "\n",
      "model_6\n",
      "MLPClassifier(random_state=75)\n",
      "['B_Stance', 'B_win_by_Submission', 'B_match_weightclass_rank', 'B_avg_TD_landed', 'R_Weight_lbs', 'B_avg_SUB_ATT', 'B_avg_SIG_STR_pct', 'R_win_by_Submission', 'win_dif', 'B_win_by_KO/TKO', 'better_rank', 'B_odds', \"B_Women's Flyweight_rank\", 'reach_dif', 'win_streak_dif', 'R_avg_TD_landed', 'R_ev', 'gender', 'ko_dif', 'R_current_win_streak', 'Red - KO/TKO', 'R_Heavyweight_rank', 'B_win_by_Decision_Unanimous', 'R_odds', 'B_avg_SIG_STR_landed', 'R_win_by_Decision_Majority', 'B_age', 'sig_str_dif', 'R_win_by_KO/TKO', 'B_Pound-for-Pound_rank', 'B_win_by_TKO_Doctor_Stoppage', 'B_longest_win_streak', 'R_Stance', 'avg_sub_att_dif', 'Blue - KO/TKO', 'B_avg_TD_pct', 'R_win_by_TKO_Doctor_Stoppage', \"B_Women's Bantamweight_rank\", 'lose_streak_dif', 'B_current_win_streak', 'R_total_title_bouts', 'B_current_lose_streak', 'R_total_rounds_fought', 'R_Flyweight_rank', 'R_Reach_cms', \"B_Women's Strawweight_rank\", 'longest_win_streak_dif', 'no_of_rounds', 'R_losses', 'B_losses', \"R_Women's Strawweight_rank\", 'B_ev', 'R_win_by_Decision_Split', 'B_win_by_Decision_Split', \"R_Women's Featherweight_rank\", \"R_Women's Bantamweight_rank\", \"B_Women's Featherweight_rank\", 'country', 'R_avg_SIG_STR_landed', 'B_Weight_lbs', 'R_age', 'sub_dif', 'R_Featherweight_rank', 'B_Bantamweight_rank', 'R_avg_SIG_STR_pct', 'B_wins', 'loss_dif', 'height_dif', 'B_Lightweight_rank', 'B_Flyweight_rank', 'R_wins', 'B_Heavyweight_rank', 'total_round_dif', 'title_bout', 'B_total_rounds_fought', 'R_avg_TD_pct', \"R_Women's Flyweight_rank\", 'B_Welterweight_rank', 'R_longest_win_streak', 'B_Featherweight_rank', 'R_Bantamweight_rank', 'B_Light Heavyweight_rank', 'R_Lightweight_rank', 'R_Light Heavyweight_rank', 'R_Welterweight_rank', 'empty_arena', 'R_draw', 'B_Middleweight_rank', 'avg_td_dif', 'B_draw', 'age_dif', 'B_Reach_cms', 'B_Height_cms', 'R_avg_SUB_ATT', 'Blue - SUB', 'Blue - DEC', 'Red - SUB']\n",
      "0\n",
      "\n"
     ]
    },
    {
     "data": {
      "text/plain": [
       "(2686, 131)"
      ]
     },
     "metadata": {},
     "output_type": "display_data"
    },
    {
     "data": {
      "text/plain": [
       "(2686,)"
      ]
     },
     "metadata": {},
     "output_type": "display_data"
    },
    {
     "data": {
      "text/plain": [
       "(2686, 6)"
      ]
     },
     "metadata": {},
     "output_type": "display_data"
    },
    {
     "data": {
      "text/plain": [
       "(240, 131)"
      ]
     },
     "metadata": {},
     "output_type": "display_data"
    },
    {
     "data": {
      "text/plain": [
       "(240,)"
      ]
     },
     "metadata": {},
     "output_type": "display_data"
    },
    {
     "data": {
      "text/plain": [
       "(240, 6)"
      ]
     },
     "metadata": {},
     "output_type": "display_data"
    },
    {
     "name": "stdout",
     "output_type": "stream",
     "text": [
      "250     5\n",
      "251     3\n",
      "252     3\n",
      "253     5\n",
      "254     0\n",
      "       ..\n",
      "4217    0\n",
      "4225    1\n",
      "4226    3\n",
      "4227    5\n",
      "4228    5\n",
      "Name: label, Length: 2686, dtype: int64\n",
      "Real Score: -1698.701209418601\n",
      "HI\n",
      "HI\n",
      "HI\n",
      "HI\n",
      "HI\n",
      "\n",
      "\n",
      "OPTIMIZING MODEL 7\n",
      "\n",
      "\n",
      "model_7\n",
      "RadiusNeighborsClassifier(outlier_label='most_frequent')\n",
      "['B_current_win_streak', 'B_win_by_Decision_Split', 'R_Height_cms', \"R_Women's Featherweight_rank\", 'B_Lightweight_rank', 'R_Featherweight_rank', 'R_Light Heavyweight_rank', 'total_title_bout_dif', 'R_losses', 'B_win_by_Submission', 'Blue - DEC', 'B_draw', 'R_Middleweight_rank', 'B_avg_SIG_STR_pct', \"B_Women's Strawweight_rank\", 'age_dif', 'B_Middleweight_rank', 'avg_sub_att_dif', 'avg_td_dif', 'B_avg_SUB_ATT', \"R_Women's Flyweight_rank\", 'R_Pound-for-Pound_rank', 'R_Reach_cms', 'R_wins', 'B_ev', 'sub_dif', 'R_ev', 'B_avg_TD_landed']\n",
      "0\n",
      "Current best score is: -6341.958380694858\n",
      "Feature: B_avg_TD_pct Score: -6161.9583806948585\n",
      "Feature: R_avg_TD_landed Score: -5894.458380694859\n",
      "The best feature was R_avg_TD_landed.  It scored -5894.458380694859\n",
      "Current best score is: -5894.458380694859\n",
      "Feature: B_odds Score: -5649.458380694859\n",
      "The best feature was B_odds.  It scored -5649.458380694859\n",
      "Current best score is: -5649.458380694859\n",
      "NO IMPROVEMENT\n",
      "FINAL BEST SCORE: -5649.458380694859\n",
      "\n",
      "model_7\n",
      "RadiusNeighborsClassifier(outlier_label='most_frequent')\n",
      "['B_odds', 'R_avg_TD_landed', 'B_current_win_streak', 'B_win_by_Decision_Split', 'R_Height_cms', \"R_Women's Featherweight_rank\", 'B_Lightweight_rank', 'R_Featherweight_rank', 'R_Light Heavyweight_rank', 'total_title_bout_dif', 'R_losses', 'B_win_by_Submission', 'Blue - DEC', 'B_draw', 'R_Middleweight_rank', 'B_avg_SIG_STR_pct', \"B_Women's Strawweight_rank\", 'age_dif', 'B_Middleweight_rank', 'avg_sub_att_dif', 'avg_td_dif', 'B_avg_SUB_ATT', \"R_Women's Flyweight_rank\", 'R_Pound-for-Pound_rank', 'R_Reach_cms', 'R_wins', 'B_ev', 'sub_dif', 'R_ev', 'B_avg_TD_landed']\n",
      "0\n",
      "\n"
     ]
    },
    {
     "data": {
      "text/plain": [
       "(2771, 30)"
      ]
     },
     "metadata": {},
     "output_type": "display_data"
    },
    {
     "data": {
      "text/plain": [
       "(2771,)"
      ]
     },
     "metadata": {},
     "output_type": "display_data"
    },
    {
     "data": {
      "text/plain": [
       "(2771, 6)"
      ]
     },
     "metadata": {},
     "output_type": "display_data"
    },
    {
     "data": {
      "text/plain": [
       "(242, 30)"
      ]
     },
     "metadata": {},
     "output_type": "display_data"
    },
    {
     "data": {
      "text/plain": [
       "(242,)"
      ]
     },
     "metadata": {},
     "output_type": "display_data"
    },
    {
     "data": {
      "text/plain": [
       "(242, 6)"
      ]
     },
     "metadata": {},
     "output_type": "display_data"
    },
    {
     "name": "stdout",
     "output_type": "stream",
     "text": [
      "250     5\n",
      "251     3\n",
      "252     3\n",
      "253     5\n",
      "254     0\n",
      "       ..\n",
      "4217    0\n",
      "4225    1\n",
      "4226    3\n",
      "4227    5\n",
      "4228    5\n",
      "Name: label, Length: 2771, dtype: int64\n",
      "Real Score: 770.7183352768061\n",
      "HI\n",
      "HI\n",
      "HI\n",
      "HI\n",
      "HI\n",
      "\n",
      "\n",
      "Starting New Run for RadiusNeighborsClassifier\n",
      "\n",
      "\n",
      "Previous Best Score: -5649.458380694859\n",
      "weights: uniform p: 1 Score: -10720.458380694861\n",
      "weights: uniform p: 2 Score: -5649.458380694859\n",
      "weights: distance p: 1 Score: -10720.458380694861\n",
      "weights: distance p: 2 Score: -5649.458380694859\n",
      "Real output model: RadiusNeighborsClassifier(outlier_label='most_frequent')\n",
      "\n",
      "model_7\n",
      "RadiusNeighborsClassifier(outlier_label='most_frequent')\n",
      "['B_odds', 'R_avg_TD_landed', 'B_current_win_streak', 'B_win_by_Decision_Split', 'R_Height_cms', \"R_Women's Featherweight_rank\", 'B_Lightweight_rank', 'R_Featherweight_rank', 'R_Light Heavyweight_rank', 'total_title_bout_dif', 'R_losses', 'B_win_by_Submission', 'Blue - DEC', 'B_draw', 'R_Middleweight_rank', 'B_avg_SIG_STR_pct', \"B_Women's Strawweight_rank\", 'age_dif', 'B_Middleweight_rank', 'avg_sub_att_dif', 'avg_td_dif', 'B_avg_SUB_ATT', \"R_Women's Flyweight_rank\", 'R_Pound-for-Pound_rank', 'R_Reach_cms', 'R_wins', 'B_ev', 'sub_dif', 'R_ev', 'B_avg_TD_landed']\n",
      "0\n",
      "\n"
     ]
    },
    {
     "data": {
      "text/plain": [
       "(2771, 30)"
      ]
     },
     "metadata": {},
     "output_type": "display_data"
    },
    {
     "data": {
      "text/plain": [
       "(2771,)"
      ]
     },
     "metadata": {},
     "output_type": "display_data"
    },
    {
     "data": {
      "text/plain": [
       "(2771, 6)"
      ]
     },
     "metadata": {},
     "output_type": "display_data"
    },
    {
     "data": {
      "text/plain": [
       "(242, 30)"
      ]
     },
     "metadata": {},
     "output_type": "display_data"
    },
    {
     "data": {
      "text/plain": [
       "(242,)"
      ]
     },
     "metadata": {},
     "output_type": "display_data"
    },
    {
     "data": {
      "text/plain": [
       "(242, 6)"
      ]
     },
     "metadata": {},
     "output_type": "display_data"
    },
    {
     "name": "stdout",
     "output_type": "stream",
     "text": [
      "250     5\n",
      "251     3\n",
      "252     3\n",
      "253     5\n",
      "254     0\n",
      "       ..\n",
      "4217    0\n",
      "4225    1\n",
      "4226    3\n",
      "4227    5\n",
      "4228    5\n",
      "Name: label, Length: 2771, dtype: int64\n",
      "Real Score: 770.7183352768061\n",
      "HI\n",
      "HI\n",
      "HI\n",
      "HI\n",
      "HI\n",
      "\n",
      "model_7\n",
      "RadiusNeighborsClassifier(outlier_label='most_frequent')\n",
      "['B_odds', 'R_avg_TD_landed', 'B_current_win_streak', 'B_win_by_Decision_Split', 'R_Height_cms', \"R_Women's Featherweight_rank\", 'B_Lightweight_rank', 'R_Featherweight_rank', 'R_Light Heavyweight_rank', 'total_title_bout_dif', 'R_losses', 'B_win_by_Submission', 'Blue - DEC', 'B_draw', 'R_Middleweight_rank', 'B_avg_SIG_STR_pct', \"B_Women's Strawweight_rank\", 'age_dif', 'B_Middleweight_rank', 'avg_sub_att_dif', 'avg_td_dif', 'B_avg_SUB_ATT', \"R_Women's Flyweight_rank\", 'R_Pound-for-Pound_rank', 'R_Reach_cms', 'R_wins', 'B_ev', 'sub_dif', 'R_ev', 'B_avg_TD_landed']\n",
      "0\n",
      "\n"
     ]
    },
    {
     "data": {
      "text/plain": [
       "(2771, 30)"
      ]
     },
     "metadata": {},
     "output_type": "display_data"
    },
    {
     "data": {
      "text/plain": [
       "(2771,)"
      ]
     },
     "metadata": {},
     "output_type": "display_data"
    },
    {
     "data": {
      "text/plain": [
       "(2771, 6)"
      ]
     },
     "metadata": {},
     "output_type": "display_data"
    },
    {
     "data": {
      "text/plain": [
       "(242, 30)"
      ]
     },
     "metadata": {},
     "output_type": "display_data"
    },
    {
     "data": {
      "text/plain": [
       "(242,)"
      ]
     },
     "metadata": {},
     "output_type": "display_data"
    },
    {
     "data": {
      "text/plain": [
       "(242, 6)"
      ]
     },
     "metadata": {},
     "output_type": "display_data"
    },
    {
     "name": "stdout",
     "output_type": "stream",
     "text": [
      "250     5\n",
      "251     3\n",
      "252     3\n",
      "253     5\n",
      "254     0\n",
      "       ..\n",
      "4217    0\n",
      "4225    1\n",
      "4226    3\n",
      "4227    5\n",
      "4228    5\n",
      "Name: label, Length: 2771, dtype: int64\n",
      "Real Score: 770.7183352768061\n",
      "HI\n",
      "HI\n",
      "HI\n",
      "HI\n",
      "HI\n",
      "The original score is -5649.458380694859\n",
      "NEW BEST FEATURE SET WITH: R_ev REMOVED -5129.4583806948585\n",
      "NEW BEST FEATURE SET WITH: B_current_win_streak REMOVED -4814.4583806948585\n",
      "The original score is -4814.4583806948585\n",
      "NEW BEST FEATURE SET WITH: R_fighter REMOVED -4636.4583806948585\n",
      "NEW BEST FEATURE SET WITH: B_avg_SIG_STR_pct REMOVED -3297.4583806948604\n",
      "The original score is -3297.4583806948604\n",
      "NEW BEST FEATURE SET WITH: B_longest_win_streak REMOVED -370.63485128309276\n",
      "The original score is -370.63485128309276\n",
      "NEW BEST FEATURE SET WITH: B_total_title_bouts REMOVED 293.35083744678104\n",
      "The original score is 293.35083744678104\n",
      "NEW BEST FEATURE SET WITH: B_avg_TD_landed REMOVED 353.35083744678104\n",
      "The original score is 353.35083744678104\n",
      "\n",
      "model_7\n",
      "RadiusNeighborsClassifier(outlier_label='most_frequent')\n",
      "['B_odds', 'R_avg_TD_landed', 'B_current_win_streak', 'B_win_by_Decision_Split', 'R_Height_cms', \"R_Women's Featherweight_rank\", 'B_Lightweight_rank', 'R_Featherweight_rank', 'R_Light Heavyweight_rank', 'total_title_bout_dif', 'R_losses', 'B_win_by_Submission', 'Blue - DEC', 'B_draw', 'R_Middleweight_rank', \"B_Women's Strawweight_rank\", 'age_dif', 'B_Middleweight_rank', 'avg_td_dif', 'B_avg_SUB_ATT', 'R_Pound-for-Pound_rank', 'R_wins', 'B_ev', 'sub_dif', 'B_avg_TD_landed']\n",
      "0\n",
      "\n"
     ]
    },
    {
     "data": {
      "text/plain": [
       "(2771, 25)"
      ]
     },
     "metadata": {},
     "output_type": "display_data"
    },
    {
     "data": {
      "text/plain": [
       "(2771,)"
      ]
     },
     "metadata": {},
     "output_type": "display_data"
    },
    {
     "data": {
      "text/plain": [
       "(2771, 6)"
      ]
     },
     "metadata": {},
     "output_type": "display_data"
    },
    {
     "data": {
      "text/plain": [
       "(242, 25)"
      ]
     },
     "metadata": {},
     "output_type": "display_data"
    },
    {
     "data": {
      "text/plain": [
       "(242,)"
      ]
     },
     "metadata": {},
     "output_type": "display_data"
    },
    {
     "data": {
      "text/plain": [
       "(242, 6)"
      ]
     },
     "metadata": {},
     "output_type": "display_data"
    },
    {
     "name": "stdout",
     "output_type": "stream",
     "text": [
      "250     5\n",
      "251     3\n",
      "252     3\n",
      "253     5\n",
      "254     0\n",
      "       ..\n",
      "4217    0\n",
      "4225    1\n",
      "4226    3\n",
      "4227    5\n",
      "4228    5\n",
      "Name: label, Length: 2771, dtype: int64\n",
      "Real Score: -1042.614998056527\n",
      "HI\n",
      "HI\n",
      "HI\n",
      "HI\n",
      "HI\n",
      "The features are different\n",
      "OLD:\n",
      "['B_odds', 'R_avg_TD_landed', 'B_current_win_streak', 'B_win_by_Decision_Split', 'R_Height_cms', \"R_Women's Featherweight_rank\", 'B_Lightweight_rank', 'R_Featherweight_rank', 'R_Light Heavyweight_rank', 'total_title_bout_dif', 'R_losses', 'B_win_by_Submission', 'Blue - DEC', 'B_draw', 'R_Middleweight_rank', 'B_avg_SIG_STR_pct', \"B_Women's Strawweight_rank\", 'age_dif', 'B_Middleweight_rank', 'avg_sub_att_dif', 'avg_td_dif', 'B_avg_SUB_ATT', \"R_Women's Flyweight_rank\", 'R_Pound-for-Pound_rank', 'R_Reach_cms', 'R_wins', 'B_ev', 'sub_dif', 'R_ev', 'B_avg_TD_landed']\n",
      "NEW:\n",
      "['B_odds', 'R_avg_TD_landed', 'B_current_win_streak', 'B_win_by_Decision_Split', 'R_Height_cms', \"R_Women's Featherweight_rank\", 'B_Lightweight_rank', 'R_Featherweight_rank', 'R_Light Heavyweight_rank', 'total_title_bout_dif', 'R_losses', 'B_win_by_Submission', 'Blue - DEC', 'B_draw', 'R_Middleweight_rank', \"B_Women's Strawweight_rank\", 'age_dif', 'B_Middleweight_rank', 'avg_td_dif', 'B_avg_SUB_ATT', 'R_Pound-for-Pound_rank', 'R_wins', 'B_ev', 'sub_dif', 'B_avg_TD_landed']\n",
      "Current best score is: 353.35083744678104\n",
      "Feature: gender Score: 1061.3508374467801\n",
      "Feature: R_avg_TD_pct Score: 1203.4646962282147\n",
      "Feature: R_total_title_bouts Score: 1927.3508374467808\n",
      "Feature: win_streak_dif Score: 2037.2113025630615\n",
      "Feature: better_rank Score: 2068.350837446782\n",
      "The best feature was better_rank.  It scored 2068.350837446782\n",
      "Current best score is: 2068.350837446782\n",
      "Feature: R_total_rounds_fought Score: 2373.3508374467788\n",
      "Feature: R_total_title_bouts Score: 3372.35083744678\n",
      "The best feature was R_total_title_bouts.  It scored 3372.35083744678\n",
      "Current best score is: 3372.35083744678\n",
      "Feature: R_total_rounds_fought Score: 3477.3508374467783\n",
      "The best feature was R_total_rounds_fought.  It scored 3477.3508374467783\n",
      "Current best score is: 3477.3508374467783\n",
      "Feature: gender Score: 3566.350837446781\n",
      "The best feature was gender.  It scored 3566.350837446781\n",
      "Current best score is: 3566.350837446781\n",
      "Feature: B_total_title_bouts Score: 3616.350837446781\n",
      "The best feature was B_total_title_bouts.  It scored 3616.350837446781\n",
      "Current best score is: 3616.350837446781\n",
      "Feature: B_wins Score: 3822.427760523704\n",
      "The best feature was B_wins.  It scored 3822.427760523704\n",
      "Current best score is: 3822.427760523704\n",
      "NO IMPROVEMENT\n",
      "FINAL BEST SCORE: 3822.427760523704\n",
      "\n",
      "model_7\n",
      "RadiusNeighborsClassifier(outlier_label='most_frequent')\n",
      "['B_wins', 'B_total_title_bouts', 'gender', 'R_total_rounds_fought', 'R_total_title_bouts', 'better_rank', 'B_odds', 'R_avg_TD_landed', 'B_current_win_streak', 'B_win_by_Decision_Split', 'R_Height_cms', \"R_Women's Featherweight_rank\", 'B_Lightweight_rank', 'R_Featherweight_rank', 'R_Light Heavyweight_rank', 'total_title_bout_dif', 'R_losses', 'B_win_by_Submission', 'Blue - DEC', 'B_draw', 'R_Middleweight_rank', \"B_Women's Strawweight_rank\", 'age_dif', 'B_Middleweight_rank', 'avg_td_dif', 'B_avg_SUB_ATT', 'R_Pound-for-Pound_rank', 'R_wins', 'B_ev', 'sub_dif', 'B_avg_TD_landed']\n",
      "0\n",
      "\n"
     ]
    },
    {
     "data": {
      "text/plain": [
       "(2771, 34)"
      ]
     },
     "metadata": {},
     "output_type": "display_data"
    },
    {
     "data": {
      "text/plain": [
       "(2771,)"
      ]
     },
     "metadata": {},
     "output_type": "display_data"
    },
    {
     "data": {
      "text/plain": [
       "(2771, 6)"
      ]
     },
     "metadata": {},
     "output_type": "display_data"
    },
    {
     "data": {
      "text/plain": [
       "(242, 34)"
      ]
     },
     "metadata": {},
     "output_type": "display_data"
    },
    {
     "data": {
      "text/plain": [
       "(242,)"
      ]
     },
     "metadata": {},
     "output_type": "display_data"
    },
    {
     "data": {
      "text/plain": [
       "(242, 6)"
      ]
     },
     "metadata": {},
     "output_type": "display_data"
    },
    {
     "name": "stdout",
     "output_type": "stream",
     "text": [
      "250     5\n",
      "251     3\n",
      "252     3\n",
      "253     5\n",
      "254     0\n",
      "       ..\n",
      "4217    0\n",
      "4225    1\n",
      "4226    3\n",
      "4227    5\n",
      "4228    5\n",
      "Name: label, Length: 2771, dtype: int64\n",
      "Real Score: -199.281664723194\n",
      "HI\n",
      "HI\n",
      "HI\n",
      "HI\n",
      "HI\n",
      "\n",
      "\n",
      "Starting New Run for RadiusNeighborsClassifier\n",
      "\n",
      "\n",
      "Previous Best Score: 3822.427760523704\n",
      "weights: uniform p: 1 Score: -11624.458380694861\n",
      "weights: uniform p: 2 Score: 3822.427760523704\n",
      "weights: distance p: 1 Score: -11624.458380694861\n",
      "weights: distance p: 2 Score: 3422.427760523704\n",
      "Real output model: RadiusNeighborsClassifier(outlier_label='most_frequent')\n",
      "\n",
      "model_7\n",
      "RadiusNeighborsClassifier(outlier_label='most_frequent')\n",
      "['B_wins', 'B_total_title_bouts', 'gender', 'R_total_rounds_fought', 'R_total_title_bouts', 'better_rank', 'B_odds', 'R_avg_TD_landed', 'B_current_win_streak', 'B_win_by_Decision_Split', 'R_Height_cms', \"R_Women's Featherweight_rank\", 'B_Lightweight_rank', 'R_Featherweight_rank', 'R_Light Heavyweight_rank', 'total_title_bout_dif', 'R_losses', 'B_win_by_Submission', 'Blue - DEC', 'B_draw', 'R_Middleweight_rank', \"B_Women's Strawweight_rank\", 'age_dif', 'B_Middleweight_rank', 'avg_td_dif', 'B_avg_SUB_ATT', 'R_Pound-for-Pound_rank', 'R_wins', 'B_ev', 'sub_dif', 'B_avg_TD_landed']\n",
      "0\n",
      "\n"
     ]
    },
    {
     "data": {
      "text/plain": [
       "(2771, 34)"
      ]
     },
     "metadata": {},
     "output_type": "display_data"
    },
    {
     "data": {
      "text/plain": [
       "(2771,)"
      ]
     },
     "metadata": {},
     "output_type": "display_data"
    },
    {
     "data": {
      "text/plain": [
       "(2771, 6)"
      ]
     },
     "metadata": {},
     "output_type": "display_data"
    },
    {
     "data": {
      "text/plain": [
       "(242, 34)"
      ]
     },
     "metadata": {},
     "output_type": "display_data"
    },
    {
     "data": {
      "text/plain": [
       "(242,)"
      ]
     },
     "metadata": {},
     "output_type": "display_data"
    },
    {
     "data": {
      "text/plain": [
       "(242, 6)"
      ]
     },
     "metadata": {},
     "output_type": "display_data"
    },
    {
     "name": "stdout",
     "output_type": "stream",
     "text": [
      "250     5\n",
      "251     3\n",
      "252     3\n",
      "253     5\n",
      "254     0\n",
      "       ..\n",
      "4217    0\n",
      "4225    1\n",
      "4226    3\n",
      "4227    5\n",
      "4228    5\n",
      "Name: label, Length: 2771, dtype: int64\n",
      "Real Score: -199.281664723194\n",
      "HI\n",
      "HI\n",
      "HI\n",
      "HI\n",
      "HI\n",
      "\n",
      "model_7\n",
      "RadiusNeighborsClassifier(outlier_label='most_frequent')\n",
      "['B_wins', 'B_total_title_bouts', 'gender', 'R_total_rounds_fought', 'R_total_title_bouts', 'better_rank', 'B_odds', 'R_avg_TD_landed', 'B_current_win_streak', 'B_win_by_Decision_Split', 'R_Height_cms', \"R_Women's Featherweight_rank\", 'B_Lightweight_rank', 'R_Featherweight_rank', 'R_Light Heavyweight_rank', 'total_title_bout_dif', 'R_losses', 'B_win_by_Submission', 'Blue - DEC', 'B_draw', 'R_Middleweight_rank', \"B_Women's Strawweight_rank\", 'age_dif', 'B_Middleweight_rank', 'avg_td_dif', 'B_avg_SUB_ATT', 'R_Pound-for-Pound_rank', 'R_wins', 'B_ev', 'sub_dif', 'B_avg_TD_landed']\n",
      "0\n",
      "\n"
     ]
    },
    {
     "data": {
      "text/plain": [
       "(2771, 34)"
      ]
     },
     "metadata": {},
     "output_type": "display_data"
    },
    {
     "data": {
      "text/plain": [
       "(2771,)"
      ]
     },
     "metadata": {},
     "output_type": "display_data"
    },
    {
     "data": {
      "text/plain": [
       "(2771, 6)"
      ]
     },
     "metadata": {},
     "output_type": "display_data"
    },
    {
     "data": {
      "text/plain": [
       "(242, 34)"
      ]
     },
     "metadata": {},
     "output_type": "display_data"
    },
    {
     "data": {
      "text/plain": [
       "(242,)"
      ]
     },
     "metadata": {},
     "output_type": "display_data"
    },
    {
     "data": {
      "text/plain": [
       "(242, 6)"
      ]
     },
     "metadata": {},
     "output_type": "display_data"
    },
    {
     "name": "stdout",
     "output_type": "stream",
     "text": [
      "250     5\n",
      "251     3\n",
      "252     3\n",
      "253     5\n",
      "254     0\n",
      "       ..\n",
      "4217    0\n",
      "4225    1\n",
      "4226    3\n",
      "4227    5\n",
      "4228    5\n",
      "Name: label, Length: 2771, dtype: int64\n",
      "Real Score: -199.281664723194\n",
      "HI\n",
      "HI\n",
      "HI\n",
      "HI\n",
      "HI\n",
      "The original score is 3822.427760523704\n",
      "NEW BEST FEATURE SET WITH: B_win_by_KO/TKO REMOVED 4907.417859533605\n",
      "The original score is 4907.417859533605\n",
      "NEW BEST FEATURE SET WITH: R_odds REMOVED 4915.4178595336025\n",
      "NEW BEST FEATURE SET WITH: B_total_title_bouts REMOVED 5207.256687372435\n",
      "The original score is 5207.256687372435\n",
      "NEW BEST FEATURE SET WITH: R_odds REMOVED 5949.256687372434\n",
      "NEW BEST FEATURE SET WITH: Winner REMOVED 6549.116066088954\n",
      "The original score is 6549.116066088954\n",
      "NEW BEST FEATURE SET WITH: R_odds REMOVED 7439.116066088953\n",
      "The original score is 7439.116066088953\n",
      "\n",
      "model_7\n",
      "RadiusNeighborsClassifier(outlier_label='most_frequent')\n",
      "['B_wins', 'B_total_title_bouts', 'R_total_rounds_fought', 'R_total_title_bouts', 'better_rank', 'B_odds', 'R_avg_TD_landed', 'B_current_win_streak', 'R_Height_cms', \"R_Women's Featherweight_rank\", 'B_Lightweight_rank', 'R_Featherweight_rank', 'R_Light Heavyweight_rank', 'total_title_bout_dif', 'R_losses', 'B_win_by_Submission', 'Blue - DEC', 'B_draw', 'R_Middleweight_rank', \"B_Women's Strawweight_rank\", 'age_dif', 'B_Middleweight_rank', 'avg_td_dif', 'R_Pound-for-Pound_rank', 'R_wins', 'B_ev', 'B_avg_TD_landed']\n",
      "0\n",
      "\n"
     ]
    },
    {
     "data": {
      "text/plain": [
       "(2771, 29)"
      ]
     },
     "metadata": {},
     "output_type": "display_data"
    },
    {
     "data": {
      "text/plain": [
       "(2771,)"
      ]
     },
     "metadata": {},
     "output_type": "display_data"
    },
    {
     "data": {
      "text/plain": [
       "(2771, 6)"
      ]
     },
     "metadata": {},
     "output_type": "display_data"
    },
    {
     "data": {
      "text/plain": [
       "(242, 29)"
      ]
     },
     "metadata": {},
     "output_type": "display_data"
    },
    {
     "data": {
      "text/plain": [
       "(242,)"
      ]
     },
     "metadata": {},
     "output_type": "display_data"
    },
    {
     "data": {
      "text/plain": [
       "(242, 6)"
      ]
     },
     "metadata": {},
     "output_type": "display_data"
    },
    {
     "name": "stdout",
     "output_type": "stream",
     "text": [
      "250     5\n",
      "251     3\n",
      "252     3\n",
      "253     5\n",
      "254     0\n",
      "       ..\n",
      "4217    0\n",
      "4225    1\n",
      "4226    3\n",
      "4227    5\n",
      "4228    5\n",
      "Name: label, Length: 2771, dtype: int64\n",
      "Real Score: -334.28166472319367\n",
      "HI\n",
      "HI\n",
      "HI\n",
      "HI\n",
      "HI\n",
      "The features are different\n",
      "OLD:\n",
      "['B_wins', 'B_total_title_bouts', 'gender', 'R_total_rounds_fought', 'R_total_title_bouts', 'better_rank', 'B_odds', 'R_avg_TD_landed', 'B_current_win_streak', 'B_win_by_Decision_Split', 'R_Height_cms', \"R_Women's Featherweight_rank\", 'B_Lightweight_rank', 'R_Featherweight_rank', 'R_Light Heavyweight_rank', 'total_title_bout_dif', 'R_losses', 'B_win_by_Submission', 'Blue - DEC', 'B_draw', 'R_Middleweight_rank', \"B_Women's Strawweight_rank\", 'age_dif', 'B_Middleweight_rank', 'avg_td_dif', 'B_avg_SUB_ATT', 'R_Pound-for-Pound_rank', 'R_wins', 'B_ev', 'sub_dif', 'B_avg_TD_landed']\n",
      "NEW:\n",
      "['B_wins', 'B_total_title_bouts', 'R_total_rounds_fought', 'R_total_title_bouts', 'better_rank', 'B_odds', 'R_avg_TD_landed', 'B_current_win_streak', 'R_Height_cms', \"R_Women's Featherweight_rank\", 'B_Lightweight_rank', 'R_Featherweight_rank', 'R_Light Heavyweight_rank', 'total_title_bout_dif', 'R_losses', 'B_win_by_Submission', 'Blue - DEC', 'B_draw', 'R_Middleweight_rank', \"B_Women's Strawweight_rank\", 'age_dif', 'B_Middleweight_rank', 'avg_td_dif', 'R_Pound-for-Pound_rank', 'R_wins', 'B_ev', 'B_avg_TD_landed']\n",
      "Current best score is: 7439.116066088953\n",
      "Feature: R_ev Score: 10528.986432195332\n",
      "The best feature was R_ev.  It scored 10528.986432195332\n",
      "Current best score is: 10528.986432195332\n",
      "Feature: B_win_by_TKO_Doctor_Stoppage Score: 10724.224527433427\n",
      "The best feature was B_win_by_TKO_Doctor_Stoppage.  It scored 10724.224527433427\n",
      "Current best score is: 10724.224527433427\n",
      "NO IMPROVEMENT\n",
      "FINAL BEST SCORE: 10724.224527433427\n",
      "\n",
      "model_7\n",
      "RadiusNeighborsClassifier(outlier_label='most_frequent')\n",
      "['B_win_by_TKO_Doctor_Stoppage', 'R_ev', 'B_wins', 'B_total_title_bouts', 'R_total_rounds_fought', 'R_total_title_bouts', 'better_rank', 'B_odds', 'R_avg_TD_landed', 'B_current_win_streak', 'R_Height_cms', \"R_Women's Featherweight_rank\", 'B_Lightweight_rank', 'R_Featherweight_rank', 'R_Light Heavyweight_rank', 'total_title_bout_dif', 'R_losses', 'B_win_by_Submission', 'Blue - DEC', 'B_draw', 'R_Middleweight_rank', \"B_Women's Strawweight_rank\", 'age_dif', 'B_Middleweight_rank', 'avg_td_dif', 'R_Pound-for-Pound_rank', 'R_wins', 'B_ev', 'B_avg_TD_landed']\n",
      "0\n",
      "\n"
     ]
    },
    {
     "data": {
      "text/plain": [
       "(2771, 31)"
      ]
     },
     "metadata": {},
     "output_type": "display_data"
    },
    {
     "data": {
      "text/plain": [
       "(2771,)"
      ]
     },
     "metadata": {},
     "output_type": "display_data"
    },
    {
     "data": {
      "text/plain": [
       "(2771, 6)"
      ]
     },
     "metadata": {},
     "output_type": "display_data"
    },
    {
     "data": {
      "text/plain": [
       "(242, 31)"
      ]
     },
     "metadata": {},
     "output_type": "display_data"
    },
    {
     "data": {
      "text/plain": [
       "(242,)"
      ]
     },
     "metadata": {},
     "output_type": "display_data"
    },
    {
     "data": {
      "text/plain": [
       "(242, 6)"
      ]
     },
     "metadata": {},
     "output_type": "display_data"
    },
    {
     "name": "stdout",
     "output_type": "stream",
     "text": [
      "250     5\n",
      "251     3\n",
      "252     3\n",
      "253     5\n",
      "254     0\n",
      "       ..\n",
      "4217    0\n",
      "4225    1\n",
      "4226    3\n",
      "4227    5\n",
      "4228    5\n",
      "Name: label, Length: 2771, dtype: int64\n",
      "Real Score: -314.28166472319367\n",
      "HI\n",
      "HI\n",
      "HI\n",
      "HI\n",
      "HI\n",
      "\n",
      "\n",
      "Starting New Run for RadiusNeighborsClassifier\n",
      "\n",
      "\n",
      "Previous Best Score: 10724.224527433427\n",
      "weights: uniform p: 1 Score: -11974.458380694861\n",
      "weights: uniform p: 2 Score: 10724.224527433427\n",
      "weights: distance p: 1 Score: -11974.458380694861\n",
      "weights: distance p: 2 Score: 10509.224527433427\n",
      "Real output model: RadiusNeighborsClassifier(outlier_label='most_frequent')\n",
      "\n",
      "model_7\n",
      "RadiusNeighborsClassifier(outlier_label='most_frequent')\n",
      "['B_win_by_TKO_Doctor_Stoppage', 'R_ev', 'B_wins', 'B_total_title_bouts', 'R_total_rounds_fought', 'R_total_title_bouts', 'better_rank', 'B_odds', 'R_avg_TD_landed', 'B_current_win_streak', 'R_Height_cms', \"R_Women's Featherweight_rank\", 'B_Lightweight_rank', 'R_Featherweight_rank', 'R_Light Heavyweight_rank', 'total_title_bout_dif', 'R_losses', 'B_win_by_Submission', 'Blue - DEC', 'B_draw', 'R_Middleweight_rank', \"B_Women's Strawweight_rank\", 'age_dif', 'B_Middleweight_rank', 'avg_td_dif', 'R_Pound-for-Pound_rank', 'R_wins', 'B_ev', 'B_avg_TD_landed']\n",
      "0\n",
      "\n"
     ]
    },
    {
     "data": {
      "text/plain": [
       "(2771, 31)"
      ]
     },
     "metadata": {},
     "output_type": "display_data"
    },
    {
     "data": {
      "text/plain": [
       "(2771,)"
      ]
     },
     "metadata": {},
     "output_type": "display_data"
    },
    {
     "data": {
      "text/plain": [
       "(2771, 6)"
      ]
     },
     "metadata": {},
     "output_type": "display_data"
    },
    {
     "data": {
      "text/plain": [
       "(242, 31)"
      ]
     },
     "metadata": {},
     "output_type": "display_data"
    },
    {
     "data": {
      "text/plain": [
       "(242,)"
      ]
     },
     "metadata": {},
     "output_type": "display_data"
    },
    {
     "data": {
      "text/plain": [
       "(242, 6)"
      ]
     },
     "metadata": {},
     "output_type": "display_data"
    },
    {
     "name": "stdout",
     "output_type": "stream",
     "text": [
      "250     5\n",
      "251     3\n",
      "252     3\n",
      "253     5\n",
      "254     0\n",
      "       ..\n",
      "4217    0\n",
      "4225    1\n",
      "4226    3\n",
      "4227    5\n",
      "4228    5\n",
      "Name: label, Length: 2771, dtype: int64\n",
      "Real Score: -314.28166472319367\n",
      "HI\n",
      "HI\n",
      "HI\n",
      "HI\n",
      "HI\n",
      "\n",
      "model_7\n",
      "RadiusNeighborsClassifier(outlier_label='most_frequent')\n",
      "['B_win_by_TKO_Doctor_Stoppage', 'R_ev', 'B_wins', 'B_total_title_bouts', 'R_total_rounds_fought', 'R_total_title_bouts', 'better_rank', 'B_odds', 'R_avg_TD_landed', 'B_current_win_streak', 'R_Height_cms', \"R_Women's Featherweight_rank\", 'B_Lightweight_rank', 'R_Featherweight_rank', 'R_Light Heavyweight_rank', 'total_title_bout_dif', 'R_losses', 'B_win_by_Submission', 'Blue - DEC', 'B_draw', 'R_Middleweight_rank', \"B_Women's Strawweight_rank\", 'age_dif', 'B_Middleweight_rank', 'avg_td_dif', 'R_Pound-for-Pound_rank', 'R_wins', 'B_ev', 'B_avg_TD_landed']\n",
      "0\n",
      "\n"
     ]
    },
    {
     "data": {
      "text/plain": [
       "(2771, 31)"
      ]
     },
     "metadata": {},
     "output_type": "display_data"
    },
    {
     "data": {
      "text/plain": [
       "(2771,)"
      ]
     },
     "metadata": {},
     "output_type": "display_data"
    },
    {
     "data": {
      "text/plain": [
       "(2771, 6)"
      ]
     },
     "metadata": {},
     "output_type": "display_data"
    },
    {
     "data": {
      "text/plain": [
       "(242, 31)"
      ]
     },
     "metadata": {},
     "output_type": "display_data"
    },
    {
     "data": {
      "text/plain": [
       "(242,)"
      ]
     },
     "metadata": {},
     "output_type": "display_data"
    },
    {
     "data": {
      "text/plain": [
       "(242, 6)"
      ]
     },
     "metadata": {},
     "output_type": "display_data"
    },
    {
     "name": "stdout",
     "output_type": "stream",
     "text": [
      "250     5\n",
      "251     3\n",
      "252     3\n",
      "253     5\n",
      "254     0\n",
      "       ..\n",
      "4217    0\n",
      "4225    1\n",
      "4226    3\n",
      "4227    5\n",
      "4228    5\n",
      "Name: label, Length: 2771, dtype: int64\n",
      "Real Score: -314.28166472319367\n",
      "HI\n",
      "HI\n",
      "HI\n",
      "HI\n",
      "HI\n",
      "The original score is 10724.224527433427\n",
      "\n",
      "model_7\n",
      "RadiusNeighborsClassifier(outlier_label='most_frequent')\n",
      "['B_win_by_TKO_Doctor_Stoppage', 'R_ev', 'B_wins', 'B_total_title_bouts', 'R_total_rounds_fought', 'R_total_title_bouts', 'better_rank', 'B_odds', 'R_avg_TD_landed', 'B_current_win_streak', 'R_Height_cms', \"R_Women's Featherweight_rank\", 'B_Lightweight_rank', 'R_Featherweight_rank', 'R_Light Heavyweight_rank', 'total_title_bout_dif', 'R_losses', 'B_win_by_Submission', 'Blue - DEC', 'B_draw', 'R_Middleweight_rank', \"B_Women's Strawweight_rank\", 'age_dif', 'B_Middleweight_rank', 'avg_td_dif', 'R_Pound-for-Pound_rank', 'R_wins', 'B_ev', 'B_avg_TD_landed']\n",
      "0\n",
      "\n"
     ]
    },
    {
     "data": {
      "text/plain": [
       "(2771, 31)"
      ]
     },
     "metadata": {},
     "output_type": "display_data"
    },
    {
     "data": {
      "text/plain": [
       "(2771,)"
      ]
     },
     "metadata": {},
     "output_type": "display_data"
    },
    {
     "data": {
      "text/plain": [
       "(2771, 6)"
      ]
     },
     "metadata": {},
     "output_type": "display_data"
    },
    {
     "data": {
      "text/plain": [
       "(242, 31)"
      ]
     },
     "metadata": {},
     "output_type": "display_data"
    },
    {
     "data": {
      "text/plain": [
       "(242,)"
      ]
     },
     "metadata": {},
     "output_type": "display_data"
    },
    {
     "data": {
      "text/plain": [
       "(242, 6)"
      ]
     },
     "metadata": {},
     "output_type": "display_data"
    },
    {
     "name": "stdout",
     "output_type": "stream",
     "text": [
      "250     5\n",
      "251     3\n",
      "252     3\n",
      "253     5\n",
      "254     0\n",
      "       ..\n",
      "4217    0\n",
      "4225    1\n",
      "4226    3\n",
      "4227    5\n",
      "4228    5\n",
      "Name: label, Length: 2771, dtype: int64\n",
      "Real Score: -314.28166472319367\n",
      "HI\n",
      "HI\n",
      "HI\n",
      "HI\n",
      "HI\n",
      "\n",
      "\n",
      "OPTIMIZING MODEL 8\n",
      "\n",
      "\n",
      "model_8\n",
      "KNeighborsClassifier(n_neighbors=1)\n",
      "['R_win_by_Decision_Majority', 'R_win_by_TKO_Doctor_Stoppage', \"R_Women's Strawweight_rank\", 'R_Light Heavyweight_rank', 'R_total_rounds_fought', 'no_of_rounds', 'B_Heavyweight_rank', 'B_Stance', 'R_win_by_Submission', 'empty_arena', 'weight_class', 'R_avg_TD_pct', \"R_Women's Featherweight_rank\", 'B_Lightweight_rank', 'total_title_bout_dif', 'R_losses', 'B_win_by_Submission', 'Blue - DEC', 'R_Middleweight_rank', 'B_avg_SIG_STR_pct', 'age_dif', 'avg_sub_att_dif', 'avg_td_dif', 'B_avg_SUB_ATT', \"R_Women's Flyweight_rank\", 'R_Reach_cms', 'sub_dif', 'R_ev']\n",
      "0\n",
      "Current best score is: 11969.69017542512\n",
      "Feature: B_longest_win_streak Score: 14587.9701746052\n",
      "The best feature was B_longest_win_streak.  It scored 14587.9701746052\n",
      "Current best score is: 14587.9701746052\n",
      "Feature: B_win_by_TKO_Doctor_Stoppage Score: 15197.694283829303\n",
      "Feature: R_win_by_Decision_Split Score: 17693.959793277263\n",
      "Feature: R_Lightweight_rank Score: 18720.888942112197\n",
      "The best feature was R_Lightweight_rank.  It scored 18720.888942112197\n",
      "Current best score is: 18720.888942112197\n",
      "Feature: B_win_by_TKO_Doctor_Stoppage Score: 20571.890362260674\n",
      "The best feature was B_win_by_TKO_Doctor_Stoppage.  It scored 20571.890362260674\n",
      "Current best score is: 20571.890362260674\n",
      "Feature: R_total_title_bouts Score: 20772.936351635657\n",
      "Feature: R_win_by_Decision_Split Score: 20781.49979269731\n",
      "Feature: R_match_weightclass_rank Score: 21465.7478202512\n",
      "Feature: R_Heavyweight_rank Score: 21827.44591781623\n",
      "Feature: B_Featherweight_rank Score: 23265.993765348772\n",
      "The best feature was B_Featherweight_rank.  It scored 23265.993765348772\n",
      "Current best score is: 23265.993765348772\n",
      "Feature: R_total_title_bouts Score: 23345.0136109329\n",
      "Feature: R_Heavyweight_rank Score: 24521.549320904327\n",
      "The best feature was R_Heavyweight_rank.  It scored 24521.549320904327\n",
      "Current best score is: 24521.549320904327\n",
      "Feature: title_bout Score: 25454.068713969173\n",
      "Feature: R_Pound-for-Pound_rank Score: 25719.14553161083\n",
      "The best feature was R_Pound-for-Pound_rank.  It scored 25719.14553161083\n",
      "Current best score is: 25719.14553161083\n",
      "Feature: R_Women's Bantamweight_rank Score: 26774.725618190914\n",
      "The best feature was R_Women's Bantamweight_rank.  It scored 26774.725618190914\n",
      "Current best score is: 26774.725618190914\n",
      "Feature: R_Welterweight_rank Score: 27426.189170950136\n",
      "Feature: B_Pound-for-Pound_rank Score: 27631.72561819091\n",
      "The best feature was B_Pound-for-Pound_rank.  It scored 27631.72561819091\n",
      "Current best score is: 27631.72561819091\n",
      "Feature: title_bout Score: 28159.95599009174\n",
      "Feature: R_Welterweight_rank Score: 28283.189170950136\n",
      "Feature: R_Flyweight_rank Score: 29030.047183338742\n",
      "The best feature was R_Flyweight_rank.  It scored 29030.047183338742\n",
      "Current best score is: 29030.047183338742\n",
      "Feature: title_bout Score: 30036.402555239572\n",
      "Feature: B_Flyweight_rank Score: 30263.116505762904\n",
      "The best feature was B_Flyweight_rank.  It scored 30263.116505762904\n",
      "Current best score is: 30263.116505762904\n",
      "Feature: title_bout Score: 31269.471877663727\n",
      "The best feature was title_bout.  It scored 31269.471877663727\n",
      "Current best score is: 31269.471877663727\n",
      "NO IMPROVEMENT\n",
      "FINAL BEST SCORE: 31269.471877663727\n",
      "\n",
      "model_8\n",
      "KNeighborsClassifier(n_neighbors=1)\n",
      "['title_bout', 'B_Flyweight_rank', 'R_Flyweight_rank', 'B_Pound-for-Pound_rank', \"R_Women's Bantamweight_rank\", 'R_Pound-for-Pound_rank', 'R_Heavyweight_rank', 'B_Featherweight_rank', 'B_win_by_TKO_Doctor_Stoppage', 'R_Lightweight_rank', 'B_longest_win_streak', 'R_win_by_Decision_Majority', 'R_win_by_TKO_Doctor_Stoppage', \"R_Women's Strawweight_rank\", 'R_Light Heavyweight_rank', 'R_total_rounds_fought', 'no_of_rounds', 'B_Heavyweight_rank', 'B_Stance', 'R_win_by_Submission', 'empty_arena', 'weight_class', 'R_avg_TD_pct', \"R_Women's Featherweight_rank\", 'B_Lightweight_rank', 'total_title_bout_dif', 'R_losses', 'B_win_by_Submission', 'Blue - DEC', 'R_Middleweight_rank', 'B_avg_SIG_STR_pct', 'age_dif', 'avg_sub_att_dif', 'avg_td_dif', 'B_avg_SUB_ATT', \"R_Women's Flyweight_rank\", 'R_Reach_cms', 'sub_dif', 'R_ev']\n",
      "0\n",
      "\n"
     ]
    },
    {
     "data": {
      "text/plain": [
       "(2762, 53)"
      ]
     },
     "metadata": {},
     "output_type": "display_data"
    },
    {
     "data": {
      "text/plain": [
       "(2762,)"
      ]
     },
     "metadata": {},
     "output_type": "display_data"
    },
    {
     "data": {
      "text/plain": [
       "(2762, 6)"
      ]
     },
     "metadata": {},
     "output_type": "display_data"
    },
    {
     "data": {
      "text/plain": [
       "(240, 53)"
      ]
     },
     "metadata": {},
     "output_type": "display_data"
    },
    {
     "data": {
      "text/plain": [
       "(240,)"
      ]
     },
     "metadata": {},
     "output_type": "display_data"
    },
    {
     "data": {
      "text/plain": [
       "(240, 6)"
      ]
     },
     "metadata": {},
     "output_type": "display_data"
    },
    {
     "name": "stdout",
     "output_type": "stream",
     "text": [
      "250     5\n",
      "251     3\n",
      "252     3\n",
      "253     5\n",
      "254     0\n",
      "       ..\n",
      "4217    0\n",
      "4225    1\n",
      "4226    3\n",
      "4227    5\n",
      "4228    5\n",
      "Name: label, Length: 2762, dtype: int64\n",
      "Real Score: -3966.2102361517655\n",
      "HI\n",
      "HI\n",
      "HI\n",
      "HI\n",
      "HI\n",
      "\n",
      "\n",
      "Starting New Run for KNeighborsClassifier\n",
      "\n",
      "\n",
      "Previous Best Score: 31269.471877663727\n",
      "weights: uniform n_neighbors: 1 Score: 31269.471877663727\n",
      "weights: uniform n_neighbors: 2 Score: -19752.490934331407\n",
      "weights: uniform n_neighbors: 3 Score: -45567.79072968673\n",
      "weights: uniform n_neighbors: 4 Score: -68160.3589959861\n",
      "weights: uniform n_neighbors: 5 Score: -74822.54236416402\n",
      "weights: uniform n_neighbors: 6 Score: -92512.03480088004\n",
      "weights: uniform n_neighbors: 7 Score: -103953.12569829776\n",
      "weights: uniform n_neighbors: 8 Score: -106343.88148601752\n",
      "weights: uniform n_neighbors: 9 Score: -111057.33694809536\n",
      "weights: uniform n_neighbors: 10 Score: -105917.91619041469\n",
      "weights: distance n_neighbors: 1 Score: 31269.471877663727\n",
      "weights: distance n_neighbors: 2 Score: -20017.84916794663\n",
      "weights: distance n_neighbors: 3 Score: -46266.08614564599\n",
      "weights: distance n_neighbors: 4 Score: -64758.553343388296\n",
      "weights: distance n_neighbors: 5 Score: -66384.09403214618\n",
      "weights: distance n_neighbors: 6 Score: -84029.40771355998\n",
      "weights: distance n_neighbors: 7 Score: -100904.62305279513\n",
      "weights: distance n_neighbors: 8 Score: -107483.89870006886\n",
      "weights: distance n_neighbors: 9 Score: -105726.36644034224\n",
      "weights: distance n_neighbors: 10 Score: -95219.15853716363\n",
      "Real output model: KNeighborsClassifier(n_neighbors=1)\n",
      "\n",
      "model_8\n",
      "KNeighborsClassifier(n_neighbors=1)\n",
      "['title_bout', 'B_Flyweight_rank', 'R_Flyweight_rank', 'B_Pound-for-Pound_rank', \"R_Women's Bantamweight_rank\", 'R_Pound-for-Pound_rank', 'R_Heavyweight_rank', 'B_Featherweight_rank', 'B_win_by_TKO_Doctor_Stoppage', 'R_Lightweight_rank', 'B_longest_win_streak', 'R_win_by_Decision_Majority', 'R_win_by_TKO_Doctor_Stoppage', \"R_Women's Strawweight_rank\", 'R_Light Heavyweight_rank', 'R_total_rounds_fought', 'no_of_rounds', 'B_Heavyweight_rank', 'B_Stance', 'R_win_by_Submission', 'empty_arena', 'weight_class', 'R_avg_TD_pct', \"R_Women's Featherweight_rank\", 'B_Lightweight_rank', 'total_title_bout_dif', 'R_losses', 'B_win_by_Submission', 'Blue - DEC', 'R_Middleweight_rank', 'B_avg_SIG_STR_pct', 'age_dif', 'avg_sub_att_dif', 'avg_td_dif', 'B_avg_SUB_ATT', \"R_Women's Flyweight_rank\", 'R_Reach_cms', 'sub_dif', 'R_ev']\n",
      "0\n",
      "\n"
     ]
    },
    {
     "data": {
      "text/plain": [
       "(2762, 53)"
      ]
     },
     "metadata": {},
     "output_type": "display_data"
    },
    {
     "data": {
      "text/plain": [
       "(2762,)"
      ]
     },
     "metadata": {},
     "output_type": "display_data"
    },
    {
     "data": {
      "text/plain": [
       "(2762, 6)"
      ]
     },
     "metadata": {},
     "output_type": "display_data"
    },
    {
     "data": {
      "text/plain": [
       "(240, 53)"
      ]
     },
     "metadata": {},
     "output_type": "display_data"
    },
    {
     "data": {
      "text/plain": [
       "(240,)"
      ]
     },
     "metadata": {},
     "output_type": "display_data"
    },
    {
     "data": {
      "text/plain": [
       "(240, 6)"
      ]
     },
     "metadata": {},
     "output_type": "display_data"
    },
    {
     "name": "stdout",
     "output_type": "stream",
     "text": [
      "250     5\n",
      "251     3\n",
      "252     3\n",
      "253     5\n",
      "254     0\n",
      "       ..\n",
      "4217    0\n",
      "4225    1\n",
      "4226    3\n",
      "4227    5\n",
      "4228    5\n",
      "Name: label, Length: 2762, dtype: int64\n",
      "Real Score: -3966.2102361517655\n",
      "HI\n",
      "HI\n",
      "HI\n",
      "HI\n",
      "HI\n",
      "\n",
      "model_8\n",
      "KNeighborsClassifier(n_neighbors=1)\n",
      "['title_bout', 'B_Flyweight_rank', 'R_Flyweight_rank', 'B_Pound-for-Pound_rank', \"R_Women's Bantamweight_rank\", 'R_Pound-for-Pound_rank', 'R_Heavyweight_rank', 'B_Featherweight_rank', 'B_win_by_TKO_Doctor_Stoppage', 'R_Lightweight_rank', 'B_longest_win_streak', 'R_win_by_Decision_Majority', 'R_win_by_TKO_Doctor_Stoppage', \"R_Women's Strawweight_rank\", 'R_Light Heavyweight_rank', 'R_total_rounds_fought', 'no_of_rounds', 'B_Heavyweight_rank', 'B_Stance', 'R_win_by_Submission', 'empty_arena', 'weight_class', 'R_avg_TD_pct', \"R_Women's Featherweight_rank\", 'B_Lightweight_rank', 'total_title_bout_dif', 'R_losses', 'B_win_by_Submission', 'Blue - DEC', 'R_Middleweight_rank', 'B_avg_SIG_STR_pct', 'age_dif', 'avg_sub_att_dif', 'avg_td_dif', 'B_avg_SUB_ATT', \"R_Women's Flyweight_rank\", 'R_Reach_cms', 'sub_dif', 'R_ev']\n",
      "0\n",
      "\n"
     ]
    },
    {
     "data": {
      "text/plain": [
       "(2762, 53)"
      ]
     },
     "metadata": {},
     "output_type": "display_data"
    },
    {
     "data": {
      "text/plain": [
       "(2762,)"
      ]
     },
     "metadata": {},
     "output_type": "display_data"
    },
    {
     "data": {
      "text/plain": [
       "(2762, 6)"
      ]
     },
     "metadata": {},
     "output_type": "display_data"
    },
    {
     "data": {
      "text/plain": [
       "(240, 53)"
      ]
     },
     "metadata": {},
     "output_type": "display_data"
    },
    {
     "data": {
      "text/plain": [
       "(240,)"
      ]
     },
     "metadata": {},
     "output_type": "display_data"
    },
    {
     "data": {
      "text/plain": [
       "(240, 6)"
      ]
     },
     "metadata": {},
     "output_type": "display_data"
    },
    {
     "name": "stdout",
     "output_type": "stream",
     "text": [
      "250     5\n",
      "251     3\n",
      "252     3\n",
      "253     5\n",
      "254     0\n",
      "       ..\n",
      "4217    0\n",
      "4225    1\n",
      "4226    3\n",
      "4227    5\n",
      "4228    5\n",
      "Name: label, Length: 2762, dtype: int64\n",
      "Real Score: -3966.2102361517655\n",
      "HI\n",
      "HI\n",
      "HI\n",
      "HI\n",
      "HI\n",
      "The original score is 31269.471877663727\n",
      "NEW BEST FEATURE SET WITH: B_current_lose_streak REMOVED 31315.56095020735\n",
      "NEW BEST FEATURE SET WITH: B_avg_SIG_STR_landed REMOVED 32441.275323058824\n",
      "The original score is 32441.275323058824\n",
      "NEW BEST FEATURE SET WITH: B_current_lose_streak REMOVED 32487.364395602443\n",
      "The original score is 32487.364395602443\n",
      "\n",
      "model_8\n",
      "KNeighborsClassifier(n_neighbors=1)\n",
      "['title_bout', 'B_Flyweight_rank', 'R_Flyweight_rank', 'B_Pound-for-Pound_rank', \"R_Women's Bantamweight_rank\", 'R_Pound-for-Pound_rank', 'R_Heavyweight_rank', 'B_Featherweight_rank', 'B_win_by_TKO_Doctor_Stoppage', 'R_Lightweight_rank', 'B_longest_win_streak', 'R_win_by_Decision_Majority', 'R_win_by_TKO_Doctor_Stoppage', \"R_Women's Strawweight_rank\", 'R_total_rounds_fought', 'no_of_rounds', 'B_Stance', 'R_win_by_Submission', 'empty_arena', 'weight_class', 'R_avg_TD_pct', \"R_Women's Featherweight_rank\", 'B_Lightweight_rank', 'total_title_bout_dif', 'R_losses', 'B_win_by_Submission', 'Blue - DEC', 'R_Middleweight_rank', 'B_avg_SIG_STR_pct', 'age_dif', 'avg_sub_att_dif', 'avg_td_dif', 'B_avg_SUB_ATT', \"R_Women's Flyweight_rank\", 'R_Reach_cms', 'sub_dif', 'R_ev']\n",
      "0\n",
      "\n"
     ]
    },
    {
     "data": {
      "text/plain": [
       "(2762, 51)"
      ]
     },
     "metadata": {},
     "output_type": "display_data"
    },
    {
     "data": {
      "text/plain": [
       "(2762,)"
      ]
     },
     "metadata": {},
     "output_type": "display_data"
    },
    {
     "data": {
      "text/plain": [
       "(2762, 6)"
      ]
     },
     "metadata": {},
     "output_type": "display_data"
    },
    {
     "data": {
      "text/plain": [
       "(240, 51)"
      ]
     },
     "metadata": {},
     "output_type": "display_data"
    },
    {
     "data": {
      "text/plain": [
       "(240,)"
      ]
     },
     "metadata": {},
     "output_type": "display_data"
    },
    {
     "data": {
      "text/plain": [
       "(240, 6)"
      ]
     },
     "metadata": {},
     "output_type": "display_data"
    },
    {
     "name": "stdout",
     "output_type": "stream",
     "text": [
      "250     5\n",
      "251     3\n",
      "252     3\n",
      "253     5\n",
      "254     0\n",
      "       ..\n",
      "4217    0\n",
      "4225    1\n",
      "4226    3\n",
      "4227    5\n",
      "4228    5\n",
      "Name: label, Length: 2762, dtype: int64\n",
      "Real Score: -4866.2102361517655\n",
      "HI\n",
      "HI\n",
      "HI\n",
      "HI\n",
      "HI\n",
      "The features are different\n",
      "OLD:\n",
      "['title_bout', 'B_Flyweight_rank', 'R_Flyweight_rank', 'B_Pound-for-Pound_rank', \"R_Women's Bantamweight_rank\", 'R_Pound-for-Pound_rank', 'R_Heavyweight_rank', 'B_Featherweight_rank', 'B_win_by_TKO_Doctor_Stoppage', 'R_Lightweight_rank', 'B_longest_win_streak', 'R_win_by_Decision_Majority', 'R_win_by_TKO_Doctor_Stoppage', \"R_Women's Strawweight_rank\", 'R_Light Heavyweight_rank', 'R_total_rounds_fought', 'no_of_rounds', 'B_Heavyweight_rank', 'B_Stance', 'R_win_by_Submission', 'empty_arena', 'weight_class', 'R_avg_TD_pct', \"R_Women's Featherweight_rank\", 'B_Lightweight_rank', 'total_title_bout_dif', 'R_losses', 'B_win_by_Submission', 'Blue - DEC', 'R_Middleweight_rank', 'B_avg_SIG_STR_pct', 'age_dif', 'avg_sub_att_dif', 'avg_td_dif', 'B_avg_SUB_ATT', \"R_Women's Flyweight_rank\", 'R_Reach_cms', 'sub_dif', 'R_ev']\n",
      "NEW:\n",
      "['title_bout', 'B_Flyweight_rank', 'R_Flyweight_rank', 'B_Pound-for-Pound_rank', \"R_Women's Bantamweight_rank\", 'R_Pound-for-Pound_rank', 'R_Heavyweight_rank', 'B_Featherweight_rank', 'B_win_by_TKO_Doctor_Stoppage', 'R_Lightweight_rank', 'B_longest_win_streak', 'R_win_by_Decision_Majority', 'R_win_by_TKO_Doctor_Stoppage', \"R_Women's Strawweight_rank\", 'R_total_rounds_fought', 'no_of_rounds', 'B_Stance', 'R_win_by_Submission', 'empty_arena', 'weight_class', 'R_avg_TD_pct', \"R_Women's Featherweight_rank\", 'B_Lightweight_rank', 'total_title_bout_dif', 'R_losses', 'B_win_by_Submission', 'Blue - DEC', 'R_Middleweight_rank', 'B_avg_SIG_STR_pct', 'age_dif', 'avg_sub_att_dif', 'avg_td_dif', 'B_avg_SUB_ATT', \"R_Women's Flyweight_rank\", 'R_Reach_cms', 'sub_dif', 'R_ev']\n",
      "Current best score is: 32487.364395602443\n",
      "NO IMPROVEMENT\n",
      "FINAL BEST SCORE: 32487.364395602443\n",
      "\n",
      "model_8\n",
      "KNeighborsClassifier(n_neighbors=1)\n",
      "['title_bout', 'B_Flyweight_rank', 'R_Flyweight_rank', 'B_Pound-for-Pound_rank', \"R_Women's Bantamweight_rank\", 'R_Pound-for-Pound_rank', 'R_Heavyweight_rank', 'B_Featherweight_rank', 'B_win_by_TKO_Doctor_Stoppage', 'R_Lightweight_rank', 'B_longest_win_streak', 'R_win_by_Decision_Majority', 'R_win_by_TKO_Doctor_Stoppage', \"R_Women's Strawweight_rank\", 'R_total_rounds_fought', 'no_of_rounds', 'B_Stance', 'R_win_by_Submission', 'empty_arena', 'weight_class', 'R_avg_TD_pct', \"R_Women's Featherweight_rank\", 'B_Lightweight_rank', 'total_title_bout_dif', 'R_losses', 'B_win_by_Submission', 'Blue - DEC', 'R_Middleweight_rank', 'B_avg_SIG_STR_pct', 'age_dif', 'avg_sub_att_dif', 'avg_td_dif', 'B_avg_SUB_ATT', \"R_Women's Flyweight_rank\", 'R_Reach_cms', 'sub_dif', 'R_ev']\n",
      "0\n",
      "\n"
     ]
    },
    {
     "data": {
      "text/plain": [
       "(2762, 51)"
      ]
     },
     "metadata": {},
     "output_type": "display_data"
    },
    {
     "data": {
      "text/plain": [
       "(2762,)"
      ]
     },
     "metadata": {},
     "output_type": "display_data"
    },
    {
     "data": {
      "text/plain": [
       "(2762, 6)"
      ]
     },
     "metadata": {},
     "output_type": "display_data"
    },
    {
     "data": {
      "text/plain": [
       "(240, 51)"
      ]
     },
     "metadata": {},
     "output_type": "display_data"
    },
    {
     "data": {
      "text/plain": [
       "(240,)"
      ]
     },
     "metadata": {},
     "output_type": "display_data"
    },
    {
     "data": {
      "text/plain": [
       "(240, 6)"
      ]
     },
     "metadata": {},
     "output_type": "display_data"
    },
    {
     "name": "stdout",
     "output_type": "stream",
     "text": [
      "250     5\n",
      "251     3\n",
      "252     3\n",
      "253     5\n",
      "254     0\n",
      "       ..\n",
      "4217    0\n",
      "4225    1\n",
      "4226    3\n",
      "4227    5\n",
      "4228    5\n",
      "Name: label, Length: 2762, dtype: int64\n",
      "Real Score: -4866.2102361517655\n",
      "HI\n",
      "HI\n",
      "HI\n",
      "HI\n",
      "HI\n",
      "\n",
      "\n",
      "Starting New Run for KNeighborsClassifier\n",
      "\n",
      "\n",
      "Previous Best Score: 32487.364395602443\n",
      "weights: uniform n_neighbors: 1 Score: 32487.364395602443\n",
      "weights: uniform n_neighbors: 2 Score: -20133.04313307866\n",
      "weights: uniform n_neighbors: 3 Score: -39671.77776188795\n",
      "weights: uniform n_neighbors: 4 Score: -56950.83792318916\n",
      "weights: uniform n_neighbors: 5 Score: -65443.369589133494\n",
      "weights: uniform n_neighbors: 6 Score: -88567.3352613885\n",
      "weights: uniform n_neighbors: 7 Score: -102696.82249835011\n",
      "weights: uniform n_neighbors: 8 Score: -107789.97126831532\n",
      "weights: uniform n_neighbors: 9 Score: -109272.15311154292\n",
      "weights: uniform n_neighbors: 10 Score: -107218.91947856553\n",
      "weights: distance n_neighbors: 1 Score: 32487.364395602443\n",
      "weights: distance n_neighbors: 2 Score: -20678.401366693884\n",
      "weights: distance n_neighbors: 3 Score: -41572.997154455385\n",
      "weights: distance n_neighbors: 4 Score: -55269.032270591364\n",
      "weights: distance n_neighbors: 5 Score: -59411.92125711566\n",
      "weights: distance n_neighbors: 6 Score: -78153.79908315936\n",
      "weights: distance n_neighbors: 7 Score: -98595.99084851847\n",
      "weights: distance n_neighbors: 8 Score: -106917.02738006924\n",
      "weights: distance n_neighbors: 9 Score: -101633.13912552895\n",
      "weights: distance n_neighbors: 10 Score: -94736.11834705359\n",
      "Real output model: KNeighborsClassifier(n_neighbors=1)\n",
      "\n",
      "model_8\n",
      "KNeighborsClassifier(n_neighbors=1)\n",
      "['title_bout', 'B_Flyweight_rank', 'R_Flyweight_rank', 'B_Pound-for-Pound_rank', \"R_Women's Bantamweight_rank\", 'R_Pound-for-Pound_rank', 'R_Heavyweight_rank', 'B_Featherweight_rank', 'B_win_by_TKO_Doctor_Stoppage', 'R_Lightweight_rank', 'B_longest_win_streak', 'R_win_by_Decision_Majority', 'R_win_by_TKO_Doctor_Stoppage', \"R_Women's Strawweight_rank\", 'R_total_rounds_fought', 'no_of_rounds', 'B_Stance', 'R_win_by_Submission', 'empty_arena', 'weight_class', 'R_avg_TD_pct', \"R_Women's Featherweight_rank\", 'B_Lightweight_rank', 'total_title_bout_dif', 'R_losses', 'B_win_by_Submission', 'Blue - DEC', 'R_Middleweight_rank', 'B_avg_SIG_STR_pct', 'age_dif', 'avg_sub_att_dif', 'avg_td_dif', 'B_avg_SUB_ATT', \"R_Women's Flyweight_rank\", 'R_Reach_cms', 'sub_dif', 'R_ev']\n",
      "0\n",
      "\n"
     ]
    },
    {
     "data": {
      "text/plain": [
       "(2762, 51)"
      ]
     },
     "metadata": {},
     "output_type": "display_data"
    },
    {
     "data": {
      "text/plain": [
       "(2762,)"
      ]
     },
     "metadata": {},
     "output_type": "display_data"
    },
    {
     "data": {
      "text/plain": [
       "(2762, 6)"
      ]
     },
     "metadata": {},
     "output_type": "display_data"
    },
    {
     "data": {
      "text/plain": [
       "(240, 51)"
      ]
     },
     "metadata": {},
     "output_type": "display_data"
    },
    {
     "data": {
      "text/plain": [
       "(240,)"
      ]
     },
     "metadata": {},
     "output_type": "display_data"
    },
    {
     "data": {
      "text/plain": [
       "(240, 6)"
      ]
     },
     "metadata": {},
     "output_type": "display_data"
    },
    {
     "name": "stdout",
     "output_type": "stream",
     "text": [
      "250     5\n",
      "251     3\n",
      "252     3\n",
      "253     5\n",
      "254     0\n",
      "       ..\n",
      "4217    0\n",
      "4225    1\n",
      "4226    3\n",
      "4227    5\n",
      "4228    5\n",
      "Name: label, Length: 2762, dtype: int64\n",
      "Real Score: -4866.2102361517655\n",
      "HI\n",
      "HI\n",
      "HI\n",
      "HI\n",
      "HI\n",
      "\n",
      "model_8\n",
      "KNeighborsClassifier(n_neighbors=1)\n",
      "['title_bout', 'B_Flyweight_rank', 'R_Flyweight_rank', 'B_Pound-for-Pound_rank', \"R_Women's Bantamweight_rank\", 'R_Pound-for-Pound_rank', 'R_Heavyweight_rank', 'B_Featherweight_rank', 'B_win_by_TKO_Doctor_Stoppage', 'R_Lightweight_rank', 'B_longest_win_streak', 'R_win_by_Decision_Majority', 'R_win_by_TKO_Doctor_Stoppage', \"R_Women's Strawweight_rank\", 'R_total_rounds_fought', 'no_of_rounds', 'B_Stance', 'R_win_by_Submission', 'empty_arena', 'weight_class', 'R_avg_TD_pct', \"R_Women's Featherweight_rank\", 'B_Lightweight_rank', 'total_title_bout_dif', 'R_losses', 'B_win_by_Submission', 'Blue - DEC', 'R_Middleweight_rank', 'B_avg_SIG_STR_pct', 'age_dif', 'avg_sub_att_dif', 'avg_td_dif', 'B_avg_SUB_ATT', \"R_Women's Flyweight_rank\", 'R_Reach_cms', 'sub_dif', 'R_ev']\n",
      "0\n",
      "\n"
     ]
    },
    {
     "data": {
      "text/plain": [
       "(2762, 51)"
      ]
     },
     "metadata": {},
     "output_type": "display_data"
    },
    {
     "data": {
      "text/plain": [
       "(2762,)"
      ]
     },
     "metadata": {},
     "output_type": "display_data"
    },
    {
     "data": {
      "text/plain": [
       "(2762, 6)"
      ]
     },
     "metadata": {},
     "output_type": "display_data"
    },
    {
     "data": {
      "text/plain": [
       "(240, 51)"
      ]
     },
     "metadata": {},
     "output_type": "display_data"
    },
    {
     "data": {
      "text/plain": [
       "(240,)"
      ]
     },
     "metadata": {},
     "output_type": "display_data"
    },
    {
     "data": {
      "text/plain": [
       "(240, 6)"
      ]
     },
     "metadata": {},
     "output_type": "display_data"
    },
    {
     "name": "stdout",
     "output_type": "stream",
     "text": [
      "250     5\n",
      "251     3\n",
      "252     3\n",
      "253     5\n",
      "254     0\n",
      "       ..\n",
      "4217    0\n",
      "4225    1\n",
      "4226    3\n",
      "4227    5\n",
      "4228    5\n",
      "Name: label, Length: 2762, dtype: int64\n",
      "Real Score: -4866.2102361517655\n",
      "HI\n",
      "HI\n",
      "HI\n",
      "HI\n",
      "HI\n",
      "The original score is 32487.364395602443\n",
      "\n",
      "model_8\n",
      "KNeighborsClassifier(n_neighbors=1)\n",
      "['title_bout', 'B_Flyweight_rank', 'R_Flyweight_rank', 'B_Pound-for-Pound_rank', \"R_Women's Bantamweight_rank\", 'R_Pound-for-Pound_rank', 'R_Heavyweight_rank', 'B_Featherweight_rank', 'B_win_by_TKO_Doctor_Stoppage', 'R_Lightweight_rank', 'B_longest_win_streak', 'R_win_by_Decision_Majority', 'R_win_by_TKO_Doctor_Stoppage', \"R_Women's Strawweight_rank\", 'R_total_rounds_fought', 'no_of_rounds', 'B_Stance', 'R_win_by_Submission', 'empty_arena', 'weight_class', 'R_avg_TD_pct', \"R_Women's Featherweight_rank\", 'B_Lightweight_rank', 'total_title_bout_dif', 'R_losses', 'B_win_by_Submission', 'Blue - DEC', 'R_Middleweight_rank', 'B_avg_SIG_STR_pct', 'age_dif', 'avg_sub_att_dif', 'avg_td_dif', 'B_avg_SUB_ATT', \"R_Women's Flyweight_rank\", 'R_Reach_cms', 'sub_dif', 'R_ev']\n",
      "0\n",
      "\n"
     ]
    },
    {
     "data": {
      "text/plain": [
       "(2762, 51)"
      ]
     },
     "metadata": {},
     "output_type": "display_data"
    },
    {
     "data": {
      "text/plain": [
       "(2762,)"
      ]
     },
     "metadata": {},
     "output_type": "display_data"
    },
    {
     "data": {
      "text/plain": [
       "(2762, 6)"
      ]
     },
     "metadata": {},
     "output_type": "display_data"
    },
    {
     "data": {
      "text/plain": [
       "(240, 51)"
      ]
     },
     "metadata": {},
     "output_type": "display_data"
    },
    {
     "data": {
      "text/plain": [
       "(240,)"
      ]
     },
     "metadata": {},
     "output_type": "display_data"
    },
    {
     "data": {
      "text/plain": [
       "(240, 6)"
      ]
     },
     "metadata": {},
     "output_type": "display_data"
    },
    {
     "name": "stdout",
     "output_type": "stream",
     "text": [
      "250     5\n",
      "251     3\n",
      "252     3\n",
      "253     5\n",
      "254     0\n",
      "       ..\n",
      "4217    0\n",
      "4225    1\n",
      "4226    3\n",
      "4227    5\n",
      "4228    5\n",
      "Name: label, Length: 2762, dtype: int64\n",
      "Real Score: -4866.2102361517655\n",
      "HI\n",
      "HI\n",
      "HI\n",
      "HI\n",
      "HI\n",
      "\n",
      "\n",
      "OPTIMIZING MODEL 9\n",
      "\n",
      "\n",
      "model_9\n",
      "SGDClassifier(alpha=9e-05, loss='log', penalty='l1', random_state=75)\n",
      "['R_Stance', 'Blue - DEC', 'R_Light Heavyweight_rank', 'R_total_rounds_fought', 'R_match_weightclass_rank', 'gender', 'B_Stance', 'location', 'loss_dif', 'R_avg_TD_pct', \"R_Women's Strawweight_rank\", 'B_win_by_KO/TKO', 'sig_str_dif', 'age_dif', 'R_draw', 'win_streak_dif', 'R_Reach_cms', \"R_Women's Featherweight_rank\", 'R_win_by_TKO_Doctor_Stoppage', 'B_ev', 'sub_dif', 'R_Welterweight_rank', 'B_avg_TD_landed', 'reach_dif']\n",
      "0\n",
      "Current best score is: -57303.06709811315\n",
      "Feature: R_ev Score: -52254.967236314835\n",
      "Feature: title_bout Score: -39198.794826673\n",
      "Feature: R_total_title_bouts Score: -37908.92851926467\n",
      "The best feature was R_total_title_bouts.  It scored -37908.92851926467\n",
      "Current best score is: -37908.92851926467\n",
      "Feature: R_odds Score: -33089.866088530514\n",
      "The best feature was R_odds.  It scored -33089.866088530514\n",
      "Current best score is: -33089.866088530514\n",
      "NO IMPROVEMENT\n",
      "FINAL BEST SCORE: -33089.866088530514\n",
      "\n",
      "model_9\n",
      "SGDClassifier(alpha=9e-05, loss='log', penalty='l1', random_state=75)\n",
      "['R_odds', 'R_total_title_bouts', 'R_Stance', 'Blue - DEC', 'R_Light Heavyweight_rank', 'R_total_rounds_fought', 'R_match_weightclass_rank', 'gender', 'B_Stance', 'location', 'loss_dif', 'R_avg_TD_pct', \"R_Women's Strawweight_rank\", 'B_win_by_KO/TKO', 'sig_str_dif', 'age_dif', 'R_draw', 'win_streak_dif', 'R_Reach_cms', \"R_Women's Featherweight_rank\", 'R_win_by_TKO_Doctor_Stoppage', 'B_ev', 'sub_dif', 'R_Welterweight_rank', 'B_avg_TD_landed', 'reach_dif']\n",
      "0\n",
      "\n"
     ]
    },
    {
     "data": {
      "text/plain": [
       "(2762, 165)"
      ]
     },
     "metadata": {},
     "output_type": "display_data"
    },
    {
     "data": {
      "text/plain": [
       "(2762,)"
      ]
     },
     "metadata": {},
     "output_type": "display_data"
    },
    {
     "data": {
      "text/plain": [
       "(2762, 6)"
      ]
     },
     "metadata": {},
     "output_type": "display_data"
    },
    {
     "data": {
      "text/plain": [
       "(240, 165)"
      ]
     },
     "metadata": {},
     "output_type": "display_data"
    },
    {
     "data": {
      "text/plain": [
       "(240,)"
      ]
     },
     "metadata": {},
     "output_type": "display_data"
    },
    {
     "data": {
      "text/plain": [
       "(240, 6)"
      ]
     },
     "metadata": {},
     "output_type": "display_data"
    },
    {
     "name": "stdout",
     "output_type": "stream",
     "text": [
      "250     5\n",
      "251     3\n",
      "252     3\n",
      "253     5\n",
      "254     0\n",
      "       ..\n",
      "4217    0\n",
      "4225    1\n",
      "4226    3\n",
      "4227    5\n",
      "4228    5\n",
      "Name: label, Length: 2762, dtype: int64\n",
      "Real Score: -5140.644210861601\n",
      "HI\n",
      "HI\n",
      "HI\n",
      "HI\n",
      "HI\n",
      "\n",
      "\n",
      "Starting New Run for SGDClassifier\n",
      "\n",
      "\n",
      "Previous Best Score: -33089.866088530514\n",
      "loss:  modified_huber penalty:  l1 alpha:  9e-05 Score:  -119950.17918773422\n",
      "loss:  modified_huber penalty:  l1 alpha:  8.1e-05 Score:  -104002.71846817808\n",
      "loss:  modified_huber penalty:  l1 alpha:  9.900000000000001e-05 Score:  -129117.267916685\n",
      "loss:  modified_huber penalty:  l2 alpha:  9e-05 Score:  -123531.41623755741\n",
      "loss:  modified_huber penalty:  l2 alpha:  8.1e-05 Score:  -124277.87599614827\n",
      "loss:  modified_huber penalty:  l2 alpha:  9.900000000000001e-05 Score:  -102884.5587741772\n",
      "loss:  log penalty:  l1 alpha:  9e-05 Score:  -33089.866088530514\n",
      "loss:  log penalty:  l1 alpha:  8.1e-05 Score:  -52288.84808102357\n",
      "loss:  log penalty:  l1 alpha:  9.900000000000001e-05 Score:  -52986.61254495735\n",
      "loss:  log penalty:  l2 alpha:  9e-05 Score:  -68899.75286132583\n",
      "loss:  log penalty:  l2 alpha:  8.1e-05 Score:  -65405.970363248096\n",
      "loss:  log penalty:  l2 alpha:  9.900000000000001e-05 Score:  -58846.524907854044\n",
      "Real output model: SGDClassifier(alpha=9e-05, loss='log', penalty='l1', random_state=75)\n",
      "\n",
      "model_9\n",
      "SGDClassifier(alpha=9e-05, loss='log', penalty='l1', random_state=75)\n",
      "['R_odds', 'R_total_title_bouts', 'R_Stance', 'Blue - DEC', 'R_Light Heavyweight_rank', 'R_total_rounds_fought', 'R_match_weightclass_rank', 'gender', 'B_Stance', 'location', 'loss_dif', 'R_avg_TD_pct', \"R_Women's Strawweight_rank\", 'B_win_by_KO/TKO', 'sig_str_dif', 'age_dif', 'R_draw', 'win_streak_dif', 'R_Reach_cms', \"R_Women's Featherweight_rank\", 'R_win_by_TKO_Doctor_Stoppage', 'B_ev', 'sub_dif', 'R_Welterweight_rank', 'B_avg_TD_landed', 'reach_dif']\n",
      "0\n",
      "\n"
     ]
    },
    {
     "data": {
      "text/plain": [
       "(2762, 165)"
      ]
     },
     "metadata": {},
     "output_type": "display_data"
    },
    {
     "data": {
      "text/plain": [
       "(2762,)"
      ]
     },
     "metadata": {},
     "output_type": "display_data"
    },
    {
     "data": {
      "text/plain": [
       "(2762, 6)"
      ]
     },
     "metadata": {},
     "output_type": "display_data"
    },
    {
     "data": {
      "text/plain": [
       "(240, 165)"
      ]
     },
     "metadata": {},
     "output_type": "display_data"
    },
    {
     "data": {
      "text/plain": [
       "(240,)"
      ]
     },
     "metadata": {},
     "output_type": "display_data"
    },
    {
     "data": {
      "text/plain": [
       "(240, 6)"
      ]
     },
     "metadata": {},
     "output_type": "display_data"
    },
    {
     "name": "stdout",
     "output_type": "stream",
     "text": [
      "250     5\n",
      "251     3\n",
      "252     3\n",
      "253     5\n",
      "254     0\n",
      "       ..\n",
      "4217    0\n",
      "4225    1\n",
      "4226    3\n",
      "4227    5\n",
      "4228    5\n",
      "Name: label, Length: 2762, dtype: int64\n",
      "Real Score: -5140.644210861601\n",
      "HI\n",
      "HI\n",
      "HI\n",
      "HI\n",
      "HI\n",
      "\n",
      "model_9\n",
      "SGDClassifier(alpha=9e-05, loss='log', penalty='l1', random_state=75)\n",
      "['R_odds', 'R_total_title_bouts', 'R_Stance', 'Blue - DEC', 'R_Light Heavyweight_rank', 'R_total_rounds_fought', 'R_match_weightclass_rank', 'gender', 'B_Stance', 'location', 'loss_dif', 'R_avg_TD_pct', \"R_Women's Strawweight_rank\", 'B_win_by_KO/TKO', 'sig_str_dif', 'age_dif', 'R_draw', 'win_streak_dif', 'R_Reach_cms', \"R_Women's Featherweight_rank\", 'R_win_by_TKO_Doctor_Stoppage', 'B_ev', 'sub_dif', 'R_Welterweight_rank', 'B_avg_TD_landed', 'reach_dif']\n",
      "0\n",
      "\n"
     ]
    },
    {
     "data": {
      "text/plain": [
       "(2762, 165)"
      ]
     },
     "metadata": {},
     "output_type": "display_data"
    },
    {
     "data": {
      "text/plain": [
       "(2762,)"
      ]
     },
     "metadata": {},
     "output_type": "display_data"
    },
    {
     "data": {
      "text/plain": [
       "(2762, 6)"
      ]
     },
     "metadata": {},
     "output_type": "display_data"
    },
    {
     "data": {
      "text/plain": [
       "(240, 165)"
      ]
     },
     "metadata": {},
     "output_type": "display_data"
    },
    {
     "data": {
      "text/plain": [
       "(240,)"
      ]
     },
     "metadata": {},
     "output_type": "display_data"
    },
    {
     "data": {
      "text/plain": [
       "(240, 6)"
      ]
     },
     "metadata": {},
     "output_type": "display_data"
    },
    {
     "name": "stdout",
     "output_type": "stream",
     "text": [
      "250     5\n",
      "251     3\n",
      "252     3\n",
      "253     5\n",
      "254     0\n",
      "       ..\n",
      "4217    0\n",
      "4225    1\n",
      "4226    3\n",
      "4227    5\n",
      "4228    5\n",
      "Name: label, Length: 2762, dtype: int64\n",
      "Real Score: -5140.644210861601\n",
      "HI\n",
      "HI\n",
      "HI\n",
      "HI\n",
      "HI\n",
      "The original score is -33089.866088530514\n",
      "\n",
      "model_9\n",
      "SGDClassifier(alpha=9e-05, loss='log', penalty='l1', random_state=75)\n",
      "['R_odds', 'R_total_title_bouts', 'R_Stance', 'Blue - DEC', 'R_Light Heavyweight_rank', 'R_total_rounds_fought', 'R_match_weightclass_rank', 'gender', 'B_Stance', 'location', 'loss_dif', 'R_avg_TD_pct', \"R_Women's Strawweight_rank\", 'B_win_by_KO/TKO', 'sig_str_dif', 'age_dif', 'R_draw', 'win_streak_dif', 'R_Reach_cms', \"R_Women's Featherweight_rank\", 'R_win_by_TKO_Doctor_Stoppage', 'B_ev', 'sub_dif', 'R_Welterweight_rank', 'B_avg_TD_landed', 'reach_dif']\n",
      "0\n",
      "\n"
     ]
    },
    {
     "data": {
      "text/plain": [
       "(2762, 165)"
      ]
     },
     "metadata": {},
     "output_type": "display_data"
    },
    {
     "data": {
      "text/plain": [
       "(2762,)"
      ]
     },
     "metadata": {},
     "output_type": "display_data"
    },
    {
     "data": {
      "text/plain": [
       "(2762, 6)"
      ]
     },
     "metadata": {},
     "output_type": "display_data"
    },
    {
     "data": {
      "text/plain": [
       "(240, 165)"
      ]
     },
     "metadata": {},
     "output_type": "display_data"
    },
    {
     "data": {
      "text/plain": [
       "(240,)"
      ]
     },
     "metadata": {},
     "output_type": "display_data"
    },
    {
     "data": {
      "text/plain": [
       "(240, 6)"
      ]
     },
     "metadata": {},
     "output_type": "display_data"
    },
    {
     "name": "stdout",
     "output_type": "stream",
     "text": [
      "250     5\n",
      "251     3\n",
      "252     3\n",
      "253     5\n",
      "254     0\n",
      "       ..\n",
      "4217    0\n",
      "4225    1\n",
      "4226    3\n",
      "4227    5\n",
      "4228    5\n",
      "Name: label, Length: 2762, dtype: int64\n",
      "Real Score: -5140.644210861601\n",
      "HI\n",
      "HI\n",
      "HI\n",
      "HI\n",
      "HI\n",
      "\n",
      "\n",
      "OPTIMIZING MODEL 10\n",
      "\n",
      "\n",
      "model_10\n",
      "AdaBoostClassifier(random_state=75)\n",
      "['B_current_win_streak', 'B_total_title_bouts', 'B_win_by_Submission', \"B_Women's Bantamweight_rank\", 'empty_arena', 'R_Featherweight_rank', 'R_longest_win_streak', 'no_of_rounds', 'title_bout', 'B_current_lose_streak', 'R_avg_SIG_STR_landed', \"R_Women's Strawweight_rank\", 'B_win_by_Decision_Unanimous', 'R_win_by_Decision_Unanimous', 'Blue - SUB', \"R_Women's Featherweight_rank\", 'B_Lightweight_rank', 'total_title_bout_dif', 'Blue - DEC', 'B_draw', 'B_avg_SIG_STR_pct', 'age_dif', 'avg_sub_att_dif', 'avg_td_dif', 'B_avg_SUB_ATT', \"R_Women's Flyweight_rank\", 'R_Pound-for-Pound_rank', 'R_Reach_cms', 'B_ev', 'R_Weight_lbs', 'sub_dif']\n",
      "0\n",
      "Current best score is: -284248.0\n",
      "Feature: R_odds Score: -282718.0\n",
      "Feature: R_ev Score: -282618.0\n",
      "Feature: location Score: -281640.0\n",
      "Feature: R_losses Score: -280724.0\n",
      "The best feature was R_losses.  It scored -280724.0\n",
      "Current best score is: -280724.0\n",
      "Feature: longest_win_streak_dif Score: -280484.0\n",
      "The best feature was longest_win_streak_dif.  It scored -280484.0\n",
      "Current best score is: -280484.0\n",
      "Feature: B_Flyweight_rank Score: -280409.0\n",
      "Feature: better_rank Score: -279984.0\n",
      "The best feature was better_rank.  It scored -279984.0\n",
      "Current best score is: -279984.0\n",
      "NO IMPROVEMENT\n",
      "FINAL BEST SCORE: -279984.0\n",
      "\n",
      "model_10\n",
      "AdaBoostClassifier(random_state=75)\n",
      "['better_rank', 'longest_win_streak_dif', 'R_losses', 'B_current_win_streak', 'B_total_title_bouts', 'B_win_by_Submission', \"B_Women's Bantamweight_rank\", 'empty_arena', 'R_Featherweight_rank', 'R_longest_win_streak', 'no_of_rounds', 'title_bout', 'B_current_lose_streak', 'R_avg_SIG_STR_landed', \"R_Women's Strawweight_rank\", 'B_win_by_Decision_Unanimous', 'R_win_by_Decision_Unanimous', 'Blue - SUB', \"R_Women's Featherweight_rank\", 'B_Lightweight_rank', 'total_title_bout_dif', 'Blue - DEC', 'B_draw', 'B_avg_SIG_STR_pct', 'age_dif', 'avg_sub_att_dif', 'avg_td_dif', 'B_avg_SUB_ATT', \"R_Women's Flyweight_rank\", 'R_Pound-for-Pound_rank', 'R_Reach_cms', 'B_ev', 'R_Weight_lbs', 'sub_dif']\n",
      "0\n",
      "\n"
     ]
    },
    {
     "data": {
      "text/plain": [
       "(2686, 36)"
      ]
     },
     "metadata": {},
     "output_type": "display_data"
    },
    {
     "data": {
      "text/plain": [
       "(2686,)"
      ]
     },
     "metadata": {},
     "output_type": "display_data"
    },
    {
     "data": {
      "text/plain": [
       "(2686, 6)"
      ]
     },
     "metadata": {},
     "output_type": "display_data"
    },
    {
     "data": {
      "text/plain": [
       "(242, 36)"
      ]
     },
     "metadata": {},
     "output_type": "display_data"
    },
    {
     "data": {
      "text/plain": [
       "(242,)"
      ]
     },
     "metadata": {},
     "output_type": "display_data"
    },
    {
     "data": {
      "text/plain": [
       "(242, 6)"
      ]
     },
     "metadata": {},
     "output_type": "display_data"
    },
    {
     "name": "stdout",
     "output_type": "stream",
     "text": [
      "250     5\n",
      "251     3\n",
      "252     3\n",
      "253     5\n",
      "254     0\n",
      "       ..\n",
      "4217    0\n",
      "4225    1\n",
      "4226    3\n",
      "4227    5\n",
      "4228    5\n",
      "Name: label, Length: 2686, dtype: int64\n",
      "Real Score: -24900.0\n",
      "HI\n",
      "HI\n",
      "HI\n",
      "HI\n",
      "HI\n",
      "Real output model: AdaBoostClassifier(random_state=75)\n",
      "\n",
      "model_10\n",
      "AdaBoostClassifier(random_state=75)\n",
      "['better_rank', 'longest_win_streak_dif', 'R_losses', 'B_current_win_streak', 'B_total_title_bouts', 'B_win_by_Submission', \"B_Women's Bantamweight_rank\", 'empty_arena', 'R_Featherweight_rank', 'R_longest_win_streak', 'no_of_rounds', 'title_bout', 'B_current_lose_streak', 'R_avg_SIG_STR_landed', \"R_Women's Strawweight_rank\", 'B_win_by_Decision_Unanimous', 'R_win_by_Decision_Unanimous', 'Blue - SUB', \"R_Women's Featherweight_rank\", 'B_Lightweight_rank', 'total_title_bout_dif', 'Blue - DEC', 'B_draw', 'B_avg_SIG_STR_pct', 'age_dif', 'avg_sub_att_dif', 'avg_td_dif', 'B_avg_SUB_ATT', \"R_Women's Flyweight_rank\", 'R_Pound-for-Pound_rank', 'R_Reach_cms', 'B_ev', 'R_Weight_lbs', 'sub_dif']\n",
      "0\n",
      "\n"
     ]
    },
    {
     "data": {
      "text/plain": [
       "(2686, 36)"
      ]
     },
     "metadata": {},
     "output_type": "display_data"
    },
    {
     "data": {
      "text/plain": [
       "(2686,)"
      ]
     },
     "metadata": {},
     "output_type": "display_data"
    },
    {
     "data": {
      "text/plain": [
       "(2686, 6)"
      ]
     },
     "metadata": {},
     "output_type": "display_data"
    },
    {
     "data": {
      "text/plain": [
       "(242, 36)"
      ]
     },
     "metadata": {},
     "output_type": "display_data"
    },
    {
     "data": {
      "text/plain": [
       "(242,)"
      ]
     },
     "metadata": {},
     "output_type": "display_data"
    },
    {
     "data": {
      "text/plain": [
       "(242, 6)"
      ]
     },
     "metadata": {},
     "output_type": "display_data"
    },
    {
     "name": "stdout",
     "output_type": "stream",
     "text": [
      "250     5\n",
      "251     3\n",
      "252     3\n",
      "253     5\n",
      "254     0\n",
      "       ..\n",
      "4217    0\n",
      "4225    1\n",
      "4226    3\n",
      "4227    5\n",
      "4228    5\n",
      "Name: label, Length: 2686, dtype: int64\n",
      "Real Score: -24900.0\n",
      "HI\n",
      "HI\n",
      "HI\n",
      "HI\n",
      "HI\n",
      "\n",
      "model_10\n",
      "AdaBoostClassifier(random_state=75)\n",
      "['better_rank', 'longest_win_streak_dif', 'R_losses', 'B_current_win_streak', 'B_total_title_bouts', 'B_win_by_Submission', \"B_Women's Bantamweight_rank\", 'empty_arena', 'R_Featherweight_rank', 'R_longest_win_streak', 'no_of_rounds', 'title_bout', 'B_current_lose_streak', 'R_avg_SIG_STR_landed', \"R_Women's Strawweight_rank\", 'B_win_by_Decision_Unanimous', 'R_win_by_Decision_Unanimous', 'Blue - SUB', \"R_Women's Featherweight_rank\", 'B_Lightweight_rank', 'total_title_bout_dif', 'Blue - DEC', 'B_draw', 'B_avg_SIG_STR_pct', 'age_dif', 'avg_sub_att_dif', 'avg_td_dif', 'B_avg_SUB_ATT', \"R_Women's Flyweight_rank\", 'R_Pound-for-Pound_rank', 'R_Reach_cms', 'B_ev', 'R_Weight_lbs', 'sub_dif']\n",
      "0\n",
      "\n"
     ]
    },
    {
     "data": {
      "text/plain": [
       "(2686, 36)"
      ]
     },
     "metadata": {},
     "output_type": "display_data"
    },
    {
     "data": {
      "text/plain": [
       "(2686,)"
      ]
     },
     "metadata": {},
     "output_type": "display_data"
    },
    {
     "data": {
      "text/plain": [
       "(2686, 6)"
      ]
     },
     "metadata": {},
     "output_type": "display_data"
    },
    {
     "data": {
      "text/plain": [
       "(242, 36)"
      ]
     },
     "metadata": {},
     "output_type": "display_data"
    },
    {
     "data": {
      "text/plain": [
       "(242,)"
      ]
     },
     "metadata": {},
     "output_type": "display_data"
    },
    {
     "data": {
      "text/plain": [
       "(242, 6)"
      ]
     },
     "metadata": {},
     "output_type": "display_data"
    },
    {
     "name": "stdout",
     "output_type": "stream",
     "text": [
      "250     5\n",
      "251     3\n",
      "252     3\n",
      "253     5\n",
      "254     0\n",
      "       ..\n",
      "4217    0\n",
      "4225    1\n",
      "4226    3\n",
      "4227    5\n",
      "4228    5\n",
      "Name: label, Length: 2686, dtype: int64\n",
      "Real Score: -24900.0\n",
      "HI\n",
      "HI\n",
      "HI\n",
      "HI\n",
      "HI\n",
      "The original score is -279984.0\n",
      "\n",
      "model_10\n",
      "AdaBoostClassifier(random_state=75)\n",
      "['better_rank', 'longest_win_streak_dif', 'R_losses', 'B_current_win_streak', 'B_total_title_bouts', 'B_win_by_Submission', \"B_Women's Bantamweight_rank\", 'empty_arena', 'R_Featherweight_rank', 'R_longest_win_streak', 'no_of_rounds', 'title_bout', 'B_current_lose_streak', 'R_avg_SIG_STR_landed', \"R_Women's Strawweight_rank\", 'B_win_by_Decision_Unanimous', 'R_win_by_Decision_Unanimous', 'Blue - SUB', \"R_Women's Featherweight_rank\", 'B_Lightweight_rank', 'total_title_bout_dif', 'Blue - DEC', 'B_draw', 'B_avg_SIG_STR_pct', 'age_dif', 'avg_sub_att_dif', 'avg_td_dif', 'B_avg_SUB_ATT', \"R_Women's Flyweight_rank\", 'R_Pound-for-Pound_rank', 'R_Reach_cms', 'B_ev', 'R_Weight_lbs', 'sub_dif']\n",
      "0\n",
      "\n"
     ]
    },
    {
     "data": {
      "text/plain": [
       "(2686, 36)"
      ]
     },
     "metadata": {},
     "output_type": "display_data"
    },
    {
     "data": {
      "text/plain": [
       "(2686,)"
      ]
     },
     "metadata": {},
     "output_type": "display_data"
    },
    {
     "data": {
      "text/plain": [
       "(2686, 6)"
      ]
     },
     "metadata": {},
     "output_type": "display_data"
    },
    {
     "data": {
      "text/plain": [
       "(242, 36)"
      ]
     },
     "metadata": {},
     "output_type": "display_data"
    },
    {
     "data": {
      "text/plain": [
       "(242,)"
      ]
     },
     "metadata": {},
     "output_type": "display_data"
    },
    {
     "data": {
      "text/plain": [
       "(242, 6)"
      ]
     },
     "metadata": {},
     "output_type": "display_data"
    },
    {
     "name": "stdout",
     "output_type": "stream",
     "text": [
      "250     5\n",
      "251     3\n",
      "252     3\n",
      "253     5\n",
      "254     0\n",
      "       ..\n",
      "4217    0\n",
      "4225    1\n",
      "4226    3\n",
      "4227    5\n",
      "4228    5\n",
      "Name: label, Length: 2686, dtype: int64\n",
      "Real Score: -24900.0\n",
      "HI\n",
      "HI\n",
      "HI\n",
      "HI\n",
      "HI\n",
      "\n",
      "\n",
      "OPTIMIZING MODEL 11\n",
      "\n",
      "\n",
      "model_11\n",
      "BaggingClassifier(base_estimator=LogisticRegression(random_state=75),\n",
      "                  bootstrap=False, n_estimators=1, random_state=75)\n",
      "[\"B_Women's Flyweight_rank\", 'B_wins', 'height_dif', 'Blue - SUB', 'R_win_by_Decision_Split', 'Red - KO/TKO', 'B_current_win_streak', \"B_Women's Strawweight_rank\", 'reach_dif', 'R_win_by_KO/TKO', 'B_Reach_cms', 'R_avg_SUB_ATT', \"R_Women's Featherweight_rank\", 'B_Lightweight_rank', 'R_Featherweight_rank', 'R_Light Heavyweight_rank', 'total_title_bout_dif', 'R_losses', 'Blue - DEC', 'B_draw', 'R_Middleweight_rank', 'B_avg_SIG_STR_pct', 'age_dif', 'avg_sub_att_dif', 'avg_td_dif', \"R_Women's Flyweight_rank\", 'R_Reach_cms', 'R_wins', 'R_Weight_lbs', 'sub_dif', 'R_ev', 'B_avg_TD_landed']\n",
      "0\n",
      "Current best score is: -14974.80309510663\n",
      "Feature: B_ev Score: -11301.25256676245\n",
      "Feature: no_of_rounds Score: -10674.052637231172\n",
      "Feature: B_avg_SIG_STR_landed Score: -247.74864805157267\n",
      "The best feature was B_avg_SIG_STR_landed.  It scored -247.74864805157267\n",
      "Current best score is: -247.74864805157267\n",
      "Feature: no_of_rounds Score: 441.4462052857043\n",
      "Feature: B_Weight_lbs Score: 700.2513519484271\n",
      "Feature: R_Height_cms Score: 1780.6977805198594\n",
      "Feature: R_Bantamweight_rank Score: 2092.0055762187794\n",
      "The best feature was R_Bantamweight_rank.  It scored 2092.0055762187794\n",
      "Current best score is: 2092.0055762187794\n",
      "Feature: B_avg_SUB_ATT Score: 2257.0055762187794\n",
      "Feature: total_round_dif Score: 2722.0015244812084\n",
      "Feature: R_Pound-for-Pound_rank Score: 3343.0608757579466\n",
      "The best feature was R_Pound-for-Pound_rank.  It scored 3343.0608757579466\n",
      "Current best score is: 3343.0608757579466\n",
      "Feature: R_avg_TD_landed Score: 3443.0608757579475\n",
      "Feature: B_Heavyweight_rank Score: 4017.630417327491\n",
      "Feature: B_Flyweight_rank Score: 5515.334380031454\n",
      "The best feature was B_Flyweight_rank.  It scored 5515.334380031454\n",
      "Current best score is: 5515.334380031454\n",
      "Feature: R_avg_TD_landed Score: 5785.334380031454\n",
      "The best feature was R_avg_TD_landed.  It scored 5785.334380031454\n",
      "Current best score is: 5785.334380031454\n",
      "NO IMPROVEMENT\n",
      "FINAL BEST SCORE: 5785.334380031454\n",
      "\n",
      "model_11\n",
      "BaggingClassifier(base_estimator=LogisticRegression(random_state=75),\n",
      "                  bootstrap=False, n_estimators=1, random_state=75)\n",
      "['R_avg_TD_landed', 'B_Flyweight_rank', 'R_Pound-for-Pound_rank', 'R_Bantamweight_rank', 'B_avg_SIG_STR_landed', \"B_Women's Flyweight_rank\", 'B_wins', 'height_dif', 'Blue - SUB', 'R_win_by_Decision_Split', 'Red - KO/TKO', 'B_current_win_streak', \"B_Women's Strawweight_rank\", 'reach_dif', 'R_win_by_KO/TKO', 'B_Reach_cms', 'R_avg_SUB_ATT', \"R_Women's Featherweight_rank\", 'B_Lightweight_rank', 'R_Featherweight_rank', 'R_Light Heavyweight_rank', 'total_title_bout_dif', 'R_losses', 'Blue - DEC', 'B_draw', 'R_Middleweight_rank', 'B_avg_SIG_STR_pct', 'age_dif', 'avg_sub_att_dif', 'avg_td_dif', \"R_Women's Flyweight_rank\", 'R_Reach_cms', 'R_wins', 'R_Weight_lbs', 'sub_dif', 'R_ev', 'B_avg_TD_landed']\n",
      "0\n",
      "\n"
     ]
    },
    {
     "data": {
      "text/plain": [
       "(2686, 37)"
      ]
     },
     "metadata": {},
     "output_type": "display_data"
    },
    {
     "data": {
      "text/plain": [
       "(2686,)"
      ]
     },
     "metadata": {},
     "output_type": "display_data"
    },
    {
     "data": {
      "text/plain": [
       "(2686, 6)"
      ]
     },
     "metadata": {},
     "output_type": "display_data"
    },
    {
     "data": {
      "text/plain": [
       "(242, 37)"
      ]
     },
     "metadata": {},
     "output_type": "display_data"
    },
    {
     "data": {
      "text/plain": [
       "(242,)"
      ]
     },
     "metadata": {},
     "output_type": "display_data"
    },
    {
     "data": {
      "text/plain": [
       "(242, 6)"
      ]
     },
     "metadata": {},
     "output_type": "display_data"
    },
    {
     "name": "stdout",
     "output_type": "stream",
     "text": [
      "250     5\n",
      "251     3\n",
      "252     3\n",
      "253     5\n",
      "254     0\n",
      "       ..\n",
      "4217    0\n",
      "4225    1\n",
      "4226    3\n",
      "4227    5\n",
      "4228    5\n",
      "Name: label, Length: 2686, dtype: int64\n",
      "Real Score: -2570.796387520525\n",
      "HI\n",
      "HI\n",
      "HI\n",
      "HI\n",
      "HI\n",
      "\n",
      "\n",
      "Starting New Run for BaggingClassifier\n",
      "\n",
      "\n",
      "Previous Best Score: 5785.334380031454\n",
      "base_estimator:  GaussianNB() bootstrap:  True n_estimators:  1 Score:  -92547.24651311355\n",
      "base_estimator:  GaussianNB() bootstrap:  True n_estimators:  4 Score:  -223891.61202895857\n",
      "base_estimator:  GaussianNB() bootstrap:  False n_estimators:  1 Score:  -105182.42006692901\n",
      "base_estimator:  GaussianNB() bootstrap:  False n_estimators:  4 Score:  -105182.42006692901\n",
      "base_estimator:  DecisionTreeClassifier(random_state=75) bootstrap:  True n_estimators:  1 Score:  -44469.346714031606\n",
      "base_estimator:  DecisionTreeClassifier(random_state=75) bootstrap:  True n_estimators:  4 Score:  -111770.36661247996\n",
      "base_estimator:  DecisionTreeClassifier(random_state=75) bootstrap:  False n_estimators:  1 Score:  -24153.052706900882\n",
      "base_estimator:  DecisionTreeClassifier(random_state=75) bootstrap:  False n_estimators:  4 Score:  -62138.488345588325\n",
      "base_estimator:  LogisticRegression(random_state=75) bootstrap:  True n_estimators:  1 Score:  -37829.95078964422\n",
      "base_estimator:  LogisticRegression(random_state=75) bootstrap:  True n_estimators:  4 Score:  -19208.880516183443\n",
      "base_estimator:  LogisticRegression(random_state=75) bootstrap:  False n_estimators:  1 Score:  5785.334380031454\n",
      "base_estimator:  LogisticRegression(random_state=75) bootstrap:  False n_estimators:  4 Score:  5785.334380031454\n",
      "Real output model: BaggingClassifier(base_estimator=LogisticRegression(random_state=75),\n",
      "                  bootstrap=False, n_estimators=1, random_state=75)\n",
      "\n",
      "model_11\n",
      "BaggingClassifier(base_estimator=LogisticRegression(random_state=75),\n",
      "                  bootstrap=False, n_estimators=1, random_state=75)\n",
      "['R_avg_TD_landed', 'B_Flyweight_rank', 'R_Pound-for-Pound_rank', 'R_Bantamweight_rank', 'B_avg_SIG_STR_landed', \"B_Women's Flyweight_rank\", 'B_wins', 'height_dif', 'Blue - SUB', 'R_win_by_Decision_Split', 'Red - KO/TKO', 'B_current_win_streak', \"B_Women's Strawweight_rank\", 'reach_dif', 'R_win_by_KO/TKO', 'B_Reach_cms', 'R_avg_SUB_ATT', \"R_Women's Featherweight_rank\", 'B_Lightweight_rank', 'R_Featherweight_rank', 'R_Light Heavyweight_rank', 'total_title_bout_dif', 'R_losses', 'Blue - DEC', 'B_draw', 'R_Middleweight_rank', 'B_avg_SIG_STR_pct', 'age_dif', 'avg_sub_att_dif', 'avg_td_dif', \"R_Women's Flyweight_rank\", 'R_Reach_cms', 'R_wins', 'R_Weight_lbs', 'sub_dif', 'R_ev', 'B_avg_TD_landed']\n",
      "0\n",
      "\n"
     ]
    },
    {
     "data": {
      "text/plain": [
       "(2686, 37)"
      ]
     },
     "metadata": {},
     "output_type": "display_data"
    },
    {
     "data": {
      "text/plain": [
       "(2686,)"
      ]
     },
     "metadata": {},
     "output_type": "display_data"
    },
    {
     "data": {
      "text/plain": [
       "(2686, 6)"
      ]
     },
     "metadata": {},
     "output_type": "display_data"
    },
    {
     "data": {
      "text/plain": [
       "(242, 37)"
      ]
     },
     "metadata": {},
     "output_type": "display_data"
    },
    {
     "data": {
      "text/plain": [
       "(242,)"
      ]
     },
     "metadata": {},
     "output_type": "display_data"
    },
    {
     "data": {
      "text/plain": [
       "(242, 6)"
      ]
     },
     "metadata": {},
     "output_type": "display_data"
    },
    {
     "name": "stdout",
     "output_type": "stream",
     "text": [
      "250     5\n",
      "251     3\n",
      "252     3\n",
      "253     5\n",
      "254     0\n",
      "       ..\n",
      "4217    0\n",
      "4225    1\n",
      "4226    3\n",
      "4227    5\n",
      "4228    5\n",
      "Name: label, Length: 2686, dtype: int64\n",
      "Real Score: -2570.796387520525\n",
      "HI\n",
      "HI\n",
      "HI\n",
      "HI\n",
      "HI\n",
      "\n",
      "model_11\n",
      "BaggingClassifier(base_estimator=LogisticRegression(random_state=75),\n",
      "                  bootstrap=False, n_estimators=1, random_state=75)\n",
      "['R_avg_TD_landed', 'B_Flyweight_rank', 'R_Pound-for-Pound_rank', 'R_Bantamweight_rank', 'B_avg_SIG_STR_landed', \"B_Women's Flyweight_rank\", 'B_wins', 'height_dif', 'Blue - SUB', 'R_win_by_Decision_Split', 'Red - KO/TKO', 'B_current_win_streak', \"B_Women's Strawweight_rank\", 'reach_dif', 'R_win_by_KO/TKO', 'B_Reach_cms', 'R_avg_SUB_ATT', \"R_Women's Featherweight_rank\", 'B_Lightweight_rank', 'R_Featherweight_rank', 'R_Light Heavyweight_rank', 'total_title_bout_dif', 'R_losses', 'Blue - DEC', 'B_draw', 'R_Middleweight_rank', 'B_avg_SIG_STR_pct', 'age_dif', 'avg_sub_att_dif', 'avg_td_dif', \"R_Women's Flyweight_rank\", 'R_Reach_cms', 'R_wins', 'R_Weight_lbs', 'sub_dif', 'R_ev', 'B_avg_TD_landed']\n",
      "0\n",
      "\n"
     ]
    },
    {
     "data": {
      "text/plain": [
       "(2686, 37)"
      ]
     },
     "metadata": {},
     "output_type": "display_data"
    },
    {
     "data": {
      "text/plain": [
       "(2686,)"
      ]
     },
     "metadata": {},
     "output_type": "display_data"
    },
    {
     "data": {
      "text/plain": [
       "(2686, 6)"
      ]
     },
     "metadata": {},
     "output_type": "display_data"
    },
    {
     "data": {
      "text/plain": [
       "(242, 37)"
      ]
     },
     "metadata": {},
     "output_type": "display_data"
    },
    {
     "data": {
      "text/plain": [
       "(242,)"
      ]
     },
     "metadata": {},
     "output_type": "display_data"
    },
    {
     "data": {
      "text/plain": [
       "(242, 6)"
      ]
     },
     "metadata": {},
     "output_type": "display_data"
    },
    {
     "name": "stdout",
     "output_type": "stream",
     "text": [
      "250     5\n",
      "251     3\n",
      "252     3\n",
      "253     5\n",
      "254     0\n",
      "       ..\n",
      "4217    0\n",
      "4225    1\n",
      "4226    3\n",
      "4227    5\n",
      "4228    5\n",
      "Name: label, Length: 2686, dtype: int64\n",
      "Real Score: -2570.796387520525\n",
      "HI\n",
      "HI\n",
      "HI\n",
      "HI\n",
      "HI\n",
      "The original score is 5785.334380031454\n",
      "NEW BEST FEATURE SET WITH: date REMOVED 6252.696662909867\n",
      "NEW BEST FEATURE SET WITH: B_current_lose_streak REMOVED 6363.425289122362\n",
      "The original score is 6363.425289122362\n",
      "NEW BEST FEATURE SET WITH: B_fighter REMOVED 10387.883810992651\n",
      "The original score is 10387.883810992651\n",
      "NEW BEST FEATURE SET WITH: B_ev REMOVED 11032.707340404415\n",
      "NEW BEST FEATURE SET WITH: B_current_win_streak REMOVED 11389.707340404415\n",
      "NEW BEST FEATURE SET WITH: B_win_by_Decision_Unanimous REMOVED 11620.707340404417\n",
      "The original score is 11620.707340404417\n",
      "NEW BEST FEATURE SET WITH: B_ev REMOVED 12366.223469436674\n",
      "NEW BEST FEATURE SET WITH: B_current_win_streak REMOVED 13270.13591183299\n",
      "The original score is 13270.13591183299\n",
      "NEW BEST FEATURE SET WITH: B_ev REMOVED 13948.14654635975\n",
      "The original score is 13948.14654635975\n",
      "NEW BEST FEATURE SET WITH: R_fighter REMOVED 13971.223469436674\n",
      "NEW BEST FEATURE SET WITH: B_longest_win_streak REMOVED 16379.041870406523\n",
      "The original score is 16379.041870406523\n",
      "NEW BEST FEATURE SET WITH: R_fighter REMOVED 16659.041870406523\n",
      "The original score is 16659.041870406523\n",
      "\n",
      "model_11\n",
      "BaggingClassifier(base_estimator=LogisticRegression(random_state=75),\n",
      "                  bootstrap=False, n_estimators=1, random_state=75)\n",
      "['R_Pound-for-Pound_rank', 'R_Bantamweight_rank', 'B_avg_SIG_STR_landed', \"B_Women's Flyweight_rank\", 'height_dif', 'Blue - SUB', 'R_win_by_Decision_Split', 'Red - KO/TKO', 'B_current_win_streak', \"B_Women's Strawweight_rank\", 'reach_dif', 'B_Reach_cms', 'R_avg_SUB_ATT', 'B_Lightweight_rank', 'R_Featherweight_rank', 'R_Light Heavyweight_rank', 'total_title_bout_dif', 'R_losses', 'Blue - DEC', 'B_draw', 'R_Middleweight_rank', 'age_dif', 'avg_sub_att_dif', 'avg_td_dif', 'R_Reach_cms', 'R_wins', 'R_Weight_lbs', 'sub_dif', 'R_ev', 'B_avg_TD_landed']\n",
      "0\n",
      "\n"
     ]
    },
    {
     "data": {
      "text/plain": [
       "(2686, 30)"
      ]
     },
     "metadata": {},
     "output_type": "display_data"
    },
    {
     "data": {
      "text/plain": [
       "(2686,)"
      ]
     },
     "metadata": {},
     "output_type": "display_data"
    },
    {
     "data": {
      "text/plain": [
       "(2686, 6)"
      ]
     },
     "metadata": {},
     "output_type": "display_data"
    },
    {
     "data": {
      "text/plain": [
       "(242, 30)"
      ]
     },
     "metadata": {},
     "output_type": "display_data"
    },
    {
     "data": {
      "text/plain": [
       "(242,)"
      ]
     },
     "metadata": {},
     "output_type": "display_data"
    },
    {
     "data": {
      "text/plain": [
       "(242, 6)"
      ]
     },
     "metadata": {},
     "output_type": "display_data"
    },
    {
     "name": "stdout",
     "output_type": "stream",
     "text": [
      "250     5\n",
      "251     3\n",
      "252     3\n",
      "253     5\n",
      "254     0\n",
      "       ..\n",
      "4217    0\n",
      "4225    1\n",
      "4226    3\n",
      "4227    5\n",
      "4228    5\n",
      "Name: label, Length: 2686, dtype: int64\n",
      "Real Score: -3331.0344827586205\n",
      "HI\n",
      "HI\n",
      "HI\n",
      "HI\n",
      "HI\n",
      "The features are different\n",
      "OLD:\n",
      "['R_avg_TD_landed', 'B_Flyweight_rank', 'R_Pound-for-Pound_rank', 'R_Bantamweight_rank', 'B_avg_SIG_STR_landed', \"B_Women's Flyweight_rank\", 'B_wins', 'height_dif', 'Blue - SUB', 'R_win_by_Decision_Split', 'Red - KO/TKO', 'B_current_win_streak', \"B_Women's Strawweight_rank\", 'reach_dif', 'R_win_by_KO/TKO', 'B_Reach_cms', 'R_avg_SUB_ATT', \"R_Women's Featherweight_rank\", 'B_Lightweight_rank', 'R_Featherweight_rank', 'R_Light Heavyweight_rank', 'total_title_bout_dif', 'R_losses', 'Blue - DEC', 'B_draw', 'R_Middleweight_rank', 'B_avg_SIG_STR_pct', 'age_dif', 'avg_sub_att_dif', 'avg_td_dif', \"R_Women's Flyweight_rank\", 'R_Reach_cms', 'R_wins', 'R_Weight_lbs', 'sub_dif', 'R_ev', 'B_avg_TD_landed']\n",
      "NEW:\n",
      "['R_Pound-for-Pound_rank', 'R_Bantamweight_rank', 'B_avg_SIG_STR_landed', \"B_Women's Flyweight_rank\", 'height_dif', 'Blue - SUB', 'R_win_by_Decision_Split', 'Red - KO/TKO', 'B_current_win_streak', \"B_Women's Strawweight_rank\", 'reach_dif', 'B_Reach_cms', 'R_avg_SUB_ATT', 'B_Lightweight_rank', 'R_Featherweight_rank', 'R_Light Heavyweight_rank', 'total_title_bout_dif', 'R_losses', 'Blue - DEC', 'B_draw', 'R_Middleweight_rank', 'age_dif', 'avg_sub_att_dif', 'avg_td_dif', 'R_Reach_cms', 'R_wins', 'R_Weight_lbs', 'sub_dif', 'R_ev', 'B_avg_TD_landed']\n",
      "Current best score is: 16659.041870406523\n",
      "Feature: B_current_lose_streak Score: 17157.92801162509\n",
      "Feature: R_Flyweight_rank Score: 20017.11355499434\n",
      "The best feature was R_Flyweight_rank.  It scored 20017.11355499434\n",
      "Current best score is: 20017.11355499434\n",
      "Feature: B_avg_SUB_ATT Score: 20334.11355499434\n",
      "Feature: B_Middleweight_rank Score: 20748.25308987806\n",
      "The best feature was B_Middleweight_rank.  It scored 20748.25308987806\n",
      "Current best score is: 20748.25308987806\n",
      "Feature: B_avg_SUB_ATT Score: 20848.25308987806\n",
      "The best feature was B_avg_SUB_ATT.  It scored 20848.25308987806\n",
      "Current best score is: 20848.25308987806\n",
      "NO IMPROVEMENT\n",
      "FINAL BEST SCORE: 20848.25308987806\n",
      "\n",
      "model_11\n",
      "BaggingClassifier(base_estimator=LogisticRegression(random_state=75),\n",
      "                  bootstrap=False, n_estimators=1, random_state=75)\n",
      "['B_avg_SUB_ATT', 'B_Middleweight_rank', 'R_Flyweight_rank', 'R_Pound-for-Pound_rank', 'R_Bantamweight_rank', 'B_avg_SIG_STR_landed', \"B_Women's Flyweight_rank\", 'height_dif', 'Blue - SUB', 'R_win_by_Decision_Split', 'Red - KO/TKO', 'B_current_win_streak', \"B_Women's Strawweight_rank\", 'reach_dif', 'B_Reach_cms', 'R_avg_SUB_ATT', 'B_Lightweight_rank', 'R_Featherweight_rank', 'R_Light Heavyweight_rank', 'total_title_bout_dif', 'R_losses', 'Blue - DEC', 'B_draw', 'R_Middleweight_rank', 'age_dif', 'avg_sub_att_dif', 'avg_td_dif', 'R_Reach_cms', 'R_wins', 'R_Weight_lbs', 'sub_dif', 'R_ev', 'B_avg_TD_landed']\n",
      "0\n",
      "\n"
     ]
    },
    {
     "data": {
      "text/plain": [
       "(2686, 33)"
      ]
     },
     "metadata": {},
     "output_type": "display_data"
    },
    {
     "data": {
      "text/plain": [
       "(2686,)"
      ]
     },
     "metadata": {},
     "output_type": "display_data"
    },
    {
     "data": {
      "text/plain": [
       "(2686, 6)"
      ]
     },
     "metadata": {},
     "output_type": "display_data"
    },
    {
     "data": {
      "text/plain": [
       "(242, 33)"
      ]
     },
     "metadata": {},
     "output_type": "display_data"
    },
    {
     "data": {
      "text/plain": [
       "(242,)"
      ]
     },
     "metadata": {},
     "output_type": "display_data"
    },
    {
     "data": {
      "text/plain": [
       "(242, 6)"
      ]
     },
     "metadata": {},
     "output_type": "display_data"
    },
    {
     "name": "stdout",
     "output_type": "stream",
     "text": [
      "250     5\n",
      "251     3\n",
      "252     3\n",
      "253     5\n",
      "254     0\n",
      "       ..\n",
      "4217    0\n",
      "4225    1\n",
      "4226    3\n",
      "4227    5\n",
      "4228    5\n",
      "Name: label, Length: 2686, dtype: int64\n",
      "Real Score: -3541.0344827586205\n",
      "HI\n",
      "HI\n",
      "HI\n",
      "HI\n",
      "HI\n",
      "\n",
      "\n",
      "Starting New Run for BaggingClassifier\n",
      "\n",
      "\n",
      "Previous Best Score: 20848.25308987806\n",
      "base_estimator:  GaussianNB() bootstrap:  True n_estimators:  1 Score:  -108556.61511696373\n",
      "base_estimator:  GaussianNB() bootstrap:  True n_estimators:  4 Score:  -189623.19012499478\n",
      "base_estimator:  GaussianNB() bootstrap:  False n_estimators:  1 Score:  -102320.69833051815\n",
      "base_estimator:  GaussianNB() bootstrap:  False n_estimators:  4 Score:  -102320.69833051815\n",
      "base_estimator:  DecisionTreeClassifier(random_state=75) bootstrap:  True n_estimators:  1 Score:  -35265.297717973284\n",
      "base_estimator:  DecisionTreeClassifier(random_state=75) bootstrap:  True n_estimators:  4 Score:  -98000.87973046207\n",
      "base_estimator:  DecisionTreeClassifier(random_state=75) bootstrap:  False n_estimators:  1 Score:  -43448.28646257945\n",
      "base_estimator:  DecisionTreeClassifier(random_state=75) bootstrap:  False n_estimators:  4 Score:  -60154.44086416946\n",
      "base_estimator:  LogisticRegression(random_state=75) bootstrap:  True n_estimators:  1 Score:  -30263.61535515357\n",
      "base_estimator:  LogisticRegression(random_state=75) bootstrap:  True n_estimators:  4 Score:  -15784.543753041053\n",
      "base_estimator:  LogisticRegression(random_state=75) bootstrap:  False n_estimators:  1 Score:  20848.25308987806\n",
      "base_estimator:  LogisticRegression(random_state=75) bootstrap:  False n_estimators:  4 Score:  20848.25308987806\n",
      "Real output model: BaggingClassifier(base_estimator=LogisticRegression(random_state=75),\n",
      "                  bootstrap=False, n_estimators=1, random_state=75)\n",
      "\n",
      "model_11\n",
      "BaggingClassifier(base_estimator=LogisticRegression(random_state=75),\n",
      "                  bootstrap=False, n_estimators=1, random_state=75)\n",
      "['B_avg_SUB_ATT', 'B_Middleweight_rank', 'R_Flyweight_rank', 'R_Pound-for-Pound_rank', 'R_Bantamweight_rank', 'B_avg_SIG_STR_landed', \"B_Women's Flyweight_rank\", 'height_dif', 'Blue - SUB', 'R_win_by_Decision_Split', 'Red - KO/TKO', 'B_current_win_streak', \"B_Women's Strawweight_rank\", 'reach_dif', 'B_Reach_cms', 'R_avg_SUB_ATT', 'B_Lightweight_rank', 'R_Featherweight_rank', 'R_Light Heavyweight_rank', 'total_title_bout_dif', 'R_losses', 'Blue - DEC', 'B_draw', 'R_Middleweight_rank', 'age_dif', 'avg_sub_att_dif', 'avg_td_dif', 'R_Reach_cms', 'R_wins', 'R_Weight_lbs', 'sub_dif', 'R_ev', 'B_avg_TD_landed']\n",
      "0\n",
      "\n"
     ]
    },
    {
     "data": {
      "text/plain": [
       "(2686, 33)"
      ]
     },
     "metadata": {},
     "output_type": "display_data"
    },
    {
     "data": {
      "text/plain": [
       "(2686,)"
      ]
     },
     "metadata": {},
     "output_type": "display_data"
    },
    {
     "data": {
      "text/plain": [
       "(2686, 6)"
      ]
     },
     "metadata": {},
     "output_type": "display_data"
    },
    {
     "data": {
      "text/plain": [
       "(242, 33)"
      ]
     },
     "metadata": {},
     "output_type": "display_data"
    },
    {
     "data": {
      "text/plain": [
       "(242,)"
      ]
     },
     "metadata": {},
     "output_type": "display_data"
    },
    {
     "data": {
      "text/plain": [
       "(242, 6)"
      ]
     },
     "metadata": {},
     "output_type": "display_data"
    },
    {
     "name": "stdout",
     "output_type": "stream",
     "text": [
      "250     5\n",
      "251     3\n",
      "252     3\n",
      "253     5\n",
      "254     0\n",
      "       ..\n",
      "4217    0\n",
      "4225    1\n",
      "4226    3\n",
      "4227    5\n",
      "4228    5\n",
      "Name: label, Length: 2686, dtype: int64\n",
      "Real Score: -3541.0344827586205\n",
      "HI\n",
      "HI\n",
      "HI\n",
      "HI\n",
      "HI\n",
      "\n",
      "model_11\n",
      "BaggingClassifier(base_estimator=LogisticRegression(random_state=75),\n",
      "                  bootstrap=False, n_estimators=1, random_state=75)\n",
      "['B_avg_SUB_ATT', 'B_Middleweight_rank', 'R_Flyweight_rank', 'R_Pound-for-Pound_rank', 'R_Bantamweight_rank', 'B_avg_SIG_STR_landed', \"B_Women's Flyweight_rank\", 'height_dif', 'Blue - SUB', 'R_win_by_Decision_Split', 'Red - KO/TKO', 'B_current_win_streak', \"B_Women's Strawweight_rank\", 'reach_dif', 'B_Reach_cms', 'R_avg_SUB_ATT', 'B_Lightweight_rank', 'R_Featherweight_rank', 'R_Light Heavyweight_rank', 'total_title_bout_dif', 'R_losses', 'Blue - DEC', 'B_draw', 'R_Middleweight_rank', 'age_dif', 'avg_sub_att_dif', 'avg_td_dif', 'R_Reach_cms', 'R_wins', 'R_Weight_lbs', 'sub_dif', 'R_ev', 'B_avg_TD_landed']\n",
      "0\n",
      "\n"
     ]
    },
    {
     "data": {
      "text/plain": [
       "(2686, 33)"
      ]
     },
     "metadata": {},
     "output_type": "display_data"
    },
    {
     "data": {
      "text/plain": [
       "(2686,)"
      ]
     },
     "metadata": {},
     "output_type": "display_data"
    },
    {
     "data": {
      "text/plain": [
       "(2686, 6)"
      ]
     },
     "metadata": {},
     "output_type": "display_data"
    },
    {
     "data": {
      "text/plain": [
       "(242, 33)"
      ]
     },
     "metadata": {},
     "output_type": "display_data"
    },
    {
     "data": {
      "text/plain": [
       "(242,)"
      ]
     },
     "metadata": {},
     "output_type": "display_data"
    },
    {
     "data": {
      "text/plain": [
       "(242, 6)"
      ]
     },
     "metadata": {},
     "output_type": "display_data"
    },
    {
     "name": "stdout",
     "output_type": "stream",
     "text": [
      "250     5\n",
      "251     3\n",
      "252     3\n",
      "253     5\n",
      "254     0\n",
      "       ..\n",
      "4217    0\n",
      "4225    1\n",
      "4226    3\n",
      "4227    5\n",
      "4228    5\n",
      "Name: label, Length: 2686, dtype: int64\n",
      "Real Score: -3541.0344827586205\n",
      "HI\n",
      "HI\n",
      "HI\n",
      "HI\n",
      "HI\n",
      "The original score is 20848.25308987806\n",
      "\n",
      "model_11\n",
      "BaggingClassifier(base_estimator=LogisticRegression(random_state=75),\n",
      "                  bootstrap=False, n_estimators=1, random_state=75)\n",
      "['B_avg_SUB_ATT', 'B_Middleweight_rank', 'R_Flyweight_rank', 'R_Pound-for-Pound_rank', 'R_Bantamweight_rank', 'B_avg_SIG_STR_landed', \"B_Women's Flyweight_rank\", 'height_dif', 'Blue - SUB', 'R_win_by_Decision_Split', 'Red - KO/TKO', 'B_current_win_streak', \"B_Women's Strawweight_rank\", 'reach_dif', 'B_Reach_cms', 'R_avg_SUB_ATT', 'B_Lightweight_rank', 'R_Featherweight_rank', 'R_Light Heavyweight_rank', 'total_title_bout_dif', 'R_losses', 'Blue - DEC', 'B_draw', 'R_Middleweight_rank', 'age_dif', 'avg_sub_att_dif', 'avg_td_dif', 'R_Reach_cms', 'R_wins', 'R_Weight_lbs', 'sub_dif', 'R_ev', 'B_avg_TD_landed']\n",
      "0\n",
      "\n"
     ]
    },
    {
     "data": {
      "text/plain": [
       "(2686, 33)"
      ]
     },
     "metadata": {},
     "output_type": "display_data"
    },
    {
     "data": {
      "text/plain": [
       "(2686,)"
      ]
     },
     "metadata": {},
     "output_type": "display_data"
    },
    {
     "data": {
      "text/plain": [
       "(2686, 6)"
      ]
     },
     "metadata": {},
     "output_type": "display_data"
    },
    {
     "data": {
      "text/plain": [
       "(242, 33)"
      ]
     },
     "metadata": {},
     "output_type": "display_data"
    },
    {
     "data": {
      "text/plain": [
       "(242,)"
      ]
     },
     "metadata": {},
     "output_type": "display_data"
    },
    {
     "data": {
      "text/plain": [
       "(242, 6)"
      ]
     },
     "metadata": {},
     "output_type": "display_data"
    },
    {
     "name": "stdout",
     "output_type": "stream",
     "text": [
      "250     5\n",
      "251     3\n",
      "252     3\n",
      "253     5\n",
      "254     0\n",
      "       ..\n",
      "4217    0\n",
      "4225    1\n",
      "4226    3\n",
      "4227    5\n",
      "4228    5\n",
      "Name: label, Length: 2686, dtype: int64\n",
      "Real Score: -3541.0344827586205\n",
      "HI\n",
      "HI\n",
      "HI\n",
      "HI\n",
      "HI\n",
      "\n",
      "\n",
      "OPTIMIZING MODEL 12\n",
      "\n",
      "\n",
      "model_12\n",
      "BernoulliNB()\n",
      "['R_win_by_TKO_Doctor_Stoppage', \"R_Women's Strawweight_rank\", 'B_Light Heavyweight_rank', 'B_current_lose_streak', 'Blue - DEC', 'R_Light Heavyweight_rank', 'no_of_rounds', 'weight_class', 'R_Welterweight_rank', 'B_Stance', 'total_round_dif', 'B_Lightweight_rank', 'B_losses', 'R_win_by_Decision_Split', 'B_win_by_Decision_Unanimous', 'R_draw', 'R_win_by_Decision_Majority', 'R_Flyweight_rank', 'longest_win_streak_dif', 'age_dif', 'empty_arena', 'height_dif', 'avg_td_dif', 'sig_str_dif', \"B_Women's Strawweight_rank\", 'B_avg_TD_landed', \"B_Women's Flyweight_rank\", 'B_wins', 'Red - KO/TKO', 'B_ev', 'location', 'B_avg_SUB_ATT', 'Red - SUB']\n",
      "0\n",
      "Current best score is: -26314.119715087676\n",
      "Feature: title_bout Score: -22381.076236826804\n",
      "Feature: R_current_lose_streak Score: -21154.80142530465\n",
      "The best feature was R_current_lose_streak.  It scored -21154.80142530465\n",
      "Current best score is: -21154.80142530465\n",
      "Feature: B_draw Score: -19186.31755433691\n",
      "Feature: B_Reach_cms Score: -18251.46106662242\n",
      "Feature: R_avg_TD_pct Score: -13179.926318782507\n",
      "The best feature was R_avg_TD_pct.  It scored -13179.926318782507\n",
      "Current best score is: -13179.926318782507\n",
      "Feature: B_draw Score: -12191.017227873415\n",
      "Feature: R_current_win_streak Score: -11091.403210294236\n",
      "The best feature was R_current_win_streak.  It scored -11091.403210294236\n",
      "Current best score is: -11091.403210294236\n",
      "Feature: B_draw Score: -10769.403210294236\n",
      "Feature: B_win_by_TKO_Doctor_Stoppage Score: -10435.226739705999\n",
      "Feature: R_Middleweight_rank Score: -7454.710610673741\n",
      "The best feature was R_Middleweight_rank.  It scored -7454.710610673741\n",
      "Current best score is: -7454.710610673741\n",
      "Feature: B_Women's Featherweight_rank Score: -7254.710610673741\n",
      "The best feature was B_Women's Featherweight_rank.  It scored -7254.710610673741\n",
      "Current best score is: -7254.710610673741\n",
      "Feature: B_draw Score: -7234.710610673741\n",
      "The best feature was B_draw.  It scored -7234.710610673741\n",
      "Current best score is: -7234.710610673741\n",
      "Feature: B_win_by_TKO_Doctor_Stoppage Score: -5714.710610673741\n",
      "The best feature was B_win_by_TKO_Doctor_Stoppage.  It scored -5714.710610673741\n",
      "Current best score is: -5714.710610673741\n",
      "NO IMPROVEMENT\n",
      "FINAL BEST SCORE: -5714.710610673741\n",
      "\n",
      "model_12\n",
      "BernoulliNB()\n",
      "['B_win_by_TKO_Doctor_Stoppage', 'B_draw', \"B_Women's Featherweight_rank\", 'R_Middleweight_rank', 'R_current_win_streak', 'R_avg_TD_pct', 'R_current_lose_streak', 'R_win_by_TKO_Doctor_Stoppage', \"R_Women's Strawweight_rank\", 'B_Light Heavyweight_rank', 'B_current_lose_streak', 'Blue - DEC', 'R_Light Heavyweight_rank', 'no_of_rounds', 'weight_class', 'R_Welterweight_rank', 'B_Stance', 'total_round_dif', 'B_Lightweight_rank', 'B_losses', 'R_win_by_Decision_Split', 'B_win_by_Decision_Unanimous', 'R_draw', 'R_win_by_Decision_Majority', 'R_Flyweight_rank', 'longest_win_streak_dif', 'age_dif', 'empty_arena', 'height_dif', 'avg_td_dif', 'sig_str_dif', \"B_Women's Strawweight_rank\", 'B_avg_TD_landed', \"B_Women's Flyweight_rank\", 'B_wins', 'Red - KO/TKO', 'B_ev', 'location', 'B_avg_SUB_ATT', 'Red - SUB']\n",
      "0\n",
      "\n"
     ]
    },
    {
     "data": {
      "text/plain": [
       "(2762, 187)"
      ]
     },
     "metadata": {},
     "output_type": "display_data"
    },
    {
     "data": {
      "text/plain": [
       "(2762,)"
      ]
     },
     "metadata": {},
     "output_type": "display_data"
    },
    {
     "data": {
      "text/plain": [
       "(2762, 6)"
      ]
     },
     "metadata": {},
     "output_type": "display_data"
    },
    {
     "data": {
      "text/plain": [
       "(240, 187)"
      ]
     },
     "metadata": {},
     "output_type": "display_data"
    },
    {
     "data": {
      "text/plain": [
       "(240,)"
      ]
     },
     "metadata": {},
     "output_type": "display_data"
    },
    {
     "data": {
      "text/plain": [
       "(240, 6)"
      ]
     },
     "metadata": {},
     "output_type": "display_data"
    },
    {
     "name": "stdout",
     "output_type": "stream",
     "text": [
      "250     5\n",
      "251     3\n",
      "252     3\n",
      "253     5\n",
      "254     0\n",
      "       ..\n",
      "4217    0\n",
      "4225    1\n",
      "4226    3\n",
      "4227    5\n",
      "4228    5\n",
      "Name: label, Length: 2762, dtype: int64\n",
      "Real Score: -3676.912165129556\n",
      "HI\n",
      "HI\n",
      "HI\n",
      "HI\n",
      "HI\n",
      "Real output model: BernoulliNB()\n",
      "\n",
      "model_12\n",
      "BernoulliNB()\n",
      "['B_win_by_TKO_Doctor_Stoppage', 'B_draw', \"B_Women's Featherweight_rank\", 'R_Middleweight_rank', 'R_current_win_streak', 'R_avg_TD_pct', 'R_current_lose_streak', 'R_win_by_TKO_Doctor_Stoppage', \"R_Women's Strawweight_rank\", 'B_Light Heavyweight_rank', 'B_current_lose_streak', 'Blue - DEC', 'R_Light Heavyweight_rank', 'no_of_rounds', 'weight_class', 'R_Welterweight_rank', 'B_Stance', 'total_round_dif', 'B_Lightweight_rank', 'B_losses', 'R_win_by_Decision_Split', 'B_win_by_Decision_Unanimous', 'R_draw', 'R_win_by_Decision_Majority', 'R_Flyweight_rank', 'longest_win_streak_dif', 'age_dif', 'empty_arena', 'height_dif', 'avg_td_dif', 'sig_str_dif', \"B_Women's Strawweight_rank\", 'B_avg_TD_landed', \"B_Women's Flyweight_rank\", 'B_wins', 'Red - KO/TKO', 'B_ev', 'location', 'B_avg_SUB_ATT', 'Red - SUB']\n",
      "0\n",
      "\n"
     ]
    },
    {
     "data": {
      "text/plain": [
       "(2762, 187)"
      ]
     },
     "metadata": {},
     "output_type": "display_data"
    },
    {
     "data": {
      "text/plain": [
       "(2762,)"
      ]
     },
     "metadata": {},
     "output_type": "display_data"
    },
    {
     "data": {
      "text/plain": [
       "(2762, 6)"
      ]
     },
     "metadata": {},
     "output_type": "display_data"
    },
    {
     "data": {
      "text/plain": [
       "(240, 187)"
      ]
     },
     "metadata": {},
     "output_type": "display_data"
    },
    {
     "data": {
      "text/plain": [
       "(240,)"
      ]
     },
     "metadata": {},
     "output_type": "display_data"
    },
    {
     "data": {
      "text/plain": [
       "(240, 6)"
      ]
     },
     "metadata": {},
     "output_type": "display_data"
    },
    {
     "name": "stdout",
     "output_type": "stream",
     "text": [
      "250     5\n",
      "251     3\n",
      "252     3\n",
      "253     5\n",
      "254     0\n",
      "       ..\n",
      "4217    0\n",
      "4225    1\n",
      "4226    3\n",
      "4227    5\n",
      "4228    5\n",
      "Name: label, Length: 2762, dtype: int64\n",
      "Real Score: -3676.912165129556\n",
      "HI\n",
      "HI\n",
      "HI\n",
      "HI\n",
      "HI\n",
      "\n",
      "model_12\n",
      "BernoulliNB()\n",
      "['B_win_by_TKO_Doctor_Stoppage', 'B_draw', \"B_Women's Featherweight_rank\", 'R_Middleweight_rank', 'R_current_win_streak', 'R_avg_TD_pct', 'R_current_lose_streak', 'R_win_by_TKO_Doctor_Stoppage', \"R_Women's Strawweight_rank\", 'B_Light Heavyweight_rank', 'B_current_lose_streak', 'Blue - DEC', 'R_Light Heavyweight_rank', 'no_of_rounds', 'weight_class', 'R_Welterweight_rank', 'B_Stance', 'total_round_dif', 'B_Lightweight_rank', 'B_losses', 'R_win_by_Decision_Split', 'B_win_by_Decision_Unanimous', 'R_draw', 'R_win_by_Decision_Majority', 'R_Flyweight_rank', 'longest_win_streak_dif', 'age_dif', 'empty_arena', 'height_dif', 'avg_td_dif', 'sig_str_dif', \"B_Women's Strawweight_rank\", 'B_avg_TD_landed', \"B_Women's Flyweight_rank\", 'B_wins', 'Red - KO/TKO', 'B_ev', 'location', 'B_avg_SUB_ATT', 'Red - SUB']\n",
      "0\n",
      "\n"
     ]
    },
    {
     "data": {
      "text/plain": [
       "(2762, 187)"
      ]
     },
     "metadata": {},
     "output_type": "display_data"
    },
    {
     "data": {
      "text/plain": [
       "(2762,)"
      ]
     },
     "metadata": {},
     "output_type": "display_data"
    },
    {
     "data": {
      "text/plain": [
       "(2762, 6)"
      ]
     },
     "metadata": {},
     "output_type": "display_data"
    },
    {
     "data": {
      "text/plain": [
       "(240, 187)"
      ]
     },
     "metadata": {},
     "output_type": "display_data"
    },
    {
     "data": {
      "text/plain": [
       "(240,)"
      ]
     },
     "metadata": {},
     "output_type": "display_data"
    },
    {
     "data": {
      "text/plain": [
       "(240, 6)"
      ]
     },
     "metadata": {},
     "output_type": "display_data"
    },
    {
     "name": "stdout",
     "output_type": "stream",
     "text": [
      "250     5\n",
      "251     3\n",
      "252     3\n",
      "253     5\n",
      "254     0\n",
      "       ..\n",
      "4217    0\n",
      "4225    1\n",
      "4226    3\n",
      "4227    5\n",
      "4228    5\n",
      "Name: label, Length: 2762, dtype: int64\n",
      "Real Score: -3676.912165129556\n",
      "HI\n",
      "HI\n",
      "HI\n",
      "HI\n",
      "HI\n",
      "The original score is -5714.710610673741\n",
      "\n",
      "model_12\n",
      "BernoulliNB()\n",
      "['B_win_by_TKO_Doctor_Stoppage', 'B_draw', \"B_Women's Featherweight_rank\", 'R_Middleweight_rank', 'R_current_win_streak', 'R_avg_TD_pct', 'R_current_lose_streak', 'R_win_by_TKO_Doctor_Stoppage', \"R_Women's Strawweight_rank\", 'B_Light Heavyweight_rank', 'B_current_lose_streak', 'Blue - DEC', 'R_Light Heavyweight_rank', 'no_of_rounds', 'weight_class', 'R_Welterweight_rank', 'B_Stance', 'total_round_dif', 'B_Lightweight_rank', 'B_losses', 'R_win_by_Decision_Split', 'B_win_by_Decision_Unanimous', 'R_draw', 'R_win_by_Decision_Majority', 'R_Flyweight_rank', 'longest_win_streak_dif', 'age_dif', 'empty_arena', 'height_dif', 'avg_td_dif', 'sig_str_dif', \"B_Women's Strawweight_rank\", 'B_avg_TD_landed', \"B_Women's Flyweight_rank\", 'B_wins', 'Red - KO/TKO', 'B_ev', 'location', 'B_avg_SUB_ATT', 'Red - SUB']\n",
      "0\n",
      "\n"
     ]
    },
    {
     "data": {
      "text/plain": [
       "(2762, 187)"
      ]
     },
     "metadata": {},
     "output_type": "display_data"
    },
    {
     "data": {
      "text/plain": [
       "(2762,)"
      ]
     },
     "metadata": {},
     "output_type": "display_data"
    },
    {
     "data": {
      "text/plain": [
       "(2762, 6)"
      ]
     },
     "metadata": {},
     "output_type": "display_data"
    },
    {
     "data": {
      "text/plain": [
       "(240, 187)"
      ]
     },
     "metadata": {},
     "output_type": "display_data"
    },
    {
     "data": {
      "text/plain": [
       "(240,)"
      ]
     },
     "metadata": {},
     "output_type": "display_data"
    },
    {
     "data": {
      "text/plain": [
       "(240, 6)"
      ]
     },
     "metadata": {},
     "output_type": "display_data"
    },
    {
     "name": "stdout",
     "output_type": "stream",
     "text": [
      "250     5\n",
      "251     3\n",
      "252     3\n",
      "253     5\n",
      "254     0\n",
      "       ..\n",
      "4217    0\n",
      "4225    1\n",
      "4226    3\n",
      "4227    5\n",
      "4228    5\n",
      "Name: label, Length: 2762, dtype: int64\n",
      "Real Score: -3676.912165129556\n",
      "HI\n",
      "HI\n",
      "HI\n",
      "HI\n",
      "HI\n",
      "\n",
      "\n",
      "OPTIMIZING MODEL 13\n",
      "\n",
      "\n",
      "model_13\n",
      "LinearDiscriminantAnalysis(solver='lsqr')\n",
      "['R_Heavyweight_rank', 'R_win_by_Decision_Majority', 'R_match_weightclass_rank', \"R_Women's Featherweight_rank\", 'R_Lightweight_rank', 'B_Weight_lbs', 'B_total_rounds_fought', 'B_win_by_Decision_Split', 'B_Featherweight_rank', 'B_avg_SIG_STR_landed', 'B_current_win_streak', 'loss_dif', \"R_Women's Bantamweight_rank\", 'B_match_weightclass_rank', 'Red - SUB', 'B_Stance', 'B_Heavyweight_rank', 'R_odds', 'total_round_dif', 'R_win_by_TKO_Doctor_Stoppage', 'R_Flyweight_rank', 'B_Light Heavyweight_rank', 'Blue - SUB', 'B_Flyweight_rank', \"B_Women's Flyweight_rank\", 'B_Height_cms', 'B_age', \"B_Women's Strawweight_rank\", 'gender', 'R_draw', 'no_of_rounds', 'R_win_by_Decision_Split', 'R_Light Heavyweight_rank', 'total_title_bout_dif', 'R_losses', 'Blue - DEC', 'B_draw', 'age_dif', 'avg_sub_att_dif', 'avg_td_dif', 'B_avg_SUB_ATT', 'R_Reach_cms', 'R_wins', 'B_ev', 'R_Weight_lbs', 'sub_dif', 'R_ev', 'B_avg_TD_landed']\n",
      "0\n",
      "Current best score is: -1645.1691522389838\n",
      "Feature: title_bout Score: 765.539349785307\n",
      "Feature: B_total_title_bouts Score: 4689.8267627371315\n",
      "The best feature was B_total_title_bouts.  It scored 4689.8267627371315\n",
      "Current best score is: 4689.8267627371315\n",
      "NO IMPROVEMENT\n",
      "FINAL BEST SCORE: 4689.8267627371315\n",
      "\n",
      "model_13\n",
      "LinearDiscriminantAnalysis(solver='lsqr')\n",
      "['B_total_title_bouts', 'R_Heavyweight_rank', 'R_win_by_Decision_Majority', 'R_match_weightclass_rank', \"R_Women's Featherweight_rank\", 'R_Lightweight_rank', 'B_Weight_lbs', 'B_total_rounds_fought', 'B_win_by_Decision_Split', 'B_Featherweight_rank', 'B_avg_SIG_STR_landed', 'B_current_win_streak', 'loss_dif', \"R_Women's Bantamweight_rank\", 'B_match_weightclass_rank', 'Red - SUB', 'B_Stance', 'B_Heavyweight_rank', 'R_odds', 'total_round_dif', 'R_win_by_TKO_Doctor_Stoppage', 'R_Flyweight_rank', 'B_Light Heavyweight_rank', 'Blue - SUB', 'B_Flyweight_rank', \"B_Women's Flyweight_rank\", 'B_Height_cms', 'B_age', \"B_Women's Strawweight_rank\", 'gender', 'R_draw', 'no_of_rounds', 'R_win_by_Decision_Split', 'R_Light Heavyweight_rank', 'total_title_bout_dif', 'R_losses', 'Blue - DEC', 'B_draw', 'age_dif', 'avg_sub_att_dif', 'avg_td_dif', 'B_avg_SUB_ATT', 'R_Reach_cms', 'R_wins', 'B_ev', 'R_Weight_lbs', 'sub_dif', 'R_ev', 'B_avg_TD_landed']\n",
      "0\n",
      "\n"
     ]
    },
    {
     "data": {
      "text/plain": [
       "(2749, 52)"
      ]
     },
     "metadata": {},
     "output_type": "display_data"
    },
    {
     "data": {
      "text/plain": [
       "(2749,)"
      ]
     },
     "metadata": {},
     "output_type": "display_data"
    },
    {
     "data": {
      "text/plain": [
       "(2749, 6)"
      ]
     },
     "metadata": {},
     "output_type": "display_data"
    },
    {
     "data": {
      "text/plain": [
       "(240, 52)"
      ]
     },
     "metadata": {},
     "output_type": "display_data"
    },
    {
     "data": {
      "text/plain": [
       "(240,)"
      ]
     },
     "metadata": {},
     "output_type": "display_data"
    },
    {
     "data": {
      "text/plain": [
       "(240, 6)"
      ]
     },
     "metadata": {},
     "output_type": "display_data"
    },
    {
     "name": "stdout",
     "output_type": "stream",
     "text": [
      "250     5\n",
      "251     3\n",
      "252     3\n",
      "253     5\n",
      "254     0\n",
      "       ..\n",
      "4217    0\n",
      "4225    1\n",
      "4226    3\n",
      "4227    5\n",
      "4228    5\n",
      "Name: label, Length: 2749, dtype: int64\n",
      "Real Score: 25.56724884311143\n",
      "HI\n",
      "HI\n",
      "HI\n",
      "HI\n",
      "HI\n",
      "\n",
      "\n",
      "Starting New Run for LinearDiscriminantAnalysis\n",
      "LinearDiscriminantAnalysis(solver='lsqr')\n",
      "\n",
      "\n",
      "Previous Best Score: 4689.8267627371315\n",
      "\n",
      "NEW BEST SCORE\n",
      "solver:  svd tol:  0.0001 Best Score:  5214.826762737131\n",
      "\n",
      "\n",
      "solver:  svd tol:  0.00011000000000000002 Score:  5214.826762737131\n",
      "solver:  svd tol:  9e-05 Score:  5214.826762737131\n",
      "solver:  lsqr tol:  0.0001 Score:  4689.8267627371315\n",
      "solver:  lsqr tol:  0.00011000000000000002 Score:  4689.8267627371315\n",
      "solver:  lsqr tol:  9e-05 Score:  4689.8267627371315\n",
      "output model: LinearDiscriminantAnalysis()\n",
      "\n",
      "\n",
      "Starting New Run for LinearDiscriminantAnalysis\n",
      "LinearDiscriminantAnalysis()\n",
      "\n",
      "\n",
      "Previous Best Score: 5214.826762737131\n",
      "solver:  svd tol:  0.0001 Score:  5214.826762737131\n",
      "solver:  svd tol:  0.00011000000000000002 Score:  5214.826762737131\n",
      "solver:  svd tol:  9e-05 Score:  5214.826762737131\n",
      "solver:  lsqr tol:  0.0001 Score:  4689.8267627371315\n",
      "solver:  lsqr tol:  0.00011000000000000002 Score:  4689.8267627371315\n",
      "solver:  lsqr tol:  9e-05 Score:  4689.8267627371315\n",
      "output model: LinearDiscriminantAnalysis()\n",
      "pos model: LinearDiscriminantAnalysis()\n",
      " output_model: LinearDiscriminantAnalysis()\n",
      "Real output model: LinearDiscriminantAnalysis()\n",
      "\n",
      "model_13\n",
      "LinearDiscriminantAnalysis()\n",
      "['B_total_title_bouts', 'R_Heavyweight_rank', 'R_win_by_Decision_Majority', 'R_match_weightclass_rank', \"R_Women's Featherweight_rank\", 'R_Lightweight_rank', 'B_Weight_lbs', 'B_total_rounds_fought', 'B_win_by_Decision_Split', 'B_Featherweight_rank', 'B_avg_SIG_STR_landed', 'B_current_win_streak', 'loss_dif', \"R_Women's Bantamweight_rank\", 'B_match_weightclass_rank', 'Red - SUB', 'B_Stance', 'B_Heavyweight_rank', 'R_odds', 'total_round_dif', 'R_win_by_TKO_Doctor_Stoppage', 'R_Flyweight_rank', 'B_Light Heavyweight_rank', 'Blue - SUB', 'B_Flyweight_rank', \"B_Women's Flyweight_rank\", 'B_Height_cms', 'B_age', \"B_Women's Strawweight_rank\", 'gender', 'R_draw', 'no_of_rounds', 'R_win_by_Decision_Split', 'R_Light Heavyweight_rank', 'total_title_bout_dif', 'R_losses', 'Blue - DEC', 'B_draw', 'age_dif', 'avg_sub_att_dif', 'avg_td_dif', 'B_avg_SUB_ATT', 'R_Reach_cms', 'R_wins', 'B_ev', 'R_Weight_lbs', 'sub_dif', 'R_ev', 'B_avg_TD_landed']\n",
      "0\n",
      "\n"
     ]
    },
    {
     "data": {
      "text/plain": [
       "(2749, 52)"
      ]
     },
     "metadata": {},
     "output_type": "display_data"
    },
    {
     "data": {
      "text/plain": [
       "(2749,)"
      ]
     },
     "metadata": {},
     "output_type": "display_data"
    },
    {
     "data": {
      "text/plain": [
       "(2749, 6)"
      ]
     },
     "metadata": {},
     "output_type": "display_data"
    },
    {
     "data": {
      "text/plain": [
       "(240, 52)"
      ]
     },
     "metadata": {},
     "output_type": "display_data"
    },
    {
     "data": {
      "text/plain": [
       "(240,)"
      ]
     },
     "metadata": {},
     "output_type": "display_data"
    },
    {
     "data": {
      "text/plain": [
       "(240, 6)"
      ]
     },
     "metadata": {},
     "output_type": "display_data"
    },
    {
     "name": "stdout",
     "output_type": "stream",
     "text": [
      "250     5\n",
      "251     3\n",
      "252     3\n",
      "253     5\n",
      "254     0\n",
      "       ..\n",
      "4217    0\n",
      "4225    1\n",
      "4226    3\n",
      "4227    5\n",
      "4228    5\n",
      "Name: label, Length: 2749, dtype: int64\n",
      "Real Score: 30.329153605016018\n",
      "HI\n",
      "HI\n",
      "HI\n",
      "HI\n",
      "HI\n",
      "\n",
      "model_13\n",
      "LinearDiscriminantAnalysis()\n",
      "['B_total_title_bouts', 'R_Heavyweight_rank', 'R_win_by_Decision_Majority', 'R_match_weightclass_rank', \"R_Women's Featherweight_rank\", 'R_Lightweight_rank', 'B_Weight_lbs', 'B_total_rounds_fought', 'B_win_by_Decision_Split', 'B_Featherweight_rank', 'B_avg_SIG_STR_landed', 'B_current_win_streak', 'loss_dif', \"R_Women's Bantamweight_rank\", 'B_match_weightclass_rank', 'Red - SUB', 'B_Stance', 'B_Heavyweight_rank', 'R_odds', 'total_round_dif', 'R_win_by_TKO_Doctor_Stoppage', 'R_Flyweight_rank', 'B_Light Heavyweight_rank', 'Blue - SUB', 'B_Flyweight_rank', \"B_Women's Flyweight_rank\", 'B_Height_cms', 'B_age', \"B_Women's Strawweight_rank\", 'gender', 'R_draw', 'no_of_rounds', 'R_win_by_Decision_Split', 'R_Light Heavyweight_rank', 'total_title_bout_dif', 'R_losses', 'Blue - DEC', 'B_draw', 'age_dif', 'avg_sub_att_dif', 'avg_td_dif', 'B_avg_SUB_ATT', 'R_Reach_cms', 'R_wins', 'B_ev', 'R_Weight_lbs', 'sub_dif', 'R_ev', 'B_avg_TD_landed']\n",
      "0\n",
      "\n"
     ]
    },
    {
     "data": {
      "text/plain": [
       "(2749, 52)"
      ]
     },
     "metadata": {},
     "output_type": "display_data"
    },
    {
     "data": {
      "text/plain": [
       "(2749,)"
      ]
     },
     "metadata": {},
     "output_type": "display_data"
    },
    {
     "data": {
      "text/plain": [
       "(2749, 6)"
      ]
     },
     "metadata": {},
     "output_type": "display_data"
    },
    {
     "data": {
      "text/plain": [
       "(240, 52)"
      ]
     },
     "metadata": {},
     "output_type": "display_data"
    },
    {
     "data": {
      "text/plain": [
       "(240,)"
      ]
     },
     "metadata": {},
     "output_type": "display_data"
    },
    {
     "data": {
      "text/plain": [
       "(240, 6)"
      ]
     },
     "metadata": {},
     "output_type": "display_data"
    },
    {
     "name": "stdout",
     "output_type": "stream",
     "text": [
      "250     5\n",
      "251     3\n",
      "252     3\n",
      "253     5\n",
      "254     0\n",
      "       ..\n",
      "4217    0\n",
      "4225    1\n",
      "4226    3\n",
      "4227    5\n",
      "4228    5\n",
      "Name: label, Length: 2749, dtype: int64\n",
      "Real Score: 30.329153605016018\n",
      "HI\n",
      "HI\n",
      "HI\n",
      "HI\n",
      "HI\n",
      "The original score is 5214.826762737131\n",
      "NEW BEST FEATURE SET WITH: B_current_lose_streak REMOVED 6706.812776723143\n",
      "The original score is 6706.812776723143\n",
      "NEW BEST FEATURE SET WITH: Winner REMOVED 7552.087135333095\n",
      "NEW BEST FEATURE SET WITH: B_current_win_streak REMOVED 10263.567000993498\n",
      "The original score is 10263.567000993498\n",
      "NEW BEST FEATURE SET WITH: R_fighter REMOVED 11890.714187140682\n",
      "NEW BEST FEATURE SET WITH: B_ev REMOVED 13173.852715279212\n",
      "NEW BEST FEATURE SET WITH: B_avg_TD_landed REMOVED 13189.47609190259\n",
      "The original score is 13189.47609190259\n",
      "NEW BEST FEATURE SET WITH: R_fighter REMOVED 13474.623278049776\n",
      "NEW BEST FEATURE SET WITH: B_win_by_Submission REMOVED 16087.99557242207\n",
      "The original score is 16087.99557242207\n",
      "NEW BEST FEATURE SET WITH: B_ev REMOVED 18033.99557242207\n",
      "The original score is 18033.99557242207\n",
      "NEW BEST FEATURE SET WITH: R_ev REMOVED 18277.90466333116\n",
      "NEW BEST FEATURE SET WITH: R_avg_SIG_STR_landed REMOVED 18609.60307602957\n",
      "The original score is 18609.60307602957\n",
      "\n",
      "model_13\n",
      "LinearDiscriminantAnalysis()\n",
      "['B_total_title_bouts', 'R_Heavyweight_rank', 'R_win_by_Decision_Majority', 'R_match_weightclass_rank', \"R_Women's Featherweight_rank\", 'B_Weight_lbs', 'B_total_rounds_fought', 'B_win_by_Decision_Split', 'B_Featherweight_rank', 'B_avg_SIG_STR_landed', 'B_current_win_streak', 'loss_dif', \"R_Women's Bantamweight_rank\", 'Red - SUB', 'B_Heavyweight_rank', 'R_odds', 'total_round_dif', 'R_win_by_TKO_Doctor_Stoppage', 'R_Flyweight_rank', 'Blue - SUB', 'B_Flyweight_rank', \"B_Women's Flyweight_rank\", 'B_Height_cms', 'B_age', \"B_Women's Strawweight_rank\", 'gender', 'R_draw', 'no_of_rounds', 'R_win_by_Decision_Split', 'total_title_bout_dif', 'R_losses', 'Blue - DEC', 'B_draw', 'age_dif', 'avg_sub_att_dif', 'avg_td_dif', 'B_avg_SUB_ATT', 'R_Reach_cms', 'R_wins', 'B_ev', 'sub_dif', 'R_ev', 'B_avg_TD_landed']\n",
      "0\n",
      "\n"
     ]
    },
    {
     "data": {
      "text/plain": [
       "(2749, 44)"
      ]
     },
     "metadata": {},
     "output_type": "display_data"
    },
    {
     "data": {
      "text/plain": [
       "(2749,)"
      ]
     },
     "metadata": {},
     "output_type": "display_data"
    },
    {
     "data": {
      "text/plain": [
       "(2749, 6)"
      ]
     },
     "metadata": {},
     "output_type": "display_data"
    },
    {
     "data": {
      "text/plain": [
       "(242, 44)"
      ]
     },
     "metadata": {},
     "output_type": "display_data"
    },
    {
     "data": {
      "text/plain": [
       "(242,)"
      ]
     },
     "metadata": {},
     "output_type": "display_data"
    },
    {
     "data": {
      "text/plain": [
       "(242, 6)"
      ]
     },
     "metadata": {},
     "output_type": "display_data"
    },
    {
     "name": "stdout",
     "output_type": "stream",
     "text": [
      "250     5\n",
      "251     3\n",
      "252     3\n",
      "253     5\n",
      "254     0\n",
      "       ..\n",
      "4217    0\n",
      "4225    1\n",
      "4226    3\n",
      "4227    5\n",
      "4228    5\n",
      "Name: label, Length: 2749, dtype: int64\n",
      "Real Score: -1781.0344827586205\n",
      "HI\n",
      "HI\n",
      "HI\n",
      "HI\n",
      "HI\n",
      "The hyperparameters are different\n",
      "OLD:\n",
      "LinearDiscriminantAnalysis(solver='lsqr')\n",
      "NEW:\n",
      "LinearDiscriminantAnalysis()\n",
      "The features are different\n",
      "OLD:\n",
      "['B_total_title_bouts', 'R_Heavyweight_rank', 'R_win_by_Decision_Majority', 'R_match_weightclass_rank', \"R_Women's Featherweight_rank\", 'R_Lightweight_rank', 'B_Weight_lbs', 'B_total_rounds_fought', 'B_win_by_Decision_Split', 'B_Featherweight_rank', 'B_avg_SIG_STR_landed', 'B_current_win_streak', 'loss_dif', \"R_Women's Bantamweight_rank\", 'B_match_weightclass_rank', 'Red - SUB', 'B_Stance', 'B_Heavyweight_rank', 'R_odds', 'total_round_dif', 'R_win_by_TKO_Doctor_Stoppage', 'R_Flyweight_rank', 'B_Light Heavyweight_rank', 'Blue - SUB', 'B_Flyweight_rank', \"B_Women's Flyweight_rank\", 'B_Height_cms', 'B_age', \"B_Women's Strawweight_rank\", 'gender', 'R_draw', 'no_of_rounds', 'R_win_by_Decision_Split', 'R_Light Heavyweight_rank', 'total_title_bout_dif', 'R_losses', 'Blue - DEC', 'B_draw', 'age_dif', 'avg_sub_att_dif', 'avg_td_dif', 'B_avg_SUB_ATT', 'R_Reach_cms', 'R_wins', 'B_ev', 'R_Weight_lbs', 'sub_dif', 'R_ev', 'B_avg_TD_landed']\n",
      "NEW:\n",
      "['B_total_title_bouts', 'R_Heavyweight_rank', 'R_win_by_Decision_Majority', 'R_match_weightclass_rank', \"R_Women's Featherweight_rank\", 'B_Weight_lbs', 'B_total_rounds_fought', 'B_win_by_Decision_Split', 'B_Featherweight_rank', 'B_avg_SIG_STR_landed', 'B_current_win_streak', 'loss_dif', \"R_Women's Bantamweight_rank\", 'Red - SUB', 'B_Heavyweight_rank', 'R_odds', 'total_round_dif', 'R_win_by_TKO_Doctor_Stoppage', 'R_Flyweight_rank', 'Blue - SUB', 'B_Flyweight_rank', \"B_Women's Flyweight_rank\", 'B_Height_cms', 'B_age', \"B_Women's Strawweight_rank\", 'gender', 'R_draw', 'no_of_rounds', 'R_win_by_Decision_Split', 'total_title_bout_dif', 'R_losses', 'Blue - DEC', 'B_draw', 'age_dif', 'avg_sub_att_dif', 'avg_td_dif', 'B_avg_SUB_ATT', 'R_Reach_cms', 'R_wins', 'B_ev', 'sub_dif', 'R_ev', 'B_avg_TD_landed']\n",
      "Current best score is: 18609.60307602957\n",
      "NO IMPROVEMENT\n",
      "FINAL BEST SCORE: 18609.60307602957\n",
      "\n",
      "model_13\n",
      "LinearDiscriminantAnalysis()\n",
      "['B_total_title_bouts', 'R_Heavyweight_rank', 'R_win_by_Decision_Majority', 'R_match_weightclass_rank', \"R_Women's Featherweight_rank\", 'B_Weight_lbs', 'B_total_rounds_fought', 'B_win_by_Decision_Split', 'B_Featherweight_rank', 'B_avg_SIG_STR_landed', 'B_current_win_streak', 'loss_dif', \"R_Women's Bantamweight_rank\", 'Red - SUB', 'B_Heavyweight_rank', 'R_odds', 'total_round_dif', 'R_win_by_TKO_Doctor_Stoppage', 'R_Flyweight_rank', 'Blue - SUB', 'B_Flyweight_rank', \"B_Women's Flyweight_rank\", 'B_Height_cms', 'B_age', \"B_Women's Strawweight_rank\", 'gender', 'R_draw', 'no_of_rounds', 'R_win_by_Decision_Split', 'total_title_bout_dif', 'R_losses', 'Blue - DEC', 'B_draw', 'age_dif', 'avg_sub_att_dif', 'avg_td_dif', 'B_avg_SUB_ATT', 'R_Reach_cms', 'R_wins', 'B_ev', 'sub_dif', 'R_ev', 'B_avg_TD_landed']\n",
      "0\n",
      "\n"
     ]
    },
    {
     "data": {
      "text/plain": [
       "(2749, 44)"
      ]
     },
     "metadata": {},
     "output_type": "display_data"
    },
    {
     "data": {
      "text/plain": [
       "(2749,)"
      ]
     },
     "metadata": {},
     "output_type": "display_data"
    },
    {
     "data": {
      "text/plain": [
       "(2749, 6)"
      ]
     },
     "metadata": {},
     "output_type": "display_data"
    },
    {
     "data": {
      "text/plain": [
       "(242, 44)"
      ]
     },
     "metadata": {},
     "output_type": "display_data"
    },
    {
     "data": {
      "text/plain": [
       "(242,)"
      ]
     },
     "metadata": {},
     "output_type": "display_data"
    },
    {
     "data": {
      "text/plain": [
       "(242, 6)"
      ]
     },
     "metadata": {},
     "output_type": "display_data"
    },
    {
     "name": "stdout",
     "output_type": "stream",
     "text": [
      "250     5\n",
      "251     3\n",
      "252     3\n",
      "253     5\n",
      "254     0\n",
      "       ..\n",
      "4217    0\n",
      "4225    1\n",
      "4226    3\n",
      "4227    5\n",
      "4228    5\n",
      "Name: label, Length: 2749, dtype: int64\n",
      "Real Score: -1781.0344827586205\n",
      "HI\n",
      "HI\n",
      "HI\n",
      "HI\n",
      "HI\n",
      "\n",
      "\n",
      "Starting New Run for LinearDiscriminantAnalysis\n",
      "LinearDiscriminantAnalysis()\n",
      "\n",
      "\n",
      "Previous Best Score: 18609.60307602957\n",
      "solver:  svd tol:  0.0001 Score:  18609.60307602957\n",
      "solver:  svd tol:  0.00011000000000000002 Score:  18609.60307602957\n",
      "solver:  svd tol:  9e-05 Score:  18609.60307602957\n",
      "solver:  lsqr tol:  0.0001 Score:  16423.888790315286\n",
      "solver:  lsqr tol:  0.00011000000000000002 Score:  16423.888790315286\n",
      "solver:  lsqr tol:  9e-05 Score:  16423.888790315286\n",
      "output model: LinearDiscriminantAnalysis()\n",
      "pos model: LinearDiscriminantAnalysis()\n",
      " output_model: LinearDiscriminantAnalysis()\n",
      "Real output model: LinearDiscriminantAnalysis()\n",
      "\n",
      "model_13\n",
      "LinearDiscriminantAnalysis()\n",
      "['B_total_title_bouts', 'R_Heavyweight_rank', 'R_win_by_Decision_Majority', 'R_match_weightclass_rank', \"R_Women's Featherweight_rank\", 'B_Weight_lbs', 'B_total_rounds_fought', 'B_win_by_Decision_Split', 'B_Featherweight_rank', 'B_avg_SIG_STR_landed', 'B_current_win_streak', 'loss_dif', \"R_Women's Bantamweight_rank\", 'Red - SUB', 'B_Heavyweight_rank', 'R_odds', 'total_round_dif', 'R_win_by_TKO_Doctor_Stoppage', 'R_Flyweight_rank', 'Blue - SUB', 'B_Flyweight_rank', \"B_Women's Flyweight_rank\", 'B_Height_cms', 'B_age', \"B_Women's Strawweight_rank\", 'gender', 'R_draw', 'no_of_rounds', 'R_win_by_Decision_Split', 'total_title_bout_dif', 'R_losses', 'Blue - DEC', 'B_draw', 'age_dif', 'avg_sub_att_dif', 'avg_td_dif', 'B_avg_SUB_ATT', 'R_Reach_cms', 'R_wins', 'B_ev', 'sub_dif', 'R_ev', 'B_avg_TD_landed']\n",
      "0\n",
      "\n"
     ]
    },
    {
     "data": {
      "text/plain": [
       "(2749, 44)"
      ]
     },
     "metadata": {},
     "output_type": "display_data"
    },
    {
     "data": {
      "text/plain": [
       "(2749,)"
      ]
     },
     "metadata": {},
     "output_type": "display_data"
    },
    {
     "data": {
      "text/plain": [
       "(2749, 6)"
      ]
     },
     "metadata": {},
     "output_type": "display_data"
    },
    {
     "data": {
      "text/plain": [
       "(242, 44)"
      ]
     },
     "metadata": {},
     "output_type": "display_data"
    },
    {
     "data": {
      "text/plain": [
       "(242,)"
      ]
     },
     "metadata": {},
     "output_type": "display_data"
    },
    {
     "data": {
      "text/plain": [
       "(242, 6)"
      ]
     },
     "metadata": {},
     "output_type": "display_data"
    },
    {
     "name": "stdout",
     "output_type": "stream",
     "text": [
      "250     5\n",
      "251     3\n",
      "252     3\n",
      "253     5\n",
      "254     0\n",
      "       ..\n",
      "4217    0\n",
      "4225    1\n",
      "4226    3\n",
      "4227    5\n",
      "4228    5\n",
      "Name: label, Length: 2749, dtype: int64\n",
      "Real Score: -1781.0344827586205\n",
      "HI\n",
      "HI\n",
      "HI\n",
      "HI\n",
      "HI\n",
      "\n",
      "model_13\n",
      "LinearDiscriminantAnalysis()\n",
      "['B_total_title_bouts', 'R_Heavyweight_rank', 'R_win_by_Decision_Majority', 'R_match_weightclass_rank', \"R_Women's Featherweight_rank\", 'B_Weight_lbs', 'B_total_rounds_fought', 'B_win_by_Decision_Split', 'B_Featherweight_rank', 'B_avg_SIG_STR_landed', 'B_current_win_streak', 'loss_dif', \"R_Women's Bantamweight_rank\", 'Red - SUB', 'B_Heavyweight_rank', 'R_odds', 'total_round_dif', 'R_win_by_TKO_Doctor_Stoppage', 'R_Flyweight_rank', 'Blue - SUB', 'B_Flyweight_rank', \"B_Women's Flyweight_rank\", 'B_Height_cms', 'B_age', \"B_Women's Strawweight_rank\", 'gender', 'R_draw', 'no_of_rounds', 'R_win_by_Decision_Split', 'total_title_bout_dif', 'R_losses', 'Blue - DEC', 'B_draw', 'age_dif', 'avg_sub_att_dif', 'avg_td_dif', 'B_avg_SUB_ATT', 'R_Reach_cms', 'R_wins', 'B_ev', 'sub_dif', 'R_ev', 'B_avg_TD_landed']\n",
      "0\n",
      "\n"
     ]
    },
    {
     "data": {
      "text/plain": [
       "(2749, 44)"
      ]
     },
     "metadata": {},
     "output_type": "display_data"
    },
    {
     "data": {
      "text/plain": [
       "(2749,)"
      ]
     },
     "metadata": {},
     "output_type": "display_data"
    },
    {
     "data": {
      "text/plain": [
       "(2749, 6)"
      ]
     },
     "metadata": {},
     "output_type": "display_data"
    },
    {
     "data": {
      "text/plain": [
       "(242, 44)"
      ]
     },
     "metadata": {},
     "output_type": "display_data"
    },
    {
     "data": {
      "text/plain": [
       "(242,)"
      ]
     },
     "metadata": {},
     "output_type": "display_data"
    },
    {
     "data": {
      "text/plain": [
       "(242, 6)"
      ]
     },
     "metadata": {},
     "output_type": "display_data"
    },
    {
     "name": "stdout",
     "output_type": "stream",
     "text": [
      "250     5\n",
      "251     3\n",
      "252     3\n",
      "253     5\n",
      "254     0\n",
      "       ..\n",
      "4217    0\n",
      "4225    1\n",
      "4226    3\n",
      "4227    5\n",
      "4228    5\n",
      "Name: label, Length: 2749, dtype: int64\n",
      "Real Score: -1781.0344827586205\n",
      "HI\n",
      "HI\n",
      "HI\n",
      "HI\n",
      "HI\n",
      "The original score is 18609.60307602957\n",
      "\n",
      "model_13\n",
      "LinearDiscriminantAnalysis()\n",
      "['B_total_title_bouts', 'R_Heavyweight_rank', 'R_win_by_Decision_Majority', 'R_match_weightclass_rank', \"R_Women's Featherweight_rank\", 'B_Weight_lbs', 'B_total_rounds_fought', 'B_win_by_Decision_Split', 'B_Featherweight_rank', 'B_avg_SIG_STR_landed', 'B_current_win_streak', 'loss_dif', \"R_Women's Bantamweight_rank\", 'Red - SUB', 'B_Heavyweight_rank', 'R_odds', 'total_round_dif', 'R_win_by_TKO_Doctor_Stoppage', 'R_Flyweight_rank', 'Blue - SUB', 'B_Flyweight_rank', \"B_Women's Flyweight_rank\", 'B_Height_cms', 'B_age', \"B_Women's Strawweight_rank\", 'gender', 'R_draw', 'no_of_rounds', 'R_win_by_Decision_Split', 'total_title_bout_dif', 'R_losses', 'Blue - DEC', 'B_draw', 'age_dif', 'avg_sub_att_dif', 'avg_td_dif', 'B_avg_SUB_ATT', 'R_Reach_cms', 'R_wins', 'B_ev', 'sub_dif', 'R_ev', 'B_avg_TD_landed']\n",
      "0\n",
      "\n"
     ]
    },
    {
     "data": {
      "text/plain": [
       "(2749, 44)"
      ]
     },
     "metadata": {},
     "output_type": "display_data"
    },
    {
     "data": {
      "text/plain": [
       "(2749,)"
      ]
     },
     "metadata": {},
     "output_type": "display_data"
    },
    {
     "data": {
      "text/plain": [
       "(2749, 6)"
      ]
     },
     "metadata": {},
     "output_type": "display_data"
    },
    {
     "data": {
      "text/plain": [
       "(242, 44)"
      ]
     },
     "metadata": {},
     "output_type": "display_data"
    },
    {
     "data": {
      "text/plain": [
       "(242,)"
      ]
     },
     "metadata": {},
     "output_type": "display_data"
    },
    {
     "data": {
      "text/plain": [
       "(242, 6)"
      ]
     },
     "metadata": {},
     "output_type": "display_data"
    },
    {
     "name": "stdout",
     "output_type": "stream",
     "text": [
      "250     5\n",
      "251     3\n",
      "252     3\n",
      "253     5\n",
      "254     0\n",
      "       ..\n",
      "4217    0\n",
      "4225    1\n",
      "4226    3\n",
      "4227    5\n",
      "4228    5\n",
      "Name: label, Length: 2749, dtype: int64\n",
      "Real Score: -1781.0344827586205\n",
      "HI\n",
      "HI\n",
      "HI\n",
      "HI\n",
      "HI\n",
      "\n",
      "\n",
      "OPTIMIZING MODEL 14\n",
      "\n",
      "\n",
      "model_14\n",
      "LogisticRegression(max_iter=50000, random_state=75, solver='newton-cg')\n",
      "['total_title_bout_dif', 'B_Middleweight_rank', 'R_Middleweight_rank', 'B_avg_SIG_STR_landed', 'R_avg_SUB_ATT', 'B_current_win_streak', 'B_Lightweight_rank', 'R_win_by_Decision_Unanimous', 'R_avg_SIG_STR_landed', 'B_win_by_TKO_Doctor_Stoppage', 'empty_arena', 'longest_win_streak_dif', 'B_Flyweight_rank', 'B_total_title_bouts', 'R_win_by_TKO_Doctor_Stoppage', 'R_current_lose_streak', 'R_draw', 'B_Light Heavyweight_rank', 'R_Welterweight_rank', \"B_Women's Flyweight_rank\", 'R_Lightweight_rank', 'R_total_rounds_fought', 'R_Light Heavyweight_rank', 'B_win_by_Decision_Split', 'R_Flyweight_rank', 'B_Welterweight_rank', 'no_of_rounds', 'R_total_title_bouts', 'gender', 'R_win_by_Decision_Split', 'Blue - SUB', 'Red - SUB', 'Blue - DEC', \"R_Women's Featherweight_rank\", 'B_draw', 'B_avg_SIG_STR_pct', 'age_dif', 'avg_sub_att_dif', 'avg_td_dif', 'B_avg_SUB_ATT', \"R_Women's Flyweight_rank\", 'R_Pound-for-Pound_rank', 'R_wins', 'R_Weight_lbs', 'sub_dif', 'R_ev', 'B_avg_TD_landed']\n",
      "0\n",
      "Current best score is: -859.0061656490407\n",
      "Feature: B_longest_win_streak Score: 305.1248114819382\n",
      "Feature: B_win_by_Decision_Unanimous Score: 1255.2888901723336\n",
      "Feature: R_avg_SIG_STR_pct Score: 3392.917236530171\n",
      "The best feature was R_avg_SIG_STR_pct.  It scored 3392.917236530171\n",
      "Current best score is: 3392.917236530171\n",
      "Feature: title_bout Score: 5069.917236530173\n",
      "Feature: B_total_rounds_fought Score: 7392.606436219374\n",
      "Feature: total_round_dif Score: 8042.606436219377\n",
      "The best feature was total_round_dif.  It scored 8042.606436219377\n",
      "Current best score is: 8042.606436219377\n",
      "NO IMPROVEMENT\n",
      "FINAL BEST SCORE: 8042.606436219377\n",
      "\n",
      "model_14\n",
      "LogisticRegression(max_iter=50000, random_state=75, solver='newton-cg')\n",
      "['total_round_dif', 'R_avg_SIG_STR_pct', 'total_title_bout_dif', 'B_Middleweight_rank', 'R_Middleweight_rank', 'B_avg_SIG_STR_landed', 'R_avg_SUB_ATT', 'B_current_win_streak', 'B_Lightweight_rank', 'R_win_by_Decision_Unanimous', 'R_avg_SIG_STR_landed', 'B_win_by_TKO_Doctor_Stoppage', 'empty_arena', 'longest_win_streak_dif', 'B_Flyweight_rank', 'B_total_title_bouts', 'R_win_by_TKO_Doctor_Stoppage', 'R_current_lose_streak', 'R_draw', 'B_Light Heavyweight_rank', 'R_Welterweight_rank', \"B_Women's Flyweight_rank\", 'R_Lightweight_rank', 'R_total_rounds_fought', 'R_Light Heavyweight_rank', 'B_win_by_Decision_Split', 'R_Flyweight_rank', 'B_Welterweight_rank', 'no_of_rounds', 'R_total_title_bouts', 'gender', 'R_win_by_Decision_Split', 'Blue - SUB', 'Red - SUB', 'Blue - DEC', \"R_Women's Featherweight_rank\", 'B_draw', 'B_avg_SIG_STR_pct', 'age_dif', 'avg_sub_att_dif', 'avg_td_dif', 'B_avg_SUB_ATT', \"R_Women's Flyweight_rank\", 'R_Pound-for-Pound_rank', 'R_wins', 'R_Weight_lbs', 'sub_dif', 'R_ev', 'B_avg_TD_landed']\n",
      "0\n",
      "\n"
     ]
    },
    {
     "data": {
      "text/plain": [
       "(2686, 50)"
      ]
     },
     "metadata": {},
     "output_type": "display_data"
    },
    {
     "data": {
      "text/plain": [
       "(2686,)"
      ]
     },
     "metadata": {},
     "output_type": "display_data"
    },
    {
     "data": {
      "text/plain": [
       "(2686, 6)"
      ]
     },
     "metadata": {},
     "output_type": "display_data"
    },
    {
     "data": {
      "text/plain": [
       "(242, 50)"
      ]
     },
     "metadata": {},
     "output_type": "display_data"
    },
    {
     "data": {
      "text/plain": [
       "(242,)"
      ]
     },
     "metadata": {},
     "output_type": "display_data"
    },
    {
     "data": {
      "text/plain": [
       "(242, 6)"
      ]
     },
     "metadata": {},
     "output_type": "display_data"
    },
    {
     "name": "stdout",
     "output_type": "stream",
     "text": [
      "250     5\n",
      "251     3\n",
      "252     3\n",
      "253     5\n",
      "254     0\n",
      "       ..\n",
      "4217    0\n",
      "4225    1\n",
      "4226    3\n",
      "4227    5\n",
      "4228    5\n",
      "Name: label, Length: 2686, dtype: int64\n",
      "Real Score: -3096.0344827586205\n",
      "HI\n",
      "HI\n",
      "HI\n",
      "HI\n",
      "HI\n",
      "\n",
      "\n",
      "Starting New Run for LogisticRegression\n",
      "\n",
      "\n",
      "Previous Best Score: 8042.606436219377\n",
      "solver: newton-cg penalty: l2 tol: 0.0001 Score: 8042.606436219377\n",
      "solver: newton-cg penalty: l2 tol: 0.00012 Score: 8042.606436219377\n",
      "solver: newton-cg penalty: l2 tol: 8e-05 Score: 8042.606436219377\n",
      "solver: newton-cg penalty: l2 tol: 0.4860414948740044 Score: 6918.606436219374\n",
      "solver: newton-cg penalty: none tol: 0.0001 Score: 5563.515527128466\n",
      "solver: newton-cg penalty: none tol: 0.00012 Score: 5563.515527128466\n",
      "solver: newton-cg penalty: none tol: 8e-05 Score: 5563.515527128466\n",
      "solver: newton-cg penalty: none tol: 0.4860414948740044 Score: 5897.606436219374\n",
      "solver: lbfgs penalty: l2 tol: 0.0001 Score: 8042.606436219377\n",
      "solver: lbfgs penalty: l2 tol: 0.00012 Score: 8042.606436219377\n",
      "solver: lbfgs penalty: l2 tol: 8e-05 Score: 8042.606436219377\n",
      "solver: lbfgs penalty: l2 tol: 0.4860414948740044 Score: 7523.606436219377\n",
      "solver: lbfgs penalty: none tol: 0.0001 Score: 5563.515527128466\n",
      "solver: lbfgs penalty: none tol: 0.00012 Score: 5563.515527128466\n",
      "solver: lbfgs penalty: none tol: 8e-05 Score: 5563.515527128466\n",
      "solver: lbfgs penalty: none tol: 0.4860414948740044 Score: 6043.515527128465\n",
      "solver: sag penalty: l2 tol: 0.0001 Score: 7842.606436219377\n",
      "solver: sag penalty: l2 tol: 0.00012 Score: 7942.606436219377\n",
      "solver: sag penalty: l2 tol: 8e-05 Score: 7842.606436219377\n",
      "solver: sag penalty: l2 tol: 0.4860414948740044 Score: -42335.51446402934\n",
      "solver: sag penalty: none tol: 0.0001 Score: 5763.515527128466\n",
      "solver: sag penalty: none tol: 0.00012 Score: 5763.515527128466\n",
      "solver: sag penalty: none tol: 8e-05 Score: 5663.515527128466\n",
      "solver: sag penalty: none tol: 0.4860414948740044 Score: -41535.51446402934\n",
      "Real output model: LogisticRegression(max_iter=50000, random_state=75, solver='newton-cg')\n",
      "\n",
      "model_14\n",
      "LogisticRegression(max_iter=50000, random_state=75, solver='newton-cg')\n",
      "['total_round_dif', 'R_avg_SIG_STR_pct', 'total_title_bout_dif', 'B_Middleweight_rank', 'R_Middleweight_rank', 'B_avg_SIG_STR_landed', 'R_avg_SUB_ATT', 'B_current_win_streak', 'B_Lightweight_rank', 'R_win_by_Decision_Unanimous', 'R_avg_SIG_STR_landed', 'B_win_by_TKO_Doctor_Stoppage', 'empty_arena', 'longest_win_streak_dif', 'B_Flyweight_rank', 'B_total_title_bouts', 'R_win_by_TKO_Doctor_Stoppage', 'R_current_lose_streak', 'R_draw', 'B_Light Heavyweight_rank', 'R_Welterweight_rank', \"B_Women's Flyweight_rank\", 'R_Lightweight_rank', 'R_total_rounds_fought', 'R_Light Heavyweight_rank', 'B_win_by_Decision_Split', 'R_Flyweight_rank', 'B_Welterweight_rank', 'no_of_rounds', 'R_total_title_bouts', 'gender', 'R_win_by_Decision_Split', 'Blue - SUB', 'Red - SUB', 'Blue - DEC', \"R_Women's Featherweight_rank\", 'B_draw', 'B_avg_SIG_STR_pct', 'age_dif', 'avg_sub_att_dif', 'avg_td_dif', 'B_avg_SUB_ATT', \"R_Women's Flyweight_rank\", 'R_Pound-for-Pound_rank', 'R_wins', 'R_Weight_lbs', 'sub_dif', 'R_ev', 'B_avg_TD_landed']\n",
      "0\n",
      "\n"
     ]
    },
    {
     "data": {
      "text/plain": [
       "(2686, 50)"
      ]
     },
     "metadata": {},
     "output_type": "display_data"
    },
    {
     "data": {
      "text/plain": [
       "(2686,)"
      ]
     },
     "metadata": {},
     "output_type": "display_data"
    },
    {
     "data": {
      "text/plain": [
       "(2686, 6)"
      ]
     },
     "metadata": {},
     "output_type": "display_data"
    },
    {
     "data": {
      "text/plain": [
       "(242, 50)"
      ]
     },
     "metadata": {},
     "output_type": "display_data"
    },
    {
     "data": {
      "text/plain": [
       "(242,)"
      ]
     },
     "metadata": {},
     "output_type": "display_data"
    },
    {
     "data": {
      "text/plain": [
       "(242, 6)"
      ]
     },
     "metadata": {},
     "output_type": "display_data"
    },
    {
     "name": "stdout",
     "output_type": "stream",
     "text": [
      "250     5\n",
      "251     3\n",
      "252     3\n",
      "253     5\n",
      "254     0\n",
      "       ..\n",
      "4217    0\n",
      "4225    1\n",
      "4226    3\n",
      "4227    5\n",
      "4228    5\n",
      "Name: label, Length: 2686, dtype: int64\n",
      "Real Score: -3096.0344827586205\n",
      "HI\n",
      "HI\n",
      "HI\n",
      "HI\n",
      "HI\n",
      "\n",
      "model_14\n",
      "LogisticRegression(max_iter=50000, random_state=75, solver='newton-cg')\n",
      "['total_round_dif', 'R_avg_SIG_STR_pct', 'total_title_bout_dif', 'B_Middleweight_rank', 'R_Middleweight_rank', 'B_avg_SIG_STR_landed', 'R_avg_SUB_ATT', 'B_current_win_streak', 'B_Lightweight_rank', 'R_win_by_Decision_Unanimous', 'R_avg_SIG_STR_landed', 'B_win_by_TKO_Doctor_Stoppage', 'empty_arena', 'longest_win_streak_dif', 'B_Flyweight_rank', 'B_total_title_bouts', 'R_win_by_TKO_Doctor_Stoppage', 'R_current_lose_streak', 'R_draw', 'B_Light Heavyweight_rank', 'R_Welterweight_rank', \"B_Women's Flyweight_rank\", 'R_Lightweight_rank', 'R_total_rounds_fought', 'R_Light Heavyweight_rank', 'B_win_by_Decision_Split', 'R_Flyweight_rank', 'B_Welterweight_rank', 'no_of_rounds', 'R_total_title_bouts', 'gender', 'R_win_by_Decision_Split', 'Blue - SUB', 'Red - SUB', 'Blue - DEC', \"R_Women's Featherweight_rank\", 'B_draw', 'B_avg_SIG_STR_pct', 'age_dif', 'avg_sub_att_dif', 'avg_td_dif', 'B_avg_SUB_ATT', \"R_Women's Flyweight_rank\", 'R_Pound-for-Pound_rank', 'R_wins', 'R_Weight_lbs', 'sub_dif', 'R_ev', 'B_avg_TD_landed']\n",
      "0\n",
      "\n"
     ]
    },
    {
     "data": {
      "text/plain": [
       "(2686, 50)"
      ]
     },
     "metadata": {},
     "output_type": "display_data"
    },
    {
     "data": {
      "text/plain": [
       "(2686,)"
      ]
     },
     "metadata": {},
     "output_type": "display_data"
    },
    {
     "data": {
      "text/plain": [
       "(2686, 6)"
      ]
     },
     "metadata": {},
     "output_type": "display_data"
    },
    {
     "data": {
      "text/plain": [
       "(242, 50)"
      ]
     },
     "metadata": {},
     "output_type": "display_data"
    },
    {
     "data": {
      "text/plain": [
       "(242,)"
      ]
     },
     "metadata": {},
     "output_type": "display_data"
    },
    {
     "data": {
      "text/plain": [
       "(242, 6)"
      ]
     },
     "metadata": {},
     "output_type": "display_data"
    },
    {
     "name": "stdout",
     "output_type": "stream",
     "text": [
      "250     5\n",
      "251     3\n",
      "252     3\n",
      "253     5\n",
      "254     0\n",
      "       ..\n",
      "4217    0\n",
      "4225    1\n",
      "4226    3\n",
      "4227    5\n",
      "4228    5\n",
      "Name: label, Length: 2686, dtype: int64\n",
      "Real Score: -3096.0344827586205\n",
      "HI\n",
      "HI\n",
      "HI\n",
      "HI\n",
      "HI\n",
      "The original score is 8042.606436219377\n",
      "NEW BEST FEATURE SET WITH: gender REMOVED 9544.236247849187\n",
      "NEW BEST FEATURE SET WITH: B_draw REMOVED 9646.1339644109\n",
      "The original score is 9646.1339644109\n",
      "NEW BEST FEATURE SET WITH: gender REMOVED 12133.854685131617\n",
      "The original score is 12133.854685131617\n",
      "NEW BEST FEATURE SET WITH: B_current_win_streak REMOVED 13409.31577688539\n",
      "The original score is 13409.31577688539\n",
      "NEW BEST FEATURE SET WITH: date REMOVED 13481.31577688539\n",
      "NEW BEST FEATURE SET WITH: title_bout REMOVED 14089.301571578504\n",
      "NEW BEST FEATURE SET WITH: B_current_win_streak REMOVED 15015.146464716083\n",
      "The original score is 15015.146464716083\n",
      "NEW BEST FEATURE SET WITH: date REMOVED 15300.146464716083\n",
      "The original score is 15300.146464716083\n",
      "\n",
      "model_14\n",
      "LogisticRegression(max_iter=50000, random_state=75, solver='newton-cg')\n",
      "['total_round_dif', 'R_avg_SIG_STR_pct', 'total_title_bout_dif', 'B_Middleweight_rank', 'R_Middleweight_rank', 'B_avg_SIG_STR_landed', 'B_current_win_streak', 'B_Lightweight_rank', 'R_win_by_Decision_Unanimous', 'R_avg_SIG_STR_landed', 'B_win_by_TKO_Doctor_Stoppage', 'longest_win_streak_dif', 'B_Flyweight_rank', 'B_total_title_bouts', 'B_Light Heavyweight_rank', 'R_Welterweight_rank', \"B_Women's Flyweight_rank\", 'R_Lightweight_rank', 'R_total_rounds_fought', 'R_Light Heavyweight_rank', 'B_win_by_Decision_Split', 'R_Flyweight_rank', 'B_Welterweight_rank', 'no_of_rounds', 'R_total_title_bouts', 'gender', 'R_win_by_Decision_Split', 'Blue - SUB', 'Red - SUB', 'Blue - DEC', \"R_Women's Featherweight_rank\", 'B_draw', 'B_avg_SIG_STR_pct', 'age_dif', 'avg_sub_att_dif', 'avg_td_dif', 'B_avg_SUB_ATT', \"R_Women's Flyweight_rank\", 'R_Pound-for-Pound_rank', 'R_wins', 'R_Weight_lbs', 'sub_dif', 'R_ev', 'B_avg_TD_landed']\n",
      "0\n",
      "\n"
     ]
    },
    {
     "data": {
      "text/plain": [
       "(2686, 45)"
      ]
     },
     "metadata": {},
     "output_type": "display_data"
    },
    {
     "data": {
      "text/plain": [
       "(2686,)"
      ]
     },
     "metadata": {},
     "output_type": "display_data"
    },
    {
     "data": {
      "text/plain": [
       "(2686, 6)"
      ]
     },
     "metadata": {},
     "output_type": "display_data"
    },
    {
     "data": {
      "text/plain": [
       "(242, 45)"
      ]
     },
     "metadata": {},
     "output_type": "display_data"
    },
    {
     "data": {
      "text/plain": [
       "(242,)"
      ]
     },
     "metadata": {},
     "output_type": "display_data"
    },
    {
     "data": {
      "text/plain": [
       "(242, 6)"
      ]
     },
     "metadata": {},
     "output_type": "display_data"
    },
    {
     "name": "stdout",
     "output_type": "stream",
     "text": [
      "250     5\n",
      "251     3\n",
      "252     3\n",
      "253     5\n",
      "254     0\n",
      "       ..\n",
      "4217    0\n",
      "4225    1\n",
      "4226    3\n",
      "4227    5\n",
      "4228    5\n",
      "Name: label, Length: 2686, dtype: int64\n",
      "Real Score: -2150.796387520525\n",
      "HI\n",
      "HI\n",
      "HI\n",
      "HI\n",
      "HI\n",
      "The features are different\n",
      "OLD:\n",
      "['total_round_dif', 'R_avg_SIG_STR_pct', 'total_title_bout_dif', 'B_Middleweight_rank', 'R_Middleweight_rank', 'B_avg_SIG_STR_landed', 'R_avg_SUB_ATT', 'B_current_win_streak', 'B_Lightweight_rank', 'R_win_by_Decision_Unanimous', 'R_avg_SIG_STR_landed', 'B_win_by_TKO_Doctor_Stoppage', 'empty_arena', 'longest_win_streak_dif', 'B_Flyweight_rank', 'B_total_title_bouts', 'R_win_by_TKO_Doctor_Stoppage', 'R_current_lose_streak', 'R_draw', 'B_Light Heavyweight_rank', 'R_Welterweight_rank', \"B_Women's Flyweight_rank\", 'R_Lightweight_rank', 'R_total_rounds_fought', 'R_Light Heavyweight_rank', 'B_win_by_Decision_Split', 'R_Flyweight_rank', 'B_Welterweight_rank', 'no_of_rounds', 'R_total_title_bouts', 'gender', 'R_win_by_Decision_Split', 'Blue - SUB', 'Red - SUB', 'Blue - DEC', \"R_Women's Featherweight_rank\", 'B_draw', 'B_avg_SIG_STR_pct', 'age_dif', 'avg_sub_att_dif', 'avg_td_dif', 'B_avg_SUB_ATT', \"R_Women's Flyweight_rank\", 'R_Pound-for-Pound_rank', 'R_wins', 'R_Weight_lbs', 'sub_dif', 'R_ev', 'B_avg_TD_landed']\n",
      "NEW:\n",
      "['total_round_dif', 'R_avg_SIG_STR_pct', 'total_title_bout_dif', 'B_Middleweight_rank', 'R_Middleweight_rank', 'B_avg_SIG_STR_landed', 'B_current_win_streak', 'B_Lightweight_rank', 'R_win_by_Decision_Unanimous', 'R_avg_SIG_STR_landed', 'B_win_by_TKO_Doctor_Stoppage', 'longest_win_streak_dif', 'B_Flyweight_rank', 'B_total_title_bouts', 'B_Light Heavyweight_rank', 'R_Welterweight_rank', \"B_Women's Flyweight_rank\", 'R_Lightweight_rank', 'R_total_rounds_fought', 'R_Light Heavyweight_rank', 'B_win_by_Decision_Split', 'R_Flyweight_rank', 'B_Welterweight_rank', 'no_of_rounds', 'R_total_title_bouts', 'gender', 'R_win_by_Decision_Split', 'Blue - SUB', 'Red - SUB', 'Blue - DEC', \"R_Women's Featherweight_rank\", 'B_draw', 'B_avg_SIG_STR_pct', 'age_dif', 'avg_sub_att_dif', 'avg_td_dif', 'B_avg_SUB_ATT', \"R_Women's Flyweight_rank\", 'R_Pound-for-Pound_rank', 'R_wins', 'R_Weight_lbs', 'sub_dif', 'R_ev', 'B_avg_TD_landed']\n",
      "Current best score is: 15300.146464716083\n",
      "Feature: B_total_rounds_fought Score: 15320.146464716083\n",
      "The best feature was B_total_rounds_fought.  It scored 15320.146464716083\n",
      "Current best score is: 15320.146464716083\n",
      "Feature: R_avg_SUB_ATT Score: 15666.146464716083\n",
      "Feature: sig_str_dif Score: 15866.146464716083\n",
      "The best feature was sig_str_dif.  It scored 15866.146464716083\n",
      "Current best score is: 15866.146464716083\n",
      "NO IMPROVEMENT\n",
      "FINAL BEST SCORE: 15866.146464716083\n",
      "\n",
      "model_14\n",
      "LogisticRegression(max_iter=50000, random_state=75, solver='newton-cg')\n",
      "['sig_str_dif', 'B_total_rounds_fought', 'total_round_dif', 'R_avg_SIG_STR_pct', 'total_title_bout_dif', 'B_Middleweight_rank', 'R_Middleweight_rank', 'B_avg_SIG_STR_landed', 'B_current_win_streak', 'B_Lightweight_rank', 'R_win_by_Decision_Unanimous', 'R_avg_SIG_STR_landed', 'B_win_by_TKO_Doctor_Stoppage', 'longest_win_streak_dif', 'B_Flyweight_rank', 'B_total_title_bouts', 'B_Light Heavyweight_rank', 'R_Welterweight_rank', \"B_Women's Flyweight_rank\", 'R_Lightweight_rank', 'R_total_rounds_fought', 'R_Light Heavyweight_rank', 'B_win_by_Decision_Split', 'R_Flyweight_rank', 'B_Welterweight_rank', 'no_of_rounds', 'R_total_title_bouts', 'gender', 'R_win_by_Decision_Split', 'Blue - SUB', 'Red - SUB', 'Blue - DEC', \"R_Women's Featherweight_rank\", 'B_draw', 'B_avg_SIG_STR_pct', 'age_dif', 'avg_sub_att_dif', 'avg_td_dif', 'B_avg_SUB_ATT', \"R_Women's Flyweight_rank\", 'R_Pound-for-Pound_rank', 'R_wins', 'R_Weight_lbs', 'sub_dif', 'R_ev', 'B_avg_TD_landed']\n",
      "0\n",
      "\n"
     ]
    },
    {
     "data": {
      "text/plain": [
       "(2686, 47)"
      ]
     },
     "metadata": {},
     "output_type": "display_data"
    },
    {
     "data": {
      "text/plain": [
       "(2686,)"
      ]
     },
     "metadata": {},
     "output_type": "display_data"
    },
    {
     "data": {
      "text/plain": [
       "(2686, 6)"
      ]
     },
     "metadata": {},
     "output_type": "display_data"
    },
    {
     "data": {
      "text/plain": [
       "(242, 47)"
      ]
     },
     "metadata": {},
     "output_type": "display_data"
    },
    {
     "data": {
      "text/plain": [
       "(242,)"
      ]
     },
     "metadata": {},
     "output_type": "display_data"
    },
    {
     "data": {
      "text/plain": [
       "(242, 6)"
      ]
     },
     "metadata": {},
     "output_type": "display_data"
    },
    {
     "name": "stdout",
     "output_type": "stream",
     "text": [
      "250     5\n",
      "251     3\n",
      "252     3\n",
      "253     5\n",
      "254     0\n",
      "       ..\n",
      "4217    0\n",
      "4225    1\n",
      "4226    3\n",
      "4227    5\n",
      "4228    5\n",
      "Name: label, Length: 2686, dtype: int64\n",
      "Real Score: -2150.796387520525\n",
      "HI\n",
      "HI\n",
      "HI\n",
      "HI\n",
      "HI\n",
      "\n",
      "\n",
      "Starting New Run for LogisticRegression\n",
      "\n",
      "\n",
      "Previous Best Score: 15866.146464716083\n",
      "solver: newton-cg penalty: l2 tol: 0.0001 Score: 15866.146464716083\n",
      "solver: newton-cg penalty: l2 tol: 0.00012 Score: 15866.146464716083\n",
      "solver: newton-cg penalty: l2 tol: 8e-05 Score: 15866.146464716083\n",
      "solver: newton-cg penalty: l2 tol: 0.4608561386666743 Score: 15372.908369477987\n",
      "solver: newton-cg penalty: none tol: 0.0001 Score: 12203.81746038708\n",
      "solver: newton-cg penalty: none tol: 0.00012 Score: 12203.81746038708\n",
      "solver: newton-cg penalty: none tol: 8e-05 Score: 12203.81746038708\n",
      "solver: newton-cg penalty: none tol: 0.4608561386666743 Score: 14029.81746038708\n",
      "solver: lbfgs penalty: l2 tol: 0.0001 Score: 15866.146464716083\n",
      "solver: lbfgs penalty: l2 tol: 0.00012 Score: 15866.146464716083\n",
      "solver: lbfgs penalty: l2 tol: 8e-05 Score: 15866.146464716083\n",
      "solver: lbfgs penalty: l2 tol: 0.4608561386666743 Score: 13384.223387793005\n",
      "solver: lbfgs penalty: none tol: 0.0001 Score: 12853.81746038708\n",
      "solver: lbfgs penalty: none tol: 0.00012 Score: 12853.81746038708\n",
      "solver: lbfgs penalty: none tol: 8e-05 Score: 12853.81746038708\n",
      "solver: lbfgs penalty: none tol: 0.4608561386666743 Score: 13683.125630477858\n",
      "solver: sag penalty: l2 tol: 0.0001 Score: 15866.146464716083\n",
      "solver: sag penalty: l2 tol: 0.00012 Score: 15866.146464716083\n",
      "solver: sag penalty: l2 tol: 8e-05 Score: 15866.146464716083\n",
      "solver: sag penalty: l2 tol: 0.4608561386666743 Score: -38436.23908774499\n",
      "solver: sag penalty: none tol: 0.0001 Score: 12303.81746038708\n",
      "solver: sag penalty: none tol: 0.00012 Score: 12399.055555625175\n",
      "solver: sag penalty: none tol: 8e-05 Score: 12203.81746038708\n",
      "solver: sag penalty: none tol: 0.4608561386666743 Score: -38716.23908774499\n",
      "Real output model: LogisticRegression(max_iter=50000, random_state=75, solver='newton-cg')\n",
      "\n",
      "model_14\n",
      "LogisticRegression(max_iter=50000, random_state=75, solver='newton-cg')\n",
      "['sig_str_dif', 'B_total_rounds_fought', 'total_round_dif', 'R_avg_SIG_STR_pct', 'total_title_bout_dif', 'B_Middleweight_rank', 'R_Middleweight_rank', 'B_avg_SIG_STR_landed', 'B_current_win_streak', 'B_Lightweight_rank', 'R_win_by_Decision_Unanimous', 'R_avg_SIG_STR_landed', 'B_win_by_TKO_Doctor_Stoppage', 'longest_win_streak_dif', 'B_Flyweight_rank', 'B_total_title_bouts', 'B_Light Heavyweight_rank', 'R_Welterweight_rank', \"B_Women's Flyweight_rank\", 'R_Lightweight_rank', 'R_total_rounds_fought', 'R_Light Heavyweight_rank', 'B_win_by_Decision_Split', 'R_Flyweight_rank', 'B_Welterweight_rank', 'no_of_rounds', 'R_total_title_bouts', 'gender', 'R_win_by_Decision_Split', 'Blue - SUB', 'Red - SUB', 'Blue - DEC', \"R_Women's Featherweight_rank\", 'B_draw', 'B_avg_SIG_STR_pct', 'age_dif', 'avg_sub_att_dif', 'avg_td_dif', 'B_avg_SUB_ATT', \"R_Women's Flyweight_rank\", 'R_Pound-for-Pound_rank', 'R_wins', 'R_Weight_lbs', 'sub_dif', 'R_ev', 'B_avg_TD_landed']\n",
      "0\n",
      "\n"
     ]
    },
    {
     "data": {
      "text/plain": [
       "(2686, 47)"
      ]
     },
     "metadata": {},
     "output_type": "display_data"
    },
    {
     "data": {
      "text/plain": [
       "(2686,)"
      ]
     },
     "metadata": {},
     "output_type": "display_data"
    },
    {
     "data": {
      "text/plain": [
       "(2686, 6)"
      ]
     },
     "metadata": {},
     "output_type": "display_data"
    },
    {
     "data": {
      "text/plain": [
       "(242, 47)"
      ]
     },
     "metadata": {},
     "output_type": "display_data"
    },
    {
     "data": {
      "text/plain": [
       "(242,)"
      ]
     },
     "metadata": {},
     "output_type": "display_data"
    },
    {
     "data": {
      "text/plain": [
       "(242, 6)"
      ]
     },
     "metadata": {},
     "output_type": "display_data"
    },
    {
     "name": "stdout",
     "output_type": "stream",
     "text": [
      "250     5\n",
      "251     3\n",
      "252     3\n",
      "253     5\n",
      "254     0\n",
      "       ..\n",
      "4217    0\n",
      "4225    1\n",
      "4226    3\n",
      "4227    5\n",
      "4228    5\n",
      "Name: label, Length: 2686, dtype: int64\n",
      "Real Score: -2150.796387520525\n",
      "HI\n",
      "HI\n",
      "HI\n",
      "HI\n",
      "HI\n",
      "\n",
      "model_14\n",
      "LogisticRegression(max_iter=50000, random_state=75, solver='newton-cg')\n",
      "['sig_str_dif', 'B_total_rounds_fought', 'total_round_dif', 'R_avg_SIG_STR_pct', 'total_title_bout_dif', 'B_Middleweight_rank', 'R_Middleweight_rank', 'B_avg_SIG_STR_landed', 'B_current_win_streak', 'B_Lightweight_rank', 'R_win_by_Decision_Unanimous', 'R_avg_SIG_STR_landed', 'B_win_by_TKO_Doctor_Stoppage', 'longest_win_streak_dif', 'B_Flyweight_rank', 'B_total_title_bouts', 'B_Light Heavyweight_rank', 'R_Welterweight_rank', \"B_Women's Flyweight_rank\", 'R_Lightweight_rank', 'R_total_rounds_fought', 'R_Light Heavyweight_rank', 'B_win_by_Decision_Split', 'R_Flyweight_rank', 'B_Welterweight_rank', 'no_of_rounds', 'R_total_title_bouts', 'gender', 'R_win_by_Decision_Split', 'Blue - SUB', 'Red - SUB', 'Blue - DEC', \"R_Women's Featherweight_rank\", 'B_draw', 'B_avg_SIG_STR_pct', 'age_dif', 'avg_sub_att_dif', 'avg_td_dif', 'B_avg_SUB_ATT', \"R_Women's Flyweight_rank\", 'R_Pound-for-Pound_rank', 'R_wins', 'R_Weight_lbs', 'sub_dif', 'R_ev', 'B_avg_TD_landed']\n",
      "0\n",
      "\n"
     ]
    },
    {
     "data": {
      "text/plain": [
       "(2686, 47)"
      ]
     },
     "metadata": {},
     "output_type": "display_data"
    },
    {
     "data": {
      "text/plain": [
       "(2686,)"
      ]
     },
     "metadata": {},
     "output_type": "display_data"
    },
    {
     "data": {
      "text/plain": [
       "(2686, 6)"
      ]
     },
     "metadata": {},
     "output_type": "display_data"
    },
    {
     "data": {
      "text/plain": [
       "(242, 47)"
      ]
     },
     "metadata": {},
     "output_type": "display_data"
    },
    {
     "data": {
      "text/plain": [
       "(242,)"
      ]
     },
     "metadata": {},
     "output_type": "display_data"
    },
    {
     "data": {
      "text/plain": [
       "(242, 6)"
      ]
     },
     "metadata": {},
     "output_type": "display_data"
    },
    {
     "name": "stdout",
     "output_type": "stream",
     "text": [
      "250     5\n",
      "251     3\n",
      "252     3\n",
      "253     5\n",
      "254     0\n",
      "       ..\n",
      "4217    0\n",
      "4225    1\n",
      "4226    3\n",
      "4227    5\n",
      "4228    5\n",
      "Name: label, Length: 2686, dtype: int64\n",
      "Real Score: -2150.796387520525\n",
      "HI\n",
      "HI\n",
      "HI\n",
      "HI\n",
      "HI\n",
      "The original score is 15866.146464716083\n",
      "\n",
      "model_14\n",
      "LogisticRegression(max_iter=50000, random_state=75, solver='newton-cg')\n",
      "['sig_str_dif', 'B_total_rounds_fought', 'total_round_dif', 'R_avg_SIG_STR_pct', 'total_title_bout_dif', 'B_Middleweight_rank', 'R_Middleweight_rank', 'B_avg_SIG_STR_landed', 'B_current_win_streak', 'B_Lightweight_rank', 'R_win_by_Decision_Unanimous', 'R_avg_SIG_STR_landed', 'B_win_by_TKO_Doctor_Stoppage', 'longest_win_streak_dif', 'B_Flyweight_rank', 'B_total_title_bouts', 'B_Light Heavyweight_rank', 'R_Welterweight_rank', \"B_Women's Flyweight_rank\", 'R_Lightweight_rank', 'R_total_rounds_fought', 'R_Light Heavyweight_rank', 'B_win_by_Decision_Split', 'R_Flyweight_rank', 'B_Welterweight_rank', 'no_of_rounds', 'R_total_title_bouts', 'gender', 'R_win_by_Decision_Split', 'Blue - SUB', 'Red - SUB', 'Blue - DEC', \"R_Women's Featherweight_rank\", 'B_draw', 'B_avg_SIG_STR_pct', 'age_dif', 'avg_sub_att_dif', 'avg_td_dif', 'B_avg_SUB_ATT', \"R_Women's Flyweight_rank\", 'R_Pound-for-Pound_rank', 'R_wins', 'R_Weight_lbs', 'sub_dif', 'R_ev', 'B_avg_TD_landed']\n",
      "0\n",
      "\n"
     ]
    },
    {
     "data": {
      "text/plain": [
       "(2686, 47)"
      ]
     },
     "metadata": {},
     "output_type": "display_data"
    },
    {
     "data": {
      "text/plain": [
       "(2686,)"
      ]
     },
     "metadata": {},
     "output_type": "display_data"
    },
    {
     "data": {
      "text/plain": [
       "(2686, 6)"
      ]
     },
     "metadata": {},
     "output_type": "display_data"
    },
    {
     "data": {
      "text/plain": [
       "(242, 47)"
      ]
     },
     "metadata": {},
     "output_type": "display_data"
    },
    {
     "data": {
      "text/plain": [
       "(242,)"
      ]
     },
     "metadata": {},
     "output_type": "display_data"
    },
    {
     "data": {
      "text/plain": [
       "(242, 6)"
      ]
     },
     "metadata": {},
     "output_type": "display_data"
    },
    {
     "name": "stdout",
     "output_type": "stream",
     "text": [
      "250     5\n",
      "251     3\n",
      "252     3\n",
      "253     5\n",
      "254     0\n",
      "       ..\n",
      "4217    0\n",
      "4225    1\n",
      "4226    3\n",
      "4227    5\n",
      "4228    5\n",
      "Name: label, Length: 2686, dtype: int64\n",
      "Real Score: -2150.796387520525\n",
      "HI\n",
      "HI\n",
      "HI\n",
      "HI\n",
      "HI\n",
      "\n",
      "\n",
      "OPTIMIZING MODEL 15\n",
      "\n",
      "\n",
      "model_15\n",
      "QuadraticDiscriminantAnalysis()\n",
      "['B_Bantamweight_rank', 'B_total_rounds_fought', 'R_win_by_Decision_Unanimous', 'B_Light Heavyweight_rank', 'total_round_dif', 'B_current_lose_streak', 'R_win_by_Submission', 'B_Weight_lbs', 'R_avg_TD_pct', 'B_Heavyweight_rank', 'B_Flyweight_rank', 'B_Height_cms', 'B_age', 'gender', 'B_total_title_bouts', 'R_draw', 'no_of_rounds', 'R_Featherweight_rank', 'total_title_bout_dif', 'B_win_by_Submission', 'Blue - DEC', 'B_draw', 'R_Middleweight_rank', 'B_avg_SIG_STR_pct', 'age_dif', 'avg_sub_att_dif', 'avg_td_dif', 'B_avg_SUB_ATT', \"R_Women's Flyweight_rank\", 'R_Reach_cms', 'R_wins', 'B_ev', 'R_Weight_lbs', 'sub_dif', 'R_ev', 'B_avg_TD_landed']\n",
      "0\n",
      "Current best score is: -59287.94220745589\n",
      "Feature: B_losses Score: -59152.642581253225\n",
      "Feature: B_win_by_Decision_Unanimous Score: -56105.05787902717\n",
      "Feature: R_losses Score: -55001.28467116463\n",
      "Feature: R_Stance Score: -52594.914987217926\n",
      "Feature: R_age Score: -45104.845961486084\n",
      "Feature: B_Women's Featherweight_rank Score: -42133.06654428856\n",
      "The best feature was B_Women's Featherweight_rank.  It scored -42133.06654428856\n",
      "Current best score is: -42133.06654428856\n",
      "Feature: B_Stance Score: -22808.58092834236\n",
      "The best feature was B_Stance.  It scored -22808.58092834236\n",
      "Current best score is: -22808.58092834236\n",
      "NO IMPROVEMENT\n",
      "FINAL BEST SCORE: -22808.58092834236\n",
      "\n",
      "model_15\n",
      "QuadraticDiscriminantAnalysis()\n",
      "['B_Stance', \"B_Women's Featherweight_rank\", 'B_Bantamweight_rank', 'B_total_rounds_fought', 'R_win_by_Decision_Unanimous', 'B_Light Heavyweight_rank', 'total_round_dif', 'B_current_lose_streak', 'R_win_by_Submission', 'B_Weight_lbs', 'R_avg_TD_pct', 'B_Heavyweight_rank', 'B_Flyweight_rank', 'B_Height_cms', 'B_age', 'gender', 'B_total_title_bouts', 'R_draw', 'no_of_rounds', 'R_Featherweight_rank', 'total_title_bout_dif', 'B_win_by_Submission', 'Blue - DEC', 'B_draw', 'R_Middleweight_rank', 'B_avg_SIG_STR_pct', 'age_dif', 'avg_sub_att_dif', 'avg_td_dif', 'B_avg_SUB_ATT', \"R_Women's Flyweight_rank\", 'R_Reach_cms', 'R_wins', 'B_ev', 'R_Weight_lbs', 'sub_dif', 'R_ev', 'B_avg_TD_landed']\n",
      "0\n",
      "\n"
     ]
    },
    {
     "data": {
      "text/plain": [
       "(2762, 41)"
      ]
     },
     "metadata": {},
     "output_type": "display_data"
    },
    {
     "data": {
      "text/plain": [
       "(2762,)"
      ]
     },
     "metadata": {},
     "output_type": "display_data"
    },
    {
     "data": {
      "text/plain": [
       "(2762, 6)"
      ]
     },
     "metadata": {},
     "output_type": "display_data"
    },
    {
     "data": {
      "text/plain": [
       "(240, 41)"
      ]
     },
     "metadata": {},
     "output_type": "display_data"
    },
    {
     "data": {
      "text/plain": [
       "(240,)"
      ]
     },
     "metadata": {},
     "output_type": "display_data"
    },
    {
     "data": {
      "text/plain": [
       "(240, 6)"
      ]
     },
     "metadata": {},
     "output_type": "display_data"
    },
    {
     "name": "stdout",
     "output_type": "stream",
     "text": [
      "250     5\n",
      "251     3\n",
      "252     3\n",
      "253     5\n",
      "254     0\n",
      "       ..\n",
      "4217    0\n",
      "4225    1\n",
      "4226    3\n",
      "4227    5\n",
      "4228    5\n",
      "Name: label, Length: 2762, dtype: int64\n",
      "Real Score: -5761.212348371269\n",
      "HI\n",
      "HI\n",
      "HI\n",
      "HI\n",
      "HI\n",
      "Real output model: QuadraticDiscriminantAnalysis()\n",
      "\n",
      "model_15\n",
      "QuadraticDiscriminantAnalysis()\n",
      "['B_Stance', \"B_Women's Featherweight_rank\", 'B_Bantamweight_rank', 'B_total_rounds_fought', 'R_win_by_Decision_Unanimous', 'B_Light Heavyweight_rank', 'total_round_dif', 'B_current_lose_streak', 'R_win_by_Submission', 'B_Weight_lbs', 'R_avg_TD_pct', 'B_Heavyweight_rank', 'B_Flyweight_rank', 'B_Height_cms', 'B_age', 'gender', 'B_total_title_bouts', 'R_draw', 'no_of_rounds', 'R_Featherweight_rank', 'total_title_bout_dif', 'B_win_by_Submission', 'Blue - DEC', 'B_draw', 'R_Middleweight_rank', 'B_avg_SIG_STR_pct', 'age_dif', 'avg_sub_att_dif', 'avg_td_dif', 'B_avg_SUB_ATT', \"R_Women's Flyweight_rank\", 'R_Reach_cms', 'R_wins', 'B_ev', 'R_Weight_lbs', 'sub_dif', 'R_ev', 'B_avg_TD_landed']\n",
      "0\n",
      "\n"
     ]
    },
    {
     "data": {
      "text/plain": [
       "(2762, 41)"
      ]
     },
     "metadata": {},
     "output_type": "display_data"
    },
    {
     "data": {
      "text/plain": [
       "(2762,)"
      ]
     },
     "metadata": {},
     "output_type": "display_data"
    },
    {
     "data": {
      "text/plain": [
       "(2762, 6)"
      ]
     },
     "metadata": {},
     "output_type": "display_data"
    },
    {
     "data": {
      "text/plain": [
       "(240, 41)"
      ]
     },
     "metadata": {},
     "output_type": "display_data"
    },
    {
     "data": {
      "text/plain": [
       "(240,)"
      ]
     },
     "metadata": {},
     "output_type": "display_data"
    },
    {
     "data": {
      "text/plain": [
       "(240, 6)"
      ]
     },
     "metadata": {},
     "output_type": "display_data"
    },
    {
     "name": "stdout",
     "output_type": "stream",
     "text": [
      "250     5\n",
      "251     3\n",
      "252     3\n",
      "253     5\n",
      "254     0\n",
      "       ..\n",
      "4217    0\n",
      "4225    1\n",
      "4226    3\n",
      "4227    5\n",
      "4228    5\n",
      "Name: label, Length: 2762, dtype: int64\n",
      "Real Score: -5761.212348371269\n",
      "HI\n",
      "HI\n",
      "HI\n",
      "HI\n",
      "HI\n",
      "\n",
      "model_15\n",
      "QuadraticDiscriminantAnalysis()\n",
      "['B_Stance', \"B_Women's Featherweight_rank\", 'B_Bantamweight_rank', 'B_total_rounds_fought', 'R_win_by_Decision_Unanimous', 'B_Light Heavyweight_rank', 'total_round_dif', 'B_current_lose_streak', 'R_win_by_Submission', 'B_Weight_lbs', 'R_avg_TD_pct', 'B_Heavyweight_rank', 'B_Flyweight_rank', 'B_Height_cms', 'B_age', 'gender', 'B_total_title_bouts', 'R_draw', 'no_of_rounds', 'R_Featherweight_rank', 'total_title_bout_dif', 'B_win_by_Submission', 'Blue - DEC', 'B_draw', 'R_Middleweight_rank', 'B_avg_SIG_STR_pct', 'age_dif', 'avg_sub_att_dif', 'avg_td_dif', 'B_avg_SUB_ATT', \"R_Women's Flyweight_rank\", 'R_Reach_cms', 'R_wins', 'B_ev', 'R_Weight_lbs', 'sub_dif', 'R_ev', 'B_avg_TD_landed']\n",
      "0\n",
      "\n"
     ]
    },
    {
     "data": {
      "text/plain": [
       "(2762, 41)"
      ]
     },
     "metadata": {},
     "output_type": "display_data"
    },
    {
     "data": {
      "text/plain": [
       "(2762,)"
      ]
     },
     "metadata": {},
     "output_type": "display_data"
    },
    {
     "data": {
      "text/plain": [
       "(2762, 6)"
      ]
     },
     "metadata": {},
     "output_type": "display_data"
    },
    {
     "data": {
      "text/plain": [
       "(240, 41)"
      ]
     },
     "metadata": {},
     "output_type": "display_data"
    },
    {
     "data": {
      "text/plain": [
       "(240,)"
      ]
     },
     "metadata": {},
     "output_type": "display_data"
    },
    {
     "data": {
      "text/plain": [
       "(240, 6)"
      ]
     },
     "metadata": {},
     "output_type": "display_data"
    },
    {
     "name": "stdout",
     "output_type": "stream",
     "text": [
      "250     5\n",
      "251     3\n",
      "252     3\n",
      "253     5\n",
      "254     0\n",
      "       ..\n",
      "4217    0\n",
      "4225    1\n",
      "4226    3\n",
      "4227    5\n",
      "4228    5\n",
      "Name: label, Length: 2762, dtype: int64\n",
      "Real Score: -5761.212348371269\n",
      "HI\n",
      "HI\n",
      "HI\n",
      "HI\n",
      "HI\n",
      "The original score is -22808.58092834236\n",
      "NEW BEST FEATURE SET WITH: B_win_by_Submission REMOVED -18098.786732627574\n",
      "The original score is -18098.786732627574\n",
      "\n",
      "model_15\n",
      "QuadraticDiscriminantAnalysis()\n",
      "['B_Stance', \"B_Women's Featherweight_rank\", 'B_Bantamweight_rank', 'B_total_rounds_fought', 'R_win_by_Decision_Unanimous', 'B_Light Heavyweight_rank', 'total_round_dif', 'B_current_lose_streak', 'R_win_by_Submission', 'B_Weight_lbs', 'R_avg_TD_pct', 'B_Heavyweight_rank', 'B_Flyweight_rank', 'B_Height_cms', 'B_age', 'gender', 'B_total_title_bouts', 'R_draw', 'no_of_rounds', 'R_Featherweight_rank', 'total_title_bout_dif', 'B_win_by_Submission', 'Blue - DEC', 'B_draw', 'R_Middleweight_rank', 'B_avg_SIG_STR_pct', 'age_dif', 'avg_sub_att_dif', 'avg_td_dif', 'B_avg_SUB_ATT', 'R_Reach_cms', 'R_wins', 'B_ev', 'R_Weight_lbs', 'sub_dif', 'R_ev', 'B_avg_TD_landed']\n",
      "0\n",
      "\n"
     ]
    },
    {
     "data": {
      "text/plain": [
       "(2762, 40)"
      ]
     },
     "metadata": {},
     "output_type": "display_data"
    },
    {
     "data": {
      "text/plain": [
       "(2762,)"
      ]
     },
     "metadata": {},
     "output_type": "display_data"
    },
    {
     "data": {
      "text/plain": [
       "(2762, 6)"
      ]
     },
     "metadata": {},
     "output_type": "display_data"
    },
    {
     "data": {
      "text/plain": [
       "(240, 40)"
      ]
     },
     "metadata": {},
     "output_type": "display_data"
    },
    {
     "data": {
      "text/plain": [
       "(240,)"
      ]
     },
     "metadata": {},
     "output_type": "display_data"
    },
    {
     "data": {
      "text/plain": [
       "(240, 6)"
      ]
     },
     "metadata": {},
     "output_type": "display_data"
    },
    {
     "name": "stdout",
     "output_type": "stream",
     "text": [
      "250     5\n",
      "251     3\n",
      "252     3\n",
      "253     5\n",
      "254     0\n",
      "       ..\n",
      "4217    0\n",
      "4225    1\n",
      "4226    3\n",
      "4227    5\n",
      "4228    5\n",
      "Name: label, Length: 2762, dtype: int64\n",
      "Real Score: -4092.3400673400665\n",
      "HI\n",
      "HI\n",
      "HI\n",
      "HI\n",
      "HI\n",
      "The features are different\n",
      "OLD:\n",
      "['B_Stance', \"B_Women's Featherweight_rank\", 'B_Bantamweight_rank', 'B_total_rounds_fought', 'R_win_by_Decision_Unanimous', 'B_Light Heavyweight_rank', 'total_round_dif', 'B_current_lose_streak', 'R_win_by_Submission', 'B_Weight_lbs', 'R_avg_TD_pct', 'B_Heavyweight_rank', 'B_Flyweight_rank', 'B_Height_cms', 'B_age', 'gender', 'B_total_title_bouts', 'R_draw', 'no_of_rounds', 'R_Featherweight_rank', 'total_title_bout_dif', 'B_win_by_Submission', 'Blue - DEC', 'B_draw', 'R_Middleweight_rank', 'B_avg_SIG_STR_pct', 'age_dif', 'avg_sub_att_dif', 'avg_td_dif', 'B_avg_SUB_ATT', \"R_Women's Flyweight_rank\", 'R_Reach_cms', 'R_wins', 'B_ev', 'R_Weight_lbs', 'sub_dif', 'R_ev', 'B_avg_TD_landed']\n",
      "NEW:\n",
      "['B_Stance', \"B_Women's Featherweight_rank\", 'B_Bantamweight_rank', 'B_total_rounds_fought', 'R_win_by_Decision_Unanimous', 'B_Light Heavyweight_rank', 'total_round_dif', 'B_current_lose_streak', 'R_win_by_Submission', 'B_Weight_lbs', 'R_avg_TD_pct', 'B_Heavyweight_rank', 'B_Flyweight_rank', 'B_Height_cms', 'B_age', 'gender', 'B_total_title_bouts', 'R_draw', 'no_of_rounds', 'R_Featherweight_rank', 'total_title_bout_dif', 'B_win_by_Submission', 'Blue - DEC', 'B_draw', 'R_Middleweight_rank', 'B_avg_SIG_STR_pct', 'age_dif', 'avg_sub_att_dif', 'avg_td_dif', 'B_avg_SUB_ATT', 'R_Reach_cms', 'R_wins', 'B_ev', 'R_Weight_lbs', 'sub_dif', 'R_ev', 'B_avg_TD_landed']\n",
      "Current best score is: -18098.786732627574\n",
      "NO IMPROVEMENT\n",
      "FINAL BEST SCORE: -18098.786732627574\n",
      "\n",
      "model_15\n",
      "QuadraticDiscriminantAnalysis()\n",
      "['B_Stance', \"B_Women's Featherweight_rank\", 'B_Bantamweight_rank', 'B_total_rounds_fought', 'R_win_by_Decision_Unanimous', 'B_Light Heavyweight_rank', 'total_round_dif', 'B_current_lose_streak', 'R_win_by_Submission', 'B_Weight_lbs', 'R_avg_TD_pct', 'B_Heavyweight_rank', 'B_Flyweight_rank', 'B_Height_cms', 'B_age', 'gender', 'B_total_title_bouts', 'R_draw', 'no_of_rounds', 'R_Featherweight_rank', 'total_title_bout_dif', 'B_win_by_Submission', 'Blue - DEC', 'B_draw', 'R_Middleweight_rank', 'B_avg_SIG_STR_pct', 'age_dif', 'avg_sub_att_dif', 'avg_td_dif', 'B_avg_SUB_ATT', 'R_Reach_cms', 'R_wins', 'B_ev', 'R_Weight_lbs', 'sub_dif', 'R_ev', 'B_avg_TD_landed']\n",
      "0\n",
      "\n"
     ]
    },
    {
     "data": {
      "text/plain": [
       "(2762, 40)"
      ]
     },
     "metadata": {},
     "output_type": "display_data"
    },
    {
     "data": {
      "text/plain": [
       "(2762,)"
      ]
     },
     "metadata": {},
     "output_type": "display_data"
    },
    {
     "data": {
      "text/plain": [
       "(2762, 6)"
      ]
     },
     "metadata": {},
     "output_type": "display_data"
    },
    {
     "data": {
      "text/plain": [
       "(240, 40)"
      ]
     },
     "metadata": {},
     "output_type": "display_data"
    },
    {
     "data": {
      "text/plain": [
       "(240,)"
      ]
     },
     "metadata": {},
     "output_type": "display_data"
    },
    {
     "data": {
      "text/plain": [
       "(240, 6)"
      ]
     },
     "metadata": {},
     "output_type": "display_data"
    },
    {
     "name": "stdout",
     "output_type": "stream",
     "text": [
      "250     5\n",
      "251     3\n",
      "252     3\n",
      "253     5\n",
      "254     0\n",
      "       ..\n",
      "4217    0\n",
      "4225    1\n",
      "4226    3\n",
      "4227    5\n",
      "4228    5\n",
      "Name: label, Length: 2762, dtype: int64\n",
      "Real Score: -4092.3400673400665\n",
      "HI\n",
      "HI\n",
      "HI\n",
      "HI\n",
      "HI\n",
      "Real output model: QuadraticDiscriminantAnalysis()\n",
      "\n",
      "model_15\n",
      "QuadraticDiscriminantAnalysis()\n",
      "['B_Stance', \"B_Women's Featherweight_rank\", 'B_Bantamweight_rank', 'B_total_rounds_fought', 'R_win_by_Decision_Unanimous', 'B_Light Heavyweight_rank', 'total_round_dif', 'B_current_lose_streak', 'R_win_by_Submission', 'B_Weight_lbs', 'R_avg_TD_pct', 'B_Heavyweight_rank', 'B_Flyweight_rank', 'B_Height_cms', 'B_age', 'gender', 'B_total_title_bouts', 'R_draw', 'no_of_rounds', 'R_Featherweight_rank', 'total_title_bout_dif', 'B_win_by_Submission', 'Blue - DEC', 'B_draw', 'R_Middleweight_rank', 'B_avg_SIG_STR_pct', 'age_dif', 'avg_sub_att_dif', 'avg_td_dif', 'B_avg_SUB_ATT', 'R_Reach_cms', 'R_wins', 'B_ev', 'R_Weight_lbs', 'sub_dif', 'R_ev', 'B_avg_TD_landed']\n",
      "0\n",
      "\n"
     ]
    },
    {
     "data": {
      "text/plain": [
       "(2762, 40)"
      ]
     },
     "metadata": {},
     "output_type": "display_data"
    },
    {
     "data": {
      "text/plain": [
       "(2762,)"
      ]
     },
     "metadata": {},
     "output_type": "display_data"
    },
    {
     "data": {
      "text/plain": [
       "(2762, 6)"
      ]
     },
     "metadata": {},
     "output_type": "display_data"
    },
    {
     "data": {
      "text/plain": [
       "(240, 40)"
      ]
     },
     "metadata": {},
     "output_type": "display_data"
    },
    {
     "data": {
      "text/plain": [
       "(240,)"
      ]
     },
     "metadata": {},
     "output_type": "display_data"
    },
    {
     "data": {
      "text/plain": [
       "(240, 6)"
      ]
     },
     "metadata": {},
     "output_type": "display_data"
    },
    {
     "name": "stdout",
     "output_type": "stream",
     "text": [
      "250     5\n",
      "251     3\n",
      "252     3\n",
      "253     5\n",
      "254     0\n",
      "       ..\n",
      "4217    0\n",
      "4225    1\n",
      "4226    3\n",
      "4227    5\n",
      "4228    5\n",
      "Name: label, Length: 2762, dtype: int64\n",
      "Real Score: -4092.3400673400665\n",
      "HI\n",
      "HI\n",
      "HI\n",
      "HI\n",
      "HI\n",
      "\n",
      "model_15\n",
      "QuadraticDiscriminantAnalysis()\n",
      "['B_Stance', \"B_Women's Featherweight_rank\", 'B_Bantamweight_rank', 'B_total_rounds_fought', 'R_win_by_Decision_Unanimous', 'B_Light Heavyweight_rank', 'total_round_dif', 'B_current_lose_streak', 'R_win_by_Submission', 'B_Weight_lbs', 'R_avg_TD_pct', 'B_Heavyweight_rank', 'B_Flyweight_rank', 'B_Height_cms', 'B_age', 'gender', 'B_total_title_bouts', 'R_draw', 'no_of_rounds', 'R_Featherweight_rank', 'total_title_bout_dif', 'B_win_by_Submission', 'Blue - DEC', 'B_draw', 'R_Middleweight_rank', 'B_avg_SIG_STR_pct', 'age_dif', 'avg_sub_att_dif', 'avg_td_dif', 'B_avg_SUB_ATT', 'R_Reach_cms', 'R_wins', 'B_ev', 'R_Weight_lbs', 'sub_dif', 'R_ev', 'B_avg_TD_landed']\n",
      "0\n",
      "\n"
     ]
    },
    {
     "data": {
      "text/plain": [
       "(2762, 40)"
      ]
     },
     "metadata": {},
     "output_type": "display_data"
    },
    {
     "data": {
      "text/plain": [
       "(2762,)"
      ]
     },
     "metadata": {},
     "output_type": "display_data"
    },
    {
     "data": {
      "text/plain": [
       "(2762, 6)"
      ]
     },
     "metadata": {},
     "output_type": "display_data"
    },
    {
     "data": {
      "text/plain": [
       "(240, 40)"
      ]
     },
     "metadata": {},
     "output_type": "display_data"
    },
    {
     "data": {
      "text/plain": [
       "(240,)"
      ]
     },
     "metadata": {},
     "output_type": "display_data"
    },
    {
     "data": {
      "text/plain": [
       "(240, 6)"
      ]
     },
     "metadata": {},
     "output_type": "display_data"
    },
    {
     "name": "stdout",
     "output_type": "stream",
     "text": [
      "250     5\n",
      "251     3\n",
      "252     3\n",
      "253     5\n",
      "254     0\n",
      "       ..\n",
      "4217    0\n",
      "4225    1\n",
      "4226    3\n",
      "4227    5\n",
      "4228    5\n",
      "Name: label, Length: 2762, dtype: int64\n",
      "Real Score: -4092.3400673400665\n",
      "HI\n",
      "HI\n",
      "HI\n",
      "HI\n",
      "HI\n",
      "The original score is -18098.786732627574\n",
      "\n",
      "model_15\n",
      "QuadraticDiscriminantAnalysis()\n",
      "['B_Stance', \"B_Women's Featherweight_rank\", 'B_Bantamweight_rank', 'B_total_rounds_fought', 'R_win_by_Decision_Unanimous', 'B_Light Heavyweight_rank', 'total_round_dif', 'B_current_lose_streak', 'R_win_by_Submission', 'B_Weight_lbs', 'R_avg_TD_pct', 'B_Heavyweight_rank', 'B_Flyweight_rank', 'B_Height_cms', 'B_age', 'gender', 'B_total_title_bouts', 'R_draw', 'no_of_rounds', 'R_Featherweight_rank', 'total_title_bout_dif', 'B_win_by_Submission', 'Blue - DEC', 'B_draw', 'R_Middleweight_rank', 'B_avg_SIG_STR_pct', 'age_dif', 'avg_sub_att_dif', 'avg_td_dif', 'B_avg_SUB_ATT', 'R_Reach_cms', 'R_wins', 'B_ev', 'R_Weight_lbs', 'sub_dif', 'R_ev', 'B_avg_TD_landed']\n",
      "0\n",
      "\n"
     ]
    },
    {
     "data": {
      "text/plain": [
       "(2762, 40)"
      ]
     },
     "metadata": {},
     "output_type": "display_data"
    },
    {
     "data": {
      "text/plain": [
       "(2762,)"
      ]
     },
     "metadata": {},
     "output_type": "display_data"
    },
    {
     "data": {
      "text/plain": [
       "(2762, 6)"
      ]
     },
     "metadata": {},
     "output_type": "display_data"
    },
    {
     "data": {
      "text/plain": [
       "(240, 40)"
      ]
     },
     "metadata": {},
     "output_type": "display_data"
    },
    {
     "data": {
      "text/plain": [
       "(240,)"
      ]
     },
     "metadata": {},
     "output_type": "display_data"
    },
    {
     "data": {
      "text/plain": [
       "(240, 6)"
      ]
     },
     "metadata": {},
     "output_type": "display_data"
    },
    {
     "name": "stdout",
     "output_type": "stream",
     "text": [
      "250     5\n",
      "251     3\n",
      "252     3\n",
      "253     5\n",
      "254     0\n",
      "       ..\n",
      "4217    0\n",
      "4225    1\n",
      "4226    3\n",
      "4227    5\n",
      "4228    5\n",
      "Name: label, Length: 2762, dtype: int64\n",
      "Real Score: -4092.3400673400665\n",
      "HI\n",
      "HI\n",
      "HI\n",
      "HI\n",
      "HI\n",
      "\n",
      "\n",
      "OPTIMIZING MODEL 16\n",
      "\n",
      "\n",
      "model_16\n",
      "SVC(C=0.7217100000000002, probability=True, random_state=75,\n",
      "    tol=0.1729126124222602)\n",
      "['B_Featherweight_rank', 'R_total_title_bouts', 'R_total_rounds_fought', 'Red - KO/TKO', 'R_Pound-for-Pound_rank', \"B_Women's Flyweight_rank\", 'R_Flyweight_rank', 'B_win_by_Decision_Split', 'B_age', 'Red - DEC', 'Blue - SUB', 'gender', 'Red - SUB', 'B_Pound-for-Pound_rank', 'R_draw', 'R_avg_SUB_ATT', 'R_Welterweight_rank', 'B_win_by_KO/TKO', 'R_current_lose_streak', 'B_Height_cms', 'R_longest_win_streak', 'R_win_by_Decision_Unanimous', 'R_avg_TD_pct', \"R_Women's Featherweight_rank\", 'B_Lightweight_rank', 'R_Featherweight_rank', 'R_Light Heavyweight_rank', 'total_title_bout_dif', 'B_win_by_Submission', 'Blue - DEC', 'B_draw', 'B_avg_SIG_STR_pct', 'age_dif', 'avg_sub_att_dif', 'avg_td_dif', 'B_avg_SUB_ATT', \"R_Women's Flyweight_rank\", 'R_wins', 'B_ev', 'R_Weight_lbs', 'sub_dif', 'R_ev']\n",
      "0\n",
      "Current best score is: -34599.57518381238\n",
      "Feature: R_odds Score: -28430.754670991864\n",
      "Feature: R_age Score: -28337.575183812376\n",
      "The best feature was R_age.  It scored -28337.575183812376\n",
      "Current best score is: -28337.575183812376\n",
      "Feature: R_odds Score: -27068.575183812376\n",
      "Feature: B_odds Score: -24143.48427472147\n",
      "Feature: B_Stance Score: -22859.666092903288\n",
      "The best feature was B_Stance.  It scored -22859.666092903288\n",
      "Current best score is: -22859.666092903288\n",
      "Feature: B_odds Score: -21705.84558008278\n",
      "Feature: R_current_win_streak Score: -21401.666092903284\n",
      "The best feature was R_current_win_streak.  It scored -21401.666092903284\n",
      "Current best score is: -21401.666092903284\n",
      "Feature: B_odds Score: -20208.666092903288\n",
      "Feature: empty_arena Score: -16821.666092903284\n",
      "The best feature was empty_arena.  It scored -16821.666092903284\n",
      "Current best score is: -16821.666092903284\n",
      "Feature: no_of_rounds Score: -16554.038554866573\n",
      "Feature: B_longest_win_streak Score: -16521.957033127448\n",
      "Feature: R_win_by_KO/TKO Score: -13358.754670991866\n",
      "The best feature was R_win_by_KO/TKO.  It scored -13358.754670991866\n",
      "Current best score is: -13358.754670991866\n",
      "NO IMPROVEMENT\n",
      "FINAL BEST SCORE: -13358.754670991866\n",
      "\n",
      "model_16\n",
      "SVC(C=0.7217100000000002, probability=True, random_state=75,\n",
      "    tol=0.1729126124222602)\n",
      "['R_win_by_KO/TKO', 'empty_arena', 'R_current_win_streak', 'B_Stance', 'R_age', 'B_Featherweight_rank', 'R_total_title_bouts', 'R_total_rounds_fought', 'Red - KO/TKO', 'R_Pound-for-Pound_rank', \"B_Women's Flyweight_rank\", 'R_Flyweight_rank', 'B_win_by_Decision_Split', 'B_age', 'Red - DEC', 'Blue - SUB', 'gender', 'Red - SUB', 'B_Pound-for-Pound_rank', 'R_draw', 'R_avg_SUB_ATT', 'R_Welterweight_rank', 'B_win_by_KO/TKO', 'R_current_lose_streak', 'B_Height_cms', 'R_longest_win_streak', 'R_win_by_Decision_Unanimous', 'R_avg_TD_pct', \"R_Women's Featherweight_rank\", 'B_Lightweight_rank', 'R_Featherweight_rank', 'R_Light Heavyweight_rank', 'total_title_bout_dif', 'B_win_by_Submission', 'Blue - DEC', 'B_draw', 'B_avg_SIG_STR_pct', 'age_dif', 'avg_sub_att_dif', 'avg_td_dif', 'B_avg_SUB_ATT', \"R_Women's Flyweight_rank\", 'R_wins', 'B_ev', 'R_Weight_lbs', 'sub_dif', 'R_ev']\n",
      "0\n",
      "\n"
     ]
    },
    {
     "data": {
      "text/plain": [
       "(2762, 50)"
      ]
     },
     "metadata": {},
     "output_type": "display_data"
    },
    {
     "data": {
      "text/plain": [
       "(2762,)"
      ]
     },
     "metadata": {},
     "output_type": "display_data"
    },
    {
     "data": {
      "text/plain": [
       "(2762, 6)"
      ]
     },
     "metadata": {},
     "output_type": "display_data"
    },
    {
     "data": {
      "text/plain": [
       "(240, 50)"
      ]
     },
     "metadata": {},
     "output_type": "display_data"
    },
    {
     "data": {
      "text/plain": [
       "(240,)"
      ]
     },
     "metadata": {},
     "output_type": "display_data"
    },
    {
     "data": {
      "text/plain": [
       "(240, 6)"
      ]
     },
     "metadata": {},
     "output_type": "display_data"
    },
    {
     "name": "stdout",
     "output_type": "stream",
     "text": [
      "250     5\n",
      "251     3\n",
      "252     3\n",
      "253     5\n",
      "254     0\n",
      "       ..\n",
      "4217    0\n",
      "4225    1\n",
      "4226    3\n",
      "4227    5\n",
      "4228    5\n",
      "Name: label, Length: 2762, dtype: int64\n",
      "Real Score: 170.0\n",
      "HI\n",
      "HI\n",
      "HI\n",
      "HI\n",
      "HI\n",
      "\n",
      "\n",
      "Starting New Run for SVC\n",
      "\n",
      "\n",
      "Previous Best Score: -13358.754670991866\n",
      "C:  0.7217100000000002 tol:  0.1729126124222602 Score:  -13358.754670991866\n",
      "C:  0.7217100000000002 tol:  0.19020387366448624 Score:  -18166.845580082772\n",
      "C:  0.7217100000000002 tol:  0.15562135118003417 Score:  -16066.84558008277\n",
      "C:  0.7217100000000002 tol:  0.34634838180543204 Score:  -18657.421337658532\n",
      "C:  0.7938810000000003 tol:  0.1729126124222602 Score:  -19247.666092903288\n",
      "C:  0.7938810000000003 tol:  0.19020387366448624 Score:  -18708.35242939784\n",
      "C:  0.7938810000000003 tol:  0.15562135118003417 Score:  -16241.512246749437\n",
      "C:  0.7938810000000003 tol:  0.34634838180543204 Score:  -18854.9281869736\n",
      "C:  0.6495390000000002 tol:  0.1729126124222602 Score:  -18265.999426236624\n",
      "C:  0.6495390000000002 tol:  0.19020387366448624 Score:  -20827.999426236624\n",
      "C:  0.6495390000000002 tol:  0.15562135118003417 Score:  -18762.666092903288\n",
      "C:  0.6495390000000002 tol:  0.34634838180543204 Score:  -23549.41536646078\n",
      "C:  824.0752681060906 tol:  0.1729126124222602 Score:  -123351.9900990099\n",
      "C:  824.0752681060906 tol:  0.19020387366448624 Score:  -124074.9900990099\n",
      "C:  824.0752681060906 tol:  0.15562135118003417 Score:  -123429.9900990099\n",
      "C:  824.0752681060906 tol:  0.34634838180543204 Score:  -120439.9900990099\n",
      "Real output model: SVC(C=0.7217100000000002, probability=True, random_state=75,\n",
      "    tol=0.1729126124222602)\n",
      "\n",
      "model_16\n",
      "SVC(C=0.7217100000000002, probability=True, random_state=75,\n",
      "    tol=0.1729126124222602)\n",
      "['R_win_by_KO/TKO', 'empty_arena', 'R_current_win_streak', 'B_Stance', 'R_age', 'B_Featherweight_rank', 'R_total_title_bouts', 'R_total_rounds_fought', 'Red - KO/TKO', 'R_Pound-for-Pound_rank', \"B_Women's Flyweight_rank\", 'R_Flyweight_rank', 'B_win_by_Decision_Split', 'B_age', 'Red - DEC', 'Blue - SUB', 'gender', 'Red - SUB', 'B_Pound-for-Pound_rank', 'R_draw', 'R_avg_SUB_ATT', 'R_Welterweight_rank', 'B_win_by_KO/TKO', 'R_current_lose_streak', 'B_Height_cms', 'R_longest_win_streak', 'R_win_by_Decision_Unanimous', 'R_avg_TD_pct', \"R_Women's Featherweight_rank\", 'B_Lightweight_rank', 'R_Featherweight_rank', 'R_Light Heavyweight_rank', 'total_title_bout_dif', 'B_win_by_Submission', 'Blue - DEC', 'B_draw', 'B_avg_SIG_STR_pct', 'age_dif', 'avg_sub_att_dif', 'avg_td_dif', 'B_avg_SUB_ATT', \"R_Women's Flyweight_rank\", 'R_wins', 'B_ev', 'R_Weight_lbs', 'sub_dif', 'R_ev']\n",
      "0\n",
      "\n"
     ]
    },
    {
     "data": {
      "text/plain": [
       "(2762, 50)"
      ]
     },
     "metadata": {},
     "output_type": "display_data"
    },
    {
     "data": {
      "text/plain": [
       "(2762,)"
      ]
     },
     "metadata": {},
     "output_type": "display_data"
    },
    {
     "data": {
      "text/plain": [
       "(2762, 6)"
      ]
     },
     "metadata": {},
     "output_type": "display_data"
    },
    {
     "data": {
      "text/plain": [
       "(240, 50)"
      ]
     },
     "metadata": {},
     "output_type": "display_data"
    },
    {
     "data": {
      "text/plain": [
       "(240,)"
      ]
     },
     "metadata": {},
     "output_type": "display_data"
    },
    {
     "data": {
      "text/plain": [
       "(240, 6)"
      ]
     },
     "metadata": {},
     "output_type": "display_data"
    },
    {
     "name": "stdout",
     "output_type": "stream",
     "text": [
      "250     5\n",
      "251     3\n",
      "252     3\n",
      "253     5\n",
      "254     0\n",
      "       ..\n",
      "4217    0\n",
      "4225    1\n",
      "4226    3\n",
      "4227    5\n",
      "4228    5\n",
      "Name: label, Length: 2762, dtype: int64\n",
      "Real Score: 170.0\n",
      "HI\n",
      "HI\n",
      "HI\n",
      "HI\n",
      "HI\n",
      "\n",
      "model_16\n",
      "SVC(C=0.7217100000000002, probability=True, random_state=75,\n",
      "    tol=0.1729126124222602)\n",
      "['R_win_by_KO/TKO', 'empty_arena', 'R_current_win_streak', 'B_Stance', 'R_age', 'B_Featherweight_rank', 'R_total_title_bouts', 'R_total_rounds_fought', 'Red - KO/TKO', 'R_Pound-for-Pound_rank', \"B_Women's Flyweight_rank\", 'R_Flyweight_rank', 'B_win_by_Decision_Split', 'B_age', 'Red - DEC', 'Blue - SUB', 'gender', 'Red - SUB', 'B_Pound-for-Pound_rank', 'R_draw', 'R_avg_SUB_ATT', 'R_Welterweight_rank', 'B_win_by_KO/TKO', 'R_current_lose_streak', 'B_Height_cms', 'R_longest_win_streak', 'R_win_by_Decision_Unanimous', 'R_avg_TD_pct', \"R_Women's Featherweight_rank\", 'B_Lightweight_rank', 'R_Featherweight_rank', 'R_Light Heavyweight_rank', 'total_title_bout_dif', 'B_win_by_Submission', 'Blue - DEC', 'B_draw', 'B_avg_SIG_STR_pct', 'age_dif', 'avg_sub_att_dif', 'avg_td_dif', 'B_avg_SUB_ATT', \"R_Women's Flyweight_rank\", 'R_wins', 'B_ev', 'R_Weight_lbs', 'sub_dif', 'R_ev']\n",
      "0\n",
      "\n"
     ]
    },
    {
     "data": {
      "text/plain": [
       "(2762, 50)"
      ]
     },
     "metadata": {},
     "output_type": "display_data"
    },
    {
     "data": {
      "text/plain": [
       "(2762,)"
      ]
     },
     "metadata": {},
     "output_type": "display_data"
    },
    {
     "data": {
      "text/plain": [
       "(2762, 6)"
      ]
     },
     "metadata": {},
     "output_type": "display_data"
    },
    {
     "data": {
      "text/plain": [
       "(240, 50)"
      ]
     },
     "metadata": {},
     "output_type": "display_data"
    },
    {
     "data": {
      "text/plain": [
       "(240,)"
      ]
     },
     "metadata": {},
     "output_type": "display_data"
    },
    {
     "data": {
      "text/plain": [
       "(240, 6)"
      ]
     },
     "metadata": {},
     "output_type": "display_data"
    },
    {
     "name": "stdout",
     "output_type": "stream",
     "text": [
      "250     5\n",
      "251     3\n",
      "252     3\n",
      "253     5\n",
      "254     0\n",
      "       ..\n",
      "4217    0\n",
      "4225    1\n",
      "4226    3\n",
      "4227    5\n",
      "4228    5\n",
      "Name: label, Length: 2762, dtype: int64\n",
      "Real Score: 170.0\n",
      "HI\n",
      "HI\n",
      "HI\n",
      "HI\n",
      "HI\n",
      "The original score is -13358.754670991866\n",
      "\n",
      "model_16\n",
      "SVC(C=0.7217100000000002, probability=True, random_state=75,\n",
      "    tol=0.1729126124222602)\n",
      "['R_win_by_KO/TKO', 'empty_arena', 'R_current_win_streak', 'B_Stance', 'R_age', 'B_Featherweight_rank', 'R_total_title_bouts', 'R_total_rounds_fought', 'Red - KO/TKO', 'R_Pound-for-Pound_rank', \"B_Women's Flyweight_rank\", 'R_Flyweight_rank', 'B_win_by_Decision_Split', 'B_age', 'Red - DEC', 'Blue - SUB', 'gender', 'Red - SUB', 'B_Pound-for-Pound_rank', 'R_draw', 'R_avg_SUB_ATT', 'R_Welterweight_rank', 'B_win_by_KO/TKO', 'R_current_lose_streak', 'B_Height_cms', 'R_longest_win_streak', 'R_win_by_Decision_Unanimous', 'R_avg_TD_pct', \"R_Women's Featherweight_rank\", 'B_Lightweight_rank', 'R_Featherweight_rank', 'R_Light Heavyweight_rank', 'total_title_bout_dif', 'B_win_by_Submission', 'Blue - DEC', 'B_draw', 'B_avg_SIG_STR_pct', 'age_dif', 'avg_sub_att_dif', 'avg_td_dif', 'B_avg_SUB_ATT', \"R_Women's Flyweight_rank\", 'R_wins', 'B_ev', 'R_Weight_lbs', 'sub_dif', 'R_ev']\n",
      "0\n",
      "\n"
     ]
    },
    {
     "data": {
      "text/plain": [
       "(2762, 50)"
      ]
     },
     "metadata": {},
     "output_type": "display_data"
    },
    {
     "data": {
      "text/plain": [
       "(2762,)"
      ]
     },
     "metadata": {},
     "output_type": "display_data"
    },
    {
     "data": {
      "text/plain": [
       "(2762, 6)"
      ]
     },
     "metadata": {},
     "output_type": "display_data"
    },
    {
     "data": {
      "text/plain": [
       "(240, 50)"
      ]
     },
     "metadata": {},
     "output_type": "display_data"
    },
    {
     "data": {
      "text/plain": [
       "(240,)"
      ]
     },
     "metadata": {},
     "output_type": "display_data"
    },
    {
     "data": {
      "text/plain": [
       "(240, 6)"
      ]
     },
     "metadata": {},
     "output_type": "display_data"
    },
    {
     "name": "stdout",
     "output_type": "stream",
     "text": [
      "250     5\n",
      "251     3\n",
      "252     3\n",
      "253     5\n",
      "254     0\n",
      "       ..\n",
      "4217    0\n",
      "4225    1\n",
      "4226    3\n",
      "4227    5\n",
      "4228    5\n",
      "Name: label, Length: 2762, dtype: int64\n",
      "Real Score: 170.0\n",
      "HI\n",
      "HI\n",
      "HI\n",
      "HI\n",
      "HI\n"
     ]
    }
   ],
   "source": [
    "for n in range(0,number_of_models):\n",
    "    model_num = n\n",
    "    print()\n",
    "    print()\n",
    "    print(\"OPTIMIZING MODEL \" + str(model_num))\n",
    "    print()\n",
    "    print()\n",
    "    %run \"TM-Optimize-Models MOV.ipynb\""
   ]
  },
  {
   "cell_type": "code",
   "execution_count": null,
   "id": "e5520471",
   "metadata": {},
   "outputs": [],
   "source": []
  }
 ],
 "metadata": {
  "kernelspec": {
   "display_name": "Python 3",
   "language": "python",
   "name": "python3"
  },
  "language_info": {
   "codemirror_mode": {
    "name": "ipython",
    "version": 3
   },
   "file_extension": ".py",
   "mimetype": "text/x-python",
   "name": "python",
   "nbconvert_exporter": "python",
   "pygments_lexer": "ipython3",
   "version": "3.8.8"
  }
 },
 "nbformat": 4,
 "nbformat_minor": 5
}
