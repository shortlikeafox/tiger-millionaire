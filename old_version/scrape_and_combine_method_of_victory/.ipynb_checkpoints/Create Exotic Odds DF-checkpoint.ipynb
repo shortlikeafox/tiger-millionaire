{
 "cells": [
  {
   "cell_type": "markdown",
   "id": "a0a96a9b",
   "metadata": {},
   "source": [
    "# Goal here is to scrape the odds for the exotics (method of victory and over under?)\n",
    "\n",
    "Final DF will have:\n",
    "\n",
    "* r_fighter\n",
    "* b_fighter\n",
    "* date\n",
    "* r_fighter_by_decision_odds\n",
    "* r_fighter_by_KO_odds\n",
    "* r_fighter_by_submission_odds\n",
    "* b_figther_by_decision_odds\n",
    "* b_fighter_by_KO_odds\n",
    "* b_fighter_by_submission_odds"
   ]
  },
  {
   "cell_type": "code",
   "execution_count": 1,
   "id": "cad96d13",
   "metadata": {},
   "outputs": [],
   "source": [
    "import pandas as pd\n",
    "from urllib.request import urlopen\n",
    "from bs4 import BeautifulSoup\n",
    "from datetime import datetime\n",
    "from dateutil.parser import parse\n"
   ]
  },
  {
   "cell_type": "code",
   "execution_count": 10,
   "id": "39620ede",
   "metadata": {},
   "outputs": [],
   "source": [
    "df_links = pd.read_csv('date_link.csv')\n",
    "df = pd.read_csv('../data/kaggle_data/ufc-master.csv')"
   ]
  },
  {
   "cell_type": "code",
   "execution_count": 3,
   "id": "3a04f50c",
   "metadata": {},
   "outputs": [],
   "source": [
    "event_date_list = df_links['date'].tolist()\n",
    "link_list = df_links['link'].tolist()\n"
   ]
  },
  {
   "cell_type": "code",
   "execution_count": 4,
   "id": "7fec2450",
   "metadata": {},
   "outputs": [],
   "source": [
    "r_fighter_list = []\n",
    "b_fighter_list = []\n",
    "date_list = []\n",
    "r_dec_list = []\n",
    "r_ko_list = []\n",
    "r_sub_list = []\n",
    "b_dec_list = []\n",
    "b_ko_list = []\n",
    "b_sub_list = []"
   ]
  },
  {
   "cell_type": "code",
   "execution_count": 5,
   "id": "8198b0e6",
   "metadata": {},
   "outputs": [],
   "source": [
    "d = event_date_list[0]\n",
    "l = link_list[0]"
   ]
  },
  {
   "cell_type": "code",
   "execution_count": 6,
   "id": "2ab72882",
   "metadata": {},
   "outputs": [
    {
     "data": {
      "text/plain": [
       "'/events/ufc-on-espn-the-korean-zombie-vs-ige-2130'"
      ]
     },
     "execution_count": 6,
     "metadata": {},
     "output_type": "execute_result"
    }
   ],
   "source": [
    "l"
   ]
  },
  {
   "cell_type": "code",
   "execution_count": 7,
   "id": "fb93a048",
   "metadata": {},
   "outputs": [],
   "source": [
    "html = urlopen('https://www.bestfightodds.com' + l)"
   ]
  },
  {
   "cell_type": "code",
   "execution_count": 8,
   "id": "30949946",
   "metadata": {},
   "outputs": [],
   "source": [
    "bs = BeautifulSoup(html, 'html.parser')"
   ]
  },
  {
   "cell_type": "code",
   "execution_count": 11,
   "id": "a418bdbd",
   "metadata": {},
   "outputs": [],
   "source": [
    "###Hmmmm.... We have a date.  \n",
    "#We have something to parse\n",
    "df_event = df[df['date']==d]"
   ]
  },
  {
   "cell_type": "code",
   "execution_count": 13,
   "id": "22caa58c",
   "metadata": {},
   "outputs": [],
   "source": [
    "event_b_fighter_list = df_event['B_fighter'].tolist()\n",
    "event_r_fighter_list = df_event['R_fighter'].tolist()"
   ]
  },
  {
   "cell_type": "code",
   "execution_count": 16,
   "id": "3970e1fa",
   "metadata": {},
   "outputs": [],
   "source": [
    "last_name = event_b_fighter_list[0].split(' ')[-1]"
   ]
  },
  {
   "cell_type": "code",
   "execution_count": 17,
   "id": "40b661b3",
   "metadata": {},
   "outputs": [
    {
     "data": {
      "text/plain": [
       "'Ige'"
      ]
     },
     "execution_count": 17,
     "metadata": {},
     "output_type": "execute_result"
    }
   ],
   "source": [
    "last_name"
   ]
  },
  {
   "cell_type": "code",
   "execution_count": 21,
   "id": "e94f4901",
   "metadata": {},
   "outputs": [],
   "source": [
    "all_rows = bs.find_all('tr')"
   ]
  },
  {
   "cell_type": "code",
   "execution_count": 55,
   "id": "78d5ebe6",
   "metadata": {},
   "outputs": [],
   "source": [
    "def return_odds(l_name, rows, phrase):\n",
    "    for r in rows:\n",
    "        if str(r).find(l_name + ' ' + phrase) > -1:\n",
    "            #It's the 2nd one.  Who knows why?\n",
    "            all_cells = r.find_all('td')\n",
    "            if len(all_cells) > 0:\n",
    "                #2 is currently DraftKings,\n",
    "                #10 is Ref\n",
    "                if(len(all_cells[2].get_text().strip()))>2:\n",
    "                    return(all_cells[2].get_text().strip().encode(\"ascii\", \"ignore\").decode())\n",
    "                else:\n",
    "                    return(all_cells[10].get_text().strip().encode(\"ascii\", \"ignore\").decode())"
   ]
  },
  {
   "cell_type": "code",
   "execution_count": null,
   "id": "f544a5c7",
   "metadata": {},
   "outputs": [],
   "source": [
    "count = 0\n",
    "while count < 2:\n",
    "    d = event_date_list.pop(0)\n",
    "    l = link_list.pop(0)\n",
    "    \n",
    "    html = urlopen('https://www.bestfightodds.com' + l)\n",
    "    bs = BeautifulSoup(html, 'html.parser')\n",
    "    df_event = df[df['date']==d]\n",
    "    \n",
    "    event_b_fighter_list = df_event['B_fighter'].tolist()\n",
    "    event_r_fighter_list = df_event['R_fighter'].tolist()\n",
    "    \n",
    "    all_rows = bs.find_all('tr')\n",
    "    \n",
    "    while len(event_b_fighter_list) > 0:\n",
    "        b_fighter = event_b_fighter_list.pop(0)\n",
    "        r_fighter = event_r_fighter_list.pop(0)\n",
    "    \n",
    "    \n",
    "    r_fighter_list\n",
    "    b_fighter_list = []\n",
    "    date_list.append(d)\n",
    "    r_dec_list = []\n",
    "    r_ko_list = []\n",
    "    r_sub_list = []\n",
    "    b_dec_list = []\n",
    "    b_ko_list = []\n",
    "    b_sub_list = []\n",
    "    \n",
    "    count = count + 1"
   ]
  },
  {
   "cell_type": "code",
   "execution_count": 60,
   "id": "ecf4eaa3",
   "metadata": {},
   "outputs": [],
   "source": [
    "debug = False\n",
    "for b_fighter in event_r_fighter_list:\n",
    "    last_name = b_fighter.split(' ')[-1]\n",
    "    dec_odds = (return_odds(last_name, all_rows, 'wins by decision'))\n",
    "    ko_odds = (return_odds(last_name, all_rows, 'wins by TKO/KO'))\n",
    "    sub_odds = (return_odds(last_name, all_rows, 'wins by submission'))\n",
    "    if debug:\n",
    "        if dec_odds is None:\n",
    "            dec_odds = ' '\n",
    "        if sub_odds is None:\n",
    "            sub_odds = ' '\n",
    "        if ko_odds is None:\n",
    "            ko_odds = ' '\n",
    "\n",
    "        print(last_name + \" decision odds \" + dec_odds)\n",
    "        print(last_name + \" sub odds \" + sub_odds)\n",
    "        print(last_name + \" TKO/KO odds \" + ko_odds)\n"
   ]
  },
  {
   "cell_type": "code",
   "execution_count": 28,
   "id": "bb7eb05d",
   "metadata": {},
   "outputs": [
    {
     "name": "stdout",
     "output_type": "stream",
     "text": [
      "<tr class=\"pr\"><th scope=\"row\">Ige wins by decision</th></tr>\n",
      "\n",
      "\n",
      "<tr class=\"pr\"><th scope=\"row\">Ige wins by decision</th><td class=\"but-sgp\" data-li=\"[23,1,22457,11,2]\"><span id=\"oID20224572310112\">+240</span></td><td></td><td class=\"but-sgp\" data-li=\"[22,1,22457,11,2]\"><span id=\"oID20224572210112\">+225</span></td><td class=\"but-sgp\" data-li=\"[24,1,22457,11,2]\"><span id=\"oID20224572410112\">+250</span></td><td></td><td class=\"but-sgp\" data-li=\"[25,1,22457,11,2]\"><span id=\"oID20224572510112\">+225</span></td><td class=\"but-sgp\" data-li=\"[26,1,22457,11,2]\"><span id=\"oID20224572610112\">+225</span></td><td class=\"but-sgp\" data-li=\"[19,1,22457,11,2]\"><span id=\"oID20224571910112\">+210</span><span class=\"ard arage-3\">▼</span></td><td class=\"but-sgp\" data-li=\"[20,1,22457,11,2]\"><span id=\"oID20224572010112\">+240</span></td><td class=\"but-sgp\" data-li=\"[1,1,22457,11,2]\"><span class=\"bestbet\" id=\"oID20224570110112\">+255</span><span class=\"ard arage-3\">▼</span></td><td class=\"but-sgp\" data-li=\"[12,1,22457,11,2]\"><span class=\"bestbet\" id=\"oID20224571210112\">+255</span><span class=\"aru arage-3\">▲</span></td><td class=\"button-cell but-sip\" data-li=\"[1,22457,11,2]\"><svg class=\"svg-i\" focusable=\"false\" preserveaspectratio=\"xMidYMid meet\" viewbox=\"0 0 24 24\"><g><path d=\"M19 3H5c-1.1 0-2 .9-2 2v14c0 1.1.9 2 2 2h14c1.1 0 2-.9 2-2V5c0-1.1-.9-2-2-2zM9 17H7v-7h2v7zm4 0h-2V7h2v10zm4 0h-2v-4h2v4z\"></path></g></svg></td><td class=\"prop-cell\"></td></tr>\n",
      "\n",
      "\n",
      "\n",
      "0 +240\n",
      "\n",
      "1 \n",
      "\n",
      "2 +225\n",
      "\n",
      "3 +250\n",
      "\n",
      "4 \n",
      "\n",
      "5 +225\n",
      "\n",
      "6 +225\n",
      "\n",
      "7 +210▼\n",
      "\n",
      "8 +240\n",
      "\n",
      "9 +255▼\n",
      "\n",
      "10 +255▲\n",
      "\n",
      "11 \n",
      "\n",
      "12 \n"
     ]
    }
   ],
   "source": [
    "for r in all_rows:\n",
    "    if str(r).find(last_name + ' wins by decision') > -1:\n",
    "        all_cells = r.find_all('td')\n",
    "        print(r)\n",
    "        print()\n",
    "        print()\n",
    "        count = 0\n",
    "        for s in all_cells:\n",
    "            print()\n",
    "            print(str(count) + \" \" + s.get_text())\n",
    "            count = count + 1"
   ]
  },
  {
   "cell_type": "code",
   "execution_count": null,
   "id": "81fd0614",
   "metadata": {},
   "outputs": [],
   "source": []
  }
 ],
 "metadata": {
  "kernelspec": {
   "display_name": "Python 3",
   "language": "python",
   "name": "python3"
  },
  "language_info": {
   "codemirror_mode": {
    "name": "ipython",
    "version": 3
   },
   "file_extension": ".py",
   "mimetype": "text/x-python",
   "name": "python",
   "nbconvert_exporter": "python",
   "pygments_lexer": "ipython3",
   "version": "3.8.8"
  }
 },
 "nbformat": 4,
 "nbformat_minor": 5
}
