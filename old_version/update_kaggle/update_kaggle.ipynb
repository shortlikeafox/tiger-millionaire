{
 "cells": [
  {
   "cell_type": "markdown",
   "id": "727bb623",
   "metadata": {},
   "source": [
    "# Updates the UFC Kaggle dataset"
   ]
  },
  {
   "cell_type": "code",
   "execution_count": 1,
   "id": "5377fa75",
   "metadata": {},
   "outputs": [],
   "source": [
    "from kaggle.api.kaggle_api_extended import KaggleApi\n",
    "api = KaggleApi()\n",
    "api.authenticate()\n",
    "import datetime\n"
   ]
  },
  {
   "cell_type": "code",
   "execution_count": 2,
   "id": "85635e9b",
   "metadata": {},
   "outputs": [
    {
     "name": "stdout",
     "output_type": "stream",
     "text": [
      "2021-10-09 12:32:36.904029 Update\n"
     ]
    }
   ],
   "source": [
    "update_name = str(datetime.datetime.now()) + ' Update'\n",
    "\n",
    "print(update_name)"
   ]
  },
  {
   "cell_type": "code",
   "execution_count": 3,
   "id": "95a15e47",
   "metadata": {},
   "outputs": [
    {
     "data": {
      "text/plain": [
       "'../data/kaggle_data/dataset-metadata.json'"
      ]
     },
     "execution_count": 3,
     "metadata": {},
     "output_type": "execute_result"
    }
   ],
   "source": [
    "#In case the metadata changed....\n",
    "api.dataset_metadata('mdabbert/ultimate-ufc-dataset', '../data/kaggle_data/')"
   ]
  },
  {
   "cell_type": "code",
   "execution_count": 4,
   "id": "42856565",
   "metadata": {},
   "outputs": [
    {
     "name": "stderr",
     "output_type": "stream",
     "text": [
      "\r",
      "  0%|                                                                                      | 0.00/6.99k [00:00<?, ?B/s]"
     ]
    },
    {
     "name": "stdout",
     "output_type": "stream",
     "text": [
      "Starting upload for file most-recent-event.csv\n"
     ]
    },
    {
     "name": "stderr",
     "output_type": "stream",
     "text": [
      "100%|█████████████████████████████████████████████████████████████████████████████| 6.99k/6.99k [00:01<00:00, 6.76kB/s]\n",
      "  0%|                                                                                        | 0.00/384 [00:00<?, ?B/s]"
     ]
    },
    {
     "name": "stdout",
     "output_type": "stream",
     "text": [
      "Upload successful: most-recent-event.csv (7KB)\n",
      "Starting upload for file task-dummy.csv\n"
     ]
    },
    {
     "name": "stderr",
     "output_type": "stream",
     "text": [
      "100%|███████████████████████████████████████████████████████████████████████████████████| 384/384 [00:00<00:00, 463B/s]\n",
      " 22%|█████████████████▏                                                            | 488k/2.17M [00:00<00:00, 5.00MB/s]"
     ]
    },
    {
     "name": "stdout",
     "output_type": "stream",
     "text": [
      "Upload successful: task-dummy.csv (384B)\n",
      "Starting upload for file ufc-master.csv\n"
     ]
    },
    {
     "name": "stderr",
     "output_type": "stream",
     "text": [
      "100%|█████████████████████████████████████████████████████████████████████████████| 2.17M/2.17M [00:01<00:00, 2.27MB/s]\n",
      "  0%|                                                                                      | 0.00/6.00k [00:00<?, ?B/s]"
     ]
    },
    {
     "name": "stdout",
     "output_type": "stream",
     "text": [
      "Upload successful: ufc-master.csv (2MB)\n",
      "Starting upload for file upcoming-event.csv\n"
     ]
    },
    {
     "name": "stderr",
     "output_type": "stream",
     "text": [
      "100%|█████████████████████████████████████████████████████████████████████████████| 6.00k/6.00k [00:00<00:00, 8.04kB/s]\n"
     ]
    },
    {
     "name": "stdout",
     "output_type": "stream",
     "text": [
      "Upload successful: upcoming-event.csv (6KB)\n"
     ]
    },
    {
     "data": {
      "text/plain": [
       "https://www.kaggle.com/mdabbert/ultimate-ufc-dataset"
      ]
     },
     "execution_count": 4,
     "metadata": {},
     "output_type": "execute_result"
    }
   ],
   "source": [
    "api.dataset_create_version(folder = '../data/kaggle_data/', version_notes=update_name)"
   ]
  },
  {
   "cell_type": "code",
   "execution_count": 5,
   "id": "5d772d56",
   "metadata": {},
   "outputs": [],
   "source": [
    "#api.dataset_metadata('mdabbert/ultimate-ufc-dataset', '../data/kaggle_data/')"
   ]
  },
  {
   "cell_type": "code",
   "execution_count": null,
   "id": "9c1748d0",
   "metadata": {},
   "outputs": [],
   "source": []
  }
 ],
 "metadata": {
  "kernelspec": {
   "display_name": "Python 3",
   "language": "python",
   "name": "python3"
  },
  "language_info": {
   "codemirror_mode": {
    "name": "ipython",
    "version": 3
   },
   "file_extension": ".py",
   "mimetype": "text/x-python",
   "name": "python",
   "nbconvert_exporter": "python",
   "pygments_lexer": "ipython3",
   "version": "3.8.8"
  }
 },
 "nbformat": 4,
 "nbformat_minor": 5
}
